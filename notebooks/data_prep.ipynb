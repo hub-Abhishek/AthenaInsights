{
 "cells": [
  {
   "cell_type": "code",
   "execution_count": 1,
   "metadata": {
    "tags": []
   },
   "outputs": [],
   "source": [
    "import pandas as pd\n",
    "import numpy as np\n",
    "import warnings\n",
    "from tqdm import tqdm\n",
    "warnings.filterwarnings(\"ignore\")"
   ]
  },
  {
   "cell_type": "code",
   "execution_count": 2,
   "metadata": {},
   "outputs": [],
   "source": [
    "def process_dataset(df, symbol, datasets=None):\n",
    "    df = df[df.symbol==symbol]\n",
    "    if datasets is None:\n",
    "        datasets = {}\n",
    "    for dur in durations:\n",
    "        new_dataset = df.resample(dur).agg({'open': 'first', 'high': 'max', 'low': 'min', 'close': 'last', 'volume': 'sum'})\n",
    "        datasets[dur] = new_dataset.copy()\n",
    "    return datasets"
   ]
  },
  {
   "cell_type": "markdown",
   "metadata": {},
   "source": [
    "### minute level data"
   ]
  },
  {
   "cell_type": "code",
   "execution_count": 3,
   "metadata": {
    "tags": []
   },
   "outputs": [],
   "source": [
    "bucket_loc = 's3://sisyphus-general-bucket/AthenaInsights'"
   ]
  },
  {
   "cell_type": "code",
   "execution_count": 4,
   "metadata": {
    "tags": []
   },
   "outputs": [],
   "source": [
    "# stock_data_day_level_name: stock_bars_day.parquet\n",
    "# stock_bars_hour_level_name: stock_bars_hour.parquet\n",
    "# stock_bars_minute_level_name: stock_bars_minute.parquet"
   ]
  },
  {
   "cell_type": "code",
   "execution_count": 5,
   "metadata": {
    "tags": []
   },
   "outputs": [],
   "source": [
    "df = pd.read_parquet(f'{bucket_loc}/data/parquet/stock_bars_minute.parquet')\n",
    "df['timestamp'] = pd.to_datetime(df['timestamp'])\n",
    "df['us_eastern_timestamp'] = df['timestamp'].dt.tz_convert('US/Eastern')\n",
    "df['us_eastern_timestamp'] = df['us_eastern_timestamp'].dt.tz_localize(None)\n",
    "\n",
    "df['us_eastern_date'] = df.us_eastern_timestamp.dt.date\n",
    "# df['market_open'] = df.us_eastern_timestamp.between('09:30:00', '16:00:00')\n",
    "df['market_open'] = (df.us_eastern_timestamp.dt.time>=pd.to_datetime('09:30:00').time()) & (df.us_eastern_timestamp.dt.time < pd.to_datetime('16:00:00').time())\n",
    "df.set_index('us_eastern_timestamp', inplace=True)"
   ]
  },
  {
   "cell_type": "code",
   "execution_count": 6,
   "metadata": {
    "tags": []
   },
   "outputs": [
    {
     "data": {
      "text/html": [
       "<div>\n",
       "<style scoped>\n",
       "    .dataframe tbody tr th:only-of-type {\n",
       "        vertical-align: middle;\n",
       "    }\n",
       "\n",
       "    .dataframe tbody tr th {\n",
       "        vertical-align: top;\n",
       "    }\n",
       "\n",
       "    .dataframe thead th {\n",
       "        text-align: right;\n",
       "    }\n",
       "</style>\n",
       "<table border=\"1\" class=\"dataframe\">\n",
       "  <thead>\n",
       "    <tr style=\"text-align: right;\">\n",
       "      <th></th>\n",
       "      <th>symbol</th>\n",
       "      <th>timestamp</th>\n",
       "      <th>open</th>\n",
       "      <th>high</th>\n",
       "      <th>low</th>\n",
       "      <th>close</th>\n",
       "      <th>volume</th>\n",
       "      <th>trade_count</th>\n",
       "      <th>vwap</th>\n",
       "      <th>us_eastern_date</th>\n",
       "      <th>market_open</th>\n",
       "    </tr>\n",
       "    <tr>\n",
       "      <th>us_eastern_timestamp</th>\n",
       "      <th></th>\n",
       "      <th></th>\n",
       "      <th></th>\n",
       "      <th></th>\n",
       "      <th></th>\n",
       "      <th></th>\n",
       "      <th></th>\n",
       "      <th></th>\n",
       "      <th></th>\n",
       "      <th></th>\n",
       "      <th></th>\n",
       "    </tr>\n",
       "  </thead>\n",
       "  <tbody>\n",
       "    <tr>\n",
       "      <th>2020-01-02 09:55:00</th>\n",
       "      <td>DAX</td>\n",
       "      <td>2020-01-02 14:55:00+00:00</td>\n",
       "      <td>28.5375</td>\n",
       "      <td>28.5375</td>\n",
       "      <td>28.5375</td>\n",
       "      <td>28.5375</td>\n",
       "      <td>100.0</td>\n",
       "      <td>1.0</td>\n",
       "      <td>28.5375</td>\n",
       "      <td>2020-01-02</td>\n",
       "      <td>True</td>\n",
       "    </tr>\n",
       "    <tr>\n",
       "      <th>2020-01-02 10:55:00</th>\n",
       "      <td>DAX</td>\n",
       "      <td>2020-01-02 15:55:00+00:00</td>\n",
       "      <td>28.4706</td>\n",
       "      <td>28.4706</td>\n",
       "      <td>28.4706</td>\n",
       "      <td>28.4706</td>\n",
       "      <td>438.0</td>\n",
       "      <td>1.0</td>\n",
       "      <td>28.4706</td>\n",
       "      <td>2020-01-02</td>\n",
       "      <td>True</td>\n",
       "    </tr>\n",
       "    <tr>\n",
       "      <th>2020-01-02 10:56:00</th>\n",
       "      <td>DAX</td>\n",
       "      <td>2020-01-02 15:56:00+00:00</td>\n",
       "      <td>28.4050</td>\n",
       "      <td>28.4050</td>\n",
       "      <td>28.4050</td>\n",
       "      <td>28.4050</td>\n",
       "      <td>116.0</td>\n",
       "      <td>2.0</td>\n",
       "      <td>28.4050</td>\n",
       "      <td>2020-01-02</td>\n",
       "      <td>True</td>\n",
       "    </tr>\n",
       "    <tr>\n",
       "      <th>2020-01-02 10:57:00</th>\n",
       "      <td>DAX</td>\n",
       "      <td>2020-01-02 15:57:00+00:00</td>\n",
       "      <td>28.4800</td>\n",
       "      <td>28.4800</td>\n",
       "      <td>28.4600</td>\n",
       "      <td>28.4600</td>\n",
       "      <td>205.0</td>\n",
       "      <td>3.0</td>\n",
       "      <td>28.4700</td>\n",
       "      <td>2020-01-02</td>\n",
       "      <td>True</td>\n",
       "    </tr>\n",
       "    <tr>\n",
       "      <th>2020-01-02 11:11:00</th>\n",
       "      <td>DAX</td>\n",
       "      <td>2020-01-02 16:11:00+00:00</td>\n",
       "      <td>28.6631</td>\n",
       "      <td>28.6631</td>\n",
       "      <td>28.6631</td>\n",
       "      <td>28.6631</td>\n",
       "      <td>100.0</td>\n",
       "      <td>1.0</td>\n",
       "      <td>28.6631</td>\n",
       "      <td>2020-01-02</td>\n",
       "      <td>True</td>\n",
       "    </tr>\n",
       "  </tbody>\n",
       "</table>\n",
       "</div>"
      ],
      "text/plain": [
       "                     symbol                 timestamp     open     high  \\\n",
       "us_eastern_timestamp                                                      \n",
       "2020-01-02 09:55:00     DAX 2020-01-02 14:55:00+00:00  28.5375  28.5375   \n",
       "2020-01-02 10:55:00     DAX 2020-01-02 15:55:00+00:00  28.4706  28.4706   \n",
       "2020-01-02 10:56:00     DAX 2020-01-02 15:56:00+00:00  28.4050  28.4050   \n",
       "2020-01-02 10:57:00     DAX 2020-01-02 15:57:00+00:00  28.4800  28.4800   \n",
       "2020-01-02 11:11:00     DAX 2020-01-02 16:11:00+00:00  28.6631  28.6631   \n",
       "\n",
       "                          low    close  volume  trade_count     vwap  \\\n",
       "us_eastern_timestamp                                                   \n",
       "2020-01-02 09:55:00   28.5375  28.5375   100.0          1.0  28.5375   \n",
       "2020-01-02 10:55:00   28.4706  28.4706   438.0          1.0  28.4706   \n",
       "2020-01-02 10:56:00   28.4050  28.4050   116.0          2.0  28.4050   \n",
       "2020-01-02 10:57:00   28.4600  28.4600   205.0          3.0  28.4700   \n",
       "2020-01-02 11:11:00   28.6631  28.6631   100.0          1.0  28.6631   \n",
       "\n",
       "                     us_eastern_date  market_open  \n",
       "us_eastern_timestamp                               \n",
       "2020-01-02 09:55:00       2020-01-02         True  \n",
       "2020-01-02 10:55:00       2020-01-02         True  \n",
       "2020-01-02 10:56:00       2020-01-02         True  \n",
       "2020-01-02 10:57:00       2020-01-02         True  \n",
       "2020-01-02 11:11:00       2020-01-02         True  "
      ]
     },
     "execution_count": 6,
     "metadata": {},
     "output_type": "execute_result"
    }
   ],
   "source": [
    "df.head()"
   ]
  },
  {
   "cell_type": "code",
   "execution_count": 7,
   "metadata": {
    "tags": []
   },
   "outputs": [],
   "source": [
    "datasets = {}\n",
    "symbol = df.symbol.unique() # 'SPY'\n",
    "durations = ['2min', '3min', '5min', '10min', '15min', '20min', '25min', '30min']\n",
    "for sym in symbol:\n",
    "    datasets[sym] = {}\n",
    "    datasets[sym]['1min'] = df[df.symbol==sym].copy()\n",
    "    datasets[sym] = process_dataset(df, sym, datasets[sym])"
   ]
  },
  {
   "cell_type": "code",
   "execution_count": 8,
   "metadata": {
    "tags": []
   },
   "outputs": [
    {
     "data": {
      "text/plain": [
       "(dict_keys(['DAX', 'DJIA', 'QQQ', 'SPY', 'VIXM']),\n",
       " dict_keys(['1min', '2min', '3min', '5min', '10min', '15min', '20min', '25min', '30min']))"
      ]
     },
     "execution_count": 8,
     "metadata": {},
     "output_type": "execute_result"
    }
   ],
   "source": [
    "datasets.keys(), datasets['SPY'].keys()"
   ]
  },
  {
   "cell_type": "markdown",
   "metadata": {
    "tags": []
   },
   "source": [
    "### hour level data"
   ]
  },
  {
   "cell_type": "code",
   "execution_count": 9,
   "metadata": {
    "tags": []
   },
   "outputs": [],
   "source": [
    "# stock_data_day_level_name: stock_bars_day.parquet\n",
    "# stock_bars_hour_level_name: stock_bars_hour.parquet\n",
    "# stock_bars_minute_level_name: stock_bars_minute.parquet"
   ]
  },
  {
   "cell_type": "code",
   "execution_count": 10,
   "metadata": {
    "tags": []
   },
   "outputs": [],
   "source": [
    "df2 = pd.read_parquet(f'{bucket_loc}/data/parquet/stock_bars_hour.parquet')\n",
    "df2['timestamp'] = pd.to_datetime(df2['timestamp'])\n",
    "df2['us_eastern_timestamp'] = df2['timestamp'].dt.tz_convert('US/Eastern')\n",
    "df2['us_eastern_timestamp'] = df2['us_eastern_timestamp'].dt.tz_localize(None)\n",
    "\n",
    "df2['us_eastern_date'] = df2.us_eastern_timestamp.dt.date\n",
    "# df2['market_open'] = df2.us_eastern_timestamp.between('09:30:00', '16:00:00')\n",
    "df2['market_open'] = (df2.us_eastern_timestamp.dt.time>=pd.to_datetime('09:30:00').time()) & (df2.us_eastern_timestamp.dt.time < pd.to_datetime('16:00:00').time())\n",
    "df2.set_index('us_eastern_timestamp', inplace=True)"
   ]
  },
  {
   "cell_type": "code",
   "execution_count": 11,
   "metadata": {
    "tags": []
   },
   "outputs": [
    {
     "data": {
      "text/html": [
       "<div>\n",
       "<style scoped>\n",
       "    .dataframe tbody tr th:only-of-type {\n",
       "        vertical-align: middle;\n",
       "    }\n",
       "\n",
       "    .dataframe tbody tr th {\n",
       "        vertical-align: top;\n",
       "    }\n",
       "\n",
       "    .dataframe thead th {\n",
       "        text-align: right;\n",
       "    }\n",
       "</style>\n",
       "<table border=\"1\" class=\"dataframe\">\n",
       "  <thead>\n",
       "    <tr style=\"text-align: right;\">\n",
       "      <th></th>\n",
       "      <th>symbol</th>\n",
       "      <th>timestamp</th>\n",
       "      <th>open</th>\n",
       "      <th>high</th>\n",
       "      <th>low</th>\n",
       "      <th>close</th>\n",
       "      <th>volume</th>\n",
       "      <th>trade_count</th>\n",
       "      <th>vwap</th>\n",
       "      <th>us_eastern_date</th>\n",
       "      <th>market_open</th>\n",
       "    </tr>\n",
       "    <tr>\n",
       "      <th>us_eastern_timestamp</th>\n",
       "      <th></th>\n",
       "      <th></th>\n",
       "      <th></th>\n",
       "      <th></th>\n",
       "      <th></th>\n",
       "      <th></th>\n",
       "      <th></th>\n",
       "      <th></th>\n",
       "      <th></th>\n",
       "      <th></th>\n",
       "      <th></th>\n",
       "    </tr>\n",
       "  </thead>\n",
       "  <tbody>\n",
       "    <tr>\n",
       "      <th>2020-01-02 09:00:00</th>\n",
       "      <td>DAX</td>\n",
       "      <td>2020-01-02 14:00:00+00:00</td>\n",
       "      <td>28.5375</td>\n",
       "      <td>28.5375</td>\n",
       "      <td>28.5375</td>\n",
       "      <td>28.5375</td>\n",
       "      <td>100.0</td>\n",
       "      <td>1.0</td>\n",
       "      <td>28.537500</td>\n",
       "      <td>2020-01-02</td>\n",
       "      <td>False</td>\n",
       "    </tr>\n",
       "    <tr>\n",
       "      <th>2020-01-02 10:00:00</th>\n",
       "      <td>DAX</td>\n",
       "      <td>2020-01-02 15:00:00+00:00</td>\n",
       "      <td>28.4706</td>\n",
       "      <td>28.4800</td>\n",
       "      <td>28.4050</td>\n",
       "      <td>28.4600</td>\n",
       "      <td>759.0</td>\n",
       "      <td>6.0</td>\n",
       "      <td>28.461092</td>\n",
       "      <td>2020-01-02</td>\n",
       "      <td>True</td>\n",
       "    </tr>\n",
       "    <tr>\n",
       "      <th>2020-01-02 11:00:00</th>\n",
       "      <td>DAX</td>\n",
       "      <td>2020-01-02 16:00:00+00:00</td>\n",
       "      <td>28.6631</td>\n",
       "      <td>28.6631</td>\n",
       "      <td>28.6631</td>\n",
       "      <td>28.6631</td>\n",
       "      <td>100.0</td>\n",
       "      <td>1.0</td>\n",
       "      <td>28.663100</td>\n",
       "      <td>2020-01-02</td>\n",
       "      <td>True</td>\n",
       "    </tr>\n",
       "    <tr>\n",
       "      <th>2020-01-02 12:00:00</th>\n",
       "      <td>DAX</td>\n",
       "      <td>2020-01-02 17:00:00+00:00</td>\n",
       "      <td>28.4635</td>\n",
       "      <td>28.4635</td>\n",
       "      <td>28.4635</td>\n",
       "      <td>28.4635</td>\n",
       "      <td>349.0</td>\n",
       "      <td>1.0</td>\n",
       "      <td>28.463500</td>\n",
       "      <td>2020-01-02</td>\n",
       "      <td>True</td>\n",
       "    </tr>\n",
       "    <tr>\n",
       "      <th>2020-01-03 09:00:00</th>\n",
       "      <td>DAX</td>\n",
       "      <td>2020-01-03 14:00:00+00:00</td>\n",
       "      <td>27.9800</td>\n",
       "      <td>27.9800</td>\n",
       "      <td>27.9800</td>\n",
       "      <td>27.9800</td>\n",
       "      <td>241.0</td>\n",
       "      <td>6.0</td>\n",
       "      <td>27.980000</td>\n",
       "      <td>2020-01-03</td>\n",
       "      <td>False</td>\n",
       "    </tr>\n",
       "  </tbody>\n",
       "</table>\n",
       "</div>"
      ],
      "text/plain": [
       "                     symbol                 timestamp     open     high  \\\n",
       "us_eastern_timestamp                                                      \n",
       "2020-01-02 09:00:00     DAX 2020-01-02 14:00:00+00:00  28.5375  28.5375   \n",
       "2020-01-02 10:00:00     DAX 2020-01-02 15:00:00+00:00  28.4706  28.4800   \n",
       "2020-01-02 11:00:00     DAX 2020-01-02 16:00:00+00:00  28.6631  28.6631   \n",
       "2020-01-02 12:00:00     DAX 2020-01-02 17:00:00+00:00  28.4635  28.4635   \n",
       "2020-01-03 09:00:00     DAX 2020-01-03 14:00:00+00:00  27.9800  27.9800   \n",
       "\n",
       "                          low    close  volume  trade_count       vwap  \\\n",
       "us_eastern_timestamp                                                     \n",
       "2020-01-02 09:00:00   28.5375  28.5375   100.0          1.0  28.537500   \n",
       "2020-01-02 10:00:00   28.4050  28.4600   759.0          6.0  28.461092   \n",
       "2020-01-02 11:00:00   28.6631  28.6631   100.0          1.0  28.663100   \n",
       "2020-01-02 12:00:00   28.4635  28.4635   349.0          1.0  28.463500   \n",
       "2020-01-03 09:00:00   27.9800  27.9800   241.0          6.0  27.980000   \n",
       "\n",
       "                     us_eastern_date  market_open  \n",
       "us_eastern_timestamp                               \n",
       "2020-01-02 09:00:00       2020-01-02        False  \n",
       "2020-01-02 10:00:00       2020-01-02         True  \n",
       "2020-01-02 11:00:00       2020-01-02         True  \n",
       "2020-01-02 12:00:00       2020-01-02         True  \n",
       "2020-01-03 09:00:00       2020-01-03        False  "
      ]
     },
     "execution_count": 11,
     "metadata": {},
     "output_type": "execute_result"
    }
   ],
   "source": [
    "df2.head()"
   ]
  },
  {
   "cell_type": "code",
   "execution_count": 12,
   "metadata": {
    "tags": []
   },
   "outputs": [],
   "source": [
    "symbol = df2.symbol.unique() # 'SPY'\n",
    "durations = ['120min', '180min', '240min']\n",
    "for sym in symbol:\n",
    "    datasets[sym]['60min'] = df2[df2.symbol==sym].copy()\n",
    "    datasets[sym] = process_dataset(df2, sym, datasets[sym])"
   ]
  },
  {
   "cell_type": "code",
   "execution_count": 13,
   "metadata": {
    "tags": []
   },
   "outputs": [
    {
     "data": {
      "text/plain": [
       "(dict_keys(['DAX', 'DJIA', 'QQQ', 'SPY', 'VIXM']),\n",
       " dict_keys(['1min', '2min', '3min', '5min', '10min', '15min', '20min', '25min', '30min', '60min', '120min', '180min', '240min']))"
      ]
     },
     "execution_count": 13,
     "metadata": {},
     "output_type": "execute_result"
    }
   ],
   "source": [
    "datasets.keys(), datasets['SPY'].keys()"
   ]
  },
  {
   "cell_type": "markdown",
   "metadata": {
    "tags": []
   },
   "source": [
    "### day level data"
   ]
  },
  {
   "cell_type": "code",
   "execution_count": 14,
   "metadata": {
    "tags": []
   },
   "outputs": [],
   "source": [
    "# stock_data_day_level_name: stock_bars_day.parquet\n",
    "# stock_bars_hour_level_name: stock_bars_hour.parquet\n",
    "# stock_bars_minute_level_name: stock_bars_minute.parquet"
   ]
  },
  {
   "cell_type": "code",
   "execution_count": 15,
   "metadata": {
    "tags": []
   },
   "outputs": [],
   "source": [
    "df3 = pd.read_parquet(f'{bucket_loc}/data/parquet/stock_bars_day.parquet')\n",
    "df3['timestamp'] = pd.to_datetime(df3['timestamp'])\n",
    "df3['us_eastern_timestamp'] = df3['timestamp'].dt.tz_convert('US/Eastern')\n",
    "df3['us_eastern_timestamp'] = df3['us_eastern_timestamp'].dt.tz_localize(None)\n",
    "\n",
    "df3['us_eastern_date'] = df3.us_eastern_timestamp.dt.date\n",
    "# df3['market_open'] = df3.us_eastern_timestamp.between('09:30:00', '16:00:00')\n",
    "df3['market_open'] = (df3.us_eastern_timestamp.dt.time>=pd.to_datetime('09:30:00').time()) & (df3.us_eastern_timestamp.dt.time < pd.to_datetime('16:00:00').time())\n",
    "df3.set_index('us_eastern_timestamp', inplace=True)"
   ]
  },
  {
   "cell_type": "code",
   "execution_count": 16,
   "metadata": {
    "tags": []
   },
   "outputs": [
    {
     "data": {
      "text/html": [
       "<div>\n",
       "<style scoped>\n",
       "    .dataframe tbody tr th:only-of-type {\n",
       "        vertical-align: middle;\n",
       "    }\n",
       "\n",
       "    .dataframe tbody tr th {\n",
       "        vertical-align: top;\n",
       "    }\n",
       "\n",
       "    .dataframe thead th {\n",
       "        text-align: right;\n",
       "    }\n",
       "</style>\n",
       "<table border=\"1\" class=\"dataframe\">\n",
       "  <thead>\n",
       "    <tr style=\"text-align: right;\">\n",
       "      <th></th>\n",
       "      <th>symbol</th>\n",
       "      <th>timestamp</th>\n",
       "      <th>open</th>\n",
       "      <th>high</th>\n",
       "      <th>low</th>\n",
       "      <th>close</th>\n",
       "      <th>volume</th>\n",
       "      <th>trade_count</th>\n",
       "      <th>vwap</th>\n",
       "      <th>us_eastern_date</th>\n",
       "      <th>market_open</th>\n",
       "    </tr>\n",
       "    <tr>\n",
       "      <th>us_eastern_timestamp</th>\n",
       "      <th></th>\n",
       "      <th></th>\n",
       "      <th></th>\n",
       "      <th></th>\n",
       "      <th></th>\n",
       "      <th></th>\n",
       "      <th></th>\n",
       "      <th></th>\n",
       "      <th></th>\n",
       "      <th></th>\n",
       "      <th></th>\n",
       "    </tr>\n",
       "  </thead>\n",
       "  <tbody>\n",
       "    <tr>\n",
       "      <th>2020-01-02</th>\n",
       "      <td>DAX</td>\n",
       "      <td>2020-01-02 05:00:00+00:00</td>\n",
       "      <td>28.5375</td>\n",
       "      <td>28.6631</td>\n",
       "      <td>28.4050</td>\n",
       "      <td>28.4635</td>\n",
       "      <td>1596.0</td>\n",
       "      <td>31.0</td>\n",
       "      <td>28.483275</td>\n",
       "      <td>2020-01-02</td>\n",
       "      <td>False</td>\n",
       "    </tr>\n",
       "    <tr>\n",
       "      <th>2020-01-03</th>\n",
       "      <td>DAX</td>\n",
       "      <td>2020-01-03 05:00:00+00:00</td>\n",
       "      <td>27.9800</td>\n",
       "      <td>28.1114</td>\n",
       "      <td>27.9701</td>\n",
       "      <td>27.9900</td>\n",
       "      <td>2848.0</td>\n",
       "      <td>25.0</td>\n",
       "      <td>28.027624</td>\n",
       "      <td>2020-01-03</td>\n",
       "      <td>False</td>\n",
       "    </tr>\n",
       "    <tr>\n",
       "      <th>2020-01-06</th>\n",
       "      <td>DAX</td>\n",
       "      <td>2020-01-06 05:00:00+00:00</td>\n",
       "      <td>27.8000</td>\n",
       "      <td>27.8948</td>\n",
       "      <td>27.8000</td>\n",
       "      <td>27.8948</td>\n",
       "      <td>975.0</td>\n",
       "      <td>15.0</td>\n",
       "      <td>27.825705</td>\n",
       "      <td>2020-01-06</td>\n",
       "      <td>False</td>\n",
       "    </tr>\n",
       "    <tr>\n",
       "      <th>2020-01-07</th>\n",
       "      <td>DAX</td>\n",
       "      <td>2020-01-07 05:00:00+00:00</td>\n",
       "      <td>28.0400</td>\n",
       "      <td>28.0658</td>\n",
       "      <td>28.0400</td>\n",
       "      <td>28.0400</td>\n",
       "      <td>665.0</td>\n",
       "      <td>21.0</td>\n",
       "      <td>28.050874</td>\n",
       "      <td>2020-01-07</td>\n",
       "      <td>False</td>\n",
       "    </tr>\n",
       "    <tr>\n",
       "      <th>2020-01-08</th>\n",
       "      <td>DAX</td>\n",
       "      <td>2020-01-08 05:00:00+00:00</td>\n",
       "      <td>28.1550</td>\n",
       "      <td>28.2122</td>\n",
       "      <td>28.1550</td>\n",
       "      <td>28.2122</td>\n",
       "      <td>1724.0</td>\n",
       "      <td>35.0</td>\n",
       "      <td>28.184157</td>\n",
       "      <td>2020-01-08</td>\n",
       "      <td>False</td>\n",
       "    </tr>\n",
       "  </tbody>\n",
       "</table>\n",
       "</div>"
      ],
      "text/plain": [
       "                     symbol                 timestamp     open     high  \\\n",
       "us_eastern_timestamp                                                      \n",
       "2020-01-02              DAX 2020-01-02 05:00:00+00:00  28.5375  28.6631   \n",
       "2020-01-03              DAX 2020-01-03 05:00:00+00:00  27.9800  28.1114   \n",
       "2020-01-06              DAX 2020-01-06 05:00:00+00:00  27.8000  27.8948   \n",
       "2020-01-07              DAX 2020-01-07 05:00:00+00:00  28.0400  28.0658   \n",
       "2020-01-08              DAX 2020-01-08 05:00:00+00:00  28.1550  28.2122   \n",
       "\n",
       "                          low    close  volume  trade_count       vwap  \\\n",
       "us_eastern_timestamp                                                     \n",
       "2020-01-02            28.4050  28.4635  1596.0         31.0  28.483275   \n",
       "2020-01-03            27.9701  27.9900  2848.0         25.0  28.027624   \n",
       "2020-01-06            27.8000  27.8948   975.0         15.0  27.825705   \n",
       "2020-01-07            28.0400  28.0400   665.0         21.0  28.050874   \n",
       "2020-01-08            28.1550  28.2122  1724.0         35.0  28.184157   \n",
       "\n",
       "                     us_eastern_date  market_open  \n",
       "us_eastern_timestamp                               \n",
       "2020-01-02                2020-01-02        False  \n",
       "2020-01-03                2020-01-03        False  \n",
       "2020-01-06                2020-01-06        False  \n",
       "2020-01-07                2020-01-07        False  \n",
       "2020-01-08                2020-01-08        False  "
      ]
     },
     "execution_count": 16,
     "metadata": {},
     "output_type": "execute_result"
    }
   ],
   "source": [
    "df3.head()"
   ]
  },
  {
   "cell_type": "code",
   "execution_count": 17,
   "metadata": {
    "tags": []
   },
   "outputs": [],
   "source": [
    "symbol = df3.symbol.unique() # 'SPY'\n",
    "durations = ['2D', '3D', '5D', '10D', '15D', '20D', '30D', '50D', '100D', '150D', '200D']\n",
    "for sym in symbol:\n",
    "    datasets[sym]['1D'] = df3[df3.symbol==sym].copy()\n",
    "    datasets[sym] = process_dataset(df3, sym, datasets[sym])"
   ]
  },
  {
   "cell_type": "code",
   "execution_count": 18,
   "metadata": {
    "tags": []
   },
   "outputs": [
    {
     "data": {
      "text/html": [
       "<div>\n",
       "<style scoped>\n",
       "    .dataframe tbody tr th:only-of-type {\n",
       "        vertical-align: middle;\n",
       "    }\n",
       "\n",
       "    .dataframe tbody tr th {\n",
       "        vertical-align: top;\n",
       "    }\n",
       "\n",
       "    .dataframe thead th {\n",
       "        text-align: right;\n",
       "    }\n",
       "</style>\n",
       "<table border=\"1\" class=\"dataframe\">\n",
       "  <thead>\n",
       "    <tr style=\"text-align: right;\">\n",
       "      <th></th>\n",
       "      <th>symbol</th>\n",
       "      <th>timestamp</th>\n",
       "      <th>open</th>\n",
       "      <th>high</th>\n",
       "      <th>low</th>\n",
       "      <th>close</th>\n",
       "      <th>volume</th>\n",
       "      <th>trade_count</th>\n",
       "      <th>vwap</th>\n",
       "      <th>us_eastern_date</th>\n",
       "      <th>market_open</th>\n",
       "    </tr>\n",
       "    <tr>\n",
       "      <th>us_eastern_timestamp</th>\n",
       "      <th></th>\n",
       "      <th></th>\n",
       "      <th></th>\n",
       "      <th></th>\n",
       "      <th></th>\n",
       "      <th></th>\n",
       "      <th></th>\n",
       "      <th></th>\n",
       "      <th></th>\n",
       "      <th></th>\n",
       "      <th></th>\n",
       "    </tr>\n",
       "  </thead>\n",
       "  <tbody>\n",
       "    <tr>\n",
       "      <th>2024-11-11 13:00:00</th>\n",
       "      <td>SPY</td>\n",
       "      <td>2024-11-11 18:00:00+00:00</td>\n",
       "      <td>598.21</td>\n",
       "      <td>598.64</td>\n",
       "      <td>597.0000</td>\n",
       "      <td>598.2300</td>\n",
       "      <td>3361586.0</td>\n",
       "      <td>45160.0</td>\n",
       "      <td>597.773751</td>\n",
       "      <td>2024-11-11</td>\n",
       "      <td>True</td>\n",
       "    </tr>\n",
       "    <tr>\n",
       "      <th>2024-11-11 14:00:00</th>\n",
       "      <td>SPY</td>\n",
       "      <td>2024-11-11 19:00:00+00:00</td>\n",
       "      <td>598.24</td>\n",
       "      <td>598.41</td>\n",
       "      <td>598.0000</td>\n",
       "      <td>598.2885</td>\n",
       "      <td>2356680.0</td>\n",
       "      <td>28995.0</td>\n",
       "      <td>598.197857</td>\n",
       "      <td>2024-11-11</td>\n",
       "      <td>True</td>\n",
       "    </tr>\n",
       "    <tr>\n",
       "      <th>2024-11-11 15:00:00</th>\n",
       "      <td>SPY</td>\n",
       "      <td>2024-11-11 20:00:00+00:00</td>\n",
       "      <td>598.29</td>\n",
       "      <td>598.84</td>\n",
       "      <td>597.9800</td>\n",
       "      <td>598.7200</td>\n",
       "      <td>8978604.0</td>\n",
       "      <td>64345.0</td>\n",
       "      <td>598.348699</td>\n",
       "      <td>2024-11-11</td>\n",
       "      <td>True</td>\n",
       "    </tr>\n",
       "    <tr>\n",
       "      <th>2024-11-11 16:00:00</th>\n",
       "      <td>SPY</td>\n",
       "      <td>2024-11-11 21:00:00+00:00</td>\n",
       "      <td>598.73</td>\n",
       "      <td>598.81</td>\n",
       "      <td>597.8633</td>\n",
       "      <td>598.3800</td>\n",
       "      <td>6479844.0</td>\n",
       "      <td>5126.0</td>\n",
       "      <td>598.685855</td>\n",
       "      <td>2024-11-11</td>\n",
       "      <td>False</td>\n",
       "    </tr>\n",
       "    <tr>\n",
       "      <th>2024-11-11 17:00:00</th>\n",
       "      <td>SPY</td>\n",
       "      <td>2024-11-11 22:00:00+00:00</td>\n",
       "      <td>598.37</td>\n",
       "      <td>598.76</td>\n",
       "      <td>598.2000</td>\n",
       "      <td>598.2300</td>\n",
       "      <td>508368.0</td>\n",
       "      <td>787.0</td>\n",
       "      <td>598.685432</td>\n",
       "      <td>2024-11-11</td>\n",
       "      <td>False</td>\n",
       "    </tr>\n",
       "  </tbody>\n",
       "</table>\n",
       "</div>"
      ],
      "text/plain": [
       "                     symbol                 timestamp    open    high  \\\n",
       "us_eastern_timestamp                                                    \n",
       "2024-11-11 13:00:00     SPY 2024-11-11 18:00:00+00:00  598.21  598.64   \n",
       "2024-11-11 14:00:00     SPY 2024-11-11 19:00:00+00:00  598.24  598.41   \n",
       "2024-11-11 15:00:00     SPY 2024-11-11 20:00:00+00:00  598.29  598.84   \n",
       "2024-11-11 16:00:00     SPY 2024-11-11 21:00:00+00:00  598.73  598.81   \n",
       "2024-11-11 17:00:00     SPY 2024-11-11 22:00:00+00:00  598.37  598.76   \n",
       "\n",
       "                           low     close     volume  trade_count        vwap  \\\n",
       "us_eastern_timestamp                                                           \n",
       "2024-11-11 13:00:00   597.0000  598.2300  3361586.0      45160.0  597.773751   \n",
       "2024-11-11 14:00:00   598.0000  598.2885  2356680.0      28995.0  598.197857   \n",
       "2024-11-11 15:00:00   597.9800  598.7200  8978604.0      64345.0  598.348699   \n",
       "2024-11-11 16:00:00   597.8633  598.3800  6479844.0       5126.0  598.685855   \n",
       "2024-11-11 17:00:00   598.2000  598.2300   508368.0        787.0  598.685432   \n",
       "\n",
       "                     us_eastern_date  market_open  \n",
       "us_eastern_timestamp                               \n",
       "2024-11-11 13:00:00       2024-11-11         True  \n",
       "2024-11-11 14:00:00       2024-11-11         True  \n",
       "2024-11-11 15:00:00       2024-11-11         True  \n",
       "2024-11-11 16:00:00       2024-11-11        False  \n",
       "2024-11-11 17:00:00       2024-11-11        False  "
      ]
     },
     "execution_count": 18,
     "metadata": {},
     "output_type": "execute_result"
    }
   ],
   "source": [
    "df2[df2.symbol=='SPY'].tail()"
   ]
  },
  {
   "cell_type": "markdown",
   "metadata": {
    "tags": []
   },
   "source": [
    "### writing out to s3"
   ]
  },
  {
   "cell_type": "code",
   "execution_count": 19,
   "metadata": {
    "tags": []
   },
   "outputs": [
    {
     "name": "stdout",
     "output_type": "stream",
     "text": [
      "{'180min', '2min', '10min', '60min', '1min', '15D', '30D', '15min', '20min', '50D', '150D', '100D', '30min', '120min', '25min', '3D', '3min', '10D', '20D', '5D', '240min', '5min', '1D', '2D', '200D'}\n"
     ]
    }
   ],
   "source": [
    "all_durations = []\n",
    "for sym in datasets.keys():\n",
    "    for dur in datasets[sym].keys():\n",
    "        all_durations.append(dur)\n",
    "all_durations = set(all_durations)\n",
    "print(all_durations)"
   ]
  },
  {
   "cell_type": "code",
   "execution_count": 20,
   "metadata": {
    "tags": []
   },
   "outputs": [],
   "source": [
    "for dur in all_durations:\n",
    "    dur_df = pd.DataFrame()\n",
    "    for sym in datasets.keys():\n",
    "        if dur in datasets[sym].keys():\n",
    "            dur_df = pd.concat([dur_df, datasets[sym][dur].assign(symbol=sym)])\n",
    "    dur_df.to_parquet(f'{bucket_loc}/data/data_prep/stock_bars_{dur}.parquet')"
   ]
  },
  {
   "cell_type": "code",
   "execution_count": null,
   "metadata": {
    "tags": []
   },
   "outputs": [],
   "source": []
  },
  {
   "cell_type": "markdown",
   "metadata": {},
   "source": [
    "### testing"
   ]
  },
  {
   "cell_type": "code",
   "execution_count": 21,
   "metadata": {
    "tags": []
   },
   "outputs": [],
   "source": [
    "date_f = '2024-11-04'"
   ]
  },
  {
   "cell_type": "code",
   "execution_count": 22,
   "metadata": {
    "tags": []
   },
   "outputs": [
    {
     "ename": "NameError",
     "evalue": "name 'x' is not defined",
     "output_type": "error",
     "traceback": [
      "\u001b[0;31m---------------------------------------------------------------------------\u001b[0m",
      "\u001b[0;31mNameError\u001b[0m                                 Traceback (most recent call last)",
      "Cell \u001b[0;32mIn[22], line 2\u001b[0m\n\u001b[1;32m      1\u001b[0m \u001b[38;5;66;03m# x = df[df.symbol=='SPY'].reset_index()\u001b[39;00m\n\u001b[0;32m----> 2\u001b[0m \u001b[43mx\u001b[49m[(x\u001b[38;5;241m.\u001b[39mtimestamp\u001b[38;5;241m>\u001b[39m\u001b[38;5;241m=\u001b[39mpd\u001b[38;5;241m.\u001b[39mto_datetime(\u001b[38;5;124mf\u001b[39m\u001b[38;5;124m'\u001b[39m\u001b[38;5;124m2024-11-04 00:00:00+00:00\u001b[39m\u001b[38;5;124m'\u001b[39m))\u001b[38;5;241m&\u001b[39m(x\u001b[38;5;241m.\u001b[39mtimestamp\u001b[38;5;241m<\u001b[39mpd\u001b[38;5;241m.\u001b[39mto_datetime(\u001b[38;5;124mf\u001b[39m\u001b[38;5;124m'\u001b[39m\u001b[38;5;124m2024-11-04 23:00:000+00:00\u001b[39m\u001b[38;5;124m'\u001b[39m))]\u001b[38;5;241m.\u001b[39mtrade_count\u001b[38;5;241m.\u001b[39msum()\n\u001b[1;32m      3\u001b[0m x[(x\u001b[38;5;241m.\u001b[39mus_eastern_timestamp\u001b[38;5;241m>\u001b[39m\u001b[38;5;241m=\u001b[39mpd\u001b[38;5;241m.\u001b[39mto_datetime(\u001b[38;5;124mf\u001b[39m\u001b[38;5;124m'\u001b[39m\u001b[38;5;124m2024-11-04 00:00:00\u001b[39m\u001b[38;5;124m'\u001b[39m))\u001b[38;5;241m&\u001b[39m(x\u001b[38;5;241m.\u001b[39mus_eastern_timestamp\u001b[38;5;241m<\u001b[39mpd\u001b[38;5;241m.\u001b[39mto_datetime(\u001b[38;5;124mf\u001b[39m\u001b[38;5;124m'\u001b[39m\u001b[38;5;124m2024-11-04 23:00:00\u001b[39m\u001b[38;5;124m'\u001b[39m))]\u001b[38;5;66;03m#.trade_count.sum()\u001b[39;00m\n",
      "\u001b[0;31mNameError\u001b[0m: name 'x' is not defined"
     ]
    }
   ],
   "source": [
    "# x = df[df.symbol=='SPY'].reset_index()\n",
    "x[(x.timestamp>=pd.to_datetime(f'2024-11-04 00:00:00+00:00'))&(x.timestamp<pd.to_datetime(f'2024-11-04 23:00:000+00:00'))].trade_count.sum()\n",
    "x[(x.us_eastern_timestamp>=pd.to_datetime(f'2024-11-04 00:00:00'))&(x.us_eastern_timestamp<pd.to_datetime(f'2024-11-04 23:00:00'))]#.trade_count.sum()"
   ]
  },
  {
   "cell_type": "code",
   "execution_count": null,
   "metadata": {
    "tags": []
   },
   "outputs": [],
   "source": [
    "y = df2[df2.symbol=='SPY']\n",
    "y[y.us_eastern_date==pd.to_datetime(date_f)]"
   ]
  },
  {
   "cell_type": "code",
   "execution_count": null,
   "metadata": {
    "tags": []
   },
   "outputs": [],
   "source": [
    "z = df3[df3.symbol=='SPY']\n",
    "z[z.us_eastern_date==pd.to_datetime(date_f)]"
   ]
  },
  {
   "cell_type": "code",
   "execution_count": null,
   "metadata": {},
   "outputs": [],
   "source": [
    "# "
   ]
  },
  {
   "cell_type": "code",
   "execution_count": null,
   "metadata": {},
   "outputs": [],
   "source": []
  }
 ],
 "metadata": {
  "kernelspec": {
   "display_name": "conda_python3",
   "language": "python",
   "name": "conda_python3"
  },
  "language_info": {
   "codemirror_mode": {
    "name": "ipython",
    "version": 3
   },
   "file_extension": ".py",
   "mimetype": "text/x-python",
   "name": "python",
   "nbconvert_exporter": "python",
   "pygments_lexer": "ipython3",
   "version": "3.10.15"
  }
 },
 "nbformat": 4,
 "nbformat_minor": 4
}
