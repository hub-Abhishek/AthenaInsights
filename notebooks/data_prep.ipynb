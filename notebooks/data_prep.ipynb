{
 "cells": [
  {
   "cell_type": "code",
   "execution_count": 1,
   "metadata": {
    "tags": []
   },
   "outputs": [],
   "source": [
    "import pandas as pd\n",
    "import numpy as np\n",
    "import warnings\n",
    "from tqdm import tqdm\n",
    "warnings.filterwarnings(\"ignore\")"
   ]
  },
  {
   "cell_type": "code",
   "execution_count": 2,
   "metadata": {},
   "outputs": [],
   "source": [
    "def process_dataset(df, symbol, datasets=None):\n",
    "    df = df[df.symbol==symbol]\n",
    "    if datasets is None:\n",
    "        datasets = {}\n",
    "    for dur in durations:\n",
    "        new_dataset = df.resample(dur).agg({'open': 'first', 'high': 'max', 'low': 'min', 'close': 'last', 'volume': 'sum'})\n",
    "        datasets[dur] = new_dataset.copy()\n",
    "    return datasets"
   ]
  },
  {
   "cell_type": "markdown",
   "metadata": {},
   "source": [
    "### minute level data"
   ]
  },
  {
   "cell_type": "code",
   "execution_count": 3,
   "metadata": {
    "tags": []
   },
   "outputs": [],
   "source": [
    "bucket_loc = 's3://sisyphus-general-bucket/AthenaInsights'"
   ]
  },
  {
   "cell_type": "code",
   "execution_count": 4,
   "metadata": {
    "tags": []
   },
   "outputs": [],
   "source": [
    "# stock_data_day_level_name: stock_bars_day.parquet\n",
    "# stock_bars_hour_level_name: stock_bars_hour.parquet\n",
    "# stock_bars_minute_level_name: stock_bars_minute.parquet"
   ]
  },
  {
   "cell_type": "code",
   "execution_count": 5,
   "metadata": {
    "tags": []
   },
   "outputs": [],
   "source": [
    "df = pd.read_parquet(f'{bucket_loc}/data/parquet/stock_bars_minute.parquet')\n",
    "df['timestamp'] = pd.to_datetime(df['timestamp'])\n",
    "df['us_eastern_timestamp'] = df['timestamp'].dt.tz_convert('US/Eastern')\n",
    "df['us_eastern_date'] = df.us_eastern_timestamp.dt.date\n",
    "df['market_open'] = df.us_eastern_timestamp.between('09:30:00', '16:00:00')\n",
    "df.set_index('us_eastern_timestamp', inplace=True)"
   ]
  },
  {
   "cell_type": "code",
   "execution_count": 6,
   "metadata": {
    "tags": []
   },
   "outputs": [
    {
     "data": {
      "text/html": [
       "<div>\n",
       "<style scoped>\n",
       "    .dataframe tbody tr th:only-of-type {\n",
       "        vertical-align: middle;\n",
       "    }\n",
       "\n",
       "    .dataframe tbody tr th {\n",
       "        vertical-align: top;\n",
       "    }\n",
       "\n",
       "    .dataframe thead th {\n",
       "        text-align: right;\n",
       "    }\n",
       "</style>\n",
       "<table border=\"1\" class=\"dataframe\">\n",
       "  <thead>\n",
       "    <tr style=\"text-align: right;\">\n",
       "      <th></th>\n",
       "      <th>symbol</th>\n",
       "      <th>timestamp</th>\n",
       "      <th>open</th>\n",
       "      <th>high</th>\n",
       "      <th>low</th>\n",
       "      <th>close</th>\n",
       "      <th>volume</th>\n",
       "      <th>trade_count</th>\n",
       "      <th>vwap</th>\n",
       "      <th>us_eastern_date</th>\n",
       "      <th>market_open</th>\n",
       "    </tr>\n",
       "    <tr>\n",
       "      <th>us_eastern_timestamp</th>\n",
       "      <th></th>\n",
       "      <th></th>\n",
       "      <th></th>\n",
       "      <th></th>\n",
       "      <th></th>\n",
       "      <th></th>\n",
       "      <th></th>\n",
       "      <th></th>\n",
       "      <th></th>\n",
       "      <th></th>\n",
       "      <th></th>\n",
       "    </tr>\n",
       "  </thead>\n",
       "  <tbody>\n",
       "    <tr>\n",
       "      <th>2020-01-02 09:55:00-05:00</th>\n",
       "      <td>DAX</td>\n",
       "      <td>2020-01-02 14:55:00+00:00</td>\n",
       "      <td>28.5375</td>\n",
       "      <td>28.5375</td>\n",
       "      <td>28.5375</td>\n",
       "      <td>28.5375</td>\n",
       "      <td>100.0</td>\n",
       "      <td>1.0</td>\n",
       "      <td>28.5375</td>\n",
       "      <td>2020-01-02</td>\n",
       "      <td>False</td>\n",
       "    </tr>\n",
       "    <tr>\n",
       "      <th>2020-01-02 10:55:00-05:00</th>\n",
       "      <td>DAX</td>\n",
       "      <td>2020-01-02 15:55:00+00:00</td>\n",
       "      <td>28.4706</td>\n",
       "      <td>28.4706</td>\n",
       "      <td>28.4706</td>\n",
       "      <td>28.4706</td>\n",
       "      <td>438.0</td>\n",
       "      <td>1.0</td>\n",
       "      <td>28.4706</td>\n",
       "      <td>2020-01-02</td>\n",
       "      <td>False</td>\n",
       "    </tr>\n",
       "    <tr>\n",
       "      <th>2020-01-02 10:56:00-05:00</th>\n",
       "      <td>DAX</td>\n",
       "      <td>2020-01-02 15:56:00+00:00</td>\n",
       "      <td>28.4050</td>\n",
       "      <td>28.4050</td>\n",
       "      <td>28.4050</td>\n",
       "      <td>28.4050</td>\n",
       "      <td>116.0</td>\n",
       "      <td>2.0</td>\n",
       "      <td>28.4050</td>\n",
       "      <td>2020-01-02</td>\n",
       "      <td>False</td>\n",
       "    </tr>\n",
       "    <tr>\n",
       "      <th>2020-01-02 10:57:00-05:00</th>\n",
       "      <td>DAX</td>\n",
       "      <td>2020-01-02 15:57:00+00:00</td>\n",
       "      <td>28.4800</td>\n",
       "      <td>28.4800</td>\n",
       "      <td>28.4600</td>\n",
       "      <td>28.4600</td>\n",
       "      <td>205.0</td>\n",
       "      <td>3.0</td>\n",
       "      <td>28.4700</td>\n",
       "      <td>2020-01-02</td>\n",
       "      <td>False</td>\n",
       "    </tr>\n",
       "    <tr>\n",
       "      <th>2020-01-02 11:11:00-05:00</th>\n",
       "      <td>DAX</td>\n",
       "      <td>2020-01-02 16:11:00+00:00</td>\n",
       "      <td>28.6631</td>\n",
       "      <td>28.6631</td>\n",
       "      <td>28.6631</td>\n",
       "      <td>28.6631</td>\n",
       "      <td>100.0</td>\n",
       "      <td>1.0</td>\n",
       "      <td>28.6631</td>\n",
       "      <td>2020-01-02</td>\n",
       "      <td>False</td>\n",
       "    </tr>\n",
       "  </tbody>\n",
       "</table>\n",
       "</div>"
      ],
      "text/plain": [
       "                          symbol                 timestamp     open     high  \\\n",
       "us_eastern_timestamp                                                           \n",
       "2020-01-02 09:55:00-05:00    DAX 2020-01-02 14:55:00+00:00  28.5375  28.5375   \n",
       "2020-01-02 10:55:00-05:00    DAX 2020-01-02 15:55:00+00:00  28.4706  28.4706   \n",
       "2020-01-02 10:56:00-05:00    DAX 2020-01-02 15:56:00+00:00  28.4050  28.4050   \n",
       "2020-01-02 10:57:00-05:00    DAX 2020-01-02 15:57:00+00:00  28.4800  28.4800   \n",
       "2020-01-02 11:11:00-05:00    DAX 2020-01-02 16:11:00+00:00  28.6631  28.6631   \n",
       "\n",
       "                               low    close  volume  trade_count     vwap  \\\n",
       "us_eastern_timestamp                                                        \n",
       "2020-01-02 09:55:00-05:00  28.5375  28.5375   100.0          1.0  28.5375   \n",
       "2020-01-02 10:55:00-05:00  28.4706  28.4706   438.0          1.0  28.4706   \n",
       "2020-01-02 10:56:00-05:00  28.4050  28.4050   116.0          2.0  28.4050   \n",
       "2020-01-02 10:57:00-05:00  28.4600  28.4600   205.0          3.0  28.4700   \n",
       "2020-01-02 11:11:00-05:00  28.6631  28.6631   100.0          1.0  28.6631   \n",
       "\n",
       "                          us_eastern_date  market_open  \n",
       "us_eastern_timestamp                                    \n",
       "2020-01-02 09:55:00-05:00      2020-01-02        False  \n",
       "2020-01-02 10:55:00-05:00      2020-01-02        False  \n",
       "2020-01-02 10:56:00-05:00      2020-01-02        False  \n",
       "2020-01-02 10:57:00-05:00      2020-01-02        False  \n",
       "2020-01-02 11:11:00-05:00      2020-01-02        False  "
      ]
     },
     "execution_count": 6,
     "metadata": {},
     "output_type": "execute_result"
    }
   ],
   "source": [
    "df.head()"
   ]
  },
  {
   "cell_type": "code",
   "execution_count": 7,
   "metadata": {
    "tags": []
   },
   "outputs": [],
   "source": [
    "datasets = {}\n",
    "symbol = df.symbol.unique() # 'SPY'\n",
    "durations = ['2min', '3min', '5min', '10min', '15min', '20min', '25min', '30min']\n",
    "for sym in symbol:\n",
    "    datasets[sym] = {}\n",
    "    datasets[sym]['1min'] = df[df.symbol==sym].copy()\n",
    "    datasets[sym] = process_dataset(df, sym, datasets[sym])"
   ]
  },
  {
   "cell_type": "code",
   "execution_count": 8,
   "metadata": {
    "tags": []
   },
   "outputs": [
    {
     "data": {
      "text/plain": [
       "(dict_keys(['DAX', 'DJIA', 'QQQ', 'SPY', 'VIXM']),\n",
       " dict_keys(['1min', '2min', '3min', '5min', '10min', '15min', '20min', '25min', '30min']))"
      ]
     },
     "execution_count": 8,
     "metadata": {},
     "output_type": "execute_result"
    }
   ],
   "source": [
    "datasets.keys(), datasets['SPY'].keys()"
   ]
  },
  {
   "cell_type": "markdown",
   "metadata": {},
   "source": [
    "### hour level data"
   ]
  },
  {
   "cell_type": "code",
   "execution_count": 9,
   "metadata": {
    "tags": []
   },
   "outputs": [],
   "source": [
    "# stock_data_day_level_name: stock_bars_day.parquet\n",
    "# stock_bars_hour_level_name: stock_bars_hour.parquet\n",
    "# stock_bars_minute_level_name: stock_bars_minute.parquet"
   ]
  },
  {
   "cell_type": "code",
   "execution_count": 10,
   "metadata": {
    "tags": []
   },
   "outputs": [],
   "source": [
    "df2 = pd.read_parquet(f'{bucket_loc}/data/parquet/stock_bars_hour.parquet')\n",
    "df2['timestamp'] = pd.to_datetime(df2['timestamp'])\n",
    "df2['us_eastern_timestamp'] = df2['timestamp'].dt.tz_convert('US/Eastern')\n",
    "df2['us_eastern_date'] = df2.us_eastern_timestamp.dt.date\n",
    "df2['market_open'] = df2.us_eastern_timestamp.between('09:30:00', '16:00:00')\n",
    "df2.set_index('us_eastern_timestamp', inplace=True)"
   ]
  },
  {
   "cell_type": "code",
   "execution_count": 11,
   "metadata": {
    "tags": []
   },
   "outputs": [
    {
     "data": {
      "text/html": [
       "<div>\n",
       "<style scoped>\n",
       "    .dataframe tbody tr th:only-of-type {\n",
       "        vertical-align: middle;\n",
       "    }\n",
       "\n",
       "    .dataframe tbody tr th {\n",
       "        vertical-align: top;\n",
       "    }\n",
       "\n",
       "    .dataframe thead th {\n",
       "        text-align: right;\n",
       "    }\n",
       "</style>\n",
       "<table border=\"1\" class=\"dataframe\">\n",
       "  <thead>\n",
       "    <tr style=\"text-align: right;\">\n",
       "      <th></th>\n",
       "      <th>symbol</th>\n",
       "      <th>timestamp</th>\n",
       "      <th>open</th>\n",
       "      <th>high</th>\n",
       "      <th>low</th>\n",
       "      <th>close</th>\n",
       "      <th>volume</th>\n",
       "      <th>trade_count</th>\n",
       "      <th>vwap</th>\n",
       "      <th>us_eastern_date</th>\n",
       "      <th>market_open</th>\n",
       "    </tr>\n",
       "    <tr>\n",
       "      <th>us_eastern_timestamp</th>\n",
       "      <th></th>\n",
       "      <th></th>\n",
       "      <th></th>\n",
       "      <th></th>\n",
       "      <th></th>\n",
       "      <th></th>\n",
       "      <th></th>\n",
       "      <th></th>\n",
       "      <th></th>\n",
       "      <th></th>\n",
       "      <th></th>\n",
       "    </tr>\n",
       "  </thead>\n",
       "  <tbody>\n",
       "    <tr>\n",
       "      <th>2020-01-02 09:00:00-05:00</th>\n",
       "      <td>DAX</td>\n",
       "      <td>2020-01-02 14:00:00+00:00</td>\n",
       "      <td>28.5375</td>\n",
       "      <td>28.5375</td>\n",
       "      <td>28.5375</td>\n",
       "      <td>28.5375</td>\n",
       "      <td>100.0</td>\n",
       "      <td>1.0</td>\n",
       "      <td>28.537500</td>\n",
       "      <td>2020-01-02</td>\n",
       "      <td>False</td>\n",
       "    </tr>\n",
       "    <tr>\n",
       "      <th>2020-01-02 10:00:00-05:00</th>\n",
       "      <td>DAX</td>\n",
       "      <td>2020-01-02 15:00:00+00:00</td>\n",
       "      <td>28.4706</td>\n",
       "      <td>28.4800</td>\n",
       "      <td>28.4050</td>\n",
       "      <td>28.4600</td>\n",
       "      <td>759.0</td>\n",
       "      <td>6.0</td>\n",
       "      <td>28.461092</td>\n",
       "      <td>2020-01-02</td>\n",
       "      <td>False</td>\n",
       "    </tr>\n",
       "    <tr>\n",
       "      <th>2020-01-02 11:00:00-05:00</th>\n",
       "      <td>DAX</td>\n",
       "      <td>2020-01-02 16:00:00+00:00</td>\n",
       "      <td>28.6631</td>\n",
       "      <td>28.6631</td>\n",
       "      <td>28.6631</td>\n",
       "      <td>28.6631</td>\n",
       "      <td>100.0</td>\n",
       "      <td>1.0</td>\n",
       "      <td>28.663100</td>\n",
       "      <td>2020-01-02</td>\n",
       "      <td>False</td>\n",
       "    </tr>\n",
       "    <tr>\n",
       "      <th>2020-01-02 12:00:00-05:00</th>\n",
       "      <td>DAX</td>\n",
       "      <td>2020-01-02 17:00:00+00:00</td>\n",
       "      <td>28.4635</td>\n",
       "      <td>28.4635</td>\n",
       "      <td>28.4635</td>\n",
       "      <td>28.4635</td>\n",
       "      <td>349.0</td>\n",
       "      <td>1.0</td>\n",
       "      <td>28.463500</td>\n",
       "      <td>2020-01-02</td>\n",
       "      <td>False</td>\n",
       "    </tr>\n",
       "    <tr>\n",
       "      <th>2020-01-03 09:00:00-05:00</th>\n",
       "      <td>DAX</td>\n",
       "      <td>2020-01-03 14:00:00+00:00</td>\n",
       "      <td>27.9800</td>\n",
       "      <td>27.9800</td>\n",
       "      <td>27.9800</td>\n",
       "      <td>27.9800</td>\n",
       "      <td>241.0</td>\n",
       "      <td>6.0</td>\n",
       "      <td>27.980000</td>\n",
       "      <td>2020-01-03</td>\n",
       "      <td>False</td>\n",
       "    </tr>\n",
       "  </tbody>\n",
       "</table>\n",
       "</div>"
      ],
      "text/plain": [
       "                          symbol                 timestamp     open     high  \\\n",
       "us_eastern_timestamp                                                           \n",
       "2020-01-02 09:00:00-05:00    DAX 2020-01-02 14:00:00+00:00  28.5375  28.5375   \n",
       "2020-01-02 10:00:00-05:00    DAX 2020-01-02 15:00:00+00:00  28.4706  28.4800   \n",
       "2020-01-02 11:00:00-05:00    DAX 2020-01-02 16:00:00+00:00  28.6631  28.6631   \n",
       "2020-01-02 12:00:00-05:00    DAX 2020-01-02 17:00:00+00:00  28.4635  28.4635   \n",
       "2020-01-03 09:00:00-05:00    DAX 2020-01-03 14:00:00+00:00  27.9800  27.9800   \n",
       "\n",
       "                               low    close  volume  trade_count       vwap  \\\n",
       "us_eastern_timestamp                                                          \n",
       "2020-01-02 09:00:00-05:00  28.5375  28.5375   100.0          1.0  28.537500   \n",
       "2020-01-02 10:00:00-05:00  28.4050  28.4600   759.0          6.0  28.461092   \n",
       "2020-01-02 11:00:00-05:00  28.6631  28.6631   100.0          1.0  28.663100   \n",
       "2020-01-02 12:00:00-05:00  28.4635  28.4635   349.0          1.0  28.463500   \n",
       "2020-01-03 09:00:00-05:00  27.9800  27.9800   241.0          6.0  27.980000   \n",
       "\n",
       "                          us_eastern_date  market_open  \n",
       "us_eastern_timestamp                                    \n",
       "2020-01-02 09:00:00-05:00      2020-01-02        False  \n",
       "2020-01-02 10:00:00-05:00      2020-01-02        False  \n",
       "2020-01-02 11:00:00-05:00      2020-01-02        False  \n",
       "2020-01-02 12:00:00-05:00      2020-01-02        False  \n",
       "2020-01-03 09:00:00-05:00      2020-01-03        False  "
      ]
     },
     "execution_count": 11,
     "metadata": {},
     "output_type": "execute_result"
    }
   ],
   "source": [
    "df2.head()"
   ]
  },
  {
   "cell_type": "code",
   "execution_count": 13,
   "metadata": {
    "tags": []
   },
   "outputs": [],
   "source": [
    "symbol = df2.symbol.unique() # 'SPY'\n",
    "durations = ['120min', '180min', '240min']\n",
    "for sym in symbol:\n",
    "    datasets[sym]['60min'] = df2[df2.symbol==sym].copy()\n",
    "    datasets[sym] = process_dataset(df2, sym, datasets[sym])"
   ]
  },
  {
   "cell_type": "code",
   "execution_count": 14,
   "metadata": {
    "tags": []
   },
   "outputs": [
    {
     "data": {
      "text/plain": [
       "(dict_keys(['DAX', 'DJIA', 'QQQ', 'SPY', 'VIXM']),\n",
       " dict_keys(['1min', '2min', '3min', '5min', '10min', '15min', '20min', '25min', '30min', '60min', '120min', '180min', '240min']))"
      ]
     },
     "execution_count": 14,
     "metadata": {},
     "output_type": "execute_result"
    }
   ],
   "source": [
    "datasets.keys(), datasets['SPY'].keys()"
   ]
  },
  {
   "cell_type": "markdown",
   "metadata": {},
   "source": [
    "### day level data"
   ]
  },
  {
   "cell_type": "code",
   "execution_count": 15,
   "metadata": {
    "tags": []
   },
   "outputs": [],
   "source": [
    "# stock_data_day_level_name: stock_bars_day.parquet\n",
    "# stock_bars_hour_level_name: stock_bars_hour.parquet\n",
    "# stock_bars_minute_level_name: stock_bars_minute.parquet"
   ]
  },
  {
   "cell_type": "code",
   "execution_count": 16,
   "metadata": {
    "tags": []
   },
   "outputs": [],
   "source": [
    "df3 = pd.read_parquet(f'{bucket_loc}/data/parquet/stock_bars_day.parquet')\n",
    "df3['timestamp'] = pd.to_datetime(df3['timestamp'])\n",
    "df3['us_eastern_timestamp'] = df3['timestamp'].dt.tz_convert('US/Eastern')\n",
    "df3['us_eastern_date'] = df3.us_eastern_timestamp.dt.date\n",
    "df3['market_open'] = df3.us_eastern_timestamp.between('09:30:00', '16:00:00')\n",
    "df3.set_index('us_eastern_timestamp', inplace=True)"
   ]
  },
  {
   "cell_type": "code",
   "execution_count": 17,
   "metadata": {
    "tags": []
   },
   "outputs": [
    {
     "data": {
      "text/html": [
       "<div>\n",
       "<style scoped>\n",
       "    .dataframe tbody tr th:only-of-type {\n",
       "        vertical-align: middle;\n",
       "    }\n",
       "\n",
       "    .dataframe tbody tr th {\n",
       "        vertical-align: top;\n",
       "    }\n",
       "\n",
       "    .dataframe thead th {\n",
       "        text-align: right;\n",
       "    }\n",
       "</style>\n",
       "<table border=\"1\" class=\"dataframe\">\n",
       "  <thead>\n",
       "    <tr style=\"text-align: right;\">\n",
       "      <th></th>\n",
       "      <th>symbol</th>\n",
       "      <th>timestamp</th>\n",
       "      <th>open</th>\n",
       "      <th>high</th>\n",
       "      <th>low</th>\n",
       "      <th>close</th>\n",
       "      <th>volume</th>\n",
       "      <th>trade_count</th>\n",
       "      <th>vwap</th>\n",
       "      <th>us_eastern_date</th>\n",
       "      <th>market_open</th>\n",
       "    </tr>\n",
       "    <tr>\n",
       "      <th>us_eastern_timestamp</th>\n",
       "      <th></th>\n",
       "      <th></th>\n",
       "      <th></th>\n",
       "      <th></th>\n",
       "      <th></th>\n",
       "      <th></th>\n",
       "      <th></th>\n",
       "      <th></th>\n",
       "      <th></th>\n",
       "      <th></th>\n",
       "      <th></th>\n",
       "    </tr>\n",
       "  </thead>\n",
       "  <tbody>\n",
       "    <tr>\n",
       "      <th>2020-01-02 00:00:00-05:00</th>\n",
       "      <td>DAX</td>\n",
       "      <td>2020-01-02 05:00:00+00:00</td>\n",
       "      <td>28.5375</td>\n",
       "      <td>28.6631</td>\n",
       "      <td>28.4050</td>\n",
       "      <td>28.4635</td>\n",
       "      <td>1596.0</td>\n",
       "      <td>31.0</td>\n",
       "      <td>28.483275</td>\n",
       "      <td>2020-01-02</td>\n",
       "      <td>False</td>\n",
       "    </tr>\n",
       "    <tr>\n",
       "      <th>2020-01-03 00:00:00-05:00</th>\n",
       "      <td>DAX</td>\n",
       "      <td>2020-01-03 05:00:00+00:00</td>\n",
       "      <td>27.9800</td>\n",
       "      <td>28.1114</td>\n",
       "      <td>27.9701</td>\n",
       "      <td>27.9900</td>\n",
       "      <td>2848.0</td>\n",
       "      <td>25.0</td>\n",
       "      <td>28.027624</td>\n",
       "      <td>2020-01-03</td>\n",
       "      <td>False</td>\n",
       "    </tr>\n",
       "    <tr>\n",
       "      <th>2020-01-06 00:00:00-05:00</th>\n",
       "      <td>DAX</td>\n",
       "      <td>2020-01-06 05:00:00+00:00</td>\n",
       "      <td>27.8000</td>\n",
       "      <td>27.8948</td>\n",
       "      <td>27.8000</td>\n",
       "      <td>27.8948</td>\n",
       "      <td>975.0</td>\n",
       "      <td>15.0</td>\n",
       "      <td>27.825705</td>\n",
       "      <td>2020-01-06</td>\n",
       "      <td>False</td>\n",
       "    </tr>\n",
       "    <tr>\n",
       "      <th>2020-01-07 00:00:00-05:00</th>\n",
       "      <td>DAX</td>\n",
       "      <td>2020-01-07 05:00:00+00:00</td>\n",
       "      <td>28.0400</td>\n",
       "      <td>28.0658</td>\n",
       "      <td>28.0400</td>\n",
       "      <td>28.0400</td>\n",
       "      <td>665.0</td>\n",
       "      <td>21.0</td>\n",
       "      <td>28.050874</td>\n",
       "      <td>2020-01-07</td>\n",
       "      <td>False</td>\n",
       "    </tr>\n",
       "    <tr>\n",
       "      <th>2020-01-08 00:00:00-05:00</th>\n",
       "      <td>DAX</td>\n",
       "      <td>2020-01-08 05:00:00+00:00</td>\n",
       "      <td>28.1550</td>\n",
       "      <td>28.2122</td>\n",
       "      <td>28.1550</td>\n",
       "      <td>28.2122</td>\n",
       "      <td>1724.0</td>\n",
       "      <td>35.0</td>\n",
       "      <td>28.184157</td>\n",
       "      <td>2020-01-08</td>\n",
       "      <td>False</td>\n",
       "    </tr>\n",
       "  </tbody>\n",
       "</table>\n",
       "</div>"
      ],
      "text/plain": [
       "                          symbol                 timestamp     open     high  \\\n",
       "us_eastern_timestamp                                                           \n",
       "2020-01-02 00:00:00-05:00    DAX 2020-01-02 05:00:00+00:00  28.5375  28.6631   \n",
       "2020-01-03 00:00:00-05:00    DAX 2020-01-03 05:00:00+00:00  27.9800  28.1114   \n",
       "2020-01-06 00:00:00-05:00    DAX 2020-01-06 05:00:00+00:00  27.8000  27.8948   \n",
       "2020-01-07 00:00:00-05:00    DAX 2020-01-07 05:00:00+00:00  28.0400  28.0658   \n",
       "2020-01-08 00:00:00-05:00    DAX 2020-01-08 05:00:00+00:00  28.1550  28.2122   \n",
       "\n",
       "                               low    close  volume  trade_count       vwap  \\\n",
       "us_eastern_timestamp                                                          \n",
       "2020-01-02 00:00:00-05:00  28.4050  28.4635  1596.0         31.0  28.483275   \n",
       "2020-01-03 00:00:00-05:00  27.9701  27.9900  2848.0         25.0  28.027624   \n",
       "2020-01-06 00:00:00-05:00  27.8000  27.8948   975.0         15.0  27.825705   \n",
       "2020-01-07 00:00:00-05:00  28.0400  28.0400   665.0         21.0  28.050874   \n",
       "2020-01-08 00:00:00-05:00  28.1550  28.2122  1724.0         35.0  28.184157   \n",
       "\n",
       "                          us_eastern_date  market_open  \n",
       "us_eastern_timestamp                                    \n",
       "2020-01-02 00:00:00-05:00      2020-01-02        False  \n",
       "2020-01-03 00:00:00-05:00      2020-01-03        False  \n",
       "2020-01-06 00:00:00-05:00      2020-01-06        False  \n",
       "2020-01-07 00:00:00-05:00      2020-01-07        False  \n",
       "2020-01-08 00:00:00-05:00      2020-01-08        False  "
      ]
     },
     "execution_count": 17,
     "metadata": {},
     "output_type": "execute_result"
    }
   ],
   "source": [
    "df3.head()"
   ]
  },
  {
   "cell_type": "code",
   "execution_count": 18,
   "metadata": {
    "tags": []
   },
   "outputs": [],
   "source": [
    "symbol = df3.symbol.unique() # 'SPY'\n",
    "durations = ['2D', '3D', '5D', '10D', '15D', '20D', '30D', '50D', '100D', '150D', '200D']\n",
    "for sym in symbol:\n",
    "    datasets[sym]['1D'] = df3[df3.symbol==sym].copy()\n",
    "    datasets[sym] = process_dataset(df, sym, datasets[sym])"
   ]
  },
  {
   "cell_type": "markdown",
   "metadata": {},
   "source": [
    "### writing out to s3"
   ]
  },
  {
   "cell_type": "code",
   "execution_count": 26,
   "metadata": {
    "tags": []
   },
   "outputs": [
    {
     "name": "stdout",
     "output_type": "stream",
     "text": [
      "{'3min', '10D', '1min', '30min', '2min', '200D', '30D', '60min', '150D', '3D', '25min', '180min', '120min', '20min', '20D', '50D', '240min', '15D', '5D', '2D', '10min', '100D', '15min', '1D', '5min'}\n"
     ]
    }
   ],
   "source": [
    "all_durations = []\n",
    "for sym in datasets.keys():\n",
    "    for dur in datasets[sym].keys():\n",
    "        all_durations.append(dur)\n",
    "all_durations = set(all_durations)\n",
    "print(all_durations)"
   ]
  },
  {
   "cell_type": "code",
   "execution_count": 41,
   "metadata": {
    "tags": []
   },
   "outputs": [],
   "source": [
    "for dur in all_durations:\n",
    "    dur_df = pd.DataFrame()\n",
    "    for sym in datasets.keys():\n",
    "        if dur in datasets[sym].keys():\n",
    "            dur_df = pd.concat([dur_df, datasets[sym][dur].assign(symbol=sym)])\n",
    "    dur_df.to_parquet(f'{bucket_loc}/data/processed/stock_bars_{dur}.parquet')"
   ]
  },
  {
   "cell_type": "code",
   "execution_count": null,
   "metadata": {
    "tags": []
   },
   "outputs": [],
   "source": []
  },
  {
   "cell_type": "markdown",
   "metadata": {},
   "source": [
    "### testing"
   ]
  },
  {
   "cell_type": "code",
   "execution_count": 19,
   "metadata": {
    "tags": []
   },
   "outputs": [
    {
     "data": {
      "text/plain": [
       "(dict_keys(['DAX', 'DJIA', 'QQQ', 'SPY', 'VIXM']),\n",
       " dict_keys(['1min', '2min', '3min', '5min', '10min', '15min', '20min', '25min', '30min', '60min', '120min', '180min', '240min', '1D', '2D', '3D', '5D', '10D', '15D', '20D', '30D', '50D', '100D', '150D', '200D']))"
      ]
     },
     "execution_count": 19,
     "metadata": {},
     "output_type": "execute_result"
    }
   ],
   "source": [
    "datasets.keys(), datasets['SPY'].keys()"
   ]
  },
  {
   "cell_type": "code",
   "execution_count": 20,
   "metadata": {
    "tags": []
   },
   "outputs": [
    {
     "data": {
      "text/html": [
       "<div>\n",
       "<style scoped>\n",
       "    .dataframe tbody tr th:only-of-type {\n",
       "        vertical-align: middle;\n",
       "    }\n",
       "\n",
       "    .dataframe tbody tr th {\n",
       "        vertical-align: top;\n",
       "    }\n",
       "\n",
       "    .dataframe thead th {\n",
       "        text-align: right;\n",
       "    }\n",
       "</style>\n",
       "<table border=\"1\" class=\"dataframe\">\n",
       "  <thead>\n",
       "    <tr style=\"text-align: right;\">\n",
       "      <th></th>\n",
       "      <th>symbol</th>\n",
       "      <th>timestamp</th>\n",
       "      <th>open</th>\n",
       "      <th>high</th>\n",
       "      <th>low</th>\n",
       "      <th>close</th>\n",
       "      <th>volume</th>\n",
       "      <th>trade_count</th>\n",
       "      <th>vwap</th>\n",
       "      <th>us_eastern_date</th>\n",
       "      <th>market_open</th>\n",
       "    </tr>\n",
       "    <tr>\n",
       "      <th>us_eastern_timestamp</th>\n",
       "      <th></th>\n",
       "      <th></th>\n",
       "      <th></th>\n",
       "      <th></th>\n",
       "      <th></th>\n",
       "      <th></th>\n",
       "      <th></th>\n",
       "      <th></th>\n",
       "      <th></th>\n",
       "      <th></th>\n",
       "      <th></th>\n",
       "    </tr>\n",
       "  </thead>\n",
       "  <tbody>\n",
       "    <tr>\n",
       "      <th>2024-11-11 17:13:00-05:00</th>\n",
       "      <td>SPY</td>\n",
       "      <td>2024-11-11 22:13:00+00:00</td>\n",
       "      <td>598.36</td>\n",
       "      <td>598.39</td>\n",
       "      <td>598.3600</td>\n",
       "      <td>598.39</td>\n",
       "      <td>457.0</td>\n",
       "      <td>18.0</td>\n",
       "      <td>598.374925</td>\n",
       "      <td>2024-11-11</td>\n",
       "      <td>False</td>\n",
       "    </tr>\n",
       "    <tr>\n",
       "      <th>2024-11-11 17:14:00-05:00</th>\n",
       "      <td>SPY</td>\n",
       "      <td>2024-11-11 22:14:00+00:00</td>\n",
       "      <td>598.39</td>\n",
       "      <td>598.39</td>\n",
       "      <td>598.3300</td>\n",
       "      <td>598.33</td>\n",
       "      <td>1163.0</td>\n",
       "      <td>38.0</td>\n",
       "      <td>598.354096</td>\n",
       "      <td>2024-11-11</td>\n",
       "      <td>False</td>\n",
       "    </tr>\n",
       "    <tr>\n",
       "      <th>2024-11-11 17:16:00-05:00</th>\n",
       "      <td>SPY</td>\n",
       "      <td>2024-11-11 22:16:00+00:00</td>\n",
       "      <td>598.39</td>\n",
       "      <td>598.39</td>\n",
       "      <td>598.3900</td>\n",
       "      <td>598.39</td>\n",
       "      <td>1041.0</td>\n",
       "      <td>34.0</td>\n",
       "      <td>598.390000</td>\n",
       "      <td>2024-11-11</td>\n",
       "      <td>False</td>\n",
       "    </tr>\n",
       "    <tr>\n",
       "      <th>2024-11-11 17:18:00-05:00</th>\n",
       "      <td>SPY</td>\n",
       "      <td>2024-11-11 22:18:00+00:00</td>\n",
       "      <td>598.30</td>\n",
       "      <td>598.30</td>\n",
       "      <td>598.2700</td>\n",
       "      <td>598.27</td>\n",
       "      <td>4513.0</td>\n",
       "      <td>58.0</td>\n",
       "      <td>598.279848</td>\n",
       "      <td>2024-11-11</td>\n",
       "      <td>False</td>\n",
       "    </tr>\n",
       "    <tr>\n",
       "      <th>2024-11-11 17:19:00-05:00</th>\n",
       "      <td>SPY</td>\n",
       "      <td>2024-11-11 22:19:00+00:00</td>\n",
       "      <td>598.27</td>\n",
       "      <td>598.27</td>\n",
       "      <td>598.2699</td>\n",
       "      <td>598.27</td>\n",
       "      <td>3669.0</td>\n",
       "      <td>49.0</td>\n",
       "      <td>598.269997</td>\n",
       "      <td>2024-11-11</td>\n",
       "      <td>False</td>\n",
       "    </tr>\n",
       "  </tbody>\n",
       "</table>\n",
       "</div>"
      ],
      "text/plain": [
       "                          symbol                 timestamp    open    high  \\\n",
       "us_eastern_timestamp                                                         \n",
       "2024-11-11 17:13:00-05:00    SPY 2024-11-11 22:13:00+00:00  598.36  598.39   \n",
       "2024-11-11 17:14:00-05:00    SPY 2024-11-11 22:14:00+00:00  598.39  598.39   \n",
       "2024-11-11 17:16:00-05:00    SPY 2024-11-11 22:16:00+00:00  598.39  598.39   \n",
       "2024-11-11 17:18:00-05:00    SPY 2024-11-11 22:18:00+00:00  598.30  598.30   \n",
       "2024-11-11 17:19:00-05:00    SPY 2024-11-11 22:19:00+00:00  598.27  598.27   \n",
       "\n",
       "                                low   close  volume  trade_count        vwap  \\\n",
       "us_eastern_timestamp                                                           \n",
       "2024-11-11 17:13:00-05:00  598.3600  598.39   457.0         18.0  598.374925   \n",
       "2024-11-11 17:14:00-05:00  598.3300  598.33  1163.0         38.0  598.354096   \n",
       "2024-11-11 17:16:00-05:00  598.3900  598.39  1041.0         34.0  598.390000   \n",
       "2024-11-11 17:18:00-05:00  598.2700  598.27  4513.0         58.0  598.279848   \n",
       "2024-11-11 17:19:00-05:00  598.2699  598.27  3669.0         49.0  598.269997   \n",
       "\n",
       "                          us_eastern_date  market_open  \n",
       "us_eastern_timestamp                                    \n",
       "2024-11-11 17:13:00-05:00      2024-11-11        False  \n",
       "2024-11-11 17:14:00-05:00      2024-11-11        False  \n",
       "2024-11-11 17:16:00-05:00      2024-11-11        False  \n",
       "2024-11-11 17:18:00-05:00      2024-11-11        False  \n",
       "2024-11-11 17:19:00-05:00      2024-11-11        False  "
      ]
     },
     "execution_count": 20,
     "metadata": {},
     "output_type": "execute_result"
    }
   ],
   "source": [
    "datasets['SPY']['1min'].tail()"
   ]
  },
  {
   "cell_type": "code",
   "execution_count": 24,
   "metadata": {
    "tags": []
   },
   "outputs": [
    {
     "data": {
      "text/html": [
       "<div>\n",
       "<style scoped>\n",
       "    .dataframe tbody tr th:only-of-type {\n",
       "        vertical-align: middle;\n",
       "    }\n",
       "\n",
       "    .dataframe tbody tr th {\n",
       "        vertical-align: top;\n",
       "    }\n",
       "\n",
       "    .dataframe thead th {\n",
       "        text-align: right;\n",
       "    }\n",
       "</style>\n",
       "<table border=\"1\" class=\"dataframe\">\n",
       "  <thead>\n",
       "    <tr style=\"text-align: right;\">\n",
       "      <th></th>\n",
       "      <th>open</th>\n",
       "      <th>high</th>\n",
       "      <th>low</th>\n",
       "      <th>close</th>\n",
       "      <th>volume</th>\n",
       "    </tr>\n",
       "    <tr>\n",
       "      <th>us_eastern_timestamp</th>\n",
       "      <th></th>\n",
       "      <th></th>\n",
       "      <th></th>\n",
       "      <th></th>\n",
       "      <th></th>\n",
       "    </tr>\n",
       "  </thead>\n",
       "  <tbody>\n",
       "    <tr>\n",
       "      <th>2024-11-11 16:55:00-05:00</th>\n",
       "      <td>598.54</td>\n",
       "      <td>598.54</td>\n",
       "      <td>598.3800</td>\n",
       "      <td>598.3800</td>\n",
       "      <td>14791.0</td>\n",
       "    </tr>\n",
       "    <tr>\n",
       "      <th>2024-11-11 17:00:00-05:00</th>\n",
       "      <td>598.37</td>\n",
       "      <td>598.76</td>\n",
       "      <td>598.3100</td>\n",
       "      <td>598.3899</td>\n",
       "      <td>474198.0</td>\n",
       "    </tr>\n",
       "    <tr>\n",
       "      <th>2024-11-11 17:05:00-05:00</th>\n",
       "      <td>598.39</td>\n",
       "      <td>598.39</td>\n",
       "      <td>598.3510</td>\n",
       "      <td>598.3900</td>\n",
       "      <td>5213.0</td>\n",
       "    </tr>\n",
       "    <tr>\n",
       "      <th>2024-11-11 17:10:00-05:00</th>\n",
       "      <td>598.39</td>\n",
       "      <td>598.39</td>\n",
       "      <td>598.3300</td>\n",
       "      <td>598.3300</td>\n",
       "      <td>3785.0</td>\n",
       "    </tr>\n",
       "    <tr>\n",
       "      <th>2024-11-11 17:15:00-05:00</th>\n",
       "      <td>598.39</td>\n",
       "      <td>598.39</td>\n",
       "      <td>598.2699</td>\n",
       "      <td>598.2700</td>\n",
       "      <td>9223.0</td>\n",
       "    </tr>\n",
       "  </tbody>\n",
       "</table>\n",
       "</div>"
      ],
      "text/plain": [
       "                             open    high       low     close    volume\n",
       "us_eastern_timestamp                                                   \n",
       "2024-11-11 16:55:00-05:00  598.54  598.54  598.3800  598.3800   14791.0\n",
       "2024-11-11 17:00:00-05:00  598.37  598.76  598.3100  598.3899  474198.0\n",
       "2024-11-11 17:05:00-05:00  598.39  598.39  598.3510  598.3900    5213.0\n",
       "2024-11-11 17:10:00-05:00  598.39  598.39  598.3300  598.3300    3785.0\n",
       "2024-11-11 17:15:00-05:00  598.39  598.39  598.2699  598.2700    9223.0"
      ]
     },
     "execution_count": 24,
     "metadata": {},
     "output_type": "execute_result"
    }
   ],
   "source": [
    "datasets['SPY']['5min'].tail()"
   ]
  },
  {
   "cell_type": "code",
   "execution_count": null,
   "metadata": {},
   "outputs": [],
   "source": []
  },
  {
   "cell_type": "code",
   "execution_count": null,
   "metadata": {},
   "outputs": [],
   "source": []
  },
  {
   "cell_type": "code",
   "execution_count": null,
   "metadata": {},
   "outputs": [],
   "source": []
  }
 ],
 "metadata": {
  "kernelspec": {
   "display_name": "conda_python3",
   "language": "python",
   "name": "conda_python3"
  },
  "language_info": {
   "codemirror_mode": {
    "name": "ipython",
    "version": 3
   },
   "file_extension": ".py",
   "mimetype": "text/x-python",
   "name": "python",
   "nbconvert_exporter": "python",
   "pygments_lexer": "ipython3",
   "version": "3.10.15"
  }
 },
 "nbformat": 4,
 "nbformat_minor": 4
}
