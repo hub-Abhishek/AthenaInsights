{
 "cells": [
  {
   "cell_type": "code",
   "execution_count": 3,
   "id": "3f60a37b-a2ce-499d-b394-9227f624aea5",
   "metadata": {},
   "outputs": [],
   "source": [
    "import yaml\n",
    "import boto3\n",
    "import pandas as pd\n",
    "import numpy as np\n",
    "import warnings\n",
    "from tqdm import tqdm\n",
    "warnings.filterwarnings(\"ignore\")"
   ]
  },
  {
   "cell_type": "code",
   "execution_count": 4,
   "id": "532a7599-39ac-4337-9f6a-090e3f4207dd",
   "metadata": {
    "tags": []
   },
   "outputs": [
    {
     "data": {
      "text/plain": [
       "'/home/ec2-user/SageMaker/sisyphus/AthenaInsights/notebooks/data_cleaning'"
      ]
     },
     "execution_count": 4,
     "metadata": {},
     "output_type": "execute_result"
    }
   ],
   "source": [
    "import os\n",
    "os.getcwd()"
   ]
  },
  {
   "cell_type": "code",
   "execution_count": 5,
   "id": "8c006123-57d0-444c-b790-b4645d941168",
   "metadata": {},
   "outputs": [],
   "source": [
    "client = boto3.client('s3')"
   ]
  },
  {
   "cell_type": "code",
   "execution_count": 6,
   "id": "3d9f7e89-8348-4a83-b8c5-20f3a2760ed6",
   "metadata": {},
   "outputs": [],
   "source": [
    "s3_prefix = 's3://'\n",
    "bucket = 'sisyphus-general-bucket'\n",
    "primary_folder = 'AthenaInsights'"
   ]
  },
  {
   "cell_type": "code",
   "execution_count": 7,
   "id": "7780ef43-8f6d-4cda-b809-66bb52eb2e35",
   "metadata": {
    "tags": []
   },
   "outputs": [
    {
     "name": "stdout",
     "output_type": "stream",
     "text": [
      "AthenaInsights/latest_data/csv/\n",
      "AthenaInsights/latest_data/data_prep/\n",
      "AthenaInsights/latest_data/dependent_variable/\n",
      "AthenaInsights/latest_data/feature_prep/\n",
      "AthenaInsights/latest_data/model/\n",
      "AthenaInsights/latest_data/parquet/\n",
      "AthenaInsights/latest_data/reduced_autocorelation/\n"
     ]
    }
   ],
   "source": [
    "paginator = client.get_paginator('list_objects_v2')\n",
    "\n",
    "# List objects under the specified prefix\n",
    "page_iterator = paginator.paginate(Bucket=bucket, Prefix='AthenaInsights/latest_data/', Delimiter='/')\n",
    "\n",
    "for page in page_iterator:\n",
    "    if 'CommonPrefixes' in page:\n",
    "        for folder in page['CommonPrefixes']:\n",
    "            print(folder['Prefix'])"
   ]
  },
  {
   "cell_type": "markdown",
   "id": "a14e83ac-3046-4fe3-9b1b-43732a8dd178",
   "metadata": {
    "tags": []
   },
   "source": [
    "### dependent variable"
   ]
  },
  {
   "cell_type": "code",
   "execution_count": 8,
   "id": "f950a050-2ef4-4c5f-a97e-e92ba6903069",
   "metadata": {},
   "outputs": [],
   "source": [
    "client = boto3.client('s3')"
   ]
  },
  {
   "cell_type": "code",
   "execution_count": 9,
   "id": "465525c4-ebef-4094-b523-e34d45506104",
   "metadata": {},
   "outputs": [],
   "source": [
    "s3_prefix = 's3://'\n",
    "bucket = 'sisyphus-general-bucket'\n",
    "primary_folder = 'AthenaInsights'"
   ]
  },
  {
   "cell_type": "code",
   "execution_count": 10,
   "id": "09ff0bc6-6532-46a4-91cd-5e52c8037c18",
   "metadata": {},
   "outputs": [],
   "source": [
    "# dependent_variable_loc = 's3://sisyphus-general-bucket/AthenaInsights/latest_data/dependent_variable/stock_bars_1min.parquet'\n",
    "# dependent_variable = pd.read_parquet(dependent_variable_loc, columns=['category', 'close_sma_5m' ])"
   ]
  },
  {
   "cell_type": "markdown",
   "id": "c4acc954-1d26-4f84-b12c-f4b6c7ee0d20",
   "metadata": {},
   "source": [
    "### all paths"
   ]
  },
  {
   "cell_type": "code",
   "execution_count": 11,
   "id": "1cc105ba-23a9-46e1-909a-6af770a7232c",
   "metadata": {
    "tags": []
   },
   "outputs": [
    {
     "name": "stdout",
     "output_type": "stream",
     "text": [
      "AthenaInsights/latest_data/csv/\n",
      "AthenaInsights/latest_data/data_prep/\n",
      "AthenaInsights/latest_data/dependent_variable/\n",
      "AthenaInsights/latest_data/feature_prep/\n",
      "AthenaInsights/latest_data/model/\n",
      "AthenaInsights/latest_data/parquet/\n",
      "AthenaInsights/latest_data/reduced_autocorelation/\n"
     ]
    }
   ],
   "source": [
    "paginator = client.get_paginator('list_objects_v2')\n",
    "\n",
    "# List objects under the specified prefix\n",
    "page_iterator = paginator.paginate(Bucket=bucket, Prefix='AthenaInsights/latest_data/', Delimiter='/')\n",
    "\n",
    "for page in page_iterator:\n",
    "    if 'CommonPrefixes' in page:\n",
    "        for folder in page['CommonPrefixes']:\n",
    "            print(folder['Prefix'])"
   ]
  },
  {
   "cell_type": "code",
   "execution_count": 12,
   "id": "858ce936",
   "metadata": {},
   "outputs": [],
   "source": [
    "s3_prefix = 's3://'\n",
    "bucket = 'sisyphus-general-bucket'\n",
    "primary_folder = 'AthenaInsights'"
   ]
  },
  {
   "cell_type": "markdown",
   "id": "6bbcf403-47bc-4ed8-a3b2-ad5c963fb085",
   "metadata": {
    "tags": []
   },
   "source": [
    "### independent variables"
   ]
  },
  {
   "cell_type": "code",
   "execution_count": 13,
   "id": "f283624f-0319-4595-afe6-5e9f0554f5f1",
   "metadata": {
    "tags": []
   },
   "outputs": [],
   "source": [
    "response = client.list_objects_v2(\n",
    "    Bucket=bucket,\n",
    "    Prefix=f'{primary_folder}/latest_data/feature_prep/')"
   ]
  },
  {
   "cell_type": "code",
   "execution_count": 14,
   "id": "72a3ef54-d27d-4a36-affc-7df8591a46fd",
   "metadata": {
    "tags": []
   },
   "outputs": [
    {
     "data": {
      "text/plain": [
       "['s3://sisyphus-general-bucket/AthenaInsights/latest_data/feature_prep/stock_bars_1min_base.parquet',\n",
       " 's3://sisyphus-general-bucket/AthenaInsights/latest_data/feature_prep/stock_bars_1min_base_macd.parquet',\n",
       " 's3://sisyphus-general-bucket/AthenaInsights/latest_data/feature_prep/stock_bars_1min_base_other_features.parquet',\n",
       " 's3://sisyphus-general-bucket/AthenaInsights/latest_data/feature_prep/stock_bars_1min_base_rsi.parquet']"
      ]
     },
     "execution_count": 14,
     "metadata": {},
     "output_type": "execute_result"
    }
   ],
   "source": [
    "paths = []\n",
    "for content in response.get('Contents', []):\n",
    "    # print(f\"{s3_prefix}{bucket}/{content['Key']}\")\n",
    "    k = content['Key']\n",
    "    if 'base' in k and '1min' in k: #('base' in k or 'diff' in k) and ('rsi' not in k and 'macd' not in k):\n",
    "        paths.append(f\"{s3_prefix}{bucket}/{content['Key']}\")\n",
    "paths"
   ]
  },
  {
   "cell_type": "code",
   "execution_count": 15,
   "id": "8bbe33a2-ed09-4210-bb85-e13a56b100e4",
   "metadata": {
    "tags": []
   },
   "outputs": [
    {
     "data": {
      "text/plain": [
       "['s3://sisyphus-general-bucket/AthenaInsights/latest_data/feature_prep/stock_bars_2min_base.parquet',\n",
       " 's3://sisyphus-general-bucket/AthenaInsights/latest_data/feature_prep/stock_bars_2min_base_macd.parquet',\n",
       " 's3://sisyphus-general-bucket/AthenaInsights/latest_data/feature_prep/stock_bars_2min_base_rsi.parquet']"
      ]
     },
     "execution_count": 15,
     "metadata": {},
     "output_type": "execute_result"
    }
   ],
   "source": [
    "paths = []\n",
    "for content in response.get('Contents', []):\n",
    "    # print(f\"{s3_prefix}{bucket}/{content['Key']}\")\n",
    "    k = content['Key']\n",
    "    if 'base' in k and '2min' in k: #('base' in k or 'diff' in k) and ('rsi' not in k and 'macd' not in k):\n",
    "        paths.append(f\"{s3_prefix}{bucket}/{content['Key']}\")\n",
    "paths"
   ]
  },
  {
   "cell_type": "code",
   "execution_count": 16,
   "id": "1c6503f3-47bc-47db-937f-60551a2a984e",
   "metadata": {
    "tags": []
   },
   "outputs": [],
   "source": [
    "paths = []\n",
    "for content in response.get('Contents', []):\n",
    "    # print(f\"{s3_prefix}{bucket}/{content['Key']}\")\n",
    "    k = content['Key']\n",
    "    paths.append(f\"{s3_prefix}{bucket}/{content['Key']}\")"
   ]
  },
  {
   "cell_type": "code",
   "execution_count": 17,
   "id": "94282fbc-97a5-4728-b382-1de74a538839",
   "metadata": {
    "tags": []
   },
   "outputs": [
    {
     "data": {
      "text/plain": [
       "151"
      ]
     },
     "execution_count": 17,
     "metadata": {},
     "output_type": "execute_result"
    }
   ],
   "source": [
    "len(paths)"
   ]
  },
  {
   "cell_type": "code",
   "execution_count": 18,
   "id": "60ba4f66-e0e9-4106-a193-9e3b3fe6ed30",
   "metadata": {
    "tags": []
   },
   "outputs": [],
   "source": [
    "import pyarrow.dataset as ds\n",
    "from tqdm import tqdm"
   ]
  },
  {
   "cell_type": "code",
   "execution_count": 19,
   "id": "dd1ceffa-f9e0-46e9-b179-d724938857aa",
   "metadata": {},
   "outputs": [],
   "source": [
    "# names = []\n",
    "# time_periods = []\n",
    "# from pyarrow.parquet import read_metadata\n",
    "# x = read_metadata(path)\n",
    "# dir(x)\n",
    "# x.schema[0].path"
   ]
  },
  {
   "cell_type": "code",
   "execution_count": 26,
   "id": "f273fe98-18b4-44ce-849a-e635ed4b0cbb",
   "metadata": {
    "tags": []
   },
   "outputs": [
    {
     "name": "stderr",
     "output_type": "stream",
     "text": [
      "100%|██████████| 151/151 [01:28<00:00,  1.71it/s]\n"
     ]
    }
   ],
   "source": [
    "if not os.path.exists('all_info_independent_vars.csv'):\n",
    "    all_info_independent_vars = pd.DataFrame(columns=['name', 'time_period', 'path', 'cols'])\n",
    "\n",
    "    for path in tqdm(paths):\n",
    "        name = path.split('/')[-1].replace('.parquet', '')\n",
    "        time_period = name.replace('stock_bars_', '').split('_')[0]\n",
    "        df = ds.dataset(path).scanner().head(1).to_pandas()\n",
    "        columns = list(df.columns)\n",
    "        all_info_independent_vars.loc[all_info_independent_vars.shape[0]] = [name, time_period, path, columns]\n",
    "    all_info_independent_vars.to_csv('all_info_independent_vars.csv', index=False)\n",
    "else:\n",
    "    print('readinfg from local all_info_independent_vars.csv')\n",
    "    all_info_independent_vars = pd.read_csv('all_info_independent_vars.csv')"
   ]
  },
  {
   "cell_type": "code",
   "execution_count": 27,
   "id": "339486e3-13cd-4deb-9535-022f83889a1c",
   "metadata": {
    "tags": []
   },
   "outputs": [
    {
     "data": {
      "text/html": [
       "<div>\n",
       "<style scoped>\n",
       "    .dataframe tbody tr th:only-of-type {\n",
       "        vertical-align: middle;\n",
       "    }\n",
       "\n",
       "    .dataframe tbody tr th {\n",
       "        vertical-align: top;\n",
       "    }\n",
       "\n",
       "    .dataframe thead th {\n",
       "        text-align: right;\n",
       "    }\n",
       "</style>\n",
       "<table border=\"1\" class=\"dataframe\">\n",
       "  <thead>\n",
       "    <tr style=\"text-align: right;\">\n",
       "      <th></th>\n",
       "      <th>name</th>\n",
       "      <th>time_period</th>\n",
       "      <th>path</th>\n",
       "      <th>cols</th>\n",
       "    </tr>\n",
       "  </thead>\n",
       "  <tbody>\n",
       "    <tr>\n",
       "      <th>0</th>\n",
       "      <td>stock_bars_100D_base</td>\n",
       "      <td>100D</td>\n",
       "      <td>s3://sisyphus-general-bucket/AthenaInsights/la...</td>\n",
       "      <td>[open, high, low, close, volume, symbol, time_...</td>\n",
       "    </tr>\n",
       "    <tr>\n",
       "      <th>1</th>\n",
       "      <td>stock_bars_100D_base_macd</td>\n",
       "      <td>100D</td>\n",
       "      <td>s3://sisyphus-general-bucket/AthenaInsights/la...</td>\n",
       "      <td>[symbol, close_ema_5m, close_ema_8m, close_ema...</td>\n",
       "    </tr>\n",
       "    <tr>\n",
       "      <th>2</th>\n",
       "      <td>stock_bars_100D_base_rsi</td>\n",
       "      <td>100D</td>\n",
       "      <td>s3://sisyphus-general-bucket/AthenaInsights/la...</td>\n",
       "      <td>[close, close_ema_5m, close_sma_5m, close_ema_...</td>\n",
       "    </tr>\n",
       "    <tr>\n",
       "      <th>3</th>\n",
       "      <td>stock_bars_100D_diff</td>\n",
       "      <td>100D</td>\n",
       "      <td>s3://sisyphus-general-bucket/AthenaInsights/la...</td>\n",
       "      <td>[open_diff, high_diff, low_diff, close_diff, v...</td>\n",
       "    </tr>\n",
       "    <tr>\n",
       "      <th>4</th>\n",
       "      <td>stock_bars_100D_diff_macd</td>\n",
       "      <td>100D</td>\n",
       "      <td>s3://sisyphus-general-bucket/AthenaInsights/la...</td>\n",
       "      <td>[symbol, close_diff_ema_5m, close_diff_ema_8m,...</td>\n",
       "    </tr>\n",
       "    <tr>\n",
       "      <th>5</th>\n",
       "      <td>stock_bars_100D_diff_rsi</td>\n",
       "      <td>100D</td>\n",
       "      <td>s3://sisyphus-general-bucket/AthenaInsights/la...</td>\n",
       "      <td>[close_diff, close_diff_ema_5m, close_diff_sma...</td>\n",
       "    </tr>\n",
       "    <tr>\n",
       "      <th>6</th>\n",
       "      <td>stock_bars_10D_base</td>\n",
       "      <td>10D</td>\n",
       "      <td>s3://sisyphus-general-bucket/AthenaInsights/la...</td>\n",
       "      <td>[open, high, low, close, volume, symbol, time_...</td>\n",
       "    </tr>\n",
       "    <tr>\n",
       "      <th>7</th>\n",
       "      <td>stock_bars_10D_base_macd</td>\n",
       "      <td>10D</td>\n",
       "      <td>s3://sisyphus-general-bucket/AthenaInsights/la...</td>\n",
       "      <td>[symbol, close_ema_2m, close_ema_3m, close_ema...</td>\n",
       "    </tr>\n",
       "    <tr>\n",
       "      <th>8</th>\n",
       "      <td>stock_bars_10D_base_rsi</td>\n",
       "      <td>10D</td>\n",
       "      <td>s3://sisyphus-general-bucket/AthenaInsights/la...</td>\n",
       "      <td>[close, close_ema_5m, close_sma_5m, close_ema_...</td>\n",
       "    </tr>\n",
       "    <tr>\n",
       "      <th>9</th>\n",
       "      <td>stock_bars_10D_diff</td>\n",
       "      <td>10D</td>\n",
       "      <td>s3://sisyphus-general-bucket/AthenaInsights/la...</td>\n",
       "      <td>[open_diff, high_diff, low_diff, close_diff, v...</td>\n",
       "    </tr>\n",
       "  </tbody>\n",
       "</table>\n",
       "</div>"
      ],
      "text/plain": [
       "                        name time_period  \\\n",
       "0       stock_bars_100D_base        100D   \n",
       "1  stock_bars_100D_base_macd        100D   \n",
       "2   stock_bars_100D_base_rsi        100D   \n",
       "3       stock_bars_100D_diff        100D   \n",
       "4  stock_bars_100D_diff_macd        100D   \n",
       "5   stock_bars_100D_diff_rsi        100D   \n",
       "6        stock_bars_10D_base         10D   \n",
       "7   stock_bars_10D_base_macd         10D   \n",
       "8    stock_bars_10D_base_rsi         10D   \n",
       "9        stock_bars_10D_diff         10D   \n",
       "\n",
       "                                                path  \\\n",
       "0  s3://sisyphus-general-bucket/AthenaInsights/la...   \n",
       "1  s3://sisyphus-general-bucket/AthenaInsights/la...   \n",
       "2  s3://sisyphus-general-bucket/AthenaInsights/la...   \n",
       "3  s3://sisyphus-general-bucket/AthenaInsights/la...   \n",
       "4  s3://sisyphus-general-bucket/AthenaInsights/la...   \n",
       "5  s3://sisyphus-general-bucket/AthenaInsights/la...   \n",
       "6  s3://sisyphus-general-bucket/AthenaInsights/la...   \n",
       "7  s3://sisyphus-general-bucket/AthenaInsights/la...   \n",
       "8  s3://sisyphus-general-bucket/AthenaInsights/la...   \n",
       "9  s3://sisyphus-general-bucket/AthenaInsights/la...   \n",
       "\n",
       "                                                cols  \n",
       "0  [open, high, low, close, volume, symbol, time_...  \n",
       "1  [symbol, close_ema_5m, close_ema_8m, close_ema...  \n",
       "2  [close, close_ema_5m, close_sma_5m, close_ema_...  \n",
       "3  [open_diff, high_diff, low_diff, close_diff, v...  \n",
       "4  [symbol, close_diff_ema_5m, close_diff_ema_8m,...  \n",
       "5  [close_diff, close_diff_ema_5m, close_diff_sma...  \n",
       "6  [open, high, low, close, volume, symbol, time_...  \n",
       "7  [symbol, close_ema_2m, close_ema_3m, close_ema...  \n",
       "8  [close, close_ema_5m, close_sma_5m, close_ema_...  \n",
       "9  [open_diff, high_diff, low_diff, close_diff, v...  "
      ]
     },
     "execution_count": 27,
     "metadata": {},
     "output_type": "execute_result"
    }
   ],
   "source": [
    "all_info_independent_vars.head(10)"
   ]
  },
  {
   "cell_type": "code",
   "execution_count": 28,
   "id": "f07fdff0-7115-4989-acb7-01ec2e6b4de8",
   "metadata": {
    "tags": []
   },
   "outputs": [
    {
     "data": {
      "text/plain": [
       "(151, 4)"
      ]
     },
     "execution_count": 28,
     "metadata": {},
     "output_type": "execute_result"
    }
   ],
   "source": [
    "all_info_independent_vars.shape"
   ]
  },
  {
   "cell_type": "code",
   "execution_count": 29,
   "id": "f973fc83-3b35-4e03-ba3b-919d9938092a",
   "metadata": {
    "tags": []
   },
   "outputs": [
    {
     "data": {
      "text/plain": [
       "array([list(['open', 'high', 'low', 'close', 'volume', 'open_ema_2m', 'open_sma_2m', 'high_ema_2m', 'high_sma_2m', 'low_ema_2m', 'low_sma_2m', 'close_ema_2m', 'close_sma_2m', 'volume_ema_2m', 'volume_sma_2m', 'open_ema_3m', 'open_sma_3m', 'high_ema_3m', 'high_sma_3m', 'low_ema_3m', 'low_sma_3m', 'close_ema_3m', 'close_sma_3m', 'volume_ema_3m', 'volume_sma_3m', 'open_ema_5m', 'open_sma_5m', 'high_ema_5m', 'high_sma_5m', 'low_ema_5m', 'low_sma_5m', 'close_ema_5m', 'close_sma_5m', 'volume_ema_5m', 'volume_sma_5m', 'open_ema_8m', 'open_sma_8m', 'high_ema_8m', 'high_sma_8m', 'low_ema_8m', 'low_sma_8m', 'close_ema_8m', 'close_sma_8m', 'volume_ema_8m', 'volume_sma_8m', 'open_ema_12m', 'open_sma_12m', 'high_ema_12m', 'high_sma_12m', 'low_ema_12m', 'low_sma_12m', 'close_ema_12m', 'close_sma_12m', 'volume_ema_12m', 'volume_sma_12m', 'open_ema_10m', 'open_sma_10m', 'high_ema_10m', 'high_sma_10m', 'low_ema_10m', 'low_sma_10m', 'close_ema_10m', 'close_sma_10m', 'volume_ema_10m', 'volume_sma_10m', 'open_ema_20m', 'open_sma_20m', 'high_ema_20m', 'high_sma_20m', 'low_ema_20m', 'low_sma_20m', 'close_ema_20m', 'close_sma_20m', 'volume_ema_20m', 'volume_sma_20m', 'open_ema_26m', 'open_sma_26m', 'high_ema_26m', 'high_sma_26m', 'low_ema_26m', 'low_sma_26m', 'close_ema_26m', 'close_sma_26m', 'volume_ema_26m', 'volume_sma_26m', 'open_lag_1', 'high_lag_1', 'low_lag_1', 'close_lag_1', 'open_lag_2', 'high_lag_2', 'low_lag_2', 'close_lag_2', 'open_lag_3', 'high_lag_3', 'low_lag_3', 'close_lag_3', 'open_lag_4', 'high_lag_4', 'low_lag_4', 'close_lag_4', 'open_lag_5', 'high_lag_5', 'low_lag_5', 'close_lag_5', 'open_lag_6', 'high_lag_6', 'low_lag_6', 'close_lag_6', 'open_lag_7', 'high_lag_7', 'low_lag_7', 'close_lag_7', 'open_lag_8', 'high_lag_8', 'low_lag_8', 'close_lag_8', 'open_lag_9', 'high_lag_9', 'low_lag_9', 'close_lag_9', 'open_lag_10', 'high_lag_10', 'low_lag_10', 'close_lag_10', 'open_lag_11', 'high_lag_11', 'low_lag_11', 'close_lag_11', 'open_lag_12', 'high_lag_12', 'low_lag_12', 'close_lag_12', 'open_lag_13', 'high_lag_13', 'low_lag_13', 'close_lag_13', 'open_lag_14', 'high_lag_14', 'low_lag_14', 'close_lag_14', 'open_lag_15', 'high_lag_15', 'low_lag_15', 'close_lag_15', 'market_open', 'price_change', 'direction', 'cumulative_ups', 'cumulative_downs', 'direction_change_up_to_down', 'direction_change_down_to_up', 'prev_cumulative_ups', 'prev_cumulative_downs', 'hour', 'minute', 'day_of_year', 'local_max_5', 'local_min_5', 'cumulative_local_max_5', 'cumulative_local_min_5', 'time_since_prev_max_5', 'time_since_prev_min_5', 'local_max_10', 'local_min_10', 'cumulative_local_max_10', 'cumulative_local_min_10', 'time_since_prev_max_10', 'time_since_prev_min_10', 'local_max_15', 'local_min_15', 'cumulative_local_max_15', 'cumulative_local_min_15', 'time_since_prev_max_15', 'time_since_prev_min_15', 'local_max_30', 'local_min_30', 'cumulative_local_max_30', 'cumulative_local_min_30', 'time_since_prev_max_30', 'time_since_prev_min_30', 'max_today', 'min_today', 'max_today_session', 'min_today_session'])],\n",
       "      dtype=object)"
      ]
     },
     "execution_count": 29,
     "metadata": {},
     "output_type": "execute_result"
    }
   ],
   "source": [
    "all_info_independent_vars[all_info_independent_vars.path.str.contains('latest_data/feature_prep/stock_bars_1min_base_other_features.parquet')].cols.values"
   ]
  },
  {
   "cell_type": "code",
   "execution_count": 30,
   "id": "56e5b101-446c-4e3c-a151-7a4b44e80149",
   "metadata": {
    "tags": []
   },
   "outputs": [],
   "source": [
    "paths_config_independent_vars = dict().fromkeys(list(all_info_independent_vars.time_period.unique()),)\n",
    "for row in all_info_independent_vars.iterrows():\n",
    "    if paths_config_independent_vars[row[1]['time_period']] is None:\n",
    "        paths_config_independent_vars[row[1]['time_period']] = {}\n",
    "    # print(row[1]['time_period'], row[1]['name'] )\n",
    "    paths_config_independent_vars[row[1]['time_period']][row[1]['name']] = {}\n",
    "    paths_config_independent_vars[row[1]['time_period']][row[1]['name']]['path'] = row[1]['path']\n",
    "    paths_config_independent_vars[row[1]['time_period']][row[1]['name']]['cols'] = row[1]['cols']"
   ]
  },
  {
   "cell_type": "code",
   "execution_count": 31,
   "id": "0745fc84-234b-4cc5-8a28-de1102001271",
   "metadata": {
    "tags": []
   },
   "outputs": [
    {
     "data": {
      "text/plain": [
       "dict_keys(['stock_bars_100D_base', 'stock_bars_100D_base_macd', 'stock_bars_100D_base_rsi', 'stock_bars_100D_diff', 'stock_bars_100D_diff_macd', 'stock_bars_100D_diff_rsi'])"
      ]
     },
     "execution_count": 31,
     "metadata": {},
     "output_type": "execute_result"
    }
   ],
   "source": [
    "paths_config_independent_vars.keys()\n",
    "# paths_config_independent_vars['100D'].keys()\n",
    "paths_config_independent_vars['100D'].keys()\n",
    "# paths_config_independent_vars['100D']['stock_bars_100D_base'].keys()"
   ]
  },
  {
   "cell_type": "markdown",
   "id": "ff91775f-12f7-4d42-9f10-4f1db5bee2b7",
   "metadata": {},
   "source": [
    "### dependent variables"
   ]
  },
  {
   "cell_type": "code",
   "execution_count": 32,
   "id": "9634fbb8-82b6-4f30-aeec-34ae6c307a9e",
   "metadata": {
    "tags": []
   },
   "outputs": [],
   "source": [
    "response = client.list_objects_v2(\n",
    "    Bucket=bucket,\n",
    "    Prefix=f'{primary_folder}/latest_data/dependent_variable/')"
   ]
  },
  {
   "cell_type": "code",
   "execution_count": 33,
   "id": "4df5318a-143f-4228-98b6-449256e61fb9",
   "metadata": {
    "tags": []
   },
   "outputs": [],
   "source": [
    "paths = []\n",
    "for content in response.get('Contents', []):\n",
    "    # print(f\"{s3_prefix}{bucket}/{content['Key']}\")\n",
    "    k = content['Key']\n",
    "    paths.append(f\"{s3_prefix}{bucket}/{content['Key']}\")"
   ]
  },
  {
   "cell_type": "code",
   "execution_count": 34,
   "id": "a26345c2-ce69-4ab2-b7f1-0cdfbf77b823",
   "metadata": {
    "tags": []
   },
   "outputs": [
    {
     "data": {
      "text/plain": [
       "['s3://sisyphus-general-bucket/AthenaInsights/latest_data/dependent_variable/stock_bars_1min.parquet']"
      ]
     },
     "execution_count": 34,
     "metadata": {},
     "output_type": "execute_result"
    }
   ],
   "source": [
    "paths"
   ]
  },
  {
   "cell_type": "code",
   "execution_count": 35,
   "id": "922b8d27-3376-4c05-a8ef-aa5f32fd2ea0",
   "metadata": {
    "tags": []
   },
   "outputs": [
    {
     "name": "stdout",
     "output_type": "stream",
     "text": [
      "readinfg from local all_info_dependent_vars.csv\n"
     ]
    }
   ],
   "source": [
    "if not os.path.exists('all_info_dependent_vars.csv'):\n",
    "    all_info_dependent_vars = pd.DataFrame(columns=['name', 'time_period', 'path', 'cols'])\n",
    "\n",
    "    for path in tqdm(paths):\n",
    "        name = path.split('/')[-1].replace('.parquet', '')\n",
    "        time_period = name.replace('stock_bars_', '').split('_')[0]\n",
    "        df = ds.dataset(path).scanner().head(1).to_pandas()\n",
    "        columns = list(df.columns)\n",
    "        all_info_dependent_vars.loc[all_info_dependent_vars.shape[0]] = [name, time_period, path, columns]\n",
    "    all_info_dependent_vars.to_csv('all_info_dependent_vars.csv', index=False)\n",
    "else:\n",
    "    print('readinfg from local all_info_dependent_vars.csv')\n",
    "    all_info_dependent_vars = pd.read_csv('all_info_dependent_vars.csv')"
   ]
  },
  {
   "cell_type": "code",
   "execution_count": 36,
   "id": "1bd65942-05ab-49e6-973c-94cd1abb9b40",
   "metadata": {
    "tags": []
   },
   "outputs": [
    {
     "data": {
      "text/html": [
       "<div>\n",
       "<style scoped>\n",
       "    .dataframe tbody tr th:only-of-type {\n",
       "        vertical-align: middle;\n",
       "    }\n",
       "\n",
       "    .dataframe tbody tr th {\n",
       "        vertical-align: top;\n",
       "    }\n",
       "\n",
       "    .dataframe thead th {\n",
       "        text-align: right;\n",
       "    }\n",
       "</style>\n",
       "<table border=\"1\" class=\"dataframe\">\n",
       "  <thead>\n",
       "    <tr style=\"text-align: right;\">\n",
       "      <th></th>\n",
       "      <th>name</th>\n",
       "      <th>time_period</th>\n",
       "      <th>path</th>\n",
       "      <th>cols</th>\n",
       "    </tr>\n",
       "  </thead>\n",
       "  <tbody>\n",
       "    <tr>\n",
       "      <th>0</th>\n",
       "      <td>stock_bars_1min</td>\n",
       "      <td>1min</td>\n",
       "      <td>s3://sisyphus-general-bucket/AthenaInsights/la...</td>\n",
       "      <td>['open', 'high', 'low', 'close', 'close_sma_5m...</td>\n",
       "    </tr>\n",
       "  </tbody>\n",
       "</table>\n",
       "</div>"
      ],
      "text/plain": [
       "              name time_period  \\\n",
       "0  stock_bars_1min        1min   \n",
       "\n",
       "                                                path  \\\n",
       "0  s3://sisyphus-general-bucket/AthenaInsights/la...   \n",
       "\n",
       "                                                cols  \n",
       "0  ['open', 'high', 'low', 'close', 'close_sma_5m...  "
      ]
     },
     "execution_count": 36,
     "metadata": {},
     "output_type": "execute_result"
    }
   ],
   "source": [
    "all_info_dependent_vars"
   ]
  },
  {
   "cell_type": "code",
   "execution_count": 37,
   "id": "61793945-05f0-41cc-8256-9b223b69dfa8",
   "metadata": {},
   "outputs": [],
   "source": [
    "paths_config_dependent_vars = dict().fromkeys(list(all_info_dependent_vars.time_period.unique()),)\n",
    "for row in all_info_dependent_vars.iterrows():\n",
    "    if paths_config_dependent_vars[row[1]['time_period']] is None:\n",
    "        paths_config_dependent_vars[row[1]['time_period']] = {}\n",
    "    # print(row[1]['time_period'], row[1]['name'] )\n",
    "    paths_config_dependent_vars[row[1]['time_period']][row[1]['name']] = {}\n",
    "    paths_config_dependent_vars[row[1]['time_period']][row[1]['name']]['path'] = row[1]['path']\n",
    "    paths_config_dependent_vars[row[1]['time_period']][row[1]['name']]['cols'] = row[1]['cols']"
   ]
  },
  {
   "cell_type": "code",
   "execution_count": 38,
   "id": "e84bf53a-02b2-40b4-9679-0361dbd9ad92",
   "metadata": {
    "tags": []
   },
   "outputs": [
    {
     "data": {
      "text/plain": [
       "{'1min': {'stock_bars_1min': {'path': 's3://sisyphus-general-bucket/AthenaInsights/latest_data/dependent_variable/stock_bars_1min.parquet',\n",
       "   'cols': \"['open', 'high', 'low', 'close', 'close_sma_5m', 'category', 'future_highs', 'future_lows', 'slopes']\"}}}"
      ]
     },
     "execution_count": 38,
     "metadata": {},
     "output_type": "execute_result"
    }
   ],
   "source": [
    "paths_config_dependent_vars"
   ]
  },
  {
   "cell_type": "markdown",
   "id": "aaaf09d5-0c56-44b0-8cf0-b7def1695857",
   "metadata": {},
   "source": [
    "### final config file"
   ]
  },
  {
   "cell_type": "code",
   "execution_count": 39,
   "id": "bcdd291c-bd73-453a-beee-89c0b53a84ad",
   "metadata": {},
   "outputs": [],
   "source": [
    "all_paths_config = {}\n",
    "all_paths_config['feature_store'] = paths_config_independent_vars\n",
    "all_paths_config['dependent_variable'] = paths_config_dependent_vars"
   ]
  },
  {
   "cell_type": "code",
   "execution_count": 40,
   "id": "30ea5a82-2660-4e2a-b95a-10a0bdb38d46",
   "metadata": {
    "tags": []
   },
   "outputs": [],
   "source": [
    "with open('../../config/spy_30min_v1/features.yaml', 'w+') as ff:\n",
    "    yaml.dump(all_paths_config, ff)"
   ]
  },
  {
   "cell_type": "code",
   "execution_count": null,
   "id": "4276ad25-ca71-4f55-9b81-a24249038fe9",
   "metadata": {
    "tags": []
   },
   "outputs": [],
   "source": []
  },
  {
   "cell_type": "code",
   "execution_count": 4,
   "id": "c4b67db7-1108-4604-95c6-acb10a2561c7",
   "metadata": {
    "tags": []
   },
   "outputs": [
    {
     "data": {
      "text/plain": [
       "99"
      ]
     },
     "execution_count": 4,
     "metadata": {},
     "output_type": "execute_result"
    }
   ],
   "source": [
    "x = ['open_lag_1', 'high_lag_1', 'low_lag_1', 'close_lag_1', 'open_lag_2',\n",
    "       'high_lag_2', 'low_lag_2', 'close_lag_2', 'open_lag_3', 'high_lag_3',\n",
    "       'low_lag_3', 'close_lag_3', 'open_lag_4', 'high_lag_4', 'low_lag_4',\n",
    "       'close_lag_4', 'open_lag_5', 'high_lag_5', 'low_lag_5', 'close_lag_5',\n",
    "       'open_lag_6', 'high_lag_6', 'low_lag_6', 'close_lag_6', 'open_lag_7',\n",
    "       'high_lag_7', 'low_lag_7', 'close_lag_7', 'open_lag_8', 'high_lag_8',\n",
    "       'low_lag_8', 'close_lag_8', 'open_lag_9', 'high_lag_9', 'low_lag_9',\n",
    "       'close_lag_9', 'open_lag_10', 'high_lag_10', 'low_lag_10',\n",
    "       'close_lag_10', 'open_lag_11', 'high_lag_11', 'low_lag_11',\n",
    "       'close_lag_11', 'open_lag_12', 'high_lag_12', 'low_lag_12',\n",
    "       'close_lag_12', 'open_lag_13', 'high_lag_13', 'low_lag_13',\n",
    "       'close_lag_13', 'open_lag_14', 'high_lag_14', 'low_lag_14',\n",
    "       'close_lag_14', 'open_lag_15', 'high_lag_15', 'low_lag_15',\n",
    "       'close_lag_15', 'price_change', 'direction', 'cumulative_ups',\n",
    "       'cumulative_downs', 'direction_change_up_to_down',\n",
    "       'direction_change_down_to_up', 'prev_cumulative_ups',\n",
    "       'prev_cumulative_downs', 'hour', 'minute', 'day_of_year', 'local_max_5',\n",
    "       'local_min_5', 'cumulative_local_max_5', 'cumulative_local_min_5',\n",
    "       'time_since_prev_max_5', 'time_since_prev_min_5', 'local_max_10',\n",
    "       'local_min_10', 'cumulative_local_max_10', 'cumulative_local_min_10',\n",
    "       'time_since_prev_max_10', 'time_since_prev_min_10', 'local_max_15',\n",
    "       'local_min_15', 'cumulative_local_max_15', 'cumulative_local_min_15',\n",
    "       'time_since_prev_max_15', 'time_since_prev_min_15', 'local_max_30',\n",
    "       'local_min_30', 'cumulative_local_max_30', 'cumulative_local_min_30',\n",
    "       'time_since_prev_max_30', 'time_since_prev_min_30', 'max_today',\n",
    "       'min_today', 'max_today_session', 'min_today_session']\n",
    "len(x)"
   ]
  },
  {
   "cell_type": "code",
   "execution_count": null,
   "id": "0c75509e-b287-496b-aecb-ccfe612a05e0",
   "metadata": {},
   "outputs": [],
   "source": []
  }
 ],
 "metadata": {
  "kernelspec": {
   "display_name": "conda_fools_gold",
   "language": "python",
   "name": "conda_fools_gold"
  },
  "language_info": {
   "codemirror_mode": {
    "name": "ipython",
    "version": 3
   },
   "file_extension": ".py",
   "mimetype": "text/x-python",
   "name": "python",
   "nbconvert_exporter": "python",
   "pygments_lexer": "ipython3",
   "version": "3.9.19"
  }
 },
 "nbformat": 4,
 "nbformat_minor": 5
}
