{
 "cells": [
  {
   "cell_type": "code",
   "execution_count": 1,
   "id": "3f60a37b-a2ce-499d-b394-9227f624aea5",
   "metadata": {},
   "outputs": [],
   "source": [
    "import yaml\n",
    "import boto3\n",
    "import pandas as pd\n",
    "import numpy as np\n",
    "import warnings\n",
    "from tqdm import tqdm\n",
    "warnings.filterwarnings(\"ignore\")"
   ]
  },
  {
   "cell_type": "code",
   "execution_count": 2,
   "id": "532a7599-39ac-4337-9f6a-090e3f4207dd",
   "metadata": {
    "tags": []
   },
   "outputs": [
    {
     "data": {
      "text/plain": [
       "'/home/ec2-user/SageMaker/sisyphus/AthenaInsights/notebooks/data_cleaning'"
      ]
     },
     "execution_count": 2,
     "metadata": {},
     "output_type": "execute_result"
    }
   ],
   "source": [
    "import os\n",
    "os.getcwd()"
   ]
  },
  {
   "cell_type": "code",
   "execution_count": 3,
   "id": "8c006123-57d0-444c-b790-b4645d941168",
   "metadata": {},
   "outputs": [],
   "source": [
    "client = boto3.client('s3')"
   ]
  },
  {
   "cell_type": "code",
   "execution_count": 4,
   "id": "3d9f7e89-8348-4a83-b8c5-20f3a2760ed6",
   "metadata": {},
   "outputs": [],
   "source": [
    "s3_prefix = 's3://'\n",
    "bucket = 'sisyphus-general-bucket'\n",
    "primary_folder = 'AthenaInsights'"
   ]
  },
  {
   "cell_type": "code",
   "execution_count": 5,
   "id": "7780ef43-8f6d-4cda-b809-66bb52eb2e35",
   "metadata": {
    "tags": []
   },
   "outputs": [
    {
     "name": "stdout",
     "output_type": "stream",
     "text": [
      "AthenaInsights/latest_data/csv/\n",
      "AthenaInsights/latest_data/data_prep/\n",
      "AthenaInsights/latest_data/dependent_variable/\n",
      "AthenaInsights/latest_data/feature_prep/\n",
      "AthenaInsights/latest_data/parquet/\n",
      "AthenaInsights/latest_data/reduced_autocorelation/\n"
     ]
    }
   ],
   "source": [
    "paginator = client.get_paginator('list_objects_v2')\n",
    "\n",
    "# List objects under the specified prefix\n",
    "page_iterator = paginator.paginate(Bucket=bucket, Prefix='AthenaInsights/latest_data/', Delimiter='/')\n",
    "\n",
    "for page in page_iterator:\n",
    "    if 'CommonPrefixes' in page:\n",
    "        for folder in page['CommonPrefixes']:\n",
    "            print(folder['Prefix'])"
   ]
  },
  {
   "cell_type": "markdown",
   "id": "a14e83ac-3046-4fe3-9b1b-43732a8dd178",
   "metadata": {
    "tags": []
   },
   "source": [
    "### dependent variable"
   ]
  },
  {
   "cell_type": "code",
   "execution_count": 6,
   "id": "f950a050-2ef4-4c5f-a97e-e92ba6903069",
   "metadata": {},
   "outputs": [],
   "source": [
    "client = boto3.client('s3')"
   ]
  },
  {
   "cell_type": "code",
   "execution_count": 7,
   "id": "465525c4-ebef-4094-b523-e34d45506104",
   "metadata": {},
   "outputs": [],
   "source": [
    "s3_prefix = 's3://'\n",
    "bucket = 'sisyphus-general-bucket'\n",
    "primary_folder = 'AthenaInsights'"
   ]
  },
  {
   "cell_type": "code",
   "execution_count": 8,
   "id": "09ff0bc6-6532-46a4-91cd-5e52c8037c18",
   "metadata": {},
   "outputs": [],
   "source": [
    "# dependent_variable_loc = 's3://sisyphus-general-bucket/AthenaInsights/latest_data/dependent_variable/stock_bars_1min.parquet'\n",
    "# dependent_variable = pd.read_parquet(dependent_variable_loc, columns=['category', 'close_sma_5m' ])"
   ]
  },
  {
   "cell_type": "markdown",
   "id": "c4acc954-1d26-4f84-b12c-f4b6c7ee0d20",
   "metadata": {},
   "source": [
    "### all paths"
   ]
  },
  {
   "cell_type": "code",
   "execution_count": 9,
   "id": "1cc105ba-23a9-46e1-909a-6af770a7232c",
   "metadata": {
    "tags": []
   },
   "outputs": [
    {
     "name": "stdout",
     "output_type": "stream",
     "text": [
      "AthenaInsights/latest_data/csv/\n",
      "AthenaInsights/latest_data/data_prep/\n",
      "AthenaInsights/latest_data/dependent_variable/\n",
      "AthenaInsights/latest_data/feature_prep/\n",
      "AthenaInsights/latest_data/parquet/\n",
      "AthenaInsights/latest_data/reduced_autocorelation/\n"
     ]
    }
   ],
   "source": [
    "paginator = client.get_paginator('list_objects_v2')\n",
    "\n",
    "# List objects under the specified prefix\n",
    "page_iterator = paginator.paginate(Bucket=bucket, Prefix='AthenaInsights/latest_data/', Delimiter='/')\n",
    "\n",
    "for page in page_iterator:\n",
    "    if 'CommonPrefixes' in page:\n",
    "        for folder in page['CommonPrefixes']:\n",
    "            print(folder['Prefix'])"
   ]
  },
  {
   "cell_type": "code",
   "execution_count": 10,
   "id": "858ce936",
   "metadata": {},
   "outputs": [],
   "source": [
    "s3_prefix = 's3://'\n",
    "bucket = 'sisyphus-general-bucket'\n",
    "primary_folder = 'AthenaInsights'"
   ]
  },
  {
   "cell_type": "code",
   "execution_count": 11,
   "id": "f283624f-0319-4595-afe6-5e9f0554f5f1",
   "metadata": {
    "tags": []
   },
   "outputs": [],
   "source": [
    "response = client.list_objects_v2(\n",
    "    Bucket=bucket,\n",
    "    Prefix=f'{primary_folder}/latest_data/feature_prep/')"
   ]
  },
  {
   "cell_type": "code",
   "execution_count": 12,
   "id": "72a3ef54-d27d-4a36-affc-7df8591a46fd",
   "metadata": {
    "tags": []
   },
   "outputs": [
    {
     "data": {
      "text/plain": [
       "['s3://sisyphus-general-bucket/AthenaInsights/latest_data/feature_prep/stock_bars_1min_base.parquet',\n",
       " 's3://sisyphus-general-bucket/AthenaInsights/latest_data/feature_prep/stock_bars_1min_base_macd.parquet',\n",
       " 's3://sisyphus-general-bucket/AthenaInsights/latest_data/feature_prep/stock_bars_1min_base_other_features.parquet',\n",
       " 's3://sisyphus-general-bucket/AthenaInsights/latest_data/feature_prep/stock_bars_1min_base_rsi.parquet']"
      ]
     },
     "execution_count": 12,
     "metadata": {},
     "output_type": "execute_result"
    }
   ],
   "source": [
    "paths = []\n",
    "for content in response.get('Contents', []):\n",
    "    # print(f\"{s3_prefix}{bucket}/{content['Key']}\")\n",
    "    k = content['Key']\n",
    "    if 'base' in k and '1min' in k: #('base' in k or 'diff' in k) and ('rsi' not in k and 'macd' not in k):\n",
    "        paths.append(f\"{s3_prefix}{bucket}/{content['Key']}\")\n",
    "paths"
   ]
  },
  {
   "cell_type": "code",
   "execution_count": 13,
   "id": "8bbe33a2-ed09-4210-bb85-e13a56b100e4",
   "metadata": {
    "tags": []
   },
   "outputs": [
    {
     "data": {
      "text/plain": [
       "['s3://sisyphus-general-bucket/AthenaInsights/latest_data/feature_prep/stock_bars_2min_base.parquet',\n",
       " 's3://sisyphus-general-bucket/AthenaInsights/latest_data/feature_prep/stock_bars_2min_base_macd.parquet',\n",
       " 's3://sisyphus-general-bucket/AthenaInsights/latest_data/feature_prep/stock_bars_2min_base_rsi.parquet']"
      ]
     },
     "execution_count": 13,
     "metadata": {},
     "output_type": "execute_result"
    }
   ],
   "source": [
    "paths = []\n",
    "for content in response.get('Contents', []):\n",
    "    # print(f\"{s3_prefix}{bucket}/{content['Key']}\")\n",
    "    k = content['Key']\n",
    "    if 'base' in k and '2min' in k: #('base' in k or 'diff' in k) and ('rsi' not in k and 'macd' not in k):\n",
    "        paths.append(f\"{s3_prefix}{bucket}/{content['Key']}\")\n",
    "paths"
   ]
  },
  {
   "cell_type": "markdown",
   "id": "6bbcf403-47bc-4ed8-a3b2-ad5c963fb085",
   "metadata": {
    "tags": []
   },
   "source": [
    "### independent variables"
   ]
  },
  {
   "cell_type": "code",
   "execution_count": 14,
   "id": "1c6503f3-47bc-47db-937f-60551a2a984e",
   "metadata": {
    "tags": []
   },
   "outputs": [],
   "source": [
    "paths = []\n",
    "for content in response.get('Contents', []):\n",
    "    # print(f\"{s3_prefix}{bucket}/{content['Key']}\")\n",
    "    k = content['Key']\n",
    "    paths.append(f\"{s3_prefix}{bucket}/{content['Key']}\")"
   ]
  },
  {
   "cell_type": "code",
   "execution_count": 15,
   "id": "94282fbc-97a5-4728-b382-1de74a538839",
   "metadata": {
    "tags": []
   },
   "outputs": [
    {
     "data": {
      "text/plain": [
       "151"
      ]
     },
     "execution_count": 15,
     "metadata": {},
     "output_type": "execute_result"
    }
   ],
   "source": [
    "len(paths)"
   ]
  },
  {
   "cell_type": "code",
   "execution_count": 16,
   "id": "60ba4f66-e0e9-4106-a193-9e3b3fe6ed30",
   "metadata": {
    "tags": []
   },
   "outputs": [],
   "source": [
    "import pyarrow.dataset as ds\n",
    "from tqdm import tqdm"
   ]
  },
  {
   "cell_type": "code",
   "execution_count": 17,
   "id": "dd1ceffa-f9e0-46e9-b179-d724938857aa",
   "metadata": {},
   "outputs": [],
   "source": [
    "# names = []\n",
    "# time_periods = []\n",
    "# from pyarrow.parquet import read_metadata\n",
    "# x = read_metadata(path)\n",
    "# dir(x)\n",
    "# x.schema[0].path"
   ]
  },
  {
   "cell_type": "code",
   "execution_count": 18,
   "id": "f273fe98-18b4-44ce-849a-e635ed4b0cbb",
   "metadata": {
    "tags": []
   },
   "outputs": [
    {
     "name": "stderr",
     "output_type": "stream",
     "text": [
      "100%|██████████| 151/151 [01:29<00:00,  1.68it/s]\n"
     ]
    }
   ],
   "source": [
    "all_info = pd.DataFrame(columns=['name', 'time_period', 'path', 'cols'])\n",
    "\n",
    "for path in tqdm(paths):\n",
    "    name = path.split('/')[-1].replace('.parquet', '')\n",
    "    time_period = name.replace('stock_bars_', '').split('_')[0]\n",
    "    df = ds.dataset(path).scanner().head(1).to_pandas()\n",
    "    columns = list(df.columns)\n",
    "    all_info.loc[all_info.shape[0]] = [name, time_period, path, columns]"
   ]
  },
  {
   "cell_type": "code",
   "execution_count": 19,
   "id": "339486e3-13cd-4deb-9535-022f83889a1c",
   "metadata": {
    "tags": []
   },
   "outputs": [
    {
     "data": {
      "text/html": [
       "<div>\n",
       "<style scoped>\n",
       "    .dataframe tbody tr th:only-of-type {\n",
       "        vertical-align: middle;\n",
       "    }\n",
       "\n",
       "    .dataframe tbody tr th {\n",
       "        vertical-align: top;\n",
       "    }\n",
       "\n",
       "    .dataframe thead th {\n",
       "        text-align: right;\n",
       "    }\n",
       "</style>\n",
       "<table border=\"1\" class=\"dataframe\">\n",
       "  <thead>\n",
       "    <tr style=\"text-align: right;\">\n",
       "      <th></th>\n",
       "      <th>name</th>\n",
       "      <th>time_period</th>\n",
       "      <th>path</th>\n",
       "      <th>cols</th>\n",
       "    </tr>\n",
       "  </thead>\n",
       "  <tbody>\n",
       "    <tr>\n",
       "      <th>0</th>\n",
       "      <td>stock_bars_100D_base</td>\n",
       "      <td>100D</td>\n",
       "      <td>s3://sisyphus-general-bucket/AthenaInsights/la...</td>\n",
       "      <td>[open, high, low, close, volume, symbol, time_...</td>\n",
       "    </tr>\n",
       "    <tr>\n",
       "      <th>1</th>\n",
       "      <td>stock_bars_100D_base_macd</td>\n",
       "      <td>100D</td>\n",
       "      <td>s3://sisyphus-general-bucket/AthenaInsights/la...</td>\n",
       "      <td>[symbol, close_ema_5m, close_ema_8m, close_ema...</td>\n",
       "    </tr>\n",
       "    <tr>\n",
       "      <th>2</th>\n",
       "      <td>stock_bars_100D_base_rsi</td>\n",
       "      <td>100D</td>\n",
       "      <td>s3://sisyphus-general-bucket/AthenaInsights/la...</td>\n",
       "      <td>[close, close_ema_5m, close_sma_5m, close_ema_...</td>\n",
       "    </tr>\n",
       "    <tr>\n",
       "      <th>3</th>\n",
       "      <td>stock_bars_100D_diff</td>\n",
       "      <td>100D</td>\n",
       "      <td>s3://sisyphus-general-bucket/AthenaInsights/la...</td>\n",
       "      <td>[open_diff, high_diff, low_diff, close_diff, v...</td>\n",
       "    </tr>\n",
       "    <tr>\n",
       "      <th>4</th>\n",
       "      <td>stock_bars_100D_diff_macd</td>\n",
       "      <td>100D</td>\n",
       "      <td>s3://sisyphus-general-bucket/AthenaInsights/la...</td>\n",
       "      <td>[symbol, close_diff_ema_5m, close_diff_ema_8m,...</td>\n",
       "    </tr>\n",
       "  </tbody>\n",
       "</table>\n",
       "</div>"
      ],
      "text/plain": [
       "                        name time_period  \\\n",
       "0       stock_bars_100D_base        100D   \n",
       "1  stock_bars_100D_base_macd        100D   \n",
       "2   stock_bars_100D_base_rsi        100D   \n",
       "3       stock_bars_100D_diff        100D   \n",
       "4  stock_bars_100D_diff_macd        100D   \n",
       "\n",
       "                                                path  \\\n",
       "0  s3://sisyphus-general-bucket/AthenaInsights/la...   \n",
       "1  s3://sisyphus-general-bucket/AthenaInsights/la...   \n",
       "2  s3://sisyphus-general-bucket/AthenaInsights/la...   \n",
       "3  s3://sisyphus-general-bucket/AthenaInsights/la...   \n",
       "4  s3://sisyphus-general-bucket/AthenaInsights/la...   \n",
       "\n",
       "                                                cols  \n",
       "0  [open, high, low, close, volume, symbol, time_...  \n",
       "1  [symbol, close_ema_5m, close_ema_8m, close_ema...  \n",
       "2  [close, close_ema_5m, close_sma_5m, close_ema_...  \n",
       "3  [open_diff, high_diff, low_diff, close_diff, v...  \n",
       "4  [symbol, close_diff_ema_5m, close_diff_ema_8m,...  "
      ]
     },
     "execution_count": 19,
     "metadata": {},
     "output_type": "execute_result"
    }
   ],
   "source": [
    "all_info.head()"
   ]
  },
  {
   "cell_type": "code",
   "execution_count": 20,
   "id": "56e5b101-446c-4e3c-a151-7a4b44e80149",
   "metadata": {
    "tags": []
   },
   "outputs": [],
   "source": [
    "paths_config = dict().fromkeys(list(all_info.time_period.unique()), dict())\n",
    "for row in all_info.iterrows():\n",
    "    paths_config[time_period][row[1]['name']] = {}\n",
    "    paths_config[time_period][row[1]['name']]['path'] = row[1]['path']\n",
    "    paths_config[time_period][row[1]['name']]['cols'] = row[1]['cols']"
   ]
  },
  {
   "cell_type": "code",
   "execution_count": 21,
   "id": "0745fc84-234b-4cc5-8a28-de1102001271",
   "metadata": {
    "tags": []
   },
   "outputs": [
    {
     "data": {
      "text/plain": [
       "dict_keys(['path', 'cols'])"
      ]
     },
     "execution_count": 21,
     "metadata": {},
     "output_type": "execute_result"
    }
   ],
   "source": [
    "paths_config.keys()\n",
    "paths_config['100D'].keys()\n",
    "paths_config['100D']['stock_bars_100D_base'].keys()"
   ]
  },
  {
   "cell_type": "code",
   "execution_count": 23,
   "id": "30ea5a82-2660-4e2a-b95a-10a0bdb38d46",
   "metadata": {
    "tags": []
   },
   "outputs": [],
   "source": [
    "with open('../../config/spy_30min_v1/features.yaml', 'w+') as ff:\n",
    "    yaml.dump(paths_config, ff)"
   ]
  },
  {
   "cell_type": "code",
   "execution_count": null,
   "id": "4276ad25-ca71-4f55-9b81-a24249038fe9",
   "metadata": {
    "tags": []
   },
   "outputs": [],
   "source": []
  },
  {
   "cell_type": "code",
   "execution_count": null,
   "id": "c4b67db7-1108-4604-95c6-acb10a2561c7",
   "metadata": {},
   "outputs": [],
   "source": []
  }
 ],
 "metadata": {
  "kernelspec": {
   "display_name": "conda_fools_gold",
   "language": "python",
   "name": "conda_fools_gold"
  },
  "language_info": {
   "codemirror_mode": {
    "name": "ipython",
    "version": 3
   },
   "file_extension": ".py",
   "mimetype": "text/x-python",
   "name": "python",
   "nbconvert_exporter": "python",
   "pygments_lexer": "ipython3",
   "version": "3.9.19"
  }
 },
 "nbformat": 4,
 "nbformat_minor": 5
}
