{
 "cells": [
  {
   "cell_type": "code",
   "execution_count": 1,
   "id": "772c7907-1461-420b-9b47-318d5fc05d1e",
   "metadata": {
    "tags": []
   },
   "outputs": [],
   "source": [
    "import pandas as pd\n",
    "import numpy as np\n",
    "import warnings\n",
    "import boto3\n",
    "import re\n",
    "from tqdm import tqdm\n",
    "warnings.filterwarnings(\"ignore\")"
   ]
  },
  {
   "cell_type": "markdown",
   "id": "8937e751-fa0c-4a9d-8ff3-39df5d0586c8",
   "metadata": {},
   "source": [
    "### data"
   ]
  },
  {
   "cell_type": "code",
   "execution_count": 2,
   "id": "cd5d93d7-3f09-4e56-a507-6593b48b648d",
   "metadata": {
    "tags": []
   },
   "outputs": [],
   "source": [
    "client = boto3.client('s3')"
   ]
  },
  {
   "cell_type": "code",
   "execution_count": 3,
   "id": "c642adbb-e807-41a0-82a6-8e292f932a4a",
   "metadata": {
    "tags": []
   },
   "outputs": [],
   "source": [
    "s3_prefix = 's3://'\n",
    "bucket = 'sisyphus-general-bucket'\n",
    "primary_folder = 'AthenaInsights'"
   ]
  },
  {
   "cell_type": "code",
   "execution_count": 4,
   "id": "66e986e9-7758-43d2-8463-9f825e6bce8c",
   "metadata": {
    "tags": []
   },
   "outputs": [],
   "source": [
    "response = client.list_objects_v2(\n",
    "    Bucket=bucket,\n",
    "    Prefix=f'{primary_folder}/latest_data/feature_prep/')"
   ]
  },
  {
   "cell_type": "code",
   "execution_count": 5,
   "id": "44774a9b-c2d0-4281-afbc-db3637832641",
   "metadata": {
    "tags": []
   },
   "outputs": [],
   "source": [
    "paths = []\n",
    "for content in response.get('Contents', []):\n",
    "    # print(f\"{s3_prefix}{bucket}/{content['Key']}\")\n",
    "    k = content['Key']\n",
    "    if ('base' in k or 'diff' in k) and ('rsi' not in k and 'macd' not in k):\n",
    "        paths.append(f\"{s3_prefix}{bucket}/{content['Key']}\")"
   ]
  },
  {
   "cell_type": "code",
   "execution_count": 6,
   "id": "749428bf-b50a-43f7-9f92-e93c3da26c0e",
   "metadata": {
    "tags": []
   },
   "outputs": [
    {
     "data": {
      "text/plain": [
       "['s3://sisyphus-general-bucket/AthenaInsights/latest_data/feature_prep/stock_bars_100D_base.parquet',\n",
       " 's3://sisyphus-general-bucket/AthenaInsights/latest_data/feature_prep/stock_bars_100D_diff.parquet',\n",
       " 's3://sisyphus-general-bucket/AthenaInsights/latest_data/feature_prep/stock_bars_10D_base.parquet',\n",
       " 's3://sisyphus-general-bucket/AthenaInsights/latest_data/feature_prep/stock_bars_10D_diff.parquet',\n",
       " 's3://sisyphus-general-bucket/AthenaInsights/latest_data/feature_prep/stock_bars_10min_base.parquet',\n",
       " 's3://sisyphus-general-bucket/AthenaInsights/latest_data/feature_prep/stock_bars_10min_diff.parquet',\n",
       " 's3://sisyphus-general-bucket/AthenaInsights/latest_data/feature_prep/stock_bars_120min_base.parquet',\n",
       " 's3://sisyphus-general-bucket/AthenaInsights/latest_data/feature_prep/stock_bars_120min_diff.parquet',\n",
       " 's3://sisyphus-general-bucket/AthenaInsights/latest_data/feature_prep/stock_bars_150D_base.parquet',\n",
       " 's3://sisyphus-general-bucket/AthenaInsights/latest_data/feature_prep/stock_bars_150D_diff.parquet',\n",
       " 's3://sisyphus-general-bucket/AthenaInsights/latest_data/feature_prep/stock_bars_15D_base.parquet',\n",
       " 's3://sisyphus-general-bucket/AthenaInsights/latest_data/feature_prep/stock_bars_15D_diff.parquet',\n",
       " 's3://sisyphus-general-bucket/AthenaInsights/latest_data/feature_prep/stock_bars_15min_base.parquet',\n",
       " 's3://sisyphus-general-bucket/AthenaInsights/latest_data/feature_prep/stock_bars_15min_diff.parquet',\n",
       " 's3://sisyphus-general-bucket/AthenaInsights/latest_data/feature_prep/stock_bars_180min_base.parquet',\n",
       " 's3://sisyphus-general-bucket/AthenaInsights/latest_data/feature_prep/stock_bars_180min_diff.parquet',\n",
       " 's3://sisyphus-general-bucket/AthenaInsights/latest_data/feature_prep/stock_bars_1D_base.parquet',\n",
       " 's3://sisyphus-general-bucket/AthenaInsights/latest_data/feature_prep/stock_bars_1D_diff.parquet',\n",
       " 's3://sisyphus-general-bucket/AthenaInsights/latest_data/feature_prep/stock_bars_1min_base.parquet',\n",
       " 's3://sisyphus-general-bucket/AthenaInsights/latest_data/feature_prep/stock_bars_1min_diff.parquet',\n",
       " 's3://sisyphus-general-bucket/AthenaInsights/latest_data/feature_prep/stock_bars_200D_base.parquet',\n",
       " 's3://sisyphus-general-bucket/AthenaInsights/latest_data/feature_prep/stock_bars_200D_diff.parquet',\n",
       " 's3://sisyphus-general-bucket/AthenaInsights/latest_data/feature_prep/stock_bars_20D_base.parquet',\n",
       " 's3://sisyphus-general-bucket/AthenaInsights/latest_data/feature_prep/stock_bars_20D_diff.parquet',\n",
       " 's3://sisyphus-general-bucket/AthenaInsights/latest_data/feature_prep/stock_bars_20min_base.parquet',\n",
       " 's3://sisyphus-general-bucket/AthenaInsights/latest_data/feature_prep/stock_bars_20min_diff.parquet',\n",
       " 's3://sisyphus-general-bucket/AthenaInsights/latest_data/feature_prep/stock_bars_240min_base.parquet',\n",
       " 's3://sisyphus-general-bucket/AthenaInsights/latest_data/feature_prep/stock_bars_240min_diff.parquet',\n",
       " 's3://sisyphus-general-bucket/AthenaInsights/latest_data/feature_prep/stock_bars_25min_base.parquet',\n",
       " 's3://sisyphus-general-bucket/AthenaInsights/latest_data/feature_prep/stock_bars_25min_diff.parquet',\n",
       " 's3://sisyphus-general-bucket/AthenaInsights/latest_data/feature_prep/stock_bars_2D_base.parquet',\n",
       " 's3://sisyphus-general-bucket/AthenaInsights/latest_data/feature_prep/stock_bars_2D_diff.parquet',\n",
       " 's3://sisyphus-general-bucket/AthenaInsights/latest_data/feature_prep/stock_bars_2min_base.parquet',\n",
       " 's3://sisyphus-general-bucket/AthenaInsights/latest_data/feature_prep/stock_bars_2min_diff.parquet',\n",
       " 's3://sisyphus-general-bucket/AthenaInsights/latest_data/feature_prep/stock_bars_30D_base.parquet',\n",
       " 's3://sisyphus-general-bucket/AthenaInsights/latest_data/feature_prep/stock_bars_30D_diff.parquet',\n",
       " 's3://sisyphus-general-bucket/AthenaInsights/latest_data/feature_prep/stock_bars_30min_base.parquet',\n",
       " 's3://sisyphus-general-bucket/AthenaInsights/latest_data/feature_prep/stock_bars_30min_diff.parquet',\n",
       " 's3://sisyphus-general-bucket/AthenaInsights/latest_data/feature_prep/stock_bars_3D_base.parquet',\n",
       " 's3://sisyphus-general-bucket/AthenaInsights/latest_data/feature_prep/stock_bars_3D_diff.parquet',\n",
       " 's3://sisyphus-general-bucket/AthenaInsights/latest_data/feature_prep/stock_bars_3min_base.parquet',\n",
       " 's3://sisyphus-general-bucket/AthenaInsights/latest_data/feature_prep/stock_bars_3min_diff.parquet',\n",
       " 's3://sisyphus-general-bucket/AthenaInsights/latest_data/feature_prep/stock_bars_50D_base.parquet',\n",
       " 's3://sisyphus-general-bucket/AthenaInsights/latest_data/feature_prep/stock_bars_50D_diff.parquet',\n",
       " 's3://sisyphus-general-bucket/AthenaInsights/latest_data/feature_prep/stock_bars_5D_base.parquet',\n",
       " 's3://sisyphus-general-bucket/AthenaInsights/latest_data/feature_prep/stock_bars_5D_diff.parquet',\n",
       " 's3://sisyphus-general-bucket/AthenaInsights/latest_data/feature_prep/stock_bars_5min_base.parquet',\n",
       " 's3://sisyphus-general-bucket/AthenaInsights/latest_data/feature_prep/stock_bars_5min_diff.parquet',\n",
       " 's3://sisyphus-general-bucket/AthenaInsights/latest_data/feature_prep/stock_bars_60min_base.parquet',\n",
       " 's3://sisyphus-general-bucket/AthenaInsights/latest_data/feature_prep/stock_bars_60min_diff.parquet']"
      ]
     },
     "execution_count": 6,
     "metadata": {},
     "output_type": "execute_result"
    }
   ],
   "source": [
    "paths"
   ]
  },
  {
   "cell_type": "code",
   "execution_count": 7,
   "id": "df135ec3-5187-4113-8b89-24588d5760f4",
   "metadata": {},
   "outputs": [
    {
     "name": "stderr",
     "output_type": "stream",
     "text": [
      "  0%|          | 0/50 [00:00<?, ?it/s]"
     ]
    },
    {
     "name": "stdout",
     "output_type": "stream",
     "text": [
      "Reading from s3://sisyphus-general-bucket/AthenaInsights/latest_data/feature_prep/stock_bars_100D_base.parquet\n",
      "symbol - QQQ for signals = [11, 13, 17, 20, 26, 30, 50]\n",
      "symbol - SPY for signals = [11, 13, 17, 20, 26, 30, 50]\n",
      "Saving to s3://sisyphus-general-bucket/AthenaInsights/latest_data/feature_prep/stock_bars_100D_base_macd.parquet\n"
     ]
    },
    {
     "name": "stderr",
     "output_type": "stream",
     "text": [
      "  2%|▏         | 1/50 [00:01<01:02,  1.27s/it]"
     ]
    },
    {
     "name": "stdout",
     "output_type": "stream",
     "text": [
      "Reading from s3://sisyphus-general-bucket/AthenaInsights/latest_data/feature_prep/stock_bars_100D_diff.parquet\n",
      "symbol - QQQ for signals = [11, 13, 17, 20, 26, 30, 50]\n",
      "symbol - SPY for signals = [11, 13, 17, 20, 26, 30, 50]\n",
      "Saving to s3://sisyphus-general-bucket/AthenaInsights/latest_data/feature_prep/stock_bars_100D_diff_macd.parquet\n"
     ]
    },
    {
     "name": "stderr",
     "output_type": "stream",
     "text": [
      "  4%|▍         | 2/50 [00:02<00:49,  1.02s/it]"
     ]
    },
    {
     "name": "stdout",
     "output_type": "stream",
     "text": [
      "Reading from s3://sisyphus-general-bucket/AthenaInsights/latest_data/feature_prep/stock_bars_10D_base.parquet\n",
      "symbol - QQQ for signals = [11, 13, 17, 20, 26]\n",
      "symbol - SPY for signals = [11, 13, 17, 20, 26]\n",
      "Saving to s3://sisyphus-general-bucket/AthenaInsights/latest_data/feature_prep/stock_bars_10D_base_macd.parquet\n"
     ]
    },
    {
     "name": "stderr",
     "output_type": "stream",
     "text": [
      "  6%|▌         | 3/50 [00:03<00:51,  1.09s/it]"
     ]
    },
    {
     "name": "stdout",
     "output_type": "stream",
     "text": [
      "Reading from s3://sisyphus-general-bucket/AthenaInsights/latest_data/feature_prep/stock_bars_10D_diff.parquet\n",
      "symbol - QQQ for signals = [11, 13, 17, 20, 26]\n",
      "symbol - SPY for signals = [11, 13, 17, 20, 26]\n",
      "Saving to s3://sisyphus-general-bucket/AthenaInsights/latest_data/feature_prep/stock_bars_10D_diff_macd.parquet\n"
     ]
    },
    {
     "name": "stderr",
     "output_type": "stream",
     "text": [
      "  8%|▊         | 4/50 [00:04<00:54,  1.18s/it]"
     ]
    },
    {
     "name": "stdout",
     "output_type": "stream",
     "text": [
      "Reading from s3://sisyphus-general-bucket/AthenaInsights/latest_data/feature_prep/stock_bars_10min_base.parquet\n",
      "symbol - QQQ for signals = [11, 13, 17, 20, 26]\n",
      "symbol - SPY for signals = [11, 13, 17, 20, 26]\n",
      "Saving to s3://sisyphus-general-bucket/AthenaInsights/latest_data/feature_prep/stock_bars_10min_base_macd.parquet\n"
     ]
    },
    {
     "name": "stderr",
     "output_type": "stream",
     "text": [
      " 10%|█         | 5/50 [00:12<02:36,  3.49s/it]"
     ]
    },
    {
     "name": "stdout",
     "output_type": "stream",
     "text": [
      "Reading from s3://sisyphus-general-bucket/AthenaInsights/latest_data/feature_prep/stock_bars_10min_diff.parquet\n",
      "symbol - QQQ for signals = [11, 13, 17, 20, 26]\n",
      "symbol - SPY for signals = [11, 13, 17, 20, 26]\n",
      "Saving to s3://sisyphus-general-bucket/AthenaInsights/latest_data/feature_prep/stock_bars_10min_diff_macd.parquet\n"
     ]
    },
    {
     "name": "stderr",
     "output_type": "stream",
     "text": [
      " 12%|█▏        | 6/50 [00:16<02:48,  3.83s/it]"
     ]
    },
    {
     "name": "stdout",
     "output_type": "stream",
     "text": [
      "Reading from s3://sisyphus-general-bucket/AthenaInsights/latest_data/feature_prep/stock_bars_120min_base.parquet\n",
      "symbol - QQQ for signals = [11, 13, 17, 20, 26, 30, 50]\n",
      "symbol - SPY for signals = [11, 13, 17, 20, 26, 30, 50]\n",
      "Saving to s3://sisyphus-general-bucket/AthenaInsights/latest_data/feature_prep/stock_bars_120min_base_macd.parquet\n"
     ]
    },
    {
     "name": "stderr",
     "output_type": "stream",
     "text": [
      " 14%|█▍        | 7/50 [00:18<02:18,  3.23s/it]"
     ]
    },
    {
     "name": "stdout",
     "output_type": "stream",
     "text": [
      "Reading from s3://sisyphus-general-bucket/AthenaInsights/latest_data/feature_prep/stock_bars_120min_diff.parquet\n",
      "symbol - QQQ for signals = [11, 13, 17, 20, 26, 30, 50]\n",
      "symbol - SPY for signals = [11, 13, 17, 20, 26, 30, 50]\n",
      "Saving to s3://sisyphus-general-bucket/AthenaInsights/latest_data/feature_prep/stock_bars_120min_diff_macd.parquet\n"
     ]
    },
    {
     "name": "stderr",
     "output_type": "stream",
     "text": [
      " 16%|█▌        | 8/50 [00:21<02:05,  3.00s/it]"
     ]
    },
    {
     "name": "stdout",
     "output_type": "stream",
     "text": [
      "Reading from s3://sisyphus-general-bucket/AthenaInsights/latest_data/feature_prep/stock_bars_150D_base.parquet\n",
      "symbol - QQQ for signals = [11, 13, 17, 20, 26, 30, 50]\n",
      "symbol - SPY for signals = [11, 13, 17, 20, 26, 30, 50]\n",
      "Saving to s3://sisyphus-general-bucket/AthenaInsights/latest_data/feature_prep/stock_bars_150D_base_macd.parquet\n"
     ]
    },
    {
     "name": "stderr",
     "output_type": "stream",
     "text": [
      " 18%|█▊        | 9/50 [00:22<01:36,  2.35s/it]"
     ]
    },
    {
     "name": "stdout",
     "output_type": "stream",
     "text": [
      "Reading from s3://sisyphus-general-bucket/AthenaInsights/latest_data/feature_prep/stock_bars_150D_diff.parquet\n",
      "symbol - QQQ for signals = [11, 13, 17, 20, 26, 30, 50]\n",
      "symbol - SPY for signals = [11, 13, 17, 20, 26, 30, 50]\n",
      "Saving to s3://sisyphus-general-bucket/AthenaInsights/latest_data/feature_prep/stock_bars_150D_diff_macd.parquet\n"
     ]
    },
    {
     "name": "stderr",
     "output_type": "stream",
     "text": [
      " 20%|██        | 10/50 [00:22<01:15,  1.88s/it]"
     ]
    },
    {
     "name": "stdout",
     "output_type": "stream",
     "text": [
      "Reading from s3://sisyphus-general-bucket/AthenaInsights/latest_data/feature_prep/stock_bars_15D_base.parquet\n",
      "symbol - QQQ for signals = [11, 13, 17, 20, 26]\n",
      "symbol - SPY for signals = [11, 13, 17, 20, 26]\n",
      "Saving to s3://sisyphus-general-bucket/AthenaInsights/latest_data/feature_prep/stock_bars_15D_base_macd.parquet\n"
     ]
    },
    {
     "name": "stderr",
     "output_type": "stream",
     "text": [
      " 22%|██▏       | 11/50 [00:24<01:05,  1.67s/it]"
     ]
    },
    {
     "name": "stdout",
     "output_type": "stream",
     "text": [
      "Reading from s3://sisyphus-general-bucket/AthenaInsights/latest_data/feature_prep/stock_bars_15D_diff.parquet\n",
      "symbol - QQQ for signals = [11, 13, 17, 20, 26]\n",
      "symbol - SPY for signals = [11, 13, 17, 20, 26]\n",
      "Saving to s3://sisyphus-general-bucket/AthenaInsights/latest_data/feature_prep/stock_bars_15D_diff_macd.parquet\n"
     ]
    },
    {
     "name": "stderr",
     "output_type": "stream",
     "text": [
      " 24%|██▍       | 12/50 [00:25<00:59,  1.56s/it]"
     ]
    },
    {
     "name": "stdout",
     "output_type": "stream",
     "text": [
      "Reading from s3://sisyphus-general-bucket/AthenaInsights/latest_data/feature_prep/stock_bars_15min_base.parquet\n",
      "symbol - QQQ for signals = [11, 13, 17, 20, 26]\n",
      "symbol - SPY for signals = [11, 13, 17, 20, 26]\n",
      "Saving to s3://sisyphus-general-bucket/AthenaInsights/latest_data/feature_prep/stock_bars_15min_base_macd.parquet\n"
     ]
    },
    {
     "name": "stderr",
     "output_type": "stream",
     "text": [
      " 26%|██▌       | 13/50 [00:28<01:16,  2.07s/it]"
     ]
    },
    {
     "name": "stdout",
     "output_type": "stream",
     "text": [
      "Reading from s3://sisyphus-general-bucket/AthenaInsights/latest_data/feature_prep/stock_bars_15min_diff.parquet\n",
      "symbol - QQQ for signals = [11, 13, 17, 20, 26]\n",
      "symbol - SPY for signals = [11, 13, 17, 20, 26]\n",
      "Saving to s3://sisyphus-general-bucket/AthenaInsights/latest_data/feature_prep/stock_bars_15min_diff_macd.parquet\n"
     ]
    },
    {
     "name": "stderr",
     "output_type": "stream",
     "text": [
      " 28%|██▊       | 14/50 [00:31<01:22,  2.29s/it]"
     ]
    },
    {
     "name": "stdout",
     "output_type": "stream",
     "text": [
      "Reading from s3://sisyphus-general-bucket/AthenaInsights/latest_data/feature_prep/stock_bars_180min_base.parquet\n",
      "symbol - QQQ for signals = [11, 13, 17, 20, 26, 30, 50]\n",
      "symbol - SPY for signals = [11, 13, 17, 20, 26, 30, 50]\n",
      "Saving to s3://sisyphus-general-bucket/AthenaInsights/latest_data/feature_prep/stock_bars_180min_base_macd.parquet\n"
     ]
    },
    {
     "name": "stderr",
     "output_type": "stream",
     "text": [
      " 30%|███       | 15/50 [00:33<01:13,  2.11s/it]"
     ]
    },
    {
     "name": "stdout",
     "output_type": "stream",
     "text": [
      "Reading from s3://sisyphus-general-bucket/AthenaInsights/latest_data/feature_prep/stock_bars_180min_diff.parquet\n",
      "symbol - QQQ for signals = [11, 13, 17, 20, 26, 30, 50]\n",
      "symbol - SPY for signals = [11, 13, 17, 20, 26, 30, 50]\n",
      "Saving to s3://sisyphus-general-bucket/AthenaInsights/latest_data/feature_prep/stock_bars_180min_diff_macd.parquet\n"
     ]
    },
    {
     "name": "stderr",
     "output_type": "stream",
     "text": [
      " 32%|███▏      | 16/50 [00:34<01:05,  1.92s/it]"
     ]
    },
    {
     "name": "stdout",
     "output_type": "stream",
     "text": [
      "Reading from s3://sisyphus-general-bucket/AthenaInsights/latest_data/feature_prep/stock_bars_1D_base.parquet\n",
      "symbol - QQQ for signals = [11, 13, 17, 20, 26]\n",
      "symbol - SPY for signals = [11, 13, 17, 20, 26]\n",
      "Saving to s3://sisyphus-general-bucket/AthenaInsights/latest_data/feature_prep/stock_bars_1D_base_macd.parquet\n"
     ]
    },
    {
     "name": "stderr",
     "output_type": "stream",
     "text": [
      " 34%|███▍      | 17/50 [00:35<00:55,  1.69s/it]"
     ]
    },
    {
     "name": "stdout",
     "output_type": "stream",
     "text": [
      "Reading from s3://sisyphus-general-bucket/AthenaInsights/latest_data/feature_prep/stock_bars_1D_diff.parquet\n",
      "symbol - QQQ for signals = [11, 13, 17, 20, 26]\n",
      "symbol - SPY for signals = [11, 13, 17, 20, 26]\n",
      "Saving to s3://sisyphus-general-bucket/AthenaInsights/latest_data/feature_prep/stock_bars_1D_diff_macd.parquet\n"
     ]
    },
    {
     "name": "stderr",
     "output_type": "stream",
     "text": [
      " 36%|███▌      | 18/50 [00:37<00:51,  1.60s/it]"
     ]
    },
    {
     "name": "stdout",
     "output_type": "stream",
     "text": [
      "Reading from s3://sisyphus-general-bucket/AthenaInsights/latest_data/feature_prep/stock_bars_1min_base.parquet\n",
      "symbol - QQQ for signals = [11, 13, 17, 20, 26]\n",
      "symbol - SPY for signals = [11, 13, 17, 20, 26]\n",
      "Saving to s3://sisyphus-general-bucket/AthenaInsights/latest_data/feature_prep/stock_bars_1min_base_macd.parquet\n"
     ]
    },
    {
     "name": "stderr",
     "output_type": "stream",
     "text": [
      " 38%|███▊      | 19/50 [01:00<04:07,  7.99s/it]"
     ]
    },
    {
     "name": "stdout",
     "output_type": "stream",
     "text": [
      "Reading from s3://sisyphus-general-bucket/AthenaInsights/latest_data/feature_prep/stock_bars_1min_diff.parquet\n",
      "symbol - QQQ for signals = [11, 13, 17, 20, 26]\n",
      "symbol - SPY for signals = [11, 13, 17, 20, 26]\n",
      "Saving to s3://sisyphus-general-bucket/AthenaInsights/latest_data/feature_prep/stock_bars_1min_diff_macd.parquet\n"
     ]
    },
    {
     "name": "stderr",
     "output_type": "stream",
     "text": [
      " 40%|████      | 20/50 [01:24<06:26, 12.87s/it]"
     ]
    },
    {
     "name": "stdout",
     "output_type": "stream",
     "text": [
      "Reading from s3://sisyphus-general-bucket/AthenaInsights/latest_data/feature_prep/stock_bars_200D_base.parquet\n",
      "symbol - QQQ for signals = [11, 13, 17, 20, 26, 30, 50]\n",
      "symbol - SPY for signals = [11, 13, 17, 20, 26, 30, 50]\n",
      "Saving to s3://sisyphus-general-bucket/AthenaInsights/latest_data/feature_prep/stock_bars_200D_base_macd.parquet\n"
     ]
    },
    {
     "name": "stderr",
     "output_type": "stream",
     "text": [
      " 42%|████▏     | 21/50 [01:25<04:29,  9.30s/it]"
     ]
    },
    {
     "name": "stdout",
     "output_type": "stream",
     "text": [
      "Reading from s3://sisyphus-general-bucket/AthenaInsights/latest_data/feature_prep/stock_bars_200D_diff.parquet\n",
      "symbol - QQQ for signals = [11, 13, 17, 20, 26, 30, 50]\n",
      "symbol - SPY for signals = [11, 13, 17, 20, 26, 30, 50]\n",
      "Saving to s3://sisyphus-general-bucket/AthenaInsights/latest_data/feature_prep/stock_bars_200D_diff_macd.parquet\n"
     ]
    },
    {
     "name": "stderr",
     "output_type": "stream",
     "text": [
      " 44%|████▍     | 22/50 [01:26<03:09,  6.78s/it]"
     ]
    },
    {
     "name": "stdout",
     "output_type": "stream",
     "text": [
      "Reading from s3://sisyphus-general-bucket/AthenaInsights/latest_data/feature_prep/stock_bars_20D_base.parquet\n",
      "symbol - QQQ for signals = [11, 13, 17, 20, 26]\n",
      "symbol - SPY for signals = [11, 13, 17, 20, 26]\n",
      "Saving to s3://sisyphus-general-bucket/AthenaInsights/latest_data/feature_prep/stock_bars_20D_base_macd.parquet\n"
     ]
    },
    {
     "name": "stderr",
     "output_type": "stream",
     "text": [
      " 46%|████▌     | 23/50 [01:27<02:17,  5.07s/it]"
     ]
    },
    {
     "name": "stdout",
     "output_type": "stream",
     "text": [
      "Reading from s3://sisyphus-general-bucket/AthenaInsights/latest_data/feature_prep/stock_bars_20D_diff.parquet\n",
      "symbol - QQQ for signals = [11, 13, 17, 20, 26]\n",
      "symbol - SPY for signals = [11, 13, 17, 20, 26]\n",
      "Saving to s3://sisyphus-general-bucket/AthenaInsights/latest_data/feature_prep/stock_bars_20D_diff_macd.parquet\n"
     ]
    },
    {
     "name": "stderr",
     "output_type": "stream",
     "text": [
      " 48%|████▊     | 24/50 [01:28<01:43,  3.96s/it]"
     ]
    },
    {
     "name": "stdout",
     "output_type": "stream",
     "text": [
      "Reading from s3://sisyphus-general-bucket/AthenaInsights/latest_data/feature_prep/stock_bars_20min_base.parquet\n",
      "symbol - QQQ for signals = [11, 13, 17, 20, 26]\n",
      "symbol - SPY for signals = [11, 13, 17, 20, 26]\n",
      "Saving to s3://sisyphus-general-bucket/AthenaInsights/latest_data/feature_prep/stock_bars_20min_base_macd.parquet\n"
     ]
    },
    {
     "name": "stderr",
     "output_type": "stream",
     "text": [
      " 50%|█████     | 25/50 [01:31<01:30,  3.60s/it]"
     ]
    },
    {
     "name": "stdout",
     "output_type": "stream",
     "text": [
      "Reading from s3://sisyphus-general-bucket/AthenaInsights/latest_data/feature_prep/stock_bars_20min_diff.parquet\n",
      "symbol - QQQ for signals = [11, 13, 17, 20, 26]\n",
      "symbol - SPY for signals = [11, 13, 17, 20, 26]\n",
      "Saving to s3://sisyphus-general-bucket/AthenaInsights/latest_data/feature_prep/stock_bars_20min_diff_macd.parquet\n"
     ]
    },
    {
     "name": "stderr",
     "output_type": "stream",
     "text": [
      " 52%|█████▏    | 26/50 [01:34<01:21,  3.38s/it]"
     ]
    },
    {
     "name": "stdout",
     "output_type": "stream",
     "text": [
      "Reading from s3://sisyphus-general-bucket/AthenaInsights/latest_data/feature_prep/stock_bars_240min_base.parquet\n",
      "symbol - QQQ for signals = [11, 13, 17, 20, 26, 30, 50]\n",
      "symbol - SPY for signals = [11, 13, 17, 20, 26, 30, 50]\n",
      "Saving to s3://sisyphus-general-bucket/AthenaInsights/latest_data/feature_prep/stock_bars_240min_base_macd.parquet\n"
     ]
    },
    {
     "name": "stderr",
     "output_type": "stream",
     "text": [
      " 54%|█████▍    | 27/50 [01:35<01:03,  2.75s/it]"
     ]
    },
    {
     "name": "stdout",
     "output_type": "stream",
     "text": [
      "Reading from s3://sisyphus-general-bucket/AthenaInsights/latest_data/feature_prep/stock_bars_240min_diff.parquet\n",
      "symbol - QQQ for signals = [11, 13, 17, 20, 26, 30, 50]\n",
      "symbol - SPY for signals = [11, 13, 17, 20, 26, 30, 50]\n",
      "Saving to s3://sisyphus-general-bucket/AthenaInsights/latest_data/feature_prep/stock_bars_240min_diff_macd.parquet\n"
     ]
    },
    {
     "name": "stderr",
     "output_type": "stream",
     "text": [
      " 56%|█████▌    | 28/50 [01:37<00:53,  2.44s/it]"
     ]
    },
    {
     "name": "stdout",
     "output_type": "stream",
     "text": [
      "Reading from s3://sisyphus-general-bucket/AthenaInsights/latest_data/feature_prep/stock_bars_25min_base.parquet\n",
      "symbol - QQQ for signals = [11, 13, 17, 20, 26]\n",
      "symbol - SPY for signals = [11, 13, 17, 20, 26]\n",
      "Saving to s3://sisyphus-general-bucket/AthenaInsights/latest_data/feature_prep/stock_bars_25min_base_macd.parquet\n"
     ]
    },
    {
     "name": "stderr",
     "output_type": "stream",
     "text": [
      " 58%|█████▊    | 29/50 [01:40<00:54,  2.57s/it]"
     ]
    },
    {
     "name": "stdout",
     "output_type": "stream",
     "text": [
      "Reading from s3://sisyphus-general-bucket/AthenaInsights/latest_data/feature_prep/stock_bars_25min_diff.parquet\n",
      "symbol - QQQ for signals = [11, 13, 17, 20, 26]\n",
      "symbol - SPY for signals = [11, 13, 17, 20, 26]\n",
      "Saving to s3://sisyphus-general-bucket/AthenaInsights/latest_data/feature_prep/stock_bars_25min_diff_macd.parquet\n"
     ]
    },
    {
     "name": "stderr",
     "output_type": "stream",
     "text": [
      " 60%|██████    | 30/50 [01:43<00:58,  2.90s/it]"
     ]
    },
    {
     "name": "stdout",
     "output_type": "stream",
     "text": [
      "Reading from s3://sisyphus-general-bucket/AthenaInsights/latest_data/feature_prep/stock_bars_2D_base.parquet\n",
      "symbol - QQQ for signals = [11, 13, 17, 20, 26]\n",
      "symbol - SPY for signals = [11, 13, 17, 20, 26]\n",
      "Saving to s3://sisyphus-general-bucket/AthenaInsights/latest_data/feature_prep/stock_bars_2D_base_macd.parquet\n"
     ]
    },
    {
     "name": "stderr",
     "output_type": "stream",
     "text": [
      " 62%|██████▏   | 31/50 [01:45<00:46,  2.44s/it]"
     ]
    },
    {
     "name": "stdout",
     "output_type": "stream",
     "text": [
      "Reading from s3://sisyphus-general-bucket/AthenaInsights/latest_data/feature_prep/stock_bars_2D_diff.parquet\n",
      "symbol - QQQ for signals = [11, 13, 17, 20, 26]\n",
      "symbol - SPY for signals = [11, 13, 17, 20, 26]\n",
      "Saving to s3://sisyphus-general-bucket/AthenaInsights/latest_data/feature_prep/stock_bars_2D_diff_macd.parquet\n"
     ]
    },
    {
     "name": "stderr",
     "output_type": "stream",
     "text": [
      " 64%|██████▍   | 32/50 [01:46<00:38,  2.12s/it]"
     ]
    },
    {
     "name": "stdout",
     "output_type": "stream",
     "text": [
      "Reading from s3://sisyphus-general-bucket/AthenaInsights/latest_data/feature_prep/stock_bars_2min_base.parquet\n",
      "symbol - QQQ for signals = [11, 13, 17, 20, 26]\n",
      "symbol - SPY for signals = [11, 13, 17, 20, 26]\n",
      "Saving to s3://sisyphus-general-bucket/AthenaInsights/latest_data/feature_prep/stock_bars_2min_base_macd.parquet\n"
     ]
    },
    {
     "name": "stderr",
     "output_type": "stream",
     "text": [
      " 66%|██████▌   | 33/50 [01:56<01:16,  4.48s/it]"
     ]
    },
    {
     "name": "stdout",
     "output_type": "stream",
     "text": [
      "Reading from s3://sisyphus-general-bucket/AthenaInsights/latest_data/feature_prep/stock_bars_2min_diff.parquet\n",
      "symbol - QQQ for signals = [11, 13, 17, 20, 26]\n",
      "symbol - SPY for signals = [11, 13, 17, 20, 26]\n",
      "Saving to s3://sisyphus-general-bucket/AthenaInsights/latest_data/feature_prep/stock_bars_2min_diff_macd.parquet\n"
     ]
    },
    {
     "name": "stderr",
     "output_type": "stream",
     "text": [
      " 68%|██████▊   | 34/50 [02:08<01:48,  6.77s/it]"
     ]
    },
    {
     "name": "stdout",
     "output_type": "stream",
     "text": [
      "Reading from s3://sisyphus-general-bucket/AthenaInsights/latest_data/feature_prep/stock_bars_30D_base.parquet\n",
      "symbol - QQQ for signals = [11, 13, 17, 20, 26]\n",
      "symbol - SPY for signals = [11, 13, 17, 20, 26]\n",
      "Saving to s3://sisyphus-general-bucket/AthenaInsights/latest_data/feature_prep/stock_bars_30D_base_macd.parquet\n"
     ]
    },
    {
     "name": "stderr",
     "output_type": "stream",
     "text": [
      " 70%|███████   | 35/50 [02:09<01:16,  5.10s/it]"
     ]
    },
    {
     "name": "stdout",
     "output_type": "stream",
     "text": [
      "Reading from s3://sisyphus-general-bucket/AthenaInsights/latest_data/feature_prep/stock_bars_30D_diff.parquet\n",
      "symbol - QQQ for signals = [11, 13, 17, 20, 26]\n",
      "symbol - SPY for signals = [11, 13, 17, 20, 26]\n",
      "Saving to s3://sisyphus-general-bucket/AthenaInsights/latest_data/feature_prep/stock_bars_30D_diff_macd.parquet\n"
     ]
    },
    {
     "name": "stderr",
     "output_type": "stream",
     "text": [
      " 72%|███████▏  | 36/50 [02:11<00:56,  4.02s/it]"
     ]
    },
    {
     "name": "stdout",
     "output_type": "stream",
     "text": [
      "Reading from s3://sisyphus-general-bucket/AthenaInsights/latest_data/feature_prep/stock_bars_30min_base.parquet\n",
      "symbol - QQQ for signals = [11, 13, 17, 20, 26]\n",
      "symbol - SPY for signals = [11, 13, 17, 20, 26]\n",
      "Saving to s3://sisyphus-general-bucket/AthenaInsights/latest_data/feature_prep/stock_bars_30min_base_macd.parquet\n"
     ]
    },
    {
     "name": "stderr",
     "output_type": "stream",
     "text": [
      " 74%|███████▍  | 37/50 [02:14<00:47,  3.63s/it]"
     ]
    },
    {
     "name": "stdout",
     "output_type": "stream",
     "text": [
      "Reading from s3://sisyphus-general-bucket/AthenaInsights/latest_data/feature_prep/stock_bars_30min_diff.parquet\n",
      "symbol - QQQ for signals = [11, 13, 17, 20, 26]\n",
      "symbol - SPY for signals = [11, 13, 17, 20, 26]\n",
      "Saving to s3://sisyphus-general-bucket/AthenaInsights/latest_data/feature_prep/stock_bars_30min_diff_macd.parquet\n"
     ]
    },
    {
     "name": "stderr",
     "output_type": "stream",
     "text": [
      " 76%|███████▌  | 38/50 [02:16<00:38,  3.24s/it]"
     ]
    },
    {
     "name": "stdout",
     "output_type": "stream",
     "text": [
      "Reading from s3://sisyphus-general-bucket/AthenaInsights/latest_data/feature_prep/stock_bars_3D_base.parquet\n",
      "symbol - QQQ for signals = [11, 13, 17, 20, 26]\n",
      "symbol - SPY for signals = [11, 13, 17, 20, 26]\n",
      "Saving to s3://sisyphus-general-bucket/AthenaInsights/latest_data/feature_prep/stock_bars_3D_base_macd.parquet\n"
     ]
    },
    {
     "name": "stderr",
     "output_type": "stream",
     "text": [
      " 78%|███████▊  | 39/50 [02:17<00:28,  2.63s/it]"
     ]
    },
    {
     "name": "stdout",
     "output_type": "stream",
     "text": [
      "Reading from s3://sisyphus-general-bucket/AthenaInsights/latest_data/feature_prep/stock_bars_3D_diff.parquet\n",
      "symbol - QQQ for signals = [11, 13, 17, 20, 26]\n",
      "symbol - SPY for signals = [11, 13, 17, 20, 26]\n",
      "Saving to s3://sisyphus-general-bucket/AthenaInsights/latest_data/feature_prep/stock_bars_3D_diff_macd.parquet\n"
     ]
    },
    {
     "name": "stderr",
     "output_type": "stream",
     "text": [
      " 80%|████████  | 40/50 [02:19<00:22,  2.28s/it]"
     ]
    },
    {
     "name": "stdout",
     "output_type": "stream",
     "text": [
      "Reading from s3://sisyphus-general-bucket/AthenaInsights/latest_data/feature_prep/stock_bars_3min_base.parquet\n",
      "symbol - QQQ for signals = [11, 13, 17, 20, 26]\n",
      "symbol - SPY for signals = [11, 13, 17, 20, 26]\n",
      "Saving to s3://sisyphus-general-bucket/AthenaInsights/latest_data/feature_prep/stock_bars_3min_base_macd.parquet\n"
     ]
    },
    {
     "name": "stderr",
     "output_type": "stream",
     "text": [
      " 82%|████████▏ | 41/50 [02:28<00:39,  4.37s/it]"
     ]
    },
    {
     "name": "stdout",
     "output_type": "stream",
     "text": [
      "Reading from s3://sisyphus-general-bucket/AthenaInsights/latest_data/feature_prep/stock_bars_3min_diff.parquet\n",
      "symbol - QQQ for signals = [11, 13, 17, 20, 26]\n",
      "symbol - SPY for signals = [11, 13, 17, 20, 26]\n",
      "Saving to s3://sisyphus-general-bucket/AthenaInsights/latest_data/feature_prep/stock_bars_3min_diff_macd.parquet\n"
     ]
    },
    {
     "name": "stderr",
     "output_type": "stream",
     "text": [
      " 84%|████████▍ | 42/50 [02:37<00:46,  5.81s/it]"
     ]
    },
    {
     "name": "stdout",
     "output_type": "stream",
     "text": [
      "Reading from s3://sisyphus-general-bucket/AthenaInsights/latest_data/feature_prep/stock_bars_50D_base.parquet\n",
      "symbol - QQQ for signals = [11, 13, 17, 20, 26]\n",
      "symbol - SPY for signals = [11, 13, 17, 20, 26]\n",
      "Saving to s3://sisyphus-general-bucket/AthenaInsights/latest_data/feature_prep/stock_bars_50D_base_macd.parquet\n"
     ]
    },
    {
     "name": "stderr",
     "output_type": "stream",
     "text": [
      " 86%|████████▌ | 43/50 [02:38<00:30,  4.38s/it]"
     ]
    },
    {
     "name": "stdout",
     "output_type": "stream",
     "text": [
      "Reading from s3://sisyphus-general-bucket/AthenaInsights/latest_data/feature_prep/stock_bars_50D_diff.parquet\n",
      "symbol - QQQ for signals = [11, 13, 17, 20, 26]\n",
      "symbol - SPY for signals = [11, 13, 17, 20, 26]\n",
      "Saving to s3://sisyphus-general-bucket/AthenaInsights/latest_data/feature_prep/stock_bars_50D_diff_macd.parquet\n"
     ]
    },
    {
     "name": "stderr",
     "output_type": "stream",
     "text": [
      " 88%|████████▊ | 44/50 [02:39<00:20,  3.45s/it]"
     ]
    },
    {
     "name": "stdout",
     "output_type": "stream",
     "text": [
      "Reading from s3://sisyphus-general-bucket/AthenaInsights/latest_data/feature_prep/stock_bars_5D_base.parquet\n",
      "symbol - QQQ for signals = [11, 13, 17, 20, 26]\n",
      "symbol - SPY for signals = [11, 13, 17, 20, 26]\n",
      "Saving to s3://sisyphus-general-bucket/AthenaInsights/latest_data/feature_prep/stock_bars_5D_base_macd.parquet\n"
     ]
    },
    {
     "name": "stderr",
     "output_type": "stream",
     "text": [
      " 90%|█████████ | 45/50 [02:41<00:13,  2.77s/it]"
     ]
    },
    {
     "name": "stdout",
     "output_type": "stream",
     "text": [
      "Reading from s3://sisyphus-general-bucket/AthenaInsights/latest_data/feature_prep/stock_bars_5D_diff.parquet\n",
      "symbol - QQQ for signals = [11, 13, 17, 20, 26]\n",
      "symbol - SPY for signals = [11, 13, 17, 20, 26]\n",
      "Saving to s3://sisyphus-general-bucket/AthenaInsights/latest_data/feature_prep/stock_bars_5D_diff_macd.parquet\n"
     ]
    },
    {
     "name": "stderr",
     "output_type": "stream",
     "text": [
      " 92%|█████████▏| 46/50 [02:42<00:09,  2.35s/it]"
     ]
    },
    {
     "name": "stdout",
     "output_type": "stream",
     "text": [
      "Reading from s3://sisyphus-general-bucket/AthenaInsights/latest_data/feature_prep/stock_bars_5min_base.parquet\n",
      "symbol - QQQ for signals = [11, 13, 17, 20, 26]\n",
      "symbol - SPY for signals = [11, 13, 17, 20, 26]\n",
      "Saving to s3://sisyphus-general-bucket/AthenaInsights/latest_data/feature_prep/stock_bars_5min_base_macd.parquet\n"
     ]
    },
    {
     "name": "stderr",
     "output_type": "stream",
     "text": [
      " 94%|█████████▍| 47/50 [02:49<00:11,  3.88s/it]"
     ]
    },
    {
     "name": "stdout",
     "output_type": "stream",
     "text": [
      "Reading from s3://sisyphus-general-bucket/AthenaInsights/latest_data/feature_prep/stock_bars_5min_diff.parquet\n",
      "symbol - QQQ for signals = [11, 13, 17, 20, 26]\n",
      "symbol - SPY for signals = [11, 13, 17, 20, 26]\n",
      "Saving to s3://sisyphus-general-bucket/AthenaInsights/latest_data/feature_prep/stock_bars_5min_diff_macd.parquet\n"
     ]
    },
    {
     "name": "stderr",
     "output_type": "stream",
     "text": [
      " 96%|█████████▌| 48/50 [02:57<00:09,  4.98s/it]"
     ]
    },
    {
     "name": "stdout",
     "output_type": "stream",
     "text": [
      "Reading from s3://sisyphus-general-bucket/AthenaInsights/latest_data/feature_prep/stock_bars_60min_base.parquet\n",
      "symbol - QQQ for signals = [11, 13, 17, 20, 26, 30, 50]\n",
      "symbol - SPY for signals = [11, 13, 17, 20, 26, 30, 50]\n",
      "Saving to s3://sisyphus-general-bucket/AthenaInsights/latest_data/feature_prep/stock_bars_60min_base_macd.parquet\n"
     ]
    },
    {
     "name": "stderr",
     "output_type": "stream",
     "text": [
      " 98%|█████████▊| 49/50 [02:59<00:04,  4.14s/it]"
     ]
    },
    {
     "name": "stdout",
     "output_type": "stream",
     "text": [
      "Reading from s3://sisyphus-general-bucket/AthenaInsights/latest_data/feature_prep/stock_bars_60min_diff.parquet\n",
      "symbol - QQQ for signals = [11, 13, 17, 20, 26, 30, 50]\n",
      "symbol - SPY for signals = [11, 13, 17, 20, 26, 30, 50]\n",
      "Saving to s3://sisyphus-general-bucket/AthenaInsights/latest_data/feature_prep/stock_bars_60min_diff_macd.parquet\n"
     ]
    },
    {
     "name": "stderr",
     "output_type": "stream",
     "text": [
      "100%|██████████| 50/50 [03:02<00:00,  3.64s/it]\n"
     ]
    }
   ],
   "source": [
    "def calculate_macd(df, signal=14, ema_columns=[]):\n",
    "    for i in range(len(ema_columns)):\n",
    "        for j in range(i + 1, len(ema_columns)):\n",
    "            fast_ema = ema_columns[i]\n",
    "            slow_ema = ema_columns[j]\n",
    "\n",
    "            # Calculate MACD\n",
    "            # macd_col_name = f'MACD_{fast_ema}_{slow_ema}'\n",
    "            # df[macd_col_name] = df[fast_ema] - df[slow_ema]\n",
    "\n",
    "            # Calculate Signal line\n",
    "            signal_col_name = f'Signal_{fast_ema}_{slow_ema}_signal{signal}'\n",
    "            # df[signal_col_name] = df[macd_col_name].ewm(span=signal, adjust=False).mean()\n",
    "            df[signal_col_name] = (df[fast_ema] - df[slow_ema]).ewm(span=signal, adjust=False).mean()\n",
    "            \n",
    "\n",
    "            # # Calculate Histogram\n",
    "            # histogram_col_name = f'Histogram_{fast_ema}_{slow_ema}_signal{signal}'\n",
    "            # df[histogram_col_name] = df[macd_col_name] - df[signal_col_name]\n",
    "    return df\n",
    "\n",
    "\n",
    "def read_and_calculate_macd(path, signals):\n",
    "    print(f'Reading from {path}')\n",
    "    df = pd.read_parquet(path)\n",
    "    fields = [z for z in df.columns if 'close_ema' in z or 'close_diff_ema' in z]\n",
    "    df = df[['symbol'] + fields]\n",
    "    grouped = df.groupby('symbol')\n",
    "    results = []\n",
    "\n",
    "    for symbol, group in grouped:\n",
    "        ema_columns = [z for z in group.columns if z!='symbol']\n",
    "        ema_columns = sorted(ema_columns, key=lambda x: int(re.search(r'\\d+', x).group()))\n",
    "        print(f'symbol - {symbol} for signals = {signals}')\n",
    "        for signal in signals:\n",
    "            # print(f'for signal = {signal}')\n",
    "            group = calculate_macd(group, signal, ema_columns)\n",
    "        results.append(group)\n",
    "\n",
    "    # Concatenate all the grouped results back into a single DataFrame\n",
    "    df = pd.concat(results)\n",
    "    loc = path.replace('.parquet', '_macd.parquet')\n",
    "    print(f'Saving to {loc}')\n",
    "    df.to_parquet(loc)\n",
    "    del df, group, results\n",
    "\n",
    "\n",
    "for path in tqdm(paths):\n",
    "    base_time_interval = path.split('/')[-1].split('.')[0].split('_')[-2]\n",
    "    if 'min' in base_time_interval:\n",
    "        if int(base_time_interval.replace('min', ''))<=10:\n",
    "            signal = [11, 13, 17, 20, 26]\n",
    "        elif int(base_time_interval.replace('min', ''))<=30:\n",
    "            signal = [11, 13, 17, 20, 26]\n",
    "        else:\n",
    "            signal = [11, 13, 17, 20, 26, 30, 50]\n",
    "    elif 'D' in base_time_interval:\n",
    "        if int(base_time_interval.replace('D', '')) < 100:\n",
    "            signal = [11, 13, 17, 20, 26]\n",
    "        else: \n",
    "            signal = [11, 13, 17, 20, 26, 30, 50]\n",
    "    read_and_calculate_macd(path, signal)"
   ]
  },
  {
   "cell_type": "markdown",
   "id": "b38fffec",
   "metadata": {},
   "source": [
    "### eda"
   ]
  },
  {
   "cell_type": "code",
   "execution_count": 8,
   "id": "183fbea1",
   "metadata": {},
   "outputs": [],
   "source": [
    "# y = pd.read_parquet(\"s3://sisyphus-general-bucket/AthenaInsights/latest_data/feature_prep/stock_bars_1min_base.parquet\")\n",
    "# y = pd.read_parquet(\"s3://sisyphus-general-bucket/AthenaInsights/latest_data/feature_prep/stock_bars_1min_base.parquet\")"
   ]
  },
  {
   "cell_type": "code",
   "execution_count": 9,
   "id": "70e6144c",
   "metadata": {},
   "outputs": [
    {
     "name": "stdout",
     "output_type": "stream",
     "text": [
      "(429593, 149)\n"
     ]
    }
   ],
   "source": [
    "x = pd.read_parquet(\"s3://sisyphus-general-bucket/AthenaInsights/latest_data/feature_prep/stock_bars_1min_diff_macd.parquet\")\n",
    "x.loc['2024-11-19 16:50:00']\n",
    "print(x.shape) # (1160890, 149)\n",
    "x = x.reset_index()[['us_eastern_timestamp', 'symbol']]"
   ]
  },
  {
   "cell_type": "code",
   "execution_count": 10,
   "id": "9c29c5c7",
   "metadata": {},
   "outputs": [
    {
     "name": "stdout",
     "output_type": "stream",
     "text": [
      "(214798, 149)\n"
     ]
    }
   ],
   "source": [
    "y = pd.read_parquet(\"s3://sisyphus-general-bucket/AthenaInsights/latest_data/feature_prep/stock_bars_2min_diff_macd.parquet\")\n",
    "y.loc['2024-11-19 16:50:00']\n",
    "print(y.shape) # (392417, 149)\n",
    "y = y.reset_index()[['us_eastern_timestamp', 'symbol']]"
   ]
  },
  {
   "cell_type": "code",
   "execution_count": 11,
   "id": "9760d37c",
   "metadata": {},
   "outputs": [
    {
     "data": {
      "text/html": [
       "<div>\n",
       "<style scoped>\n",
       "    .dataframe tbody tr th:only-of-type {\n",
       "        vertical-align: middle;\n",
       "    }\n",
       "\n",
       "    .dataframe tbody tr th {\n",
       "        vertical-align: top;\n",
       "    }\n",
       "\n",
       "    .dataframe thead th {\n",
       "        text-align: right;\n",
       "    }\n",
       "</style>\n",
       "<table border=\"1\" class=\"dataframe\">\n",
       "  <thead>\n",
       "    <tr style=\"text-align: right;\">\n",
       "      <th></th>\n",
       "      <th>us_eastern_timestamp</th>\n",
       "      <th>symbol</th>\n",
       "    </tr>\n",
       "  </thead>\n",
       "  <tbody>\n",
       "    <tr>\n",
       "      <th>214799</th>\n",
       "      <td>2024-01-02 04:00:00</td>\n",
       "      <td>SPY</td>\n",
       "    </tr>\n",
       "    <tr>\n",
       "      <th>214800</th>\n",
       "      <td>2024-01-02 04:01:00</td>\n",
       "      <td>SPY</td>\n",
       "    </tr>\n",
       "    <tr>\n",
       "      <th>214801</th>\n",
       "      <td>2024-01-02 04:02:00</td>\n",
       "      <td>SPY</td>\n",
       "    </tr>\n",
       "    <tr>\n",
       "      <th>214802</th>\n",
       "      <td>2024-01-02 04:03:00</td>\n",
       "      <td>SPY</td>\n",
       "    </tr>\n",
       "    <tr>\n",
       "      <th>214803</th>\n",
       "      <td>2024-01-02 04:04:00</td>\n",
       "      <td>SPY</td>\n",
       "    </tr>\n",
       "    <tr>\n",
       "      <th>...</th>\n",
       "      <td>...</td>\n",
       "      <td>...</td>\n",
       "    </tr>\n",
       "    <tr>\n",
       "      <th>429588</th>\n",
       "      <td>2024-11-19 19:55:00</td>\n",
       "      <td>SPY</td>\n",
       "    </tr>\n",
       "    <tr>\n",
       "      <th>429589</th>\n",
       "      <td>2024-11-19 19:56:00</td>\n",
       "      <td>SPY</td>\n",
       "    </tr>\n",
       "    <tr>\n",
       "      <th>429590</th>\n",
       "      <td>2024-11-19 19:57:00</td>\n",
       "      <td>SPY</td>\n",
       "    </tr>\n",
       "    <tr>\n",
       "      <th>429591</th>\n",
       "      <td>2024-11-19 19:58:00</td>\n",
       "      <td>SPY</td>\n",
       "    </tr>\n",
       "    <tr>\n",
       "      <th>429592</th>\n",
       "      <td>2024-11-19 19:59:00</td>\n",
       "      <td>SPY</td>\n",
       "    </tr>\n",
       "  </tbody>\n",
       "</table>\n",
       "<p>214794 rows × 2 columns</p>\n",
       "</div>"
      ],
      "text/plain": [
       "       us_eastern_timestamp symbol\n",
       "214799  2024-01-02 04:00:00    SPY\n",
       "214800  2024-01-02 04:01:00    SPY\n",
       "214801  2024-01-02 04:02:00    SPY\n",
       "214802  2024-01-02 04:03:00    SPY\n",
       "214803  2024-01-02 04:04:00    SPY\n",
       "...                     ...    ...\n",
       "429588  2024-11-19 19:55:00    SPY\n",
       "429589  2024-11-19 19:56:00    SPY\n",
       "429590  2024-11-19 19:57:00    SPY\n",
       "429591  2024-11-19 19:58:00    SPY\n",
       "429592  2024-11-19 19:59:00    SPY\n",
       "\n",
       "[214794 rows x 2 columns]"
      ]
     },
     "execution_count": 11,
     "metadata": {},
     "output_type": "execute_result"
    }
   ],
   "source": [
    "x[x.symbol=='SPY']"
   ]
  },
  {
   "cell_type": "code",
   "execution_count": 12,
   "id": "bea6ecfa",
   "metadata": {},
   "outputs": [
    {
     "data": {
      "text/html": [
       "<div>\n",
       "<style scoped>\n",
       "    .dataframe tbody tr th:only-of-type {\n",
       "        vertical-align: middle;\n",
       "    }\n",
       "\n",
       "    .dataframe tbody tr th {\n",
       "        vertical-align: top;\n",
       "    }\n",
       "\n",
       "    .dataframe thead th {\n",
       "        text-align: right;\n",
       "    }\n",
       "</style>\n",
       "<table border=\"1\" class=\"dataframe\">\n",
       "  <thead>\n",
       "    <tr style=\"text-align: right;\">\n",
       "      <th></th>\n",
       "      <th>us_eastern_timestamp</th>\n",
       "      <th>symbol</th>\n",
       "    </tr>\n",
       "  </thead>\n",
       "  <tbody>\n",
       "    <tr>\n",
       "      <th>107401</th>\n",
       "      <td>2024-01-02 04:00:00</td>\n",
       "      <td>SPY</td>\n",
       "    </tr>\n",
       "    <tr>\n",
       "      <th>107402</th>\n",
       "      <td>2024-01-02 04:02:00</td>\n",
       "      <td>SPY</td>\n",
       "    </tr>\n",
       "    <tr>\n",
       "      <th>107403</th>\n",
       "      <td>2024-01-02 04:04:00</td>\n",
       "      <td>SPY</td>\n",
       "    </tr>\n",
       "    <tr>\n",
       "      <th>107404</th>\n",
       "      <td>2024-01-02 04:06:00</td>\n",
       "      <td>SPY</td>\n",
       "    </tr>\n",
       "    <tr>\n",
       "      <th>107405</th>\n",
       "      <td>2024-01-02 04:08:00</td>\n",
       "      <td>SPY</td>\n",
       "    </tr>\n",
       "    <tr>\n",
       "      <th>...</th>\n",
       "      <td>...</td>\n",
       "      <td>...</td>\n",
       "    </tr>\n",
       "    <tr>\n",
       "      <th>214793</th>\n",
       "      <td>2024-11-19 19:50:00</td>\n",
       "      <td>SPY</td>\n",
       "    </tr>\n",
       "    <tr>\n",
       "      <th>214794</th>\n",
       "      <td>2024-11-19 19:52:00</td>\n",
       "      <td>SPY</td>\n",
       "    </tr>\n",
       "    <tr>\n",
       "      <th>214795</th>\n",
       "      <td>2024-11-19 19:54:00</td>\n",
       "      <td>SPY</td>\n",
       "    </tr>\n",
       "    <tr>\n",
       "      <th>214796</th>\n",
       "      <td>2024-11-19 19:56:00</td>\n",
       "      <td>SPY</td>\n",
       "    </tr>\n",
       "    <tr>\n",
       "      <th>214797</th>\n",
       "      <td>2024-11-19 19:58:00</td>\n",
       "      <td>SPY</td>\n",
       "    </tr>\n",
       "  </tbody>\n",
       "</table>\n",
       "<p>107397 rows × 2 columns</p>\n",
       "</div>"
      ],
      "text/plain": [
       "       us_eastern_timestamp symbol\n",
       "107401  2024-01-02 04:00:00    SPY\n",
       "107402  2024-01-02 04:02:00    SPY\n",
       "107403  2024-01-02 04:04:00    SPY\n",
       "107404  2024-01-02 04:06:00    SPY\n",
       "107405  2024-01-02 04:08:00    SPY\n",
       "...                     ...    ...\n",
       "214793  2024-11-19 19:50:00    SPY\n",
       "214794  2024-11-19 19:52:00    SPY\n",
       "214795  2024-11-19 19:54:00    SPY\n",
       "214796  2024-11-19 19:56:00    SPY\n",
       "214797  2024-11-19 19:58:00    SPY\n",
       "\n",
       "[107397 rows x 2 columns]"
      ]
     },
     "execution_count": 12,
     "metadata": {},
     "output_type": "execute_result"
    }
   ],
   "source": [
    "y[y.symbol=='SPY']"
   ]
  },
  {
   "cell_type": "code",
   "execution_count": 13,
   "id": "5eca4289",
   "metadata": {},
   "outputs": [],
   "source": [
    "del x\n",
    "# 175922 232320 "
   ]
  },
  {
   "cell_type": "code",
   "execution_count": 15,
   "id": "e6bb6ec2",
   "metadata": {},
   "outputs": [],
   "source": [
    "# y[(y.symbol=='SPY')&(~y.us_eastern_timestamp.isin(x[x.symbol=='SPY'].us_eastern_timestamp))]\n",
    "# x[(x.symbol=='SPY')&(~x.us_eastern_timestamp.isin(y[y.symbol=='SPY'].us_eastern_timestamp))]"
   ]
  },
  {
   "cell_type": "code",
   "execution_count": 17,
   "id": "f103e569",
   "metadata": {},
   "outputs": [],
   "source": [
    "# y[y.symbol=='SPY'].tail(30)"
   ]
  },
  {
   "cell_type": "code",
   "execution_count": null,
   "id": "3bc14f66",
   "metadata": {},
   "outputs": [],
   "source": []
  }
 ],
 "metadata": {
  "kernelspec": {
   "display_name": "fools_gold",
   "language": "python",
   "name": "python3"
  },
  "language_info": {
   "codemirror_mode": {
    "name": "ipython",
    "version": 3
   },
   "file_extension": ".py",
   "mimetype": "text/x-python",
   "name": "python",
   "nbconvert_exporter": "python",
   "pygments_lexer": "ipython3",
   "version": "3.9.19"
  }
 },
 "nbformat": 4,
 "nbformat_minor": 5
}
