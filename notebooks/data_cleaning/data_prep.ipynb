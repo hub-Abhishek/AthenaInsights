{
 "cells": [
  {
   "cell_type": "code",
   "execution_count": 1,
   "metadata": {
    "tags": []
   },
   "outputs": [],
   "source": [
    "import pandas as pd\n",
    "import numpy as np\n",
    "import warnings\n",
    "from tqdm import tqdm\n",
    "warnings.filterwarnings(\"ignore\")"
   ]
  },
  {
   "cell_type": "code",
   "execution_count": 2,
   "metadata": {},
   "outputs": [],
   "source": [
    "def process_dataset(df, symbol, datasets=None):\n",
    "    df = df[df.symbol==symbol]\n",
    "    if datasets is None:\n",
    "        datasets = {}\n",
    "    for dur in durations:\n",
    "        new_dataset = df.resample(dur).agg({'open': 'first', 'high': 'max', 'low': 'min', 'close': 'last', 'volume': 'sum'})\n",
    "        datasets[dur] = new_dataset.copy()\n",
    "    return datasets"
   ]
  },
  {
   "cell_type": "markdown",
   "metadata": {},
   "source": [
    "### minute level data"
   ]
  },
  {
   "cell_type": "code",
   "execution_count": 3,
   "metadata": {
    "tags": []
   },
   "outputs": [],
   "source": [
    "bucket_loc = 's3://sisyphus-general-bucket/AthenaInsights'\n",
    "data_folder = 'latest_data'"
   ]
  },
  {
   "cell_type": "code",
   "execution_count": 4,
   "metadata": {
    "tags": []
   },
   "outputs": [],
   "source": [
    "# stock_data_day_level_name: stock_bars_day.parquet\n",
    "# stock_bars_hour_level_name: stock_bars_hour.parquet\n",
    "# stock_bars_minute_level_name: stock_bars_minute.parquet"
   ]
  },
  {
   "cell_type": "code",
   "execution_count": 5,
   "metadata": {
    "tags": []
   },
   "outputs": [],
   "source": [
    "df = pd.read_parquet(f'{bucket_loc}/{data_folder}/parquet/stock_bars_minute.parquet')\n",
    "df['timestamp'] = pd.to_datetime(df['timestamp'])\n",
    "df['us_eastern_timestamp'] = df['timestamp'].dt.tz_convert('US/Eastern')\n",
    "df['us_eastern_timestamp'] = df['us_eastern_timestamp'].dt.tz_localize(None)\n",
    "\n",
    "df['us_eastern_date'] = df.us_eastern_timestamp.dt.date\n",
    "# df['market_open'] = df.us_eastern_timestamp.between('09:30:00', '16:00:00')\n",
    "df['market_open'] = (df.us_eastern_timestamp.dt.time>=pd.to_datetime('09:30:00').time()) & (df.us_eastern_timestamp.dt.time < pd.to_datetime('16:00:00').time())\n",
    "df.set_index('us_eastern_timestamp', inplace=True)"
   ]
  },
  {
   "cell_type": "code",
   "execution_count": 6,
   "metadata": {
    "tags": []
   },
   "outputs": [
    {
     "data": {
      "text/html": [
       "<div>\n",
       "<style scoped>\n",
       "    .dataframe tbody tr th:only-of-type {\n",
       "        vertical-align: middle;\n",
       "    }\n",
       "\n",
       "    .dataframe tbody tr th {\n",
       "        vertical-align: top;\n",
       "    }\n",
       "\n",
       "    .dataframe thead th {\n",
       "        text-align: right;\n",
       "    }\n",
       "</style>\n",
       "<table border=\"1\" class=\"dataframe\">\n",
       "  <thead>\n",
       "    <tr style=\"text-align: right;\">\n",
       "      <th></th>\n",
       "      <th>symbol</th>\n",
       "      <th>timestamp</th>\n",
       "      <th>open</th>\n",
       "      <th>high</th>\n",
       "      <th>low</th>\n",
       "      <th>close</th>\n",
       "      <th>volume</th>\n",
       "      <th>trade_count</th>\n",
       "      <th>vwap</th>\n",
       "      <th>us_eastern_date</th>\n",
       "      <th>market_open</th>\n",
       "    </tr>\n",
       "    <tr>\n",
       "      <th>us_eastern_timestamp</th>\n",
       "      <th></th>\n",
       "      <th></th>\n",
       "      <th></th>\n",
       "      <th></th>\n",
       "      <th></th>\n",
       "      <th></th>\n",
       "      <th></th>\n",
       "      <th></th>\n",
       "      <th></th>\n",
       "      <th></th>\n",
       "      <th></th>\n",
       "    </tr>\n",
       "  </thead>\n",
       "  <tbody>\n",
       "    <tr>\n",
       "      <th>2024-01-02 07:06:00</th>\n",
       "      <td>DAX</td>\n",
       "      <td>2024-01-02 12:06:00+00:00</td>\n",
       "      <td>30.800</td>\n",
       "      <td>30.80</td>\n",
       "      <td>30.800</td>\n",
       "      <td>30.80</td>\n",
       "      <td>100.0</td>\n",
       "      <td>1.0</td>\n",
       "      <td>30.800000</td>\n",
       "      <td>2024-01-02</td>\n",
       "      <td>False</td>\n",
       "    </tr>\n",
       "    <tr>\n",
       "      <th>2024-01-02 09:30:00</th>\n",
       "      <td>DAX</td>\n",
       "      <td>2024-01-02 14:30:00+00:00</td>\n",
       "      <td>30.650</td>\n",
       "      <td>30.65</td>\n",
       "      <td>30.650</td>\n",
       "      <td>30.65</td>\n",
       "      <td>389.0</td>\n",
       "      <td>10.0</td>\n",
       "      <td>30.650000</td>\n",
       "      <td>2024-01-02</td>\n",
       "      <td>True</td>\n",
       "    </tr>\n",
       "    <tr>\n",
       "      <th>2024-01-02 09:32:00</th>\n",
       "      <td>DAX</td>\n",
       "      <td>2024-01-02 14:32:00+00:00</td>\n",
       "      <td>30.541</td>\n",
       "      <td>30.58</td>\n",
       "      <td>30.541</td>\n",
       "      <td>30.56</td>\n",
       "      <td>2478.0</td>\n",
       "      <td>16.0</td>\n",
       "      <td>30.554801</td>\n",
       "      <td>2024-01-02</td>\n",
       "      <td>True</td>\n",
       "    </tr>\n",
       "    <tr>\n",
       "      <th>2024-01-02 09:37:00</th>\n",
       "      <td>DAX</td>\n",
       "      <td>2024-01-02 14:37:00+00:00</td>\n",
       "      <td>30.660</td>\n",
       "      <td>30.66</td>\n",
       "      <td>30.660</td>\n",
       "      <td>30.66</td>\n",
       "      <td>120.0</td>\n",
       "      <td>2.0</td>\n",
       "      <td>30.660000</td>\n",
       "      <td>2024-01-02</td>\n",
       "      <td>True</td>\n",
       "    </tr>\n",
       "    <tr>\n",
       "      <th>2024-01-02 09:40:00</th>\n",
       "      <td>DAX</td>\n",
       "      <td>2024-01-02 14:40:00+00:00</td>\n",
       "      <td>30.585</td>\n",
       "      <td>30.64</td>\n",
       "      <td>30.585</td>\n",
       "      <td>30.64</td>\n",
       "      <td>738.0</td>\n",
       "      <td>3.0</td>\n",
       "      <td>30.599925</td>\n",
       "      <td>2024-01-02</td>\n",
       "      <td>True</td>\n",
       "    </tr>\n",
       "  </tbody>\n",
       "</table>\n",
       "</div>"
      ],
      "text/plain": [
       "                     symbol                 timestamp    open   high     low  \\\n",
       "us_eastern_timestamp                                                           \n",
       "2024-01-02 07:06:00     DAX 2024-01-02 12:06:00+00:00  30.800  30.80  30.800   \n",
       "2024-01-02 09:30:00     DAX 2024-01-02 14:30:00+00:00  30.650  30.65  30.650   \n",
       "2024-01-02 09:32:00     DAX 2024-01-02 14:32:00+00:00  30.541  30.58  30.541   \n",
       "2024-01-02 09:37:00     DAX 2024-01-02 14:37:00+00:00  30.660  30.66  30.660   \n",
       "2024-01-02 09:40:00     DAX 2024-01-02 14:40:00+00:00  30.585  30.64  30.585   \n",
       "\n",
       "                      close  volume  trade_count       vwap us_eastern_date  \\\n",
       "us_eastern_timestamp                                                          \n",
       "2024-01-02 07:06:00   30.80   100.0          1.0  30.800000      2024-01-02   \n",
       "2024-01-02 09:30:00   30.65   389.0         10.0  30.650000      2024-01-02   \n",
       "2024-01-02 09:32:00   30.56  2478.0         16.0  30.554801      2024-01-02   \n",
       "2024-01-02 09:37:00   30.66   120.0          2.0  30.660000      2024-01-02   \n",
       "2024-01-02 09:40:00   30.64   738.0          3.0  30.599925      2024-01-02   \n",
       "\n",
       "                      market_open  \n",
       "us_eastern_timestamp               \n",
       "2024-01-02 07:06:00         False  \n",
       "2024-01-02 09:30:00          True  \n",
       "2024-01-02 09:32:00          True  \n",
       "2024-01-02 09:37:00          True  \n",
       "2024-01-02 09:40:00          True  "
      ]
     },
     "execution_count": 6,
     "metadata": {},
     "output_type": "execute_result"
    }
   ],
   "source": [
    "df.head()"
   ]
  },
  {
   "cell_type": "code",
   "execution_count": 7,
   "metadata": {
    "tags": []
   },
   "outputs": [],
   "source": [
    "datasets = {}\n",
    "symbol = df.symbol.unique() # 'SPY'\n",
    "durations = ['2min', '3min', '5min', '10min', '15min', '20min', '25min', '30min']\n",
    "for sym in symbol:\n",
    "    datasets[sym] = {}\n",
    "    datasets[sym]['1min'] = df[df.symbol==sym].copy()\n",
    "    datasets[sym] = process_dataset(df, sym, datasets[sym])"
   ]
  },
  {
   "cell_type": "code",
   "execution_count": 8,
   "metadata": {
    "tags": []
   },
   "outputs": [
    {
     "data": {
      "text/plain": [
       "(dict_keys(['DAX', 'DJIA', 'QQQ', 'SPY', 'VIXM']),\n",
       " dict_keys(['1min', '2min', '3min', '5min', '10min', '15min', '20min', '25min', '30min']))"
      ]
     },
     "execution_count": 8,
     "metadata": {},
     "output_type": "execute_result"
    }
   ],
   "source": [
    "datasets.keys(), datasets['SPY'].keys()"
   ]
  },
  {
   "cell_type": "markdown",
   "metadata": {
    "tags": []
   },
   "source": [
    "### hour level data"
   ]
  },
  {
   "cell_type": "code",
   "execution_count": 9,
   "metadata": {
    "tags": []
   },
   "outputs": [],
   "source": [
    "# stock_data_day_level_name: stock_bars_day.parquet\n",
    "# stock_bars_hour_level_name: stock_bars_hour.parquet\n",
    "# stock_bars_minute_level_name: stock_bars_minute.parquet"
   ]
  },
  {
   "cell_type": "code",
   "execution_count": 10,
   "metadata": {
    "tags": []
   },
   "outputs": [],
   "source": [
    "df2 = pd.read_parquet(f'{bucket_loc}/{data_folder}/parquet/stock_bars_hour.parquet')\n",
    "df2['timestamp'] = pd.to_datetime(df2['timestamp'])\n",
    "df2['us_eastern_timestamp'] = df2['timestamp'].dt.tz_convert('US/Eastern')\n",
    "df2['us_eastern_timestamp'] = df2['us_eastern_timestamp'].dt.tz_localize(None)\n",
    "\n",
    "df2['us_eastern_date'] = df2.us_eastern_timestamp.dt.date\n",
    "# df2['market_open'] = df2.us_eastern_timestamp.between('09:30:00', '16:00:00')\n",
    "df2['market_open'] = (df2.us_eastern_timestamp.dt.time>=pd.to_datetime('09:30:00').time()) & (df2.us_eastern_timestamp.dt.time < pd.to_datetime('16:00:00').time())\n",
    "df2.set_index('us_eastern_timestamp', inplace=True)"
   ]
  },
  {
   "cell_type": "code",
   "execution_count": 11,
   "metadata": {
    "tags": []
   },
   "outputs": [
    {
     "data": {
      "text/html": [
       "<div>\n",
       "<style scoped>\n",
       "    .dataframe tbody tr th:only-of-type {\n",
       "        vertical-align: middle;\n",
       "    }\n",
       "\n",
       "    .dataframe tbody tr th {\n",
       "        vertical-align: top;\n",
       "    }\n",
       "\n",
       "    .dataframe thead th {\n",
       "        text-align: right;\n",
       "    }\n",
       "</style>\n",
       "<table border=\"1\" class=\"dataframe\">\n",
       "  <thead>\n",
       "    <tr style=\"text-align: right;\">\n",
       "      <th></th>\n",
       "      <th>symbol</th>\n",
       "      <th>timestamp</th>\n",
       "      <th>open</th>\n",
       "      <th>high</th>\n",
       "      <th>low</th>\n",
       "      <th>close</th>\n",
       "      <th>volume</th>\n",
       "      <th>trade_count</th>\n",
       "      <th>vwap</th>\n",
       "      <th>us_eastern_date</th>\n",
       "      <th>market_open</th>\n",
       "    </tr>\n",
       "    <tr>\n",
       "      <th>us_eastern_timestamp</th>\n",
       "      <th></th>\n",
       "      <th></th>\n",
       "      <th></th>\n",
       "      <th></th>\n",
       "      <th></th>\n",
       "      <th></th>\n",
       "      <th></th>\n",
       "      <th></th>\n",
       "      <th></th>\n",
       "      <th></th>\n",
       "      <th></th>\n",
       "    </tr>\n",
       "  </thead>\n",
       "  <tbody>\n",
       "    <tr>\n",
       "      <th>2024-01-02 07:00:00</th>\n",
       "      <td>DAX</td>\n",
       "      <td>2024-01-02 12:00:00+00:00</td>\n",
       "      <td>30.800</td>\n",
       "      <td>30.80</td>\n",
       "      <td>30.800</td>\n",
       "      <td>30.8000</td>\n",
       "      <td>100.0</td>\n",
       "      <td>1.0</td>\n",
       "      <td>30.800000</td>\n",
       "      <td>2024-01-02</td>\n",
       "      <td>False</td>\n",
       "    </tr>\n",
       "    <tr>\n",
       "      <th>2024-01-02 09:00:00</th>\n",
       "      <td>DAX</td>\n",
       "      <td>2024-01-02 14:00:00+00:00</td>\n",
       "      <td>30.650</td>\n",
       "      <td>30.70</td>\n",
       "      <td>30.541</td>\n",
       "      <td>30.7000</td>\n",
       "      <td>5091.0</td>\n",
       "      <td>38.0</td>\n",
       "      <td>30.599758</td>\n",
       "      <td>2024-01-02</td>\n",
       "      <td>False</td>\n",
       "    </tr>\n",
       "    <tr>\n",
       "      <th>2024-01-02 10:00:00</th>\n",
       "      <td>DAX</td>\n",
       "      <td>2024-01-02 15:00:00+00:00</td>\n",
       "      <td>30.651</td>\n",
       "      <td>30.69</td>\n",
       "      <td>30.620</td>\n",
       "      <td>30.6775</td>\n",
       "      <td>700.0</td>\n",
       "      <td>6.0</td>\n",
       "      <td>30.659786</td>\n",
       "      <td>2024-01-02</td>\n",
       "      <td>True</td>\n",
       "    </tr>\n",
       "    <tr>\n",
       "      <th>2024-01-02 11:00:00</th>\n",
       "      <td>DAX</td>\n",
       "      <td>2024-01-02 16:00:00+00:00</td>\n",
       "      <td>30.630</td>\n",
       "      <td>30.70</td>\n",
       "      <td>30.630</td>\n",
       "      <td>30.7000</td>\n",
       "      <td>9456.0</td>\n",
       "      <td>3.0</td>\n",
       "      <td>30.689006</td>\n",
       "      <td>2024-01-02</td>\n",
       "      <td>True</td>\n",
       "    </tr>\n",
       "    <tr>\n",
       "      <th>2024-01-02 12:00:00</th>\n",
       "      <td>DAX</td>\n",
       "      <td>2024-01-02 17:00:00+00:00</td>\n",
       "      <td>30.640</td>\n",
       "      <td>30.69</td>\n",
       "      <td>30.640</td>\n",
       "      <td>30.6900</td>\n",
       "      <td>853.0</td>\n",
       "      <td>2.0</td>\n",
       "      <td>30.678394</td>\n",
       "      <td>2024-01-02</td>\n",
       "      <td>True</td>\n",
       "    </tr>\n",
       "  </tbody>\n",
       "</table>\n",
       "</div>"
      ],
      "text/plain": [
       "                     symbol                 timestamp    open   high     low  \\\n",
       "us_eastern_timestamp                                                           \n",
       "2024-01-02 07:00:00     DAX 2024-01-02 12:00:00+00:00  30.800  30.80  30.800   \n",
       "2024-01-02 09:00:00     DAX 2024-01-02 14:00:00+00:00  30.650  30.70  30.541   \n",
       "2024-01-02 10:00:00     DAX 2024-01-02 15:00:00+00:00  30.651  30.69  30.620   \n",
       "2024-01-02 11:00:00     DAX 2024-01-02 16:00:00+00:00  30.630  30.70  30.630   \n",
       "2024-01-02 12:00:00     DAX 2024-01-02 17:00:00+00:00  30.640  30.69  30.640   \n",
       "\n",
       "                        close  volume  trade_count       vwap us_eastern_date  \\\n",
       "us_eastern_timestamp                                                            \n",
       "2024-01-02 07:00:00   30.8000   100.0          1.0  30.800000      2024-01-02   \n",
       "2024-01-02 09:00:00   30.7000  5091.0         38.0  30.599758      2024-01-02   \n",
       "2024-01-02 10:00:00   30.6775   700.0          6.0  30.659786      2024-01-02   \n",
       "2024-01-02 11:00:00   30.7000  9456.0          3.0  30.689006      2024-01-02   \n",
       "2024-01-02 12:00:00   30.6900   853.0          2.0  30.678394      2024-01-02   \n",
       "\n",
       "                      market_open  \n",
       "us_eastern_timestamp               \n",
       "2024-01-02 07:00:00         False  \n",
       "2024-01-02 09:00:00         False  \n",
       "2024-01-02 10:00:00          True  \n",
       "2024-01-02 11:00:00          True  \n",
       "2024-01-02 12:00:00          True  "
      ]
     },
     "execution_count": 11,
     "metadata": {},
     "output_type": "execute_result"
    }
   ],
   "source": [
    "df2.head()"
   ]
  },
  {
   "cell_type": "code",
   "execution_count": 12,
   "metadata": {
    "tags": []
   },
   "outputs": [],
   "source": [
    "symbol = df2.symbol.unique() # 'SPY'\n",
    "durations = ['120min', '180min', '240min']\n",
    "for sym in symbol:\n",
    "    datasets[sym]['60min'] = df2[df2.symbol==sym].copy()\n",
    "    datasets[sym] = process_dataset(df2, sym, datasets[sym])"
   ]
  },
  {
   "cell_type": "code",
   "execution_count": 13,
   "metadata": {
    "tags": []
   },
   "outputs": [
    {
     "data": {
      "text/plain": [
       "(dict_keys(['DAX', 'DJIA', 'QQQ', 'SPY', 'VIXM']),\n",
       " dict_keys(['1min', '2min', '3min', '5min', '10min', '15min', '20min', '25min', '30min', '60min', '120min', '180min', '240min']))"
      ]
     },
     "execution_count": 13,
     "metadata": {},
     "output_type": "execute_result"
    }
   ],
   "source": [
    "datasets.keys(), datasets['SPY'].keys()"
   ]
  },
  {
   "cell_type": "markdown",
   "metadata": {
    "tags": []
   },
   "source": [
    "### day level data"
   ]
  },
  {
   "cell_type": "code",
   "execution_count": 14,
   "metadata": {
    "tags": []
   },
   "outputs": [],
   "source": [
    "# stock_data_day_level_name: stock_bars_day.parquet\n",
    "# stock_bars_hour_level_name: stock_bars_hour.parquet\n",
    "# stock_bars_minute_level_name: stock_bars_minute.parquet"
   ]
  },
  {
   "cell_type": "code",
   "execution_count": 15,
   "metadata": {
    "tags": []
   },
   "outputs": [],
   "source": [
    "df3 = pd.read_parquet(f'{bucket_loc}/{data_folder}/parquet/stock_bars_day.parquet')\n",
    "df3['timestamp'] = pd.to_datetime(df3['timestamp'])\n",
    "df3['us_eastern_timestamp'] = df3['timestamp'].dt.tz_convert('US/Eastern')\n",
    "df3['us_eastern_timestamp'] = df3['us_eastern_timestamp'].dt.tz_localize(None)\n",
    "\n",
    "df3['us_eastern_date'] = df3.us_eastern_timestamp.dt.date\n",
    "# df3['market_open'] = df3.us_eastern_timestamp.between('09:30:00', '16:00:00')\n",
    "df3['market_open'] = (df3.us_eastern_timestamp.dt.time>=pd.to_datetime('09:30:00').time()) & (df3.us_eastern_timestamp.dt.time < pd.to_datetime('16:00:00').time())\n",
    "df3.set_index('us_eastern_timestamp', inplace=True)"
   ]
  },
  {
   "cell_type": "code",
   "execution_count": 16,
   "metadata": {
    "tags": []
   },
   "outputs": [
    {
     "data": {
      "text/html": [
       "<div>\n",
       "<style scoped>\n",
       "    .dataframe tbody tr th:only-of-type {\n",
       "        vertical-align: middle;\n",
       "    }\n",
       "\n",
       "    .dataframe tbody tr th {\n",
       "        vertical-align: top;\n",
       "    }\n",
       "\n",
       "    .dataframe thead th {\n",
       "        text-align: right;\n",
       "    }\n",
       "</style>\n",
       "<table border=\"1\" class=\"dataframe\">\n",
       "  <thead>\n",
       "    <tr style=\"text-align: right;\">\n",
       "      <th></th>\n",
       "      <th>symbol</th>\n",
       "      <th>timestamp</th>\n",
       "      <th>open</th>\n",
       "      <th>high</th>\n",
       "      <th>low</th>\n",
       "      <th>close</th>\n",
       "      <th>volume</th>\n",
       "      <th>trade_count</th>\n",
       "      <th>vwap</th>\n",
       "      <th>us_eastern_date</th>\n",
       "      <th>market_open</th>\n",
       "    </tr>\n",
       "    <tr>\n",
       "      <th>us_eastern_timestamp</th>\n",
       "      <th></th>\n",
       "      <th></th>\n",
       "      <th></th>\n",
       "      <th></th>\n",
       "      <th></th>\n",
       "      <th></th>\n",
       "      <th></th>\n",
       "      <th></th>\n",
       "      <th></th>\n",
       "      <th></th>\n",
       "      <th></th>\n",
       "    </tr>\n",
       "  </thead>\n",
       "  <tbody>\n",
       "    <tr>\n",
       "      <th>2024-01-02</th>\n",
       "      <td>DAX</td>\n",
       "      <td>2024-01-02 05:00:00+00:00</td>\n",
       "      <td>30.65</td>\n",
       "      <td>30.7000</td>\n",
       "      <td>30.52</td>\n",
       "      <td>30.54</td>\n",
       "      <td>17548.0</td>\n",
       "      <td>95.0</td>\n",
       "      <td>30.655652</td>\n",
       "      <td>2024-01-02</td>\n",
       "      <td>False</td>\n",
       "    </tr>\n",
       "    <tr>\n",
       "      <th>2024-01-03</th>\n",
       "      <td>DAX</td>\n",
       "      <td>2024-01-03 05:00:00+00:00</td>\n",
       "      <td>30.11</td>\n",
       "      <td>30.1800</td>\n",
       "      <td>30.03</td>\n",
       "      <td>30.08</td>\n",
       "      <td>6597.0</td>\n",
       "      <td>110.0</td>\n",
       "      <td>30.095682</td>\n",
       "      <td>2024-01-03</td>\n",
       "      <td>False</td>\n",
       "    </tr>\n",
       "    <tr>\n",
       "      <th>2024-01-04</th>\n",
       "      <td>DAX</td>\n",
       "      <td>2024-01-04 05:00:00+00:00</td>\n",
       "      <td>30.26</td>\n",
       "      <td>30.4105</td>\n",
       "      <td>30.25</td>\n",
       "      <td>30.25</td>\n",
       "      <td>25429.0</td>\n",
       "      <td>75.0</td>\n",
       "      <td>30.273637</td>\n",
       "      <td>2024-01-04</td>\n",
       "      <td>False</td>\n",
       "    </tr>\n",
       "    <tr>\n",
       "      <th>2024-01-05</th>\n",
       "      <td>DAX</td>\n",
       "      <td>2024-01-05 05:00:00+00:00</td>\n",
       "      <td>30.19</td>\n",
       "      <td>30.5000</td>\n",
       "      <td>30.19</td>\n",
       "      <td>30.31</td>\n",
       "      <td>3231.0</td>\n",
       "      <td>67.0</td>\n",
       "      <td>30.356474</td>\n",
       "      <td>2024-01-05</td>\n",
       "      <td>False</td>\n",
       "    </tr>\n",
       "    <tr>\n",
       "      <th>2024-01-08</th>\n",
       "      <td>DAX</td>\n",
       "      <td>2024-01-08 05:00:00+00:00</td>\n",
       "      <td>30.55</td>\n",
       "      <td>30.8900</td>\n",
       "      <td>30.52</td>\n",
       "      <td>30.70</td>\n",
       "      <td>7482.0</td>\n",
       "      <td>123.0</td>\n",
       "      <td>30.690812</td>\n",
       "      <td>2024-01-08</td>\n",
       "      <td>False</td>\n",
       "    </tr>\n",
       "  </tbody>\n",
       "</table>\n",
       "</div>"
      ],
      "text/plain": [
       "                     symbol                 timestamp   open     high    low  \\\n",
       "us_eastern_timestamp                                                           \n",
       "2024-01-02              DAX 2024-01-02 05:00:00+00:00  30.65  30.7000  30.52   \n",
       "2024-01-03              DAX 2024-01-03 05:00:00+00:00  30.11  30.1800  30.03   \n",
       "2024-01-04              DAX 2024-01-04 05:00:00+00:00  30.26  30.4105  30.25   \n",
       "2024-01-05              DAX 2024-01-05 05:00:00+00:00  30.19  30.5000  30.19   \n",
       "2024-01-08              DAX 2024-01-08 05:00:00+00:00  30.55  30.8900  30.52   \n",
       "\n",
       "                      close   volume  trade_count       vwap us_eastern_date  \\\n",
       "us_eastern_timestamp                                                           \n",
       "2024-01-02            30.54  17548.0         95.0  30.655652      2024-01-02   \n",
       "2024-01-03            30.08   6597.0        110.0  30.095682      2024-01-03   \n",
       "2024-01-04            30.25  25429.0         75.0  30.273637      2024-01-04   \n",
       "2024-01-05            30.31   3231.0         67.0  30.356474      2024-01-05   \n",
       "2024-01-08            30.70   7482.0        123.0  30.690812      2024-01-08   \n",
       "\n",
       "                      market_open  \n",
       "us_eastern_timestamp               \n",
       "2024-01-02                  False  \n",
       "2024-01-03                  False  \n",
       "2024-01-04                  False  \n",
       "2024-01-05                  False  \n",
       "2024-01-08                  False  "
      ]
     },
     "execution_count": 16,
     "metadata": {},
     "output_type": "execute_result"
    }
   ],
   "source": [
    "df3.head()"
   ]
  },
  {
   "cell_type": "code",
   "execution_count": 17,
   "metadata": {
    "tags": []
   },
   "outputs": [],
   "source": [
    "symbol = df3.symbol.unique() # 'SPY'\n",
    "durations = ['2D', '3D', '5D', '10D', '15D', '20D', '30D', '50D', '100D', '150D', '200D']\n",
    "for sym in symbol:\n",
    "    datasets[sym]['1D'] = df3[df3.symbol==sym].copy()\n",
    "    datasets[sym] = process_dataset(df3, sym, datasets[sym])"
   ]
  },
  {
   "cell_type": "code",
   "execution_count": 18,
   "metadata": {
    "tags": []
   },
   "outputs": [
    {
     "data": {
      "text/html": [
       "<div>\n",
       "<style scoped>\n",
       "    .dataframe tbody tr th:only-of-type {\n",
       "        vertical-align: middle;\n",
       "    }\n",
       "\n",
       "    .dataframe tbody tr th {\n",
       "        vertical-align: top;\n",
       "    }\n",
       "\n",
       "    .dataframe thead th {\n",
       "        text-align: right;\n",
       "    }\n",
       "</style>\n",
       "<table border=\"1\" class=\"dataframe\">\n",
       "  <thead>\n",
       "    <tr style=\"text-align: right;\">\n",
       "      <th></th>\n",
       "      <th>symbol</th>\n",
       "      <th>timestamp</th>\n",
       "      <th>open</th>\n",
       "      <th>high</th>\n",
       "      <th>low</th>\n",
       "      <th>close</th>\n",
       "      <th>volume</th>\n",
       "      <th>trade_count</th>\n",
       "      <th>vwap</th>\n",
       "      <th>us_eastern_date</th>\n",
       "      <th>market_open</th>\n",
       "    </tr>\n",
       "    <tr>\n",
       "      <th>us_eastern_timestamp</th>\n",
       "      <th></th>\n",
       "      <th></th>\n",
       "      <th></th>\n",
       "      <th></th>\n",
       "      <th></th>\n",
       "      <th></th>\n",
       "      <th></th>\n",
       "      <th></th>\n",
       "      <th></th>\n",
       "      <th></th>\n",
       "      <th></th>\n",
       "    </tr>\n",
       "  </thead>\n",
       "  <tbody>\n",
       "    <tr>\n",
       "      <th>2024-11-19 15:00:00</th>\n",
       "      <td>SPY</td>\n",
       "      <td>2024-11-19 20:00:00+00:00</td>\n",
       "      <td>589.63</td>\n",
       "      <td>590.6000</td>\n",
       "      <td>589.365</td>\n",
       "      <td>590.29</td>\n",
       "      <td>9525290.0</td>\n",
       "      <td>66503.0</td>\n",
       "      <td>590.016005</td>\n",
       "      <td>2024-11-19</td>\n",
       "      <td>True</td>\n",
       "    </tr>\n",
       "    <tr>\n",
       "      <th>2024-11-19 16:00:00</th>\n",
       "      <td>SPY</td>\n",
       "      <td>2024-11-19 21:00:00+00:00</td>\n",
       "      <td>590.28</td>\n",
       "      <td>590.8000</td>\n",
       "      <td>590.200</td>\n",
       "      <td>590.24</td>\n",
       "      <td>11162473.0</td>\n",
       "      <td>4219.0</td>\n",
       "      <td>590.378012</td>\n",
       "      <td>2024-11-19</td>\n",
       "      <td>False</td>\n",
       "    </tr>\n",
       "    <tr>\n",
       "      <th>2024-11-19 17:00:00</th>\n",
       "      <td>SPY</td>\n",
       "      <td>2024-11-19 22:00:00+00:00</td>\n",
       "      <td>590.15</td>\n",
       "      <td>590.2199</td>\n",
       "      <td>590.000</td>\n",
       "      <td>590.12</td>\n",
       "      <td>315825.0</td>\n",
       "      <td>743.0</td>\n",
       "      <td>590.056293</td>\n",
       "      <td>2024-11-19</td>\n",
       "      <td>False</td>\n",
       "    </tr>\n",
       "    <tr>\n",
       "      <th>2024-11-19 18:00:00</th>\n",
       "      <td>SPY</td>\n",
       "      <td>2024-11-19 23:00:00+00:00</td>\n",
       "      <td>590.12</td>\n",
       "      <td>590.8900</td>\n",
       "      <td>590.100</td>\n",
       "      <td>590.87</td>\n",
       "      <td>58448.0</td>\n",
       "      <td>854.0</td>\n",
       "      <td>590.394854</td>\n",
       "      <td>2024-11-19</td>\n",
       "      <td>False</td>\n",
       "    </tr>\n",
       "    <tr>\n",
       "      <th>2024-11-19 19:00:00</th>\n",
       "      <td>SPY</td>\n",
       "      <td>2024-11-20 00:00:00+00:00</td>\n",
       "      <td>591.56</td>\n",
       "      <td>591.6800</td>\n",
       "      <td>591.350</td>\n",
       "      <td>591.39</td>\n",
       "      <td>22825.0</td>\n",
       "      <td>357.0</td>\n",
       "      <td>591.526779</td>\n",
       "      <td>2024-11-19</td>\n",
       "      <td>False</td>\n",
       "    </tr>\n",
       "  </tbody>\n",
       "</table>\n",
       "</div>"
      ],
      "text/plain": [
       "                     symbol                 timestamp    open      high  \\\n",
       "us_eastern_timestamp                                                      \n",
       "2024-11-19 15:00:00     SPY 2024-11-19 20:00:00+00:00  589.63  590.6000   \n",
       "2024-11-19 16:00:00     SPY 2024-11-19 21:00:00+00:00  590.28  590.8000   \n",
       "2024-11-19 17:00:00     SPY 2024-11-19 22:00:00+00:00  590.15  590.2199   \n",
       "2024-11-19 18:00:00     SPY 2024-11-19 23:00:00+00:00  590.12  590.8900   \n",
       "2024-11-19 19:00:00     SPY 2024-11-20 00:00:00+00:00  591.56  591.6800   \n",
       "\n",
       "                          low   close      volume  trade_count        vwap  \\\n",
       "us_eastern_timestamp                                                         \n",
       "2024-11-19 15:00:00   589.365  590.29   9525290.0      66503.0  590.016005   \n",
       "2024-11-19 16:00:00   590.200  590.24  11162473.0       4219.0  590.378012   \n",
       "2024-11-19 17:00:00   590.000  590.12    315825.0        743.0  590.056293   \n",
       "2024-11-19 18:00:00   590.100  590.87     58448.0        854.0  590.394854   \n",
       "2024-11-19 19:00:00   591.350  591.39     22825.0        357.0  591.526779   \n",
       "\n",
       "                     us_eastern_date  market_open  \n",
       "us_eastern_timestamp                               \n",
       "2024-11-19 15:00:00       2024-11-19         True  \n",
       "2024-11-19 16:00:00       2024-11-19        False  \n",
       "2024-11-19 17:00:00       2024-11-19        False  \n",
       "2024-11-19 18:00:00       2024-11-19        False  \n",
       "2024-11-19 19:00:00       2024-11-19        False  "
      ]
     },
     "execution_count": 18,
     "metadata": {},
     "output_type": "execute_result"
    }
   ],
   "source": [
    "df2[df2.symbol=='SPY'].tail()"
   ]
  },
  {
   "cell_type": "markdown",
   "metadata": {
    "tags": []
   },
   "source": [
    "### writing out to s3"
   ]
  },
  {
   "cell_type": "code",
   "execution_count": 19,
   "metadata": {
    "tags": []
   },
   "outputs": [
    {
     "name": "stdout",
     "output_type": "stream",
     "text": [
      "{'15min', '50D', '20min', '1min', '2D', '25min', '60min', '240min', '120min', '5D', '10D', '10min', '30min', '30D', '200D', '180min', '1D', '5min', '20D', '150D', '100D', '2min', '15D', '3D', '3min'}\n"
     ]
    }
   ],
   "source": [
    "all_durations = []\n",
    "for sym in datasets.keys():\n",
    "    for dur in datasets[sym].keys():\n",
    "        all_durations.append(dur)\n",
    "all_durations = set(all_durations)\n",
    "print(all_durations)"
   ]
  },
  {
   "cell_type": "code",
   "execution_count": 20,
   "metadata": {
    "tags": []
   },
   "outputs": [],
   "source": [
    "for dur in all_durations:\n",
    "    dur_df = pd.DataFrame()\n",
    "    for sym in datasets.keys():\n",
    "        if dur in datasets[sym].keys():\n",
    "            dur_df = pd.concat([dur_df, datasets[sym][dur].assign(symbol=sym)])\n",
    "    dur_df.to_parquet(f'{bucket_loc}/{data_folder}/data_prep/stock_bars_{dur}.parquet')"
   ]
  },
  {
   "cell_type": "code",
   "execution_count": null,
   "metadata": {
    "tags": []
   },
   "outputs": [],
   "source": []
  },
  {
   "cell_type": "markdown",
   "metadata": {},
   "source": [
    "### testing"
   ]
  },
  {
   "cell_type": "code",
   "execution_count": 21,
   "metadata": {
    "tags": []
   },
   "outputs": [],
   "source": [
    "date_f = '2024-11-04'"
   ]
  },
  {
   "cell_type": "code",
   "execution_count": 22,
   "metadata": {
    "tags": []
   },
   "outputs": [
    {
     "ename": "NameError",
     "evalue": "name 'x' is not defined",
     "output_type": "error",
     "traceback": [
      "\u001b[0;31m---------------------------------------------------------------------------\u001b[0m",
      "\u001b[0;31mNameError\u001b[0m                                 Traceback (most recent call last)",
      "Cell \u001b[0;32mIn[22], line 2\u001b[0m\n\u001b[1;32m      1\u001b[0m \u001b[38;5;66;03m# x = df[df.symbol=='SPY'].reset_index()\u001b[39;00m\n\u001b[0;32m----> 2\u001b[0m \u001b[43mx\u001b[49m[(x\u001b[38;5;241m.\u001b[39mtimestamp\u001b[38;5;241m>\u001b[39m\u001b[38;5;241m=\u001b[39mpd\u001b[38;5;241m.\u001b[39mto_datetime(\u001b[38;5;124mf\u001b[39m\u001b[38;5;124m'\u001b[39m\u001b[38;5;124m2024-11-04 00:00:00+00:00\u001b[39m\u001b[38;5;124m'\u001b[39m))\u001b[38;5;241m&\u001b[39m(x\u001b[38;5;241m.\u001b[39mtimestamp\u001b[38;5;241m<\u001b[39mpd\u001b[38;5;241m.\u001b[39mto_datetime(\u001b[38;5;124mf\u001b[39m\u001b[38;5;124m'\u001b[39m\u001b[38;5;124m2024-11-04 23:00:000+00:00\u001b[39m\u001b[38;5;124m'\u001b[39m))]\u001b[38;5;241m.\u001b[39mtrade_count\u001b[38;5;241m.\u001b[39msum()\n\u001b[1;32m      3\u001b[0m x[(x\u001b[38;5;241m.\u001b[39mus_eastern_timestamp\u001b[38;5;241m>\u001b[39m\u001b[38;5;241m=\u001b[39mpd\u001b[38;5;241m.\u001b[39mto_datetime(\u001b[38;5;124mf\u001b[39m\u001b[38;5;124m'\u001b[39m\u001b[38;5;124m2024-11-04 00:00:00\u001b[39m\u001b[38;5;124m'\u001b[39m))\u001b[38;5;241m&\u001b[39m(x\u001b[38;5;241m.\u001b[39mus_eastern_timestamp\u001b[38;5;241m<\u001b[39mpd\u001b[38;5;241m.\u001b[39mto_datetime(\u001b[38;5;124mf\u001b[39m\u001b[38;5;124m'\u001b[39m\u001b[38;5;124m2024-11-04 23:00:00\u001b[39m\u001b[38;5;124m'\u001b[39m))]\u001b[38;5;66;03m#.trade_count.sum()\u001b[39;00m\n",
      "\u001b[0;31mNameError\u001b[0m: name 'x' is not defined"
     ]
    }
   ],
   "source": [
    "# x = df[df.symbol=='SPY'].reset_index()\n",
    "x[(x.timestamp>=pd.to_datetime(f'2024-11-04 00:00:00+00:00'))&(x.timestamp<pd.to_datetime(f'2024-11-04 23:00:000+00:00'))].trade_count.sum()\n",
    "x[(x.us_eastern_timestamp>=pd.to_datetime(f'2024-11-04 00:00:00'))&(x.us_eastern_timestamp<pd.to_datetime(f'2024-11-04 23:00:00'))]#.trade_count.sum()"
   ]
  },
  {
   "cell_type": "code",
   "execution_count": null,
   "metadata": {
    "tags": []
   },
   "outputs": [],
   "source": [
    "y = df2[df2.symbol=='SPY']\n",
    "y[y.us_eastern_date==pd.to_datetime(date_f)]"
   ]
  },
  {
   "cell_type": "code",
   "execution_count": null,
   "metadata": {
    "tags": []
   },
   "outputs": [],
   "source": [
    "z = df3[df3.symbol=='SPY']\n",
    "z[z.us_eastern_date==pd.to_datetime(date_f)]"
   ]
  },
  {
   "cell_type": "code",
   "execution_count": null,
   "metadata": {},
   "outputs": [],
   "source": [
    "# "
   ]
  },
  {
   "cell_type": "code",
   "execution_count": null,
   "metadata": {},
   "outputs": [],
   "source": []
  }
 ],
 "metadata": {
  "kernelspec": {
   "display_name": "fools_gold",
   "language": "python",
   "name": "python3"
  },
  "language_info": {
   "codemirror_mode": {
    "name": "ipython",
    "version": 3
   },
   "file_extension": ".py",
   "mimetype": "text/x-python",
   "name": "python",
   "nbconvert_exporter": "python",
   "pygments_lexer": "ipython3",
   "version": "3.9.19"
  }
 },
 "nbformat": 4,
 "nbformat_minor": 4
}
