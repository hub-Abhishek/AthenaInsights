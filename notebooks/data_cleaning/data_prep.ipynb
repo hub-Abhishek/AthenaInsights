{
 "cells": [
  {
   "cell_type": "code",
   "execution_count": 1,
   "metadata": {
    "tags": []
   },
   "outputs": [],
   "source": [
    "import pandas as pd\n",
    "import numpy as np\n",
    "import warnings\n",
    "from tqdm import tqdm\n",
    "warnings.filterwarnings(\"ignore\")"
   ]
  },
  {
   "cell_type": "code",
   "execution_count": 2,
   "metadata": {},
   "outputs": [],
   "source": [
    "def process_dataset(df, symbol, datasets=None):\n",
    "    df = df[df.symbol==symbol]\n",
    "    if datasets is None:\n",
    "        datasets = {}\n",
    "    for dur in durations:\n",
    "        new_dataset = df.resample(dur).agg({'open': 'first', 'high': 'max', 'low': 'min', 'close': 'last', 'volume': 'sum'})\n",
    "        datasets[dur] = new_dataset.copy()\n",
    "    return datasets"
   ]
  },
  {
   "cell_type": "markdown",
   "metadata": {},
   "source": [
    "### minute level data"
   ]
  },
  {
   "cell_type": "code",
   "execution_count": 3,
   "metadata": {
    "tags": []
   },
   "outputs": [],
   "source": [
    "bucket_loc = 's3://sisyphus-general-bucket/AthenaInsights'\n",
    "data_folder = 'latest_data'"
   ]
  },
  {
   "cell_type": "code",
   "execution_count": 4,
   "metadata": {
    "tags": []
   },
   "outputs": [],
   "source": [
    "# stock_data_day_level_name: stock_bars_day.parquet\n",
    "# stock_bars_hour_level_name: stock_bars_hour.parquet\n",
    "# stock_bars_minute_level_name: stock_bars_minute.parquet"
   ]
  },
  {
   "cell_type": "code",
   "execution_count": 8,
   "metadata": {},
   "outputs": [],
   "source": [
    "import pandas as pd\n",
    "\n",
    "def fill_missing_minutes(df, freq='1T'):\n",
    "    \"\"\"\n",
    "    Fill missing minutes in financial time series data for each symbol, ensuring no data\n",
    "    is generated outside of a day's trading hours.\n",
    "\n",
    "    Parameters:\n",
    "        df (pd.DataFrame): Dataframe with columns 'symbol', 'us_eastern_timestamp', 'open', 'high', 'low', 'close', 'volume', 'trade_count', 'vwap'.\n",
    "        freq (str): Frequency for resampling, default is '1T' (one minute).\n",
    "\n",
    "    Returns:\n",
    "        pd.DataFrame: Dataframe with missing minutes filled within valid trading hours.\n",
    "    \"\"\"\n",
    "    # Convert timestamp to datetime if not already\n",
    "    df['us_eastern_timestamp'] = pd.to_datetime(df['us_eastern_timestamp'])\n",
    "\n",
    "    # Set datetime as the index temporarily\n",
    "    df.set_index('us_eastern_timestamp', inplace=True)\n",
    "\n",
    "    # Function to resample each group while respecting daily bounds\n",
    "    def resample_group(group):\n",
    "        # Group by each day to respect daily boundaries\n",
    "        daily_groups = []\n",
    "        for name, day_group in group.groupby(group.index.date):\n",
    "            min_time = day_group.index.min()\n",
    "            max_time = day_group.index.max()\n",
    "\n",
    "            # Resample within the day's min and max times\n",
    "            resampled = day_group.resample(freq).ffill()\n",
    "            resampled = resampled[(resampled.index >= min_time) & (resampled.index <= max_time)]\n",
    "\n",
    "            # Fill missing data within the day\n",
    "            resampled['open'].fillna(resampled['close'], inplace=True)\n",
    "            resampled['high'].fillna(resampled['close'], inplace=True)\n",
    "            resampled['low'].fillna(resampled['close'], inplace=True)\n",
    "            resampled['volume'].fillna(0, inplace=True)\n",
    "            resampled['trade_count'].fillna(0, inplace=True)\n",
    "            resampled['vwap'].fillna(resampled['close'], inplace=True)\n",
    "\n",
    "            daily_groups.append(resampled)\n",
    "\n",
    "        # Combine all daily resampled groups\n",
    "        return pd.concat(daily_groups)\n",
    "\n",
    "    # Apply the resampling function to each symbol group\n",
    "    filled_df = df.groupby('symbol').apply(resample_group)\n",
    "\n",
    "    # Clean up the index\n",
    "    filled_df.reset_index(level=0, drop=True, inplace=True)\n",
    "\n",
    "    return filled_df.reset_index()"
   ]
  },
  {
   "cell_type": "code",
   "execution_count": 9,
   "metadata": {
    "tags": []
   },
   "outputs": [],
   "source": [
    "df = pd.read_parquet(f'{bucket_loc}/{data_folder}/parquet/stock_bars_minute.parquet')\n",
    "df['timestamp'] = pd.to_datetime(df['timestamp'])\n",
    "df['us_eastern_timestamp'] = df['timestamp'].dt.tz_convert('US/Eastern')\n",
    "df['us_eastern_timestamp'] = df['us_eastern_timestamp'].dt.tz_localize(None)\n",
    "df = df.drop(columns='timestamp')\n",
    "df = df[df.symbol.isin(['SPY', 'QQQ'])]\n",
    "\n",
    "assert df.open.isna().sum() == 0\n",
    "assert df.high.isna().sum() == 0\n",
    "assert df.low.isna().sum() == 0\n",
    "assert df.close.isna().sum() == 0\n",
    "\n",
    "# df['us_eastern_date'] = df.us_eastern_timestamp.dt.date\n",
    "# df['market_open'] = df.us_eastern_timestamp.between('09:30:00', '16:00:00')\n",
    "df = fill_missing_minutes(df)\n",
    "df['market_open'] = (df.us_eastern_timestamp.dt.time>=pd.to_datetime('09:30:00').time()) & (df.us_eastern_timestamp.dt.time < pd.to_datetime('16:00:00').time())\n",
    "df.set_index('us_eastern_timestamp', inplace=True)"
   ]
  },
  {
   "cell_type": "code",
   "execution_count": 10,
   "metadata": {
    "tags": []
   },
   "outputs": [
    {
     "data": {
      "text/html": [
       "<div>\n",
       "<style scoped>\n",
       "    .dataframe tbody tr th:only-of-type {\n",
       "        vertical-align: middle;\n",
       "    }\n",
       "\n",
       "    .dataframe tbody tr th {\n",
       "        vertical-align: top;\n",
       "    }\n",
       "\n",
       "    .dataframe thead th {\n",
       "        text-align: right;\n",
       "    }\n",
       "</style>\n",
       "<table border=\"1\" class=\"dataframe\">\n",
       "  <thead>\n",
       "    <tr style=\"text-align: right;\">\n",
       "      <th></th>\n",
       "      <th>symbol</th>\n",
       "      <th>open</th>\n",
       "      <th>high</th>\n",
       "      <th>low</th>\n",
       "      <th>close</th>\n",
       "      <th>volume</th>\n",
       "      <th>trade_count</th>\n",
       "      <th>vwap</th>\n",
       "      <th>market_open</th>\n",
       "    </tr>\n",
       "    <tr>\n",
       "      <th>us_eastern_timestamp</th>\n",
       "      <th></th>\n",
       "      <th></th>\n",
       "      <th></th>\n",
       "      <th></th>\n",
       "      <th></th>\n",
       "      <th></th>\n",
       "      <th></th>\n",
       "      <th></th>\n",
       "      <th></th>\n",
       "    </tr>\n",
       "  </thead>\n",
       "  <tbody>\n",
       "    <tr>\n",
       "      <th>2024-01-02 04:00:00</th>\n",
       "      <td>QQQ</td>\n",
       "      <td>409.84</td>\n",
       "      <td>409.84</td>\n",
       "      <td>409.76</td>\n",
       "      <td>409.79</td>\n",
       "      <td>1541.0</td>\n",
       "      <td>26.0</td>\n",
       "      <td>409.799268</td>\n",
       "      <td>False</td>\n",
       "    </tr>\n",
       "    <tr>\n",
       "      <th>2024-01-02 04:01:00</th>\n",
       "      <td>QQQ</td>\n",
       "      <td>409.81</td>\n",
       "      <td>409.81</td>\n",
       "      <td>409.75</td>\n",
       "      <td>409.75</td>\n",
       "      <td>604.0</td>\n",
       "      <td>11.0</td>\n",
       "      <td>409.776912</td>\n",
       "      <td>False</td>\n",
       "    </tr>\n",
       "    <tr>\n",
       "      <th>2024-01-02 04:02:00</th>\n",
       "      <td>QQQ</td>\n",
       "      <td>409.71</td>\n",
       "      <td>409.71</td>\n",
       "      <td>409.68</td>\n",
       "      <td>409.68</td>\n",
       "      <td>1510.0</td>\n",
       "      <td>9.0</td>\n",
       "      <td>409.689310</td>\n",
       "      <td>False</td>\n",
       "    </tr>\n",
       "    <tr>\n",
       "      <th>2024-01-02 04:03:00</th>\n",
       "      <td>QQQ</td>\n",
       "      <td>409.71</td>\n",
       "      <td>409.71</td>\n",
       "      <td>409.66</td>\n",
       "      <td>409.66</td>\n",
       "      <td>2679.0</td>\n",
       "      <td>18.0</td>\n",
       "      <td>409.697663</td>\n",
       "      <td>False</td>\n",
       "    </tr>\n",
       "    <tr>\n",
       "      <th>2024-01-02 04:04:00</th>\n",
       "      <td>QQQ</td>\n",
       "      <td>409.63</td>\n",
       "      <td>409.63</td>\n",
       "      <td>409.61</td>\n",
       "      <td>409.61</td>\n",
       "      <td>343.0</td>\n",
       "      <td>6.0</td>\n",
       "      <td>409.623333</td>\n",
       "      <td>False</td>\n",
       "    </tr>\n",
       "  </tbody>\n",
       "</table>\n",
       "</div>"
      ],
      "text/plain": [
       "                     symbol    open    high     low   close  volume  \\\n",
       "us_eastern_timestamp                                                  \n",
       "2024-01-02 04:00:00     QQQ  409.84  409.84  409.76  409.79  1541.0   \n",
       "2024-01-02 04:01:00     QQQ  409.81  409.81  409.75  409.75   604.0   \n",
       "2024-01-02 04:02:00     QQQ  409.71  409.71  409.68  409.68  1510.0   \n",
       "2024-01-02 04:03:00     QQQ  409.71  409.71  409.66  409.66  2679.0   \n",
       "2024-01-02 04:04:00     QQQ  409.63  409.63  409.61  409.61   343.0   \n",
       "\n",
       "                      trade_count        vwap  market_open  \n",
       "us_eastern_timestamp                                        \n",
       "2024-01-02 04:00:00          26.0  409.799268        False  \n",
       "2024-01-02 04:01:00          11.0  409.776912        False  \n",
       "2024-01-02 04:02:00           9.0  409.689310        False  \n",
       "2024-01-02 04:03:00          18.0  409.697663        False  \n",
       "2024-01-02 04:04:00           6.0  409.623333        False  "
      ]
     },
     "execution_count": 10,
     "metadata": {},
     "output_type": "execute_result"
    }
   ],
   "source": [
    "df.head()"
   ]
  },
  {
   "cell_type": "code",
   "execution_count": 11,
   "metadata": {
    "tags": []
   },
   "outputs": [],
   "source": [
    "datasets = {}\n",
    "symbol = df.symbol.unique() # 'SPY'\n",
    "durations = ['2min', '3min', '5min', '10min', '15min', '20min', '25min', '30min']\n",
    "for sym in symbol:\n",
    "    datasets[sym] = {}\n",
    "    datasets[sym]['1min'] = df[df.symbol==sym].copy()\n",
    "    datasets[sym] = process_dataset(df, sym, datasets[sym])"
   ]
  },
  {
   "cell_type": "code",
   "execution_count": 12,
   "metadata": {
    "tags": []
   },
   "outputs": [
    {
     "data": {
      "text/plain": [
       "(dict_keys(['QQQ', 'SPY']),\n",
       " dict_keys(['1min', '2min', '3min', '5min', '10min', '15min', '20min', '25min', '30min']))"
      ]
     },
     "execution_count": 12,
     "metadata": {},
     "output_type": "execute_result"
    }
   ],
   "source": [
    "datasets.keys(), datasets['SPY'].keys()"
   ]
  },
  {
   "cell_type": "markdown",
   "metadata": {
    "tags": []
   },
   "source": [
    "### hour level data"
   ]
  },
  {
   "cell_type": "code",
   "execution_count": 13,
   "metadata": {
    "tags": []
   },
   "outputs": [],
   "source": [
    "# stock_data_day_level_name: stock_bars_day.parquet\n",
    "# stock_bars_hour_level_name: stock_bars_hour.parquet\n",
    "# stock_bars_minute_level_name: stock_bars_minute.parquet"
   ]
  },
  {
   "cell_type": "code",
   "execution_count": 20,
   "metadata": {
    "tags": []
   },
   "outputs": [],
   "source": [
    "df2 = pd.read_parquet(f'{bucket_loc}/{data_folder}/parquet/stock_bars_hour.parquet')\n",
    "df2['timestamp'] = pd.to_datetime(df2['timestamp'])\n",
    "df2['us_eastern_timestamp'] = df2['timestamp'].dt.tz_convert('US/Eastern')\n",
    "df2['us_eastern_timestamp'] = df2['us_eastern_timestamp'].dt.tz_localize(None)\n",
    "df2 = df2.drop(columns='timestamp')\n",
    "df2 = df2[df2.symbol.isin(['SPY', 'QQQ'])]\n",
    "\n",
    "# df2['us_eastern_date'] = df2.us_eastern_timestamp.dt.date\n",
    "# df2['market_open'] = df2.us_eastern_timestamp.between('09:30:00', '16:00:00')\n",
    "df2['market_open'] = (df2.us_eastern_timestamp.dt.time>=pd.to_datetime('09:30:00').time()) & (df2.us_eastern_timestamp.dt.time < pd.to_datetime('16:00:00').time())\n",
    "df2.set_index('us_eastern_timestamp', inplace=True)"
   ]
  },
  {
   "cell_type": "code",
   "execution_count": 21,
   "metadata": {
    "tags": []
   },
   "outputs": [
    {
     "data": {
      "text/html": [
       "<div>\n",
       "<style scoped>\n",
       "    .dataframe tbody tr th:only-of-type {\n",
       "        vertical-align: middle;\n",
       "    }\n",
       "\n",
       "    .dataframe tbody tr th {\n",
       "        vertical-align: top;\n",
       "    }\n",
       "\n",
       "    .dataframe thead th {\n",
       "        text-align: right;\n",
       "    }\n",
       "</style>\n",
       "<table border=\"1\" class=\"dataframe\">\n",
       "  <thead>\n",
       "    <tr style=\"text-align: right;\">\n",
       "      <th></th>\n",
       "      <th>symbol</th>\n",
       "      <th>open</th>\n",
       "      <th>high</th>\n",
       "      <th>low</th>\n",
       "      <th>close</th>\n",
       "      <th>volume</th>\n",
       "      <th>trade_count</th>\n",
       "      <th>vwap</th>\n",
       "      <th>market_open</th>\n",
       "    </tr>\n",
       "    <tr>\n",
       "      <th>us_eastern_timestamp</th>\n",
       "      <th></th>\n",
       "      <th></th>\n",
       "      <th></th>\n",
       "      <th></th>\n",
       "      <th></th>\n",
       "      <th></th>\n",
       "      <th></th>\n",
       "      <th></th>\n",
       "      <th></th>\n",
       "    </tr>\n",
       "  </thead>\n",
       "  <tbody>\n",
       "    <tr>\n",
       "      <th>2024-01-02 04:00:00</th>\n",
       "      <td>QQQ</td>\n",
       "      <td>409.84</td>\n",
       "      <td>409.84</td>\n",
       "      <td>408.94</td>\n",
       "      <td>409.03</td>\n",
       "      <td>31737.0</td>\n",
       "      <td>355.0</td>\n",
       "      <td>409.288230</td>\n",
       "      <td>False</td>\n",
       "    </tr>\n",
       "    <tr>\n",
       "      <th>2024-01-02 05:00:00</th>\n",
       "      <td>QQQ</td>\n",
       "      <td>409.05</td>\n",
       "      <td>409.10</td>\n",
       "      <td>408.45</td>\n",
       "      <td>408.49</td>\n",
       "      <td>28039.0</td>\n",
       "      <td>234.0</td>\n",
       "      <td>408.816953</td>\n",
       "      <td>False</td>\n",
       "    </tr>\n",
       "    <tr>\n",
       "      <th>2024-01-02 06:00:00</th>\n",
       "      <td>QQQ</td>\n",
       "      <td>408.42</td>\n",
       "      <td>408.59</td>\n",
       "      <td>405.50</td>\n",
       "      <td>406.17</td>\n",
       "      <td>280578.0</td>\n",
       "      <td>1327.0</td>\n",
       "      <td>406.407732</td>\n",
       "      <td>False</td>\n",
       "    </tr>\n",
       "    <tr>\n",
       "      <th>2024-01-02 07:00:00</th>\n",
       "      <td>QQQ</td>\n",
       "      <td>406.19</td>\n",
       "      <td>406.25</td>\n",
       "      <td>404.83</td>\n",
       "      <td>404.99</td>\n",
       "      <td>308453.0</td>\n",
       "      <td>1862.0</td>\n",
       "      <td>405.626898</td>\n",
       "      <td>False</td>\n",
       "    </tr>\n",
       "    <tr>\n",
       "      <th>2024-01-02 08:00:00</th>\n",
       "      <td>QQQ</td>\n",
       "      <td>408.41</td>\n",
       "      <td>410.00</td>\n",
       "      <td>404.81</td>\n",
       "      <td>405.61</td>\n",
       "      <td>469161.0</td>\n",
       "      <td>4130.0</td>\n",
       "      <td>405.534781</td>\n",
       "      <td>False</td>\n",
       "    </tr>\n",
       "  </tbody>\n",
       "</table>\n",
       "</div>"
      ],
      "text/plain": [
       "                     symbol    open    high     low   close    volume  \\\n",
       "us_eastern_timestamp                                                    \n",
       "2024-01-02 04:00:00     QQQ  409.84  409.84  408.94  409.03   31737.0   \n",
       "2024-01-02 05:00:00     QQQ  409.05  409.10  408.45  408.49   28039.0   \n",
       "2024-01-02 06:00:00     QQQ  408.42  408.59  405.50  406.17  280578.0   \n",
       "2024-01-02 07:00:00     QQQ  406.19  406.25  404.83  404.99  308453.0   \n",
       "2024-01-02 08:00:00     QQQ  408.41  410.00  404.81  405.61  469161.0   \n",
       "\n",
       "                      trade_count        vwap  market_open  \n",
       "us_eastern_timestamp                                        \n",
       "2024-01-02 04:00:00         355.0  409.288230        False  \n",
       "2024-01-02 05:00:00         234.0  408.816953        False  \n",
       "2024-01-02 06:00:00        1327.0  406.407732        False  \n",
       "2024-01-02 07:00:00        1862.0  405.626898        False  \n",
       "2024-01-02 08:00:00        4130.0  405.534781        False  "
      ]
     },
     "execution_count": 21,
     "metadata": {},
     "output_type": "execute_result"
    }
   ],
   "source": [
    "df2.head()"
   ]
  },
  {
   "cell_type": "code",
   "execution_count": 22,
   "metadata": {
    "tags": []
   },
   "outputs": [],
   "source": [
    "symbol = df2.symbol.unique() # 'SPY'\n",
    "durations = ['120min', '180min', '240min']\n",
    "for sym in symbol:\n",
    "    datasets[sym]['60min'] = df2[df2.symbol==sym].copy()\n",
    "    datasets[sym] = process_dataset(df2, sym, datasets[sym])"
   ]
  },
  {
   "cell_type": "code",
   "execution_count": 23,
   "metadata": {
    "tags": []
   },
   "outputs": [
    {
     "data": {
      "text/plain": [
       "(dict_keys(['QQQ', 'SPY']),\n",
       " dict_keys(['1min', '2min', '3min', '5min', '10min', '15min', '20min', '25min', '30min', '60min', '120min', '180min', '240min']))"
      ]
     },
     "execution_count": 23,
     "metadata": {},
     "output_type": "execute_result"
    }
   ],
   "source": [
    "datasets.keys(), datasets['SPY'].keys()"
   ]
  },
  {
   "cell_type": "markdown",
   "metadata": {
    "tags": []
   },
   "source": [
    "### day level data"
   ]
  },
  {
   "cell_type": "code",
   "execution_count": 24,
   "metadata": {
    "tags": []
   },
   "outputs": [],
   "source": [
    "# stock_data_day_level_name: stock_bars_day.parquet\n",
    "# stock_bars_hour_level_name: stock_bars_hour.parquet\n",
    "# stock_bars_minute_level_name: stock_bars_minute.parquet"
   ]
  },
  {
   "cell_type": "code",
   "execution_count": 25,
   "metadata": {
    "tags": []
   },
   "outputs": [],
   "source": [
    "df3 = pd.read_parquet(f'{bucket_loc}/{data_folder}/parquet/stock_bars_day.parquet')\n",
    "df3['timestamp'] = pd.to_datetime(df3['timestamp'])\n",
    "df3['us_eastern_timestamp'] = df3['timestamp'].dt.tz_convert('US/Eastern')\n",
    "df3['us_eastern_timestamp'] = df3['us_eastern_timestamp'].dt.tz_localize(None)\n",
    "df3 = df3.drop(columns='timestamp')\n",
    "df3 = df3[df3.symbol.isin(['SPY', 'QQQ'])]\n",
    "\n",
    "# df3['us_eastern_date'] = df3.us_eastern_timestamp.dt.date\n",
    "# df3['market_open'] = df3.us_eastern_timestamp.between('09:30:00', '16:00:00')\n",
    "df3['market_open'] = (df3.us_eastern_timestamp.dt.time>=pd.to_datetime('09:30:00').time()) & (df3.us_eastern_timestamp.dt.time < pd.to_datetime('16:00:00').time())\n",
    "df3.set_index('us_eastern_timestamp', inplace=True)"
   ]
  },
  {
   "cell_type": "code",
   "execution_count": 26,
   "metadata": {
    "tags": []
   },
   "outputs": [
    {
     "data": {
      "text/html": [
       "<div>\n",
       "<style scoped>\n",
       "    .dataframe tbody tr th:only-of-type {\n",
       "        vertical-align: middle;\n",
       "    }\n",
       "\n",
       "    .dataframe tbody tr th {\n",
       "        vertical-align: top;\n",
       "    }\n",
       "\n",
       "    .dataframe thead th {\n",
       "        text-align: right;\n",
       "    }\n",
       "</style>\n",
       "<table border=\"1\" class=\"dataframe\">\n",
       "  <thead>\n",
       "    <tr style=\"text-align: right;\">\n",
       "      <th></th>\n",
       "      <th>symbol</th>\n",
       "      <th>open</th>\n",
       "      <th>high</th>\n",
       "      <th>low</th>\n",
       "      <th>close</th>\n",
       "      <th>volume</th>\n",
       "      <th>trade_count</th>\n",
       "      <th>vwap</th>\n",
       "      <th>market_open</th>\n",
       "    </tr>\n",
       "    <tr>\n",
       "      <th>us_eastern_timestamp</th>\n",
       "      <th></th>\n",
       "      <th></th>\n",
       "      <th></th>\n",
       "      <th></th>\n",
       "      <th></th>\n",
       "      <th></th>\n",
       "      <th></th>\n",
       "      <th></th>\n",
       "      <th></th>\n",
       "    </tr>\n",
       "  </thead>\n",
       "  <tbody>\n",
       "    <tr>\n",
       "      <th>2024-01-02</th>\n",
       "      <td>QQQ</td>\n",
       "      <td>405.84</td>\n",
       "      <td>406.09</td>\n",
       "      <td>400.2400</td>\n",
       "      <td>402.59</td>\n",
       "      <td>58073141.0</td>\n",
       "      <td>498841.0</td>\n",
       "      <td>402.642947</td>\n",
       "      <td>False</td>\n",
       "    </tr>\n",
       "    <tr>\n",
       "      <th>2024-01-03</th>\n",
       "      <td>QQQ</td>\n",
       "      <td>399.93</td>\n",
       "      <td>401.00</td>\n",
       "      <td>397.8900</td>\n",
       "      <td>398.33</td>\n",
       "      <td>47037517.0</td>\n",
       "      <td>421720.0</td>\n",
       "      <td>399.376503</td>\n",
       "      <td>False</td>\n",
       "    </tr>\n",
       "    <tr>\n",
       "      <th>2024-01-04</th>\n",
       "      <td>QQQ</td>\n",
       "      <td>396.44</td>\n",
       "      <td>399.59</td>\n",
       "      <td>396.0600</td>\n",
       "      <td>396.28</td>\n",
       "      <td>39471644.0</td>\n",
       "      <td>341643.0</td>\n",
       "      <td>397.541973</td>\n",
       "      <td>False</td>\n",
       "    </tr>\n",
       "    <tr>\n",
       "      <th>2024-01-05</th>\n",
       "      <td>QQQ</td>\n",
       "      <td>396.45</td>\n",
       "      <td>399.56</td>\n",
       "      <td>395.3400</td>\n",
       "      <td>396.75</td>\n",
       "      <td>44923110.0</td>\n",
       "      <td>405464.0</td>\n",
       "      <td>397.442473</td>\n",
       "      <td>False</td>\n",
       "    </tr>\n",
       "    <tr>\n",
       "      <th>2024-01-08</th>\n",
       "      <td>QQQ</td>\n",
       "      <td>397.99</td>\n",
       "      <td>405.24</td>\n",
       "      <td>397.8399</td>\n",
       "      <td>404.95</td>\n",
       "      <td>42543338.0</td>\n",
       "      <td>362296.0</td>\n",
       "      <td>402.636103</td>\n",
       "      <td>False</td>\n",
       "    </tr>\n",
       "  </tbody>\n",
       "</table>\n",
       "</div>"
      ],
      "text/plain": [
       "                     symbol    open    high       low   close      volume  \\\n",
       "us_eastern_timestamp                                                        \n",
       "2024-01-02              QQQ  405.84  406.09  400.2400  402.59  58073141.0   \n",
       "2024-01-03              QQQ  399.93  401.00  397.8900  398.33  47037517.0   \n",
       "2024-01-04              QQQ  396.44  399.59  396.0600  396.28  39471644.0   \n",
       "2024-01-05              QQQ  396.45  399.56  395.3400  396.75  44923110.0   \n",
       "2024-01-08              QQQ  397.99  405.24  397.8399  404.95  42543338.0   \n",
       "\n",
       "                      trade_count        vwap  market_open  \n",
       "us_eastern_timestamp                                        \n",
       "2024-01-02               498841.0  402.642947        False  \n",
       "2024-01-03               421720.0  399.376503        False  \n",
       "2024-01-04               341643.0  397.541973        False  \n",
       "2024-01-05               405464.0  397.442473        False  \n",
       "2024-01-08               362296.0  402.636103        False  "
      ]
     },
     "execution_count": 26,
     "metadata": {},
     "output_type": "execute_result"
    }
   ],
   "source": [
    "df3.head()"
   ]
  },
  {
   "cell_type": "code",
   "execution_count": 27,
   "metadata": {
    "tags": []
   },
   "outputs": [],
   "source": [
    "symbol = df3.symbol.unique() # 'SPY'\n",
    "durations = ['2D', '3D', '5D', '10D', '15D', '20D', '30D', '50D', '100D', '150D', '200D']\n",
    "for sym in symbol:\n",
    "    datasets[sym]['1D'] = df3[df3.symbol==sym].copy()\n",
    "    datasets[sym] = process_dataset(df3, sym, datasets[sym])"
   ]
  },
  {
   "cell_type": "markdown",
   "metadata": {
    "tags": []
   },
   "source": [
    "### writing out to s3"
   ]
  },
  {
   "cell_type": "code",
   "execution_count": 28,
   "metadata": {
    "tags": []
   },
   "outputs": [
    {
     "name": "stdout",
     "output_type": "stream",
     "text": [
      "{'60min', '10min', '3D', '240min', '2min', '25min', '15min', '150D', '2D', '1min', '1D', '20min', '20D', '30D', '3min', '30min', '10D', '120min', '5min', '100D', '50D', '200D', '5D', '15D', '180min'}\n"
     ]
    }
   ],
   "source": [
    "all_durations = []\n",
    "for sym in datasets.keys():\n",
    "    for dur in datasets[sym].keys():\n",
    "        all_durations.append(dur)\n",
    "all_durations = set(all_durations)\n",
    "print(all_durations)"
   ]
  },
  {
   "cell_type": "code",
   "execution_count": 29,
   "metadata": {
    "tags": []
   },
   "outputs": [],
   "source": [
    "for dur in all_durations:\n",
    "    dur_df = pd.DataFrame()\n",
    "    for sym in datasets.keys():\n",
    "        if dur in datasets[sym].keys():\n",
    "            dur_df = pd.concat([dur_df, datasets[sym][dur].assign(symbol=sym)])\n",
    "    dur_df.to_parquet(f'{bucket_loc}/{data_folder}/data_prep/stock_bars_{dur}.parquet')"
   ]
  },
  {
   "cell_type": "code",
   "execution_count": null,
   "metadata": {
    "tags": []
   },
   "outputs": [],
   "source": []
  },
  {
   "cell_type": "markdown",
   "metadata": {},
   "source": [
    "### testing"
   ]
  },
  {
   "cell_type": "code",
   "execution_count": 21,
   "metadata": {
    "tags": []
   },
   "outputs": [],
   "source": [
    "date_f = '2024-11-04'"
   ]
  },
  {
   "cell_type": "code",
   "execution_count": 22,
   "metadata": {
    "tags": []
   },
   "outputs": [
    {
     "ename": "NameError",
     "evalue": "name 'x' is not defined",
     "output_type": "error",
     "traceback": [
      "\u001b[0;31m---------------------------------------------------------------------------\u001b[0m",
      "\u001b[0;31mNameError\u001b[0m                                 Traceback (most recent call last)",
      "Cell \u001b[0;32mIn[22], line 2\u001b[0m\n\u001b[1;32m      1\u001b[0m \u001b[38;5;66;03m# x = df[df.symbol=='SPY'].reset_index()\u001b[39;00m\n\u001b[0;32m----> 2\u001b[0m \u001b[43mx\u001b[49m[(x\u001b[38;5;241m.\u001b[39mtimestamp\u001b[38;5;241m>\u001b[39m\u001b[38;5;241m=\u001b[39mpd\u001b[38;5;241m.\u001b[39mto_datetime(\u001b[38;5;124mf\u001b[39m\u001b[38;5;124m'\u001b[39m\u001b[38;5;124m2024-11-04 00:00:00+00:00\u001b[39m\u001b[38;5;124m'\u001b[39m))\u001b[38;5;241m&\u001b[39m(x\u001b[38;5;241m.\u001b[39mtimestamp\u001b[38;5;241m<\u001b[39mpd\u001b[38;5;241m.\u001b[39mto_datetime(\u001b[38;5;124mf\u001b[39m\u001b[38;5;124m'\u001b[39m\u001b[38;5;124m2024-11-04 23:00:000+00:00\u001b[39m\u001b[38;5;124m'\u001b[39m))]\u001b[38;5;241m.\u001b[39mtrade_count\u001b[38;5;241m.\u001b[39msum()\n\u001b[1;32m      3\u001b[0m x[(x\u001b[38;5;241m.\u001b[39mus_eastern_timestamp\u001b[38;5;241m>\u001b[39m\u001b[38;5;241m=\u001b[39mpd\u001b[38;5;241m.\u001b[39mto_datetime(\u001b[38;5;124mf\u001b[39m\u001b[38;5;124m'\u001b[39m\u001b[38;5;124m2024-11-04 00:00:00\u001b[39m\u001b[38;5;124m'\u001b[39m))\u001b[38;5;241m&\u001b[39m(x\u001b[38;5;241m.\u001b[39mus_eastern_timestamp\u001b[38;5;241m<\u001b[39mpd\u001b[38;5;241m.\u001b[39mto_datetime(\u001b[38;5;124mf\u001b[39m\u001b[38;5;124m'\u001b[39m\u001b[38;5;124m2024-11-04 23:00:00\u001b[39m\u001b[38;5;124m'\u001b[39m))]\u001b[38;5;66;03m#.trade_count.sum()\u001b[39;00m\n",
      "\u001b[0;31mNameError\u001b[0m: name 'x' is not defined"
     ]
    }
   ],
   "source": [
    "# x = df[df.symbol=='SPY'].reset_index()\n",
    "x[(x.timestamp>=pd.to_datetime(f'2024-11-04 00:00:00+00:00'))&(x.timestamp<pd.to_datetime(f'2024-11-04 23:00:000+00:00'))].trade_count.sum()\n",
    "x[(x.us_eastern_timestamp>=pd.to_datetime(f'2024-11-04 00:00:00'))&(x.us_eastern_timestamp<pd.to_datetime(f'2024-11-04 23:00:00'))]#.trade_count.sum()"
   ]
  },
  {
   "cell_type": "code",
   "execution_count": null,
   "metadata": {
    "tags": []
   },
   "outputs": [],
   "source": [
    "y = df2[df2.symbol=='SPY']\n",
    "y[y.us_eastern_date==pd.to_datetime(date_f)]"
   ]
  },
  {
   "cell_type": "code",
   "execution_count": null,
   "metadata": {
    "tags": []
   },
   "outputs": [],
   "source": [
    "z = df3[df3.symbol=='SPY']\n",
    "z[z.us_eastern_date==pd.to_datetime(date_f)]"
   ]
  },
  {
   "cell_type": "code",
   "execution_count": null,
   "metadata": {},
   "outputs": [],
   "source": [
    "# "
   ]
  },
  {
   "cell_type": "code",
   "execution_count": null,
   "metadata": {},
   "outputs": [],
   "source": []
  }
 ],
 "metadata": {
  "kernelspec": {
   "display_name": "fools_gold",
   "language": "python",
   "name": "python3"
  },
  "language_info": {
   "codemirror_mode": {
    "name": "ipython",
    "version": 3
   },
   "file_extension": ".py",
   "mimetype": "text/x-python",
   "name": "python",
   "nbconvert_exporter": "python",
   "pygments_lexer": "ipython3",
   "version": "3.9.19"
  }
 },
 "nbformat": 4,
 "nbformat_minor": 4
}
