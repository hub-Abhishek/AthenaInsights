{
 "cells": [
  {
   "cell_type": "code",
   "execution_count": 1,
   "id": "cb12f7bf-cb8b-4aec-a0f9-35ea35e6e168",
   "metadata": {
    "tags": []
   },
   "outputs": [],
   "source": [
    "# !pip install protobuf==3.20.1"
   ]
  },
  {
   "cell_type": "code",
   "execution_count": 62,
   "id": "3d1d70c5-97d1-4580-8f7f-460ead35b1a3",
   "metadata": {
    "tags": []
   },
   "outputs": [],
   "source": [
    "# from sagemaker.xgboost.estimator import XGBoost\n",
    "import xgboost as xgb\n",
    "import pandas as pd\n",
    "import numpy as np\n",
    "import openpyxl\n",
    "import matplotlib.pyplot as plt\n",
    "from openpyxl import load_workbook\n",
    "from tqdm import tqdm\n",
    "import os\n",
    "import xlsxwriter\n",
    "from openpyxl.utils.dataframe import dataframe_to_rows\n",
    "from sklearn.metrics import confusion_matrix, accuracy_score, balanced_accuracy_score, precision_score, recall_score, f1_score, classification_report"
   ]
  },
  {
   "cell_type": "markdown",
   "id": "5587763c-713e-4db8-a201-5c74ca9dd3c6",
   "metadata": {
    "tags": []
   },
   "source": [
    "### data + dates"
   ]
  },
  {
   "cell_type": "code",
   "execution_count": 3,
   "id": "083d675d-d1be-4523-9df9-b3d11f1691a7",
   "metadata": {
    "tags": []
   },
   "outputs": [],
   "source": [
    "df = pd.read_parquet('s3://sisyphus-general-bucket/AthenaInsights/latest_data/model/data/stock_bars_1min.parquet' )"
   ]
  },
  {
   "cell_type": "code",
   "execution_count": 4,
   "id": "06b6efc1-2794-4f0b-ae59-f1d1b71e6d22",
   "metadata": {
    "tags": []
   },
   "outputs": [],
   "source": [
    "category_map = {'A': 0, 'B': 1, 'C':2}\n",
    "reverse_category_map = {v: k for k, v in category_map.items()}"
   ]
  },
  {
   "cell_type": "code",
   "execution_count": 5,
   "id": "7a751387-d970-48a4-a286-ee3047580583",
   "metadata": {
    "tags": []
   },
   "outputs": [
    {
     "data": {
      "text/plain": [
       "mapped_category\n",
       "2    192523\n",
       "0     12361\n",
       "1      9910\n",
       "Name: count, dtype: int64"
      ]
     },
     "execution_count": 5,
     "metadata": {},
     "output_type": "execute_result"
    }
   ],
   "source": [
    "df = df.fillna(0)\n",
    "df['mapped_category'] = df['category'].map({'A': 0, 'B': 1, 'C':2})\n",
    "df['mapped_category'].value_counts()"
   ]
  },
  {
   "cell_type": "code",
   "execution_count": 35,
   "id": "7af86a36-50e8-4fb8-912c-8230e4220c30",
   "metadata": {
    "tags": []
   },
   "outputs": [
    {
     "data": {
      "text/html": [
       "<div>\n",
       "<style scoped>\n",
       "    .dataframe tbody tr th:only-of-type {\n",
       "        vertical-align: middle;\n",
       "    }\n",
       "\n",
       "    .dataframe tbody tr th {\n",
       "        vertical-align: top;\n",
       "    }\n",
       "\n",
       "    .dataframe thead th {\n",
       "        text-align: right;\n",
       "    }\n",
       "</style>\n",
       "<table border=\"1\" class=\"dataframe\">\n",
       "  <thead>\n",
       "    <tr style=\"text-align: right;\">\n",
       "      <th></th>\n",
       "      <th>open</th>\n",
       "      <th>high</th>\n",
       "      <th>low</th>\n",
       "      <th>close</th>\n",
       "      <th>volume</th>\n",
       "      <th>time_delta</th>\n",
       "      <th>open_ema_2m</th>\n",
       "      <th>open_sma_2m</th>\n",
       "      <th>high_ema_2m</th>\n",
       "      <th>high_sma_2m</th>\n",
       "      <th>...</th>\n",
       "      <th>local_max_30</th>\n",
       "      <th>local_min_30</th>\n",
       "      <th>cumulative_local_max_30</th>\n",
       "      <th>cumulative_local_min_30</th>\n",
       "      <th>time_since_prev_max_30</th>\n",
       "      <th>time_since_prev_min_30</th>\n",
       "      <th>category</th>\n",
       "      <th>no change</th>\n",
       "      <th>up</th>\n",
       "      <th>mapped_category</th>\n",
       "    </tr>\n",
       "    <tr>\n",
       "      <th>us_eastern_timestamp</th>\n",
       "      <th></th>\n",
       "      <th></th>\n",
       "      <th></th>\n",
       "      <th></th>\n",
       "      <th></th>\n",
       "      <th></th>\n",
       "      <th></th>\n",
       "      <th></th>\n",
       "      <th></th>\n",
       "      <th></th>\n",
       "      <th></th>\n",
       "      <th></th>\n",
       "      <th></th>\n",
       "      <th></th>\n",
       "      <th></th>\n",
       "      <th></th>\n",
       "      <th></th>\n",
       "      <th></th>\n",
       "      <th></th>\n",
       "      <th></th>\n",
       "      <th></th>\n",
       "    </tr>\n",
       "  </thead>\n",
       "  <tbody>\n",
       "    <tr>\n",
       "      <th>2024-11-19 19:55:00</th>\n",
       "      <td>591.53</td>\n",
       "      <td>591.53</td>\n",
       "      <td>591.50</td>\n",
       "      <td>591.52</td>\n",
       "      <td>1052.0</td>\n",
       "      <td>0.0</td>\n",
       "      <td>591.542039</td>\n",
       "      <td>591.530</td>\n",
       "      <td>591.542121</td>\n",
       "      <td>591.530</td>\n",
       "      <td>...</td>\n",
       "      <td>False</td>\n",
       "      <td>False</td>\n",
       "      <td>27193</td>\n",
       "      <td>23140</td>\n",
       "      <td>6</td>\n",
       "      <td>16</td>\n",
       "      <td>C</td>\n",
       "      <td>1</td>\n",
       "      <td>0</td>\n",
       "      <td>2</td>\n",
       "    </tr>\n",
       "    <tr>\n",
       "      <th>2024-11-19 19:56:00</th>\n",
       "      <td>591.52</td>\n",
       "      <td>591.54</td>\n",
       "      <td>591.48</td>\n",
       "      <td>591.48</td>\n",
       "      <td>3823.0</td>\n",
       "      <td>0.0</td>\n",
       "      <td>591.527346</td>\n",
       "      <td>591.525</td>\n",
       "      <td>591.540707</td>\n",
       "      <td>591.535</td>\n",
       "      <td>...</td>\n",
       "      <td>False</td>\n",
       "      <td>False</td>\n",
       "      <td>27193</td>\n",
       "      <td>23140</td>\n",
       "      <td>7</td>\n",
       "      <td>17</td>\n",
       "      <td>C</td>\n",
       "      <td>0</td>\n",
       "      <td>0</td>\n",
       "      <td>2</td>\n",
       "    </tr>\n",
       "    <tr>\n",
       "      <th>2024-11-19 19:57:00</th>\n",
       "      <td>591.46</td>\n",
       "      <td>591.46</td>\n",
       "      <td>591.41</td>\n",
       "      <td>591.42</td>\n",
       "      <td>3656.0</td>\n",
       "      <td>0.0</td>\n",
       "      <td>591.482449</td>\n",
       "      <td>591.490</td>\n",
       "      <td>591.486902</td>\n",
       "      <td>591.500</td>\n",
       "      <td>...</td>\n",
       "      <td>False</td>\n",
       "      <td>False</td>\n",
       "      <td>27193</td>\n",
       "      <td>23140</td>\n",
       "      <td>8</td>\n",
       "      <td>18</td>\n",
       "      <td>C</td>\n",
       "      <td>0</td>\n",
       "      <td>0</td>\n",
       "      <td>2</td>\n",
       "    </tr>\n",
       "    <tr>\n",
       "      <th>2024-11-19 19:58:00</th>\n",
       "      <td>591.40</td>\n",
       "      <td>591.40</td>\n",
       "      <td>591.35</td>\n",
       "      <td>591.39</td>\n",
       "      <td>1354.0</td>\n",
       "      <td>0.0</td>\n",
       "      <td>591.427483</td>\n",
       "      <td>591.430</td>\n",
       "      <td>591.428967</td>\n",
       "      <td>591.430</td>\n",
       "      <td>...</td>\n",
       "      <td>False</td>\n",
       "      <td>False</td>\n",
       "      <td>27193</td>\n",
       "      <td>23140</td>\n",
       "      <td>9</td>\n",
       "      <td>19</td>\n",
       "      <td>C</td>\n",
       "      <td>0</td>\n",
       "      <td>0</td>\n",
       "      <td>2</td>\n",
       "    </tr>\n",
       "    <tr>\n",
       "      <th>2024-11-19 19:59:00</th>\n",
       "      <td>591.39</td>\n",
       "      <td>591.40</td>\n",
       "      <td>591.35</td>\n",
       "      <td>591.39</td>\n",
       "      <td>2567.0</td>\n",
       "      <td>0.0</td>\n",
       "      <td>591.402494</td>\n",
       "      <td>591.395</td>\n",
       "      <td>591.409656</td>\n",
       "      <td>591.400</td>\n",
       "      <td>...</td>\n",
       "      <td>False</td>\n",
       "      <td>False</td>\n",
       "      <td>27193</td>\n",
       "      <td>23140</td>\n",
       "      <td>10</td>\n",
       "      <td>20</td>\n",
       "      <td>C</td>\n",
       "      <td>1</td>\n",
       "      <td>0</td>\n",
       "      <td>2</td>\n",
       "    </tr>\n",
       "  </tbody>\n",
       "</table>\n",
       "<p>5 rows × 184 columns</p>\n",
       "</div>"
      ],
      "text/plain": [
       "                        open    high     low   close  volume  time_delta  \\\n",
       "us_eastern_timestamp                                                       \n",
       "2024-11-19 19:55:00   591.53  591.53  591.50  591.52  1052.0         0.0   \n",
       "2024-11-19 19:56:00   591.52  591.54  591.48  591.48  3823.0         0.0   \n",
       "2024-11-19 19:57:00   591.46  591.46  591.41  591.42  3656.0         0.0   \n",
       "2024-11-19 19:58:00   591.40  591.40  591.35  591.39  1354.0         0.0   \n",
       "2024-11-19 19:59:00   591.39  591.40  591.35  591.39  2567.0         0.0   \n",
       "\n",
       "                      open_ema_2m  open_sma_2m  high_ema_2m  high_sma_2m  ...  \\\n",
       "us_eastern_timestamp                                                      ...   \n",
       "2024-11-19 19:55:00    591.542039      591.530   591.542121      591.530  ...   \n",
       "2024-11-19 19:56:00    591.527346      591.525   591.540707      591.535  ...   \n",
       "2024-11-19 19:57:00    591.482449      591.490   591.486902      591.500  ...   \n",
       "2024-11-19 19:58:00    591.427483      591.430   591.428967      591.430  ...   \n",
       "2024-11-19 19:59:00    591.402494      591.395   591.409656      591.400  ...   \n",
       "\n",
       "                      local_max_30  local_min_30  cumulative_local_max_30  \\\n",
       "us_eastern_timestamp                                                        \n",
       "2024-11-19 19:55:00          False         False                    27193   \n",
       "2024-11-19 19:56:00          False         False                    27193   \n",
       "2024-11-19 19:57:00          False         False                    27193   \n",
       "2024-11-19 19:58:00          False         False                    27193   \n",
       "2024-11-19 19:59:00          False         False                    27193   \n",
       "\n",
       "                      cumulative_local_min_30  time_since_prev_max_30  \\\n",
       "us_eastern_timestamp                                                    \n",
       "2024-11-19 19:55:00                     23140                       6   \n",
       "2024-11-19 19:56:00                     23140                       7   \n",
       "2024-11-19 19:57:00                     23140                       8   \n",
       "2024-11-19 19:58:00                     23140                       9   \n",
       "2024-11-19 19:59:00                     23140                      10   \n",
       "\n",
       "                      time_since_prev_min_30  category  no change  up  \\\n",
       "us_eastern_timestamp                                                    \n",
       "2024-11-19 19:55:00                       16         C          1   0   \n",
       "2024-11-19 19:56:00                       17         C          0   0   \n",
       "2024-11-19 19:57:00                       18         C          0   0   \n",
       "2024-11-19 19:58:00                       19         C          0   0   \n",
       "2024-11-19 19:59:00                       20         C          1   0   \n",
       "\n",
       "                      mapped_category  \n",
       "us_eastern_timestamp                   \n",
       "2024-11-19 19:55:00                 2  \n",
       "2024-11-19 19:56:00                 2  \n",
       "2024-11-19 19:57:00                 2  \n",
       "2024-11-19 19:58:00                 2  \n",
       "2024-11-19 19:59:00                 2  \n",
       "\n",
       "[5 rows x 184 columns]"
      ]
     },
     "execution_count": 35,
     "metadata": {},
     "output_type": "execute_result"
    }
   ],
   "source": [
    "df.tail()"
   ]
  },
  {
   "cell_type": "markdown",
   "id": "3ba38804-027d-4c73-9ffe-e47af1ea0b7a",
   "metadata": {
    "tags": []
   },
   "source": [
    "### train test split"
   ]
  },
  {
   "cell_type": "code",
   "execution_count": 63,
   "id": "f99f540a-69fc-48d5-9381-cf29cc29358e",
   "metadata": {
    "tags": []
   },
   "outputs": [],
   "source": [
    "from datetime import datetime, timedelta"
   ]
  },
  {
   "cell_type": "code",
   "execution_count": 64,
   "id": "e609896b-914f-4a8c-8fb5-7085b4c0160d",
   "metadata": {
    "tags": []
   },
   "outputs": [
    {
     "name": "stdout",
     "output_type": "stream",
     "text": [
      "['2024-11-01', '2024-11-02', '2024-11-03', '2024-11-04', '2024-11-05', '2024-11-06', '2024-11-07', '2024-11-08', '2024-11-09', '2024-11-10', '2024-11-11', '2024-11-12', '2024-11-13', '2024-11-14', '2024-11-15', '2024-11-16', '2024-11-17', '2024-11-18', '2024-11-19']\n"
     ]
    }
   ],
   "source": [
    "start_date = '2024-11-01'\n",
    "end_date = '2024-11-19' # datetime.today().strftime('%Y-%m-%d')\n",
    "date_series = pd.date_range(start=start_date, end=end_date, freq='D')\n",
    "date_series = [z.strftime('%Y-%m-%d') for z in date_series]\n",
    "print(date_series)"
   ]
  },
  {
   "cell_type": "code",
   "execution_count": 65,
   "id": "feedde4c-abd7-4dab-8097-4e913fb6e684",
   "metadata": {
    "tags": []
   },
   "outputs": [
    {
     "data": {
      "text/plain": [
       "'2024-11-01'"
      ]
     },
     "execution_count": 65,
     "metadata": {},
     "output_type": "execute_result"
    }
   ],
   "source": [
    "date_series[0]"
   ]
  },
  {
   "cell_type": "code",
   "execution_count": 66,
   "id": "dc0a1027-3d21-48f4-8b87-26d3cf9b858e",
   "metadata": {
    "tags": []
   },
   "outputs": [],
   "source": [
    "# Create a DataFrame with initial content\n",
    "file_name = \"results/results_0.xlsx\"\n",
    "\n",
    "# if os.path.exists(file_name):\n",
    "#     file_name, result_num = file_name.split(\".\")[0].split(\"_\")\n",
    "#     result_num += 1\n",
    "#     file_name = file_name + result_num + \".xlsx\"\n",
    "#     print(f'base name: {file_name}')\n",
    "\n",
    "data = {'features used': list(df.columns)}\n",
    "data = pd.DataFrame(data)\n",
    "\n",
    "sheet_name = 'InitialSheet'\n",
    "\n",
    "# Write the DataFrame to an Excel file with a custom sheet name\n",
    "with pd.ExcelWriter(file_name, engine='openpyxl') as writer:\n",
    "    data.to_excel(writer, sheet_name=sheet_name, index=False)"
   ]
  },
  {
   "cell_type": "code",
   "execution_count": 67,
   "id": "a2f59c55-94d4-4138-a3f7-b90a18036535",
   "metadata": {
    "tags": []
   },
   "outputs": [],
   "source": [
    "def get_dates(dt):\n",
    "    test_date = dt\n",
    "    next_day = (datetime.strptime(test_date, '%Y-%m-%d') + timedelta(days=1)).strftime('%Y-%m-%d')\n",
    "    next_10_day = (datetime.strptime(test_date, '%Y-%m-%d') + timedelta(days=9)).strftime('%Y-%m-%d')\n",
    "    prev_day = (datetime.strptime(test_date, '%Y-%m-%d') + timedelta(days=-1)).strftime('%Y-%m-%d')\n",
    "    return test_date, next_day, next_10_day, prev_day"
   ]
  },
  {
   "cell_type": "code",
   "execution_count": 68,
   "id": "9a0525ac-301b-42e7-9dea-80f6bc6420cc",
   "metadata": {},
   "outputs": [],
   "source": [
    "def get_train_test_split(dt):\n",
    "\n",
    "    X_train = df.loc[:prev_day, ].drop(columns=['category', 'mapped_category'])\n",
    "    y_train = df.loc[:prev_day, 'mapped_category']\n",
    "\n",
    "    X_test = df.loc[test_date: next_10_day, ].drop(columns=['category', 'mapped_category'])\n",
    "    y_test = df.loc[test_date: next_10_day, 'mapped_category']\n",
    "\n",
    "    X_test_full = df.loc[test_date:, ].drop(columns=['category', 'mapped_category'])\n",
    "    y_test_full = df.loc[test_date:, 'mapped_category']\n",
    "\n",
    "    X_test_only_next_day = df.loc[test_date, ].drop(columns=['category', 'mapped_category'])\n",
    "    y_test_only_next_day = df.loc[test_date, 'mapped_category']\n",
    "    \n",
    "    return X_train, y_train, X_test, y_test, X_test_full, y_test_full, X_test_only_next_day, y_test_only_next_day"
   ]
  },
  {
   "cell_type": "code",
   "execution_count": 69,
   "id": "007e822f-45f4-456d-b6f5-7cfcda8c9414",
   "metadata": {
    "tags": []
   },
   "outputs": [],
   "source": [
    "from openpyxl.drawing.image import Image\n",
    "\n"
   ]
  },
  {
   "cell_type": "code",
   "execution_count": 70,
   "id": "0a89bcf5-f1b0-428e-bb57-50e218fe00ee",
   "metadata": {
    "tags": []
   },
   "outputs": [],
   "source": [
    "def log(x, dt, image=None, add=None):\n",
    "    if type(x)==type('str') or type(x).__name__=='DataFrame':\n",
    "        if type(x)==type('str'):\n",
    "            data = {'text': [x]}\n",
    "            data = pd.DataFrame(data)\n",
    "        else:\n",
    "            data = x\n",
    "\n",
    "        book = openpyxl.load_workbook(file_name)\n",
    "        if dt in book.sheetnames:\n",
    "            sheet = book[dt]\n",
    "            start_row = sheet.max_row + 1  # Find the first empty row\n",
    "            \n",
    "        else:\n",
    "            sheet = book.create_sheet(dt)  # Create a new sheet\n",
    "            start_row = 1\n",
    "\n",
    "         # Convert DataFrame to rows and append to the sheet\n",
    "        for r_idx, row in enumerate(dataframe_to_rows(data, index=False, header=False), start=start_row):\n",
    "            for c_idx, value in enumerate(row, start=1):\n",
    "                sheet.cell(row=r_idx, column=c_idx, value=value)\n",
    "\n",
    "        book.save(file_name)\n",
    "\n",
    "    elif image==1:\n",
    "        book = openpyxl.load_workbook(file_name)\n",
    "        sheet = book[dt]\n",
    "        img = Image(add)\n",
    "        sheet.add_image(img)\n",
    "        book.save(file_name)\n",
    "    else:\n",
    "        raise ValueError('what are you trying to save?')"
   ]
  },
  {
   "cell_type": "code",
   "execution_count": 71,
   "id": "7ab6373b-0ad4-472d-a627-08d022fba66d",
   "metadata": {},
   "outputs": [],
   "source": [
    "def initialte_and_train(X_train, y_train, X_test, y_test, X_test_full, y_test_full, X_test_only_next_day, y_test_only_next_day):\n",
    "    \n",
    "    clf = xgb.XGBClassifier(n_estimators=100,\n",
    "                            objective='multi:softmax',\n",
    "                            n_jobs =-1,\n",
    "                            random_state=420,\n",
    "                            num_class=3,\n",
    "                            eval_metric=['merror','mlogloss'])\n",
    "    clf.fit(X_train,\n",
    "            y_train,\n",
    "            verbose=0,\n",
    "            eval_set=[(X_train, y_train), (X_test, y_test), (X_test_full, y_test_full), (X_test_only_next_day, y_test_only_next_day)])\n",
    "    \n",
    "    return clf"
   ]
  },
  {
   "cell_type": "code",
   "execution_count": 72,
   "id": "622eb479-b79d-4716-911c-81361a7aad56",
   "metadata": {},
   "outputs": [],
   "source": [
    "def get_results(clf, dt):\n",
    "    results = clf.evals_result()\n",
    "    epochs = len(results['validation_0']['mlogloss'])\n",
    "    x_axis = range(0, epochs)\n",
    "\n",
    "    log(f\"results: {results}\", dt)\n",
    "    log(f\"epochs: {epochs}\", dt)\n",
    "    log(\"\\n\\n\", dt)\n",
    "\n",
    "    # xgboost 'mlogloss' plot\n",
    "    fig, ax = plt.subplots(figsize=(9,5))\n",
    "    ax.plot(x_axis, results['validation_0']['mlogloss'], label='Train')\n",
    "    ax.plot(x_axis, results['validation_1']['mlogloss'], label='Test')\n",
    "    ax.plot(x_axis, results['validation_2']['mlogloss'], label='Test_full')\n",
    "    ax.plot(x_axis, results['validation_3']['mlogloss'], label='Test_only_next_day')\n",
    "    ax.legend()\n",
    "    plt.ylabel('mlogloss')\n",
    "    plt.title(f'GridSearchCV XGBoost mlogloss - {dt}')\n",
    "    # plt.show()\n",
    "    fig.savefig(f'results/images/GridSearchCV XGBoost mlogloss - {dt}.png')\n",
    "    log(None, dt, image=1, add=f'results/images/GridSearchCV XGBoost mlogloss - {dt}.png')\n",
    "    log(\"\\n\\n\", dt)\n",
    "\n",
    "    # xgboost 'merror' plot\n",
    "    fig, ax = plt.subplots(figsize=(9,5))\n",
    "    ax.plot(x_axis, results['validation_0']['merror'], label='Train')\n",
    "    ax.plot(x_axis, results['validation_1']['merror'], label='Test')\n",
    "    ax.plot(x_axis, results['validation_2']['merror'], label='Test_full')\n",
    "    ax.plot(x_axis, results['validation_3']['merror'], label='Test_only_next_day')\n",
    "    ax.legend()\n",
    "    plt.ylabel('merror')\n",
    "    plt.title(f'GridSearchCV XGBoost merror - {dt}')\n",
    "    # plt.show()\n",
    "    fig.savefig(f'results/images/GridSearchCV XGBoost merror - {dt}.png')\n",
    "    log(None, dt, image=1, add=f'results/images/GridSearchCV XGBoost merror - {dt}.png')\n",
    "    log(\"\\n\\n\", dt)"
   ]
  },
  {
   "cell_type": "code",
   "execution_count": 73,
   "id": "ae9e4224-14bb-4152-896b-dd8c7e7a320f",
   "metadata": {},
   "outputs": [],
   "source": [
    "def generate_reports(x, y, clf, next_day=False):\n",
    "    log('## ---------- Model Classification Report ----------', dt)\n",
    "    log('## get predictions and create model quality report', dt)\n",
    "\n",
    "    y_p = clf.predict(x)\n",
    "\n",
    "    log('\\n------------------ Confusion Matrix -----------------\\n', dt)\n",
    "    log(pd.DataFrame(confusion_matrix(y, y_p)), dt)\n",
    "\n",
    "    if next_day:\n",
    "        preds_probs = clf.predict_proba(x)\n",
    "        for i in range(4, 10, 1):\n",
    "            log(f'threshold - {i/10}', dt)\n",
    "            preds_probs1 = (preds_probs>=i/10).argmax(axis=1,)\n",
    "            log(pd.DataFrame(confusion_matrix(y, preds_probs1)), dt)\n",
    "            log('\\n\\n', dt)\n",
    "\n",
    "    log('\\n-------------------- Key Metrics --------------------', dt)\n",
    "    log('\\nAccuracy: {:.2f}'.format(accuracy_score(y, y_p)), dt)\n",
    "    log('Balanced Accuracy: {:.2f}\\n'.format(balanced_accuracy_score(y, y_p)), dt)\n",
    "\n",
    "    log('Micro Precision: {:.2f}'.format(precision_score(y, y_p, average='micro')), dt)\n",
    "    log('Micro Recall: {:.2f}'.format(recall_score(y, y_p, average='micro')), dt)\n",
    "    log('Micro F1-score: {:.2f}\\n'.format(f1_score(y, y_p, average='micro')), dt)\n",
    "\n",
    "    log('Macro Precision: {:.2f}'.format(precision_score(y, y_p, average='macro')), dt)\n",
    "    log('Macro Recall: {:.2f}'.format(recall_score(y, y_p, average='macro')), dt)\n",
    "    log('Macro F1-score: {:.2f}\\n'.format(f1_score(y, y_p, average='macro')), dt)\n",
    "\n",
    "    log('Weighted Precision: {:.2f}'.format(precision_score(y, y_p, average='weighted')), dt)\n",
    "    log('Weighted Recall: {:.2f}'.format(recall_score(y, y_p, average='weighted')), dt)\n",
    "    log('Weighted F1-score: {:.2f}'.format(f1_score(y, y_p, average='weighted')), dt)\n",
    "\n",
    "    log('\\n--------------- Classification Report ---------------\\n', dt)\n",
    "    log(classification_report(y, y_p), dt)\n",
    "    log('---------------------- XGBoost ----------------------', dt) # unnecessary fancy styling"
   ]
  },
  {
   "cell_type": "code",
   "execution_count": 74,
   "id": "05deb80d-0379-4d18-bbd4-be501d58d3eb",
   "metadata": {},
   "outputs": [],
   "source": [
    "def plot_categorization(df, date, pred, field='close', ):\n",
    "    \"\"\" Plot categorization for a given day with dynamic field selection \"\"\"\n",
    "    df_day = df.loc[date]\n",
    "    df_day['preds'] = list(pred)\n",
    "    # categories, future_highs, future_lows = categorize_points(df_day, field=field, **kwargs)\n",
    "    # df_day['category'] = categories\n",
    "    # df_day['future_highs'] = future_highs\n",
    "    # df_day['future_lows'] = future_lows\n",
    "\n",
    "    \n",
    "    plt.figure(figsize=(14, 7))\n",
    "    plt.plot(df_day.index, df_day[field], label=f'{field.capitalize()} Price', color='gray', linewidth=2)\n",
    "    # plt.plot(df_day.index, df_day['close'], label=f'{field.capitalize()} Price', color='blue', linewidth=1)\n",
    "    for cat, color in zip(['A', 'B', 'C'], ['green', 'red', 'gray']):\n",
    "        plt.scatter(df_day[df_day['category'] == cat].index, df_day[df_day['category'] == cat][field], color=color, label=f'Category {cat}', s=30 if cat!='C' else 0)\n",
    "    for cat, color in zip(['A', 'B', 'C'], ['blue', 'black', 'pink']):\n",
    "        # print(cat)\n",
    "        # print(df_day[df_day['preds'] == cat].index)\n",
    "        plt.scatter(df_day[df_day['preds'] == cat].index, df_day[df_day['preds'] == cat][field], color=color, label=f'Preds {cat}', s=20 if cat!='C' else 10, \n",
    "                    # marker = '1' if cat=='B' else '2' if cat=='A' else '+')\n",
    "                    marker='s')\n",
    "    plt.legend()\n",
    "    plt.title(f'Price Categorization on {date}')\n",
    "    plt.xlabel('Timestamp')\n",
    "    plt.ylabel(f'{field.capitalize()} Price')\n",
    "    # plt.show()\n",
    "    plt.savefig(f'results/images/plot for day - {date}.png')\n",
    "    log(None, dt, image=1, add=f'results/images/plot for day - {date}.png')\n",
    "    log(\"\\n\\n\", date)"
   ]
  },
  {
   "cell_type": "code",
   "execution_count": null,
   "id": "62d619bc-a1cf-4306-b501-0cd1fa04f1bb",
   "metadata": {
    "tags": []
   },
   "outputs": [
    {
     "name": "stderr",
     "output_type": "stream",
     "text": [
      "  0%|          | 0/19 [00:00<?, ?it/s]"
     ]
    },
    {
     "name": "stdout",
     "output_type": "stream",
     "text": [
      "running for dt = 2024-11-01 2024-11-01\n"
     ]
    },
    {
     "name": "stderr",
     "output_type": "stream",
     "text": [
      "/home/ec2-user/anaconda3/envs/fools_gold/lib/python3.9/site-packages/sklearn/metrics/_classification.py:1531: UndefinedMetricWarning: Precision is ill-defined and being set to 0.0 in labels with no predicted samples. Use `zero_division` parameter to control this behavior.\n",
      "  _warn_prf(average, modifier, f\"{metric.capitalize()} is\", len(result))\n",
      "/home/ec2-user/anaconda3/envs/fools_gold/lib/python3.9/site-packages/sklearn/metrics/_classification.py:1531: UndefinedMetricWarning: Precision is ill-defined and being set to 0.0 in labels with no predicted samples. Use `zero_division` parameter to control this behavior.\n",
      "  _warn_prf(average, modifier, f\"{metric.capitalize()} is\", len(result))\n",
      "/home/ec2-user/anaconda3/envs/fools_gold/lib/python3.9/site-packages/sklearn/metrics/_classification.py:1531: UndefinedMetricWarning: Precision is ill-defined and being set to 0.0 in labels with no predicted samples. Use `zero_division` parameter to control this behavior.\n",
      "  _warn_prf(average, modifier, f\"{metric.capitalize()} is\", len(result))\n",
      "/home/ec2-user/anaconda3/envs/fools_gold/lib/python3.9/site-packages/sklearn/metrics/_classification.py:1531: UndefinedMetricWarning: Precision is ill-defined and being set to 0.0 in labels with no predicted samples. Use `zero_division` parameter to control this behavior.\n",
      "  _warn_prf(average, modifier, f\"{metric.capitalize()} is\", len(result))\n",
      "/home/ec2-user/anaconda3/envs/fools_gold/lib/python3.9/site-packages/sklearn/metrics/_classification.py:1531: UndefinedMetricWarning: Precision is ill-defined and being set to 0.0 in labels with no predicted samples. Use `zero_division` parameter to control this behavior.\n",
      "  _warn_prf(average, modifier, f\"{metric.capitalize()} is\", len(result))\n",
      "/tmp/ipykernel_21464/2939181200.py:4: SettingWithCopyWarning: \n",
      "A value is trying to be set on a copy of a slice from a DataFrame.\n",
      "Try using .loc[row_indexer,col_indexer] = value instead\n",
      "\n",
      "See the caveats in the documentation: https://pandas.pydata.org/pandas-docs/stable/user_guide/indexing.html#returning-a-view-versus-a-copy\n",
      "  df_day['preds'] = list(pred)\n",
      "  5%|▌         | 1/19 [01:20<24:13, 80.75s/it]"
     ]
    },
    {
     "name": "stdout",
     "output_type": "stream",
     "text": [
      "running for dt = 2024-11-02 2024-11-02\n"
     ]
    },
    {
     "name": "stderr",
     "output_type": "stream",
     "text": [
      " 11%|█         | 2/19 [02:35<21:51, 77.16s/it]"
     ]
    },
    {
     "name": "stdout",
     "output_type": "stream",
     "text": [
      "running for dt = 2024-11-03 2024-11-03\n"
     ]
    },
    {
     "name": "stderr",
     "output_type": "stream",
     "text": [
      " 16%|█▌        | 3/19 [03:51<20:29, 76.85s/it]"
     ]
    },
    {
     "name": "stdout",
     "output_type": "stream",
     "text": [
      "running for dt = 2024-11-04 2024-11-04\n"
     ]
    },
    {
     "name": "stderr",
     "output_type": "stream",
     "text": [
      "/tmp/ipykernel_21464/2939181200.py:4: SettingWithCopyWarning: \n",
      "A value is trying to be set on a copy of a slice from a DataFrame.\n",
      "Try using .loc[row_indexer,col_indexer] = value instead\n",
      "\n",
      "See the caveats in the documentation: https://pandas.pydata.org/pandas-docs/stable/user_guide/indexing.html#returning-a-view-versus-a-copy\n",
      "  df_day['preds'] = list(pred)\n",
      " 21%|██        | 4/19 [05:18<20:08, 80.56s/it]"
     ]
    },
    {
     "name": "stdout",
     "output_type": "stream",
     "text": [
      "running for dt = 2024-11-05 2024-11-05\n"
     ]
    },
    {
     "name": "stderr",
     "output_type": "stream",
     "text": [
      "/tmp/ipykernel_21464/2939181200.py:4: SettingWithCopyWarning: \n",
      "A value is trying to be set on a copy of a slice from a DataFrame.\n",
      "Try using .loc[row_indexer,col_indexer] = value instead\n",
      "\n",
      "See the caveats in the documentation: https://pandas.pydata.org/pandas-docs/stable/user_guide/indexing.html#returning-a-view-versus-a-copy\n",
      "  df_day['preds'] = list(pred)\n",
      " 26%|██▋       | 5/19 [06:45<19:22, 83.01s/it]"
     ]
    },
    {
     "name": "stdout",
     "output_type": "stream",
     "text": [
      "running for dt = 2024-11-06 2024-11-06\n"
     ]
    }
   ],
   "source": [
    "for dt in tqdm(date_series):\n",
    "    print(f\"running for dt = {dt}\", dt)\n",
    "    log(f\"running for dt = {dt}\", dt)\n",
    "    log (\"\\n\\n\", dt)\n",
    "    test_date, next_day, next_10_day, prev_day = get_dates(dt)\n",
    "\n",
    "    log(f\"test_date: {test_date}, next_day: {next_day}, next_10_day: {next_10_day}, prev_day: {prev_day}\", dt)\n",
    "    log(\"\\n\", dt)\n",
    "\n",
    "    X_train, y_train, X_test, y_test, X_test_full, y_test_full, X_test_only_next_day, y_test_only_next_day = get_train_test_split(df)\n",
    "\n",
    "    log(f\"y_train.value_counts():\\n{y_train.value_counts()}\", dt)\n",
    "    log(f\"y_test.value_counts():\\n{y_test.value_counts()}\", dt)\n",
    "    log(f\"y_test_full.value_counts():\\n{y_test_full.value_counts()}\", dt)\n",
    "    log(f\"y_test_only_next_day.value_counts():\\n{y_test_only_next_day.value_counts()}\", dt)\n",
    "    log(\"\\n\\n\", dt)\n",
    "\n",
    "    log(\"training the model\", dt)\n",
    "    clf = initialte_and_train(X_train, y_train, X_test, y_test, X_test_full, y_test_full, X_test_only_next_day, y_test_only_next_day)\n",
    "    log(\"\\n\\n\", dt)\n",
    "\n",
    "    log(\"results\", dt)\n",
    "    get_results(clf, dt)\n",
    "    log(\"\\n\\n\", dt)\n",
    "\n",
    "    log(\"reports\", dt)\n",
    "\n",
    "    if not X_test.empty:\n",
    "        log(\"10 day test\", dt)\n",
    "        generate_reports(X_test, y_test, clf)\n",
    "        log(\"\\n\\n\", dt)\n",
    "\n",
    "    if not X_test_full.empty:\n",
    "        log(\"full day test\", dt)\n",
    "        generate_reports(X_test_full, y_test_full, clf)\n",
    "        log(\"\\n\\n\", dt)\n",
    "\n",
    "    if not X_test_only_next_day.empty:\n",
    "        log(\"1 day test\", dt)\n",
    "        generate_reports(X_test_only_next_day, y_test_only_next_day, clf, next_day=True)\n",
    "        log(\"\\n\\n\", dt)\n",
    "\n",
    "    feature_important = clf.feature_importances_ \n",
    "    keys = list(X_train.columns)\n",
    "    values = list(feature_important)\n",
    "\n",
    "    log(\"feature importances\", dt)\n",
    "    fea_imp = pd.DataFrame(data=values, index=keys, columns=[\"score\"]).sort_values(by = \"score\", ascending=True)\n",
    "    log(fea_imp, dt)\n",
    "\n",
    "    if not X_test_only_next_day.empty:\n",
    "        preds_probs = clf.predict_proba(X_test_only_next_day)\n",
    "        preds_probs1 = (preds_probs >= 0.5).argmax(axis=1,)\n",
    "        plot_categorization(df, dt, pd.Series(preds_probs1).map(reverse_category_map))"
   ]
  },
  {
   "cell_type": "code",
   "execution_count": null,
   "id": "c42de468-9b77-4dc2-b1c3-434dde867a33",
   "metadata": {
    "tags": []
   },
   "outputs": [],
   "source": [
    "# y_test.value_counts() # category # 2    6809 # 0     523 # 1     348\n",
    "# 134 + 0 + 389 # 0\n",
    "# 0 + 24 + 324 # 1\n",
    "# 68 + 34 + 6707 # 2"
   ]
  },
  {
   "cell_type": "code",
   "execution_count": null,
   "id": "d5d096bb-9b03-4c96-8720-5cd873509d04",
   "metadata": {
    "tags": []
   },
   "outputs": [],
   "source": [
    "y_pred = clf.predict(X_test)\n",
    "asdf = confusion_matrix(y_test, y_pred)"
   ]
  },
  {
   "cell_type": "code",
   "execution_count": null,
   "id": "231d61ac-fac3-4e0c-b0c5-2eefee2f8a1c",
   "metadata": {
    "tags": []
   },
   "outputs": [],
   "source": [
    "type(pd.DataFrame()).__name__"
   ]
  },
  {
   "cell_type": "code",
   "execution_count": null,
   "id": "d7843556-4aa6-47c4-a3e4-fbec68a080f6",
   "metadata": {
    "tags": []
   },
   "outputs": [],
   "source": [
    "X_test_only_next_day.empty"
   ]
  },
  {
   "cell_type": "code",
   "execution_count": null,
   "id": "84f7a8a4-cba7-4225-93ff-6fab7ad07bd8",
   "metadata": {},
   "outputs": [],
   "source": []
  },
  {
   "cell_type": "code",
   "execution_count": null,
   "id": "c11075c8-485a-447e-9e41-a75eb2a12052",
   "metadata": {},
   "outputs": [],
   "source": []
  },
  {
   "cell_type": "code",
   "execution_count": 30,
   "id": "f2f226b7-47f6-4ea4-b751-31b00ccad065",
   "metadata": {
    "tags": []
   },
   "outputs": [],
   "source": [
    "X_test_only_next_day = df.loc['2024-10-15', ].drop(columns=['category', 'mapped_category'])\n",
    "y_test_only_next_day = df.loc['2024-10-15', 'mapped_category']\n",
    "preds_probs = clf.predict_proba(X_test_only_next_day)\n",
    "preds_probs1 = (preds_probs >= 0.5).argmax(axis=1,)\n"
   ]
  },
  {
   "cell_type": "code",
   "execution_count": 34,
   "id": "468fa7cf-b32c-4eaa-9d84-70c29fa34e84",
   "metadata": {
    "tags": []
   },
   "outputs": [
    {
     "name": "stderr",
     "output_type": "stream",
     "text": [
      "/tmp/ipykernel_21464/199500808.py:3: SettingWithCopyWarning: \n",
      "A value is trying to be set on a copy of a slice from a DataFrame.\n",
      "Try using .loc[row_indexer,col_indexer] = value instead\n",
      "\n",
      "See the caveats in the documentation: https://pandas.pydata.org/pandas-docs/stable/user_guide/indexing.html#returning-a-view-versus-a-copy\n",
      "  df_day['preds'] = list(preds_probs1)\n"
     ]
    },
    {
     "data": {
      "image/png": "[encoded data removed]",
      "text/plain": [
       "<Figure size 1400x700 with 1 Axes>"
      ]
     },
     "metadata": {},
     "output_type": "display_data"
    }
   ],
   "source": [
    "field = 'close'\n",
    "df_day = df.loc['2024-10-15']\n",
    "df_day['preds'] = list(preds_probs1)\n",
    "plt.figure(figsize=(14, 7))\n",
    "plt.plot(df_day.index, df_day[field], label=f'{field.capitalize()} Price', color='gray', linewidth=2)\n",
    "# plt.plot(df_day.index, df_day['close'], label=f'{field.capitalize()} Price', color='blue', linewidth=1)\n",
    "for cat, color in zip(['A', 'B', 'C'], ['green', 'red', 'gray']):\n",
    "    plt.scatter(df_day[df_day['category'] == cat].index, df_day[df_day['category'] == cat][field], color=color, label=f'Category {cat}', s=30 if cat!='C' else 0)\n",
    "for cat, color in zip(['A', 'B', 'C'], ['blue', 'black', 'pink']):\n",
    "    # print(cat)\n",
    "    # print(df_day[df_day['preds'] == cat].index)\n",
    "    plt.scatter(df_day[df_day['preds'] == cat].index, df_day[df_day['preds'] == cat][field], color=color, label=f'Preds {cat}', s=20 if cat!='C' else 10, \n",
    "                # marker = '1' if cat=='B' else '2' if cat=='A' else '+')\n",
    "                marker='s')\n",
    "plt.legend()\n",
    "plt.title(f'Price Categorization on {123}')\n",
    "plt.xlabel('Timestamp')\n",
    "plt.ylabel(f'{field.capitalize()} Price')\n",
    "# plt.show()\n",
    "plt.savefig(f'plot for day - {123}.png')\n",
    "# log(None, dt, image=1, add=f'plot for day - {123}.png')\n",
    "# log(\"\\n\\n\", date)"
   ]
  },
  {
   "cell_type": "code",
   "execution_count": null,
   "id": "2ee0d90e-2232-4d10-9273-88237a254603",
   "metadata": {},
   "outputs": [],
   "source": []
  },
  {
   "cell_type": "code",
   "execution_count": null,
   "id": "c7de38a3-57bd-49c5-91e5-797b9626f37f",
   "metadata": {},
   "outputs": [],
   "source": []
  },
  {
   "cell_type": "code",
   "execution_count": null,
   "id": "ee5f89aa-4249-4800-8c4d-59eec92e13cb",
   "metadata": {},
   "outputs": [],
   "source": []
  }
 ],
 "metadata": {
  "kernelspec": {
   "display_name": "conda_fools_gold",
   "language": "python",
   "name": "conda_fools_gold"
  },
  "language_info": {
   "codemirror_mode": {
    "name": "ipython",
    "version": 3
   },
   "file_extension": ".py",
   "mimetype": "text/x-python",
   "name": "python",
   "nbconvert_exporter": "python",
   "pygments_lexer": "ipython3",
   "version": "3.9.19"
  }
 },
 "nbformat": 4,
 "nbformat_minor": 5
}
