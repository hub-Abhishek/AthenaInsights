{
 "cells": [
  {
   "cell_type": "code",
   "execution_count": 1,
   "id": "772c7907-1461-420b-9b47-318d5fc05d1e",
   "metadata": {
    "tags": []
   },
   "outputs": [],
   "source": [
    "import pandas as pd\n",
    "import numpy as np\n",
    "import warnings\n",
    "import boto3\n",
    "from tqdm import tqdm\n",
    "warnings.filterwarnings(\"ignore\")"
   ]
  },
  {
   "cell_type": "markdown",
   "id": "8937e751-fa0c-4a9d-8ff3-39df5d0586c8",
   "metadata": {},
   "source": [
    "### data"
   ]
  },
  {
   "cell_type": "code",
   "execution_count": 2,
   "id": "cd5d93d7-3f09-4e56-a507-6593b48b648d",
   "metadata": {
    "tags": []
   },
   "outputs": [],
   "source": [
    "client = boto3.client('s3')"
   ]
  },
  {
   "cell_type": "code",
   "execution_count": 3,
   "id": "c642adbb-e807-41a0-82a6-8e292f932a4a",
   "metadata": {
    "tags": []
   },
   "outputs": [],
   "source": [
    "s3_prefix = 's3://'\n",
    "bucket = 'sisyphus-general-bucket'\n",
    "primary_folder = 'AthenaInsights'"
   ]
  },
  {
   "cell_type": "code",
   "execution_count": 4,
   "id": "66e986e9-7758-43d2-8463-9f825e6bce8c",
   "metadata": {
    "tags": []
   },
   "outputs": [],
   "source": [
    "response = client.list_objects_v2(\n",
    "    Bucket=bucket,\n",
    "    Prefix=f'{primary_folder}/latest_data/feature_prep/')"
   ]
  },
  {
   "cell_type": "code",
   "execution_count": 5,
   "id": "44774a9b-c2d0-4281-afbc-db3637832641",
   "metadata": {
    "tags": []
   },
   "outputs": [],
   "source": [
    "paths = []\n",
    "for content in response.get('Contents', []):\n",
    "    # print(f\"{s3_prefix}{bucket}/{content['Key']}\")\n",
    "    if '_base' in content['Key'] or '_diff' in content['Key']:\n",
    "        paths.append(f\"{s3_prefix}{bucket}/{content['Key']}\")"
   ]
  },
  {
   "cell_type": "code",
   "execution_count": 6,
   "id": "749428bf-b50a-43f7-9f92-e93c3da26c0e",
   "metadata": {
    "tags": []
   },
   "outputs": [
    {
     "data": {
      "text/plain": [
       "['s3://sisyphus-general-bucket/AthenaInsights/latest_data/feature_prep/stock_bars_100D_base.parquet',\n",
       " 's3://sisyphus-general-bucket/AthenaInsights/latest_data/feature_prep/stock_bars_100D_diff.parquet',\n",
       " 's3://sisyphus-general-bucket/AthenaInsights/latest_data/feature_prep/stock_bars_10D_base.parquet',\n",
       " 's3://sisyphus-general-bucket/AthenaInsights/latest_data/feature_prep/stock_bars_10D_diff.parquet',\n",
       " 's3://sisyphus-general-bucket/AthenaInsights/latest_data/feature_prep/stock_bars_10min_base.parquet',\n",
       " 's3://sisyphus-general-bucket/AthenaInsights/latest_data/feature_prep/stock_bars_10min_diff.parquet',\n",
       " 's3://sisyphus-general-bucket/AthenaInsights/latest_data/feature_prep/stock_bars_120min_base.parquet',\n",
       " 's3://sisyphus-general-bucket/AthenaInsights/latest_data/feature_prep/stock_bars_120min_diff.parquet',\n",
       " 's3://sisyphus-general-bucket/AthenaInsights/latest_data/feature_prep/stock_bars_150D_base.parquet',\n",
       " 's3://sisyphus-general-bucket/AthenaInsights/latest_data/feature_prep/stock_bars_150D_diff.parquet',\n",
       " 's3://sisyphus-general-bucket/AthenaInsights/latest_data/feature_prep/stock_bars_15D_base.parquet',\n",
       " 's3://sisyphus-general-bucket/AthenaInsights/latest_data/feature_prep/stock_bars_15D_diff.parquet',\n",
       " 's3://sisyphus-general-bucket/AthenaInsights/latest_data/feature_prep/stock_bars_15min_base.parquet',\n",
       " 's3://sisyphus-general-bucket/AthenaInsights/latest_data/feature_prep/stock_bars_15min_diff.parquet',\n",
       " 's3://sisyphus-general-bucket/AthenaInsights/latest_data/feature_prep/stock_bars_180min_base.parquet',\n",
       " 's3://sisyphus-general-bucket/AthenaInsights/latest_data/feature_prep/stock_bars_180min_diff.parquet',\n",
       " 's3://sisyphus-general-bucket/AthenaInsights/latest_data/feature_prep/stock_bars_1D_base.parquet',\n",
       " 's3://sisyphus-general-bucket/AthenaInsights/latest_data/feature_prep/stock_bars_1D_diff.parquet',\n",
       " 's3://sisyphus-general-bucket/AthenaInsights/latest_data/feature_prep/stock_bars_1min_base.parquet',\n",
       " 's3://sisyphus-general-bucket/AthenaInsights/latest_data/feature_prep/stock_bars_1min_diff.parquet',\n",
       " 's3://sisyphus-general-bucket/AthenaInsights/latest_data/feature_prep/stock_bars_200D_base.parquet',\n",
       " 's3://sisyphus-general-bucket/AthenaInsights/latest_data/feature_prep/stock_bars_200D_diff.parquet',\n",
       " 's3://sisyphus-general-bucket/AthenaInsights/latest_data/feature_prep/stock_bars_20D_base.parquet',\n",
       " 's3://sisyphus-general-bucket/AthenaInsights/latest_data/feature_prep/stock_bars_20D_diff.parquet',\n",
       " 's3://sisyphus-general-bucket/AthenaInsights/latest_data/feature_prep/stock_bars_20min_base.parquet',\n",
       " 's3://sisyphus-general-bucket/AthenaInsights/latest_data/feature_prep/stock_bars_20min_diff.parquet',\n",
       " 's3://sisyphus-general-bucket/AthenaInsights/latest_data/feature_prep/stock_bars_240min_base.parquet',\n",
       " 's3://sisyphus-general-bucket/AthenaInsights/latest_data/feature_prep/stock_bars_240min_diff.parquet',\n",
       " 's3://sisyphus-general-bucket/AthenaInsights/latest_data/feature_prep/stock_bars_25min_base.parquet',\n",
       " 's3://sisyphus-general-bucket/AthenaInsights/latest_data/feature_prep/stock_bars_25min_diff.parquet',\n",
       " 's3://sisyphus-general-bucket/AthenaInsights/latest_data/feature_prep/stock_bars_2D_base.parquet',\n",
       " 's3://sisyphus-general-bucket/AthenaInsights/latest_data/feature_prep/stock_bars_2D_diff.parquet',\n",
       " 's3://sisyphus-general-bucket/AthenaInsights/latest_data/feature_prep/stock_bars_2min_base.parquet',\n",
       " 's3://sisyphus-general-bucket/AthenaInsights/latest_data/feature_prep/stock_bars_2min_diff.parquet',\n",
       " 's3://sisyphus-general-bucket/AthenaInsights/latest_data/feature_prep/stock_bars_30D_base.parquet',\n",
       " 's3://sisyphus-general-bucket/AthenaInsights/latest_data/feature_prep/stock_bars_30D_diff.parquet',\n",
       " 's3://sisyphus-general-bucket/AthenaInsights/latest_data/feature_prep/stock_bars_30min_base.parquet',\n",
       " 's3://sisyphus-general-bucket/AthenaInsights/latest_data/feature_prep/stock_bars_30min_diff.parquet',\n",
       " 's3://sisyphus-general-bucket/AthenaInsights/latest_data/feature_prep/stock_bars_3D_base.parquet',\n",
       " 's3://sisyphus-general-bucket/AthenaInsights/latest_data/feature_prep/stock_bars_3D_diff.parquet',\n",
       " 's3://sisyphus-general-bucket/AthenaInsights/latest_data/feature_prep/stock_bars_3min_base.parquet',\n",
       " 's3://sisyphus-general-bucket/AthenaInsights/latest_data/feature_prep/stock_bars_3min_diff.parquet',\n",
       " 's3://sisyphus-general-bucket/AthenaInsights/latest_data/feature_prep/stock_bars_50D_base.parquet',\n",
       " 's3://sisyphus-general-bucket/AthenaInsights/latest_data/feature_prep/stock_bars_50D_diff.parquet',\n",
       " 's3://sisyphus-general-bucket/AthenaInsights/latest_data/feature_prep/stock_bars_5D_base.parquet',\n",
       " 's3://sisyphus-general-bucket/AthenaInsights/latest_data/feature_prep/stock_bars_5D_diff.parquet',\n",
       " 's3://sisyphus-general-bucket/AthenaInsights/latest_data/feature_prep/stock_bars_5min_base.parquet',\n",
       " 's3://sisyphus-general-bucket/AthenaInsights/latest_data/feature_prep/stock_bars_5min_diff.parquet',\n",
       " 's3://sisyphus-general-bucket/AthenaInsights/latest_data/feature_prep/stock_bars_60min_base.parquet',\n",
       " 's3://sisyphus-general-bucket/AthenaInsights/latest_data/feature_prep/stock_bars_60min_diff.parquet']"
      ]
     },
     "execution_count": 6,
     "metadata": {},
     "output_type": "execute_result"
    }
   ],
   "source": [
    "paths"
   ]
  },
  {
   "cell_type": "code",
   "execution_count": 7,
   "id": "df135ec3-5187-4113-8b89-24588d5760f4",
   "metadata": {},
   "outputs": [],
   "source": [
    "def calculate_rsi(data, window=14):\n",
    "    # Calculate price differences\n",
    "    delta = data.diff()\n",
    "    # Make two series: one for gains and one for losses\n",
    "    gain = (delta.where(delta > 0, 0)).fillna(0)\n",
    "    loss = (-delta.where(delta < 0, 0)).fillna(0)\n",
    "\n",
    "    # Calculate the Exponential Moving Average of gains and losses\n",
    "    avg_gain = gain.ewm(alpha=1/window, min_periods=window, adjust=False).mean()\n",
    "    avg_loss = loss.ewm(alpha=1/window, min_periods=window, adjust=False).mean()\n",
    "\n",
    "    # Calculate the RSI\n",
    "    rs = avg_gain / avg_loss\n",
    "    rsi = 100 - (100 / (1 + rs))\n",
    "    return rsi\n",
    "\n",
    "def read_and_calculate_rsi(path, windows, fields):\n",
    "    \n",
    "    print(f'Reading from {path}')\n",
    "    df = pd.read_parquet(path)[fields + ['symbol']]\n",
    "    grouped = df.groupby('symbol')\n",
    "    results = []\n",
    "    for symbol, group in grouped:\n",
    "        calculated_fields = []\n",
    "        for col in fields:\n",
    "            for window in windows:\n",
    "                rsi_values = calculate_rsi(group[col], window)\n",
    "                group[f'{col}_{window}window_rsi'] = rsi_values\n",
    "                calculated_fields.append(f'{col}_{window}window_rsi')\n",
    "        results.append(group[fields + calculated_fields])\n",
    "        # Concatenate all the grouped results back into a single DataFrame\n",
    "    df_concat = pd.concat(results)\n",
    "    loc = path.replace('.parquet', '_rsi.parquet')\n",
    "    print(f'Saving to {loc}')\n",
    "    df_concat.to_parquet(loc)\n",
    "    del df, grouped, group, rsi_values, results, df_concat"
   ]
  },
  {
   "cell_type": "code",
   "execution_count": 8,
   "id": "c477a023",
   "metadata": {},
   "outputs": [
    {
     "name": "stderr",
     "output_type": "stream",
     "text": [
      "  0%|          | 0/50 [00:00<?, ?it/s]"
     ]
    },
    {
     "name": "stdout",
     "output_type": "stream",
     "text": [
      "s3://sisyphus-general-bucket/AthenaInsights/latest_data/feature_prep/stock_bars_100D_base.parquet - 100D\n",
      "Reading from s3://sisyphus-general-bucket/AthenaInsights/latest_data/feature_prep/stock_bars_100D_base.parquet\n",
      "Saving to s3://sisyphus-general-bucket/AthenaInsights/latest_data/feature_prep/stock_bars_100D_base_rsi.parquet\n"
     ]
    },
    {
     "name": "stderr",
     "output_type": "stream",
     "text": [
      "  2%|▏         | 1/50 [00:01<01:11,  1.47s/it]"
     ]
    },
    {
     "name": "stdout",
     "output_type": "stream",
     "text": [
      "s3://sisyphus-general-bucket/AthenaInsights/latest_data/feature_prep/stock_bars_10D_base.parquet - 10D\n",
      "Reading from s3://sisyphus-general-bucket/AthenaInsights/latest_data/feature_prep/stock_bars_10D_base.parquet\n",
      "Saving to s3://sisyphus-general-bucket/AthenaInsights/latest_data/feature_prep/stock_bars_10D_base_rsi.parquet\n"
     ]
    },
    {
     "name": "stderr",
     "output_type": "stream",
     "text": [
      "  6%|▌         | 3/50 [00:02<00:41,  1.13it/s]"
     ]
    },
    {
     "name": "stdout",
     "output_type": "stream",
     "text": [
      "s3://sisyphus-general-bucket/AthenaInsights/latest_data/feature_prep/stock_bars_10min_base.parquet - 10min\n",
      "Reading from s3://sisyphus-general-bucket/AthenaInsights/latest_data/feature_prep/stock_bars_10min_base.parquet\n",
      "Saving to s3://sisyphus-general-bucket/AthenaInsights/latest_data/feature_prep/stock_bars_10min_base_rsi.parquet\n"
     ]
    },
    {
     "name": "stderr",
     "output_type": "stream",
     "text": [
      " 10%|█         | 5/50 [00:07<01:12,  1.61s/it]"
     ]
    },
    {
     "name": "stdout",
     "output_type": "stream",
     "text": [
      "s3://sisyphus-general-bucket/AthenaInsights/latest_data/feature_prep/stock_bars_120min_base.parquet - 120min\n",
      "Reading from s3://sisyphus-general-bucket/AthenaInsights/latest_data/feature_prep/stock_bars_120min_base.parquet\n",
      "Saving to s3://sisyphus-general-bucket/AthenaInsights/latest_data/feature_prep/stock_bars_120min_base_rsi.parquet\n"
     ]
    },
    {
     "name": "stderr",
     "output_type": "stream",
     "text": [
      " 14%|█▍        | 7/50 [00:09<00:56,  1.31s/it]"
     ]
    },
    {
     "name": "stdout",
     "output_type": "stream",
     "text": [
      "s3://sisyphus-general-bucket/AthenaInsights/latest_data/feature_prep/stock_bars_150D_base.parquet - 150D\n",
      "Reading from s3://sisyphus-general-bucket/AthenaInsights/latest_data/feature_prep/stock_bars_150D_base.parquet\n",
      "Saving to s3://sisyphus-general-bucket/AthenaInsights/latest_data/feature_prep/stock_bars_150D_base_rsi.parquet\n"
     ]
    },
    {
     "name": "stderr",
     "output_type": "stream",
     "text": [
      " 18%|█▊        | 9/50 [00:10<00:42,  1.03s/it]"
     ]
    },
    {
     "name": "stdout",
     "output_type": "stream",
     "text": [
      "s3://sisyphus-general-bucket/AthenaInsights/latest_data/feature_prep/stock_bars_15D_base.parquet - 15D\n",
      "Reading from s3://sisyphus-general-bucket/AthenaInsights/latest_data/feature_prep/stock_bars_15D_base.parquet\n",
      "Saving to s3://sisyphus-general-bucket/AthenaInsights/latest_data/feature_prep/stock_bars_15D_base_rsi.parquet\n"
     ]
    },
    {
     "name": "stderr",
     "output_type": "stream",
     "text": [
      " 22%|██▏       | 11/50 [00:11<00:34,  1.13it/s]"
     ]
    },
    {
     "name": "stdout",
     "output_type": "stream",
     "text": [
      "s3://sisyphus-general-bucket/AthenaInsights/latest_data/feature_prep/stock_bars_15min_base.parquet - 15min\n",
      "Reading from s3://sisyphus-general-bucket/AthenaInsights/latest_data/feature_prep/stock_bars_15min_base.parquet\n",
      "Saving to s3://sisyphus-general-bucket/AthenaInsights/latest_data/feature_prep/stock_bars_15min_base_rsi.parquet\n"
     ]
    },
    {
     "name": "stderr",
     "output_type": "stream",
     "text": [
      " 26%|██▌       | 13/50 [00:15<00:48,  1.31s/it]"
     ]
    },
    {
     "name": "stdout",
     "output_type": "stream",
     "text": [
      "s3://sisyphus-general-bucket/AthenaInsights/latest_data/feature_prep/stock_bars_180min_base.parquet - 180min\n",
      "Reading from s3://sisyphus-general-bucket/AthenaInsights/latest_data/feature_prep/stock_bars_180min_base.parquet\n",
      "Saving to s3://sisyphus-general-bucket/AthenaInsights/latest_data/feature_prep/stock_bars_180min_base_rsi.parquet\n"
     ]
    },
    {
     "name": "stderr",
     "output_type": "stream",
     "text": [
      " 30%|███       | 15/50 [00:17<00:40,  1.15s/it]"
     ]
    },
    {
     "name": "stdout",
     "output_type": "stream",
     "text": [
      "s3://sisyphus-general-bucket/AthenaInsights/latest_data/feature_prep/stock_bars_1D_base.parquet - 1D\n",
      "Reading from s3://sisyphus-general-bucket/AthenaInsights/latest_data/feature_prep/stock_bars_1D_base.parquet\n",
      "Saving to s3://sisyphus-general-bucket/AthenaInsights/latest_data/feature_prep/stock_bars_1D_base_rsi.parquet\n"
     ]
    },
    {
     "name": "stderr",
     "output_type": "stream",
     "text": [
      " 34%|███▍      | 17/50 [00:18<00:32,  1.00it/s]"
     ]
    },
    {
     "name": "stdout",
     "output_type": "stream",
     "text": [
      "s3://sisyphus-general-bucket/AthenaInsights/latest_data/feature_prep/stock_bars_1min_base.parquet - 1min\n",
      "Reading from s3://sisyphus-general-bucket/AthenaInsights/latest_data/feature_prep/stock_bars_1min_base.parquet\n",
      "Saving to s3://sisyphus-general-bucket/AthenaInsights/latest_data/feature_prep/stock_bars_1min_base_rsi.parquet\n"
     ]
    },
    {
     "name": "stderr",
     "output_type": "stream",
     "text": [
      " 38%|███▊      | 19/50 [00:32<01:27,  2.84s/it]"
     ]
    },
    {
     "name": "stdout",
     "output_type": "stream",
     "text": [
      "s3://sisyphus-general-bucket/AthenaInsights/latest_data/feature_prep/stock_bars_200D_base.parquet - 200D\n",
      "Reading from s3://sisyphus-general-bucket/AthenaInsights/latest_data/feature_prep/stock_bars_200D_base.parquet\n",
      "Saving to s3://sisyphus-general-bucket/AthenaInsights/latest_data/feature_prep/stock_bars_200D_base_rsi.parquet\n"
     ]
    },
    {
     "name": "stderr",
     "output_type": "stream",
     "text": [
      " 42%|████▏     | 21/50 [00:33<01:01,  2.13s/it]"
     ]
    },
    {
     "name": "stdout",
     "output_type": "stream",
     "text": [
      "s3://sisyphus-general-bucket/AthenaInsights/latest_data/feature_prep/stock_bars_20D_base.parquet - 20D\n",
      "Reading from s3://sisyphus-general-bucket/AthenaInsights/latest_data/feature_prep/stock_bars_20D_base.parquet\n",
      "Saving to s3://sisyphus-general-bucket/AthenaInsights/latest_data/feature_prep/stock_bars_20D_base_rsi.parquet\n"
     ]
    },
    {
     "name": "stderr",
     "output_type": "stream",
     "text": [
      " 46%|████▌     | 23/50 [00:35<00:44,  1.67s/it]"
     ]
    },
    {
     "name": "stdout",
     "output_type": "stream",
     "text": [
      "s3://sisyphus-general-bucket/AthenaInsights/latest_data/feature_prep/stock_bars_20min_base.parquet - 20min\n",
      "Reading from s3://sisyphus-general-bucket/AthenaInsights/latest_data/feature_prep/stock_bars_20min_base.parquet\n",
      "Saving to s3://sisyphus-general-bucket/AthenaInsights/latest_data/feature_prep/stock_bars_20min_base_rsi.parquet\n"
     ]
    },
    {
     "name": "stderr",
     "output_type": "stream",
     "text": [
      " 50%|█████     | 25/50 [00:42<00:58,  2.35s/it]"
     ]
    },
    {
     "name": "stdout",
     "output_type": "stream",
     "text": [
      "s3://sisyphus-general-bucket/AthenaInsights/latest_data/feature_prep/stock_bars_240min_base.parquet - 240min\n",
      "Reading from s3://sisyphus-general-bucket/AthenaInsights/latest_data/feature_prep/stock_bars_240min_base.parquet\n",
      "Saving to s3://sisyphus-general-bucket/AthenaInsights/latest_data/feature_prep/stock_bars_240min_base_rsi.parquet\n"
     ]
    },
    {
     "name": "stderr",
     "output_type": "stream",
     "text": [
      " 54%|█████▍    | 27/50 [00:44<00:44,  1.94s/it]"
     ]
    },
    {
     "name": "stdout",
     "output_type": "stream",
     "text": [
      "s3://sisyphus-general-bucket/AthenaInsights/latest_data/feature_prep/stock_bars_25min_base.parquet - 25min\n",
      "Reading from s3://sisyphus-general-bucket/AthenaInsights/latest_data/feature_prep/stock_bars_25min_base.parquet\n",
      "Saving to s3://sisyphus-general-bucket/AthenaInsights/latest_data/feature_prep/stock_bars_25min_base_rsi.parquet\n"
     ]
    },
    {
     "name": "stderr",
     "output_type": "stream",
     "text": [
      " 58%|█████▊    | 29/50 [00:52<00:51,  2.44s/it]"
     ]
    },
    {
     "name": "stdout",
     "output_type": "stream",
     "text": [
      "s3://sisyphus-general-bucket/AthenaInsights/latest_data/feature_prep/stock_bars_2D_base.parquet - 2D\n",
      "Reading from s3://sisyphus-general-bucket/AthenaInsights/latest_data/feature_prep/stock_bars_2D_base.parquet\n",
      "Saving to s3://sisyphus-general-bucket/AthenaInsights/latest_data/feature_prep/stock_bars_2D_base_rsi.parquet\n"
     ]
    },
    {
     "name": "stderr",
     "output_type": "stream",
     "text": [
      " 62%|██████▏   | 31/50 [00:53<00:36,  1.91s/it]"
     ]
    },
    {
     "name": "stdout",
     "output_type": "stream",
     "text": [
      "s3://sisyphus-general-bucket/AthenaInsights/latest_data/feature_prep/stock_bars_2min_base.parquet - 2min\n",
      "Reading from s3://sisyphus-general-bucket/AthenaInsights/latest_data/feature_prep/stock_bars_2min_base.parquet\n",
      "Saving to s3://sisyphus-general-bucket/AthenaInsights/latest_data/feature_prep/stock_bars_2min_base_rsi.parquet\n"
     ]
    },
    {
     "name": "stderr",
     "output_type": "stream",
     "text": [
      " 66%|██████▌   | 33/50 [01:09<01:04,  3.81s/it]"
     ]
    },
    {
     "name": "stdout",
     "output_type": "stream",
     "text": [
      "s3://sisyphus-general-bucket/AthenaInsights/latest_data/feature_prep/stock_bars_30D_base.parquet - 30D\n",
      "Reading from s3://sisyphus-general-bucket/AthenaInsights/latest_data/feature_prep/stock_bars_30D_base.parquet\n",
      "Saving to s3://sisyphus-general-bucket/AthenaInsights/latest_data/feature_prep/stock_bars_30D_base_rsi.parquet\n"
     ]
    },
    {
     "name": "stderr",
     "output_type": "stream",
     "text": [
      " 70%|███████   | 35/50 [01:10<00:42,  2.83s/it]"
     ]
    },
    {
     "name": "stdout",
     "output_type": "stream",
     "text": [
      "s3://sisyphus-general-bucket/AthenaInsights/latest_data/feature_prep/stock_bars_30min_base.parquet - 30min\n",
      "Reading from s3://sisyphus-general-bucket/AthenaInsights/latest_data/feature_prep/stock_bars_30min_base.parquet\n",
      "Saving to s3://sisyphus-general-bucket/AthenaInsights/latest_data/feature_prep/stock_bars_30min_base_rsi.parquet\n"
     ]
    },
    {
     "name": "stderr",
     "output_type": "stream",
     "text": [
      " 74%|███████▍  | 37/50 [01:13<00:30,  2.37s/it]"
     ]
    },
    {
     "name": "stdout",
     "output_type": "stream",
     "text": [
      "s3://sisyphus-general-bucket/AthenaInsights/latest_data/feature_prep/stock_bars_3D_base.parquet - 3D\n",
      "Reading from s3://sisyphus-general-bucket/AthenaInsights/latest_data/feature_prep/stock_bars_3D_base.parquet\n",
      "Saving to s3://sisyphus-general-bucket/AthenaInsights/latest_data/feature_prep/stock_bars_3D_base_rsi.parquet\n"
     ]
    },
    {
     "name": "stderr",
     "output_type": "stream",
     "text": [
      " 78%|███████▊  | 39/50 [01:14<00:20,  1.86s/it]"
     ]
    },
    {
     "name": "stdout",
     "output_type": "stream",
     "text": [
      "s3://sisyphus-general-bucket/AthenaInsights/latest_data/feature_prep/stock_bars_3min_base.parquet - 3min\n",
      "Reading from s3://sisyphus-general-bucket/AthenaInsights/latest_data/feature_prep/stock_bars_3min_base.parquet\n",
      "Saving to s3://sisyphus-general-bucket/AthenaInsights/latest_data/feature_prep/stock_bars_3min_base_rsi.parquet\n"
     ]
    },
    {
     "name": "stderr",
     "output_type": "stream",
     "text": [
      " 82%|████████▏ | 41/50 [01:27<00:28,  3.18s/it]"
     ]
    },
    {
     "name": "stdout",
     "output_type": "stream",
     "text": [
      "s3://sisyphus-general-bucket/AthenaInsights/latest_data/feature_prep/stock_bars_50D_base.parquet - 50D\n",
      "Reading from s3://sisyphus-general-bucket/AthenaInsights/latest_data/feature_prep/stock_bars_50D_base.parquet\n",
      "Saving to s3://sisyphus-general-bucket/AthenaInsights/latest_data/feature_prep/stock_bars_50D_base_rsi.parquet\n"
     ]
    },
    {
     "name": "stderr",
     "output_type": "stream",
     "text": [
      " 86%|████████▌ | 43/50 [01:28<00:16,  2.42s/it]"
     ]
    },
    {
     "name": "stdout",
     "output_type": "stream",
     "text": [
      "s3://sisyphus-general-bucket/AthenaInsights/latest_data/feature_prep/stock_bars_5D_base.parquet - 5D\n",
      "Reading from s3://sisyphus-general-bucket/AthenaInsights/latest_data/feature_prep/stock_bars_5D_base.parquet\n",
      "Saving to s3://sisyphus-general-bucket/AthenaInsights/latest_data/feature_prep/stock_bars_5D_base_rsi.parquet\n"
     ]
    },
    {
     "name": "stderr",
     "output_type": "stream",
     "text": [
      " 90%|█████████ | 45/50 [01:29<00:09,  1.89s/it]"
     ]
    },
    {
     "name": "stdout",
     "output_type": "stream",
     "text": [
      "s3://sisyphus-general-bucket/AthenaInsights/latest_data/feature_prep/stock_bars_5min_base.parquet - 5min\n",
      "Reading from s3://sisyphus-general-bucket/AthenaInsights/latest_data/feature_prep/stock_bars_5min_base.parquet\n",
      "Saving to s3://sisyphus-general-bucket/AthenaInsights/latest_data/feature_prep/stock_bars_5min_base_rsi.parquet\n"
     ]
    },
    {
     "name": "stderr",
     "output_type": "stream",
     "text": [
      " 94%|█████████▍| 47/50 [01:40<00:08,  2.92s/it]"
     ]
    },
    {
     "name": "stdout",
     "output_type": "stream",
     "text": [
      "s3://sisyphus-general-bucket/AthenaInsights/latest_data/feature_prep/stock_bars_60min_base.parquet - 60min\n",
      "Reading from s3://sisyphus-general-bucket/AthenaInsights/latest_data/feature_prep/stock_bars_60min_base.parquet\n",
      "Saving to s3://sisyphus-general-bucket/AthenaInsights/latest_data/feature_prep/stock_bars_60min_base_rsi.parquet\n"
     ]
    },
    {
     "name": "stderr",
     "output_type": "stream",
     "text": [
      "100%|██████████| 50/50 [01:43<00:00,  2.07s/it]\n"
     ]
    }
   ],
   "source": [
    "for path in tqdm(paths):\n",
    "    name = path.split('/')[-1].split('.')[0].split('_')[-2]\n",
    "    if 'diff' in path:\n",
    "        continue\n",
    "    # if 'min' in name and int(name.replace('min', '')) < 100:  # Process files for <100 min\n",
    "    print(path, '-', name)\n",
    "    if 'min' in name:\n",
    "        if int(name.replace('min', ''))<=10:\n",
    "            windows = [7, 9, 11, 14, 17, 21]\n",
    "            fields=['close', 'close_ema_2m', 'close_sma_2m']\n",
    "        elif int(name.replace('min', ''))<=30:\n",
    "            windows = [7, 9, 11, 14, 17, 21]\n",
    "            fields=['close', 'close_ema_2m', 'close_sma_2m', 'close_ema_3m', 'close_sma_3m', 'close_ema_5m', 'close_sma_5m']\n",
    "        else:\n",
    "            windows = [7, 9, 11, 14, 17, 21]\n",
    "            fields=['close', 'close_ema_5m', 'close_sma_5m', 'close_ema_10m', 'close_sma_10m', 'close_ema_20m', 'close_sma_20m', 'close_ema_50m', 'close_sma_50m']\n",
    "    elif 'D' in name:\n",
    "        if int(name.replace('D', '')) < 100:\n",
    "            windows = [5, 7, 9, 11, 14, 17, 21]\n",
    "            fields=['close', 'close_ema_5m', 'close_sma_5m', 'close_ema_10m', 'close_sma_10m', 'close_ema_20m', 'close_sma_20m', 'close_ema_50m', 'close_sma_50m']\n",
    "        else: \n",
    "            windows = [5, 7, 9, 11, 14, 17, 21]\n",
    "            fields=['close', 'close_ema_5m', 'close_sma_5m', 'close_ema_10m', 'close_sma_10m', 'close_ema_20m', 'close_sma_20m', 'close_ema_50m', 'close_sma_50m']\n",
    "    read_and_calculate_rsi(path, windows, fields)"
   ]
  },
  {
   "cell_type": "code",
   "execution_count": 9,
   "id": "fb5de38b",
   "metadata": {},
   "outputs": [
    {
     "name": "stderr",
     "output_type": "stream",
     "text": [
      "  0%|          | 0/50 [00:00<?, ?it/s]"
     ]
    },
    {
     "name": "stdout",
     "output_type": "stream",
     "text": [
      "s3://sisyphus-general-bucket/AthenaInsights/latest_data/feature_prep/stock_bars_100D_diff.parquet - 100D\n",
      "Reading from s3://sisyphus-general-bucket/AthenaInsights/latest_data/feature_prep/stock_bars_100D_diff.parquet\n",
      "Saving to s3://sisyphus-general-bucket/AthenaInsights/latest_data/feature_prep/stock_bars_100D_diff_rsi.parquet\n"
     ]
    },
    {
     "name": "stderr",
     "output_type": "stream",
     "text": [
      "  4%|▍         | 2/50 [00:01<00:25,  1.91it/s]"
     ]
    },
    {
     "name": "stdout",
     "output_type": "stream",
     "text": [
      "s3://sisyphus-general-bucket/AthenaInsights/latest_data/feature_prep/stock_bars_10D_diff.parquet - 10D\n",
      "Reading from s3://sisyphus-general-bucket/AthenaInsights/latest_data/feature_prep/stock_bars_10D_diff.parquet\n",
      "Saving to s3://sisyphus-general-bucket/AthenaInsights/latest_data/feature_prep/stock_bars_10D_diff_rsi.parquet\n"
     ]
    },
    {
     "name": "stderr",
     "output_type": "stream",
     "text": [
      "  8%|▊         | 4/50 [00:02<00:26,  1.72it/s]"
     ]
    },
    {
     "name": "stdout",
     "output_type": "stream",
     "text": [
      "s3://sisyphus-general-bucket/AthenaInsights/latest_data/feature_prep/stock_bars_10min_diff.parquet - 10min\n",
      "Reading from s3://sisyphus-general-bucket/AthenaInsights/latest_data/feature_prep/stock_bars_10min_diff.parquet\n",
      "Saving to s3://sisyphus-general-bucket/AthenaInsights/latest_data/feature_prep/stock_bars_10min_diff_rsi.parquet\n"
     ]
    },
    {
     "name": "stderr",
     "output_type": "stream",
     "text": [
      " 12%|█▏        | 6/50 [00:12<02:00,  2.74s/it]"
     ]
    },
    {
     "name": "stdout",
     "output_type": "stream",
     "text": [
      "s3://sisyphus-general-bucket/AthenaInsights/latest_data/feature_prep/stock_bars_120min_diff.parquet - 120min\n",
      "Reading from s3://sisyphus-general-bucket/AthenaInsights/latest_data/feature_prep/stock_bars_120min_diff.parquet\n",
      "Saving to s3://sisyphus-general-bucket/AthenaInsights/latest_data/feature_prep/stock_bars_120min_diff_rsi.parquet\n"
     ]
    },
    {
     "name": "stderr",
     "output_type": "stream",
     "text": [
      " 16%|█▌        | 8/50 [00:15<01:34,  2.25s/it]"
     ]
    },
    {
     "name": "stdout",
     "output_type": "stream",
     "text": [
      "s3://sisyphus-general-bucket/AthenaInsights/latest_data/feature_prep/stock_bars_150D_diff.parquet - 150D\n",
      "Reading from s3://sisyphus-general-bucket/AthenaInsights/latest_data/feature_prep/stock_bars_150D_diff.parquet\n",
      "Saving to s3://sisyphus-general-bucket/AthenaInsights/latest_data/feature_prep/stock_bars_150D_diff_rsi.parquet\n"
     ]
    },
    {
     "name": "stderr",
     "output_type": "stream",
     "text": [
      " 20%|██        | 10/50 [00:17<01:05,  1.64s/it]"
     ]
    },
    {
     "name": "stdout",
     "output_type": "stream",
     "text": [
      "s3://sisyphus-general-bucket/AthenaInsights/latest_data/feature_prep/stock_bars_15D_diff.parquet - 15D\n",
      "Reading from s3://sisyphus-general-bucket/AthenaInsights/latest_data/feature_prep/stock_bars_15D_diff.parquet\n",
      "Saving to s3://sisyphus-general-bucket/AthenaInsights/latest_data/feature_prep/stock_bars_15D_diff_rsi.parquet\n"
     ]
    },
    {
     "name": "stderr",
     "output_type": "stream",
     "text": [
      " 24%|██▍       | 12/50 [00:18<00:50,  1.33s/it]"
     ]
    },
    {
     "name": "stdout",
     "output_type": "stream",
     "text": [
      "s3://sisyphus-general-bucket/AthenaInsights/latest_data/feature_prep/stock_bars_15min_diff.parquet - 15min\n",
      "Reading from s3://sisyphus-general-bucket/AthenaInsights/latest_data/feature_prep/stock_bars_15min_diff.parquet\n",
      "Saving to s3://sisyphus-general-bucket/AthenaInsights/latest_data/feature_prep/stock_bars_15min_diff_rsi.parquet\n"
     ]
    },
    {
     "name": "stderr",
     "output_type": "stream",
     "text": [
      " 28%|██▊       | 14/50 [00:23<01:00,  1.67s/it]"
     ]
    },
    {
     "name": "stdout",
     "output_type": "stream",
     "text": [
      "s3://sisyphus-general-bucket/AthenaInsights/latest_data/feature_prep/stock_bars_180min_diff.parquet - 180min\n",
      "Reading from s3://sisyphus-general-bucket/AthenaInsights/latest_data/feature_prep/stock_bars_180min_diff.parquet\n",
      "Saving to s3://sisyphus-general-bucket/AthenaInsights/latest_data/feature_prep/stock_bars_180min_diff_rsi.parquet\n"
     ]
    },
    {
     "name": "stderr",
     "output_type": "stream",
     "text": [
      " 32%|███▏      | 16/50 [00:24<00:47,  1.41s/it]"
     ]
    },
    {
     "name": "stdout",
     "output_type": "stream",
     "text": [
      "s3://sisyphus-general-bucket/AthenaInsights/latest_data/feature_prep/stock_bars_1D_diff.parquet - 1D\n",
      "Reading from s3://sisyphus-general-bucket/AthenaInsights/latest_data/feature_prep/stock_bars_1D_diff.parquet\n",
      "Saving to s3://sisyphus-general-bucket/AthenaInsights/latest_data/feature_prep/stock_bars_1D_diff_rsi.parquet\n"
     ]
    },
    {
     "name": "stderr",
     "output_type": "stream",
     "text": [
      " 36%|███▌      | 18/50 [00:26<00:38,  1.20s/it]"
     ]
    },
    {
     "name": "stdout",
     "output_type": "stream",
     "text": [
      "s3://sisyphus-general-bucket/AthenaInsights/latest_data/feature_prep/stock_bars_1min_diff.parquet - 1min\n",
      "Reading from s3://sisyphus-general-bucket/AthenaInsights/latest_data/feature_prep/stock_bars_1min_diff.parquet\n",
      "Saving to s3://sisyphus-general-bucket/AthenaInsights/latest_data/feature_prep/stock_bars_1min_diff_rsi.parquet\n"
     ]
    },
    {
     "name": "stderr",
     "output_type": "stream",
     "text": [
      " 40%|████      | 20/50 [00:44<01:46,  3.55s/it]"
     ]
    },
    {
     "name": "stdout",
     "output_type": "stream",
     "text": [
      "s3://sisyphus-general-bucket/AthenaInsights/latest_data/feature_prep/stock_bars_200D_diff.parquet - 200D\n",
      "Reading from s3://sisyphus-general-bucket/AthenaInsights/latest_data/feature_prep/stock_bars_200D_diff.parquet\n",
      "Saving to s3://sisyphus-general-bucket/AthenaInsights/latest_data/feature_prep/stock_bars_200D_diff_rsi.parquet\n"
     ]
    },
    {
     "name": "stderr",
     "output_type": "stream",
     "text": [
      " 44%|████▍     | 22/50 [00:45<01:14,  2.66s/it]"
     ]
    },
    {
     "name": "stdout",
     "output_type": "stream",
     "text": [
      "s3://sisyphus-general-bucket/AthenaInsights/latest_data/feature_prep/stock_bars_20D_diff.parquet - 20D\n",
      "Reading from s3://sisyphus-general-bucket/AthenaInsights/latest_data/feature_prep/stock_bars_20D_diff.parquet\n",
      "Saving to s3://sisyphus-general-bucket/AthenaInsights/latest_data/feature_prep/stock_bars_20D_diff_rsi.parquet\n"
     ]
    },
    {
     "name": "stderr",
     "output_type": "stream",
     "text": [
      " 48%|████▊     | 24/50 [00:46<00:53,  2.07s/it]"
     ]
    },
    {
     "name": "stdout",
     "output_type": "stream",
     "text": [
      "s3://sisyphus-general-bucket/AthenaInsights/latest_data/feature_prep/stock_bars_20min_diff.parquet - 20min\n",
      "Reading from s3://sisyphus-general-bucket/AthenaInsights/latest_data/feature_prep/stock_bars_20min_diff.parquet\n",
      "Saving to s3://sisyphus-general-bucket/AthenaInsights/latest_data/feature_prep/stock_bars_20min_diff_rsi.parquet\n"
     ]
    },
    {
     "name": "stderr",
     "output_type": "stream",
     "text": [
      " 52%|█████▏    | 26/50 [00:52<00:56,  2.37s/it]"
     ]
    },
    {
     "name": "stdout",
     "output_type": "stream",
     "text": [
      "s3://sisyphus-general-bucket/AthenaInsights/latest_data/feature_prep/stock_bars_240min_diff.parquet - 240min\n",
      "Reading from s3://sisyphus-general-bucket/AthenaInsights/latest_data/feature_prep/stock_bars_240min_diff.parquet\n",
      "Saving to s3://sisyphus-general-bucket/AthenaInsights/latest_data/feature_prep/stock_bars_240min_diff_rsi.parquet\n"
     ]
    },
    {
     "name": "stderr",
     "output_type": "stream",
     "text": [
      " 56%|█████▌    | 28/50 [00:54<00:41,  1.89s/it]"
     ]
    },
    {
     "name": "stdout",
     "output_type": "stream",
     "text": [
      "s3://sisyphus-general-bucket/AthenaInsights/latest_data/feature_prep/stock_bars_25min_diff.parquet - 25min\n",
      "Reading from s3://sisyphus-general-bucket/AthenaInsights/latest_data/feature_prep/stock_bars_25min_diff.parquet\n",
      "Saving to s3://sisyphus-general-bucket/AthenaInsights/latest_data/feature_prep/stock_bars_25min_diff_rsi.parquet\n"
     ]
    },
    {
     "name": "stderr",
     "output_type": "stream",
     "text": [
      " 60%|██████    | 30/50 [00:57<00:35,  1.79s/it]"
     ]
    },
    {
     "name": "stdout",
     "output_type": "stream",
     "text": [
      "s3://sisyphus-general-bucket/AthenaInsights/latest_data/feature_prep/stock_bars_2D_diff.parquet - 2D\n",
      "Reading from s3://sisyphus-general-bucket/AthenaInsights/latest_data/feature_prep/stock_bars_2D_diff.parquet\n",
      "Saving to s3://sisyphus-general-bucket/AthenaInsights/latest_data/feature_prep/stock_bars_2D_diff_rsi.parquet\n"
     ]
    },
    {
     "name": "stderr",
     "output_type": "stream",
     "text": [
      " 64%|██████▍   | 32/50 [00:58<00:26,  1.46s/it]"
     ]
    },
    {
     "name": "stdout",
     "output_type": "stream",
     "text": [
      "s3://sisyphus-general-bucket/AthenaInsights/latest_data/feature_prep/stock_bars_2min_diff.parquet - 2min\n",
      "Reading from s3://sisyphus-general-bucket/AthenaInsights/latest_data/feature_prep/stock_bars_2min_diff.parquet\n",
      "Saving to s3://sisyphus-general-bucket/AthenaInsights/latest_data/feature_prep/stock_bars_2min_diff_rsi.parquet\n"
     ]
    },
    {
     "name": "stderr",
     "output_type": "stream",
     "text": [
      " 68%|██████▊   | 34/50 [01:15<00:57,  3.59s/it]"
     ]
    },
    {
     "name": "stdout",
     "output_type": "stream",
     "text": [
      "s3://sisyphus-general-bucket/AthenaInsights/latest_data/feature_prep/stock_bars_30D_diff.parquet - 30D\n",
      "Reading from s3://sisyphus-general-bucket/AthenaInsights/latest_data/feature_prep/stock_bars_30D_diff.parquet\n",
      "Saving to s3://sisyphus-general-bucket/AthenaInsights/latest_data/feature_prep/stock_bars_30D_diff_rsi.parquet\n"
     ]
    },
    {
     "name": "stderr",
     "output_type": "stream",
     "text": [
      " 72%|███████▏  | 36/50 [01:17<00:38,  2.75s/it]"
     ]
    },
    {
     "name": "stdout",
     "output_type": "stream",
     "text": [
      "s3://sisyphus-general-bucket/AthenaInsights/latest_data/feature_prep/stock_bars_30min_diff.parquet - 30min\n",
      "Reading from s3://sisyphus-general-bucket/AthenaInsights/latest_data/feature_prep/stock_bars_30min_diff.parquet\n",
      "Saving to s3://sisyphus-general-bucket/AthenaInsights/latest_data/feature_prep/stock_bars_30min_diff_rsi.parquet\n"
     ]
    },
    {
     "name": "stderr",
     "output_type": "stream",
     "text": [
      " 76%|███████▌  | 38/50 [01:20<00:28,  2.38s/it]"
     ]
    },
    {
     "name": "stdout",
     "output_type": "stream",
     "text": [
      "s3://sisyphus-general-bucket/AthenaInsights/latest_data/feature_prep/stock_bars_3D_diff.parquet - 3D\n",
      "Reading from s3://sisyphus-general-bucket/AthenaInsights/latest_data/feature_prep/stock_bars_3D_diff.parquet\n",
      "Saving to s3://sisyphus-general-bucket/AthenaInsights/latest_data/feature_prep/stock_bars_3D_diff_rsi.parquet\n"
     ]
    },
    {
     "name": "stderr",
     "output_type": "stream",
     "text": [
      " 80%|████████  | 40/50 [01:22<00:19,  1.91s/it]"
     ]
    },
    {
     "name": "stdout",
     "output_type": "stream",
     "text": [
      "s3://sisyphus-general-bucket/AthenaInsights/latest_data/feature_prep/stock_bars_3min_diff.parquet - 3min\n",
      "Reading from s3://sisyphus-general-bucket/AthenaInsights/latest_data/feature_prep/stock_bars_3min_diff.parquet\n",
      "Saving to s3://sisyphus-general-bucket/AthenaInsights/latest_data/feature_prep/stock_bars_3min_diff_rsi.parquet\n"
     ]
    },
    {
     "name": "stderr",
     "output_type": "stream",
     "text": [
      " 84%|████████▍ | 42/50 [01:31<00:21,  2.70s/it]"
     ]
    },
    {
     "name": "stdout",
     "output_type": "stream",
     "text": [
      "s3://sisyphus-general-bucket/AthenaInsights/latest_data/feature_prep/stock_bars_50D_diff.parquet - 50D\n",
      "Reading from s3://sisyphus-general-bucket/AthenaInsights/latest_data/feature_prep/stock_bars_50D_diff.parquet\n",
      "Saving to s3://sisyphus-general-bucket/AthenaInsights/latest_data/feature_prep/stock_bars_50D_diff_rsi.parquet\n"
     ]
    },
    {
     "name": "stderr",
     "output_type": "stream",
     "text": [
      " 88%|████████▊ | 44/50 [01:32<00:12,  2.12s/it]"
     ]
    },
    {
     "name": "stdout",
     "output_type": "stream",
     "text": [
      "s3://sisyphus-general-bucket/AthenaInsights/latest_data/feature_prep/stock_bars_5D_diff.parquet - 5D\n",
      "Reading from s3://sisyphus-general-bucket/AthenaInsights/latest_data/feature_prep/stock_bars_5D_diff.parquet\n",
      "Saving to s3://sisyphus-general-bucket/AthenaInsights/latest_data/feature_prep/stock_bars_5D_diff_rsi.parquet\n"
     ]
    },
    {
     "name": "stderr",
     "output_type": "stream",
     "text": [
      " 92%|█████████▏| 46/50 [01:34<00:07,  1.77s/it]"
     ]
    },
    {
     "name": "stdout",
     "output_type": "stream",
     "text": [
      "s3://sisyphus-general-bucket/AthenaInsights/latest_data/feature_prep/stock_bars_5min_diff.parquet - 5min\n",
      "Reading from s3://sisyphus-general-bucket/AthenaInsights/latest_data/feature_prep/stock_bars_5min_diff.parquet\n",
      "Saving to s3://sisyphus-general-bucket/AthenaInsights/latest_data/feature_prep/stock_bars_5min_diff_rsi.parquet\n"
     ]
    },
    {
     "name": "stderr",
     "output_type": "stream",
     "text": [
      " 96%|█████████▌| 48/50 [01:41<00:04,  2.19s/it]"
     ]
    },
    {
     "name": "stdout",
     "output_type": "stream",
     "text": [
      "s3://sisyphus-general-bucket/AthenaInsights/latest_data/feature_prep/stock_bars_60min_diff.parquet - 60min\n",
      "Reading from s3://sisyphus-general-bucket/AthenaInsights/latest_data/feature_prep/stock_bars_60min_diff.parquet\n",
      "Saving to s3://sisyphus-general-bucket/AthenaInsights/latest_data/feature_prep/stock_bars_60min_diff_rsi.parquet\n"
     ]
    },
    {
     "name": "stderr",
     "output_type": "stream",
     "text": [
      "100%|██████████| 50/50 [01:43<00:00,  2.07s/it]\n"
     ]
    }
   ],
   "source": [
    "for path in tqdm(paths):\n",
    "    name = path.split('/')[-1].split('.')[0].split('_')[-2]\n",
    "    if 'base' in path:\n",
    "        continue\n",
    "    # if 'min' in name and int(name.replace('min', '')) < 100:  # Process files for <100 min\n",
    "    print(path, '-', name)\n",
    "    if 'min' in name:\n",
    "        if int(name.replace('min', ''))<=10:\n",
    "            windows = [7, 9, 11, 14, 17, 21]\n",
    "            fields=['close', 'close_ema_2m', 'close_sma_2m']\n",
    "        elif int(name.replace('min', ''))<=30:\n",
    "            windows = [7, 9, 11, 14, 17, 21]\n",
    "            fields=['close', 'close_ema_2m', 'close_sma_2m', 'close_ema_3m', 'close_sma_3m', 'close_ema_5m', 'close_sma_5m']\n",
    "        else:\n",
    "            windows = [7, 9, 11, 14, 17, 21]\n",
    "            fields=['close', 'close_ema_5m', 'close_sma_5m', 'close_ema_10m', 'close_sma_10m', 'close_ema_20m', 'close_sma_20m', 'close_ema_50m', 'close_sma_50m']\n",
    "    elif 'D' in name:\n",
    "        if int(name.replace('D', '')) < 100:\n",
    "            windows = [5, 7, 9, 11, 14, 17, 21]\n",
    "            fields=['close', 'close_ema_5m', 'close_sma_5m', 'close_ema_10m', 'close_sma_10m', 'close_ema_20m', 'close_sma_20m', 'close_ema_50m', 'close_sma_50m']\n",
    "        else: \n",
    "            windows = [5, 7, 9, 11, 14, 17, 21]\n",
    "            fields=['close', 'close_ema_5m', 'close_sma_5m', 'close_ema_10m', 'close_sma_10m', 'close_ema_20m', 'close_sma_20m', 'close_ema_50m', 'close_sma_50m']\n",
    "    fields = [f.replace('close', 'close_diff') for f in fields]\n",
    "    read_and_calculate_rsi(path, windows, fields)"
   ]
  }
 ],
 "metadata": {
  "kernelspec": {
   "display_name": "fools_gold",
   "language": "python",
   "name": "python3"
  },
  "language_info": {
   "codemirror_mode": {
    "name": "ipython",
    "version": 3
   },
   "file_extension": ".py",
   "mimetype": "text/x-python",
   "name": "python",
   "nbconvert_exporter": "python",
   "pygments_lexer": "ipython3",
   "version": "3.9.19"
  }
 },
 "nbformat": 4,
 "nbformat_minor": 5
}
