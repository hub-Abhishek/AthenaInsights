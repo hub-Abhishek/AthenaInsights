{
 "cells": [
  {
   "cell_type": "code",
   "execution_count": 1,
   "id": "19f3fe5f-36b7-4f43-a951-fb54f9561e46",
   "metadata": {
    "tags": []
   },
   "outputs": [],
   "source": [
    "import pandas as pd\n",
    "import numpy as np\n",
    "import warnings\n",
    "import boto3\n",
    "import re\n",
    "from tqdm import tqdm\n",
    "warnings.filterwarnings(\"ignore\")"
   ]
  },
  {
   "cell_type": "markdown",
   "id": "cd98afab-7851-4b25-8b1f-cc90c8d9aabc",
   "metadata": {},
   "source": [
    "### data"
   ]
  },
  {
   "cell_type": "code",
   "execution_count": 2,
   "id": "cd5d93d7-3f09-4e56-a507-6593b48b648d",
   "metadata": {
    "tags": []
   },
   "outputs": [],
   "source": [
    "client = boto3.client('s3')"
   ]
  },
  {
   "cell_type": "code",
   "execution_count": 3,
   "id": "c642adbb-e807-41a0-82a6-8e292f932a4a",
   "metadata": {
    "tags": []
   },
   "outputs": [],
   "source": [
    "s3_prefix = 's3://'\n",
    "bucket = 'sisyphus-general-bucket'\n",
    "primary_folder = 'AthenaInsights'"
   ]
  },
  {
   "cell_type": "code",
   "execution_count": 4,
   "id": "66e986e9-7758-43d2-8463-9f825e6bce8c",
   "metadata": {
    "tags": []
   },
   "outputs": [],
   "source": [
    "response = client.list_objects_v2(\n",
    "    Bucket=bucket,\n",
    "    Prefix=f'{primary_folder}/data/feature_prep/')"
   ]
  },
  {
   "cell_type": "code",
   "execution_count": 5,
   "id": "44774a9b-c2d0-4281-afbc-db3637832641",
   "metadata": {
    "tags": []
   },
   "outputs": [],
   "source": [
    "paths = []\n",
    "for content in response.get('Contents', []):\n",
    "    # print(f\"{s3_prefix}{bucket}/{content['Key']}\")\n",
    "    paths.append(f\"{s3_prefix}{bucket}/{content['Key']}\")"
   ]
  },
  {
   "cell_type": "code",
   "execution_count": 6,
   "id": "749428bf-b50a-43f7-9f92-e93c3da26c0e",
   "metadata": {
    "tags": []
   },
   "outputs": [
    {
     "data": {
      "text/plain": [
       "['s3://sisyphus-general-bucket/AthenaInsights/data/feature_prep/stock_bars_100D.parquet',\n",
       " 's3://sisyphus-general-bucket/AthenaInsights/data/feature_prep/stock_bars_100D_macd.parquet',\n",
       " 's3://sisyphus-general-bucket/AthenaInsights/data/feature_prep/stock_bars_100D_rsi.parquet',\n",
       " 's3://sisyphus-general-bucket/AthenaInsights/data/feature_prep/stock_bars_10D.parquet',\n",
       " 's3://sisyphus-general-bucket/AthenaInsights/data/feature_prep/stock_bars_10D_macd.parquet',\n",
       " 's3://sisyphus-general-bucket/AthenaInsights/data/feature_prep/stock_bars_10D_rsi.parquet',\n",
       " 's3://sisyphus-general-bucket/AthenaInsights/data/feature_prep/stock_bars_10min.parquet',\n",
       " 's3://sisyphus-general-bucket/AthenaInsights/data/feature_prep/stock_bars_10min_macd.parquet',\n",
       " 's3://sisyphus-general-bucket/AthenaInsights/data/feature_prep/stock_bars_10min_rsi.parquet',\n",
       " 's3://sisyphus-general-bucket/AthenaInsights/data/feature_prep/stock_bars_120min.parquet',\n",
       " 's3://sisyphus-general-bucket/AthenaInsights/data/feature_prep/stock_bars_120min_macd.parquet',\n",
       " 's3://sisyphus-general-bucket/AthenaInsights/data/feature_prep/stock_bars_120min_rsi.parquet',\n",
       " 's3://sisyphus-general-bucket/AthenaInsights/data/feature_prep/stock_bars_150D.parquet',\n",
       " 's3://sisyphus-general-bucket/AthenaInsights/data/feature_prep/stock_bars_150D_macd.parquet',\n",
       " 's3://sisyphus-general-bucket/AthenaInsights/data/feature_prep/stock_bars_150D_rsi.parquet',\n",
       " 's3://sisyphus-general-bucket/AthenaInsights/data/feature_prep/stock_bars_15D.parquet',\n",
       " 's3://sisyphus-general-bucket/AthenaInsights/data/feature_prep/stock_bars_15D_macd.parquet',\n",
       " 's3://sisyphus-general-bucket/AthenaInsights/data/feature_prep/stock_bars_15D_rsi.parquet',\n",
       " 's3://sisyphus-general-bucket/AthenaInsights/data/feature_prep/stock_bars_15min.parquet',\n",
       " 's3://sisyphus-general-bucket/AthenaInsights/data/feature_prep/stock_bars_15min_macd.parquet',\n",
       " 's3://sisyphus-general-bucket/AthenaInsights/data/feature_prep/stock_bars_15min_rsi.parquet',\n",
       " 's3://sisyphus-general-bucket/AthenaInsights/data/feature_prep/stock_bars_180min.parquet',\n",
       " 's3://sisyphus-general-bucket/AthenaInsights/data/feature_prep/stock_bars_180min_macd.parquet',\n",
       " 's3://sisyphus-general-bucket/AthenaInsights/data/feature_prep/stock_bars_180min_rsi.parquet',\n",
       " 's3://sisyphus-general-bucket/AthenaInsights/data/feature_prep/stock_bars_1D.parquet',\n",
       " 's3://sisyphus-general-bucket/AthenaInsights/data/feature_prep/stock_bars_1D_macd.parquet',\n",
       " 's3://sisyphus-general-bucket/AthenaInsights/data/feature_prep/stock_bars_1D_rsi.parquet',\n",
       " 's3://sisyphus-general-bucket/AthenaInsights/data/feature_prep/stock_bars_1min.parquet',\n",
       " 's3://sisyphus-general-bucket/AthenaInsights/data/feature_prep/stock_bars_1min_macd.parquet',\n",
       " 's3://sisyphus-general-bucket/AthenaInsights/data/feature_prep/stock_bars_1min_rsi.parquet',\n",
       " 's3://sisyphus-general-bucket/AthenaInsights/data/feature_prep/stock_bars_200D.parquet',\n",
       " 's3://sisyphus-general-bucket/AthenaInsights/data/feature_prep/stock_bars_200D_macd.parquet',\n",
       " 's3://sisyphus-general-bucket/AthenaInsights/data/feature_prep/stock_bars_200D_rsi.parquet',\n",
       " 's3://sisyphus-general-bucket/AthenaInsights/data/feature_prep/stock_bars_20D.parquet',\n",
       " 's3://sisyphus-general-bucket/AthenaInsights/data/feature_prep/stock_bars_20D_macd.parquet',\n",
       " 's3://sisyphus-general-bucket/AthenaInsights/data/feature_prep/stock_bars_20D_rsi.parquet',\n",
       " 's3://sisyphus-general-bucket/AthenaInsights/data/feature_prep/stock_bars_20min.parquet',\n",
       " 's3://sisyphus-general-bucket/AthenaInsights/data/feature_prep/stock_bars_20min_macd.parquet',\n",
       " 's3://sisyphus-general-bucket/AthenaInsights/data/feature_prep/stock_bars_20min_rsi.parquet',\n",
       " 's3://sisyphus-general-bucket/AthenaInsights/data/feature_prep/stock_bars_240min.parquet',\n",
       " 's3://sisyphus-general-bucket/AthenaInsights/data/feature_prep/stock_bars_240min_macd.parquet',\n",
       " 's3://sisyphus-general-bucket/AthenaInsights/data/feature_prep/stock_bars_240min_rsi.parquet',\n",
       " 's3://sisyphus-general-bucket/AthenaInsights/data/feature_prep/stock_bars_25min.parquet',\n",
       " 's3://sisyphus-general-bucket/AthenaInsights/data/feature_prep/stock_bars_25min_macd.parquet',\n",
       " 's3://sisyphus-general-bucket/AthenaInsights/data/feature_prep/stock_bars_25min_rsi.parquet',\n",
       " 's3://sisyphus-general-bucket/AthenaInsights/data/feature_prep/stock_bars_2D.parquet',\n",
       " 's3://sisyphus-general-bucket/AthenaInsights/data/feature_prep/stock_bars_2D_macd.parquet',\n",
       " 's3://sisyphus-general-bucket/AthenaInsights/data/feature_prep/stock_bars_2D_rsi.parquet',\n",
       " 's3://sisyphus-general-bucket/AthenaInsights/data/feature_prep/stock_bars_2min.parquet',\n",
       " 's3://sisyphus-general-bucket/AthenaInsights/data/feature_prep/stock_bars_2min_macd.parquet',\n",
       " 's3://sisyphus-general-bucket/AthenaInsights/data/feature_prep/stock_bars_2min_rsi.parquet',\n",
       " 's3://sisyphus-general-bucket/AthenaInsights/data/feature_prep/stock_bars_30D.parquet',\n",
       " 's3://sisyphus-general-bucket/AthenaInsights/data/feature_prep/stock_bars_30D_macd.parquet',\n",
       " 's3://sisyphus-general-bucket/AthenaInsights/data/feature_prep/stock_bars_30D_rsi.parquet',\n",
       " 's3://sisyphus-general-bucket/AthenaInsights/data/feature_prep/stock_bars_30min.parquet',\n",
       " 's3://sisyphus-general-bucket/AthenaInsights/data/feature_prep/stock_bars_30min_macd.parquet',\n",
       " 's3://sisyphus-general-bucket/AthenaInsights/data/feature_prep/stock_bars_30min_rsi.parquet',\n",
       " 's3://sisyphus-general-bucket/AthenaInsights/data/feature_prep/stock_bars_3D.parquet',\n",
       " 's3://sisyphus-general-bucket/AthenaInsights/data/feature_prep/stock_bars_3D_macd.parquet',\n",
       " 's3://sisyphus-general-bucket/AthenaInsights/data/feature_prep/stock_bars_3D_rsi.parquet',\n",
       " 's3://sisyphus-general-bucket/AthenaInsights/data/feature_prep/stock_bars_3min.parquet',\n",
       " 's3://sisyphus-general-bucket/AthenaInsights/data/feature_prep/stock_bars_3min_macd.parquet',\n",
       " 's3://sisyphus-general-bucket/AthenaInsights/data/feature_prep/stock_bars_3min_rsi.parquet',\n",
       " 's3://sisyphus-general-bucket/AthenaInsights/data/feature_prep/stock_bars_50D.parquet',\n",
       " 's3://sisyphus-general-bucket/AthenaInsights/data/feature_prep/stock_bars_50D_macd.parquet',\n",
       " 's3://sisyphus-general-bucket/AthenaInsights/data/feature_prep/stock_bars_50D_rsi.parquet',\n",
       " 's3://sisyphus-general-bucket/AthenaInsights/data/feature_prep/stock_bars_5D.parquet',\n",
       " 's3://sisyphus-general-bucket/AthenaInsights/data/feature_prep/stock_bars_5D_macd.parquet',\n",
       " 's3://sisyphus-general-bucket/AthenaInsights/data/feature_prep/stock_bars_5D_rsi.parquet',\n",
       " 's3://sisyphus-general-bucket/AthenaInsights/data/feature_prep/stock_bars_5min.parquet',\n",
       " 's3://sisyphus-general-bucket/AthenaInsights/data/feature_prep/stock_bars_5min_macd.parquet',\n",
       " 's3://sisyphus-general-bucket/AthenaInsights/data/feature_prep/stock_bars_5min_rsi.parquet',\n",
       " 's3://sisyphus-general-bucket/AthenaInsights/data/feature_prep/stock_bars_60min.parquet',\n",
       " 's3://sisyphus-general-bucket/AthenaInsights/data/feature_prep/stock_bars_60min_macd.parquet',\n",
       " 's3://sisyphus-general-bucket/AthenaInsights/data/feature_prep/stock_bars_60min_rsi.parquet']"
      ]
     },
     "execution_count": 6,
     "metadata": {},
     "output_type": "execute_result"
    }
   ],
   "source": [
    "paths"
   ]
  },
  {
   "cell_type": "markdown",
   "id": "595a1c8a-4aeb-4b27-b49a-c51cde18451d",
   "metadata": {},
   "source": [
    "### data treatments"
   ]
  },
  {
   "cell_type": "code",
   "execution_count": 7,
   "id": "a5edb1cc-11f0-4b05-a7a6-b7d74c0a9512",
   "metadata": {
    "tags": []
   },
   "outputs": [
    {
     "data": {
      "text/plain": [
       "['s3://sisyphus-general-bucket/AthenaInsights/data/feature_prep/stock_bars_1min.parquet']"
      ]
     },
     "execution_count": 7,
     "metadata": {},
     "output_type": "execute_result"
    }
   ],
   "source": [
    "[x for x in paths if '_1min.par' in x]"
   ]
  },
  {
   "cell_type": "code",
   "execution_count": null,
   "id": "a63fea55-7daf-48bf-a8e7-0a6058a742a4",
   "metadata": {
    "tags": []
   },
   "outputs": [],
   "source": [
    "df = pd.read_parquet('s3://sisyphus-general-bucket/AthenaInsights/data/feature_prep/stock_bars_1min.parquet')"
   ]
  },
  {
   "cell_type": "code",
   "execution_count": null,
   "id": "09ba6295-30fe-4fd5-8662-051a0c017416",
   "metadata": {},
   "outputs": [],
   "source": []
  },
  {
   "cell_type": "code",
   "execution_count": null,
   "id": "cb0cde6e-7623-486c-8144-bba6ab931469",
   "metadata": {},
   "outputs": [],
   "source": []
  },
  {
   "cell_type": "code",
   "execution_count": null,
   "id": "17781136-44d9-490c-8748-1773f58bfb4c",
   "metadata": {},
   "outputs": [],
   "source": []
  },
  {
   "cell_type": "code",
   "execution_count": null,
   "id": "6126fb0f-3028-4e4e-82f6-01e1e5264b99",
   "metadata": {},
   "outputs": [],
   "source": []
  },
  {
   "cell_type": "code",
   "execution_count": null,
   "id": "123a8650-40a2-48de-9d3d-9a72e2a10014",
   "metadata": {},
   "outputs": [],
   "source": []
  }
 ],
 "metadata": {
  "kernelspec": {
   "display_name": "conda_fools_gold",
   "language": "python",
   "name": "conda_fools_gold"
  },
  "language_info": {
   "codemirror_mode": {
    "name": "ipython",
    "version": 3
   },
   "file_extension": ".py",
   "mimetype": "text/x-python",
   "name": "python",
   "nbconvert_exporter": "python",
   "pygments_lexer": "ipython3",
   "version": "3.9.19"
  }
 },
 "nbformat": 4,
 "nbformat_minor": 5
}
