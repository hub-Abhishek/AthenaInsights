{
 "cells": [
  {
   "cell_type": "code",
   "execution_count": 1,
   "metadata": {
    "tags": []
   },
   "outputs": [],
   "source": [
    "import boto3\n",
    "import pandas as pd\n",
    "import numpy as np\n",
    "import warnings\n",
    "from tqdm import tqdm\n",
    "warnings.filterwarnings(\"ignore\")"
   ]
  },
  {
   "cell_type": "markdown",
   "metadata": {},
   "source": [
    "### data"
   ]
  },
  {
   "cell_type": "code",
   "execution_count": 2,
   "metadata": {
    "tags": []
   },
   "outputs": [],
   "source": [
    "client = boto3.client('s3')"
   ]
  },
  {
   "cell_type": "code",
   "execution_count": 3,
   "metadata": {
    "tags": []
   },
   "outputs": [],
   "source": [
    "s3_prefix = 's3://'\n",
    "bucket = 'sisyphus-general-bucket'\n",
    "primary_folder = 'AthenaInsights'\n",
    "data_folder = 'latest_data'"
   ]
  },
  {
   "cell_type": "code",
   "execution_count": 4,
   "metadata": {
    "tags": []
   },
   "outputs": [],
   "source": [
    "response = client.list_objects_v2(\n",
    "    Bucket=bucket,\n",
    "    Prefix=f'{primary_folder}/{data_folder}/reduced_autocorelation/')"
   ]
  },
  {
   "cell_type": "code",
   "execution_count": 5,
   "metadata": {
    "tags": []
   },
   "outputs": [],
   "source": [
    "files = []\n",
    "all_symbols = set()"
   ]
  },
  {
   "cell_type": "code",
   "execution_count": 6,
   "metadata": {
    "tags": []
   },
   "outputs": [],
   "source": [
    "paths = []\n",
    "for content in response.get('Contents', []):\n",
    "    # print(f\"{s3_prefix}{bucket}/{content['Key']}\")\n",
    "    paths.append(f\"{s3_prefix}{bucket}/{content['Key']}\")"
   ]
  },
  {
   "cell_type": "code",
   "execution_count": 7,
   "metadata": {
    "tags": []
   },
   "outputs": [],
   "source": [
    "def calculate_ma(df, ema=True, sma=True, calc_windows=[], prices=[]):\n",
    "    # Function to apply moving averages\n",
    "    def apply_moving_averages(group):\n",
    "        for window in tqdm(calc_windows):\n",
    "            for price in prices:\n",
    "                if ema:\n",
    "                    group[f'{price}_ema_{window}m'] = group[price].ewm(span=window, adjust=False).mean()\n",
    "                if sma:\n",
    "                    group[f'{price}_sma_{window}m'] = group[price].rolling(window=window).mean()\n",
    "        return group\n",
    "\n",
    "    # Apply function by group\n",
    "    return df.groupby('symbol').apply(apply_moving_averages)"
   ]
  },
  {
   "cell_type": "code",
   "execution_count": 8,
   "metadata": {},
   "outputs": [],
   "source": [
    "col_sets = [['open', 'high', 'low', 'close', 'volume', 'symbol', 'time_delta'], \n",
    "            ['open_diff', 'high_diff', 'low_diff', 'close_diff', 'volume_diff', 'symbol', 'time_delta']]"
   ]
  },
  {
   "cell_type": "code",
   "execution_count": 9,
   "metadata": {
    "tags": []
   },
   "outputs": [
    {
     "name": "stdout",
     "output_type": "stream",
     "text": [
      "s3://sisyphus-general-bucket/AthenaInsights/latest_data/reduced_autocorelation/stock_bars_100D.parquet\n"
     ]
    },
    {
     "name": "stderr",
     "output_type": "stream",
     "text": [
      "100%|██████████| 7/7 [00:00<00:00, 198.55it/s]\n",
      "100%|██████████| 7/7 [00:00<00:00, 423.02it/s]\n",
      "100%|██████████| 7/7 [00:00<00:00, 229.10it/s]\n",
      "100%|██████████| 7/7 [00:00<00:00, 373.17it/s]\n",
      "100%|██████████| 7/7 [00:00<00:00, 212.16it/s]\n"
     ]
    },
    {
     "name": "stdout",
     "output_type": "stream",
     "text": [
      "written to s3://sisyphus-general-bucket/AthenaInsights/latest_data/feature_prep/stock_bars_100D_base.parquet\n"
     ]
    },
    {
     "name": "stderr",
     "output_type": "stream",
     "text": [
      "100%|██████████| 7/7 [00:00<00:00, 387.02it/s]\n",
      "100%|██████████| 7/7 [00:00<00:00, 215.41it/s]\n",
      "100%|██████████| 7/7 [00:00<00:00, 253.48it/s]\n",
      "100%|██████████| 7/7 [00:00<00:00, 386.61it/s]\n",
      "100%|██████████| 7/7 [00:00<00:00, 407.89it/s]\n"
     ]
    },
    {
     "name": "stdout",
     "output_type": "stream",
     "text": [
      "written to s3://sisyphus-general-bucket/AthenaInsights/latest_data/feature_prep/stock_bars_100D_diff.parquet\n",
      "s3://sisyphus-general-bucket/AthenaInsights/latest_data/reduced_autocorelation/stock_bars_10D.parquet\n"
     ]
    },
    {
     "name": "stderr",
     "output_type": "stream",
     "text": [
      "100%|██████████| 12/12 [00:00<00:00, 231.26it/s]\n",
      "100%|██████████| 12/12 [00:00<00:00, 391.87it/s]\n",
      "100%|██████████| 12/12 [00:00<00:00, 256.31it/s]\n",
      "100%|██████████| 12/12 [00:00<00:00, 363.42it/s]\n",
      "100%|██████████| 12/12 [00:00<00:00, 370.78it/s]\n"
     ]
    },
    {
     "name": "stdout",
     "output_type": "stream",
     "text": [
      "written to s3://sisyphus-general-bucket/AthenaInsights/latest_data/feature_prep/stock_bars_10D_base.parquet\n"
     ]
    },
    {
     "name": "stderr",
     "output_type": "stream",
     "text": [
      "100%|██████████| 12/12 [00:00<00:00, 206.34it/s]\n",
      "100%|██████████| 12/12 [00:00<00:00, 217.70it/s]\n",
      "100%|██████████| 12/12 [00:00<00:00, 414.39it/s]\n",
      "100%|██████████| 12/12 [00:00<00:00, 251.68it/s]\n",
      "100%|██████████| 12/12 [00:00<00:00, 345.21it/s]\n"
     ]
    },
    {
     "name": "stdout",
     "output_type": "stream",
     "text": [
      "written to s3://sisyphus-general-bucket/AthenaInsights/latest_data/feature_prep/stock_bars_10D_diff.parquet\n",
      "s3://sisyphus-general-bucket/AthenaInsights/latest_data/reduced_autocorelation/stock_bars_10min.parquet\n"
     ]
    },
    {
     "name": "stderr",
     "output_type": "stream",
     "text": [
      "100%|██████████| 8/8 [00:00<00:00, 110.46it/s]\n",
      "100%|██████████| 8/8 [00:00<00:00, 103.50it/s]\n",
      "100%|██████████| 8/8 [00:00<00:00, 109.63it/s]\n",
      "100%|██████████| 8/8 [00:00<00:00, 109.14it/s]\n",
      "100%|██████████| 8/8 [00:00<00:00, 93.84it/s]\n"
     ]
    },
    {
     "name": "stdout",
     "output_type": "stream",
     "text": [
      "written to s3://sisyphus-general-bucket/AthenaInsights/latest_data/feature_prep/stock_bars_10min_base.parquet\n"
     ]
    },
    {
     "name": "stderr",
     "output_type": "stream",
     "text": [
      "100%|██████████| 8/8 [00:00<00:00, 109.73it/s]\n",
      "100%|██████████| 8/8 [00:00<00:00, 109.65it/s]\n",
      "100%|██████████| 8/8 [00:00<00:00, 102.63it/s]\n",
      "100%|██████████| 8/8 [00:00<00:00, 85.97it/s]\n",
      "100%|██████████| 8/8 [00:00<00:00, 102.16it/s]\n"
     ]
    },
    {
     "name": "stdout",
     "output_type": "stream",
     "text": [
      "written to s3://sisyphus-general-bucket/AthenaInsights/latest_data/feature_prep/stock_bars_10min_diff.parquet\n",
      "s3://sisyphus-general-bucket/AthenaInsights/latest_data/reduced_autocorelation/stock_bars_120min.parquet\n"
     ]
    },
    {
     "name": "stderr",
     "output_type": "stream",
     "text": [
      "100%|██████████| 9/9 [00:00<00:00, 274.06it/s]\n",
      "100%|██████████| 9/9 [00:00<00:00, 289.38it/s]\n",
      "100%|██████████| 9/9 [00:00<00:00, 281.29it/s]\n",
      "100%|██████████| 9/9 [00:00<00:00, 265.14it/s]\n",
      "100%|██████████| 9/9 [00:00<00:00, 285.77it/s]\n"
     ]
    },
    {
     "name": "stdout",
     "output_type": "stream",
     "text": [
      "written to s3://sisyphus-general-bucket/AthenaInsights/latest_data/feature_prep/stock_bars_120min_base.parquet\n"
     ]
    },
    {
     "name": "stderr",
     "output_type": "stream",
     "text": [
      "100%|██████████| 9/9 [00:00<00:00, 191.92it/s]\n",
      "100%|██████████| 9/9 [00:00<00:00, 271.62it/s]\n",
      "100%|██████████| 9/9 [00:00<00:00, 254.84it/s]\n",
      "100%|██████████| 9/9 [00:00<00:00, 209.53it/s]\n",
      "100%|██████████| 9/9 [00:00<00:00, 265.08it/s]\n"
     ]
    },
    {
     "name": "stdout",
     "output_type": "stream",
     "text": [
      "written to s3://sisyphus-general-bucket/AthenaInsights/latest_data/feature_prep/stock_bars_120min_diff.parquet\n",
      "s3://sisyphus-general-bucket/AthenaInsights/latest_data/reduced_autocorelation/stock_bars_150D.parquet\n"
     ]
    },
    {
     "name": "stderr",
     "output_type": "stream",
     "text": [
      "100%|██████████| 7/7 [00:00<00:00, 334.22it/s]\n",
      "100%|██████████| 7/7 [00:00<00:00, 312.40it/s]\n",
      "100%|██████████| 7/7 [00:00<00:00, 319.04it/s]\n",
      "100%|██████████| 7/7 [00:00<00:00, 334.22it/s]\n",
      "100%|██████████| 7/7 [00:00<00:00, 324.58it/s]\n"
     ]
    },
    {
     "name": "stdout",
     "output_type": "stream",
     "text": [
      "written to s3://sisyphus-general-bucket/AthenaInsights/latest_data/feature_prep/stock_bars_150D_base.parquet\n"
     ]
    },
    {
     "name": "stderr",
     "output_type": "stream",
     "text": [
      "100%|██████████| 7/7 [00:00<00:00, 317.98it/s]\n",
      "100%|██████████| 7/7 [00:00<00:00, 305.77it/s]\n",
      "100%|██████████| 7/7 [00:00<00:00, 317.72it/s]\n",
      "100%|██████████| 7/7 [00:00<00:00, 305.95it/s]\n",
      "100%|██████████| 7/7 [00:00<00:00, 308.09it/s]\n"
     ]
    },
    {
     "name": "stdout",
     "output_type": "stream",
     "text": [
      "written to s3://sisyphus-general-bucket/AthenaInsights/latest_data/feature_prep/stock_bars_150D_diff.parquet\n",
      "s3://sisyphus-general-bucket/AthenaInsights/latest_data/reduced_autocorelation/stock_bars_15D.parquet\n"
     ]
    },
    {
     "name": "stderr",
     "output_type": "stream",
     "text": [
      "100%|██████████| 12/12 [00:00<00:00, 231.92it/s]\n",
      "100%|██████████| 12/12 [00:00<00:00, 389.01it/s]\n",
      "100%|██████████| 12/12 [00:00<00:00, 374.72it/s]\n",
      "100%|██████████| 12/12 [00:00<00:00, 244.89it/s]\n",
      "100%|██████████| 12/12 [00:00<00:00, 330.18it/s]\n"
     ]
    },
    {
     "name": "stdout",
     "output_type": "stream",
     "text": [
      "written to s3://sisyphus-general-bucket/AthenaInsights/latest_data/feature_prep/stock_bars_15D_base.parquet\n"
     ]
    },
    {
     "name": "stderr",
     "output_type": "stream",
     "text": [
      "100%|██████████| 12/12 [00:00<00:00, 301.06it/s]\n",
      "100%|██████████| 12/12 [00:00<00:00, 303.69it/s]\n",
      "100%|██████████| 12/12 [00:00<00:00, 330.35it/s]\n",
      "100%|██████████| 12/12 [00:00<00:00, 330.84it/s]\n",
      "100%|██████████| 12/12 [00:00<00:00, 324.83it/s]\n"
     ]
    },
    {
     "name": "stdout",
     "output_type": "stream",
     "text": [
      "written to s3://sisyphus-general-bucket/AthenaInsights/latest_data/feature_prep/stock_bars_15D_diff.parquet\n",
      "s3://sisyphus-general-bucket/AthenaInsights/latest_data/reduced_autocorelation/stock_bars_15min.parquet\n"
     ]
    },
    {
     "name": "stderr",
     "output_type": "stream",
     "text": [
      "100%|██████████| 8/8 [00:00<00:00, 135.20it/s]\n",
      "100%|██████████| 8/8 [00:00<00:00, 136.38it/s]\n",
      "100%|██████████| 8/8 [00:00<00:00, 165.55it/s]\n",
      "100%|██████████| 8/8 [00:00<00:00, 106.82it/s]\n",
      "100%|██████████| 8/8 [00:00<00:00, 142.00it/s]\n"
     ]
    },
    {
     "name": "stdout",
     "output_type": "stream",
     "text": [
      "written to s3://sisyphus-general-bucket/AthenaInsights/latest_data/feature_prep/stock_bars_15min_base.parquet\n"
     ]
    },
    {
     "name": "stderr",
     "output_type": "stream",
     "text": [
      "100%|██████████| 8/8 [00:00<00:00, 115.83it/s]\n",
      "100%|██████████| 8/8 [00:00<00:00, 120.59it/s]\n",
      "100%|██████████| 8/8 [00:00<00:00, 126.33it/s]\n",
      "100%|██████████| 8/8 [00:00<00:00, 118.91it/s]\n",
      "100%|██████████| 8/8 [00:00<00:00, 161.93it/s]\n"
     ]
    },
    {
     "name": "stdout",
     "output_type": "stream",
     "text": [
      "written to s3://sisyphus-general-bucket/AthenaInsights/latest_data/feature_prep/stock_bars_15min_diff.parquet\n",
      "s3://sisyphus-general-bucket/AthenaInsights/latest_data/reduced_autocorelation/stock_bars_180min.parquet\n"
     ]
    },
    {
     "name": "stderr",
     "output_type": "stream",
     "text": [
      "100%|██████████| 9/9 [00:00<00:00, 344.59it/s]\n",
      "100%|██████████| 9/9 [00:00<00:00, 296.80it/s]\n",
      "100%|██████████| 9/9 [00:00<00:00, 267.57it/s]\n",
      "100%|██████████| 9/9 [00:00<00:00, 262.72it/s]\n",
      "100%|██████████| 9/9 [00:00<00:00, 266.25it/s]\n"
     ]
    },
    {
     "name": "stdout",
     "output_type": "stream",
     "text": [
      "written to s3://sisyphus-general-bucket/AthenaInsights/latest_data/feature_prep/stock_bars_180min_base.parquet\n"
     ]
    },
    {
     "name": "stderr",
     "output_type": "stream",
     "text": [
      "100%|██████████| 9/9 [00:00<00:00, 302.29it/s]\n",
      "100%|██████████| 9/9 [00:00<00:00, 210.71it/s]\n",
      "100%|██████████| 9/9 [00:00<00:00, 296.25it/s]\n",
      "100%|██████████| 9/9 [00:00<00:00, 278.52it/s]\n",
      "100%|██████████| 9/9 [00:00<00:00, 357.69it/s]\n"
     ]
    },
    {
     "name": "stdout",
     "output_type": "stream",
     "text": [
      "written to s3://sisyphus-general-bucket/AthenaInsights/latest_data/feature_prep/stock_bars_180min_diff.parquet\n",
      "s3://sisyphus-general-bucket/AthenaInsights/latest_data/reduced_autocorelation/stock_bars_1D.parquet\n"
     ]
    },
    {
     "name": "stderr",
     "output_type": "stream",
     "text": [
      "100%|██████████| 12/12 [00:00<00:00, 318.72it/s]\n",
      "100%|██████████| 12/12 [00:00<00:00, 323.86it/s]\n",
      "100%|██████████| 12/12 [00:00<00:00, 350.52it/s]\n",
      "100%|██████████| 12/12 [00:00<00:00, 263.68it/s]\n",
      "100%|██████████| 12/12 [00:00<00:00, 330.82it/s]\n"
     ]
    },
    {
     "name": "stdout",
     "output_type": "stream",
     "text": [
      "written to s3://sisyphus-general-bucket/AthenaInsights/latest_data/feature_prep/stock_bars_1D_base.parquet\n"
     ]
    },
    {
     "name": "stderr",
     "output_type": "stream",
     "text": [
      "100%|██████████| 12/12 [00:00<00:00, 206.87it/s]\n",
      "100%|██████████| 12/12 [00:00<00:00, 488.08it/s]\n",
      "100%|██████████| 12/12 [00:00<00:00, 344.17it/s]\n",
      "100%|██████████| 12/12 [00:00<00:00, 351.48it/s]\n",
      "100%|██████████| 12/12 [00:00<00:00, 387.41it/s]\n"
     ]
    },
    {
     "name": "stdout",
     "output_type": "stream",
     "text": [
      "written to s3://sisyphus-general-bucket/AthenaInsights/latest_data/feature_prep/stock_bars_1D_diff.parquet\n",
      "s3://sisyphus-general-bucket/AthenaInsights/latest_data/reduced_autocorelation/stock_bars_1min.parquet\n"
     ]
    },
    {
     "name": "stderr",
     "output_type": "stream",
     "text": [
      "100%|██████████| 8/8 [00:00<00:00, 263.42it/s]\n",
      "100%|██████████| 8/8 [00:00<00:00, 243.05it/s]\n",
      "100%|██████████| 8/8 [00:00<00:00, 22.47it/s]\n",
      "100%|██████████| 8/8 [00:00<00:00, 22.91it/s]\n",
      "100%|██████████| 8/8 [00:00<00:00, 166.23it/s]\n"
     ]
    },
    {
     "name": "stdout",
     "output_type": "stream",
     "text": [
      "written to s3://sisyphus-general-bucket/AthenaInsights/latest_data/feature_prep/stock_bars_1min_base.parquet\n"
     ]
    },
    {
     "name": "stderr",
     "output_type": "stream",
     "text": [
      "100%|██████████| 8/8 [00:00<00:00, 215.76it/s]\n",
      "100%|██████████| 8/8 [00:00<00:00, 247.22it/s]\n",
      "100%|██████████| 8/8 [00:00<00:00, 18.67it/s]\n",
      "100%|██████████| 8/8 [00:00<00:00, 20.10it/s]\n",
      "100%|██████████| 8/8 [00:00<00:00, 134.32it/s]\n"
     ]
    },
    {
     "name": "stdout",
     "output_type": "stream",
     "text": [
      "written to s3://sisyphus-general-bucket/AthenaInsights/latest_data/feature_prep/stock_bars_1min_diff.parquet\n",
      "s3://sisyphus-general-bucket/AthenaInsights/latest_data/reduced_autocorelation/stock_bars_200D.parquet\n"
     ]
    },
    {
     "name": "stderr",
     "output_type": "stream",
     "text": [
      "100%|██████████| 7/7 [00:00<00:00, 261.75it/s]\n",
      "100%|██████████| 7/7 [00:00<00:00, 333.55it/s]\n",
      "100%|██████████| 7/7 [00:00<00:00, 333.37it/s]\n",
      "100%|██████████| 7/7 [00:00<00:00, 334.18it/s]\n",
      "100%|██████████| 7/7 [00:00<00:00, 322.74it/s]\n"
     ]
    },
    {
     "name": "stdout",
     "output_type": "stream",
     "text": [
      "written to s3://sisyphus-general-bucket/AthenaInsights/latest_data/feature_prep/stock_bars_200D_base.parquet\n"
     ]
    },
    {
     "name": "stderr",
     "output_type": "stream",
     "text": [
      "100%|██████████| 7/7 [00:00<00:00, 319.02it/s]\n",
      "100%|██████████| 7/7 [00:00<00:00, 319.05it/s]\n",
      "100%|██████████| 7/7 [00:00<00:00, 318.34it/s]\n",
      "100%|██████████| 7/7 [00:00<00:00, 331.50it/s]\n",
      "100%|██████████| 7/7 [00:00<00:00, 318.43it/s]\n"
     ]
    },
    {
     "name": "stdout",
     "output_type": "stream",
     "text": [
      "written to s3://sisyphus-general-bucket/AthenaInsights/latest_data/feature_prep/stock_bars_200D_diff.parquet\n",
      "s3://sisyphus-general-bucket/AthenaInsights/latest_data/reduced_autocorelation/stock_bars_20D.parquet\n"
     ]
    },
    {
     "name": "stderr",
     "output_type": "stream",
     "text": [
      "100%|██████████| 12/12 [00:00<00:00, 214.65it/s]\n",
      "100%|██████████| 12/12 [00:00<00:00, 320.02it/s]\n",
      "100%|██████████| 12/12 [00:00<00:00, 318.42it/s]\n",
      "100%|██████████| 12/12 [00:00<00:00, 263.55it/s]\n",
      "100%|██████████| 12/12 [00:00<00:00, 303.82it/s]\n"
     ]
    },
    {
     "name": "stdout",
     "output_type": "stream",
     "text": [
      "written to s3://sisyphus-general-bucket/AthenaInsights/latest_data/feature_prep/stock_bars_20D_base.parquet\n"
     ]
    },
    {
     "name": "stderr",
     "output_type": "stream",
     "text": [
      "100%|██████████| 12/12 [00:00<00:00, 232.57it/s]\n",
      "100%|██████████| 12/12 [00:00<00:00, 322.66it/s]\n",
      "100%|██████████| 12/12 [00:00<00:00, 334.22it/s]\n",
      "100%|██████████| 12/12 [00:00<00:00, 300.58it/s]\n",
      "100%|██████████| 12/12 [00:00<00:00, 246.86it/s]\n"
     ]
    },
    {
     "name": "stdout",
     "output_type": "stream",
     "text": [
      "written to s3://sisyphus-general-bucket/AthenaInsights/latest_data/feature_prep/stock_bars_20D_diff.parquet\n",
      "s3://sisyphus-general-bucket/AthenaInsights/latest_data/reduced_autocorelation/stock_bars_20min.parquet\n"
     ]
    },
    {
     "name": "stderr",
     "output_type": "stream",
     "text": [
      "100%|██████████| 8/8 [00:00<00:00, 130.20it/s]\n",
      "100%|██████████| 8/8 [00:00<00:00, 166.87it/s]\n",
      "100%|██████████| 8/8 [00:00<00:00, 194.27it/s]\n",
      "100%|██████████| 8/8 [00:00<00:00, 151.16it/s]\n",
      "100%|██████████| 8/8 [00:00<00:00, 153.71it/s]\n"
     ]
    },
    {
     "name": "stdout",
     "output_type": "stream",
     "text": [
      "written to s3://sisyphus-general-bucket/AthenaInsights/latest_data/feature_prep/stock_bars_20min_base.parquet\n"
     ]
    },
    {
     "name": "stderr",
     "output_type": "stream",
     "text": [
      "100%|██████████| 8/8 [00:00<00:00, 123.48it/s]\n",
      "100%|██████████| 8/8 [00:00<00:00, 153.87it/s]\n",
      "100%|██████████| 8/8 [00:00<00:00, 153.66it/s]\n",
      "100%|██████████| 8/8 [00:00<00:00, 150.75it/s]\n",
      "100%|██████████| 8/8 [00:00<00:00, 157.33it/s]\n"
     ]
    },
    {
     "name": "stdout",
     "output_type": "stream",
     "text": [
      "written to s3://sisyphus-general-bucket/AthenaInsights/latest_data/feature_prep/stock_bars_20min_diff.parquet\n",
      "s3://sisyphus-general-bucket/AthenaInsights/latest_data/reduced_autocorelation/stock_bars_240min.parquet\n"
     ]
    },
    {
     "name": "stderr",
     "output_type": "stream",
     "text": [
      "100%|██████████| 9/9 [00:00<00:00, 242.10it/s]\n",
      "100%|██████████| 9/9 [00:00<00:00, 288.63it/s]\n",
      "100%|██████████| 9/9 [00:00<00:00, 280.09it/s]\n",
      "100%|██████████| 9/9 [00:00<00:00, 251.06it/s]\n",
      "100%|██████████| 9/9 [00:00<00:00, 312.15it/s]\n"
     ]
    },
    {
     "name": "stdout",
     "output_type": "stream",
     "text": [
      "written to s3://sisyphus-general-bucket/AthenaInsights/latest_data/feature_prep/stock_bars_240min_base.parquet\n"
     ]
    },
    {
     "name": "stderr",
     "output_type": "stream",
     "text": [
      "100%|██████████| 9/9 [00:00<00:00, 226.83it/s]\n",
      "100%|██████████| 9/9 [00:00<00:00, 300.79it/s]\n",
      "100%|██████████| 9/9 [00:00<00:00, 298.64it/s]\n",
      "100%|██████████| 9/9 [00:00<00:00, 298.95it/s]\n",
      "100%|██████████| 9/9 [00:00<00:00, 301.11it/s]\n"
     ]
    },
    {
     "name": "stdout",
     "output_type": "stream",
     "text": [
      "written to s3://sisyphus-general-bucket/AthenaInsights/latest_data/feature_prep/stock_bars_240min_diff.parquet\n",
      "s3://sisyphus-general-bucket/AthenaInsights/latest_data/reduced_autocorelation/stock_bars_25min.parquet\n"
     ]
    },
    {
     "name": "stderr",
     "output_type": "stream",
     "text": [
      "100%|██████████| 8/8 [00:00<00:00, 204.19it/s]\n",
      "100%|██████████| 8/8 [00:00<00:00, 232.89it/s]\n",
      "100%|██████████| 8/8 [00:00<00:00, 172.59it/s]\n",
      "100%|██████████| 8/8 [00:00<00:00, 170.19it/s]\n",
      "100%|██████████| 8/8 [00:00<00:00, 170.26it/s]\n"
     ]
    },
    {
     "name": "stdout",
     "output_type": "stream",
     "text": [
      "written to s3://sisyphus-general-bucket/AthenaInsights/latest_data/feature_prep/stock_bars_25min_base.parquet\n"
     ]
    },
    {
     "name": "stderr",
     "output_type": "stream",
     "text": [
      "100%|██████████| 8/8 [00:00<00:00, 174.66it/s]\n",
      "100%|██████████| 8/8 [00:00<00:00, 164.67it/s]\n",
      "100%|██████████| 8/8 [00:00<00:00, 161.29it/s]\n",
      "100%|██████████| 8/8 [00:00<00:00, 157.37it/s]\n",
      "100%|██████████| 8/8 [00:00<00:00, 177.91it/s]\n"
     ]
    },
    {
     "name": "stdout",
     "output_type": "stream",
     "text": [
      "written to s3://sisyphus-general-bucket/AthenaInsights/latest_data/feature_prep/stock_bars_25min_diff.parquet\n",
      "s3://sisyphus-general-bucket/AthenaInsights/latest_data/reduced_autocorelation/stock_bars_2D.parquet\n"
     ]
    },
    {
     "name": "stderr",
     "output_type": "stream",
     "text": [
      "100%|██████████| 12/12 [00:00<00:00, 341.62it/s]\n",
      "100%|██████████| 12/12 [00:00<00:00, 316.05it/s]\n",
      "100%|██████████| 12/12 [00:00<00:00, 376.12it/s]\n",
      "100%|██████████| 12/12 [00:00<00:00, 242.07it/s]\n",
      "100%|██████████| 12/12 [00:00<00:00, 369.81it/s]\n"
     ]
    },
    {
     "name": "stdout",
     "output_type": "stream",
     "text": [
      "written to s3://sisyphus-general-bucket/AthenaInsights/latest_data/feature_prep/stock_bars_2D_base.parquet\n"
     ]
    },
    {
     "name": "stderr",
     "output_type": "stream",
     "text": [
      "100%|██████████| 12/12 [00:00<00:00, 287.95it/s]\n",
      "100%|██████████| 12/12 [00:00<00:00, 226.86it/s]\n",
      "100%|██████████| 12/12 [00:00<00:00, 278.30it/s]\n",
      "100%|██████████| 12/12 [00:00<00:00, 304.77it/s]\n",
      "100%|██████████| 12/12 [00:00<00:00, 326.59it/s]\n"
     ]
    },
    {
     "name": "stdout",
     "output_type": "stream",
     "text": [
      "written to s3://sisyphus-general-bucket/AthenaInsights/latest_data/feature_prep/stock_bars_2D_diff.parquet\n",
      "s3://sisyphus-general-bucket/AthenaInsights/latest_data/reduced_autocorelation/stock_bars_2min.parquet\n"
     ]
    },
    {
     "name": "stderr",
     "output_type": "stream",
     "text": [
      "100%|██████████| 8/8 [00:00<00:00, 22.56it/s]\n",
      "100%|██████████| 8/8 [00:00<00:00, 21.92it/s]\n",
      "100%|██████████| 8/8 [00:00<00:00, 19.32it/s]\n",
      "100%|██████████| 8/8 [00:00<00:00, 17.76it/s]\n",
      "100%|██████████| 8/8 [00:00<00:00, 17.14it/s]\n"
     ]
    },
    {
     "name": "stdout",
     "output_type": "stream",
     "text": [
      "written to s3://sisyphus-general-bucket/AthenaInsights/latest_data/feature_prep/stock_bars_2min_base.parquet\n"
     ]
    },
    {
     "name": "stderr",
     "output_type": "stream",
     "text": [
      "100%|██████████| 8/8 [00:00<00:00, 20.45it/s]\n",
      "100%|██████████| 8/8 [00:00<00:00, 22.60it/s]\n",
      "100%|██████████| 8/8 [00:00<00:00, 19.12it/s]\n",
      "100%|██████████| 8/8 [00:00<00:00, 19.30it/s]\n",
      "100%|██████████| 8/8 [00:00<00:00, 21.82it/s]\n"
     ]
    },
    {
     "name": "stdout",
     "output_type": "stream",
     "text": [
      "written to s3://sisyphus-general-bucket/AthenaInsights/latest_data/feature_prep/stock_bars_2min_diff.parquet\n",
      "s3://sisyphus-general-bucket/AthenaInsights/latest_data/reduced_autocorelation/stock_bars_30D.parquet\n"
     ]
    },
    {
     "name": "stderr",
     "output_type": "stream",
     "text": [
      "100%|██████████| 12/12 [00:00<00:00, 330.16it/s]\n",
      "100%|██████████| 12/12 [00:00<00:00, 387.19it/s]\n",
      "100%|██████████| 12/12 [00:00<00:00, 373.82it/s]\n",
      "100%|██████████| 12/12 [00:00<00:00, 234.79it/s]\n",
      "100%|██████████| 12/12 [00:00<00:00, 354.54it/s]\n"
     ]
    },
    {
     "name": "stdout",
     "output_type": "stream",
     "text": [
      "written to s3://sisyphus-general-bucket/AthenaInsights/latest_data/feature_prep/stock_bars_30D_base.parquet\n"
     ]
    },
    {
     "name": "stderr",
     "output_type": "stream",
     "text": [
      "100%|██████████| 12/12 [00:00<00:00, 231.42it/s]\n",
      "100%|██████████| 12/12 [00:00<00:00, 371.11it/s]\n",
      "100%|██████████| 12/12 [00:00<00:00, 360.07it/s]\n",
      "100%|██████████| 12/12 [00:00<00:00, 250.39it/s]\n",
      "100%|██████████| 12/12 [00:00<00:00, 360.42it/s]\n"
     ]
    },
    {
     "name": "stdout",
     "output_type": "stream",
     "text": [
      "written to s3://sisyphus-general-bucket/AthenaInsights/latest_data/feature_prep/stock_bars_30D_diff.parquet\n",
      "s3://sisyphus-general-bucket/AthenaInsights/latest_data/reduced_autocorelation/stock_bars_30min.parquet\n"
     ]
    },
    {
     "name": "stderr",
     "output_type": "stream",
     "text": [
      "100%|██████████| 8/8 [00:00<00:00, 142.76it/s]\n",
      "100%|██████████| 8/8 [00:00<00:00, 242.58it/s]\n",
      "100%|██████████| 8/8 [00:00<00:00, 236.23it/s]\n",
      "100%|██████████| 8/8 [00:00<00:00, 162.93it/s]\n",
      "100%|██████████| 8/8 [00:00<00:00, 241.77it/s]\n"
     ]
    },
    {
     "name": "stdout",
     "output_type": "stream",
     "text": [
      "written to s3://sisyphus-general-bucket/AthenaInsights/latest_data/feature_prep/stock_bars_30min_base.parquet\n"
     ]
    },
    {
     "name": "stderr",
     "output_type": "stream",
     "text": [
      "100%|██████████| 8/8 [00:00<00:00, 222.67it/s]\n",
      "100%|██████████| 8/8 [00:00<00:00, 228.28it/s]\n",
      "100%|██████████| 8/8 [00:00<00:00, 161.78it/s]\n",
      "100%|██████████| 8/8 [00:00<00:00, 167.06it/s]\n",
      "100%|██████████| 8/8 [00:00<00:00, 169.36it/s]\n"
     ]
    },
    {
     "name": "stdout",
     "output_type": "stream",
     "text": [
      "written to s3://sisyphus-general-bucket/AthenaInsights/latest_data/feature_prep/stock_bars_30min_diff.parquet\n",
      "s3://sisyphus-general-bucket/AthenaInsights/latest_data/reduced_autocorelation/stock_bars_3D.parquet\n"
     ]
    },
    {
     "name": "stderr",
     "output_type": "stream",
     "text": [
      "100%|██████████| 12/12 [00:00<00:00, 299.47it/s]\n",
      "100%|██████████| 12/12 [00:00<00:00, 331.99it/s]\n",
      "100%|██████████| 12/12 [00:00<00:00, 262.44it/s]\n",
      "100%|██████████| 12/12 [00:00<00:00, 333.81it/s]\n",
      "100%|██████████| 12/12 [00:00<00:00, 325.22it/s]\n"
     ]
    },
    {
     "name": "stdout",
     "output_type": "stream",
     "text": [
      "written to s3://sisyphus-general-bucket/AthenaInsights/latest_data/feature_prep/stock_bars_3D_base.parquet\n"
     ]
    },
    {
     "name": "stderr",
     "output_type": "stream",
     "text": [
      "100%|██████████| 12/12 [00:00<00:00, 284.29it/s]\n",
      "100%|██████████| 12/12 [00:00<00:00, 285.24it/s]\n",
      "100%|██████████| 12/12 [00:00<00:00, 324.83it/s]\n",
      "100%|██████████| 12/12 [00:00<00:00, 324.82it/s]\n",
      "100%|██████████| 12/12 [00:00<00:00, 343.77it/s]\n"
     ]
    },
    {
     "name": "stdout",
     "output_type": "stream",
     "text": [
      "written to s3://sisyphus-general-bucket/AthenaInsights/latest_data/feature_prep/stock_bars_3D_diff.parquet\n",
      "s3://sisyphus-general-bucket/AthenaInsights/latest_data/reduced_autocorelation/stock_bars_3min.parquet\n"
     ]
    },
    {
     "name": "stderr",
     "output_type": "stream",
     "text": [
      "100%|██████████| 8/8 [00:00<00:00, 30.13it/s]\n",
      "100%|██████████| 8/8 [00:00<00:00, 28.47it/s]\n",
      "100%|██████████| 8/8 [00:00<00:00, 31.41it/s]\n",
      "100%|██████████| 8/8 [00:00<00:00, 28.24it/s]\n",
      "100%|██████████| 8/8 [00:00<00:00, 28.63it/s]\n"
     ]
    },
    {
     "name": "stdout",
     "output_type": "stream",
     "text": [
      "written to s3://sisyphus-general-bucket/AthenaInsights/latest_data/feature_prep/stock_bars_3min_base.parquet\n"
     ]
    },
    {
     "name": "stderr",
     "output_type": "stream",
     "text": [
      "100%|██████████| 8/8 [00:00<00:00, 30.15it/s]\n",
      "100%|██████████| 8/8 [00:00<00:00, 31.89it/s]\n",
      "100%|██████████| 8/8 [00:00<00:00, 28.35it/s]\n",
      "100%|██████████| 8/8 [00:00<00:00, 26.66it/s]\n",
      "100%|██████████| 8/8 [00:00<00:00, 31.65it/s]\n"
     ]
    },
    {
     "name": "stdout",
     "output_type": "stream",
     "text": [
      "written to s3://sisyphus-general-bucket/AthenaInsights/latest_data/feature_prep/stock_bars_3min_diff.parquet\n",
      "s3://sisyphus-general-bucket/AthenaInsights/latest_data/reduced_autocorelation/stock_bars_50D.parquet\n"
     ]
    },
    {
     "name": "stderr",
     "output_type": "stream",
     "text": [
      "100%|██████████| 12/12 [00:00<00:00, 308.06it/s]\n",
      "100%|██████████| 12/12 [00:00<00:00, 448.81it/s]\n",
      "100%|██████████| 12/12 [00:00<00:00, 259.02it/s]\n",
      "100%|██████████| 12/12 [00:00<00:00, 355.00it/s]\n",
      "100%|██████████| 12/12 [00:00<00:00, 288.01it/s]\n"
     ]
    },
    {
     "name": "stdout",
     "output_type": "stream",
     "text": [
      "written to s3://sisyphus-general-bucket/AthenaInsights/latest_data/feature_prep/stock_bars_50D_base.parquet\n"
     ]
    },
    {
     "name": "stderr",
     "output_type": "stream",
     "text": [
      "100%|██████████| 12/12 [00:00<00:00, 315.86it/s]\n",
      "100%|██████████| 12/12 [00:00<00:00, 429.85it/s]\n",
      "100%|██████████| 12/12 [00:00<00:00, 371.40it/s]\n",
      "100%|██████████| 12/12 [00:00<00:00, 346.86it/s]\n",
      "100%|██████████| 12/12 [00:00<00:00, 360.04it/s]\n"
     ]
    },
    {
     "name": "stdout",
     "output_type": "stream",
     "text": [
      "written to s3://sisyphus-general-bucket/AthenaInsights/latest_data/feature_prep/stock_bars_50D_diff.parquet\n",
      "s3://sisyphus-general-bucket/AthenaInsights/latest_data/reduced_autocorelation/stock_bars_5D.parquet\n"
     ]
    },
    {
     "name": "stderr",
     "output_type": "stream",
     "text": [
      "100%|██████████| 12/12 [00:00<00:00, 144.94it/s]\n",
      "100%|██████████| 12/12 [00:00<00:00, 365.66it/s]\n",
      "100%|██████████| 12/12 [00:00<00:00, 350.29it/s]\n",
      "100%|██████████| 12/12 [00:00<00:00, 274.18it/s]\n",
      "100%|██████████| 12/12 [00:00<00:00, 325.62it/s]\n"
     ]
    },
    {
     "name": "stdout",
     "output_type": "stream",
     "text": [
      "written to s3://sisyphus-general-bucket/AthenaInsights/latest_data/feature_prep/stock_bars_5D_base.parquet\n"
     ]
    },
    {
     "name": "stderr",
     "output_type": "stream",
     "text": [
      "100%|██████████| 12/12 [00:00<00:00, 222.09it/s]\n",
      "100%|██████████| 12/12 [00:00<00:00, 316.19it/s]\n",
      "100%|██████████| 12/12 [00:00<00:00, 336.33it/s]\n",
      "100%|██████████| 12/12 [00:00<00:00, 350.25it/s]\n",
      "100%|██████████| 12/12 [00:00<00:00, 371.85it/s]\n"
     ]
    },
    {
     "name": "stdout",
     "output_type": "stream",
     "text": [
      "written to s3://sisyphus-general-bucket/AthenaInsights/latest_data/feature_prep/stock_bars_5D_diff.parquet\n",
      "s3://sisyphus-general-bucket/AthenaInsights/latest_data/reduced_autocorelation/stock_bars_5min.parquet\n"
     ]
    },
    {
     "name": "stderr",
     "output_type": "stream",
     "text": [
      "100%|██████████| 8/8 [00:00<00:00, 48.37it/s]\n",
      "100%|██████████| 8/8 [00:00<00:00, 64.16it/s]\n",
      "100%|██████████| 8/8 [00:00<00:00, 63.39it/s]\n",
      "100%|██████████| 8/8 [00:00<00:00, 70.31it/s]\n",
      "100%|██████████| 8/8 [00:00<00:00, 58.46it/s]\n"
     ]
    },
    {
     "name": "stdout",
     "output_type": "stream",
     "text": [
      "written to s3://sisyphus-general-bucket/AthenaInsights/latest_data/feature_prep/stock_bars_5min_base.parquet\n"
     ]
    },
    {
     "name": "stderr",
     "output_type": "stream",
     "text": [
      "100%|██████████| 8/8 [00:00<00:00, 71.67it/s]\n",
      "100%|██████████| 8/8 [00:00<00:00, 68.58it/s]\n",
      "100%|██████████| 8/8 [00:00<00:00, 56.35it/s]\n",
      "100%|██████████| 8/8 [00:00<00:00, 56.90it/s]\n",
      "100%|██████████| 8/8 [00:00<00:00, 70.65it/s]\n"
     ]
    },
    {
     "name": "stdout",
     "output_type": "stream",
     "text": [
      "written to s3://sisyphus-general-bucket/AthenaInsights/latest_data/feature_prep/stock_bars_5min_diff.parquet\n",
      "s3://sisyphus-general-bucket/AthenaInsights/latest_data/reduced_autocorelation/stock_bars_60min.parquet\n"
     ]
    },
    {
     "name": "stderr",
     "output_type": "stream",
     "text": [
      "100%|██████████| 9/9 [00:00<00:00, 250.41it/s]\n",
      "100%|██████████| 9/9 [00:00<00:00, 299.06it/s]\n",
      "100%|██████████| 9/9 [00:00<00:00, 283.08it/s]\n",
      "100%|██████████| 9/9 [00:00<00:00, 266.48it/s]\n",
      "100%|██████████| 9/9 [00:00<00:00, 278.86it/s]\n"
     ]
    },
    {
     "name": "stdout",
     "output_type": "stream",
     "text": [
      "written to s3://sisyphus-general-bucket/AthenaInsights/latest_data/feature_prep/stock_bars_60min_base.parquet\n"
     ]
    },
    {
     "name": "stderr",
     "output_type": "stream",
     "text": [
      "100%|██████████| 9/9 [00:00<00:00, 410.96it/s]\n",
      "100%|██████████| 9/9 [00:00<00:00, 509.80it/s]\n",
      "100%|██████████| 9/9 [00:00<00:00, 270.02it/s]\n",
      "100%|██████████| 9/9 [00:00<00:00, 274.56it/s]\n",
      "100%|██████████| 9/9 [00:00<00:00, 273.62it/s]\n"
     ]
    },
    {
     "name": "stdout",
     "output_type": "stream",
     "text": [
      "written to s3://sisyphus-general-bucket/AthenaInsights/latest_data/feature_prep/stock_bars_60min_diff.parquet\n"
     ]
    }
   ],
   "source": [
    "for path in paths:\n",
    "    name = path.split('/')[-1].split('.')[0].split('_')[-1]\n",
    "    if 'min' in name:\n",
    "        window = int(name.replace('min', ''))\n",
    "        period = 'min'\n",
    "    elif 'D' in name:\n",
    "        window = int(name.replace('D', ''))\n",
    "        period = 'D'\n",
    "    if period=='D':\n",
    "        if window < 100:\n",
    "            calc_windows = [2, 3, 5, 8, 10, 12, 15, 20, 26, 50, 100, 200]\n",
    "        else: \n",
    "            calc_windows = [5, 8, 10, 12, 20, 26, 50]\n",
    "    else:\n",
    "        if window <= 30:\n",
    "            calc_windows = [2, 3, 5, 8, 12, 10, 20, 26]\n",
    "        else:\n",
    "            calc_windows = [5, 8, 10, 12, 20, 26, 50, 100, 200]\n",
    "    print(path)\n",
    "    df = pd.read_parquet(path)\n",
    "    df1 = calculate_ma(df[col_sets[0]], calc_windows=calc_windows, prices=col_sets[0][:-2]).droplevel(0)\n",
    "    df1.to_parquet(path.replace('reduced_autocorelation', 'feature_prep').replace('.parquet', '_base.parquet'))\n",
    "    print(f\"written to {path.replace('reduced_autocorelation', 'feature_prep').replace('.parquet', '_base.parquet')}\")    \n",
    "    del df1\n",
    "    df2 = calculate_ma(df[col_sets[1]], calc_windows=calc_windows, prices=col_sets[1][:-2]).droplevel(0)\n",
    "    df2.to_parquet(path.replace('reduced_autocorelation', 'feature_prep').replace('.parquet', '_diff.parquet'))\n",
    "    print(f\"written to {path.replace('reduced_autocorelation', 'feature_prep').replace('.parquet', '_diff.parquet')}\")    \n",
    "    del df2"
   ]
  },
  {
   "cell_type": "code",
   "execution_count": null,
   "metadata": {},
   "outputs": [],
   "source": []
  }
 ],
 "metadata": {
  "kernelspec": {
   "display_name": "fools_gold",
   "language": "python",
   "name": "python3"
  },
  "language_info": {
   "codemirror_mode": {
    "name": "ipython",
    "version": 3
   },
   "file_extension": ".py",
   "mimetype": "text/x-python",
   "name": "python",
   "nbconvert_exporter": "python",
   "pygments_lexer": "ipython3",
   "version": "3.9.19"
  }
 },
 "nbformat": 4,
 "nbformat_minor": 4
}
