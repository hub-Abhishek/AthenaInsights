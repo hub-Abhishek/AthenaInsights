{
 "cells": [
  {
   "cell_type": "code",
   "execution_count": 22,
   "metadata": {
    "tags": []
   },
   "outputs": [],
   "source": [
    "import boto3\n",
    "import pandas as pd\n",
    "import numpy as np\n",
    "import warnings\n",
    "from tqdm import tqdm\n",
    "warnings.filterwarnings(\"ignore\")"
   ]
  },
  {
   "cell_type": "markdown",
   "metadata": {},
   "source": [
    "### data"
   ]
  },
  {
   "cell_type": "code",
   "execution_count": 23,
   "metadata": {
    "tags": []
   },
   "outputs": [],
   "source": [
    "client = boto3.client('s3')"
   ]
  },
  {
   "cell_type": "code",
   "execution_count": 24,
   "metadata": {
    "tags": []
   },
   "outputs": [],
   "source": [
    "s3_prefix = 's3://'\n",
    "bucket = 'sisyphus-general-bucket'\n",
    "primary_folder = 'AthenaInsights'\n",
    "data_folder = 'latest_data'"
   ]
  },
  {
   "cell_type": "code",
   "execution_count": 25,
   "metadata": {
    "tags": []
   },
   "outputs": [],
   "source": [
    "response = client.list_objects_v2(\n",
    "    Bucket=bucket,\n",
    "    Prefix=f'{primary_folder}/{data_folder}/reduced_autocorelation/')"
   ]
  },
  {
   "cell_type": "code",
   "execution_count": 26,
   "metadata": {
    "tags": []
   },
   "outputs": [],
   "source": [
    "files = []\n",
    "all_symbols = set()"
   ]
  },
  {
   "cell_type": "code",
   "execution_count": 27,
   "metadata": {
    "tags": []
   },
   "outputs": [],
   "source": [
    "paths = []\n",
    "for content in response.get('Contents', []):\n",
    "    # print(f\"{s3_prefix}{bucket}/{content['Key']}\")\n",
    "    paths.append(f\"{s3_prefix}{bucket}/{content['Key']}\")"
   ]
  },
  {
   "cell_type": "code",
   "execution_count": 28,
   "metadata": {
    "tags": []
   },
   "outputs": [],
   "source": [
    "def calculate_ma(df, ema=True, sma=True, calc_windows=[], prices=[]):\n",
    "    # Function to apply moving averages\n",
    "    def apply_moving_averages(group):\n",
    "        for window in tqdm(calc_windows):\n",
    "            for price in prices:\n",
    "                if ema:\n",
    "                    group[f'{price}_ema_{window}m'] = group[price].ewm(span=window, adjust=False).mean()\n",
    "                if sma:\n",
    "                    group[f'{price}_sma_{window}m'] = group[price].rolling(window=window).mean()\n",
    "        return group\n",
    "\n",
    "    # Apply function by group\n",
    "    return df.groupby('symbol').apply(apply_moving_averages)"
   ]
  },
  {
   "cell_type": "code",
   "execution_count": 29,
   "metadata": {},
   "outputs": [],
   "source": [
    "col_sets = [['open', 'high', 'low', 'close', 'volume', 'symbol', 'time_delta'], \n",
    "            ['open_diff', 'high_diff', 'low_diff', 'close_diff', 'volume_diff', 'symbol', 'time_delta']]"
   ]
  },
  {
   "cell_type": "code",
   "execution_count": 30,
   "metadata": {
    "tags": []
   },
   "outputs": [
    {
     "name": "stdout",
     "output_type": "stream",
     "text": [
      "s3://sisyphus-general-bucket/AthenaInsights/latest_data/reduced_autocorelation/stock_bars_100D.parquet\n"
     ]
    },
    {
     "name": "stderr",
     "output_type": "stream",
     "text": [
      "100%|██████████| 7/7 [00:00<00:00, 138.03it/s]\n",
      "100%|██████████| 7/7 [00:00<00:00, 390.14it/s]\n",
      "100%|██████████| 7/7 [00:00<00:00, 232.45it/s]\n",
      "100%|██████████| 7/7 [00:00<00:00, 545.13it/s]\n",
      "100%|██████████| 7/7 [00:00<00:00, 212.47it/s]\n"
     ]
    },
    {
     "name": "stdout",
     "output_type": "stream",
     "text": [
      "written to s3://sisyphus-general-bucket/AthenaInsights/latest_data/feature_prep/stock_bars_100D_base.parquet\n"
     ]
    },
    {
     "name": "stderr",
     "output_type": "stream",
     "text": [
      "100%|██████████| 7/7 [00:00<00:00, 288.98it/s]\n",
      "100%|██████████| 7/7 [00:00<00:00, 298.92it/s]\n",
      "100%|██████████| 7/7 [00:00<00:00, 485.48it/s]\n",
      "100%|██████████| 7/7 [00:00<00:00, 227.83it/s]\n",
      "100%|██████████| 7/7 [00:00<00:00, 376.42it/s]\n"
     ]
    },
    {
     "name": "stdout",
     "output_type": "stream",
     "text": [
      "written to s3://sisyphus-general-bucket/AthenaInsights/latest_data/feature_prep/stock_bars_100D_diff.parquet\n",
      "s3://sisyphus-general-bucket/AthenaInsights/latest_data/reduced_autocorelation/stock_bars_10D.parquet\n"
     ]
    },
    {
     "name": "stderr",
     "output_type": "stream",
     "text": [
      "100%|██████████| 12/12 [00:00<00:00, 237.05it/s]\n",
      "100%|██████████| 12/12 [00:00<00:00, 279.16it/s]\n",
      "100%|██████████| 12/12 [00:00<00:00, 321.11it/s]\n",
      "100%|██████████| 12/12 [00:00<00:00, 358.04it/s]\n",
      "100%|██████████| 12/12 [00:00<00:00, 380.76it/s]\n"
     ]
    },
    {
     "name": "stdout",
     "output_type": "stream",
     "text": [
      "written to s3://sisyphus-general-bucket/AthenaInsights/latest_data/feature_prep/stock_bars_10D_base.parquet\n"
     ]
    },
    {
     "name": "stderr",
     "output_type": "stream",
     "text": [
      "100%|██████████| 12/12 [00:00<00:00, 298.83it/s]\n",
      "100%|██████████| 12/12 [00:00<00:00, 495.69it/s]\n",
      "100%|██████████| 12/12 [00:00<00:00, 329.23it/s]\n",
      "100%|██████████| 12/12 [00:00<00:00, 364.27it/s]\n",
      "100%|██████████| 12/12 [00:00<00:00, 328.06it/s]\n"
     ]
    },
    {
     "name": "stdout",
     "output_type": "stream",
     "text": [
      "written to s3://sisyphus-general-bucket/AthenaInsights/latest_data/feature_prep/stock_bars_10D_diff.parquet\n",
      "s3://sisyphus-general-bucket/AthenaInsights/latest_data/reduced_autocorelation/stock_bars_10min.parquet\n"
     ]
    },
    {
     "name": "stderr",
     "output_type": "stream",
     "text": [
      "100%|██████████| 8/8 [00:00<00:00, 90.98it/s]\n",
      "100%|██████████| 8/8 [00:00<00:00, 105.75it/s]\n",
      "100%|██████████| 8/8 [00:00<00:00, 106.17it/s]\n",
      "100%|██████████| 8/8 [00:00<00:00, 107.63it/s]\n",
      "100%|██████████| 8/8 [00:00<00:00, 96.09it/s]\n"
     ]
    },
    {
     "name": "stdout",
     "output_type": "stream",
     "text": [
      "written to s3://sisyphus-general-bucket/AthenaInsights/latest_data/feature_prep/stock_bars_10min_base.parquet\n"
     ]
    },
    {
     "name": "stderr",
     "output_type": "stream",
     "text": [
      "100%|██████████| 8/8 [00:00<00:00, 108.75it/s]\n",
      "100%|██████████| 8/8 [00:00<00:00, 97.03it/s]\n",
      "100%|██████████| 8/8 [00:00<00:00, 97.32it/s]\n",
      "100%|██████████| 8/8 [00:00<00:00, 96.06it/s]\n",
      "100%|██████████| 8/8 [00:00<00:00, 129.95it/s]\n"
     ]
    },
    {
     "name": "stdout",
     "output_type": "stream",
     "text": [
      "written to s3://sisyphus-general-bucket/AthenaInsights/latest_data/feature_prep/stock_bars_10min_diff.parquet\n",
      "s3://sisyphus-general-bucket/AthenaInsights/latest_data/reduced_autocorelation/stock_bars_120min.parquet\n"
     ]
    },
    {
     "name": "stderr",
     "output_type": "stream",
     "text": [
      "100%|██████████| 9/9 [00:00<00:00, 258.74it/s]\n",
      "100%|██████████| 9/9 [00:00<00:00, 232.28it/s]\n",
      "100%|██████████| 9/9 [00:00<00:00, 383.87it/s]\n",
      "100%|██████████| 9/9 [00:00<00:00, 278.87it/s]\n",
      "100%|██████████| 9/9 [00:00<00:00, 296.35it/s]\n"
     ]
    },
    {
     "name": "stdout",
     "output_type": "stream",
     "text": [
      "written to s3://sisyphus-general-bucket/AthenaInsights/latest_data/feature_prep/stock_bars_120min_base.parquet\n"
     ]
    },
    {
     "name": "stderr",
     "output_type": "stream",
     "text": [
      "100%|██████████| 9/9 [00:00<00:00, 253.56it/s]\n",
      "100%|██████████| 9/9 [00:00<00:00, 228.07it/s]\n",
      "100%|██████████| 9/9 [00:00<00:00, 402.93it/s]\n",
      "100%|██████████| 9/9 [00:00<00:00, 261.41it/s]\n",
      "100%|██████████| 9/9 [00:00<00:00, 268.41it/s]\n"
     ]
    },
    {
     "name": "stdout",
     "output_type": "stream",
     "text": [
      "written to s3://sisyphus-general-bucket/AthenaInsights/latest_data/feature_prep/stock_bars_120min_diff.parquet\n",
      "s3://sisyphus-general-bucket/AthenaInsights/latest_data/reduced_autocorelation/stock_bars_150D.parquet\n"
     ]
    },
    {
     "name": "stderr",
     "output_type": "stream",
     "text": [
      "100%|██████████| 7/7 [00:00<00:00, 195.31it/s]\n",
      "100%|██████████| 7/7 [00:00<00:00, 226.24it/s]\n",
      "100%|██████████| 7/7 [00:00<00:00, 408.64it/s]\n",
      "100%|██████████| 7/7 [00:00<00:00, 264.58it/s]\n",
      "100%|██████████| 7/7 [00:00<00:00, 362.69it/s]\n"
     ]
    },
    {
     "name": "stdout",
     "output_type": "stream",
     "text": [
      "written to s3://sisyphus-general-bucket/AthenaInsights/latest_data/feature_prep/stock_bars_150D_base.parquet\n"
     ]
    },
    {
     "name": "stderr",
     "output_type": "stream",
     "text": [
      "100%|██████████| 7/7 [00:00<00:00, 356.36it/s]\n",
      "100%|██████████| 7/7 [00:00<00:00, 223.60it/s]\n",
      "100%|██████████| 7/7 [00:00<00:00, 382.14it/s]\n",
      "100%|██████████| 7/7 [00:00<00:00, 259.05it/s]\n",
      "100%|██████████| 7/7 [00:00<00:00, 412.79it/s]\n"
     ]
    },
    {
     "name": "stdout",
     "output_type": "stream",
     "text": [
      "written to s3://sisyphus-general-bucket/AthenaInsights/latest_data/feature_prep/stock_bars_150D_diff.parquet\n",
      "s3://sisyphus-general-bucket/AthenaInsights/latest_data/reduced_autocorelation/stock_bars_15D.parquet\n"
     ]
    },
    {
     "name": "stderr",
     "output_type": "stream",
     "text": [
      "100%|██████████| 12/12 [00:00<00:00, 241.57it/s]\n",
      "100%|██████████| 12/12 [00:00<00:00, 298.90it/s]\n",
      "100%|██████████| 12/12 [00:00<00:00, 306.10it/s]\n",
      "100%|██████████| 12/12 [00:00<00:00, 179.96it/s]\n",
      "100%|██████████| 12/12 [00:00<00:00, 247.32it/s]\n"
     ]
    },
    {
     "name": "stdout",
     "output_type": "stream",
     "text": [
      "written to s3://sisyphus-general-bucket/AthenaInsights/latest_data/feature_prep/stock_bars_15D_base.parquet\n"
     ]
    },
    {
     "name": "stderr",
     "output_type": "stream",
     "text": [
      "100%|██████████| 12/12 [00:00<00:00, 193.78it/s]\n",
      "100%|██████████| 12/12 [00:00<00:00, 288.97it/s]\n",
      "100%|██████████| 12/12 [00:00<00:00, 371.32it/s]\n",
      "100%|██████████| 12/12 [00:00<00:00, 359.31it/s]\n",
      "100%|██████████| 12/12 [00:00<00:00, 332.73it/s]\n"
     ]
    },
    {
     "name": "stdout",
     "output_type": "stream",
     "text": [
      "written to s3://sisyphus-general-bucket/AthenaInsights/latest_data/feature_prep/stock_bars_15D_diff.parquet\n",
      "s3://sisyphus-general-bucket/AthenaInsights/latest_data/reduced_autocorelation/stock_bars_15min.parquet\n"
     ]
    },
    {
     "name": "stderr",
     "output_type": "stream",
     "text": [
      "100%|██████████| 8/8 [00:00<00:00, 112.65it/s]\n",
      "100%|██████████| 8/8 [00:00<00:00, 127.16it/s]\n",
      "100%|██████████| 8/8 [00:00<00:00, 157.19it/s]\n",
      "100%|██████████| 8/8 [00:00<00:00, 148.11it/s]\n",
      "100%|██████████| 8/8 [00:00<00:00, 124.14it/s]\n"
     ]
    },
    {
     "name": "stdout",
     "output_type": "stream",
     "text": [
      "written to s3://sisyphus-general-bucket/AthenaInsights/latest_data/feature_prep/stock_bars_15min_base.parquet\n"
     ]
    },
    {
     "name": "stderr",
     "output_type": "stream",
     "text": [
      "100%|██████████| 8/8 [00:00<00:00, 103.83it/s]\n",
      "100%|██████████| 8/8 [00:00<00:00, 136.81it/s]\n",
      "100%|██████████| 8/8 [00:00<00:00, 109.79it/s]\n",
      "100%|██████████| 8/8 [00:00<00:00, 136.74it/s]\n",
      "100%|██████████| 8/8 [00:00<00:00, 123.77it/s]\n"
     ]
    },
    {
     "name": "stdout",
     "output_type": "stream",
     "text": [
      "written to s3://sisyphus-general-bucket/AthenaInsights/latest_data/feature_prep/stock_bars_15min_diff.parquet\n",
      "s3://sisyphus-general-bucket/AthenaInsights/latest_data/reduced_autocorelation/stock_bars_180min.parquet\n"
     ]
    },
    {
     "name": "stderr",
     "output_type": "stream",
     "text": [
      "100%|██████████| 9/9 [00:00<00:00, 218.45it/s]\n",
      "100%|██████████| 9/9 [00:00<00:00, 308.28it/s]\n",
      "100%|██████████| 9/9 [00:00<00:00, 274.02it/s]\n",
      "100%|██████████| 9/9 [00:00<00:00, 271.49it/s]\n",
      "100%|██████████| 9/9 [00:00<00:00, 267.41it/s]\n"
     ]
    },
    {
     "name": "stdout",
     "output_type": "stream",
     "text": [
      "written to s3://sisyphus-general-bucket/AthenaInsights/latest_data/feature_prep/stock_bars_180min_base.parquet\n"
     ]
    },
    {
     "name": "stderr",
     "output_type": "stream",
     "text": [
      "100%|██████████| 9/9 [00:00<00:00, 191.68it/s]\n",
      "100%|██████████| 9/9 [00:00<00:00, 268.75it/s]\n",
      "100%|██████████| 9/9 [00:00<00:00, 285.56it/s]\n",
      "100%|██████████| 9/9 [00:00<00:00, 276.48it/s]\n",
      "100%|██████████| 9/9 [00:00<00:00, 269.77it/s]\n"
     ]
    },
    {
     "name": "stdout",
     "output_type": "stream",
     "text": [
      "written to s3://sisyphus-general-bucket/AthenaInsights/latest_data/feature_prep/stock_bars_180min_diff.parquet\n",
      "s3://sisyphus-general-bucket/AthenaInsights/latest_data/reduced_autocorelation/stock_bars_1D.parquet\n"
     ]
    },
    {
     "name": "stderr",
     "output_type": "stream",
     "text": [
      "100%|██████████| 12/12 [00:00<00:00, 295.20it/s]\n",
      "100%|██████████| 12/12 [00:00<00:00, 400.38it/s]\n",
      "100%|██████████| 12/12 [00:00<00:00, 330.10it/s]\n",
      "100%|██████████| 12/12 [00:00<00:00, 355.18it/s]\n",
      "100%|██████████| 12/12 [00:00<00:00, 364.34it/s]\n"
     ]
    },
    {
     "name": "stdout",
     "output_type": "stream",
     "text": [
      "written to s3://sisyphus-general-bucket/AthenaInsights/latest_data/feature_prep/stock_bars_1D_base.parquet\n"
     ]
    },
    {
     "name": "stderr",
     "output_type": "stream",
     "text": [
      "100%|██████████| 12/12 [00:00<00:00, 287.24it/s]\n",
      "100%|██████████| 12/12 [00:00<00:00, 330.13it/s]\n",
      "100%|██████████| 12/12 [00:00<00:00, 286.98it/s]\n",
      "100%|██████████| 12/12 [00:00<00:00, 334.10it/s]\n",
      "100%|██████████| 12/12 [00:00<00:00, 354.14it/s]\n"
     ]
    },
    {
     "name": "stdout",
     "output_type": "stream",
     "text": [
      "written to s3://sisyphus-general-bucket/AthenaInsights/latest_data/feature_prep/stock_bars_1D_diff.parquet\n",
      "s3://sisyphus-general-bucket/AthenaInsights/latest_data/reduced_autocorelation/stock_bars_1min.parquet\n"
     ]
    },
    {
     "name": "stderr",
     "output_type": "stream",
     "text": [
      "100%|██████████| 8/8 [00:00<00:00, 239.96it/s]\n",
      "100%|██████████| 8/8 [00:00<00:00, 225.05it/s]\n",
      "100%|██████████| 8/8 [00:00<00:00, 23.00it/s]\n",
      "100%|██████████| 8/8 [00:00<00:00, 24.50it/s]\n",
      "100%|██████████| 8/8 [00:00<00:00, 147.21it/s]\n"
     ]
    },
    {
     "name": "stdout",
     "output_type": "stream",
     "text": [
      "written to s3://sisyphus-general-bucket/AthenaInsights/latest_data/feature_prep/stock_bars_1min_base.parquet\n"
     ]
    },
    {
     "name": "stderr",
     "output_type": "stream",
     "text": [
      "100%|██████████| 8/8 [00:00<00:00, 237.64it/s]\n",
      "100%|██████████| 8/8 [00:00<00:00, 197.04it/s]\n",
      "100%|██████████| 8/8 [00:00<00:00, 18.40it/s]\n",
      "100%|██████████| 8/8 [00:00<00:00, 20.02it/s]\n",
      "100%|██████████| 8/8 [00:00<00:00, 155.03it/s]\n"
     ]
    },
    {
     "name": "stdout",
     "output_type": "stream",
     "text": [
      "written to s3://sisyphus-general-bucket/AthenaInsights/latest_data/feature_prep/stock_bars_1min_diff.parquet\n",
      "s3://sisyphus-general-bucket/AthenaInsights/latest_data/reduced_autocorelation/stock_bars_200D.parquet\n"
     ]
    },
    {
     "name": "stderr",
     "output_type": "stream",
     "text": [
      "100%|██████████| 7/7 [00:00<00:00, 278.87it/s]\n",
      "100%|██████████| 7/7 [00:00<00:00, 438.49it/s]\n",
      "100%|██████████| 7/7 [00:00<00:00, 466.43it/s]\n",
      "100%|██████████| 7/7 [00:00<00:00, 447.94it/s]\n",
      "100%|██████████| 7/7 [00:00<00:00, 198.52it/s]\n"
     ]
    },
    {
     "name": "stdout",
     "output_type": "stream",
     "text": [
      "written to s3://sisyphus-general-bucket/AthenaInsights/latest_data/feature_prep/stock_bars_200D_base.parquet\n"
     ]
    },
    {
     "name": "stderr",
     "output_type": "stream",
     "text": [
      "100%|██████████| 7/7 [00:00<00:00, 368.82it/s]\n",
      "100%|██████████| 7/7 [00:00<00:00, 224.81it/s]\n",
      "100%|██████████| 7/7 [00:00<00:00, 68.11it/s]\n",
      "100%|██████████| 7/7 [00:00<00:00, 204.21it/s]\n",
      "100%|██████████| 7/7 [00:00<00:00, 224.05it/s]\n"
     ]
    },
    {
     "name": "stdout",
     "output_type": "stream",
     "text": [
      "written to s3://sisyphus-general-bucket/AthenaInsights/latest_data/feature_prep/stock_bars_200D_diff.parquet\n",
      "s3://sisyphus-general-bucket/AthenaInsights/latest_data/reduced_autocorelation/stock_bars_20D.parquet\n"
     ]
    },
    {
     "name": "stderr",
     "output_type": "stream",
     "text": [
      "100%|██████████| 12/12 [00:00<00:00, 363.15it/s]\n",
      "100%|██████████| 12/12 [00:00<00:00, 358.58it/s]\n",
      "100%|██████████| 12/12 [00:00<00:00, 350.24it/s]\n",
      "100%|██████████| 12/12 [00:00<00:00, 383.69it/s]\n",
      "100%|██████████| 12/12 [00:00<00:00, 256.06it/s]\n"
     ]
    },
    {
     "name": "stdout",
     "output_type": "stream",
     "text": [
      "written to s3://sisyphus-general-bucket/AthenaInsights/latest_data/feature_prep/stock_bars_20D_base.parquet\n"
     ]
    },
    {
     "name": "stderr",
     "output_type": "stream",
     "text": [
      "100%|██████████| 12/12 [00:00<00:00, 265.27it/s]\n",
      "100%|██████████| 12/12 [00:00<00:00, 327.38it/s]\n",
      "100%|██████████| 12/12 [00:00<00:00, 384.10it/s]\n",
      "100%|██████████| 12/12 [00:00<00:00, 256.06it/s]\n",
      "100%|██████████| 12/12 [00:00<00:00, 384.09it/s]\n"
     ]
    },
    {
     "name": "stdout",
     "output_type": "stream",
     "text": [
      "written to s3://sisyphus-general-bucket/AthenaInsights/latest_data/feature_prep/stock_bars_20D_diff.parquet\n",
      "s3://sisyphus-general-bucket/AthenaInsights/latest_data/reduced_autocorelation/stock_bars_20min.parquet\n"
     ]
    },
    {
     "name": "stderr",
     "output_type": "stream",
     "text": [
      "100%|██████████| 8/8 [00:00<00:00, 169.91it/s]\n",
      "100%|██████████| 8/8 [00:00<00:00, 170.71it/s]\n",
      "100%|██████████| 8/8 [00:00<00:00, 170.71it/s]\n",
      "100%|██████████| 8/8 [00:00<00:00, 170.71it/s]\n",
      "100%|██████████| 8/8 [00:00<00:00, 128.03it/s]\n"
     ]
    },
    {
     "name": "stdout",
     "output_type": "stream",
     "text": [
      "written to s3://sisyphus-general-bucket/AthenaInsights/latest_data/feature_prep/stock_bars_20min_base.parquet\n"
     ]
    },
    {
     "name": "stderr",
     "output_type": "stream",
     "text": [
      "100%|██████████| 8/8 [00:00<00:00, 160.27it/s]\n",
      "100%|██████████| 8/8 [00:00<00:00, 170.55it/s]\n",
      "100%|██████████| 8/8 [00:00<00:00, 170.71it/s]\n",
      "100%|██████████| 8/8 [00:00<00:00, 128.03it/s]\n",
      "100%|██████████| 8/8 [00:00<00:00, 170.85it/s]\n"
     ]
    },
    {
     "name": "stdout",
     "output_type": "stream",
     "text": [
      "written to s3://sisyphus-general-bucket/AthenaInsights/latest_data/feature_prep/stock_bars_20min_diff.parquet\n",
      "s3://sisyphus-general-bucket/AthenaInsights/latest_data/reduced_autocorelation/stock_bars_240min.parquet\n"
     ]
    },
    {
     "name": "stderr",
     "output_type": "stream",
     "text": [
      "100%|██████████| 9/9 [00:00<00:00, 287.71it/s]\n",
      "100%|██████████| 9/9 [00:00<00:00, 268.82it/s]\n",
      "100%|██████████| 9/9 [00:00<00:00, 288.23it/s]\n",
      "100%|██████████| 9/9 [00:00<00:00, 288.05it/s]\n",
      "100%|██████████| 9/9 [00:00<00:00, 288.08it/s]\n"
     ]
    },
    {
     "name": "stdout",
     "output_type": "stream",
     "text": [
      "written to s3://sisyphus-general-bucket/AthenaInsights/latest_data/feature_prep/stock_bars_240min_base.parquet\n"
     ]
    },
    {
     "name": "stderr",
     "output_type": "stream",
     "text": [
      "100%|██████████| 9/9 [00:00<00:00, 201.41it/s]\n",
      "100%|██████████| 9/9 [00:00<00:00, 576.05it/s]\n",
      "100%|██████████| 9/9 [00:00<00:00, 576.11it/s]\n",
      "100%|██████████| 9/9 [00:00<00:00, 574.61it/s]\n",
      "100%|██████████| 9/9 [00:00<00:00, 371.05it/s]\n"
     ]
    },
    {
     "name": "stdout",
     "output_type": "stream",
     "text": [
      "written to s3://sisyphus-general-bucket/AthenaInsights/latest_data/feature_prep/stock_bars_240min_diff.parquet\n",
      "s3://sisyphus-general-bucket/AthenaInsights/latest_data/reduced_autocorelation/stock_bars_25min.parquet\n"
     ]
    },
    {
     "name": "stderr",
     "output_type": "stream",
     "text": [
      "100%|██████████| 8/8 [00:00<00:00, 148.92it/s]\n",
      "100%|██████████| 8/8 [00:00<00:00, 290.69it/s]\n",
      "100%|██████████| 8/8 [00:00<00:00, 241.09it/s]\n",
      "100%|██████████| 8/8 [00:00<00:00, 160.07it/s]\n",
      "100%|██████████| 8/8 [00:00<00:00, 160.05it/s]\n"
     ]
    },
    {
     "name": "stdout",
     "output_type": "stream",
     "text": [
      "written to s3://sisyphus-general-bucket/AthenaInsights/latest_data/feature_prep/stock_bars_25min_base.parquet\n"
     ]
    },
    {
     "name": "stderr",
     "output_type": "stream",
     "text": [
      "100%|██████████| 8/8 [00:00<00:00, 158.67it/s]\n",
      "100%|██████████| 8/8 [00:00<00:00, 248.47it/s]\n",
      "100%|██████████| 8/8 [00:00<00:00, 174.20it/s]\n",
      "100%|██████████| 8/8 [00:00<00:00, 233.94it/s]\n",
      "100%|██████████| 8/8 [00:00<00:00, 184.18it/s]\n"
     ]
    },
    {
     "name": "stdout",
     "output_type": "stream",
     "text": [
      "written to s3://sisyphus-general-bucket/AthenaInsights/latest_data/feature_prep/stock_bars_25min_diff.parquet\n",
      "s3://sisyphus-general-bucket/AthenaInsights/latest_data/reduced_autocorelation/stock_bars_2D.parquet\n"
     ]
    },
    {
     "name": "stderr",
     "output_type": "stream",
     "text": [
      "100%|██████████| 12/12 [00:00<00:00, 336.05it/s]\n",
      "100%|██████████| 12/12 [00:00<00:00, 416.63it/s]\n",
      "100%|██████████| 12/12 [00:00<00:00, 361.62it/s]\n",
      "100%|██████████| 12/12 [00:00<00:00, 259.72it/s]\n",
      "100%|██████████| 12/12 [00:00<00:00, 340.47it/s]\n"
     ]
    },
    {
     "name": "stdout",
     "output_type": "stream",
     "text": [
      "written to s3://sisyphus-general-bucket/AthenaInsights/latest_data/feature_prep/stock_bars_2D_base.parquet\n"
     ]
    },
    {
     "name": "stderr",
     "output_type": "stream",
     "text": [
      "100%|██████████| 12/12 [00:00<00:00, 314.37it/s]\n",
      "100%|██████████| 12/12 [00:00<00:00, 368.83it/s]\n",
      "100%|██████████| 12/12 [00:00<00:00, 360.18it/s]\n",
      "100%|██████████| 12/12 [00:00<00:00, 360.38it/s]\n",
      "100%|██████████| 12/12 [00:00<00:00, 332.24it/s]\n"
     ]
    },
    {
     "name": "stdout",
     "output_type": "stream",
     "text": [
      "written to s3://sisyphus-general-bucket/AthenaInsights/latest_data/feature_prep/stock_bars_2D_diff.parquet\n",
      "s3://sisyphus-general-bucket/AthenaInsights/latest_data/reduced_autocorelation/stock_bars_2min.parquet\n"
     ]
    },
    {
     "name": "stderr",
     "output_type": "stream",
     "text": [
      "100%|██████████| 8/8 [00:00<00:00, 22.88it/s]\n",
      "100%|██████████| 8/8 [00:00<00:00, 20.58it/s]\n",
      "100%|██████████| 8/8 [00:00<00:00, 21.19it/s]\n",
      "100%|██████████| 8/8 [00:00<00:00, 18.47it/s]\n",
      "100%|██████████| 8/8 [00:00<00:00, 20.01it/s]\n"
     ]
    },
    {
     "name": "stdout",
     "output_type": "stream",
     "text": [
      "written to s3://sisyphus-general-bucket/AthenaInsights/latest_data/feature_prep/stock_bars_2min_base.parquet\n"
     ]
    },
    {
     "name": "stderr",
     "output_type": "stream",
     "text": [
      "100%|██████████| 8/8 [00:00<00:00, 21.84it/s]\n",
      "100%|██████████| 8/8 [00:00<00:00, 22.86it/s]\n",
      "100%|██████████| 8/8 [00:00<00:00, 19.95it/s]\n",
      "100%|██████████| 8/8 [00:00<00:00, 19.21it/s]\n",
      "100%|██████████| 8/8 [00:00<00:00, 20.88it/s]\n"
     ]
    },
    {
     "name": "stdout",
     "output_type": "stream",
     "text": [
      "written to s3://sisyphus-general-bucket/AthenaInsights/latest_data/feature_prep/stock_bars_2min_diff.parquet\n",
      "s3://sisyphus-general-bucket/AthenaInsights/latest_data/reduced_autocorelation/stock_bars_30D.parquet\n"
     ]
    },
    {
     "name": "stderr",
     "output_type": "stream",
     "text": [
      "100%|██████████| 12/12 [00:00<00:00, 359.50it/s]\n",
      "100%|██████████| 12/12 [00:00<00:00, 354.99it/s]\n",
      "100%|██████████| 12/12 [00:00<00:00, 359.89it/s]\n",
      "100%|██████████| 12/12 [00:00<00:00, 359.37it/s]\n",
      "100%|██████████| 12/12 [00:00<00:00, 360.86it/s]\n"
     ]
    },
    {
     "name": "stdout",
     "output_type": "stream",
     "text": [
      "written to s3://sisyphus-general-bucket/AthenaInsights/latest_data/feature_prep/stock_bars_30D_base.parquet\n"
     ]
    },
    {
     "name": "stderr",
     "output_type": "stream",
     "text": [
      "100%|██████████| 12/12 [00:00<00:00, 426.41it/s]\n",
      "100%|██████████| 12/12 [00:00<00:00, 245.57it/s]\n",
      "100%|██████████| 12/12 [00:00<00:00, 356.79it/s]\n",
      "100%|██████████| 12/12 [00:00<00:00, 180.95it/s]\n",
      "100%|██████████| 12/12 [00:00<00:00, 360.93it/s]\n"
     ]
    },
    {
     "name": "stdout",
     "output_type": "stream",
     "text": [
      "written to s3://sisyphus-general-bucket/AthenaInsights/latest_data/feature_prep/stock_bars_30D_diff.parquet\n",
      "s3://sisyphus-general-bucket/AthenaInsights/latest_data/reduced_autocorelation/stock_bars_30min.parquet\n"
     ]
    },
    {
     "name": "stderr",
     "output_type": "stream",
     "text": [
      "100%|██████████| 8/8 [00:00<00:00, 228.78it/s]\n",
      "100%|██████████| 8/8 [00:00<00:00, 165.19it/s]\n",
      "100%|██████████| 8/8 [00:00<00:00, 240.85it/s]\n",
      "100%|██████████| 8/8 [00:00<00:00, 228.73it/s]\n",
      "100%|██████████| 8/8 [00:00<00:00, 240.03it/s]\n"
     ]
    },
    {
     "name": "stdout",
     "output_type": "stream",
     "text": [
      "written to s3://sisyphus-general-bucket/AthenaInsights/latest_data/feature_prep/stock_bars_30min_base.parquet\n"
     ]
    },
    {
     "name": "stderr",
     "output_type": "stream",
     "text": [
      "100%|██████████| 8/8 [00:00<00:00, 96.15it/s]\n",
      "100%|██████████| 8/8 [00:00<00:00, 160.32it/s]\n",
      "100%|██████████| 8/8 [00:00<00:00, 119.88it/s]\n",
      "100%|██████████| 8/8 [00:00<00:00, 120.09it/s]\n",
      "100%|██████████| 8/8 [00:00<00:00, 160.50it/s]\n"
     ]
    },
    {
     "name": "stdout",
     "output_type": "stream",
     "text": [
      "written to s3://sisyphus-general-bucket/AthenaInsights/latest_data/feature_prep/stock_bars_30min_diff.parquet\n",
      "s3://sisyphus-general-bucket/AthenaInsights/latest_data/reduced_autocorelation/stock_bars_3D.parquet\n"
     ]
    },
    {
     "name": "stderr",
     "output_type": "stream",
     "text": [
      "100%|██████████| 12/12 [00:00<00:00, 353.70it/s]\n",
      "100%|██████████| 12/12 [00:00<00:00, 247.55it/s]\n",
      "100%|██████████| 12/12 [00:00<00:00, 360.78it/s]\n",
      "100%|██████████| 12/12 [00:00<00:00, 356.44it/s]\n",
      "100%|██████████| 12/12 [00:00<00:00, 250.14it/s]\n"
     ]
    },
    {
     "name": "stdout",
     "output_type": "stream",
     "text": [
      "written to s3://sisyphus-general-bucket/AthenaInsights/latest_data/feature_prep/stock_bars_3D_base.parquet\n"
     ]
    },
    {
     "name": "stderr",
     "output_type": "stream",
     "text": [
      "100%|██████████| 12/12 [00:00<00:00, 244.74it/s]\n",
      "100%|██████████| 12/12 [00:00<00:00, 360.18it/s]\n",
      "100%|██████████| 12/12 [00:00<00:00, 360.59it/s]\n",
      "100%|██████████| 12/12 [00:00<00:00, 357.58it/s]\n",
      "100%|██████████| 12/12 [00:00<00:00, 362.31it/s]\n"
     ]
    },
    {
     "name": "stdout",
     "output_type": "stream",
     "text": [
      "written to s3://sisyphus-general-bucket/AthenaInsights/latest_data/feature_prep/stock_bars_3D_diff.parquet\n",
      "s3://sisyphus-general-bucket/AthenaInsights/latest_data/reduced_autocorelation/stock_bars_3min.parquet\n"
     ]
    },
    {
     "name": "stderr",
     "output_type": "stream",
     "text": [
      "100%|██████████| 8/8 [00:00<00:00, 32.02it/s]\n",
      "100%|██████████| 8/8 [00:00<00:00, 32.00it/s]\n",
      "100%|██████████| 8/8 [00:00<00:00, 30.04it/s]\n",
      "100%|██████████| 8/8 [00:00<00:00, 30.01it/s]\n",
      "100%|██████████| 8/8 [00:00<00:00, 31.98it/s]\n"
     ]
    },
    {
     "name": "stdout",
     "output_type": "stream",
     "text": [
      "written to s3://sisyphus-general-bucket/AthenaInsights/latest_data/feature_prep/stock_bars_3min_base.parquet\n"
     ]
    },
    {
     "name": "stderr",
     "output_type": "stream",
     "text": [
      "100%|██████████| 8/8 [00:00<00:00, 32.04it/s]\n",
      "100%|██████████| 8/8 [00:00<00:00, 32.02it/s]\n",
      "100%|██████████| 8/8 [00:00<00:00, 26.67it/s]\n",
      "100%|██████████| 8/8 [00:00<00:00, 28.25it/s]\n",
      "100%|██████████| 8/8 [00:00<00:00, 30.02it/s]\n"
     ]
    },
    {
     "name": "stdout",
     "output_type": "stream",
     "text": [
      "written to s3://sisyphus-general-bucket/AthenaInsights/latest_data/feature_prep/stock_bars_3min_diff.parquet\n",
      "s3://sisyphus-general-bucket/AthenaInsights/latest_data/reduced_autocorelation/stock_bars_50D.parquet\n"
     ]
    },
    {
     "name": "stderr",
     "output_type": "stream",
     "text": [
      "100%|██████████| 12/12 [00:00<00:00, 369.27it/s]\n",
      "100%|██████████| 12/12 [00:00<00:00, 329.82it/s]\n",
      "100%|██████████| 12/12 [00:00<00:00, 433.49it/s]\n",
      "100%|██████████| 12/12 [00:00<00:00, 383.56it/s]\n",
      "100%|██████████| 12/12 [00:00<00:00, 383.54it/s]\n"
     ]
    },
    {
     "name": "stdout",
     "output_type": "stream",
     "text": [
      "written to s3://sisyphus-general-bucket/AthenaInsights/latest_data/feature_prep/stock_bars_50D_base.parquet\n"
     ]
    },
    {
     "name": "stderr",
     "output_type": "stream",
     "text": [
      "100%|██████████| 12/12 [00:00<00:00, 363.74it/s]\n",
      "100%|██████████| 12/12 [00:00<00:00, 358.53it/s]\n",
      "100%|██████████| 12/12 [00:00<00:00, 232.54it/s]\n",
      "100%|██████████| 12/12 [00:00<00:00, 407.90it/s]\n",
      "100%|██████████| 12/12 [00:00<00:00, 257.15it/s]\n"
     ]
    },
    {
     "name": "stdout",
     "output_type": "stream",
     "text": [
      "written to s3://sisyphus-general-bucket/AthenaInsights/latest_data/feature_prep/stock_bars_50D_diff.parquet\n",
      "s3://sisyphus-general-bucket/AthenaInsights/latest_data/reduced_autocorelation/stock_bars_5D.parquet\n"
     ]
    },
    {
     "name": "stderr",
     "output_type": "stream",
     "text": [
      "100%|██████████| 12/12 [00:00<00:00, 327.79it/s]\n",
      "100%|██████████| 12/12 [00:00<00:00, 406.34it/s]\n",
      "100%|██████████| 12/12 [00:00<00:00, 369.02it/s]\n",
      "100%|██████████| 12/12 [00:00<00:00, 318.90it/s]\n",
      "100%|██████████| 12/12 [00:00<00:00, 376.31it/s]\n"
     ]
    },
    {
     "name": "stdout",
     "output_type": "stream",
     "text": [
      "written to s3://sisyphus-general-bucket/AthenaInsights/latest_data/feature_prep/stock_bars_5D_base.parquet\n"
     ]
    },
    {
     "name": "stderr",
     "output_type": "stream",
     "text": [
      "100%|██████████| 12/12 [00:00<00:00, 334.70it/s]\n",
      "100%|██████████| 12/12 [00:00<00:00, 319.55it/s]\n",
      "100%|██████████| 12/12 [00:00<00:00, 305.65it/s]\n",
      "100%|██████████| 12/12 [00:00<00:00, 329.43it/s]\n",
      "100%|██████████| 12/12 [00:00<00:00, 367.00it/s]\n"
     ]
    },
    {
     "name": "stdout",
     "output_type": "stream",
     "text": [
      "written to s3://sisyphus-general-bucket/AthenaInsights/latest_data/feature_prep/stock_bars_5D_diff.parquet\n",
      "s3://sisyphus-general-bucket/AthenaInsights/latest_data/reduced_autocorelation/stock_bars_5min.parquet\n"
     ]
    },
    {
     "name": "stderr",
     "output_type": "stream",
     "text": [
      "100%|██████████| 8/8 [00:00<00:00, 40.54it/s]\n",
      "100%|██████████| 8/8 [00:00<00:00, 28.41it/s]\n",
      "100%|██████████| 8/8 [00:00<00:00, 48.98it/s]\n",
      "100%|██████████| 8/8 [00:00<00:00, 58.65it/s]\n",
      "100%|██████████| 8/8 [00:00<00:00, 61.03it/s]\n"
     ]
    },
    {
     "name": "stdout",
     "output_type": "stream",
     "text": [
      "written to s3://sisyphus-general-bucket/AthenaInsights/latest_data/feature_prep/stock_bars_5min_base.parquet\n"
     ]
    },
    {
     "name": "stderr",
     "output_type": "stream",
     "text": [
      "100%|██████████| 8/8 [00:00<00:00, 71.62it/s]\n",
      "100%|██████████| 8/8 [00:00<00:00, 64.80it/s]\n",
      "100%|██████████| 8/8 [00:00<00:00, 54.87it/s]\n",
      "100%|██████████| 8/8 [00:00<00:00, 50.82it/s]\n",
      "100%|██████████| 8/8 [00:00<00:00, 66.04it/s]\n"
     ]
    },
    {
     "name": "stdout",
     "output_type": "stream",
     "text": [
      "written to s3://sisyphus-general-bucket/AthenaInsights/latest_data/feature_prep/stock_bars_5min_diff.parquet\n",
      "s3://sisyphus-general-bucket/AthenaInsights/latest_data/reduced_autocorelation/stock_bars_60min.parquet\n"
     ]
    },
    {
     "name": "stderr",
     "output_type": "stream",
     "text": [
      "100%|██████████| 9/9 [00:00<00:00, 305.77it/s]\n",
      "100%|██████████| 9/9 [00:00<00:00, 277.05it/s]\n",
      "100%|██████████| 9/9 [00:00<00:00, 252.17it/s]\n",
      "100%|██████████| 9/9 [00:00<00:00, 281.21it/s]\n",
      "100%|██████████| 9/9 [00:00<00:00, 228.73it/s]\n"
     ]
    },
    {
     "name": "stdout",
     "output_type": "stream",
     "text": [
      "written to s3://sisyphus-general-bucket/AthenaInsights/latest_data/feature_prep/stock_bars_60min_base.parquet\n"
     ]
    },
    {
     "name": "stderr",
     "output_type": "stream",
     "text": [
      "100%|██████████| 9/9 [00:00<00:00, 291.34it/s]\n",
      "100%|██████████| 9/9 [00:00<00:00, 283.83it/s]\n",
      "100%|██████████| 9/9 [00:00<00:00, 122.37it/s]\n",
      "100%|██████████| 9/9 [00:00<00:00, 360.83it/s]\n",
      "100%|██████████| 9/9 [00:00<00:00, 287.48it/s]\n"
     ]
    },
    {
     "name": "stdout",
     "output_type": "stream",
     "text": [
      "written to s3://sisyphus-general-bucket/AthenaInsights/latest_data/feature_prep/stock_bars_60min_diff.parquet\n"
     ]
    }
   ],
   "source": [
    "for path in paths:\n",
    "    name = path.split('/')[-1].split('.')[0].split('_')[-1]\n",
    "    if 'min' in name:\n",
    "        window = int(name.replace('min', ''))\n",
    "        period = 'min'\n",
    "    elif 'D' in name:\n",
    "        window = int(name.replace('D', ''))\n",
    "        period = 'D'\n",
    "    if period=='D':\n",
    "        if window < 100:\n",
    "            calc_windows = [2, 3, 5, 8, 10, 12, 15, 20, 26, 50, 100, 200]\n",
    "        else: \n",
    "            calc_windows = [5, 8, 10, 12, 20, 26, 50]\n",
    "    else:\n",
    "        if window <= 30:\n",
    "            calc_windows = [2, 3, 5, 8, 12, 10, 20, 26]\n",
    "        else:\n",
    "            calc_windows = [5, 8, 10, 12, 20, 26, 50, 100, 200]\n",
    "    print(path)\n",
    "    df = pd.read_parquet(path)\n",
    "    df1 = calculate_ma(df[col_sets[0]], calc_windows=calc_windows, prices=col_sets[0][:-2]).droplevel(0)\n",
    "    df1.to_parquet(path.replace('reduced_autocorelation', 'feature_prep').replace('.parquet', '_base.parquet'))\n",
    "    print(f\"written to {path.replace('reduced_autocorelation', 'feature_prep').replace('.parquet', '_base.parquet')}\")    \n",
    "    del df1\n",
    "    df2 = calculate_ma(df[col_sets[1]], calc_windows=calc_windows, prices=col_sets[1][:-2]).droplevel(0)\n",
    "    df2.to_parquet(path.replace('reduced_autocorelation', 'feature_prep').replace('.parquet', '_diff.parquet'))\n",
    "    print(f\"written to {path.replace('reduced_autocorelation', 'feature_prep').replace('.parquet', '_diff.parquet')}\")    \n",
    "    del df2"
   ]
  },
  {
   "cell_type": "code",
   "execution_count": null,
   "metadata": {},
   "outputs": [],
   "source": []
  }
 ],
 "metadata": {
  "kernelspec": {
   "display_name": "fools_gold",
   "language": "python",
   "name": "python3"
  },
  "language_info": {
   "codemirror_mode": {
    "name": "ipython",
    "version": 3
   },
   "file_extension": ".py",
   "mimetype": "text/x-python",
   "name": "python",
   "nbconvert_exporter": "python",
   "pygments_lexer": "ipython3",
   "version": "3.9.19"
  }
 },
 "nbformat": 4,
 "nbformat_minor": 4
}
