{
 "cells": [
  {
   "cell_type": "code",
   "execution_count": 1,
   "id": "23b4f365-1c64-4c01-b4fa-966b0940694f",
   "metadata": {
    "tags": []
   },
   "outputs": [],
   "source": [
    "\n",
    "# independent variables - \n",
    "# start from 1 min averages\n",
    "# stop wherever it hangs\n",
    "\n",
    "# concat other features\n",
    "# concat averages\n",
    "# concat 1 min rsis\n",
    "# concat 1 min macd\n",
    "\n",
    "\n",
    "# dependent features\n",
    "# category\n",
    "\n",
    "# write everything to s3 location\n",
    "# train.py\n",
    "# sagemaker notebook results"
   ]
  },
  {
   "cell_type": "code",
   "execution_count": 2,
   "id": "75cc947b-5ccb-4fa1-9bc1-dd3a0ea6dede",
   "metadata": {
    "tags": []
   },
   "outputs": [],
   "source": [
    "# convert this into pipeline"
   ]
  },
  {
   "cell_type": "code",
   "execution_count": 3,
   "id": "71bf9364-0647-443b-870a-7171a89fb258",
   "metadata": {
    "tags": []
   },
   "outputs": [],
   "source": [
    "# experiment with settings\n",
    "# correlation analysis"
   ]
  },
  {
   "cell_type": "code",
   "execution_count": 4,
   "id": "614df348-af20-4f30-ad39-7c2617597db1",
   "metadata": {
    "tags": []
   },
   "outputs": [],
   "source": [
    "import yaml\n",
    "import boto3\n",
    "import pandas as pd\n",
    "import numpy as np\n",
    "import warnings\n",
    "from tqdm import tqdm\n",
    "import pyarrow.dataset as ds\n",
    "import pyarrow.parquet as pq\n",
    "warnings.filterwarnings(\"ignore\")"
   ]
  },
  {
   "cell_type": "code",
   "execution_count": 5,
   "id": "e4e982aa-2638-40e4-ae39-2d704b2171e8",
   "metadata": {
    "tags": []
   },
   "outputs": [
    {
     "data": {
      "text/plain": [
       "'/home/ec2-user/SageMaker/sisyphus/AthenaInsights/notebooks/data_cleaning'"
      ]
     },
     "execution_count": 5,
     "metadata": {},
     "output_type": "execute_result"
    }
   ],
   "source": [
    "import os\n",
    "os.getcwd()"
   ]
  },
  {
   "cell_type": "code",
   "execution_count": 6,
   "id": "55db3e83-9f5b-486e-adc8-da8ab7cd9054",
   "metadata": {
    "tags": []
   },
   "outputs": [],
   "source": [
    "def load_yaml(loc):\n",
    "    with open(loc) as stream:\n",
    "        try:\n",
    "            print(f'reading from {loc}')\n",
    "            return yaml.safe_load(stream)\n",
    "        except yaml.YAMLError as exc:\n",
    "            print(exc)"
   ]
  },
  {
   "cell_type": "markdown",
   "id": "d72d0384-b9f9-40b1-a9f1-b231f22e2a91",
   "metadata": {
    "tags": []
   },
   "source": [
    "### independent variables"
   ]
  },
  {
   "cell_type": "code",
   "execution_count": 7,
   "id": "4e0ca051-9763-43d7-bbd8-36fda618cce6",
   "metadata": {
    "tags": []
   },
   "outputs": [],
   "source": [
    "client = boto3.client('s3')"
   ]
  },
  {
   "cell_type": "code",
   "execution_count": 8,
   "id": "30eb30cd-4ed5-4c7b-88df-5d8e94ecb2b3",
   "metadata": {
    "tags": []
   },
   "outputs": [],
   "source": [
    "s3_prefix = 's3://'\n",
    "bucket = 'sisyphus-general-bucket'\n",
    "primary_folder = 'AthenaInsights'"
   ]
  },
  {
   "cell_type": "code",
   "execution_count": 9,
   "id": "a6d159ef-8a59-460f-990c-bdc0cb62b676",
   "metadata": {
    "tags": []
   },
   "outputs": [
    {
     "name": "stdout",
     "output_type": "stream",
     "text": [
      "reading from ../../config/spy_30min_v1/features.yaml\n"
     ]
    },
    {
     "data": {
      "text/plain": [
       "dict_keys(['dependent_variable', 'feature_store'])"
      ]
     },
     "execution_count": 9,
     "metadata": {},
     "output_type": "execute_result"
    }
   ],
   "source": [
    "all_paths_config_loc = '../../config/spy_30min_v1/features.yaml'\n",
    "all_paths_config = load_yaml(all_paths_config_loc)\n",
    "all_paths_config.keys()"
   ]
  },
  {
   "cell_type": "code",
   "execution_count": 10,
   "id": "b9689d5e-5ed2-4e29-85c1-4ffb8f0e320c",
   "metadata": {
    "tags": []
   },
   "outputs": [
    {
     "data": {
      "text/plain": [
       "dict_keys(['stock_bars_1min_base', 'stock_bars_1min_base_macd', 'stock_bars_1min_base_other_features', 'stock_bars_1min_base_rsi', 'stock_bars_1min_diff', 'stock_bars_1min_diff_macd', 'stock_bars_1min_diff_other_features', 'stock_bars_1min_diff_rsi'])"
      ]
     },
     "execution_count": 10,
     "metadata": {},
     "output_type": "execute_result"
    }
   ],
   "source": [
    "all_paths_config['feature_store']['1min'].keys()"
   ]
  },
  {
   "cell_type": "code",
   "execution_count": 11,
   "id": "329d8613-600b-430c-8054-53bb3c93d5ca",
   "metadata": {
    "tags": []
   },
   "outputs": [],
   "source": [
    "def get_paths_and_cols(all_paths_config, dur='1min', file='stock_bars_1min_base', config_loc='feature_store', ):\n",
    "    try:\n",
    "        cols = eval(all_paths_config[config_loc][dur][file]['cols']) # stock_bars_1min_base_macd\n",
    "    except:\n",
    "        cols = all_paths_config[config_loc][dur][file]['cols']\n",
    "    path = all_paths_config[config_loc][dur][file]['path']\n",
    "    return cols, path"
   ]
  },
  {
   "cell_type": "markdown",
   "id": "e4a71f9e-eaf3-4622-b7bd-b515553d463d",
   "metadata": {
    "tags": []
   },
   "source": [
    "#### loading one min data"
   ]
  },
  {
   "cell_type": "code",
   "execution_count": 12,
   "id": "5ae0e811-9cf2-475f-ba22-1486eda5635d",
   "metadata": {
    "tags": []
   },
   "outputs": [],
   "source": [
    "cols, path = get_paths_and_cols(all_paths_config, dur='1min', file='stock_bars_1min_diff', config_loc='feature_store', )\n",
    "# path, len(cols)"
   ]
  },
  {
   "cell_type": "code",
   "execution_count": 13,
   "id": "4f6687d4-a8db-4bb8-bd46-8ad4a540ad91",
   "metadata": {
    "tags": []
   },
   "outputs": [
    {
     "data": {
      "text/html": [
       "<div>\n",
       "<style scoped>\n",
       "    .dataframe tbody tr th:only-of-type {\n",
       "        vertical-align: middle;\n",
       "    }\n",
       "\n",
       "    .dataframe tbody tr th {\n",
       "        vertical-align: top;\n",
       "    }\n",
       "\n",
       "    .dataframe thead th {\n",
       "        text-align: right;\n",
       "    }\n",
       "</style>\n",
       "<table border=\"1\" class=\"dataframe\">\n",
       "  <thead>\n",
       "    <tr style=\"text-align: right;\">\n",
       "      <th></th>\n",
       "      <th>open_diff</th>\n",
       "      <th>high_diff</th>\n",
       "      <th>low_diff</th>\n",
       "      <th>close_diff</th>\n",
       "      <th>volume_diff</th>\n",
       "      <th>symbol</th>\n",
       "      <th>time_delta</th>\n",
       "      <th>open_diff_ema_2m</th>\n",
       "      <th>open_diff_sma_2m</th>\n",
       "      <th>high_diff_ema_2m</th>\n",
       "      <th>...</th>\n",
       "      <th>open_diff_ema_26m</th>\n",
       "      <th>open_diff_sma_26m</th>\n",
       "      <th>high_diff_ema_26m</th>\n",
       "      <th>high_diff_sma_26m</th>\n",
       "      <th>low_diff_ema_26m</th>\n",
       "      <th>low_diff_sma_26m</th>\n",
       "      <th>close_diff_ema_26m</th>\n",
       "      <th>close_diff_sma_26m</th>\n",
       "      <th>volume_diff_ema_26m</th>\n",
       "      <th>volume_diff_sma_26m</th>\n",
       "    </tr>\n",
       "    <tr>\n",
       "      <th>us_eastern_timestamp</th>\n",
       "      <th></th>\n",
       "      <th></th>\n",
       "      <th></th>\n",
       "      <th></th>\n",
       "      <th></th>\n",
       "      <th></th>\n",
       "      <th></th>\n",
       "      <th></th>\n",
       "      <th></th>\n",
       "      <th></th>\n",
       "      <th></th>\n",
       "      <th></th>\n",
       "      <th></th>\n",
       "      <th></th>\n",
       "      <th></th>\n",
       "      <th></th>\n",
       "      <th></th>\n",
       "      <th></th>\n",
       "      <th></th>\n",
       "      <th></th>\n",
       "      <th></th>\n",
       "    </tr>\n",
       "  </thead>\n",
       "  <tbody>\n",
       "    <tr>\n",
       "      <th>2024-01-02 04:00:00</th>\n",
       "      <td>NaN</td>\n",
       "      <td>NaN</td>\n",
       "      <td>NaN</td>\n",
       "      <td>NaN</td>\n",
       "      <td>NaN</td>\n",
       "      <td>SPY</td>\n",
       "      <td>NaN</td>\n",
       "      <td>NaN</td>\n",
       "      <td>NaN</td>\n",
       "      <td>NaN</td>\n",
       "      <td>...</td>\n",
       "      <td>NaN</td>\n",
       "      <td>NaN</td>\n",
       "      <td>NaN</td>\n",
       "      <td>NaN</td>\n",
       "      <td>NaN</td>\n",
       "      <td>NaN</td>\n",
       "      <td>NaN</td>\n",
       "      <td>NaN</td>\n",
       "      <td>NaN</td>\n",
       "      <td>NaN</td>\n",
       "    </tr>\n",
       "    <tr>\n",
       "      <th>2024-01-02 04:01:00</th>\n",
       "      <td>0.09</td>\n",
       "      <td>-0.02</td>\n",
       "      <td>0.29</td>\n",
       "      <td>-0.02</td>\n",
       "      <td>-14091.0</td>\n",
       "      <td>SPY</td>\n",
       "      <td>NaN</td>\n",
       "      <td>0.090000</td>\n",
       "      <td>NaN</td>\n",
       "      <td>-0.020000</td>\n",
       "      <td>...</td>\n",
       "      <td>0.090000</td>\n",
       "      <td>NaN</td>\n",
       "      <td>-0.020000</td>\n",
       "      <td>NaN</td>\n",
       "      <td>0.290000</td>\n",
       "      <td>NaN</td>\n",
       "      <td>-0.020000</td>\n",
       "      <td>NaN</td>\n",
       "      <td>-14091.000000</td>\n",
       "      <td>NaN</td>\n",
       "    </tr>\n",
       "    <tr>\n",
       "      <th>2024-01-02 04:02:00</th>\n",
       "      <td>-0.05</td>\n",
       "      <td>-0.05</td>\n",
       "      <td>-0.01</td>\n",
       "      <td>-0.01</td>\n",
       "      <td>-217.0</td>\n",
       "      <td>SPY</td>\n",
       "      <td>NaN</td>\n",
       "      <td>-0.003333</td>\n",
       "      <td>0.020</td>\n",
       "      <td>-0.040000</td>\n",
       "      <td>...</td>\n",
       "      <td>0.079630</td>\n",
       "      <td>NaN</td>\n",
       "      <td>-0.022222</td>\n",
       "      <td>NaN</td>\n",
       "      <td>0.267778</td>\n",
       "      <td>NaN</td>\n",
       "      <td>-0.019259</td>\n",
       "      <td>NaN</td>\n",
       "      <td>-13063.296296</td>\n",
       "      <td>NaN</td>\n",
       "    </tr>\n",
       "    <tr>\n",
       "      <th>2024-01-02 04:03:00</th>\n",
       "      <td>-0.02</td>\n",
       "      <td>-0.02</td>\n",
       "      <td>-0.01</td>\n",
       "      <td>-0.01</td>\n",
       "      <td>-5783.0</td>\n",
       "      <td>SPY</td>\n",
       "      <td>NaN</td>\n",
       "      <td>-0.014444</td>\n",
       "      <td>-0.035</td>\n",
       "      <td>-0.026667</td>\n",
       "      <td>...</td>\n",
       "      <td>0.072250</td>\n",
       "      <td>NaN</td>\n",
       "      <td>-0.022058</td>\n",
       "      <td>NaN</td>\n",
       "      <td>0.247202</td>\n",
       "      <td>NaN</td>\n",
       "      <td>-0.018573</td>\n",
       "      <td>NaN</td>\n",
       "      <td>-12524.015089</td>\n",
       "      <td>NaN</td>\n",
       "    </tr>\n",
       "    <tr>\n",
       "      <th>2024-01-02 04:04:00</th>\n",
       "      <td>0.00</td>\n",
       "      <td>0.00</td>\n",
       "      <td>0.00</td>\n",
       "      <td>0.00</td>\n",
       "      <td>0.0</td>\n",
       "      <td>SPY</td>\n",
       "      <td>NaN</td>\n",
       "      <td>-0.004815</td>\n",
       "      <td>-0.010</td>\n",
       "      <td>-0.008889</td>\n",
       "      <td>...</td>\n",
       "      <td>0.066898</td>\n",
       "      <td>NaN</td>\n",
       "      <td>-0.020424</td>\n",
       "      <td>NaN</td>\n",
       "      <td>0.228890</td>\n",
       "      <td>NaN</td>\n",
       "      <td>-0.017198</td>\n",
       "      <td>NaN</td>\n",
       "      <td>-11596.310268</td>\n",
       "      <td>NaN</td>\n",
       "    </tr>\n",
       "  </tbody>\n",
       "</table>\n",
       "<p>5 rows × 87 columns</p>\n",
       "</div>"
      ],
      "text/plain": [
       "                      open_diff  high_diff  low_diff  close_diff  volume_diff  \\\n",
       "us_eastern_timestamp                                                            \n",
       "2024-01-02 04:00:00         NaN        NaN       NaN         NaN          NaN   \n",
       "2024-01-02 04:01:00        0.09      -0.02      0.29       -0.02     -14091.0   \n",
       "2024-01-02 04:02:00       -0.05      -0.05     -0.01       -0.01       -217.0   \n",
       "2024-01-02 04:03:00       -0.02      -0.02     -0.01       -0.01      -5783.0   \n",
       "2024-01-02 04:04:00        0.00       0.00      0.00        0.00          0.0   \n",
       "\n",
       "                     symbol  time_delta  open_diff_ema_2m  open_diff_sma_2m  \\\n",
       "us_eastern_timestamp                                                          \n",
       "2024-01-02 04:00:00     SPY         NaN               NaN               NaN   \n",
       "2024-01-02 04:01:00     SPY         NaN          0.090000               NaN   \n",
       "2024-01-02 04:02:00     SPY         NaN         -0.003333             0.020   \n",
       "2024-01-02 04:03:00     SPY         NaN         -0.014444            -0.035   \n",
       "2024-01-02 04:04:00     SPY         NaN         -0.004815            -0.010   \n",
       "\n",
       "                      high_diff_ema_2m  ...  open_diff_ema_26m  \\\n",
       "us_eastern_timestamp                    ...                      \n",
       "2024-01-02 04:00:00                NaN  ...                NaN   \n",
       "2024-01-02 04:01:00          -0.020000  ...           0.090000   \n",
       "2024-01-02 04:02:00          -0.040000  ...           0.079630   \n",
       "2024-01-02 04:03:00          -0.026667  ...           0.072250   \n",
       "2024-01-02 04:04:00          -0.008889  ...           0.066898   \n",
       "\n",
       "                      open_diff_sma_26m  high_diff_ema_26m  high_diff_sma_26m  \\\n",
       "us_eastern_timestamp                                                            \n",
       "2024-01-02 04:00:00                 NaN                NaN                NaN   \n",
       "2024-01-02 04:01:00                 NaN          -0.020000                NaN   \n",
       "2024-01-02 04:02:00                 NaN          -0.022222                NaN   \n",
       "2024-01-02 04:03:00                 NaN          -0.022058                NaN   \n",
       "2024-01-02 04:04:00                 NaN          -0.020424                NaN   \n",
       "\n",
       "                      low_diff_ema_26m  low_diff_sma_26m  close_diff_ema_26m  \\\n",
       "us_eastern_timestamp                                                           \n",
       "2024-01-02 04:00:00                NaN               NaN                 NaN   \n",
       "2024-01-02 04:01:00           0.290000               NaN           -0.020000   \n",
       "2024-01-02 04:02:00           0.267778               NaN           -0.019259   \n",
       "2024-01-02 04:03:00           0.247202               NaN           -0.018573   \n",
       "2024-01-02 04:04:00           0.228890               NaN           -0.017198   \n",
       "\n",
       "                      close_diff_sma_26m  volume_diff_ema_26m  \\\n",
       "us_eastern_timestamp                                            \n",
       "2024-01-02 04:00:00                  NaN                  NaN   \n",
       "2024-01-02 04:01:00                  NaN        -14091.000000   \n",
       "2024-01-02 04:02:00                  NaN        -13063.296296   \n",
       "2024-01-02 04:03:00                  NaN        -12524.015089   \n",
       "2024-01-02 04:04:00                  NaN        -11596.310268   \n",
       "\n",
       "                      volume_diff_sma_26m  \n",
       "us_eastern_timestamp                       \n",
       "2024-01-02 04:00:00                   NaN  \n",
       "2024-01-02 04:01:00                   NaN  \n",
       "2024-01-02 04:02:00                   NaN  \n",
       "2024-01-02 04:03:00                   NaN  \n",
       "2024-01-02 04:04:00                   NaN  \n",
       "\n",
       "[5 rows x 87 columns]"
      ]
     },
     "execution_count": 13,
     "metadata": {},
     "output_type": "execute_result"
    }
   ],
   "source": [
    "one_min_df = pq.read_pandas(path,).to_pandas() # pq.read_pandas('example.parquet', columns=['two']).to_pandas()\n",
    "one_min_df = one_min_df[one_min_df.symbol=='SPY']\n",
    "one_min_df.head()\n",
    "# df = ds.dataset(path).scanner().head(1).to_pandas()"
   ]
  },
  {
   "cell_type": "code",
   "execution_count": 14,
   "id": "fe5b0f32-cb3d-48a6-8983-f3baf6f65ee3",
   "metadata": {
    "tags": []
   },
   "outputs": [
    {
     "data": {
      "text/plain": [
       "(214794, 87)"
      ]
     },
     "execution_count": 14,
     "metadata": {},
     "output_type": "execute_result"
    }
   ],
   "source": [
    "one_min_df.shape"
   ]
  },
  {
   "cell_type": "markdown",
   "id": "6f89e752-cf60-4df1-a88d-97f7636ac2b3",
   "metadata": {},
   "source": [
    "#### other features"
   ]
  },
  {
   "cell_type": "code",
   "execution_count": 15,
   "id": "790e93b3-a52b-4694-a596-f61a000f23a9",
   "metadata": {
    "tags": []
   },
   "outputs": [],
   "source": [
    "cols, path = get_paths_and_cols(all_paths_config, dur='1min', file='stock_bars_1min_base_other_features', config_loc='feature_store', )\n",
    "# path, len(cols)"
   ]
  },
  {
   "cell_type": "code",
   "execution_count": 16,
   "id": "13610f96-28fe-4f3a-908d-d78213321290",
   "metadata": {
    "tags": []
   },
   "outputs": [],
   "source": [
    "cols = [x for x in cols if 'ema' not in x and 'sma' not in x and x not in ['us_eastern_timestamp']]#, 'open', 'high', 'low', 'close', 'volume',]]\n",
    "# len(cols), cols"
   ]
  },
  {
   "cell_type": "code",
   "execution_count": 17,
   "id": "69be58f2-2af2-4fd2-af04-6676194e16fe",
   "metadata": {
    "tags": []
   },
   "outputs": [
    {
     "data": {
      "text/html": [
       "<div>\n",
       "<style scoped>\n",
       "    .dataframe tbody tr th:only-of-type {\n",
       "        vertical-align: middle;\n",
       "    }\n",
       "\n",
       "    .dataframe tbody tr th {\n",
       "        vertical-align: top;\n",
       "    }\n",
       "\n",
       "    .dataframe thead th {\n",
       "        text-align: right;\n",
       "    }\n",
       "</style>\n",
       "<table border=\"1\" class=\"dataframe\">\n",
       "  <thead>\n",
       "    <tr style=\"text-align: right;\">\n",
       "      <th></th>\n",
       "      <th>open</th>\n",
       "      <th>high</th>\n",
       "      <th>low</th>\n",
       "      <th>close</th>\n",
       "      <th>volume</th>\n",
       "      <th>open_lag_1</th>\n",
       "      <th>high_lag_1</th>\n",
       "      <th>low_lag_1</th>\n",
       "      <th>close_lag_1</th>\n",
       "      <th>open_lag_2</th>\n",
       "      <th>...</th>\n",
       "      <th>local_max_30</th>\n",
       "      <th>local_min_30</th>\n",
       "      <th>cumulative_local_max_30</th>\n",
       "      <th>cumulative_local_min_30</th>\n",
       "      <th>time_since_prev_max_30</th>\n",
       "      <th>time_since_prev_min_30</th>\n",
       "      <th>max_today</th>\n",
       "      <th>min_today</th>\n",
       "      <th>max_today_session</th>\n",
       "      <th>min_today_session</th>\n",
       "    </tr>\n",
       "    <tr>\n",
       "      <th>us_eastern_timestamp</th>\n",
       "      <th></th>\n",
       "      <th></th>\n",
       "      <th></th>\n",
       "      <th></th>\n",
       "      <th></th>\n",
       "      <th></th>\n",
       "      <th></th>\n",
       "      <th></th>\n",
       "      <th></th>\n",
       "      <th></th>\n",
       "      <th></th>\n",
       "      <th></th>\n",
       "      <th></th>\n",
       "      <th></th>\n",
       "      <th></th>\n",
       "      <th></th>\n",
       "      <th></th>\n",
       "      <th></th>\n",
       "      <th></th>\n",
       "      <th></th>\n",
       "      <th></th>\n",
       "    </tr>\n",
       "  </thead>\n",
       "  <tbody>\n",
       "    <tr>\n",
       "      <th>2024-01-02 04:00:00</th>\n",
       "      <td>476.25</td>\n",
       "      <td>476.36</td>\n",
       "      <td>476.00</td>\n",
       "      <td>476.31</td>\n",
       "      <td>20460.0</td>\n",
       "      <td>NaN</td>\n",
       "      <td>NaN</td>\n",
       "      <td>NaN</td>\n",
       "      <td>NaN</td>\n",
       "      <td>NaN</td>\n",
       "      <td>...</td>\n",
       "      <td>False</td>\n",
       "      <td>False</td>\n",
       "      <td>0</td>\n",
       "      <td>0</td>\n",
       "      <td>0</td>\n",
       "      <td>0</td>\n",
       "      <td>476.36</td>\n",
       "      <td>476.0</td>\n",
       "      <td>476.36</td>\n",
       "      <td>476.0</td>\n",
       "    </tr>\n",
       "    <tr>\n",
       "      <th>2024-01-02 04:01:00</th>\n",
       "      <td>476.34</td>\n",
       "      <td>476.34</td>\n",
       "      <td>476.29</td>\n",
       "      <td>476.29</td>\n",
       "      <td>6369.0</td>\n",
       "      <td>476.25</td>\n",
       "      <td>476.36</td>\n",
       "      <td>476.00</td>\n",
       "      <td>476.31</td>\n",
       "      <td>NaN</td>\n",
       "      <td>...</td>\n",
       "      <td>False</td>\n",
       "      <td>False</td>\n",
       "      <td>0</td>\n",
       "      <td>0</td>\n",
       "      <td>1</td>\n",
       "      <td>1</td>\n",
       "      <td>476.36</td>\n",
       "      <td>476.0</td>\n",
       "      <td>476.36</td>\n",
       "      <td>476.0</td>\n",
       "    </tr>\n",
       "    <tr>\n",
       "      <th>2024-01-02 04:02:00</th>\n",
       "      <td>476.29</td>\n",
       "      <td>476.29</td>\n",
       "      <td>476.28</td>\n",
       "      <td>476.28</td>\n",
       "      <td>6152.0</td>\n",
       "      <td>476.34</td>\n",
       "      <td>476.34</td>\n",
       "      <td>476.29</td>\n",
       "      <td>476.29</td>\n",
       "      <td>476.25</td>\n",
       "      <td>...</td>\n",
       "      <td>False</td>\n",
       "      <td>False</td>\n",
       "      <td>0</td>\n",
       "      <td>0</td>\n",
       "      <td>2</td>\n",
       "      <td>2</td>\n",
       "      <td>476.36</td>\n",
       "      <td>476.0</td>\n",
       "      <td>476.36</td>\n",
       "      <td>476.0</td>\n",
       "    </tr>\n",
       "    <tr>\n",
       "      <th>2024-01-02 04:03:00</th>\n",
       "      <td>476.27</td>\n",
       "      <td>476.27</td>\n",
       "      <td>476.27</td>\n",
       "      <td>476.27</td>\n",
       "      <td>369.0</td>\n",
       "      <td>476.29</td>\n",
       "      <td>476.29</td>\n",
       "      <td>476.28</td>\n",
       "      <td>476.28</td>\n",
       "      <td>476.34</td>\n",
       "      <td>...</td>\n",
       "      <td>False</td>\n",
       "      <td>False</td>\n",
       "      <td>0</td>\n",
       "      <td>0</td>\n",
       "      <td>3</td>\n",
       "      <td>3</td>\n",
       "      <td>476.36</td>\n",
       "      <td>476.0</td>\n",
       "      <td>476.36</td>\n",
       "      <td>476.0</td>\n",
       "    </tr>\n",
       "    <tr>\n",
       "      <th>2024-01-02 04:04:00</th>\n",
       "      <td>476.27</td>\n",
       "      <td>476.27</td>\n",
       "      <td>476.27</td>\n",
       "      <td>476.27</td>\n",
       "      <td>369.0</td>\n",
       "      <td>476.27</td>\n",
       "      <td>476.27</td>\n",
       "      <td>476.27</td>\n",
       "      <td>476.27</td>\n",
       "      <td>476.29</td>\n",
       "      <td>...</td>\n",
       "      <td>False</td>\n",
       "      <td>False</td>\n",
       "      <td>0</td>\n",
       "      <td>0</td>\n",
       "      <td>4</td>\n",
       "      <td>4</td>\n",
       "      <td>476.36</td>\n",
       "      <td>476.0</td>\n",
       "      <td>476.36</td>\n",
       "      <td>476.0</td>\n",
       "    </tr>\n",
       "  </tbody>\n",
       "</table>\n",
       "<p>5 rows × 105 columns</p>\n",
       "</div>"
      ],
      "text/plain": [
       "                        open    high     low   close   volume  open_lag_1  \\\n",
       "us_eastern_timestamp                                                        \n",
       "2024-01-02 04:00:00   476.25  476.36  476.00  476.31  20460.0         NaN   \n",
       "2024-01-02 04:01:00   476.34  476.34  476.29  476.29   6369.0      476.25   \n",
       "2024-01-02 04:02:00   476.29  476.29  476.28  476.28   6152.0      476.34   \n",
       "2024-01-02 04:03:00   476.27  476.27  476.27  476.27    369.0      476.29   \n",
       "2024-01-02 04:04:00   476.27  476.27  476.27  476.27    369.0      476.27   \n",
       "\n",
       "                      high_lag_1  low_lag_1  close_lag_1  open_lag_2  ...  \\\n",
       "us_eastern_timestamp                                                  ...   \n",
       "2024-01-02 04:00:00          NaN        NaN          NaN         NaN  ...   \n",
       "2024-01-02 04:01:00       476.36     476.00       476.31         NaN  ...   \n",
       "2024-01-02 04:02:00       476.34     476.29       476.29      476.25  ...   \n",
       "2024-01-02 04:03:00       476.29     476.28       476.28      476.34  ...   \n",
       "2024-01-02 04:04:00       476.27     476.27       476.27      476.29  ...   \n",
       "\n",
       "                      local_max_30  local_min_30  cumulative_local_max_30  \\\n",
       "us_eastern_timestamp                                                        \n",
       "2024-01-02 04:00:00          False         False                        0   \n",
       "2024-01-02 04:01:00          False         False                        0   \n",
       "2024-01-02 04:02:00          False         False                        0   \n",
       "2024-01-02 04:03:00          False         False                        0   \n",
       "2024-01-02 04:04:00          False         False                        0   \n",
       "\n",
       "                      cumulative_local_min_30  time_since_prev_max_30  \\\n",
       "us_eastern_timestamp                                                    \n",
       "2024-01-02 04:00:00                         0                       0   \n",
       "2024-01-02 04:01:00                         0                       1   \n",
       "2024-01-02 04:02:00                         0                       2   \n",
       "2024-01-02 04:03:00                         0                       3   \n",
       "2024-01-02 04:04:00                         0                       4   \n",
       "\n",
       "                      time_since_prev_min_30  max_today  min_today  \\\n",
       "us_eastern_timestamp                                                 \n",
       "2024-01-02 04:00:00                        0     476.36      476.0   \n",
       "2024-01-02 04:01:00                        1     476.36      476.0   \n",
       "2024-01-02 04:02:00                        2     476.36      476.0   \n",
       "2024-01-02 04:03:00                        3     476.36      476.0   \n",
       "2024-01-02 04:04:00                        4     476.36      476.0   \n",
       "\n",
       "                      max_today_session  min_today_session  \n",
       "us_eastern_timestamp                                        \n",
       "2024-01-02 04:00:00              476.36              476.0  \n",
       "2024-01-02 04:01:00              476.36              476.0  \n",
       "2024-01-02 04:02:00              476.36              476.0  \n",
       "2024-01-02 04:03:00              476.36              476.0  \n",
       "2024-01-02 04:04:00              476.36              476.0  \n",
       "\n",
       "[5 rows x 105 columns]"
      ]
     },
     "execution_count": 17,
     "metadata": {},
     "output_type": "execute_result"
    }
   ],
   "source": [
    "other_features = pq.read_pandas(path, columns=cols).to_pandas() # pq.read_pandas('example.parquet', columns=['two']).to_pandas()\n",
    "other_features.head()"
   ]
  },
  {
   "cell_type": "code",
   "execution_count": 18,
   "id": "763435d8-4eec-464f-8b13-04c0857afb69",
   "metadata": {
    "tags": []
   },
   "outputs": [
    {
     "data": {
      "text/plain": [
       "True"
      ]
     },
     "execution_count": 18,
     "metadata": {},
     "output_type": "execute_result"
    }
   ],
   "source": [
    "one_min_df.shape[0]==other_features.shape[0]"
   ]
  },
  {
   "cell_type": "code",
   "execution_count": 19,
   "id": "08647f9a-a4f8-4c08-8d82-bd27fbd1ccc3",
   "metadata": {
    "tags": []
   },
   "outputs": [],
   "source": [
    "one_min_df = pd.concat([one_min_df, other_features], axis=1, )"
   ]
  },
  {
   "cell_type": "code",
   "execution_count": 20,
   "id": "b6f57937-f708-4ee8-bb5e-688902df91de",
   "metadata": {
    "tags": []
   },
   "outputs": [
    {
     "data": {
      "text/plain": [
       "((214794, 192), (214794, 105))"
      ]
     },
     "execution_count": 20,
     "metadata": {},
     "output_type": "execute_result"
    }
   ],
   "source": [
    "one_min_df.shape, other_features.shape"
   ]
  },
  {
   "cell_type": "code",
   "execution_count": 21,
   "id": "10dd14ae-6f01-4665-99e5-45709bf48c63",
   "metadata": {
    "tags": []
   },
   "outputs": [
    {
     "data": {
      "text/html": [
       "<div>\n",
       "<style scoped>\n",
       "    .dataframe tbody tr th:only-of-type {\n",
       "        vertical-align: middle;\n",
       "    }\n",
       "\n",
       "    .dataframe tbody tr th {\n",
       "        vertical-align: top;\n",
       "    }\n",
       "\n",
       "    .dataframe thead th {\n",
       "        text-align: right;\n",
       "    }\n",
       "</style>\n",
       "<table border=\"1\" class=\"dataframe\">\n",
       "  <thead>\n",
       "    <tr style=\"text-align: right;\">\n",
       "      <th></th>\n",
       "      <th>open_diff</th>\n",
       "      <th>high_diff</th>\n",
       "      <th>low_diff</th>\n",
       "      <th>close_diff</th>\n",
       "      <th>volume_diff</th>\n",
       "      <th>symbol</th>\n",
       "      <th>time_delta</th>\n",
       "      <th>open_diff_ema_2m</th>\n",
       "      <th>open_diff_sma_2m</th>\n",
       "      <th>high_diff_ema_2m</th>\n",
       "      <th>...</th>\n",
       "      <th>local_max_30</th>\n",
       "      <th>local_min_30</th>\n",
       "      <th>cumulative_local_max_30</th>\n",
       "      <th>cumulative_local_min_30</th>\n",
       "      <th>time_since_prev_max_30</th>\n",
       "      <th>time_since_prev_min_30</th>\n",
       "      <th>max_today</th>\n",
       "      <th>min_today</th>\n",
       "      <th>max_today_session</th>\n",
       "      <th>min_today_session</th>\n",
       "    </tr>\n",
       "    <tr>\n",
       "      <th>us_eastern_timestamp</th>\n",
       "      <th></th>\n",
       "      <th></th>\n",
       "      <th></th>\n",
       "      <th></th>\n",
       "      <th></th>\n",
       "      <th></th>\n",
       "      <th></th>\n",
       "      <th></th>\n",
       "      <th></th>\n",
       "      <th></th>\n",
       "      <th></th>\n",
       "      <th></th>\n",
       "      <th></th>\n",
       "      <th></th>\n",
       "      <th></th>\n",
       "      <th></th>\n",
       "      <th></th>\n",
       "      <th></th>\n",
       "      <th></th>\n",
       "      <th></th>\n",
       "      <th></th>\n",
       "    </tr>\n",
       "  </thead>\n",
       "  <tbody>\n",
       "    <tr>\n",
       "      <th>2024-01-02 04:00:00</th>\n",
       "      <td>NaN</td>\n",
       "      <td>NaN</td>\n",
       "      <td>NaN</td>\n",
       "      <td>NaN</td>\n",
       "      <td>NaN</td>\n",
       "      <td>SPY</td>\n",
       "      <td>NaN</td>\n",
       "      <td>NaN</td>\n",
       "      <td>NaN</td>\n",
       "      <td>NaN</td>\n",
       "      <td>...</td>\n",
       "      <td>False</td>\n",
       "      <td>False</td>\n",
       "      <td>0</td>\n",
       "      <td>0</td>\n",
       "      <td>0</td>\n",
       "      <td>0</td>\n",
       "      <td>476.36</td>\n",
       "      <td>476.0</td>\n",
       "      <td>476.36</td>\n",
       "      <td>476.0</td>\n",
       "    </tr>\n",
       "    <tr>\n",
       "      <th>2024-01-02 04:01:00</th>\n",
       "      <td>0.09</td>\n",
       "      <td>-0.02</td>\n",
       "      <td>0.29</td>\n",
       "      <td>-0.02</td>\n",
       "      <td>-14091.0</td>\n",
       "      <td>SPY</td>\n",
       "      <td>NaN</td>\n",
       "      <td>0.090000</td>\n",
       "      <td>NaN</td>\n",
       "      <td>-0.020000</td>\n",
       "      <td>...</td>\n",
       "      <td>False</td>\n",
       "      <td>False</td>\n",
       "      <td>0</td>\n",
       "      <td>0</td>\n",
       "      <td>1</td>\n",
       "      <td>1</td>\n",
       "      <td>476.36</td>\n",
       "      <td>476.0</td>\n",
       "      <td>476.36</td>\n",
       "      <td>476.0</td>\n",
       "    </tr>\n",
       "    <tr>\n",
       "      <th>2024-01-02 04:02:00</th>\n",
       "      <td>-0.05</td>\n",
       "      <td>-0.05</td>\n",
       "      <td>-0.01</td>\n",
       "      <td>-0.01</td>\n",
       "      <td>-217.0</td>\n",
       "      <td>SPY</td>\n",
       "      <td>NaN</td>\n",
       "      <td>-0.003333</td>\n",
       "      <td>0.020</td>\n",
       "      <td>-0.040000</td>\n",
       "      <td>...</td>\n",
       "      <td>False</td>\n",
       "      <td>False</td>\n",
       "      <td>0</td>\n",
       "      <td>0</td>\n",
       "      <td>2</td>\n",
       "      <td>2</td>\n",
       "      <td>476.36</td>\n",
       "      <td>476.0</td>\n",
       "      <td>476.36</td>\n",
       "      <td>476.0</td>\n",
       "    </tr>\n",
       "    <tr>\n",
       "      <th>2024-01-02 04:03:00</th>\n",
       "      <td>-0.02</td>\n",
       "      <td>-0.02</td>\n",
       "      <td>-0.01</td>\n",
       "      <td>-0.01</td>\n",
       "      <td>-5783.0</td>\n",
       "      <td>SPY</td>\n",
       "      <td>NaN</td>\n",
       "      <td>-0.014444</td>\n",
       "      <td>-0.035</td>\n",
       "      <td>-0.026667</td>\n",
       "      <td>...</td>\n",
       "      <td>False</td>\n",
       "      <td>False</td>\n",
       "      <td>0</td>\n",
       "      <td>0</td>\n",
       "      <td>3</td>\n",
       "      <td>3</td>\n",
       "      <td>476.36</td>\n",
       "      <td>476.0</td>\n",
       "      <td>476.36</td>\n",
       "      <td>476.0</td>\n",
       "    </tr>\n",
       "    <tr>\n",
       "      <th>2024-01-02 04:04:00</th>\n",
       "      <td>0.00</td>\n",
       "      <td>0.00</td>\n",
       "      <td>0.00</td>\n",
       "      <td>0.00</td>\n",
       "      <td>0.0</td>\n",
       "      <td>SPY</td>\n",
       "      <td>NaN</td>\n",
       "      <td>-0.004815</td>\n",
       "      <td>-0.010</td>\n",
       "      <td>-0.008889</td>\n",
       "      <td>...</td>\n",
       "      <td>False</td>\n",
       "      <td>False</td>\n",
       "      <td>0</td>\n",
       "      <td>0</td>\n",
       "      <td>4</td>\n",
       "      <td>4</td>\n",
       "      <td>476.36</td>\n",
       "      <td>476.0</td>\n",
       "      <td>476.36</td>\n",
       "      <td>476.0</td>\n",
       "    </tr>\n",
       "  </tbody>\n",
       "</table>\n",
       "<p>5 rows × 192 columns</p>\n",
       "</div>"
      ],
      "text/plain": [
       "                      open_diff  high_diff  low_diff  close_diff  volume_diff  \\\n",
       "us_eastern_timestamp                                                            \n",
       "2024-01-02 04:00:00         NaN        NaN       NaN         NaN          NaN   \n",
       "2024-01-02 04:01:00        0.09      -0.02      0.29       -0.02     -14091.0   \n",
       "2024-01-02 04:02:00       -0.05      -0.05     -0.01       -0.01       -217.0   \n",
       "2024-01-02 04:03:00       -0.02      -0.02     -0.01       -0.01      -5783.0   \n",
       "2024-01-02 04:04:00        0.00       0.00      0.00        0.00          0.0   \n",
       "\n",
       "                     symbol  time_delta  open_diff_ema_2m  open_diff_sma_2m  \\\n",
       "us_eastern_timestamp                                                          \n",
       "2024-01-02 04:00:00     SPY         NaN               NaN               NaN   \n",
       "2024-01-02 04:01:00     SPY         NaN          0.090000               NaN   \n",
       "2024-01-02 04:02:00     SPY         NaN         -0.003333             0.020   \n",
       "2024-01-02 04:03:00     SPY         NaN         -0.014444            -0.035   \n",
       "2024-01-02 04:04:00     SPY         NaN         -0.004815            -0.010   \n",
       "\n",
       "                      high_diff_ema_2m  ...  local_max_30  local_min_30  \\\n",
       "us_eastern_timestamp                    ...                               \n",
       "2024-01-02 04:00:00                NaN  ...         False         False   \n",
       "2024-01-02 04:01:00          -0.020000  ...         False         False   \n",
       "2024-01-02 04:02:00          -0.040000  ...         False         False   \n",
       "2024-01-02 04:03:00          -0.026667  ...         False         False   \n",
       "2024-01-02 04:04:00          -0.008889  ...         False         False   \n",
       "\n",
       "                      cumulative_local_max_30  cumulative_local_min_30  \\\n",
       "us_eastern_timestamp                                                     \n",
       "2024-01-02 04:00:00                         0                        0   \n",
       "2024-01-02 04:01:00                         0                        0   \n",
       "2024-01-02 04:02:00                         0                        0   \n",
       "2024-01-02 04:03:00                         0                        0   \n",
       "2024-01-02 04:04:00                         0                        0   \n",
       "\n",
       "                      time_since_prev_max_30  time_since_prev_min_30  \\\n",
       "us_eastern_timestamp                                                   \n",
       "2024-01-02 04:00:00                        0                       0   \n",
       "2024-01-02 04:01:00                        1                       1   \n",
       "2024-01-02 04:02:00                        2                       2   \n",
       "2024-01-02 04:03:00                        3                       3   \n",
       "2024-01-02 04:04:00                        4                       4   \n",
       "\n",
       "                      max_today  min_today  max_today_session  \\\n",
       "us_eastern_timestamp                                            \n",
       "2024-01-02 04:00:00      476.36      476.0             476.36   \n",
       "2024-01-02 04:01:00      476.36      476.0             476.36   \n",
       "2024-01-02 04:02:00      476.36      476.0             476.36   \n",
       "2024-01-02 04:03:00      476.36      476.0             476.36   \n",
       "2024-01-02 04:04:00      476.36      476.0             476.36   \n",
       "\n",
       "                      min_today_session  \n",
       "us_eastern_timestamp                     \n",
       "2024-01-02 04:00:00               476.0  \n",
       "2024-01-02 04:01:00               476.0  \n",
       "2024-01-02 04:02:00               476.0  \n",
       "2024-01-02 04:03:00               476.0  \n",
       "2024-01-02 04:04:00               476.0  \n",
       "\n",
       "[5 rows x 192 columns]"
      ]
     },
     "execution_count": 21,
     "metadata": {},
     "output_type": "execute_result"
    }
   ],
   "source": [
    "one_min_df.head()"
   ]
  },
  {
   "cell_type": "markdown",
   "id": "341a9977-28e2-4e84-a493-d0462538f2f6",
   "metadata": {
    "tags": []
   },
   "source": [
    "### dependent_variable"
   ]
  },
  {
   "cell_type": "code",
   "execution_count": 22,
   "id": "01fa26e9-84fc-417f-8f87-d2d4b550b385",
   "metadata": {
    "tags": []
   },
   "outputs": [
    {
     "data": {
      "text/plain": [
       "('s3://sisyphus-general-bucket/AthenaInsights/latest_data/dependent_variable/stock_bars_1min.parquet',\n",
       " 9,\n",
       " ['open',\n",
       "  'high',\n",
       "  'low',\n",
       "  'close',\n",
       "  'close_sma_5m',\n",
       "  'category',\n",
       "  'future_highs',\n",
       "  'future_lows',\n",
       "  'slopes'])"
      ]
     },
     "execution_count": 22,
     "metadata": {},
     "output_type": "execute_result"
    }
   ],
   "source": [
    "cols, path = get_paths_and_cols(all_paths_config, dur='1min', file='stock_bars_1min', config_loc='dependent_variable', )\n",
    "path, len(cols), cols"
   ]
  },
  {
   "cell_type": "code",
   "execution_count": 23,
   "id": "5895a0c2-8fd5-494f-8c20-b928584caf6b",
   "metadata": {
    "tags": []
   },
   "outputs": [
    {
     "data": {
      "text/html": [
       "<div>\n",
       "<style scoped>\n",
       "    .dataframe tbody tr th:only-of-type {\n",
       "        vertical-align: middle;\n",
       "    }\n",
       "\n",
       "    .dataframe tbody tr th {\n",
       "        vertical-align: top;\n",
       "    }\n",
       "\n",
       "    .dataframe thead th {\n",
       "        text-align: right;\n",
       "    }\n",
       "</style>\n",
       "<table border=\"1\" class=\"dataframe\">\n",
       "  <thead>\n",
       "    <tr style=\"text-align: right;\">\n",
       "      <th></th>\n",
       "      <th>category</th>\n",
       "    </tr>\n",
       "    <tr>\n",
       "      <th>us_eastern_timestamp</th>\n",
       "      <th></th>\n",
       "    </tr>\n",
       "  </thead>\n",
       "  <tbody>\n",
       "    <tr>\n",
       "      <th>2024-01-02 04:00:00</th>\n",
       "      <td>C</td>\n",
       "    </tr>\n",
       "    <tr>\n",
       "      <th>2024-01-02 04:01:00</th>\n",
       "      <td>C</td>\n",
       "    </tr>\n",
       "    <tr>\n",
       "      <th>2024-01-02 04:02:00</th>\n",
       "      <td>C</td>\n",
       "    </tr>\n",
       "    <tr>\n",
       "      <th>2024-01-02 04:03:00</th>\n",
       "      <td>C</td>\n",
       "    </tr>\n",
       "    <tr>\n",
       "      <th>2024-01-02 04:04:00</th>\n",
       "      <td>C</td>\n",
       "    </tr>\n",
       "  </tbody>\n",
       "</table>\n",
       "</div>"
      ],
      "text/plain": [
       "                     category\n",
       "us_eastern_timestamp         \n",
       "2024-01-02 04:00:00         C\n",
       "2024-01-02 04:01:00         C\n",
       "2024-01-02 04:02:00         C\n",
       "2024-01-02 04:03:00         C\n",
       "2024-01-02 04:04:00         C"
      ]
     },
     "execution_count": 23,
     "metadata": {},
     "output_type": "execute_result"
    }
   ],
   "source": [
    "dependent_var_df = pq.read_pandas(path, columns=['category']).to_pandas() # pq.read_pandas('example.parquet', columns=['two']).to_pandas()\n",
    "dependent_var_df.head()"
   ]
  },
  {
   "cell_type": "code",
   "execution_count": 24,
   "id": "d23c2539-0b4e-4e07-8c2b-d89888440f1b",
   "metadata": {
    "tags": []
   },
   "outputs": [
    {
     "data": {
      "text/plain": [
       "category\n",
       "C    161282\n",
       "A     10399\n",
       "B      8554\n",
       "Name: count, dtype: int64"
      ]
     },
     "execution_count": 24,
     "metadata": {},
     "output_type": "execute_result"
    }
   ],
   "source": [
    "dependent_var_df.loc[:'2024-09-30'].category.value_counts()"
   ]
  },
  {
   "cell_type": "code",
   "execution_count": 25,
   "id": "08f7903c-acd5-4255-889a-a80af72bd642",
   "metadata": {
    "tags": []
   },
   "outputs": [
    {
     "data": {
      "text/plain": [
       "category\n",
       "C    31241\n",
       "A     1962\n",
       "B     1356\n",
       "Name: count, dtype: int64"
      ]
     },
     "execution_count": 25,
     "metadata": {},
     "output_type": "execute_result"
    }
   ],
   "source": [
    "dependent_var_df.loc['2024-10-01':].category.value_counts()"
   ]
  },
  {
   "cell_type": "code",
   "execution_count": 26,
   "id": "fd66c082-012a-47c1-aee7-e99a52507289",
   "metadata": {
    "tags": []
   },
   "outputs": [
    {
     "data": {
      "text/plain": [
       "True"
      ]
     },
     "execution_count": 26,
     "metadata": {},
     "output_type": "execute_result"
    }
   ],
   "source": [
    "one_min_df.shape[0]==dependent_var_df.shape[0]"
   ]
  },
  {
   "cell_type": "markdown",
   "id": "d28ded45-55b1-4870-9daf-36ee7388aaeb",
   "metadata": {
    "tags": []
   },
   "source": [
    "### final dataset"
   ]
  },
  {
   "cell_type": "code",
   "execution_count": null,
   "id": "c271d705-365a-4e3e-ab2b-ec46636b0886",
   "metadata": {
    "tags": []
   },
   "outputs": [],
   "source": []
  },
  {
   "cell_type": "code",
   "execution_count": 27,
   "id": "32ebb416-2008-4b27-a735-720a9af1635b",
   "metadata": {
    "tags": []
   },
   "outputs": [
    {
     "data": {
      "text/html": [
       "<div>\n",
       "<style scoped>\n",
       "    .dataframe tbody tr th:only-of-type {\n",
       "        vertical-align: middle;\n",
       "    }\n",
       "\n",
       "    .dataframe tbody tr th {\n",
       "        vertical-align: top;\n",
       "    }\n",
       "\n",
       "    .dataframe thead th {\n",
       "        text-align: right;\n",
       "    }\n",
       "</style>\n",
       "<table border=\"1\" class=\"dataframe\">\n",
       "  <thead>\n",
       "    <tr style=\"text-align: right;\">\n",
       "      <th></th>\n",
       "      <th>open_diff</th>\n",
       "      <th>high_diff</th>\n",
       "      <th>low_diff</th>\n",
       "      <th>close_diff</th>\n",
       "      <th>volume_diff</th>\n",
       "      <th>time_delta</th>\n",
       "      <th>open_diff_ema_2m</th>\n",
       "      <th>open_diff_sma_2m</th>\n",
       "      <th>high_diff_ema_2m</th>\n",
       "      <th>high_diff_sma_2m</th>\n",
       "      <th>...</th>\n",
       "      <th>local_min_30</th>\n",
       "      <th>cumulative_local_max_30</th>\n",
       "      <th>cumulative_local_min_30</th>\n",
       "      <th>time_since_prev_max_30</th>\n",
       "      <th>time_since_prev_min_30</th>\n",
       "      <th>max_today</th>\n",
       "      <th>min_today</th>\n",
       "      <th>max_today_session</th>\n",
       "      <th>min_today_session</th>\n",
       "      <th>category</th>\n",
       "    </tr>\n",
       "    <tr>\n",
       "      <th>us_eastern_timestamp</th>\n",
       "      <th></th>\n",
       "      <th></th>\n",
       "      <th></th>\n",
       "      <th></th>\n",
       "      <th></th>\n",
       "      <th></th>\n",
       "      <th></th>\n",
       "      <th></th>\n",
       "      <th></th>\n",
       "      <th></th>\n",
       "      <th></th>\n",
       "      <th></th>\n",
       "      <th></th>\n",
       "      <th></th>\n",
       "      <th></th>\n",
       "      <th></th>\n",
       "      <th></th>\n",
       "      <th></th>\n",
       "      <th></th>\n",
       "      <th></th>\n",
       "      <th></th>\n",
       "    </tr>\n",
       "  </thead>\n",
       "  <tbody>\n",
       "    <tr>\n",
       "      <th>2024-01-02 04:00:00</th>\n",
       "      <td>NaN</td>\n",
       "      <td>NaN</td>\n",
       "      <td>NaN</td>\n",
       "      <td>NaN</td>\n",
       "      <td>NaN</td>\n",
       "      <td>NaN</td>\n",
       "      <td>NaN</td>\n",
       "      <td>NaN</td>\n",
       "      <td>NaN</td>\n",
       "      <td>NaN</td>\n",
       "      <td>...</td>\n",
       "      <td>False</td>\n",
       "      <td>0</td>\n",
       "      <td>0</td>\n",
       "      <td>0</td>\n",
       "      <td>0</td>\n",
       "      <td>476.36</td>\n",
       "      <td>476.0</td>\n",
       "      <td>476.36</td>\n",
       "      <td>476.0</td>\n",
       "      <td>C</td>\n",
       "    </tr>\n",
       "    <tr>\n",
       "      <th>2024-01-02 04:01:00</th>\n",
       "      <td>0.09</td>\n",
       "      <td>-0.02</td>\n",
       "      <td>0.29</td>\n",
       "      <td>-0.02</td>\n",
       "      <td>-14091.0</td>\n",
       "      <td>NaN</td>\n",
       "      <td>0.090000</td>\n",
       "      <td>NaN</td>\n",
       "      <td>-0.020000</td>\n",
       "      <td>NaN</td>\n",
       "      <td>...</td>\n",
       "      <td>False</td>\n",
       "      <td>0</td>\n",
       "      <td>0</td>\n",
       "      <td>1</td>\n",
       "      <td>1</td>\n",
       "      <td>476.36</td>\n",
       "      <td>476.0</td>\n",
       "      <td>476.36</td>\n",
       "      <td>476.0</td>\n",
       "      <td>C</td>\n",
       "    </tr>\n",
       "    <tr>\n",
       "      <th>2024-01-02 04:02:00</th>\n",
       "      <td>-0.05</td>\n",
       "      <td>-0.05</td>\n",
       "      <td>-0.01</td>\n",
       "      <td>-0.01</td>\n",
       "      <td>-217.0</td>\n",
       "      <td>NaN</td>\n",
       "      <td>-0.003333</td>\n",
       "      <td>0.020</td>\n",
       "      <td>-0.040000</td>\n",
       "      <td>-0.035</td>\n",
       "      <td>...</td>\n",
       "      <td>False</td>\n",
       "      <td>0</td>\n",
       "      <td>0</td>\n",
       "      <td>2</td>\n",
       "      <td>2</td>\n",
       "      <td>476.36</td>\n",
       "      <td>476.0</td>\n",
       "      <td>476.36</td>\n",
       "      <td>476.0</td>\n",
       "      <td>C</td>\n",
       "    </tr>\n",
       "    <tr>\n",
       "      <th>2024-01-02 04:03:00</th>\n",
       "      <td>-0.02</td>\n",
       "      <td>-0.02</td>\n",
       "      <td>-0.01</td>\n",
       "      <td>-0.01</td>\n",
       "      <td>-5783.0</td>\n",
       "      <td>NaN</td>\n",
       "      <td>-0.014444</td>\n",
       "      <td>-0.035</td>\n",
       "      <td>-0.026667</td>\n",
       "      <td>-0.035</td>\n",
       "      <td>...</td>\n",
       "      <td>False</td>\n",
       "      <td>0</td>\n",
       "      <td>0</td>\n",
       "      <td>3</td>\n",
       "      <td>3</td>\n",
       "      <td>476.36</td>\n",
       "      <td>476.0</td>\n",
       "      <td>476.36</td>\n",
       "      <td>476.0</td>\n",
       "      <td>C</td>\n",
       "    </tr>\n",
       "    <tr>\n",
       "      <th>2024-01-02 04:04:00</th>\n",
       "      <td>0.00</td>\n",
       "      <td>0.00</td>\n",
       "      <td>0.00</td>\n",
       "      <td>0.00</td>\n",
       "      <td>0.0</td>\n",
       "      <td>NaN</td>\n",
       "      <td>-0.004815</td>\n",
       "      <td>-0.010</td>\n",
       "      <td>-0.008889</td>\n",
       "      <td>-0.010</td>\n",
       "      <td>...</td>\n",
       "      <td>False</td>\n",
       "      <td>0</td>\n",
       "      <td>0</td>\n",
       "      <td>4</td>\n",
       "      <td>4</td>\n",
       "      <td>476.36</td>\n",
       "      <td>476.0</td>\n",
       "      <td>476.36</td>\n",
       "      <td>476.0</td>\n",
       "      <td>C</td>\n",
       "    </tr>\n",
       "  </tbody>\n",
       "</table>\n",
       "<p>5 rows × 192 columns</p>\n",
       "</div>"
      ],
      "text/plain": [
       "                      open_diff  high_diff  low_diff  close_diff  volume_diff  \\\n",
       "us_eastern_timestamp                                                            \n",
       "2024-01-02 04:00:00         NaN        NaN       NaN         NaN          NaN   \n",
       "2024-01-02 04:01:00        0.09      -0.02      0.29       -0.02     -14091.0   \n",
       "2024-01-02 04:02:00       -0.05      -0.05     -0.01       -0.01       -217.0   \n",
       "2024-01-02 04:03:00       -0.02      -0.02     -0.01       -0.01      -5783.0   \n",
       "2024-01-02 04:04:00        0.00       0.00      0.00        0.00          0.0   \n",
       "\n",
       "                      time_delta  open_diff_ema_2m  open_diff_sma_2m  \\\n",
       "us_eastern_timestamp                                                   \n",
       "2024-01-02 04:00:00          NaN               NaN               NaN   \n",
       "2024-01-02 04:01:00          NaN          0.090000               NaN   \n",
       "2024-01-02 04:02:00          NaN         -0.003333             0.020   \n",
       "2024-01-02 04:03:00          NaN         -0.014444            -0.035   \n",
       "2024-01-02 04:04:00          NaN         -0.004815            -0.010   \n",
       "\n",
       "                      high_diff_ema_2m  high_diff_sma_2m  ...  local_min_30  \\\n",
       "us_eastern_timestamp                                      ...                 \n",
       "2024-01-02 04:00:00                NaN               NaN  ...         False   \n",
       "2024-01-02 04:01:00          -0.020000               NaN  ...         False   \n",
       "2024-01-02 04:02:00          -0.040000            -0.035  ...         False   \n",
       "2024-01-02 04:03:00          -0.026667            -0.035  ...         False   \n",
       "2024-01-02 04:04:00          -0.008889            -0.010  ...         False   \n",
       "\n",
       "                      cumulative_local_max_30  cumulative_local_min_30  \\\n",
       "us_eastern_timestamp                                                     \n",
       "2024-01-02 04:00:00                         0                        0   \n",
       "2024-01-02 04:01:00                         0                        0   \n",
       "2024-01-02 04:02:00                         0                        0   \n",
       "2024-01-02 04:03:00                         0                        0   \n",
       "2024-01-02 04:04:00                         0                        0   \n",
       "\n",
       "                      time_since_prev_max_30  time_since_prev_min_30  \\\n",
       "us_eastern_timestamp                                                   \n",
       "2024-01-02 04:00:00                        0                       0   \n",
       "2024-01-02 04:01:00                        1                       1   \n",
       "2024-01-02 04:02:00                        2                       2   \n",
       "2024-01-02 04:03:00                        3                       3   \n",
       "2024-01-02 04:04:00                        4                       4   \n",
       "\n",
       "                      max_today  min_today  max_today_session  \\\n",
       "us_eastern_timestamp                                            \n",
       "2024-01-02 04:00:00      476.36      476.0             476.36   \n",
       "2024-01-02 04:01:00      476.36      476.0             476.36   \n",
       "2024-01-02 04:02:00      476.36      476.0             476.36   \n",
       "2024-01-02 04:03:00      476.36      476.0             476.36   \n",
       "2024-01-02 04:04:00      476.36      476.0             476.36   \n",
       "\n",
       "                      min_today_session  category  \n",
       "us_eastern_timestamp                               \n",
       "2024-01-02 04:00:00               476.0         C  \n",
       "2024-01-02 04:01:00               476.0         C  \n",
       "2024-01-02 04:02:00               476.0         C  \n",
       "2024-01-02 04:03:00               476.0         C  \n",
       "2024-01-02 04:04:00               476.0         C  \n",
       "\n",
       "[5 rows x 192 columns]"
      ]
     },
     "execution_count": 27,
     "metadata": {},
     "output_type": "execute_result"
    }
   ],
   "source": [
    "one_min_df = pd.concat([one_min_df, dependent_var_df['category']], axis=1).drop(columns=['symbol'])\n",
    "one_min_df.head()"
   ]
  },
  {
   "cell_type": "code",
   "execution_count": 28,
   "id": "aed04173-089c-48ad-871d-d504d7482304",
   "metadata": {
    "tags": []
   },
   "outputs": [],
   "source": [
    "# one_min_df['category'] = dependent_var_df['category']\n",
    "# one_min_df = one_min_df.drop(columns=['us_eastern_timestamp', 'symbol'])\n",
    "# one_min_df"
   ]
  },
  {
   "cell_type": "code",
   "execution_count": 29,
   "id": "fb08c7db-e0a9-4f96-a440-9759aaf93f02",
   "metadata": {
    "tags": []
   },
   "outputs": [
    {
     "data": {
      "text/plain": [
       "'open_diff, high_diff, low_diff, close_diff, volume_diff, time_delta, open_diff_ema_2m, open_diff_sma_2m, high_diff_ema_2m, high_diff_sma_2m, low_diff_ema_2m, low_diff_sma_2m, close_diff_ema_2m, close_diff_sma_2m, volume_diff_ema_2m, volume_diff_sma_2m, open_diff_ema_3m, open_diff_sma_3m, high_diff_ema_3m, high_diff_sma_3m, low_diff_ema_3m, low_diff_sma_3m, close_diff_ema_3m, close_diff_sma_3m, volume_diff_ema_3m, volume_diff_sma_3m, open_diff_ema_5m, open_diff_sma_5m, high_diff_ema_5m, high_diff_sma_5m, low_diff_ema_5m, low_diff_sma_5m, close_diff_ema_5m, close_diff_sma_5m, volume_diff_ema_5m, volume_diff_sma_5m, open_diff_ema_8m, open_diff_sma_8m, high_diff_ema_8m, high_diff_sma_8m, low_diff_ema_8m, low_diff_sma_8m, close_diff_ema_8m, close_diff_sma_8m, volume_diff_ema_8m, volume_diff_sma_8m, open_diff_ema_12m, open_diff_sma_12m, high_diff_ema_12m, high_diff_sma_12m, low_diff_ema_12m, low_diff_sma_12m, close_diff_ema_12m, close_diff_sma_12m, volume_diff_ema_12m, volume_diff_sma_12m, open_diff_ema_10m, open_diff_sma_10m, high_diff_ema_10m, high_diff_sma_10m, low_diff_ema_10m, low_diff_sma_10m, close_diff_ema_10m, close_diff_sma_10m, volume_diff_ema_10m, volume_diff_sma_10m, open_diff_ema_20m, open_diff_sma_20m, high_diff_ema_20m, high_diff_sma_20m, low_diff_ema_20m, low_diff_sma_20m, close_diff_ema_20m, close_diff_sma_20m, volume_diff_ema_20m, volume_diff_sma_20m, open_diff_ema_26m, open_diff_sma_26m, high_diff_ema_26m, high_diff_sma_26m, low_diff_ema_26m, low_diff_sma_26m, close_diff_ema_26m, close_diff_sma_26m, volume_diff_ema_26m, volume_diff_sma_26m, open, high, low, close, volume, open_lag_1, high_lag_1, low_lag_1, close_lag_1, open_lag_2, high_lag_2, low_lag_2, close_lag_2, open_lag_3, high_lag_3, low_lag_3, close_lag_3, open_lag_4, high_lag_4, low_lag_4, close_lag_4, open_lag_5, high_lag_5, low_lag_5, close_lag_5, open_lag_6, high_lag_6, low_lag_6, close_lag_6, open_lag_7, high_lag_7, low_lag_7, close_lag_7, open_lag_8, high_lag_8, low_lag_8, close_lag_8, open_lag_9, high_lag_9, low_lag_9, close_lag_9, open_lag_10, high_lag_10, low_lag_10, close_lag_10, open_lag_11, high_lag_11, low_lag_11, close_lag_11, open_lag_12, high_lag_12, low_lag_12, close_lag_12, open_lag_13, high_lag_13, low_lag_13, close_lag_13, open_lag_14, high_lag_14, low_lag_14, close_lag_14, open_lag_15, high_lag_15, low_lag_15, close_lag_15, market_open, price_change, direction, cumulative_ups, cumulative_downs, direction_change_up_to_down, direction_change_down_to_up, prev_cumulative_ups, prev_cumulative_downs, hour, minute, day_of_year, local_max_5, local_min_5, cumulative_local_max_5, cumulative_local_min_5, time_since_prev_max_5, time_since_prev_min_5, local_max_10, local_min_10, cumulative_local_max_10, cumulative_local_min_10, time_since_prev_max_10, time_since_prev_min_10, local_max_15, local_min_15, cumulative_local_max_15, cumulative_local_min_15, time_since_prev_max_15, time_since_prev_min_15, local_max_30, local_min_30, cumulative_local_max_30, cumulative_local_min_30, time_since_prev_max_30, time_since_prev_min_30, max_today, min_today, max_today_session, min_today_session, category'"
      ]
     },
     "execution_count": 29,
     "metadata": {},
     "output_type": "execute_result"
    }
   ],
   "source": [
    "', '.join(one_min_df.columns)"
   ]
  },
  {
   "cell_type": "code",
   "execution_count": 30,
   "id": "40b3cffb",
   "metadata": {
    "tags": []
   },
   "outputs": [
    {
     "data": {
      "text/plain": [
       "Index(['direction', 'category'], dtype='object')"
      ]
     },
     "execution_count": 30,
     "metadata": {},
     "output_type": "execute_result"
    }
   ],
   "source": [
    "one_min_df.select_dtypes(include='object').columns"
   ]
  },
  {
   "cell_type": "code",
   "execution_count": 31,
   "id": "7b8b07fa",
   "metadata": {
    "tags": []
   },
   "outputs": [],
   "source": [
    "one_min_df = pd.concat([one_min_df.drop(columns='direction'), pd.get_dummies(one_min_df['direction'], drop_first=True)], axis=1)"
   ]
  },
  {
   "cell_type": "code",
   "execution_count": 32,
   "id": "07749999-bd66-4cf7-9cc6-c01f9a4d1da8",
   "metadata": {
    "tags": []
   },
   "outputs": [],
   "source": [
    "one_min_df.to_parquet('s3://sisyphus-general-bucket/AthenaInsights/latest_data/model/data/stock_bars_1min_diff.parquet' )"
   ]
  },
  {
   "cell_type": "code",
   "execution_count": null,
   "id": "297e1762-36ae-4818-b566-63f8a0952a4c",
   "metadata": {},
   "outputs": [],
   "source": []
  }
 ],
 "metadata": {
  "kernelspec": {
   "display_name": "conda_fools_gold",
   "language": "python",
   "name": "conda_fools_gold"
  },
  "language_info": {
   "codemirror_mode": {
    "name": "ipython",
    "version": 3
   },
   "file_extension": ".py",
   "mimetype": "text/x-python",
   "name": "python",
   "nbconvert_exporter": "python",
   "pygments_lexer": "ipython3",
   "version": "3.9.19"
  }
 },
 "nbformat": 4,
 "nbformat_minor": 5
}
