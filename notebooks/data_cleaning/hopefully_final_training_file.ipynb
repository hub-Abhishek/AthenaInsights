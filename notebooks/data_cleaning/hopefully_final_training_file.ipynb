{
 "cells": [
  {
   "cell_type": "code",
   "execution_count": 2,
   "id": "23b4f365-1c64-4c01-b4fa-966b0940694f",
   "metadata": {
    "tags": []
   },
   "outputs": [],
   "source": [
    "\n",
    "# independent variables - \n",
    "# start from 1 min averages\n",
    "# stop wherever it hangs\n",
    "\n",
    "# concat other features\n",
    "# concat averages\n",
    "# concat 1 min rsis\n",
    "# concat 1 min macd\n",
    "\n",
    "\n",
    "# dependent features\n",
    "# category\n",
    "\n",
    "# write everything to s3 location\n",
    "# train.py\n",
    "# sagemaker notebook results"
   ]
  },
  {
   "cell_type": "code",
   "execution_count": 3,
   "id": "75cc947b-5ccb-4fa1-9bc1-dd3a0ea6dede",
   "metadata": {
    "tags": []
   },
   "outputs": [],
   "source": [
    "# convert this into pipeline"
   ]
  },
  {
   "cell_type": "code",
   "execution_count": 5,
   "id": "71bf9364-0647-443b-870a-7171a89fb258",
   "metadata": {
    "tags": []
   },
   "outputs": [],
   "source": [
    "# experiment with settings\n",
    "# correlation analysis"
   ]
  },
  {
   "cell_type": "code",
   "execution_count": null,
   "id": "4e0ca051-9763-43d7-bbd8-36fda618cce6",
   "metadata": {},
   "outputs": [],
   "source": []
  }
 ],
 "metadata": {
  "kernelspec": {
   "display_name": "conda_fools_gold",
   "language": "python",
   "name": "conda_fools_gold"
  },
  "language_info": {
   "codemirror_mode": {
    "name": "ipython",
    "version": 3
   },
   "file_extension": ".py",
   "mimetype": "text/x-python",
   "name": "python",
   "nbconvert_exporter": "python",
   "pygments_lexer": "ipython3",
   "version": "3.9.19"
  }
 },
 "nbformat": 4,
 "nbformat_minor": 5
}
