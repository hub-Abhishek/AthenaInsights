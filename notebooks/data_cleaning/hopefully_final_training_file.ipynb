{
 "cells": [
  {
   "cell_type": "code",
   "execution_count": 1,
   "id": "23b4f365-1c64-4c01-b4fa-966b0940694f",
   "metadata": {
    "tags": []
   },
   "outputs": [],
   "source": [
    "\n",
    "# independent variables - \n",
    "# start from 1 min averages\n",
    "# stop wherever it hangs\n",
    "\n",
    "# concat other features\n",
    "# concat averages\n",
    "# concat 1 min rsis\n",
    "# concat 1 min macd\n",
    "\n",
    "\n",
    "# dependent features\n",
    "# category\n",
    "\n",
    "# write everything to s3 location\n",
    "# train.py\n",
    "# sagemaker notebook results"
   ]
  },
  {
   "cell_type": "code",
   "execution_count": 2,
   "id": "75cc947b-5ccb-4fa1-9bc1-dd3a0ea6dede",
   "metadata": {
    "tags": []
   },
   "outputs": [],
   "source": [
    "# convert this into pipeline"
   ]
  },
  {
   "cell_type": "code",
   "execution_count": 3,
   "id": "71bf9364-0647-443b-870a-7171a89fb258",
   "metadata": {
    "tags": []
   },
   "outputs": [],
   "source": [
    "# experiment with settings\n",
    "# correlation analysis"
   ]
  },
  {
   "cell_type": "code",
   "execution_count": 4,
   "id": "614df348-af20-4f30-ad39-7c2617597db1",
   "metadata": {
    "tags": []
   },
   "outputs": [],
   "source": [
    "import yaml\n",
    "import boto3\n",
    "import pandas as pd\n",
    "import numpy as np\n",
    "import warnings\n",
    "from tqdm import tqdm\n",
    "warnings.filterwarnings(\"ignore\")"
   ]
  },
  {
   "cell_type": "code",
   "execution_count": 5,
   "id": "e4e982aa-2638-40e4-ae39-2d704b2171e8",
   "metadata": {
    "tags": []
   },
   "outputs": [
    {
     "data": {
      "text/plain": [
       "'/home/ec2-user/SageMaker/sisyphus/AthenaInsights/notebooks/data_cleaning'"
      ]
     },
     "execution_count": 5,
     "metadata": {},
     "output_type": "execute_result"
    }
   ],
   "source": [
    "import os\n",
    "os.getcwd()"
   ]
  },
  {
   "cell_type": "code",
   "execution_count": 6,
   "id": "55db3e83-9f5b-486e-adc8-da8ab7cd9054",
   "metadata": {
    "tags": []
   },
   "outputs": [],
   "source": [
    "def load_yaml(loc):\n",
    "    with open(loc) as stream:\n",
    "        try:\n",
    "            print(f'reading from {loc}')\n",
    "            return yaml.safe_load(stream)\n",
    "        except yaml.YAMLError as exc:\n",
    "            print(exc)"
   ]
  },
  {
   "cell_type": "markdown",
   "id": "d72d0384-b9f9-40b1-a9f1-b231f22e2a91",
   "metadata": {
    "tags": []
   },
   "source": [
    "### independent variables"
   ]
  },
  {
   "cell_type": "code",
   "execution_count": 7,
   "id": "4e0ca051-9763-43d7-bbd8-36fda618cce6",
   "metadata": {
    "tags": []
   },
   "outputs": [],
   "source": [
    "client = boto3.client('s3')"
   ]
  },
  {
   "cell_type": "code",
   "execution_count": 8,
   "id": "30eb30cd-4ed5-4c7b-88df-5d8e94ecb2b3",
   "metadata": {
    "tags": []
   },
   "outputs": [],
   "source": [
    "s3_prefix = 's3://'\n",
    "bucket = 'sisyphus-general-bucket'\n",
    "primary_folder = 'AthenaInsights'"
   ]
  },
  {
   "cell_type": "code",
   "execution_count": 9,
   "id": "a6d159ef-8a59-460f-990c-bdc0cb62b676",
   "metadata": {
    "tags": []
   },
   "outputs": [
    {
     "name": "stdout",
     "output_type": "stream",
     "text": [
      "reading from ../../config/spy_30min_v1/features.yaml\n"
     ]
    },
    {
     "data": {
      "text/plain": [
       "dict_keys(['dependent_variable', 'feature_store'])"
      ]
     },
     "execution_count": 9,
     "metadata": {},
     "output_type": "execute_result"
    }
   ],
   "source": [
    "all_paths_config_loc = '../../config/spy_30min_v1/features.yaml'\n",
    "all_paths_config = load_yaml(all_paths_config_loc)\n",
    "all_paths_config.keys()"
   ]
  },
  {
   "cell_type": "code",
   "execution_count": 10,
   "id": "b9689d5e-5ed2-4e29-85c1-4ffb8f0e320c",
   "metadata": {
    "tags": []
   },
   "outputs": [
    {
     "data": {
      "text/plain": [
       "dict_keys(['stock_bars_1min_base', 'stock_bars_1min_base_macd', 'stock_bars_1min_base_other_features', 'stock_bars_1min_base_rsi', 'stock_bars_1min_diff', 'stock_bars_1min_diff_macd', 'stock_bars_1min_diff_rsi'])"
      ]
     },
     "execution_count": 10,
     "metadata": {},
     "output_type": "execute_result"
    }
   ],
   "source": [
    "all_paths_config['feature_store']['1min'].keys()"
   ]
  },
  {
   "cell_type": "code",
   "execution_count": 11,
   "id": "0d9ca85d-79db-464a-882c-e0abe71d5fce",
   "metadata": {
    "tags": []
   },
   "outputs": [
    {
     "data": {
      "text/plain": [
       "dict_keys(['stock_bars_100D_base', 'stock_bars_100D_base_macd', 'stock_bars_100D_base_rsi', 'stock_bars_100D_diff', 'stock_bars_100D_diff_macd', 'stock_bars_100D_diff_rsi'])"
      ]
     },
     "execution_count": 11,
     "metadata": {},
     "output_type": "execute_result"
    }
   ],
   "source": [
    "all_paths_config['feature_store']['100D'].keys()"
   ]
  },
  {
   "cell_type": "markdown",
   "id": "e4a71f9e-eaf3-4622-b7bd-b515553d463d",
   "metadata": {
    "jp-MarkdownHeadingCollapsed": true,
    "tags": []
   },
   "source": [
    "#### loading one min data"
   ]
  },
  {
   "cell_type": "code",
   "execution_count": 12,
   "id": "e5afb137-b417-45e7-93a3-f3b65554bf63",
   "metadata": {
    "tags": []
   },
   "outputs": [
    {
     "data": {
      "text/plain": [
       "('s3://sisyphus-general-bucket/AthenaInsights/latest_data/feature_prep/stock_bars_1min_base.parquet',\n",
       " 87)"
      ]
     },
     "execution_count": 12,
     "metadata": {},
     "output_type": "execute_result"
    }
   ],
   "source": [
    "cols = eval(all_paths_config['feature_store']['1min']['stock_bars_1min_base']['cols'])\n",
    "path = all_paths_config['feature_store']['1min']['stock_bars_1min_base']['path']\n",
    "path, len(cols)"
   ]
  },
  {
   "cell_type": "code",
   "execution_count": 13,
   "id": "1eadf16a-a732-45fc-a0c7-c2d4c6391f0e",
   "metadata": {
    "tags": []
   },
   "outputs": [
    {
     "data": {
      "text/plain": [
       "['open',\n",
       " 'high',\n",
       " 'low',\n",
       " 'close',\n",
       " 'volume',\n",
       " 'symbol',\n",
       " 'time_delta',\n",
       " 'open_ema_2m',\n",
       " 'open_sma_2m',\n",
       " 'high_ema_2m',\n",
       " 'high_sma_2m',\n",
       " 'low_ema_2m',\n",
       " 'low_sma_2m',\n",
       " 'close_ema_2m',\n",
       " 'close_sma_2m',\n",
       " 'volume_ema_2m',\n",
       " 'volume_sma_2m',\n",
       " 'open_ema_3m',\n",
       " 'open_sma_3m',\n",
       " 'high_ema_3m',\n",
       " 'high_sma_3m',\n",
       " 'low_ema_3m',\n",
       " 'low_sma_3m',\n",
       " 'close_ema_3m',\n",
       " 'close_sma_3m',\n",
       " 'volume_ema_3m',\n",
       " 'volume_sma_3m',\n",
       " 'open_ema_5m',\n",
       " 'open_sma_5m',\n",
       " 'high_ema_5m',\n",
       " 'high_sma_5m',\n",
       " 'low_ema_5m',\n",
       " 'low_sma_5m',\n",
       " 'close_ema_5m',\n",
       " 'close_sma_5m',\n",
       " 'volume_ema_5m',\n",
       " 'volume_sma_5m',\n",
       " 'open_ema_8m',\n",
       " 'open_sma_8m',\n",
       " 'high_ema_8m',\n",
       " 'high_sma_8m',\n",
       " 'low_ema_8m',\n",
       " 'low_sma_8m',\n",
       " 'close_ema_8m',\n",
       " 'close_sma_8m',\n",
       " 'volume_ema_8m',\n",
       " 'volume_sma_8m',\n",
       " 'open_ema_12m',\n",
       " 'open_sma_12m',\n",
       " 'high_ema_12m',\n",
       " 'high_sma_12m',\n",
       " 'low_ema_12m',\n",
       " 'low_sma_12m',\n",
       " 'close_ema_12m',\n",
       " 'close_sma_12m',\n",
       " 'volume_ema_12m',\n",
       " 'volume_sma_12m',\n",
       " 'open_ema_10m',\n",
       " 'open_sma_10m',\n",
       " 'high_ema_10m',\n",
       " 'high_sma_10m',\n",
       " 'low_ema_10m',\n",
       " 'low_sma_10m',\n",
       " 'close_ema_10m',\n",
       " 'close_sma_10m',\n",
       " 'volume_ema_10m',\n",
       " 'volume_sma_10m',\n",
       " 'open_ema_20m',\n",
       " 'open_sma_20m',\n",
       " 'high_ema_20m',\n",
       " 'high_sma_20m',\n",
       " 'low_ema_20m',\n",
       " 'low_sma_20m',\n",
       " 'close_ema_20m',\n",
       " 'close_sma_20m',\n",
       " 'volume_ema_20m',\n",
       " 'volume_sma_20m',\n",
       " 'open_ema_26m',\n",
       " 'open_sma_26m',\n",
       " 'high_ema_26m',\n",
       " 'high_sma_26m',\n",
       " 'low_ema_26m',\n",
       " 'low_sma_26m',\n",
       " 'close_ema_26m',\n",
       " 'close_sma_26m',\n",
       " 'volume_ema_26m',\n",
       " 'volume_sma_26m']"
      ]
     },
     "execution_count": 13,
     "metadata": {},
     "output_type": "execute_result"
    }
   ],
   "source": [
    "cols"
   ]
  },
  {
   "cell_type": "code",
   "execution_count": 14,
   "id": "4f6687d4-a8db-4bb8-bd46-8ad4a540ad91",
   "metadata": {
    "tags": []
   },
   "outputs": [
    {
     "data": {
      "text/html": [
       "<div>\n",
       "<style scoped>\n",
       "    .dataframe tbody tr th:only-of-type {\n",
       "        vertical-align: middle;\n",
       "    }\n",
       "\n",
       "    .dataframe tbody tr th {\n",
       "        vertical-align: top;\n",
       "    }\n",
       "\n",
       "    .dataframe thead th {\n",
       "        text-align: right;\n",
       "    }\n",
       "</style>\n",
       "<table border=\"1\" class=\"dataframe\">\n",
       "  <thead>\n",
       "    <tr style=\"text-align: right;\">\n",
       "      <th></th>\n",
       "      <th>open</th>\n",
       "      <th>high</th>\n",
       "      <th>low</th>\n",
       "      <th>close</th>\n",
       "      <th>volume</th>\n",
       "      <th>symbol</th>\n",
       "      <th>time_delta</th>\n",
       "      <th>open_ema_2m</th>\n",
       "      <th>open_sma_2m</th>\n",
       "      <th>high_ema_2m</th>\n",
       "      <th>...</th>\n",
       "      <th>open_ema_26m</th>\n",
       "      <th>open_sma_26m</th>\n",
       "      <th>high_ema_26m</th>\n",
       "      <th>high_sma_26m</th>\n",
       "      <th>low_ema_26m</th>\n",
       "      <th>low_sma_26m</th>\n",
       "      <th>close_ema_26m</th>\n",
       "      <th>close_sma_26m</th>\n",
       "      <th>volume_ema_26m</th>\n",
       "      <th>volume_sma_26m</th>\n",
       "    </tr>\n",
       "    <tr>\n",
       "      <th>us_eastern_timestamp</th>\n",
       "      <th></th>\n",
       "      <th></th>\n",
       "      <th></th>\n",
       "      <th></th>\n",
       "      <th></th>\n",
       "      <th></th>\n",
       "      <th></th>\n",
       "      <th></th>\n",
       "      <th></th>\n",
       "      <th></th>\n",
       "      <th></th>\n",
       "      <th></th>\n",
       "      <th></th>\n",
       "      <th></th>\n",
       "      <th></th>\n",
       "      <th></th>\n",
       "      <th></th>\n",
       "      <th></th>\n",
       "      <th></th>\n",
       "      <th></th>\n",
       "      <th></th>\n",
       "    </tr>\n",
       "  </thead>\n",
       "  <tbody>\n",
       "    <tr>\n",
       "      <th>2024-01-02 04:00:00</th>\n",
       "      <td>476.25</td>\n",
       "      <td>476.36</td>\n",
       "      <td>476.00</td>\n",
       "      <td>476.31</td>\n",
       "      <td>20460.0</td>\n",
       "      <td>SPY</td>\n",
       "      <td>NaN</td>\n",
       "      <td>476.250000</td>\n",
       "      <td>NaN</td>\n",
       "      <td>476.360000</td>\n",
       "      <td>...</td>\n",
       "      <td>476.250000</td>\n",
       "      <td>NaN</td>\n",
       "      <td>476.360000</td>\n",
       "      <td>NaN</td>\n",
       "      <td>476.000000</td>\n",
       "      <td>NaN</td>\n",
       "      <td>476.310000</td>\n",
       "      <td>NaN</td>\n",
       "      <td>20460.000000</td>\n",
       "      <td>NaN</td>\n",
       "    </tr>\n",
       "    <tr>\n",
       "      <th>2024-01-02 04:01:00</th>\n",
       "      <td>476.34</td>\n",
       "      <td>476.34</td>\n",
       "      <td>476.29</td>\n",
       "      <td>476.29</td>\n",
       "      <td>6369.0</td>\n",
       "      <td>SPY</td>\n",
       "      <td>NaN</td>\n",
       "      <td>476.310000</td>\n",
       "      <td>476.295</td>\n",
       "      <td>476.346667</td>\n",
       "      <td>...</td>\n",
       "      <td>476.256667</td>\n",
       "      <td>NaN</td>\n",
       "      <td>476.358519</td>\n",
       "      <td>NaN</td>\n",
       "      <td>476.021481</td>\n",
       "      <td>NaN</td>\n",
       "      <td>476.308519</td>\n",
       "      <td>NaN</td>\n",
       "      <td>19416.222222</td>\n",
       "      <td>NaN</td>\n",
       "    </tr>\n",
       "    <tr>\n",
       "      <th>2024-01-02 04:02:00</th>\n",
       "      <td>476.29</td>\n",
       "      <td>476.29</td>\n",
       "      <td>476.28</td>\n",
       "      <td>476.28</td>\n",
       "      <td>6152.0</td>\n",
       "      <td>SPY</td>\n",
       "      <td>NaN</td>\n",
       "      <td>476.296667</td>\n",
       "      <td>476.315</td>\n",
       "      <td>476.308889</td>\n",
       "      <td>...</td>\n",
       "      <td>476.259136</td>\n",
       "      <td>NaN</td>\n",
       "      <td>476.353443</td>\n",
       "      <td>NaN</td>\n",
       "      <td>476.040631</td>\n",
       "      <td>NaN</td>\n",
       "      <td>476.306406</td>\n",
       "      <td>NaN</td>\n",
       "      <td>18433.687243</td>\n",
       "      <td>NaN</td>\n",
       "    </tr>\n",
       "    <tr>\n",
       "      <th>2024-01-02 04:03:00</th>\n",
       "      <td>476.27</td>\n",
       "      <td>476.27</td>\n",
       "      <td>476.27</td>\n",
       "      <td>476.27</td>\n",
       "      <td>369.0</td>\n",
       "      <td>SPY</td>\n",
       "      <td>NaN</td>\n",
       "      <td>476.278889</td>\n",
       "      <td>476.280</td>\n",
       "      <td>476.282963</td>\n",
       "      <td>...</td>\n",
       "      <td>476.259941</td>\n",
       "      <td>NaN</td>\n",
       "      <td>476.347262</td>\n",
       "      <td>NaN</td>\n",
       "      <td>476.057621</td>\n",
       "      <td>NaN</td>\n",
       "      <td>476.303709</td>\n",
       "      <td>NaN</td>\n",
       "      <td>17095.562262</td>\n",
       "      <td>NaN</td>\n",
       "    </tr>\n",
       "    <tr>\n",
       "      <th>2024-01-02 04:04:00</th>\n",
       "      <td>476.27</td>\n",
       "      <td>476.27</td>\n",
       "      <td>476.27</td>\n",
       "      <td>476.27</td>\n",
       "      <td>369.0</td>\n",
       "      <td>SPY</td>\n",
       "      <td>NaN</td>\n",
       "      <td>476.272963</td>\n",
       "      <td>476.270</td>\n",
       "      <td>476.274321</td>\n",
       "      <td>...</td>\n",
       "      <td>476.260686</td>\n",
       "      <td>NaN</td>\n",
       "      <td>476.341539</td>\n",
       "      <td>NaN</td>\n",
       "      <td>476.073353</td>\n",
       "      <td>NaN</td>\n",
       "      <td>476.301212</td>\n",
       "      <td>NaN</td>\n",
       "      <td>15856.557650</td>\n",
       "      <td>NaN</td>\n",
       "    </tr>\n",
       "  </tbody>\n",
       "</table>\n",
       "<p>5 rows × 87 columns</p>\n",
       "</div>"
      ],
      "text/plain": [
       "                        open    high     low   close   volume symbol  \\\n",
       "us_eastern_timestamp                                                   \n",
       "2024-01-02 04:00:00   476.25  476.36  476.00  476.31  20460.0    SPY   \n",
       "2024-01-02 04:01:00   476.34  476.34  476.29  476.29   6369.0    SPY   \n",
       "2024-01-02 04:02:00   476.29  476.29  476.28  476.28   6152.0    SPY   \n",
       "2024-01-02 04:03:00   476.27  476.27  476.27  476.27    369.0    SPY   \n",
       "2024-01-02 04:04:00   476.27  476.27  476.27  476.27    369.0    SPY   \n",
       "\n",
       "                      time_delta  open_ema_2m  open_sma_2m  high_ema_2m  ...  \\\n",
       "us_eastern_timestamp                                                     ...   \n",
       "2024-01-02 04:00:00          NaN   476.250000          NaN   476.360000  ...   \n",
       "2024-01-02 04:01:00          NaN   476.310000      476.295   476.346667  ...   \n",
       "2024-01-02 04:02:00          NaN   476.296667      476.315   476.308889  ...   \n",
       "2024-01-02 04:03:00          NaN   476.278889      476.280   476.282963  ...   \n",
       "2024-01-02 04:04:00          NaN   476.272963      476.270   476.274321  ...   \n",
       "\n",
       "                      open_ema_26m  open_sma_26m  high_ema_26m  high_sma_26m  \\\n",
       "us_eastern_timestamp                                                           \n",
       "2024-01-02 04:00:00     476.250000           NaN    476.360000           NaN   \n",
       "2024-01-02 04:01:00     476.256667           NaN    476.358519           NaN   \n",
       "2024-01-02 04:02:00     476.259136           NaN    476.353443           NaN   \n",
       "2024-01-02 04:03:00     476.259941           NaN    476.347262           NaN   \n",
       "2024-01-02 04:04:00     476.260686           NaN    476.341539           NaN   \n",
       "\n",
       "                      low_ema_26m  low_sma_26m  close_ema_26m  close_sma_26m  \\\n",
       "us_eastern_timestamp                                                           \n",
       "2024-01-02 04:00:00    476.000000          NaN     476.310000            NaN   \n",
       "2024-01-02 04:01:00    476.021481          NaN     476.308519            NaN   \n",
       "2024-01-02 04:02:00    476.040631          NaN     476.306406            NaN   \n",
       "2024-01-02 04:03:00    476.057621          NaN     476.303709            NaN   \n",
       "2024-01-02 04:04:00    476.073353          NaN     476.301212            NaN   \n",
       "\n",
       "                      volume_ema_26m  volume_sma_26m  \n",
       "us_eastern_timestamp                                  \n",
       "2024-01-02 04:00:00     20460.000000             NaN  \n",
       "2024-01-02 04:01:00     19416.222222             NaN  \n",
       "2024-01-02 04:02:00     18433.687243             NaN  \n",
       "2024-01-02 04:03:00     17095.562262             NaN  \n",
       "2024-01-02 04:04:00     15856.557650             NaN  \n",
       "\n",
       "[5 rows x 87 columns]"
      ]
     },
     "execution_count": 14,
     "metadata": {},
     "output_type": "execute_result"
    }
   ],
   "source": [
    "import pyarrow.dataset as ds\n",
    "import pyarrow.parquet as pq\n",
    "one_min_df = pq.read_pandas(path,).to_pandas() # pq.read_pandas('example.parquet', columns=['two']).to_pandas()\n",
    "one_min_df = one_min_df[one_min_df.symbol=='SPY']\n",
    "one_min_df.head()\n",
    "# df = ds.dataset(path).scanner().head(1).to_pandas()"
   ]
  },
  {
   "cell_type": "markdown",
   "id": "6f89e752-cf60-4df1-a88d-97f7636ac2b3",
   "metadata": {},
   "source": [
    "#### other features"
   ]
  },
  {
   "cell_type": "code",
   "execution_count": 15,
   "id": "790e93b3-a52b-4694-a596-f61a000f23a9",
   "metadata": {
    "tags": []
   },
   "outputs": [
    {
     "data": {
      "text/plain": [
       "('s3://sisyphus-general-bucket/AthenaInsights/latest_data/feature_prep/stock_bars_1min_base_other_features.parquet',\n",
       " 181)"
      ]
     },
     "execution_count": 15,
     "metadata": {},
     "output_type": "execute_result"
    }
   ],
   "source": [
    "cols = eval(all_paths_config['feature_store']['1min']['stock_bars_1min_base_other_features']['cols'])\n",
    "path = all_paths_config['feature_store']['1min']['stock_bars_1min_base_other_features']['path']\n",
    "path, len(cols)"
   ]
  },
  {
   "cell_type": "code",
   "execution_count": 16,
   "id": "13610f96-28fe-4f3a-908d-d78213321290",
   "metadata": {
    "collapsed": true,
    "jupyter": {
     "outputs_hidden": true
    },
    "tags": []
   },
   "outputs": [
    {
     "data": {
      "text/plain": [
       "(95,\n",
       " ['open_lag_1',\n",
       "  'high_lag_1',\n",
       "  'low_lag_1',\n",
       "  'close_lag_1',\n",
       "  'open_lag_2',\n",
       "  'high_lag_2',\n",
       "  'low_lag_2',\n",
       "  'close_lag_2',\n",
       "  'open_lag_3',\n",
       "  'high_lag_3',\n",
       "  'low_lag_3',\n",
       "  'close_lag_3',\n",
       "  'open_lag_4',\n",
       "  'high_lag_4',\n",
       "  'low_lag_4',\n",
       "  'close_lag_4',\n",
       "  'open_lag_5',\n",
       "  'high_lag_5',\n",
       "  'low_lag_5',\n",
       "  'close_lag_5',\n",
       "  'open_lag_6',\n",
       "  'high_lag_6',\n",
       "  'low_lag_6',\n",
       "  'close_lag_6',\n",
       "  'open_lag_7',\n",
       "  'high_lag_7',\n",
       "  'low_lag_7',\n",
       "  'close_lag_7',\n",
       "  'open_lag_8',\n",
       "  'high_lag_8',\n",
       "  'low_lag_8',\n",
       "  'close_lag_8',\n",
       "  'open_lag_9',\n",
       "  'high_lag_9',\n",
       "  'low_lag_9',\n",
       "  'close_lag_9',\n",
       "  'open_lag_10',\n",
       "  'high_lag_10',\n",
       "  'low_lag_10',\n",
       "  'close_lag_10',\n",
       "  'open_lag_11',\n",
       "  'high_lag_11',\n",
       "  'low_lag_11',\n",
       "  'close_lag_11',\n",
       "  'open_lag_12',\n",
       "  'high_lag_12',\n",
       "  'low_lag_12',\n",
       "  'close_lag_12',\n",
       "  'open_lag_13',\n",
       "  'high_lag_13',\n",
       "  'low_lag_13',\n",
       "  'close_lag_13',\n",
       "  'open_lag_14',\n",
       "  'high_lag_14',\n",
       "  'low_lag_14',\n",
       "  'close_lag_14',\n",
       "  'open_lag_15',\n",
       "  'high_lag_15',\n",
       "  'low_lag_15',\n",
       "  'close_lag_15',\n",
       "  'price_change',\n",
       "  'direction',\n",
       "  'cumulative_ups',\n",
       "  'cumulative_downs',\n",
       "  'direction_change_up_to_down',\n",
       "  'direction_change_down_to_up',\n",
       "  'prev_cumulative_ups',\n",
       "  'prev_cumulative_downs',\n",
       "  'hour',\n",
       "  'minute',\n",
       "  'day_of_year',\n",
       "  'local_max_5',\n",
       "  'local_min_5',\n",
       "  'cumulative_local_max_5',\n",
       "  'cumulative_local_min_5',\n",
       "  'time_since_prev_max_5',\n",
       "  'time_since_prev_min_5',\n",
       "  'local_max_10',\n",
       "  'local_min_10',\n",
       "  'cumulative_local_max_10',\n",
       "  'cumulative_local_min_10',\n",
       "  'time_since_prev_max_10',\n",
       "  'time_since_prev_min_10',\n",
       "  'local_max_15',\n",
       "  'local_min_15',\n",
       "  'cumulative_local_max_15',\n",
       "  'cumulative_local_min_15',\n",
       "  'time_since_prev_max_15',\n",
       "  'time_since_prev_min_15',\n",
       "  'local_max_30',\n",
       "  'local_min_30',\n",
       "  'cumulative_local_max_30',\n",
       "  'cumulative_local_min_30',\n",
       "  'time_since_prev_max_30',\n",
       "  'time_since_prev_min_30'])"
      ]
     },
     "execution_count": 16,
     "metadata": {},
     "output_type": "execute_result"
    }
   ],
   "source": [
    "cols = [x for x in cols if 'ema' not in x and 'sma' not in x and x not in ['us_eastern_timestamp', 'open', 'high', 'low', 'close', 'volume',]]\n",
    "len(cols), cols"
   ]
  },
  {
   "cell_type": "code",
   "execution_count": 17,
   "id": "69be58f2-2af2-4fd2-af04-6676194e16fe",
   "metadata": {
    "tags": []
   },
   "outputs": [
    {
     "data": {
      "text/html": [
       "<div>\n",
       "<style scoped>\n",
       "    .dataframe tbody tr th:only-of-type {\n",
       "        vertical-align: middle;\n",
       "    }\n",
       "\n",
       "    .dataframe tbody tr th {\n",
       "        vertical-align: top;\n",
       "    }\n",
       "\n",
       "    .dataframe thead th {\n",
       "        text-align: right;\n",
       "    }\n",
       "</style>\n",
       "<table border=\"1\" class=\"dataframe\">\n",
       "  <thead>\n",
       "    <tr style=\"text-align: right;\">\n",
       "      <th></th>\n",
       "      <th>open_lag_1</th>\n",
       "      <th>high_lag_1</th>\n",
       "      <th>low_lag_1</th>\n",
       "      <th>close_lag_1</th>\n",
       "      <th>open_lag_2</th>\n",
       "      <th>high_lag_2</th>\n",
       "      <th>low_lag_2</th>\n",
       "      <th>close_lag_2</th>\n",
       "      <th>open_lag_3</th>\n",
       "      <th>high_lag_3</th>\n",
       "      <th>...</th>\n",
       "      <th>cumulative_local_max_15</th>\n",
       "      <th>cumulative_local_min_15</th>\n",
       "      <th>time_since_prev_max_15</th>\n",
       "      <th>time_since_prev_min_15</th>\n",
       "      <th>local_max_30</th>\n",
       "      <th>local_min_30</th>\n",
       "      <th>cumulative_local_max_30</th>\n",
       "      <th>cumulative_local_min_30</th>\n",
       "      <th>time_since_prev_max_30</th>\n",
       "      <th>time_since_prev_min_30</th>\n",
       "    </tr>\n",
       "  </thead>\n",
       "  <tbody>\n",
       "    <tr>\n",
       "      <th>0</th>\n",
       "      <td>NaN</td>\n",
       "      <td>NaN</td>\n",
       "      <td>NaN</td>\n",
       "      <td>NaN</td>\n",
       "      <td>NaN</td>\n",
       "      <td>NaN</td>\n",
       "      <td>NaN</td>\n",
       "      <td>NaN</td>\n",
       "      <td>NaN</td>\n",
       "      <td>NaN</td>\n",
       "      <td>...</td>\n",
       "      <td>0</td>\n",
       "      <td>0</td>\n",
       "      <td>0</td>\n",
       "      <td>0</td>\n",
       "      <td>False</td>\n",
       "      <td>False</td>\n",
       "      <td>0</td>\n",
       "      <td>0</td>\n",
       "      <td>0</td>\n",
       "      <td>0</td>\n",
       "    </tr>\n",
       "    <tr>\n",
       "      <th>1</th>\n",
       "      <td>476.25</td>\n",
       "      <td>476.36</td>\n",
       "      <td>476.00</td>\n",
       "      <td>476.31</td>\n",
       "      <td>NaN</td>\n",
       "      <td>NaN</td>\n",
       "      <td>NaN</td>\n",
       "      <td>NaN</td>\n",
       "      <td>NaN</td>\n",
       "      <td>NaN</td>\n",
       "      <td>...</td>\n",
       "      <td>0</td>\n",
       "      <td>0</td>\n",
       "      <td>1</td>\n",
       "      <td>1</td>\n",
       "      <td>False</td>\n",
       "      <td>False</td>\n",
       "      <td>0</td>\n",
       "      <td>0</td>\n",
       "      <td>1</td>\n",
       "      <td>1</td>\n",
       "    </tr>\n",
       "    <tr>\n",
       "      <th>2</th>\n",
       "      <td>476.34</td>\n",
       "      <td>476.34</td>\n",
       "      <td>476.29</td>\n",
       "      <td>476.29</td>\n",
       "      <td>476.25</td>\n",
       "      <td>476.36</td>\n",
       "      <td>476.00</td>\n",
       "      <td>476.31</td>\n",
       "      <td>NaN</td>\n",
       "      <td>NaN</td>\n",
       "      <td>...</td>\n",
       "      <td>0</td>\n",
       "      <td>0</td>\n",
       "      <td>2</td>\n",
       "      <td>2</td>\n",
       "      <td>False</td>\n",
       "      <td>False</td>\n",
       "      <td>0</td>\n",
       "      <td>0</td>\n",
       "      <td>2</td>\n",
       "      <td>2</td>\n",
       "    </tr>\n",
       "    <tr>\n",
       "      <th>3</th>\n",
       "      <td>476.29</td>\n",
       "      <td>476.29</td>\n",
       "      <td>476.28</td>\n",
       "      <td>476.28</td>\n",
       "      <td>476.34</td>\n",
       "      <td>476.34</td>\n",
       "      <td>476.29</td>\n",
       "      <td>476.29</td>\n",
       "      <td>476.25</td>\n",
       "      <td>476.36</td>\n",
       "      <td>...</td>\n",
       "      <td>0</td>\n",
       "      <td>0</td>\n",
       "      <td>3</td>\n",
       "      <td>3</td>\n",
       "      <td>False</td>\n",
       "      <td>False</td>\n",
       "      <td>0</td>\n",
       "      <td>0</td>\n",
       "      <td>3</td>\n",
       "      <td>3</td>\n",
       "    </tr>\n",
       "    <tr>\n",
       "      <th>4</th>\n",
       "      <td>476.27</td>\n",
       "      <td>476.27</td>\n",
       "      <td>476.27</td>\n",
       "      <td>476.27</td>\n",
       "      <td>476.29</td>\n",
       "      <td>476.29</td>\n",
       "      <td>476.28</td>\n",
       "      <td>476.28</td>\n",
       "      <td>476.34</td>\n",
       "      <td>476.34</td>\n",
       "      <td>...</td>\n",
       "      <td>0</td>\n",
       "      <td>0</td>\n",
       "      <td>4</td>\n",
       "      <td>4</td>\n",
       "      <td>False</td>\n",
       "      <td>False</td>\n",
       "      <td>0</td>\n",
       "      <td>0</td>\n",
       "      <td>4</td>\n",
       "      <td>4</td>\n",
       "    </tr>\n",
       "  </tbody>\n",
       "</table>\n",
       "<p>5 rows × 95 columns</p>\n",
       "</div>"
      ],
      "text/plain": [
       "   open_lag_1  high_lag_1  low_lag_1  close_lag_1  open_lag_2  high_lag_2  \\\n",
       "0         NaN         NaN        NaN          NaN         NaN         NaN   \n",
       "1      476.25      476.36     476.00       476.31         NaN         NaN   \n",
       "2      476.34      476.34     476.29       476.29      476.25      476.36   \n",
       "3      476.29      476.29     476.28       476.28      476.34      476.34   \n",
       "4      476.27      476.27     476.27       476.27      476.29      476.29   \n",
       "\n",
       "   low_lag_2  close_lag_2  open_lag_3  high_lag_3  ...  \\\n",
       "0        NaN          NaN         NaN         NaN  ...   \n",
       "1        NaN          NaN         NaN         NaN  ...   \n",
       "2     476.00       476.31         NaN         NaN  ...   \n",
       "3     476.29       476.29      476.25      476.36  ...   \n",
       "4     476.28       476.28      476.34      476.34  ...   \n",
       "\n",
       "   cumulative_local_max_15  cumulative_local_min_15  time_since_prev_max_15  \\\n",
       "0                        0                        0                       0   \n",
       "1                        0                        0                       1   \n",
       "2                        0                        0                       2   \n",
       "3                        0                        0                       3   \n",
       "4                        0                        0                       4   \n",
       "\n",
       "   time_since_prev_min_15  local_max_30  local_min_30  \\\n",
       "0                       0         False         False   \n",
       "1                       1         False         False   \n",
       "2                       2         False         False   \n",
       "3                       3         False         False   \n",
       "4                       4         False         False   \n",
       "\n",
       "   cumulative_local_max_30  cumulative_local_min_30  time_since_prev_max_30  \\\n",
       "0                        0                        0                       0   \n",
       "1                        0                        0                       1   \n",
       "2                        0                        0                       2   \n",
       "3                        0                        0                       3   \n",
       "4                        0                        0                       4   \n",
       "\n",
       "   time_since_prev_min_30  \n",
       "0                       0  \n",
       "1                       1  \n",
       "2                       2  \n",
       "3                       3  \n",
       "4                       4  \n",
       "\n",
       "[5 rows x 95 columns]"
      ]
     },
     "execution_count": 17,
     "metadata": {},
     "output_type": "execute_result"
    }
   ],
   "source": [
    "other_features = pq.read_pandas(path, columns=cols).to_pandas() # pq.read_pandas('example.parquet', columns=['two']).to_pandas()\n",
    "other_features.head()"
   ]
  },
  {
   "cell_type": "code",
   "execution_count": 18,
   "id": "763435d8-4eec-464f-8b13-04c0857afb69",
   "metadata": {
    "tags": []
   },
   "outputs": [
    {
     "data": {
      "text/plain": [
       "True"
      ]
     },
     "execution_count": 18,
     "metadata": {},
     "output_type": "execute_result"
    }
   ],
   "source": [
    "one_min_df.shape[0]==other_features.shape[0]"
   ]
  },
  {
   "cell_type": "code",
   "execution_count": 19,
   "id": "08647f9a-a4f8-4c08-8d82-bd27fbd1ccc3",
   "metadata": {
    "tags": []
   },
   "outputs": [],
   "source": [
    "one_min_df = pd.concat([one_min_df.reset_index(), other_features], axis=1, )"
   ]
  },
  {
   "cell_type": "code",
   "execution_count": 20,
   "id": "b6f57937-f708-4ee8-bb5e-688902df91de",
   "metadata": {},
   "outputs": [
    {
     "data": {
      "text/plain": [
       "((214794, 183), (214794, 95))"
      ]
     },
     "execution_count": 20,
     "metadata": {},
     "output_type": "execute_result"
    }
   ],
   "source": [
    "one_min_df.shape, other_features.shape"
   ]
  },
  {
   "cell_type": "markdown",
   "id": "341a9977-28e2-4e84-a493-d0462538f2f6",
   "metadata": {
    "tags": []
   },
   "source": [
    "### dependent_variable"
   ]
  },
  {
   "cell_type": "code",
   "execution_count": 21,
   "id": "01fa26e9-84fc-417f-8f87-d2d4b550b385",
   "metadata": {
    "tags": []
   },
   "outputs": [
    {
     "data": {
      "text/plain": [
       "('s3://sisyphus-general-bucket/AthenaInsights/latest_data/dependent_variable/stock_bars_1min.parquet',\n",
       " 9,\n",
       " ['open',\n",
       "  'high',\n",
       "  'low',\n",
       "  'close',\n",
       "  'close_sma_5m',\n",
       "  'category',\n",
       "  'future_highs',\n",
       "  'future_lows',\n",
       "  'slopes'])"
      ]
     },
     "execution_count": 21,
     "metadata": {},
     "output_type": "execute_result"
    }
   ],
   "source": [
    "cols = eval(all_paths_config['dependent_variable']['1min']['stock_bars_1min']['cols'])\n",
    "path = all_paths_config['dependent_variable']['1min']['stock_bars_1min']['path']\n",
    "path, len(cols), cols"
   ]
  },
  {
   "cell_type": "code",
   "execution_count": 22,
   "id": "5895a0c2-8fd5-494f-8c20-b928584caf6b",
   "metadata": {
    "tags": []
   },
   "outputs": [
    {
     "data": {
      "text/html": [
       "<div>\n",
       "<style scoped>\n",
       "    .dataframe tbody tr th:only-of-type {\n",
       "        vertical-align: middle;\n",
       "    }\n",
       "\n",
       "    .dataframe tbody tr th {\n",
       "        vertical-align: top;\n",
       "    }\n",
       "\n",
       "    .dataframe thead th {\n",
       "        text-align: right;\n",
       "    }\n",
       "</style>\n",
       "<table border=\"1\" class=\"dataframe\">\n",
       "  <thead>\n",
       "    <tr style=\"text-align: right;\">\n",
       "      <th></th>\n",
       "      <th>category</th>\n",
       "    </tr>\n",
       "    <tr>\n",
       "      <th>us_eastern_timestamp</th>\n",
       "      <th></th>\n",
       "    </tr>\n",
       "  </thead>\n",
       "  <tbody>\n",
       "    <tr>\n",
       "      <th>2024-01-02 04:00:00</th>\n",
       "      <td>C</td>\n",
       "    </tr>\n",
       "    <tr>\n",
       "      <th>2024-01-02 04:01:00</th>\n",
       "      <td>C</td>\n",
       "    </tr>\n",
       "    <tr>\n",
       "      <th>2024-01-02 04:02:00</th>\n",
       "      <td>C</td>\n",
       "    </tr>\n",
       "    <tr>\n",
       "      <th>2024-01-02 04:03:00</th>\n",
       "      <td>C</td>\n",
       "    </tr>\n",
       "    <tr>\n",
       "      <th>2024-01-02 04:04:00</th>\n",
       "      <td>C</td>\n",
       "    </tr>\n",
       "  </tbody>\n",
       "</table>\n",
       "</div>"
      ],
      "text/plain": [
       "                     category\n",
       "us_eastern_timestamp         \n",
       "2024-01-02 04:00:00         C\n",
       "2024-01-02 04:01:00         C\n",
       "2024-01-02 04:02:00         C\n",
       "2024-01-02 04:03:00         C\n",
       "2024-01-02 04:04:00         C"
      ]
     },
     "execution_count": 22,
     "metadata": {},
     "output_type": "execute_result"
    }
   ],
   "source": [
    "dependent_var_df = pq.read_pandas(path, columns=['category']).to_pandas() # pq.read_pandas('example.parquet', columns=['two']).to_pandas()\n",
    "dependent_var_df.head()"
   ]
  },
  {
   "cell_type": "code",
   "execution_count": 23,
   "id": "fd66c082-012a-47c1-aee7-e99a52507289",
   "metadata": {
    "tags": []
   },
   "outputs": [
    {
     "data": {
      "text/plain": [
       "True"
      ]
     },
     "execution_count": 23,
     "metadata": {},
     "output_type": "execute_result"
    }
   ],
   "source": [
    "one_min_df.shape[0]==dependent_var_df.shape[0]"
   ]
  },
  {
   "cell_type": "markdown",
   "id": "d28ded45-55b1-4870-9daf-36ee7388aaeb",
   "metadata": {
    "tags": []
   },
   "source": [
    "### final dataset"
   ]
  },
  {
   "cell_type": "code",
   "execution_count": 24,
   "id": "aed04173-089c-48ad-871d-d504d7482304",
   "metadata": {
    "tags": []
   },
   "outputs": [
    {
     "data": {
      "text/html": [
       "<div>\n",
       "<style scoped>\n",
       "    .dataframe tbody tr th:only-of-type {\n",
       "        vertical-align: middle;\n",
       "    }\n",
       "\n",
       "    .dataframe tbody tr th {\n",
       "        vertical-align: top;\n",
       "    }\n",
       "\n",
       "    .dataframe thead th {\n",
       "        text-align: right;\n",
       "    }\n",
       "</style>\n",
       "<table border=\"1\" class=\"dataframe\">\n",
       "  <thead>\n",
       "    <tr style=\"text-align: right;\">\n",
       "      <th></th>\n",
       "      <th>open</th>\n",
       "      <th>high</th>\n",
       "      <th>low</th>\n",
       "      <th>close</th>\n",
       "      <th>volume</th>\n",
       "      <th>time_delta</th>\n",
       "      <th>open_ema_2m</th>\n",
       "      <th>open_sma_2m</th>\n",
       "      <th>high_ema_2m</th>\n",
       "      <th>high_sma_2m</th>\n",
       "      <th>...</th>\n",
       "      <th>cumulative_local_min_15</th>\n",
       "      <th>time_since_prev_max_15</th>\n",
       "      <th>time_since_prev_min_15</th>\n",
       "      <th>local_max_30</th>\n",
       "      <th>local_min_30</th>\n",
       "      <th>cumulative_local_max_30</th>\n",
       "      <th>cumulative_local_min_30</th>\n",
       "      <th>time_since_prev_max_30</th>\n",
       "      <th>time_since_prev_min_30</th>\n",
       "      <th>category</th>\n",
       "    </tr>\n",
       "  </thead>\n",
       "  <tbody>\n",
       "    <tr>\n",
       "      <th>0</th>\n",
       "      <td>476.25</td>\n",
       "      <td>476.36</td>\n",
       "      <td>476.00</td>\n",
       "      <td>476.31</td>\n",
       "      <td>20460.0</td>\n",
       "      <td>NaN</td>\n",
       "      <td>476.250000</td>\n",
       "      <td>NaN</td>\n",
       "      <td>476.360000</td>\n",
       "      <td>NaN</td>\n",
       "      <td>...</td>\n",
       "      <td>0</td>\n",
       "      <td>0</td>\n",
       "      <td>0</td>\n",
       "      <td>False</td>\n",
       "      <td>False</td>\n",
       "      <td>0</td>\n",
       "      <td>0</td>\n",
       "      <td>0</td>\n",
       "      <td>0</td>\n",
       "      <td>NaN</td>\n",
       "    </tr>\n",
       "    <tr>\n",
       "      <th>1</th>\n",
       "      <td>476.34</td>\n",
       "      <td>476.34</td>\n",
       "      <td>476.29</td>\n",
       "      <td>476.29</td>\n",
       "      <td>6369.0</td>\n",
       "      <td>NaN</td>\n",
       "      <td>476.310000</td>\n",
       "      <td>476.295</td>\n",
       "      <td>476.346667</td>\n",
       "      <td>476.350</td>\n",
       "      <td>...</td>\n",
       "      <td>0</td>\n",
       "      <td>1</td>\n",
       "      <td>1</td>\n",
       "      <td>False</td>\n",
       "      <td>False</td>\n",
       "      <td>0</td>\n",
       "      <td>0</td>\n",
       "      <td>1</td>\n",
       "      <td>1</td>\n",
       "      <td>NaN</td>\n",
       "    </tr>\n",
       "    <tr>\n",
       "      <th>2</th>\n",
       "      <td>476.29</td>\n",
       "      <td>476.29</td>\n",
       "      <td>476.28</td>\n",
       "      <td>476.28</td>\n",
       "      <td>6152.0</td>\n",
       "      <td>NaN</td>\n",
       "      <td>476.296667</td>\n",
       "      <td>476.315</td>\n",
       "      <td>476.308889</td>\n",
       "      <td>476.315</td>\n",
       "      <td>...</td>\n",
       "      <td>0</td>\n",
       "      <td>2</td>\n",
       "      <td>2</td>\n",
       "      <td>False</td>\n",
       "      <td>False</td>\n",
       "      <td>0</td>\n",
       "      <td>0</td>\n",
       "      <td>2</td>\n",
       "      <td>2</td>\n",
       "      <td>NaN</td>\n",
       "    </tr>\n",
       "    <tr>\n",
       "      <th>3</th>\n",
       "      <td>476.27</td>\n",
       "      <td>476.27</td>\n",
       "      <td>476.27</td>\n",
       "      <td>476.27</td>\n",
       "      <td>369.0</td>\n",
       "      <td>NaN</td>\n",
       "      <td>476.278889</td>\n",
       "      <td>476.280</td>\n",
       "      <td>476.282963</td>\n",
       "      <td>476.280</td>\n",
       "      <td>...</td>\n",
       "      <td>0</td>\n",
       "      <td>3</td>\n",
       "      <td>3</td>\n",
       "      <td>False</td>\n",
       "      <td>False</td>\n",
       "      <td>0</td>\n",
       "      <td>0</td>\n",
       "      <td>3</td>\n",
       "      <td>3</td>\n",
       "      <td>NaN</td>\n",
       "    </tr>\n",
       "    <tr>\n",
       "      <th>4</th>\n",
       "      <td>476.27</td>\n",
       "      <td>476.27</td>\n",
       "      <td>476.27</td>\n",
       "      <td>476.27</td>\n",
       "      <td>369.0</td>\n",
       "      <td>NaN</td>\n",
       "      <td>476.272963</td>\n",
       "      <td>476.270</td>\n",
       "      <td>476.274321</td>\n",
       "      <td>476.270</td>\n",
       "      <td>...</td>\n",
       "      <td>0</td>\n",
       "      <td>4</td>\n",
       "      <td>4</td>\n",
       "      <td>False</td>\n",
       "      <td>False</td>\n",
       "      <td>0</td>\n",
       "      <td>0</td>\n",
       "      <td>4</td>\n",
       "      <td>4</td>\n",
       "      <td>NaN</td>\n",
       "    </tr>\n",
       "    <tr>\n",
       "      <th>...</th>\n",
       "      <td>...</td>\n",
       "      <td>...</td>\n",
       "      <td>...</td>\n",
       "      <td>...</td>\n",
       "      <td>...</td>\n",
       "      <td>...</td>\n",
       "      <td>...</td>\n",
       "      <td>...</td>\n",
       "      <td>...</td>\n",
       "      <td>...</td>\n",
       "      <td>...</td>\n",
       "      <td>...</td>\n",
       "      <td>...</td>\n",
       "      <td>...</td>\n",
       "      <td>...</td>\n",
       "      <td>...</td>\n",
       "      <td>...</td>\n",
       "      <td>...</td>\n",
       "      <td>...</td>\n",
       "      <td>...</td>\n",
       "      <td>...</td>\n",
       "    </tr>\n",
       "    <tr>\n",
       "      <th>214789</th>\n",
       "      <td>591.53</td>\n",
       "      <td>591.53</td>\n",
       "      <td>591.50</td>\n",
       "      <td>591.52</td>\n",
       "      <td>1052.0</td>\n",
       "      <td>NaN</td>\n",
       "      <td>591.542039</td>\n",
       "      <td>591.530</td>\n",
       "      <td>591.542121</td>\n",
       "      <td>591.530</td>\n",
       "      <td>...</td>\n",
       "      <td>34643</td>\n",
       "      <td>6</td>\n",
       "      <td>0</td>\n",
       "      <td>False</td>\n",
       "      <td>False</td>\n",
       "      <td>27193</td>\n",
       "      <td>23140</td>\n",
       "      <td>6</td>\n",
       "      <td>16</td>\n",
       "      <td>NaN</td>\n",
       "    </tr>\n",
       "    <tr>\n",
       "      <th>214790</th>\n",
       "      <td>591.52</td>\n",
       "      <td>591.54</td>\n",
       "      <td>591.48</td>\n",
       "      <td>591.48</td>\n",
       "      <td>3823.0</td>\n",
       "      <td>NaN</td>\n",
       "      <td>591.527346</td>\n",
       "      <td>591.525</td>\n",
       "      <td>591.540707</td>\n",
       "      <td>591.535</td>\n",
       "      <td>...</td>\n",
       "      <td>34644</td>\n",
       "      <td>7</td>\n",
       "      <td>0</td>\n",
       "      <td>False</td>\n",
       "      <td>False</td>\n",
       "      <td>27193</td>\n",
       "      <td>23140</td>\n",
       "      <td>7</td>\n",
       "      <td>17</td>\n",
       "      <td>NaN</td>\n",
       "    </tr>\n",
       "    <tr>\n",
       "      <th>214791</th>\n",
       "      <td>591.46</td>\n",
       "      <td>591.46</td>\n",
       "      <td>591.41</td>\n",
       "      <td>591.42</td>\n",
       "      <td>3656.0</td>\n",
       "      <td>NaN</td>\n",
       "      <td>591.482449</td>\n",
       "      <td>591.490</td>\n",
       "      <td>591.486902</td>\n",
       "      <td>591.500</td>\n",
       "      <td>...</td>\n",
       "      <td>34645</td>\n",
       "      <td>8</td>\n",
       "      <td>0</td>\n",
       "      <td>False</td>\n",
       "      <td>False</td>\n",
       "      <td>27193</td>\n",
       "      <td>23140</td>\n",
       "      <td>8</td>\n",
       "      <td>18</td>\n",
       "      <td>NaN</td>\n",
       "    </tr>\n",
       "    <tr>\n",
       "      <th>214792</th>\n",
       "      <td>591.40</td>\n",
       "      <td>591.40</td>\n",
       "      <td>591.35</td>\n",
       "      <td>591.39</td>\n",
       "      <td>1354.0</td>\n",
       "      <td>NaN</td>\n",
       "      <td>591.427483</td>\n",
       "      <td>591.430</td>\n",
       "      <td>591.428967</td>\n",
       "      <td>591.430</td>\n",
       "      <td>...</td>\n",
       "      <td>34646</td>\n",
       "      <td>9</td>\n",
       "      <td>0</td>\n",
       "      <td>False</td>\n",
       "      <td>False</td>\n",
       "      <td>27193</td>\n",
       "      <td>23140</td>\n",
       "      <td>9</td>\n",
       "      <td>19</td>\n",
       "      <td>NaN</td>\n",
       "    </tr>\n",
       "    <tr>\n",
       "      <th>214793</th>\n",
       "      <td>591.39</td>\n",
       "      <td>591.40</td>\n",
       "      <td>591.35</td>\n",
       "      <td>591.39</td>\n",
       "      <td>2567.0</td>\n",
       "      <td>NaN</td>\n",
       "      <td>591.402494</td>\n",
       "      <td>591.395</td>\n",
       "      <td>591.409656</td>\n",
       "      <td>591.400</td>\n",
       "      <td>...</td>\n",
       "      <td>34647</td>\n",
       "      <td>10</td>\n",
       "      <td>0</td>\n",
       "      <td>False</td>\n",
       "      <td>False</td>\n",
       "      <td>27193</td>\n",
       "      <td>23140</td>\n",
       "      <td>10</td>\n",
       "      <td>20</td>\n",
       "      <td>NaN</td>\n",
       "    </tr>\n",
       "  </tbody>\n",
       "</table>\n",
       "<p>214794 rows × 182 columns</p>\n",
       "</div>"
      ],
      "text/plain": [
       "          open    high     low   close   volume  time_delta  open_ema_2m  \\\n",
       "0       476.25  476.36  476.00  476.31  20460.0         NaN   476.250000   \n",
       "1       476.34  476.34  476.29  476.29   6369.0         NaN   476.310000   \n",
       "2       476.29  476.29  476.28  476.28   6152.0         NaN   476.296667   \n",
       "3       476.27  476.27  476.27  476.27    369.0         NaN   476.278889   \n",
       "4       476.27  476.27  476.27  476.27    369.0         NaN   476.272963   \n",
       "...        ...     ...     ...     ...      ...         ...          ...   \n",
       "214789  591.53  591.53  591.50  591.52   1052.0         NaN   591.542039   \n",
       "214790  591.52  591.54  591.48  591.48   3823.0         NaN   591.527346   \n",
       "214791  591.46  591.46  591.41  591.42   3656.0         NaN   591.482449   \n",
       "214792  591.40  591.40  591.35  591.39   1354.0         NaN   591.427483   \n",
       "214793  591.39  591.40  591.35  591.39   2567.0         NaN   591.402494   \n",
       "\n",
       "        open_sma_2m  high_ema_2m  high_sma_2m  ...  cumulative_local_min_15  \\\n",
       "0               NaN   476.360000          NaN  ...                        0   \n",
       "1           476.295   476.346667      476.350  ...                        0   \n",
       "2           476.315   476.308889      476.315  ...                        0   \n",
       "3           476.280   476.282963      476.280  ...                        0   \n",
       "4           476.270   476.274321      476.270  ...                        0   \n",
       "...             ...          ...          ...  ...                      ...   \n",
       "214789      591.530   591.542121      591.530  ...                    34643   \n",
       "214790      591.525   591.540707      591.535  ...                    34644   \n",
       "214791      591.490   591.486902      591.500  ...                    34645   \n",
       "214792      591.430   591.428967      591.430  ...                    34646   \n",
       "214793      591.395   591.409656      591.400  ...                    34647   \n",
       "\n",
       "        time_since_prev_max_15  time_since_prev_min_15  local_max_30  \\\n",
       "0                            0                       0         False   \n",
       "1                            1                       1         False   \n",
       "2                            2                       2         False   \n",
       "3                            3                       3         False   \n",
       "4                            4                       4         False   \n",
       "...                        ...                     ...           ...   \n",
       "214789                       6                       0         False   \n",
       "214790                       7                       0         False   \n",
       "214791                       8                       0         False   \n",
       "214792                       9                       0         False   \n",
       "214793                      10                       0         False   \n",
       "\n",
       "        local_min_30  cumulative_local_max_30  cumulative_local_min_30  \\\n",
       "0              False                        0                        0   \n",
       "1              False                        0                        0   \n",
       "2              False                        0                        0   \n",
       "3              False                        0                        0   \n",
       "4              False                        0                        0   \n",
       "...              ...                      ...                      ...   \n",
       "214789         False                    27193                    23140   \n",
       "214790         False                    27193                    23140   \n",
       "214791         False                    27193                    23140   \n",
       "214792         False                    27193                    23140   \n",
       "214793         False                    27193                    23140   \n",
       "\n",
       "        time_since_prev_max_30  time_since_prev_min_30  category  \n",
       "0                            0                       0       NaN  \n",
       "1                            1                       1       NaN  \n",
       "2                            2                       2       NaN  \n",
       "3                            3                       3       NaN  \n",
       "4                            4                       4       NaN  \n",
       "...                        ...                     ...       ...  \n",
       "214789                       6                      16       NaN  \n",
       "214790                       7                      17       NaN  \n",
       "214791                       8                      18       NaN  \n",
       "214792                       9                      19       NaN  \n",
       "214793                      10                      20       NaN  \n",
       "\n",
       "[214794 rows x 182 columns]"
      ]
     },
     "execution_count": 24,
     "metadata": {},
     "output_type": "execute_result"
    }
   ],
   "source": [
    "one_min_df['category'] = dependent_var_df.category\n",
    "one_min_df = one_min_df.drop(columns=['us_eastern_timestamp', 'symbol'])\n",
    "one_min_df"
   ]
  },
  {
   "cell_type": "code",
   "execution_count": 25,
   "id": "fb08c7db-e0a9-4f96-a440-9759aaf93f02",
   "metadata": {
    "tags": []
   },
   "outputs": [
    {
     "data": {
      "text/plain": [
       "'open, high, low, close, volume, time_delta, open_ema_2m, open_sma_2m, high_ema_2m, high_sma_2m, low_ema_2m, low_sma_2m, close_ema_2m, close_sma_2m, volume_ema_2m, volume_sma_2m, open_ema_3m, open_sma_3m, high_ema_3m, high_sma_3m, low_ema_3m, low_sma_3m, close_ema_3m, close_sma_3m, volume_ema_3m, volume_sma_3m, open_ema_5m, open_sma_5m, high_ema_5m, high_sma_5m, low_ema_5m, low_sma_5m, close_ema_5m, close_sma_5m, volume_ema_5m, volume_sma_5m, open_ema_8m, open_sma_8m, high_ema_8m, high_sma_8m, low_ema_8m, low_sma_8m, close_ema_8m, close_sma_8m, volume_ema_8m, volume_sma_8m, open_ema_12m, open_sma_12m, high_ema_12m, high_sma_12m, low_ema_12m, low_sma_12m, close_ema_12m, close_sma_12m, volume_ema_12m, volume_sma_12m, open_ema_10m, open_sma_10m, high_ema_10m, high_sma_10m, low_ema_10m, low_sma_10m, close_ema_10m, close_sma_10m, volume_ema_10m, volume_sma_10m, open_ema_20m, open_sma_20m, high_ema_20m, high_sma_20m, low_ema_20m, low_sma_20m, close_ema_20m, close_sma_20m, volume_ema_20m, volume_sma_20m, open_ema_26m, open_sma_26m, high_ema_26m, high_sma_26m, low_ema_26m, low_sma_26m, close_ema_26m, close_sma_26m, volume_ema_26m, volume_sma_26m, open_lag_1, high_lag_1, low_lag_1, close_lag_1, open_lag_2, high_lag_2, low_lag_2, close_lag_2, open_lag_3, high_lag_3, low_lag_3, close_lag_3, open_lag_4, high_lag_4, low_lag_4, close_lag_4, open_lag_5, high_lag_5, low_lag_5, close_lag_5, open_lag_6, high_lag_6, low_lag_6, close_lag_6, open_lag_7, high_lag_7, low_lag_7, close_lag_7, open_lag_8, high_lag_8, low_lag_8, close_lag_8, open_lag_9, high_lag_9, low_lag_9, close_lag_9, open_lag_10, high_lag_10, low_lag_10, close_lag_10, open_lag_11, high_lag_11, low_lag_11, close_lag_11, open_lag_12, high_lag_12, low_lag_12, close_lag_12, open_lag_13, high_lag_13, low_lag_13, close_lag_13, open_lag_14, high_lag_14, low_lag_14, close_lag_14, open_lag_15, high_lag_15, low_lag_15, close_lag_15, price_change, direction, cumulative_ups, cumulative_downs, direction_change_up_to_down, direction_change_down_to_up, prev_cumulative_ups, prev_cumulative_downs, hour, minute, day_of_year, local_max_5, local_min_5, cumulative_local_max_5, cumulative_local_min_5, time_since_prev_max_5, time_since_prev_min_5, local_max_10, local_min_10, cumulative_local_max_10, cumulative_local_min_10, time_since_prev_max_10, time_since_prev_min_10, local_max_15, local_min_15, cumulative_local_max_15, cumulative_local_min_15, time_since_prev_max_15, time_since_prev_min_15, local_max_30, local_min_30, cumulative_local_max_30, cumulative_local_min_30, time_since_prev_max_30, time_since_prev_min_30, category'"
      ]
     },
     "execution_count": 25,
     "metadata": {},
     "output_type": "execute_result"
    }
   ],
   "source": [
    "', '.join(one_min_df.columns)"
   ]
  },
  {
   "cell_type": "code",
   "execution_count": 26,
   "id": "07749999-bd66-4cf7-9cc6-c01f9a4d1da8",
   "metadata": {
    "tags": []
   },
   "outputs": [],
   "source": [
    "one_min_df.to_parquet('s3://sisyphus-general-bucket/AthenaInsights/latest_data/model/data/stock_bars_1min.parquet' )"
   ]
  },
  {
   "cell_type": "markdown",
   "id": "2f312adc-f9a7-4255-8db7-a8612bb7caab",
   "metadata": {},
   "source": [
    "### setting up training"
   ]
  },
  {
   "cell_type": "code",
   "execution_count": 28,
   "id": "d722ddd5-aba6-4e98-90c9-5d20985ae8e4",
   "metadata": {
    "tags": []
   },
   "outputs": [
    {
     "ename": "TypeError",
     "evalue": "Descriptors cannot be created directly.\nIf this call came from a _pb2.py file, your generated code is out of date and must be regenerated with protoc >= 3.19.0.\nIf you cannot immediately regenerate your protos, some other possible workarounds are:\n 1. Downgrade the protobuf package to 3.20.x or lower.\n 2. Set PROTOCOL_BUFFERS_PYTHON_IMPLEMENTATION=python (but this will use pure-Python parsing and will be much slower).\n\nMore information: https://developers.google.com/protocol-buffers/docs/news/2022-05-06#python-updates",
     "output_type": "error",
     "traceback": [
      "\u001b[0;31m---------------------------------------------------------------------------\u001b[0m",
      "\u001b[0;31mTypeError\u001b[0m                                 Traceback (most recent call last)",
      "Cell \u001b[0;32mIn[28], line 1\u001b[0m\n\u001b[0;32m----> 1\u001b[0m \u001b[38;5;28;01mimport\u001b[39;00m \u001b[38;5;21;01msagemaker\u001b[39;00m\n\u001b[1;32m      2\u001b[0m \u001b[38;5;28;01mimport\u001b[39;00m \u001b[38;5;21;01mboto3\u001b[39;00m\n\u001b[1;32m      3\u001b[0m \u001b[38;5;28;01mimport\u001b[39;00m \u001b[38;5;21;01mpandas\u001b[39;00m \u001b[38;5;28;01mas\u001b[39;00m \u001b[38;5;21;01mpd\u001b[39;00m\n",
      "File \u001b[0;32m~/anaconda3/envs/fools_gold/lib/python3.9/site-packages/sagemaker/__init__.py:18\u001b[0m\n\u001b[1;32m     14\u001b[0m \u001b[38;5;28;01mfrom\u001b[39;00m \u001b[38;5;21;01m__future__\u001b[39;00m \u001b[38;5;28;01mimport\u001b[39;00m absolute_import\n\u001b[1;32m     16\u001b[0m \u001b[38;5;28;01mimport\u001b[39;00m \u001b[38;5;21;01mimportlib_metadata\u001b[39;00m\n\u001b[0;32m---> 18\u001b[0m \u001b[38;5;28;01mfrom\u001b[39;00m \u001b[38;5;21;01msagemaker\u001b[39;00m \u001b[38;5;28;01mimport\u001b[39;00m estimator, parameter, tuner  \u001b[38;5;66;03m# noqa: F401\u001b[39;00m\n\u001b[1;32m     19\u001b[0m \u001b[38;5;28;01mfrom\u001b[39;00m \u001b[38;5;21;01msagemaker\u001b[39;00m\u001b[38;5;21;01m.\u001b[39;00m\u001b[38;5;21;01mamazon\u001b[39;00m\u001b[38;5;21;01m.\u001b[39;00m\u001b[38;5;21;01mkmeans\u001b[39;00m \u001b[38;5;28;01mimport\u001b[39;00m KMeans, KMeansModel, KMeansPredictor  \u001b[38;5;66;03m# noqa: F401\u001b[39;00m\n\u001b[1;32m     20\u001b[0m \u001b[38;5;28;01mfrom\u001b[39;00m \u001b[38;5;21;01msagemaker\u001b[39;00m\u001b[38;5;21;01m.\u001b[39;00m\u001b[38;5;21;01mamazon\u001b[39;00m\u001b[38;5;21;01m.\u001b[39;00m\u001b[38;5;21;01mpca\u001b[39;00m \u001b[38;5;28;01mimport\u001b[39;00m PCA, PCAModel, PCAPredictor  \u001b[38;5;66;03m# noqa: F401\u001b[39;00m\n",
      "File \u001b[0;32m~/anaconda3/envs/fools_gold/lib/python3.9/site-packages/sagemaker/estimator.py:27\u001b[0m\n\u001b[1;32m     24\u001b[0m \u001b[38;5;28;01mfrom\u001b[39;00m \u001b[38;5;21;01msix\u001b[39;00m\u001b[38;5;21;01m.\u001b[39;00m\u001b[38;5;21;01mmoves\u001b[39;00m\u001b[38;5;21;01m.\u001b[39;00m\u001b[38;5;21;01murllib\u001b[39;00m\u001b[38;5;21;01m.\u001b[39;00m\u001b[38;5;21;01mparse\u001b[39;00m \u001b[38;5;28;01mimport\u001b[39;00m urlparse\n\u001b[1;32m     26\u001b[0m \u001b[38;5;28;01mimport\u001b[39;00m \u001b[38;5;21;01msagemaker\u001b[39;00m\n\u001b[0;32m---> 27\u001b[0m \u001b[38;5;28;01mfrom\u001b[39;00m \u001b[38;5;21;01msagemaker\u001b[39;00m \u001b[38;5;28;01mimport\u001b[39;00m git_utils, image_uris, vpc_utils\n\u001b[1;32m     28\u001b[0m \u001b[38;5;28;01mfrom\u001b[39;00m \u001b[38;5;21;01msagemaker\u001b[39;00m\u001b[38;5;21;01m.\u001b[39;00m\u001b[38;5;21;01manalytics\u001b[39;00m \u001b[38;5;28;01mimport\u001b[39;00m TrainingJobAnalytics\n\u001b[1;32m     29\u001b[0m \u001b[38;5;28;01mfrom\u001b[39;00m \u001b[38;5;21;01msagemaker\u001b[39;00m\u001b[38;5;21;01m.\u001b[39;00m\u001b[38;5;21;01mdebugger\u001b[39;00m \u001b[38;5;28;01mimport\u001b[39;00m (  \u001b[38;5;66;03m# noqa: F401 # pylint: disable=unused-import\u001b[39;00m\n\u001b[1;32m     30\u001b[0m     DEBUGGER_FLAG,\n\u001b[1;32m     31\u001b[0m     DebuggerHookConfig,\n\u001b[0;32m   (...)\u001b[0m\n\u001b[1;32m     38\u001b[0m     get_rule_container_image_uri,\n\u001b[1;32m     39\u001b[0m )\n",
      "File \u001b[0;32m~/anaconda3/envs/fools_gold/lib/python3.9/site-packages/sagemaker/image_uris.py:24\u001b[0m\n\u001b[1;32m     22\u001b[0m \u001b[38;5;28;01mfrom\u001b[39;00m \u001b[38;5;21;01msagemaker\u001b[39;00m \u001b[38;5;28;01mimport\u001b[39;00m utils\n\u001b[1;32m     23\u001b[0m \u001b[38;5;28;01mfrom\u001b[39;00m \u001b[38;5;21;01msagemaker\u001b[39;00m\u001b[38;5;21;01m.\u001b[39;00m\u001b[38;5;21;01mjumpstart\u001b[39;00m\u001b[38;5;21;01m.\u001b[39;00m\u001b[38;5;21;01mutils\u001b[39;00m \u001b[38;5;28;01mimport\u001b[39;00m is_jumpstart_model_input\n\u001b[0;32m---> 24\u001b[0m \u001b[38;5;28;01mfrom\u001b[39;00m \u001b[38;5;21;01msagemaker\u001b[39;00m\u001b[38;5;21;01m.\u001b[39;00m\u001b[38;5;21;01mspark\u001b[39;00m \u001b[38;5;28;01mimport\u001b[39;00m defaults\n\u001b[1;32m     25\u001b[0m \u001b[38;5;28;01mfrom\u001b[39;00m \u001b[38;5;21;01msagemaker\u001b[39;00m\u001b[38;5;21;01m.\u001b[39;00m\u001b[38;5;21;01mjumpstart\u001b[39;00m \u001b[38;5;28;01mimport\u001b[39;00m artifacts\n\u001b[1;32m     28\u001b[0m logger \u001b[38;5;241m=\u001b[39m logging\u001b[38;5;241m.\u001b[39mgetLogger(\u001b[38;5;18m__name__\u001b[39m)\n",
      "File \u001b[0;32m~/anaconda3/envs/fools_gold/lib/python3.9/site-packages/sagemaker/spark/__init__.py:16\u001b[0m\n\u001b[1;32m     13\u001b[0m \u001b[38;5;124;03m\"\"\"Placeholder docstring\"\"\"\u001b[39;00m\n\u001b[1;32m     14\u001b[0m \u001b[38;5;28;01mfrom\u001b[39;00m \u001b[38;5;21;01m__future__\u001b[39;00m \u001b[38;5;28;01mimport\u001b[39;00m absolute_import\n\u001b[0;32m---> 16\u001b[0m \u001b[38;5;28;01mfrom\u001b[39;00m \u001b[38;5;21;01msagemaker\u001b[39;00m\u001b[38;5;21;01m.\u001b[39;00m\u001b[38;5;21;01mspark\u001b[39;00m\u001b[38;5;21;01m.\u001b[39;00m\u001b[38;5;21;01mprocessing\u001b[39;00m \u001b[38;5;28;01mimport\u001b[39;00m PySparkProcessor, SparkJarProcessor  \u001b[38;5;66;03m# noqa: F401\u001b[39;00m\n",
      "File \u001b[0;32m~/anaconda3/envs/fools_gold/lib/python3.9/site-packages/sagemaker/spark/processing.py:35\u001b[0m\n\u001b[1;32m     32\u001b[0m \u001b[38;5;28;01mfrom\u001b[39;00m \u001b[38;5;21;01murllib\u001b[39;00m\u001b[38;5;21;01m.\u001b[39;00m\u001b[38;5;21;01mparse\u001b[39;00m \u001b[38;5;28;01mimport\u001b[39;00m urlparse\n\u001b[1;32m     34\u001b[0m \u001b[38;5;28;01mfrom\u001b[39;00m \u001b[38;5;21;01msagemaker\u001b[39;00m \u001b[38;5;28;01mimport\u001b[39;00m image_uris\n\u001b[0;32m---> 35\u001b[0m \u001b[38;5;28;01mfrom\u001b[39;00m \u001b[38;5;21;01msagemaker\u001b[39;00m\u001b[38;5;21;01m.\u001b[39;00m\u001b[38;5;21;01mlocal\u001b[39;00m\u001b[38;5;21;01m.\u001b[39;00m\u001b[38;5;21;01mimage\u001b[39;00m \u001b[38;5;28;01mimport\u001b[39;00m _ecr_login_if_needed, _pull_image\n\u001b[1;32m     36\u001b[0m \u001b[38;5;28;01mfrom\u001b[39;00m \u001b[38;5;21;01msagemaker\u001b[39;00m\u001b[38;5;21;01m.\u001b[39;00m\u001b[38;5;21;01mprocessing\u001b[39;00m \u001b[38;5;28;01mimport\u001b[39;00m ProcessingInput, ProcessingOutput, ScriptProcessor\n\u001b[1;32m     37\u001b[0m \u001b[38;5;28;01mfrom\u001b[39;00m \u001b[38;5;21;01msagemaker\u001b[39;00m\u001b[38;5;21;01m.\u001b[39;00m\u001b[38;5;21;01ms3\u001b[39;00m \u001b[38;5;28;01mimport\u001b[39;00m S3Uploader\n",
      "File \u001b[0;32m~/anaconda3/envs/fools_gold/lib/python3.9/site-packages/sagemaker/local/__init__.py:16\u001b[0m\n\u001b[1;32m     13\u001b[0m \u001b[38;5;124;03m\"\"\"Placeholder docstring\"\"\"\u001b[39;00m\n\u001b[1;32m     14\u001b[0m \u001b[38;5;28;01mfrom\u001b[39;00m \u001b[38;5;21;01m__future__\u001b[39;00m \u001b[38;5;28;01mimport\u001b[39;00m absolute_import\n\u001b[0;32m---> 16\u001b[0m \u001b[38;5;28;01mfrom\u001b[39;00m \u001b[38;5;21;01m.\u001b[39;00m\u001b[38;5;21;01mlocal_session\u001b[39;00m \u001b[38;5;28;01mimport\u001b[39;00m (  \u001b[38;5;66;03m# noqa: F401\u001b[39;00m\n\u001b[1;32m     17\u001b[0m     file_input,\n\u001b[1;32m     18\u001b[0m     LocalSagemakerClient,\n\u001b[1;32m     19\u001b[0m     LocalSagemakerRuntimeClient,\n\u001b[1;32m     20\u001b[0m     LocalSession,\n\u001b[1;32m     21\u001b[0m )\n",
      "File \u001b[0;32m~/anaconda3/envs/fools_gold/lib/python3.9/site-packages/sagemaker/local/local_session.py:23\u001b[0m\n\u001b[1;32m     20\u001b[0m \u001b[38;5;28;01mimport\u001b[39;00m \u001b[38;5;21;01mboto3\u001b[39;00m\n\u001b[1;32m     21\u001b[0m \u001b[38;5;28;01mfrom\u001b[39;00m \u001b[38;5;21;01mbotocore\u001b[39;00m\u001b[38;5;21;01m.\u001b[39;00m\u001b[38;5;21;01mexceptions\u001b[39;00m \u001b[38;5;28;01mimport\u001b[39;00m ClientError\n\u001b[0;32m---> 23\u001b[0m \u001b[38;5;28;01mfrom\u001b[39;00m \u001b[38;5;21;01msagemaker\u001b[39;00m\u001b[38;5;21;01m.\u001b[39;00m\u001b[38;5;21;01mlocal\u001b[39;00m\u001b[38;5;21;01m.\u001b[39;00m\u001b[38;5;21;01mimage\u001b[39;00m \u001b[38;5;28;01mimport\u001b[39;00m _SageMakerContainer\n\u001b[1;32m     24\u001b[0m \u001b[38;5;28;01mfrom\u001b[39;00m \u001b[38;5;21;01msagemaker\u001b[39;00m\u001b[38;5;21;01m.\u001b[39;00m\u001b[38;5;21;01mlocal\u001b[39;00m\u001b[38;5;21;01m.\u001b[39;00m\u001b[38;5;21;01mentities\u001b[39;00m \u001b[38;5;28;01mimport\u001b[39;00m (\n\u001b[1;32m     25\u001b[0m     _LocalEndpointConfig,\n\u001b[1;32m     26\u001b[0m     _LocalEndpoint,\n\u001b[0;32m   (...)\u001b[0m\n\u001b[1;32m     30\u001b[0m     _LocalTransformJob,\n\u001b[1;32m     31\u001b[0m )\n\u001b[1;32m     32\u001b[0m \u001b[38;5;28;01mfrom\u001b[39;00m \u001b[38;5;21;01msagemaker\u001b[39;00m\u001b[38;5;21;01m.\u001b[39;00m\u001b[38;5;21;01msession\u001b[39;00m \u001b[38;5;28;01mimport\u001b[39;00m Session\n",
      "File \u001b[0;32m~/anaconda3/envs/fools_gold/lib/python3.9/site-packages/sagemaker/local/image.py:38\u001b[0m\n\u001b[1;32m     35\u001b[0m \u001b[38;5;28;01mfrom\u001b[39;00m \u001b[38;5;21;01msix\u001b[39;00m\u001b[38;5;21;01m.\u001b[39;00m\u001b[38;5;21;01mmoves\u001b[39;00m\u001b[38;5;21;01m.\u001b[39;00m\u001b[38;5;21;01murllib\u001b[39;00m\u001b[38;5;21;01m.\u001b[39;00m\u001b[38;5;21;01mparse\u001b[39;00m \u001b[38;5;28;01mimport\u001b[39;00m urlparse\n\u001b[1;32m     37\u001b[0m \u001b[38;5;28;01mimport\u001b[39;00m \u001b[38;5;21;01msagemaker\u001b[39;00m\n\u001b[0;32m---> 38\u001b[0m \u001b[38;5;28;01mimport\u001b[39;00m \u001b[38;5;21;01msagemaker\u001b[39;00m\u001b[38;5;21;01m.\u001b[39;00m\u001b[38;5;21;01mlocal\u001b[39;00m\u001b[38;5;21;01m.\u001b[39;00m\u001b[38;5;21;01mdata\u001b[39;00m\n\u001b[1;32m     39\u001b[0m \u001b[38;5;28;01mimport\u001b[39;00m \u001b[38;5;21;01msagemaker\u001b[39;00m\u001b[38;5;21;01m.\u001b[39;00m\u001b[38;5;21;01mlocal\u001b[39;00m\u001b[38;5;21;01m.\u001b[39;00m\u001b[38;5;21;01mutils\u001b[39;00m\n\u001b[1;32m     40\u001b[0m \u001b[38;5;28;01mimport\u001b[39;00m \u001b[38;5;21;01msagemaker\u001b[39;00m\u001b[38;5;21;01m.\u001b[39;00m\u001b[38;5;21;01mutils\u001b[39;00m\n",
      "File \u001b[0;32m~/anaconda3/envs/fools_gold/lib/python3.9/site-packages/sagemaker/local/data.py:26\u001b[0m\n\u001b[1;32m     22\u001b[0m \u001b[38;5;28;01mfrom\u001b[39;00m \u001b[38;5;21;01msix\u001b[39;00m \u001b[38;5;28;01mimport\u001b[39;00m with_metaclass\n\u001b[1;32m     24\u001b[0m \u001b[38;5;28;01mfrom\u001b[39;00m \u001b[38;5;21;01msix\u001b[39;00m\u001b[38;5;21;01m.\u001b[39;00m\u001b[38;5;21;01mmoves\u001b[39;00m\u001b[38;5;21;01m.\u001b[39;00m\u001b[38;5;21;01murllib\u001b[39;00m\u001b[38;5;21;01m.\u001b[39;00m\u001b[38;5;21;01mparse\u001b[39;00m \u001b[38;5;28;01mimport\u001b[39;00m urlparse\n\u001b[0;32m---> 26\u001b[0m \u001b[38;5;28;01mimport\u001b[39;00m \u001b[38;5;21;01msagemaker\u001b[39;00m\u001b[38;5;21;01m.\u001b[39;00m\u001b[38;5;21;01mamazon\u001b[39;00m\u001b[38;5;21;01m.\u001b[39;00m\u001b[38;5;21;01mcommon\u001b[39;00m\n\u001b[1;32m     27\u001b[0m \u001b[38;5;28;01mimport\u001b[39;00m \u001b[38;5;21;01msagemaker\u001b[39;00m\u001b[38;5;21;01m.\u001b[39;00m\u001b[38;5;21;01mlocal\u001b[39;00m\u001b[38;5;21;01m.\u001b[39;00m\u001b[38;5;21;01mutils\u001b[39;00m\n\u001b[1;32m     28\u001b[0m \u001b[38;5;28;01mimport\u001b[39;00m \u001b[38;5;21;01msagemaker\u001b[39;00m\u001b[38;5;21;01m.\u001b[39;00m\u001b[38;5;21;01mutils\u001b[39;00m\n",
      "File \u001b[0;32m~/anaconda3/envs/fools_gold/lib/python3.9/site-packages/sagemaker/amazon/common.py:23\u001b[0m\n\u001b[1;32m     19\u001b[0m \u001b[38;5;28;01mimport\u001b[39;00m \u001b[38;5;21;01msys\u001b[39;00m\n\u001b[1;32m     21\u001b[0m \u001b[38;5;28;01mimport\u001b[39;00m \u001b[38;5;21;01mnumpy\u001b[39;00m \u001b[38;5;28;01mas\u001b[39;00m \u001b[38;5;21;01mnp\u001b[39;00m\n\u001b[0;32m---> 23\u001b[0m \u001b[38;5;28;01mfrom\u001b[39;00m \u001b[38;5;21;01msagemaker\u001b[39;00m\u001b[38;5;21;01m.\u001b[39;00m\u001b[38;5;21;01mamazon\u001b[39;00m\u001b[38;5;21;01m.\u001b[39;00m\u001b[38;5;21;01mrecord_pb2\u001b[39;00m \u001b[38;5;28;01mimport\u001b[39;00m Record\n\u001b[1;32m     24\u001b[0m \u001b[38;5;28;01mfrom\u001b[39;00m \u001b[38;5;21;01msagemaker\u001b[39;00m\u001b[38;5;21;01m.\u001b[39;00m\u001b[38;5;21;01mdeprecations\u001b[39;00m \u001b[38;5;28;01mimport\u001b[39;00m deprecated_class\n\u001b[1;32m     25\u001b[0m \u001b[38;5;28;01mfrom\u001b[39;00m \u001b[38;5;21;01msagemaker\u001b[39;00m\u001b[38;5;21;01m.\u001b[39;00m\u001b[38;5;21;01mdeserializers\u001b[39;00m \u001b[38;5;28;01mimport\u001b[39;00m SimpleBaseDeserializer\n",
      "File \u001b[0;32m~/anaconda3/envs/fools_gold/lib/python3.9/site-packages/sagemaker/amazon/record_pb2.py:36\u001b[0m\n\u001b[1;32m     16\u001b[0m _sym_db \u001b[38;5;241m=\u001b[39m _symbol_database\u001b[38;5;241m.\u001b[39mDefault()\n\u001b[1;32m     19\u001b[0m DESCRIPTOR \u001b[38;5;241m=\u001b[39m _descriptor\u001b[38;5;241m.\u001b[39mFileDescriptor(\n\u001b[1;32m     20\u001b[0m     name\u001b[38;5;241m=\u001b[39m\u001b[38;5;124m\"\u001b[39m\u001b[38;5;124mrecord.proto\u001b[39m\u001b[38;5;124m\"\u001b[39m,\n\u001b[1;32m     21\u001b[0m     package\u001b[38;5;241m=\u001b[39m\u001b[38;5;124m\"\u001b[39m\u001b[38;5;124maialgs.data\u001b[39m\u001b[38;5;124m\"\u001b[39m,\n\u001b[0;32m   (...)\u001b[0m\n\u001b[1;32m     25\u001b[0m     ),\n\u001b[1;32m     26\u001b[0m )\n\u001b[1;32m     29\u001b[0m _FLOAT32TENSOR \u001b[38;5;241m=\u001b[39m _descriptor\u001b[38;5;241m.\u001b[39mDescriptor(\n\u001b[1;32m     30\u001b[0m     name\u001b[38;5;241m=\u001b[39m\u001b[38;5;124m\"\u001b[39m\u001b[38;5;124mFloat32Tensor\u001b[39m\u001b[38;5;124m\"\u001b[39m,\n\u001b[1;32m     31\u001b[0m     full_name\u001b[38;5;241m=\u001b[39m\u001b[38;5;124m\"\u001b[39m\u001b[38;5;124maialgs.data.Float32Tensor\u001b[39m\u001b[38;5;124m\"\u001b[39m,\n\u001b[1;32m     32\u001b[0m     filename\u001b[38;5;241m=\u001b[39m\u001b[38;5;28;01mNone\u001b[39;00m,\n\u001b[1;32m     33\u001b[0m     file\u001b[38;5;241m=\u001b[39mDESCRIPTOR,\n\u001b[1;32m     34\u001b[0m     containing_type\u001b[38;5;241m=\u001b[39m\u001b[38;5;28;01mNone\u001b[39;00m,\n\u001b[1;32m     35\u001b[0m     fields\u001b[38;5;241m=\u001b[39m[\n\u001b[0;32m---> 36\u001b[0m         \u001b[43m_descriptor\u001b[49m\u001b[38;5;241;43m.\u001b[39;49m\u001b[43mFieldDescriptor\u001b[49m\u001b[43m(\u001b[49m\n\u001b[1;32m     37\u001b[0m \u001b[43m            \u001b[49m\u001b[43mname\u001b[49m\u001b[38;5;241;43m=\u001b[39;49m\u001b[38;5;124;43m\"\u001b[39;49m\u001b[38;5;124;43mvalues\u001b[39;49m\u001b[38;5;124;43m\"\u001b[39;49m\u001b[43m,\u001b[49m\n\u001b[1;32m     38\u001b[0m \u001b[43m            \u001b[49m\u001b[43mfull_name\u001b[49m\u001b[38;5;241;43m=\u001b[39;49m\u001b[38;5;124;43m\"\u001b[39;49m\u001b[38;5;124;43maialgs.data.Float32Tensor.values\u001b[39;49m\u001b[38;5;124;43m\"\u001b[39;49m\u001b[43m,\u001b[49m\n\u001b[1;32m     39\u001b[0m \u001b[43m            \u001b[49m\u001b[43mindex\u001b[49m\u001b[38;5;241;43m=\u001b[39;49m\u001b[38;5;241;43m0\u001b[39;49m\u001b[43m,\u001b[49m\n\u001b[1;32m     40\u001b[0m \u001b[43m            \u001b[49m\u001b[43mnumber\u001b[49m\u001b[38;5;241;43m=\u001b[39;49m\u001b[38;5;241;43m1\u001b[39;49m\u001b[43m,\u001b[49m\n\u001b[1;32m     41\u001b[0m \u001b[43m            \u001b[49m\u001b[38;5;28;43mtype\u001b[39;49m\u001b[38;5;241;43m=\u001b[39;49m\u001b[38;5;241;43m2\u001b[39;49m\u001b[43m,\u001b[49m\n\u001b[1;32m     42\u001b[0m \u001b[43m            \u001b[49m\u001b[43mcpp_type\u001b[49m\u001b[38;5;241;43m=\u001b[39;49m\u001b[38;5;241;43m6\u001b[39;49m\u001b[43m,\u001b[49m\n\u001b[1;32m     43\u001b[0m \u001b[43m            \u001b[49m\u001b[43mlabel\u001b[49m\u001b[38;5;241;43m=\u001b[39;49m\u001b[38;5;241;43m3\u001b[39;49m\u001b[43m,\u001b[49m\n\u001b[1;32m     44\u001b[0m \u001b[43m            \u001b[49m\u001b[43mhas_default_value\u001b[49m\u001b[38;5;241;43m=\u001b[39;49m\u001b[38;5;28;43;01mFalse\u001b[39;49;00m\u001b[43m,\u001b[49m\n\u001b[1;32m     45\u001b[0m \u001b[43m            \u001b[49m\u001b[43mdefault_value\u001b[49m\u001b[38;5;241;43m=\u001b[39;49m\u001b[43m[\u001b[49m\u001b[43m]\u001b[49m\u001b[43m,\u001b[49m\n\u001b[1;32m     46\u001b[0m \u001b[43m            \u001b[49m\u001b[43mmessage_type\u001b[49m\u001b[38;5;241;43m=\u001b[39;49m\u001b[38;5;28;43;01mNone\u001b[39;49;00m\u001b[43m,\u001b[49m\n\u001b[1;32m     47\u001b[0m \u001b[43m            \u001b[49m\u001b[43menum_type\u001b[49m\u001b[38;5;241;43m=\u001b[39;49m\u001b[38;5;28;43;01mNone\u001b[39;49;00m\u001b[43m,\u001b[49m\n\u001b[1;32m     48\u001b[0m \u001b[43m            \u001b[49m\u001b[43mcontaining_type\u001b[49m\u001b[38;5;241;43m=\u001b[39;49m\u001b[38;5;28;43;01mNone\u001b[39;49;00m\u001b[43m,\u001b[49m\n\u001b[1;32m     49\u001b[0m \u001b[43m            \u001b[49m\u001b[43mis_extension\u001b[49m\u001b[38;5;241;43m=\u001b[39;49m\u001b[38;5;28;43;01mFalse\u001b[39;49;00m\u001b[43m,\u001b[49m\n\u001b[1;32m     50\u001b[0m \u001b[43m            \u001b[49m\u001b[43mextension_scope\u001b[49m\u001b[38;5;241;43m=\u001b[39;49m\u001b[38;5;28;43;01mNone\u001b[39;49;00m\u001b[43m,\u001b[49m\n\u001b[1;32m     51\u001b[0m \u001b[43m            \u001b[49m\u001b[43moptions\u001b[49m\u001b[38;5;241;43m=\u001b[39;49m\u001b[43m_descriptor\u001b[49m\u001b[38;5;241;43m.\u001b[39;49m\u001b[43m_ParseOptions\u001b[49m\u001b[43m(\u001b[49m\u001b[43mdescriptor_pb2\u001b[49m\u001b[38;5;241;43m.\u001b[39;49m\u001b[43mFieldOptions\u001b[49m\u001b[43m(\u001b[49m\u001b[43m)\u001b[49m\u001b[43m,\u001b[49m\u001b[43m \u001b[49m\u001b[43m_b\u001b[49m\u001b[43m(\u001b[49m\u001b[38;5;124;43m\"\u001b[39;49m\u001b[38;5;130;43;01m\\020\u001b[39;49;00m\u001b[38;5;130;43;01m\\001\u001b[39;49;00m\u001b[38;5;124;43m\"\u001b[39;49m\u001b[43m)\u001b[49m\u001b[43m)\u001b[49m\u001b[43m,\u001b[49m\n\u001b[1;32m     52\u001b[0m \u001b[43m            \u001b[49m\u001b[43mfile\u001b[49m\u001b[38;5;241;43m=\u001b[39;49m\u001b[43mDESCRIPTOR\u001b[49m\u001b[43m,\u001b[49m\n\u001b[1;32m     53\u001b[0m \u001b[43m        \u001b[49m\u001b[43m)\u001b[49m,\n\u001b[1;32m     54\u001b[0m         _descriptor\u001b[38;5;241m.\u001b[39mFieldDescriptor(\n\u001b[1;32m     55\u001b[0m             name\u001b[38;5;241m=\u001b[39m\u001b[38;5;124m\"\u001b[39m\u001b[38;5;124mkeys\u001b[39m\u001b[38;5;124m\"\u001b[39m,\n\u001b[1;32m     56\u001b[0m             full_name\u001b[38;5;241m=\u001b[39m\u001b[38;5;124m\"\u001b[39m\u001b[38;5;124maialgs.data.Float32Tensor.keys\u001b[39m\u001b[38;5;124m\"\u001b[39m,\n\u001b[1;32m     57\u001b[0m             index\u001b[38;5;241m=\u001b[39m\u001b[38;5;241m1\u001b[39m,\n\u001b[1;32m     58\u001b[0m             number\u001b[38;5;241m=\u001b[39m\u001b[38;5;241m2\u001b[39m,\n\u001b[1;32m     59\u001b[0m             \u001b[38;5;28mtype\u001b[39m\u001b[38;5;241m=\u001b[39m\u001b[38;5;241m4\u001b[39m,\n\u001b[1;32m     60\u001b[0m             cpp_type\u001b[38;5;241m=\u001b[39m\u001b[38;5;241m4\u001b[39m,\n\u001b[1;32m     61\u001b[0m             label\u001b[38;5;241m=\u001b[39m\u001b[38;5;241m3\u001b[39m,\n\u001b[1;32m     62\u001b[0m             has_default_value\u001b[38;5;241m=\u001b[39m\u001b[38;5;28;01mFalse\u001b[39;00m,\n\u001b[1;32m     63\u001b[0m             default_value\u001b[38;5;241m=\u001b[39m[],\n\u001b[1;32m     64\u001b[0m             message_type\u001b[38;5;241m=\u001b[39m\u001b[38;5;28;01mNone\u001b[39;00m,\n\u001b[1;32m     65\u001b[0m             enum_type\u001b[38;5;241m=\u001b[39m\u001b[38;5;28;01mNone\u001b[39;00m,\n\u001b[1;32m     66\u001b[0m             containing_type\u001b[38;5;241m=\u001b[39m\u001b[38;5;28;01mNone\u001b[39;00m,\n\u001b[1;32m     67\u001b[0m             is_extension\u001b[38;5;241m=\u001b[39m\u001b[38;5;28;01mFalse\u001b[39;00m,\n\u001b[1;32m     68\u001b[0m             extension_scope\u001b[38;5;241m=\u001b[39m\u001b[38;5;28;01mNone\u001b[39;00m,\n\u001b[1;32m     69\u001b[0m             options\u001b[38;5;241m=\u001b[39m_descriptor\u001b[38;5;241m.\u001b[39m_ParseOptions(descriptor_pb2\u001b[38;5;241m.\u001b[39mFieldOptions(), _b(\u001b[38;5;124m\"\u001b[39m\u001b[38;5;130;01m\\020\u001b[39;00m\u001b[38;5;130;01m\\001\u001b[39;00m\u001b[38;5;124m\"\u001b[39m)),\n\u001b[1;32m     70\u001b[0m             file\u001b[38;5;241m=\u001b[39mDESCRIPTOR,\n\u001b[1;32m     71\u001b[0m         ),\n\u001b[1;32m     72\u001b[0m         _descriptor\u001b[38;5;241m.\u001b[39mFieldDescriptor(\n\u001b[1;32m     73\u001b[0m             name\u001b[38;5;241m=\u001b[39m\u001b[38;5;124m\"\u001b[39m\u001b[38;5;124mshape\u001b[39m\u001b[38;5;124m\"\u001b[39m,\n\u001b[1;32m     74\u001b[0m             full_name\u001b[38;5;241m=\u001b[39m\u001b[38;5;124m\"\u001b[39m\u001b[38;5;124maialgs.data.Float32Tensor.shape\u001b[39m\u001b[38;5;124m\"\u001b[39m,\n\u001b[1;32m     75\u001b[0m             index\u001b[38;5;241m=\u001b[39m\u001b[38;5;241m2\u001b[39m,\n\u001b[1;32m     76\u001b[0m             number\u001b[38;5;241m=\u001b[39m\u001b[38;5;241m3\u001b[39m,\n\u001b[1;32m     77\u001b[0m             \u001b[38;5;28mtype\u001b[39m\u001b[38;5;241m=\u001b[39m\u001b[38;5;241m4\u001b[39m,\n\u001b[1;32m     78\u001b[0m             cpp_type\u001b[38;5;241m=\u001b[39m\u001b[38;5;241m4\u001b[39m,\n\u001b[1;32m     79\u001b[0m             label\u001b[38;5;241m=\u001b[39m\u001b[38;5;241m3\u001b[39m,\n\u001b[1;32m     80\u001b[0m             has_default_value\u001b[38;5;241m=\u001b[39m\u001b[38;5;28;01mFalse\u001b[39;00m,\n\u001b[1;32m     81\u001b[0m             default_value\u001b[38;5;241m=\u001b[39m[],\n\u001b[1;32m     82\u001b[0m             message_type\u001b[38;5;241m=\u001b[39m\u001b[38;5;28;01mNone\u001b[39;00m,\n\u001b[1;32m     83\u001b[0m             enum_type\u001b[38;5;241m=\u001b[39m\u001b[38;5;28;01mNone\u001b[39;00m,\n\u001b[1;32m     84\u001b[0m             containing_type\u001b[38;5;241m=\u001b[39m\u001b[38;5;28;01mNone\u001b[39;00m,\n\u001b[1;32m     85\u001b[0m             is_extension\u001b[38;5;241m=\u001b[39m\u001b[38;5;28;01mFalse\u001b[39;00m,\n\u001b[1;32m     86\u001b[0m             extension_scope\u001b[38;5;241m=\u001b[39m\u001b[38;5;28;01mNone\u001b[39;00m,\n\u001b[1;32m     87\u001b[0m             options\u001b[38;5;241m=\u001b[39m_descriptor\u001b[38;5;241m.\u001b[39m_ParseOptions(descriptor_pb2\u001b[38;5;241m.\u001b[39mFieldOptions(), _b(\u001b[38;5;124m\"\u001b[39m\u001b[38;5;130;01m\\020\u001b[39;00m\u001b[38;5;130;01m\\001\u001b[39;00m\u001b[38;5;124m\"\u001b[39m)),\n\u001b[1;32m     88\u001b[0m             file\u001b[38;5;241m=\u001b[39mDESCRIPTOR,\n\u001b[1;32m     89\u001b[0m         ),\n\u001b[1;32m     90\u001b[0m     ],\n\u001b[1;32m     91\u001b[0m     extensions\u001b[38;5;241m=\u001b[39m[],\n\u001b[1;32m     92\u001b[0m     nested_types\u001b[38;5;241m=\u001b[39m[],\n\u001b[1;32m     93\u001b[0m     enum_types\u001b[38;5;241m=\u001b[39m[],\n\u001b[1;32m     94\u001b[0m     options\u001b[38;5;241m=\u001b[39m\u001b[38;5;28;01mNone\u001b[39;00m,\n\u001b[1;32m     95\u001b[0m     is_extendable\u001b[38;5;241m=\u001b[39m\u001b[38;5;28;01mFalse\u001b[39;00m,\n\u001b[1;32m     96\u001b[0m     syntax\u001b[38;5;241m=\u001b[39m\u001b[38;5;124m\"\u001b[39m\u001b[38;5;124mproto2\u001b[39m\u001b[38;5;124m\"\u001b[39m,\n\u001b[1;32m     97\u001b[0m     extension_ranges\u001b[38;5;241m=\u001b[39m[],\n\u001b[1;32m     98\u001b[0m     oneofs\u001b[38;5;241m=\u001b[39m[],\n\u001b[1;32m     99\u001b[0m     serialized_start\u001b[38;5;241m=\u001b[39m\u001b[38;5;241m29\u001b[39m,\n\u001b[1;32m    100\u001b[0m     serialized_end\u001b[38;5;241m=\u001b[39m\u001b[38;5;241m101\u001b[39m,\n\u001b[1;32m    101\u001b[0m )\n\u001b[1;32m    104\u001b[0m _FLOAT64TENSOR \u001b[38;5;241m=\u001b[39m _descriptor\u001b[38;5;241m.\u001b[39mDescriptor(\n\u001b[1;32m    105\u001b[0m     name\u001b[38;5;241m=\u001b[39m\u001b[38;5;124m\"\u001b[39m\u001b[38;5;124mFloat64Tensor\u001b[39m\u001b[38;5;124m\"\u001b[39m,\n\u001b[1;32m    106\u001b[0m     full_name\u001b[38;5;241m=\u001b[39m\u001b[38;5;124m\"\u001b[39m\u001b[38;5;124maialgs.data.Float64Tensor\u001b[39m\u001b[38;5;124m\"\u001b[39m,\n\u001b[0;32m   (...)\u001b[0m\n\u001b[1;32m    175\u001b[0m     serialized_end\u001b[38;5;241m=\u001b[39m\u001b[38;5;241m175\u001b[39m,\n\u001b[1;32m    176\u001b[0m )\n\u001b[1;32m    179\u001b[0m _INT32TENSOR \u001b[38;5;241m=\u001b[39m _descriptor\u001b[38;5;241m.\u001b[39mDescriptor(\n\u001b[1;32m    180\u001b[0m     name\u001b[38;5;241m=\u001b[39m\u001b[38;5;124m\"\u001b[39m\u001b[38;5;124mInt32Tensor\u001b[39m\u001b[38;5;124m\"\u001b[39m,\n\u001b[1;32m    181\u001b[0m     full_name\u001b[38;5;241m=\u001b[39m\u001b[38;5;124m\"\u001b[39m\u001b[38;5;124maialgs.data.Int32Tensor\u001b[39m\u001b[38;5;124m\"\u001b[39m,\n\u001b[0;32m   (...)\u001b[0m\n\u001b[1;32m    250\u001b[0m     serialized_end\u001b[38;5;241m=\u001b[39m\u001b[38;5;241m247\u001b[39m,\n\u001b[1;32m    251\u001b[0m )\n",
      "File \u001b[0;32m~/anaconda3/envs/fools_gold/lib/python3.9/site-packages/google/protobuf/descriptor.py:621\u001b[0m, in \u001b[0;36mFieldDescriptor.__new__\u001b[0;34m(cls, name, full_name, index, number, type, cpp_type, label, default_value, message_type, enum_type, containing_type, is_extension, extension_scope, options, serialized_options, has_default_value, containing_oneof, json_name, file, create_key)\u001b[0m\n\u001b[1;32m    615\u001b[0m \u001b[38;5;28;01mdef\u001b[39;00m \u001b[38;5;21m__new__\u001b[39m(\u001b[38;5;28mcls\u001b[39m, name, full_name, index, number, \u001b[38;5;28mtype\u001b[39m, cpp_type, label,\n\u001b[1;32m    616\u001b[0m             default_value, message_type, enum_type, containing_type,\n\u001b[1;32m    617\u001b[0m             is_extension, extension_scope, options\u001b[38;5;241m=\u001b[39m\u001b[38;5;28;01mNone\u001b[39;00m,\n\u001b[1;32m    618\u001b[0m             serialized_options\u001b[38;5;241m=\u001b[39m\u001b[38;5;28;01mNone\u001b[39;00m,\n\u001b[1;32m    619\u001b[0m             has_default_value\u001b[38;5;241m=\u001b[39m\u001b[38;5;28;01mTrue\u001b[39;00m, containing_oneof\u001b[38;5;241m=\u001b[39m\u001b[38;5;28;01mNone\u001b[39;00m, json_name\u001b[38;5;241m=\u001b[39m\u001b[38;5;28;01mNone\u001b[39;00m,\n\u001b[1;32m    620\u001b[0m             file\u001b[38;5;241m=\u001b[39m\u001b[38;5;28;01mNone\u001b[39;00m, create_key\u001b[38;5;241m=\u001b[39m\u001b[38;5;28;01mNone\u001b[39;00m):  \u001b[38;5;66;03m# pylint: disable=redefined-builtin\u001b[39;00m\n\u001b[0;32m--> 621\u001b[0m   \u001b[43m_message\u001b[49m\u001b[38;5;241;43m.\u001b[39;49m\u001b[43mMessage\u001b[49m\u001b[38;5;241;43m.\u001b[39;49m\u001b[43m_CheckCalledFromGeneratedFile\u001b[49m\u001b[43m(\u001b[49m\u001b[43m)\u001b[49m\n\u001b[1;32m    622\u001b[0m   \u001b[38;5;28;01mif\u001b[39;00m is_extension:\n\u001b[1;32m    623\u001b[0m     \u001b[38;5;28;01mreturn\u001b[39;00m _message\u001b[38;5;241m.\u001b[39mdefault_pool\u001b[38;5;241m.\u001b[39mFindExtensionByName(full_name)\n",
      "\u001b[0;31mTypeError\u001b[0m: Descriptors cannot be created directly.\nIf this call came from a _pb2.py file, your generated code is out of date and must be regenerated with protoc >= 3.19.0.\nIf you cannot immediately regenerate your protos, some other possible workarounds are:\n 1. Downgrade the protobuf package to 3.20.x or lower.\n 2. Set PROTOCOL_BUFFERS_PYTHON_IMPLEMENTATION=python (but this will use pure-Python parsing and will be much slower).\n\nMore information: https://developers.google.com/protocol-buffers/docs/news/2022-05-06#python-updates"
     ]
    }
   ],
   "source": [
    "import sagemaker\n",
    "import boto3\n",
    "import pandas as pd\n",
    "from sagemaker import get_execution_role\n",
    "from sagemaker.amazon.amazon_estimator import get_image_uri\n",
    "from sagemaker.xgboost.estimator import XGBoost\n",
    "from sagemaker.inputs import TrainingInput"
   ]
  },
  {
   "cell_type": "code",
   "execution_count": null,
   "id": "0af8c6fb-4740-430c-88bd-a2ffac665cb4",
   "metadata": {
    "tags": []
   },
   "outputs": [],
   "source": [
    "# Initialize variables\n",
    "bucket_name = \"sisyphus-general-bucket\"\n",
    "train_features_key = 'AthenaInsights/latest_data/model/data/stock_bars_1min.parquet'\n",
    "train_labels_key = \"AthenaInsights/data/model/train/train_labels.parquet\"\n",
    "s3_output_location = f\"s3://{bucket_name}/AthenaInsights/data/model-artifacts\"\n",
    "\n",
    "\n",
    "# Define the S3 paths for the training features and labels\n",
    "train_features_path = 's3://sisyphus-general-bucket/AthenaInsights/data/model/train/train_features.parquet'\n",
    "train_labels_path = 's3://sisyphus-general-bucket/AthenaInsights/data/model/train/train_labels.parquet'\n"
   ]
  }
 ],
 "metadata": {
  "kernelspec": {
   "display_name": "conda_fools_gold",
   "language": "python",
   "name": "conda_fools_gold"
  },
  "language_info": {
   "codemirror_mode": {
    "name": "ipython",
    "version": 3
   },
   "file_extension": ".py",
   "mimetype": "text/x-python",
   "name": "python",
   "nbconvert_exporter": "python",
   "pygments_lexer": "ipython3",
   "version": "3.9.19"
  }
 },
 "nbformat": 4,
 "nbformat_minor": 5
}
