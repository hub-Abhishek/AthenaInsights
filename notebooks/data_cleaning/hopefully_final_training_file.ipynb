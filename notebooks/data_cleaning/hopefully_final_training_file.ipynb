{
 "cells": [
  {
   "cell_type": "code",
   "execution_count": 1,
   "id": "23b4f365-1c64-4c01-b4fa-966b0940694f",
   "metadata": {
    "tags": []
   },
   "outputs": [],
   "source": [
    "\n",
    "# independent variables - \n",
    "# start from 1 min averages\n",
    "# stop wherever it hangs\n",
    "\n",
    "# concat other features\n",
    "# concat averages\n",
    "# concat 1 min rsis\n",
    "# concat 1 min macd\n",
    "\n",
    "\n",
    "# dependent features\n",
    "# category\n",
    "\n",
    "# write everything to s3 location\n",
    "# train.py\n",
    "# sagemaker notebook results"
   ]
  },
  {
   "cell_type": "code",
   "execution_count": 1,
   "id": "75cc947b-5ccb-4fa1-9bc1-dd3a0ea6dede",
   "metadata": {
    "tags": []
   },
   "outputs": [],
   "source": [
    "# convert this into pipeline"
   ]
  },
  {
   "cell_type": "code",
   "execution_count": 2,
   "id": "71bf9364-0647-443b-870a-7171a89fb258",
   "metadata": {
    "tags": []
   },
   "outputs": [],
   "source": [
    "# experiment with settings\n",
    "# correlation analysis"
   ]
  },
  {
   "cell_type": "code",
   "execution_count": 3,
   "id": "614df348-af20-4f30-ad39-7c2617597db1",
   "metadata": {
    "tags": []
   },
   "outputs": [],
   "source": [
    "import yaml\n",
    "import boto3\n",
    "import pandas as pd\n",
    "import numpy as np\n",
    "import warnings\n",
    "from tqdm import tqdm\n",
    "import pyarrow.dataset as ds\n",
    "import pyarrow.parquet as pq\n",
    "warnings.filterwarnings(\"ignore\")"
   ]
  },
  {
   "cell_type": "code",
   "execution_count": 4,
   "id": "e4e982aa-2638-40e4-ae39-2d704b2171e8",
   "metadata": {
    "tags": []
   },
   "outputs": [
    {
     "data": {
      "text/plain": [
       "'/home/ec2-user/SageMaker/sisyphus/AthenaInsights/notebooks/data_cleaning'"
      ]
     },
     "execution_count": 4,
     "metadata": {},
     "output_type": "execute_result"
    }
   ],
   "source": [
    "import os\n",
    "os.getcwd()"
   ]
  },
  {
   "cell_type": "code",
   "execution_count": 5,
   "id": "55db3e83-9f5b-486e-adc8-da8ab7cd9054",
   "metadata": {
    "tags": []
   },
   "outputs": [],
   "source": [
    "def load_yaml(loc):\n",
    "    with open(loc) as stream:\n",
    "        try:\n",
    "            print(f'reading from {loc}')\n",
    "            return yaml.safe_load(stream)\n",
    "        except yaml.YAMLError as exc:\n",
    "            print(exc)"
   ]
  },
  {
   "cell_type": "markdown",
   "id": "d72d0384-b9f9-40b1-a9f1-b231f22e2a91",
   "metadata": {
    "tags": []
   },
   "source": [
    "### independent variables"
   ]
  },
  {
   "cell_type": "code",
   "execution_count": 6,
   "id": "4e0ca051-9763-43d7-bbd8-36fda618cce6",
   "metadata": {
    "tags": []
   },
   "outputs": [],
   "source": [
    "client = boto3.client('s3')"
   ]
  },
  {
   "cell_type": "code",
   "execution_count": 7,
   "id": "30eb30cd-4ed5-4c7b-88df-5d8e94ecb2b3",
   "metadata": {
    "tags": []
   },
   "outputs": [],
   "source": [
    "s3_prefix = 's3://'\n",
    "bucket = 'sisyphus-general-bucket'\n",
    "primary_folder = 'AthenaInsights'"
   ]
  },
  {
   "cell_type": "code",
   "execution_count": 8,
   "id": "a6d159ef-8a59-460f-990c-bdc0cb62b676",
   "metadata": {
    "tags": []
   },
   "outputs": [
    {
     "name": "stdout",
     "output_type": "stream",
     "text": [
      "reading from ../../config/spy_30min_v1/features.yaml\n"
     ]
    },
    {
     "data": {
      "text/plain": [
       "dict_keys(['dependent_variable', 'feature_store'])"
      ]
     },
     "execution_count": 8,
     "metadata": {},
     "output_type": "execute_result"
    }
   ],
   "source": [
    "all_paths_config_loc = '../../config/spy_30min_v1/features.yaml'\n",
    "all_paths_config = load_yaml(all_paths_config_loc)\n",
    "all_paths_config.keys()"
   ]
  },
  {
   "cell_type": "code",
   "execution_count": 9,
   "id": "b9689d5e-5ed2-4e29-85c1-4ffb8f0e320c",
   "metadata": {
    "tags": []
   },
   "outputs": [
    {
     "data": {
      "text/plain": [
       "dict_keys(['stock_bars_1min_base', 'stock_bars_1min_base_macd', 'stock_bars_1min_base_other_features', 'stock_bars_1min_base_rsi', 'stock_bars_1min_diff', 'stock_bars_1min_diff_macd', 'stock_bars_1min_diff_rsi'])"
      ]
     },
     "execution_count": 9,
     "metadata": {},
     "output_type": "execute_result"
    }
   ],
   "source": [
    "all_paths_config['feature_store']['1min'].keys()"
   ]
  },
  {
   "cell_type": "code",
   "execution_count": 10,
   "id": "329d8613-600b-430c-8054-53bb3c93d5ca",
   "metadata": {
    "tags": []
   },
   "outputs": [],
   "source": [
    "def get_paths_and_cols(all_paths_config, dur='1min', file='stock_bars_1min_base', config_loc='feature_store', ):\n",
    "    try:\n",
    "        cols = eval(all_paths_config[config_loc][dur][file]['cols']) # stock_bars_1min_base_macd\n",
    "    except:\n",
    "        cols = all_paths_config[config_loc][dur][file]['cols']\n",
    "    path = all_paths_config[config_loc][dur][file]['path']\n",
    "    return cols, path"
   ]
  },
  {
   "cell_type": "markdown",
   "id": "e4a71f9e-eaf3-4622-b7bd-b515553d463d",
   "metadata": {
    "tags": []
   },
   "source": [
    "#### loading one min data"
   ]
  },
  {
   "cell_type": "code",
   "execution_count": 11,
   "id": "e5afb137-b417-45e7-93a3-f3b65554bf63",
   "metadata": {
    "tags": []
   },
   "outputs": [
    {
     "data": {
      "text/plain": [
       "('s3://sisyphus-general-bucket/AthenaInsights/latest_data/feature_prep/stock_bars_1min_base.parquet',\n",
       " 87)"
      ]
     },
     "execution_count": 11,
     "metadata": {},
     "output_type": "execute_result"
    }
   ],
   "source": [
    "cols, path = get_paths_and_cols(all_paths_config, dur='1min', file='stock_bars_1min_base', config_loc='feature_store', )\n",
    "path, len(cols)"
   ]
  },
  {
   "cell_type": "code",
   "execution_count": 12,
   "id": "4f6687d4-a8db-4bb8-bd46-8ad4a540ad91",
   "metadata": {
    "tags": []
   },
   "outputs": [
    {
     "data": {
      "text/html": [
       "<div>\n",
       "<style scoped>\n",
       "    .dataframe tbody tr th:only-of-type {\n",
       "        vertical-align: middle;\n",
       "    }\n",
       "\n",
       "    .dataframe tbody tr th {\n",
       "        vertical-align: top;\n",
       "    }\n",
       "\n",
       "    .dataframe thead th {\n",
       "        text-align: right;\n",
       "    }\n",
       "</style>\n",
       "<table border=\"1\" class=\"dataframe\">\n",
       "  <thead>\n",
       "    <tr style=\"text-align: right;\">\n",
       "      <th></th>\n",
       "      <th>open</th>\n",
       "      <th>high</th>\n",
       "      <th>low</th>\n",
       "      <th>close</th>\n",
       "      <th>volume</th>\n",
       "      <th>symbol</th>\n",
       "      <th>time_delta</th>\n",
       "      <th>open_ema_2m</th>\n",
       "      <th>open_sma_2m</th>\n",
       "      <th>high_ema_2m</th>\n",
       "      <th>...</th>\n",
       "      <th>open_ema_26m</th>\n",
       "      <th>open_sma_26m</th>\n",
       "      <th>high_ema_26m</th>\n",
       "      <th>high_sma_26m</th>\n",
       "      <th>low_ema_26m</th>\n",
       "      <th>low_sma_26m</th>\n",
       "      <th>close_ema_26m</th>\n",
       "      <th>close_sma_26m</th>\n",
       "      <th>volume_ema_26m</th>\n",
       "      <th>volume_sma_26m</th>\n",
       "    </tr>\n",
       "    <tr>\n",
       "      <th>us_eastern_timestamp</th>\n",
       "      <th></th>\n",
       "      <th></th>\n",
       "      <th></th>\n",
       "      <th></th>\n",
       "      <th></th>\n",
       "      <th></th>\n",
       "      <th></th>\n",
       "      <th></th>\n",
       "      <th></th>\n",
       "      <th></th>\n",
       "      <th></th>\n",
       "      <th></th>\n",
       "      <th></th>\n",
       "      <th></th>\n",
       "      <th></th>\n",
       "      <th></th>\n",
       "      <th></th>\n",
       "      <th></th>\n",
       "      <th></th>\n",
       "      <th></th>\n",
       "      <th></th>\n",
       "    </tr>\n",
       "  </thead>\n",
       "  <tbody>\n",
       "    <tr>\n",
       "      <th>2024-01-02 04:00:00</th>\n",
       "      <td>409.84</td>\n",
       "      <td>409.84</td>\n",
       "      <td>409.76</td>\n",
       "      <td>409.79</td>\n",
       "      <td>1541.0</td>\n",
       "      <td>QQQ</td>\n",
       "      <td>NaN</td>\n",
       "      <td>409.840000</td>\n",
       "      <td>NaN</td>\n",
       "      <td>409.840000</td>\n",
       "      <td>...</td>\n",
       "      <td>409.840000</td>\n",
       "      <td>NaN</td>\n",
       "      <td>409.840000</td>\n",
       "      <td>NaN</td>\n",
       "      <td>409.760000</td>\n",
       "      <td>NaN</td>\n",
       "      <td>409.790000</td>\n",
       "      <td>NaN</td>\n",
       "      <td>1541.000000</td>\n",
       "      <td>NaN</td>\n",
       "    </tr>\n",
       "    <tr>\n",
       "      <th>2024-01-02 04:01:00</th>\n",
       "      <td>409.81</td>\n",
       "      <td>409.81</td>\n",
       "      <td>409.75</td>\n",
       "      <td>409.75</td>\n",
       "      <td>604.0</td>\n",
       "      <td>QQQ</td>\n",
       "      <td>NaN</td>\n",
       "      <td>409.820000</td>\n",
       "      <td>409.825</td>\n",
       "      <td>409.820000</td>\n",
       "      <td>...</td>\n",
       "      <td>409.837778</td>\n",
       "      <td>NaN</td>\n",
       "      <td>409.837778</td>\n",
       "      <td>NaN</td>\n",
       "      <td>409.759259</td>\n",
       "      <td>NaN</td>\n",
       "      <td>409.787037</td>\n",
       "      <td>NaN</td>\n",
       "      <td>1471.592593</td>\n",
       "      <td>NaN</td>\n",
       "    </tr>\n",
       "    <tr>\n",
       "      <th>2024-01-02 04:02:00</th>\n",
       "      <td>409.71</td>\n",
       "      <td>409.71</td>\n",
       "      <td>409.68</td>\n",
       "      <td>409.68</td>\n",
       "      <td>1510.0</td>\n",
       "      <td>QQQ</td>\n",
       "      <td>NaN</td>\n",
       "      <td>409.746667</td>\n",
       "      <td>409.760</td>\n",
       "      <td>409.746667</td>\n",
       "      <td>...</td>\n",
       "      <td>409.828313</td>\n",
       "      <td>NaN</td>\n",
       "      <td>409.828313</td>\n",
       "      <td>NaN</td>\n",
       "      <td>409.753388</td>\n",
       "      <td>NaN</td>\n",
       "      <td>409.779108</td>\n",
       "      <td>NaN</td>\n",
       "      <td>1474.437586</td>\n",
       "      <td>NaN</td>\n",
       "    </tr>\n",
       "    <tr>\n",
       "      <th>2024-01-02 04:03:00</th>\n",
       "      <td>409.71</td>\n",
       "      <td>409.71</td>\n",
       "      <td>409.66</td>\n",
       "      <td>409.66</td>\n",
       "      <td>2679.0</td>\n",
       "      <td>QQQ</td>\n",
       "      <td>NaN</td>\n",
       "      <td>409.722222</td>\n",
       "      <td>409.710</td>\n",
       "      <td>409.722222</td>\n",
       "      <td>...</td>\n",
       "      <td>409.819549</td>\n",
       "      <td>NaN</td>\n",
       "      <td>409.819549</td>\n",
       "      <td>NaN</td>\n",
       "      <td>409.746471</td>\n",
       "      <td>NaN</td>\n",
       "      <td>409.770286</td>\n",
       "      <td>NaN</td>\n",
       "      <td>1563.664431</td>\n",
       "      <td>NaN</td>\n",
       "    </tr>\n",
       "    <tr>\n",
       "      <th>2024-01-02 04:04:00</th>\n",
       "      <td>409.63</td>\n",
       "      <td>409.63</td>\n",
       "      <td>409.61</td>\n",
       "      <td>409.61</td>\n",
       "      <td>343.0</td>\n",
       "      <td>QQQ</td>\n",
       "      <td>NaN</td>\n",
       "      <td>409.660741</td>\n",
       "      <td>409.670</td>\n",
       "      <td>409.660741</td>\n",
       "      <td>...</td>\n",
       "      <td>409.805508</td>\n",
       "      <td>NaN</td>\n",
       "      <td>409.805508</td>\n",
       "      <td>NaN</td>\n",
       "      <td>409.736362</td>\n",
       "      <td>NaN</td>\n",
       "      <td>409.758413</td>\n",
       "      <td>NaN</td>\n",
       "      <td>1473.244844</td>\n",
       "      <td>NaN</td>\n",
       "    </tr>\n",
       "  </tbody>\n",
       "</table>\n",
       "<p>5 rows × 87 columns</p>\n",
       "</div>"
      ],
      "text/plain": [
       "                        open    high     low   close  volume symbol  \\\n",
       "us_eastern_timestamp                                                  \n",
       "2024-01-02 04:00:00   409.84  409.84  409.76  409.79  1541.0    QQQ   \n",
       "2024-01-02 04:01:00   409.81  409.81  409.75  409.75   604.0    QQQ   \n",
       "2024-01-02 04:02:00   409.71  409.71  409.68  409.68  1510.0    QQQ   \n",
       "2024-01-02 04:03:00   409.71  409.71  409.66  409.66  2679.0    QQQ   \n",
       "2024-01-02 04:04:00   409.63  409.63  409.61  409.61   343.0    QQQ   \n",
       "\n",
       "                      time_delta  open_ema_2m  open_sma_2m  high_ema_2m  ...  \\\n",
       "us_eastern_timestamp                                                     ...   \n",
       "2024-01-02 04:00:00          NaN   409.840000          NaN   409.840000  ...   \n",
       "2024-01-02 04:01:00          NaN   409.820000      409.825   409.820000  ...   \n",
       "2024-01-02 04:02:00          NaN   409.746667      409.760   409.746667  ...   \n",
       "2024-01-02 04:03:00          NaN   409.722222      409.710   409.722222  ...   \n",
       "2024-01-02 04:04:00          NaN   409.660741      409.670   409.660741  ...   \n",
       "\n",
       "                      open_ema_26m  open_sma_26m  high_ema_26m  high_sma_26m  \\\n",
       "us_eastern_timestamp                                                           \n",
       "2024-01-02 04:00:00     409.840000           NaN    409.840000           NaN   \n",
       "2024-01-02 04:01:00     409.837778           NaN    409.837778           NaN   \n",
       "2024-01-02 04:02:00     409.828313           NaN    409.828313           NaN   \n",
       "2024-01-02 04:03:00     409.819549           NaN    409.819549           NaN   \n",
       "2024-01-02 04:04:00     409.805508           NaN    409.805508           NaN   \n",
       "\n",
       "                      low_ema_26m  low_sma_26m  close_ema_26m  close_sma_26m  \\\n",
       "us_eastern_timestamp                                                           \n",
       "2024-01-02 04:00:00    409.760000          NaN     409.790000            NaN   \n",
       "2024-01-02 04:01:00    409.759259          NaN     409.787037            NaN   \n",
       "2024-01-02 04:02:00    409.753388          NaN     409.779108            NaN   \n",
       "2024-01-02 04:03:00    409.746471          NaN     409.770286            NaN   \n",
       "2024-01-02 04:04:00    409.736362          NaN     409.758413            NaN   \n",
       "\n",
       "                      volume_ema_26m  volume_sma_26m  \n",
       "us_eastern_timestamp                                  \n",
       "2024-01-02 04:00:00      1541.000000             NaN  \n",
       "2024-01-02 04:01:00      1471.592593             NaN  \n",
       "2024-01-02 04:02:00      1474.437586             NaN  \n",
       "2024-01-02 04:03:00      1563.664431             NaN  \n",
       "2024-01-02 04:04:00      1473.244844             NaN  \n",
       "\n",
       "[5 rows x 87 columns]"
      ]
     },
     "execution_count": 12,
     "metadata": {},
     "output_type": "execute_result"
    }
   ],
   "source": [
    "one_min_df = pq.read_pandas(path,).to_pandas() # pq.read_pandas('example.parquet', columns=['two']).to_pandas()\n",
    "# one_min_df = one_min_df[one_min_df.symbol=='SPY']\n",
    "one_min_df.head()\n",
    "# df = ds.dataset(path).scanner().head(1).to_pandas()"
   ]
  },
  {
   "cell_type": "code",
   "execution_count": 13,
   "id": "6bb05cd1-538e-4f55-aefd-10b9a38e1921",
   "metadata": {
    "tags": []
   },
   "outputs": [
    {
     "data": {
      "text/plain": [
       "(429593, 87)"
      ]
     },
     "execution_count": 13,
     "metadata": {},
     "output_type": "execute_result"
    }
   ],
   "source": [
    "one_min_df.shape"
   ]
  },
  {
   "cell_type": "markdown",
   "id": "cec33970-3f25-42de-b254-783c0064f4cc",
   "metadata": {},
   "source": [
    "### rsi"
   ]
  },
  {
   "cell_type": "code",
   "execution_count": 14,
   "id": "a4f55a74-0131-4336-b4a4-e314f9d61d78",
   "metadata": {
    "tags": []
   },
   "outputs": [],
   "source": [
    "cols, path = get_paths_and_cols(all_paths_config, dur='1min', file='stock_bars_1min_base_rsi', config_loc='feature_store', )"
   ]
  },
  {
   "cell_type": "code",
   "execution_count": 15,
   "id": "471dc3d6-6e27-4306-8e1c-d6362f7435ee",
   "metadata": {
    "tags": []
   },
   "outputs": [
    {
     "data": {
      "text/plain": [
       "['close_7window_rsi',\n",
       " 'close_9window_rsi',\n",
       " 'close_11window_rsi',\n",
       " 'close_14window_rsi',\n",
       " 'close_17window_rsi',\n",
       " 'close_21window_rsi',\n",
       " 'close_ema_2m_7window_rsi',\n",
       " 'close_ema_2m_9window_rsi',\n",
       " 'close_ema_2m_11window_rsi',\n",
       " 'close_ema_2m_14window_rsi',\n",
       " 'close_ema_2m_17window_rsi',\n",
       " 'close_ema_2m_21window_rsi',\n",
       " 'close_sma_2m_7window_rsi',\n",
       " 'close_sma_2m_9window_rsi',\n",
       " 'close_sma_2m_11window_rsi',\n",
       " 'close_sma_2m_14window_rsi',\n",
       " 'close_sma_2m_17window_rsi',\n",
       " 'close_sma_2m_21window_rsi']"
      ]
     },
     "execution_count": 15,
     "metadata": {},
     "output_type": "execute_result"
    }
   ],
   "source": [
    "cols = [x for x in cols if 'rsi' in x ]\n",
    "cols"
   ]
  },
  {
   "cell_type": "code",
   "execution_count": 16,
   "id": "6d6507a0-e853-4a3a-be3b-4149c940e99f",
   "metadata": {
    "tags": []
   },
   "outputs": [
    {
     "data": {
      "text/html": [
       "<div>\n",
       "<style scoped>\n",
       "    .dataframe tbody tr th:only-of-type {\n",
       "        vertical-align: middle;\n",
       "    }\n",
       "\n",
       "    .dataframe tbody tr th {\n",
       "        vertical-align: top;\n",
       "    }\n",
       "\n",
       "    .dataframe thead th {\n",
       "        text-align: right;\n",
       "    }\n",
       "</style>\n",
       "<table border=\"1\" class=\"dataframe\">\n",
       "  <thead>\n",
       "    <tr style=\"text-align: right;\">\n",
       "      <th></th>\n",
       "      <th>close_7window_rsi</th>\n",
       "      <th>close_9window_rsi</th>\n",
       "      <th>close_11window_rsi</th>\n",
       "      <th>close_14window_rsi</th>\n",
       "      <th>close_17window_rsi</th>\n",
       "      <th>close_21window_rsi</th>\n",
       "      <th>close_ema_2m_7window_rsi</th>\n",
       "      <th>close_ema_2m_9window_rsi</th>\n",
       "      <th>close_ema_2m_11window_rsi</th>\n",
       "      <th>close_ema_2m_14window_rsi</th>\n",
       "      <th>close_ema_2m_17window_rsi</th>\n",
       "      <th>close_ema_2m_21window_rsi</th>\n",
       "      <th>close_sma_2m_7window_rsi</th>\n",
       "      <th>close_sma_2m_9window_rsi</th>\n",
       "      <th>close_sma_2m_11window_rsi</th>\n",
       "      <th>close_sma_2m_14window_rsi</th>\n",
       "      <th>close_sma_2m_17window_rsi</th>\n",
       "      <th>close_sma_2m_21window_rsi</th>\n",
       "    </tr>\n",
       "    <tr>\n",
       "      <th>us_eastern_timestamp</th>\n",
       "      <th></th>\n",
       "      <th></th>\n",
       "      <th></th>\n",
       "      <th></th>\n",
       "      <th></th>\n",
       "      <th></th>\n",
       "      <th></th>\n",
       "      <th></th>\n",
       "      <th></th>\n",
       "      <th></th>\n",
       "      <th></th>\n",
       "      <th></th>\n",
       "      <th></th>\n",
       "      <th></th>\n",
       "      <th></th>\n",
       "      <th></th>\n",
       "      <th></th>\n",
       "      <th></th>\n",
       "    </tr>\n",
       "  </thead>\n",
       "  <tbody>\n",
       "    <tr>\n",
       "      <th>2024-01-02 04:00:00</th>\n",
       "      <td>NaN</td>\n",
       "      <td>NaN</td>\n",
       "      <td>NaN</td>\n",
       "      <td>NaN</td>\n",
       "      <td>NaN</td>\n",
       "      <td>NaN</td>\n",
       "      <td>NaN</td>\n",
       "      <td>NaN</td>\n",
       "      <td>NaN</td>\n",
       "      <td>NaN</td>\n",
       "      <td>NaN</td>\n",
       "      <td>NaN</td>\n",
       "      <td>NaN</td>\n",
       "      <td>NaN</td>\n",
       "      <td>NaN</td>\n",
       "      <td>NaN</td>\n",
       "      <td>NaN</td>\n",
       "      <td>NaN</td>\n",
       "    </tr>\n",
       "    <tr>\n",
       "      <th>2024-01-02 04:01:00</th>\n",
       "      <td>NaN</td>\n",
       "      <td>NaN</td>\n",
       "      <td>NaN</td>\n",
       "      <td>NaN</td>\n",
       "      <td>NaN</td>\n",
       "      <td>NaN</td>\n",
       "      <td>NaN</td>\n",
       "      <td>NaN</td>\n",
       "      <td>NaN</td>\n",
       "      <td>NaN</td>\n",
       "      <td>NaN</td>\n",
       "      <td>NaN</td>\n",
       "      <td>NaN</td>\n",
       "      <td>NaN</td>\n",
       "      <td>NaN</td>\n",
       "      <td>NaN</td>\n",
       "      <td>NaN</td>\n",
       "      <td>NaN</td>\n",
       "    </tr>\n",
       "    <tr>\n",
       "      <th>2024-01-02 04:02:00</th>\n",
       "      <td>NaN</td>\n",
       "      <td>NaN</td>\n",
       "      <td>NaN</td>\n",
       "      <td>NaN</td>\n",
       "      <td>NaN</td>\n",
       "      <td>NaN</td>\n",
       "      <td>NaN</td>\n",
       "      <td>NaN</td>\n",
       "      <td>NaN</td>\n",
       "      <td>NaN</td>\n",
       "      <td>NaN</td>\n",
       "      <td>NaN</td>\n",
       "      <td>NaN</td>\n",
       "      <td>NaN</td>\n",
       "      <td>NaN</td>\n",
       "      <td>NaN</td>\n",
       "      <td>NaN</td>\n",
       "      <td>NaN</td>\n",
       "    </tr>\n",
       "    <tr>\n",
       "      <th>2024-01-02 04:03:00</th>\n",
       "      <td>NaN</td>\n",
       "      <td>NaN</td>\n",
       "      <td>NaN</td>\n",
       "      <td>NaN</td>\n",
       "      <td>NaN</td>\n",
       "      <td>NaN</td>\n",
       "      <td>NaN</td>\n",
       "      <td>NaN</td>\n",
       "      <td>NaN</td>\n",
       "      <td>NaN</td>\n",
       "      <td>NaN</td>\n",
       "      <td>NaN</td>\n",
       "      <td>NaN</td>\n",
       "      <td>NaN</td>\n",
       "      <td>NaN</td>\n",
       "      <td>NaN</td>\n",
       "      <td>NaN</td>\n",
       "      <td>NaN</td>\n",
       "    </tr>\n",
       "    <tr>\n",
       "      <th>2024-01-02 04:04:00</th>\n",
       "      <td>NaN</td>\n",
       "      <td>NaN</td>\n",
       "      <td>NaN</td>\n",
       "      <td>NaN</td>\n",
       "      <td>NaN</td>\n",
       "      <td>NaN</td>\n",
       "      <td>NaN</td>\n",
       "      <td>NaN</td>\n",
       "      <td>NaN</td>\n",
       "      <td>NaN</td>\n",
       "      <td>NaN</td>\n",
       "      <td>NaN</td>\n",
       "      <td>NaN</td>\n",
       "      <td>NaN</td>\n",
       "      <td>NaN</td>\n",
       "      <td>NaN</td>\n",
       "      <td>NaN</td>\n",
       "      <td>NaN</td>\n",
       "    </tr>\n",
       "  </tbody>\n",
       "</table>\n",
       "</div>"
      ],
      "text/plain": [
       "                      close_7window_rsi  close_9window_rsi  \\\n",
       "us_eastern_timestamp                                         \n",
       "2024-01-02 04:00:00                 NaN                NaN   \n",
       "2024-01-02 04:01:00                 NaN                NaN   \n",
       "2024-01-02 04:02:00                 NaN                NaN   \n",
       "2024-01-02 04:03:00                 NaN                NaN   \n",
       "2024-01-02 04:04:00                 NaN                NaN   \n",
       "\n",
       "                      close_11window_rsi  close_14window_rsi  \\\n",
       "us_eastern_timestamp                                           \n",
       "2024-01-02 04:00:00                  NaN                 NaN   \n",
       "2024-01-02 04:01:00                  NaN                 NaN   \n",
       "2024-01-02 04:02:00                  NaN                 NaN   \n",
       "2024-01-02 04:03:00                  NaN                 NaN   \n",
       "2024-01-02 04:04:00                  NaN                 NaN   \n",
       "\n",
       "                      close_17window_rsi  close_21window_rsi  \\\n",
       "us_eastern_timestamp                                           \n",
       "2024-01-02 04:00:00                  NaN                 NaN   \n",
       "2024-01-02 04:01:00                  NaN                 NaN   \n",
       "2024-01-02 04:02:00                  NaN                 NaN   \n",
       "2024-01-02 04:03:00                  NaN                 NaN   \n",
       "2024-01-02 04:04:00                  NaN                 NaN   \n",
       "\n",
       "                      close_ema_2m_7window_rsi  close_ema_2m_9window_rsi  \\\n",
       "us_eastern_timestamp                                                       \n",
       "2024-01-02 04:00:00                        NaN                       NaN   \n",
       "2024-01-02 04:01:00                        NaN                       NaN   \n",
       "2024-01-02 04:02:00                        NaN                       NaN   \n",
       "2024-01-02 04:03:00                        NaN                       NaN   \n",
       "2024-01-02 04:04:00                        NaN                       NaN   \n",
       "\n",
       "                      close_ema_2m_11window_rsi  close_ema_2m_14window_rsi  \\\n",
       "us_eastern_timestamp                                                         \n",
       "2024-01-02 04:00:00                         NaN                        NaN   \n",
       "2024-01-02 04:01:00                         NaN                        NaN   \n",
       "2024-01-02 04:02:00                         NaN                        NaN   \n",
       "2024-01-02 04:03:00                         NaN                        NaN   \n",
       "2024-01-02 04:04:00                         NaN                        NaN   \n",
       "\n",
       "                      close_ema_2m_17window_rsi  close_ema_2m_21window_rsi  \\\n",
       "us_eastern_timestamp                                                         \n",
       "2024-01-02 04:00:00                         NaN                        NaN   \n",
       "2024-01-02 04:01:00                         NaN                        NaN   \n",
       "2024-01-02 04:02:00                         NaN                        NaN   \n",
       "2024-01-02 04:03:00                         NaN                        NaN   \n",
       "2024-01-02 04:04:00                         NaN                        NaN   \n",
       "\n",
       "                      close_sma_2m_7window_rsi  close_sma_2m_9window_rsi  \\\n",
       "us_eastern_timestamp                                                       \n",
       "2024-01-02 04:00:00                        NaN                       NaN   \n",
       "2024-01-02 04:01:00                        NaN                       NaN   \n",
       "2024-01-02 04:02:00                        NaN                       NaN   \n",
       "2024-01-02 04:03:00                        NaN                       NaN   \n",
       "2024-01-02 04:04:00                        NaN                       NaN   \n",
       "\n",
       "                      close_sma_2m_11window_rsi  close_sma_2m_14window_rsi  \\\n",
       "us_eastern_timestamp                                                         \n",
       "2024-01-02 04:00:00                         NaN                        NaN   \n",
       "2024-01-02 04:01:00                         NaN                        NaN   \n",
       "2024-01-02 04:02:00                         NaN                        NaN   \n",
       "2024-01-02 04:03:00                         NaN                        NaN   \n",
       "2024-01-02 04:04:00                         NaN                        NaN   \n",
       "\n",
       "                      close_sma_2m_17window_rsi  close_sma_2m_21window_rsi  \n",
       "us_eastern_timestamp                                                        \n",
       "2024-01-02 04:00:00                         NaN                        NaN  \n",
       "2024-01-02 04:01:00                         NaN                        NaN  \n",
       "2024-01-02 04:02:00                         NaN                        NaN  \n",
       "2024-01-02 04:03:00                         NaN                        NaN  \n",
       "2024-01-02 04:04:00                         NaN                        NaN  "
      ]
     },
     "execution_count": 16,
     "metadata": {},
     "output_type": "execute_result"
    }
   ],
   "source": [
    "one_min_rsi_df = pq.read_pandas(path, columns=cols).to_pandas() # pq.read_pandas('example.parquet', columns).to_pandas()\n",
    "# one_min_rsi_df = one_min_rsi_df[one_min_rsi_df.symbol=='SPY']\n",
    "one_min_rsi_df.head()"
   ]
  },
  {
   "cell_type": "code",
   "execution_count": 17,
   "id": "5dc2b8f4-2bb0-448f-ae75-bca267cdab9f",
   "metadata": {
    "tags": []
   },
   "outputs": [
    {
     "data": {
      "text/plain": [
       "((429593, 87), (429593, 18))"
      ]
     },
     "execution_count": 17,
     "metadata": {},
     "output_type": "execute_result"
    }
   ],
   "source": [
    "one_min_df.shape, one_min_rsi_df.shape"
   ]
  },
  {
   "cell_type": "code",
   "execution_count": 18,
   "id": "571f44fb-7396-4312-9015-2c8c17bc7ba1",
   "metadata": {
    "tags": []
   },
   "outputs": [],
   "source": [
    "one_min_df = pd.concat([one_min_df, one_min_rsi_df], axis=1)"
   ]
  },
  {
   "cell_type": "code",
   "execution_count": 20,
   "id": "71e12e23-86dd-4321-9259-75bb68790e54",
   "metadata": {
    "tags": []
   },
   "outputs": [
    {
     "data": {
      "text/plain": [
       "(429593, 105)"
      ]
     },
     "execution_count": 20,
     "metadata": {},
     "output_type": "execute_result"
    }
   ],
   "source": [
    "one_min_df.shape"
   ]
  },
  {
   "cell_type": "code",
   "execution_count": 19,
   "id": "7bcb61a6-ab36-4a77-9989-94ac14462da9",
   "metadata": {
    "tags": []
   },
   "outputs": [],
   "source": [
    "del one_min_rsi_df"
   ]
  },
  {
   "cell_type": "code",
   "execution_count": 21,
   "id": "3e7b265c-32db-4eb2-807a-c84fef8ee4ed",
   "metadata": {
    "tags": []
   },
   "outputs": [],
   "source": [
    "one_min_df = one_min_df[one_min_df.symbol=='SPY']"
   ]
  },
  {
   "cell_type": "code",
   "execution_count": 22,
   "id": "1dd9b91a-7f09-4c27-bf36-f3989b5a70b5",
   "metadata": {
    "tags": []
   },
   "outputs": [
    {
     "data": {
      "text/plain": [
       "(214794, 105)"
      ]
     },
     "execution_count": 22,
     "metadata": {},
     "output_type": "execute_result"
    }
   ],
   "source": [
    "one_min_df.shape"
   ]
  },
  {
   "cell_type": "markdown",
   "id": "6f89e752-cf60-4df1-a88d-97f7636ac2b3",
   "metadata": {},
   "source": [
    "#### other features"
   ]
  },
  {
   "cell_type": "code",
   "execution_count": 23,
   "id": "790e93b3-a52b-4694-a596-f61a000f23a9",
   "metadata": {
    "tags": []
   },
   "outputs": [
    {
     "data": {
      "text/plain": [
       "('s3://sisyphus-general-bucket/AthenaInsights/latest_data/feature_prep/stock_bars_1min_base_other_features.parquet',\n",
       " 185)"
      ]
     },
     "execution_count": 23,
     "metadata": {},
     "output_type": "execute_result"
    }
   ],
   "source": [
    "try:\n",
    "    cols = eval(all_paths_config['feature_store']['1min']['stock_bars_1min_base_other_features']['cols'])\n",
    "except:\n",
    "    cols = all_paths_config['feature_store']['1min']['stock_bars_1min_base_other_features']['cols']\n",
    "path = all_paths_config['feature_store']['1min']['stock_bars_1min_base_other_features']['path']\n",
    "path, len(cols)"
   ]
  },
  {
   "cell_type": "code",
   "execution_count": 24,
   "id": "13610f96-28fe-4f3a-908d-d78213321290",
   "metadata": {
    "tags": []
   },
   "outputs": [
    {
     "data": {
      "text/plain": [
       "(100,\n",
       " ['open_lag_1',\n",
       "  'high_lag_1',\n",
       "  'low_lag_1',\n",
       "  'close_lag_1',\n",
       "  'open_lag_2',\n",
       "  'high_lag_2',\n",
       "  'low_lag_2',\n",
       "  'close_lag_2',\n",
       "  'open_lag_3',\n",
       "  'high_lag_3',\n",
       "  'low_lag_3',\n",
       "  'close_lag_3',\n",
       "  'open_lag_4',\n",
       "  'high_lag_4',\n",
       "  'low_lag_4',\n",
       "  'close_lag_4',\n",
       "  'open_lag_5',\n",
       "  'high_lag_5',\n",
       "  'low_lag_5',\n",
       "  'close_lag_5',\n",
       "  'open_lag_6',\n",
       "  'high_lag_6',\n",
       "  'low_lag_6',\n",
       "  'close_lag_6',\n",
       "  'open_lag_7',\n",
       "  'high_lag_7',\n",
       "  'low_lag_7',\n",
       "  'close_lag_7',\n",
       "  'open_lag_8',\n",
       "  'high_lag_8',\n",
       "  'low_lag_8',\n",
       "  'close_lag_8',\n",
       "  'open_lag_9',\n",
       "  'high_lag_9',\n",
       "  'low_lag_9',\n",
       "  'close_lag_9',\n",
       "  'open_lag_10',\n",
       "  'high_lag_10',\n",
       "  'low_lag_10',\n",
       "  'close_lag_10',\n",
       "  'open_lag_11',\n",
       "  'high_lag_11',\n",
       "  'low_lag_11',\n",
       "  'close_lag_11',\n",
       "  'open_lag_12',\n",
       "  'high_lag_12',\n",
       "  'low_lag_12',\n",
       "  'close_lag_12',\n",
       "  'open_lag_13',\n",
       "  'high_lag_13',\n",
       "  'low_lag_13',\n",
       "  'close_lag_13',\n",
       "  'open_lag_14',\n",
       "  'high_lag_14',\n",
       "  'low_lag_14',\n",
       "  'close_lag_14',\n",
       "  'open_lag_15',\n",
       "  'high_lag_15',\n",
       "  'low_lag_15',\n",
       "  'close_lag_15',\n",
       "  'market_open',\n",
       "  'price_change',\n",
       "  'direction',\n",
       "  'cumulative_ups',\n",
       "  'cumulative_downs',\n",
       "  'direction_change_up_to_down',\n",
       "  'direction_change_down_to_up',\n",
       "  'prev_cumulative_ups',\n",
       "  'prev_cumulative_downs',\n",
       "  'hour',\n",
       "  'minute',\n",
       "  'day_of_year',\n",
       "  'local_max_5',\n",
       "  'local_min_5',\n",
       "  'cumulative_local_max_5',\n",
       "  'cumulative_local_min_5',\n",
       "  'time_since_prev_max_5',\n",
       "  'time_since_prev_min_5',\n",
       "  'local_max_10',\n",
       "  'local_min_10',\n",
       "  'cumulative_local_max_10',\n",
       "  'cumulative_local_min_10',\n",
       "  'time_since_prev_max_10',\n",
       "  'time_since_prev_min_10',\n",
       "  'local_max_15',\n",
       "  'local_min_15',\n",
       "  'cumulative_local_max_15',\n",
       "  'cumulative_local_min_15',\n",
       "  'time_since_prev_max_15',\n",
       "  'time_since_prev_min_15',\n",
       "  'local_max_30',\n",
       "  'local_min_30',\n",
       "  'cumulative_local_max_30',\n",
       "  'cumulative_local_min_30',\n",
       "  'time_since_prev_max_30',\n",
       "  'time_since_prev_min_30',\n",
       "  'max_today',\n",
       "  'min_today',\n",
       "  'max_today_session',\n",
       "  'min_today_session'])"
      ]
     },
     "execution_count": 24,
     "metadata": {},
     "output_type": "execute_result"
    }
   ],
   "source": [
    "cols = [x for x in cols if 'ema' not in x and 'sma' not in x and x not in ['us_eastern_timestamp', 'open', 'high', 'low', 'close', 'volume',]]\n",
    "len(cols), cols"
   ]
  },
  {
   "cell_type": "code",
   "execution_count": 25,
   "id": "69be58f2-2af2-4fd2-af04-6676194e16fe",
   "metadata": {
    "tags": []
   },
   "outputs": [
    {
     "data": {
      "text/html": [
       "<div>\n",
       "<style scoped>\n",
       "    .dataframe tbody tr th:only-of-type {\n",
       "        vertical-align: middle;\n",
       "    }\n",
       "\n",
       "    .dataframe tbody tr th {\n",
       "        vertical-align: top;\n",
       "    }\n",
       "\n",
       "    .dataframe thead th {\n",
       "        text-align: right;\n",
       "    }\n",
       "</style>\n",
       "<table border=\"1\" class=\"dataframe\">\n",
       "  <thead>\n",
       "    <tr style=\"text-align: right;\">\n",
       "      <th></th>\n",
       "      <th>open_lag_1</th>\n",
       "      <th>high_lag_1</th>\n",
       "      <th>low_lag_1</th>\n",
       "      <th>close_lag_1</th>\n",
       "      <th>open_lag_2</th>\n",
       "      <th>high_lag_2</th>\n",
       "      <th>low_lag_2</th>\n",
       "      <th>close_lag_2</th>\n",
       "      <th>open_lag_3</th>\n",
       "      <th>high_lag_3</th>\n",
       "      <th>...</th>\n",
       "      <th>local_max_30</th>\n",
       "      <th>local_min_30</th>\n",
       "      <th>cumulative_local_max_30</th>\n",
       "      <th>cumulative_local_min_30</th>\n",
       "      <th>time_since_prev_max_30</th>\n",
       "      <th>time_since_prev_min_30</th>\n",
       "      <th>max_today</th>\n",
       "      <th>min_today</th>\n",
       "      <th>max_today_session</th>\n",
       "      <th>min_today_session</th>\n",
       "    </tr>\n",
       "    <tr>\n",
       "      <th>us_eastern_timestamp</th>\n",
       "      <th></th>\n",
       "      <th></th>\n",
       "      <th></th>\n",
       "      <th></th>\n",
       "      <th></th>\n",
       "      <th></th>\n",
       "      <th></th>\n",
       "      <th></th>\n",
       "      <th></th>\n",
       "      <th></th>\n",
       "      <th></th>\n",
       "      <th></th>\n",
       "      <th></th>\n",
       "      <th></th>\n",
       "      <th></th>\n",
       "      <th></th>\n",
       "      <th></th>\n",
       "      <th></th>\n",
       "      <th></th>\n",
       "      <th></th>\n",
       "      <th></th>\n",
       "    </tr>\n",
       "  </thead>\n",
       "  <tbody>\n",
       "    <tr>\n",
       "      <th>2024-01-02 04:00:00</th>\n",
       "      <td>NaN</td>\n",
       "      <td>NaN</td>\n",
       "      <td>NaN</td>\n",
       "      <td>NaN</td>\n",
       "      <td>NaN</td>\n",
       "      <td>NaN</td>\n",
       "      <td>NaN</td>\n",
       "      <td>NaN</td>\n",
       "      <td>NaN</td>\n",
       "      <td>NaN</td>\n",
       "      <td>...</td>\n",
       "      <td>False</td>\n",
       "      <td>False</td>\n",
       "      <td>0</td>\n",
       "      <td>0</td>\n",
       "      <td>0</td>\n",
       "      <td>0</td>\n",
       "      <td>476.36</td>\n",
       "      <td>476.0</td>\n",
       "      <td>476.36</td>\n",
       "      <td>476.0</td>\n",
       "    </tr>\n",
       "    <tr>\n",
       "      <th>2024-01-02 04:01:00</th>\n",
       "      <td>476.25</td>\n",
       "      <td>476.36</td>\n",
       "      <td>476.00</td>\n",
       "      <td>476.31</td>\n",
       "      <td>NaN</td>\n",
       "      <td>NaN</td>\n",
       "      <td>NaN</td>\n",
       "      <td>NaN</td>\n",
       "      <td>NaN</td>\n",
       "      <td>NaN</td>\n",
       "      <td>...</td>\n",
       "      <td>False</td>\n",
       "      <td>False</td>\n",
       "      <td>0</td>\n",
       "      <td>0</td>\n",
       "      <td>1</td>\n",
       "      <td>1</td>\n",
       "      <td>476.36</td>\n",
       "      <td>476.0</td>\n",
       "      <td>476.36</td>\n",
       "      <td>476.0</td>\n",
       "    </tr>\n",
       "    <tr>\n",
       "      <th>2024-01-02 04:02:00</th>\n",
       "      <td>476.34</td>\n",
       "      <td>476.34</td>\n",
       "      <td>476.29</td>\n",
       "      <td>476.29</td>\n",
       "      <td>476.25</td>\n",
       "      <td>476.36</td>\n",
       "      <td>476.00</td>\n",
       "      <td>476.31</td>\n",
       "      <td>NaN</td>\n",
       "      <td>NaN</td>\n",
       "      <td>...</td>\n",
       "      <td>False</td>\n",
       "      <td>False</td>\n",
       "      <td>0</td>\n",
       "      <td>0</td>\n",
       "      <td>2</td>\n",
       "      <td>2</td>\n",
       "      <td>476.36</td>\n",
       "      <td>476.0</td>\n",
       "      <td>476.36</td>\n",
       "      <td>476.0</td>\n",
       "    </tr>\n",
       "    <tr>\n",
       "      <th>2024-01-02 04:03:00</th>\n",
       "      <td>476.29</td>\n",
       "      <td>476.29</td>\n",
       "      <td>476.28</td>\n",
       "      <td>476.28</td>\n",
       "      <td>476.34</td>\n",
       "      <td>476.34</td>\n",
       "      <td>476.29</td>\n",
       "      <td>476.29</td>\n",
       "      <td>476.25</td>\n",
       "      <td>476.36</td>\n",
       "      <td>...</td>\n",
       "      <td>False</td>\n",
       "      <td>False</td>\n",
       "      <td>0</td>\n",
       "      <td>0</td>\n",
       "      <td>3</td>\n",
       "      <td>3</td>\n",
       "      <td>476.36</td>\n",
       "      <td>476.0</td>\n",
       "      <td>476.36</td>\n",
       "      <td>476.0</td>\n",
       "    </tr>\n",
       "    <tr>\n",
       "      <th>2024-01-02 04:04:00</th>\n",
       "      <td>476.27</td>\n",
       "      <td>476.27</td>\n",
       "      <td>476.27</td>\n",
       "      <td>476.27</td>\n",
       "      <td>476.29</td>\n",
       "      <td>476.29</td>\n",
       "      <td>476.28</td>\n",
       "      <td>476.28</td>\n",
       "      <td>476.34</td>\n",
       "      <td>476.34</td>\n",
       "      <td>...</td>\n",
       "      <td>False</td>\n",
       "      <td>False</td>\n",
       "      <td>0</td>\n",
       "      <td>0</td>\n",
       "      <td>4</td>\n",
       "      <td>4</td>\n",
       "      <td>476.36</td>\n",
       "      <td>476.0</td>\n",
       "      <td>476.36</td>\n",
       "      <td>476.0</td>\n",
       "    </tr>\n",
       "  </tbody>\n",
       "</table>\n",
       "<p>5 rows × 100 columns</p>\n",
       "</div>"
      ],
      "text/plain": [
       "                      open_lag_1  high_lag_1  low_lag_1  close_lag_1  \\\n",
       "us_eastern_timestamp                                                   \n",
       "2024-01-02 04:00:00          NaN         NaN        NaN          NaN   \n",
       "2024-01-02 04:01:00       476.25      476.36     476.00       476.31   \n",
       "2024-01-02 04:02:00       476.34      476.34     476.29       476.29   \n",
       "2024-01-02 04:03:00       476.29      476.29     476.28       476.28   \n",
       "2024-01-02 04:04:00       476.27      476.27     476.27       476.27   \n",
       "\n",
       "                      open_lag_2  high_lag_2  low_lag_2  close_lag_2  \\\n",
       "us_eastern_timestamp                                                   \n",
       "2024-01-02 04:00:00          NaN         NaN        NaN          NaN   \n",
       "2024-01-02 04:01:00          NaN         NaN        NaN          NaN   \n",
       "2024-01-02 04:02:00       476.25      476.36     476.00       476.31   \n",
       "2024-01-02 04:03:00       476.34      476.34     476.29       476.29   \n",
       "2024-01-02 04:04:00       476.29      476.29     476.28       476.28   \n",
       "\n",
       "                      open_lag_3  high_lag_3  ...  local_max_30  local_min_30  \\\n",
       "us_eastern_timestamp                          ...                               \n",
       "2024-01-02 04:00:00          NaN         NaN  ...         False         False   \n",
       "2024-01-02 04:01:00          NaN         NaN  ...         False         False   \n",
       "2024-01-02 04:02:00          NaN         NaN  ...         False         False   \n",
       "2024-01-02 04:03:00       476.25      476.36  ...         False         False   \n",
       "2024-01-02 04:04:00       476.34      476.34  ...         False         False   \n",
       "\n",
       "                      cumulative_local_max_30  cumulative_local_min_30  \\\n",
       "us_eastern_timestamp                                                     \n",
       "2024-01-02 04:00:00                         0                        0   \n",
       "2024-01-02 04:01:00                         0                        0   \n",
       "2024-01-02 04:02:00                         0                        0   \n",
       "2024-01-02 04:03:00                         0                        0   \n",
       "2024-01-02 04:04:00                         0                        0   \n",
       "\n",
       "                      time_since_prev_max_30  time_since_prev_min_30  \\\n",
       "us_eastern_timestamp                                                   \n",
       "2024-01-02 04:00:00                        0                       0   \n",
       "2024-01-02 04:01:00                        1                       1   \n",
       "2024-01-02 04:02:00                        2                       2   \n",
       "2024-01-02 04:03:00                        3                       3   \n",
       "2024-01-02 04:04:00                        4                       4   \n",
       "\n",
       "                      max_today  min_today  max_today_session  \\\n",
       "us_eastern_timestamp                                            \n",
       "2024-01-02 04:00:00      476.36      476.0             476.36   \n",
       "2024-01-02 04:01:00      476.36      476.0             476.36   \n",
       "2024-01-02 04:02:00      476.36      476.0             476.36   \n",
       "2024-01-02 04:03:00      476.36      476.0             476.36   \n",
       "2024-01-02 04:04:00      476.36      476.0             476.36   \n",
       "\n",
       "                      min_today_session  \n",
       "us_eastern_timestamp                     \n",
       "2024-01-02 04:00:00               476.0  \n",
       "2024-01-02 04:01:00               476.0  \n",
       "2024-01-02 04:02:00               476.0  \n",
       "2024-01-02 04:03:00               476.0  \n",
       "2024-01-02 04:04:00               476.0  \n",
       "\n",
       "[5 rows x 100 columns]"
      ]
     },
     "execution_count": 25,
     "metadata": {},
     "output_type": "execute_result"
    }
   ],
   "source": [
    "other_features = pq.read_pandas(path, columns=cols).to_pandas() # pq.read_pandas('example.parquet', columns=['two']).to_pandas()\n",
    "other_features.head()"
   ]
  },
  {
   "cell_type": "code",
   "execution_count": 26,
   "id": "763435d8-4eec-464f-8b13-04c0857afb69",
   "metadata": {
    "tags": []
   },
   "outputs": [
    {
     "data": {
      "text/plain": [
       "True"
      ]
     },
     "execution_count": 26,
     "metadata": {},
     "output_type": "execute_result"
    }
   ],
   "source": [
    "one_min_df.shape[0]==other_features.shape[0]"
   ]
  },
  {
   "cell_type": "code",
   "execution_count": 27,
   "id": "08647f9a-a4f8-4c08-8d82-bd27fbd1ccc3",
   "metadata": {
    "tags": []
   },
   "outputs": [],
   "source": [
    "one_min_df = pd.concat([one_min_df, other_features], axis=1, )"
   ]
  },
  {
   "cell_type": "code",
   "execution_count": 28,
   "id": "b6f57937-f708-4ee8-bb5e-688902df91de",
   "metadata": {
    "tags": []
   },
   "outputs": [
    {
     "data": {
      "text/plain": [
       "((214794, 205), (214794, 100))"
      ]
     },
     "execution_count": 28,
     "metadata": {},
     "output_type": "execute_result"
    }
   ],
   "source": [
    "one_min_df.shape, other_features.shape"
   ]
  },
  {
   "cell_type": "code",
   "execution_count": 29,
   "id": "10dd14ae-6f01-4665-99e5-45709bf48c63",
   "metadata": {
    "tags": []
   },
   "outputs": [
    {
     "data": {
      "text/html": [
       "<div>\n",
       "<style scoped>\n",
       "    .dataframe tbody tr th:only-of-type {\n",
       "        vertical-align: middle;\n",
       "    }\n",
       "\n",
       "    .dataframe tbody tr th {\n",
       "        vertical-align: top;\n",
       "    }\n",
       "\n",
       "    .dataframe thead th {\n",
       "        text-align: right;\n",
       "    }\n",
       "</style>\n",
       "<table border=\"1\" class=\"dataframe\">\n",
       "  <thead>\n",
       "    <tr style=\"text-align: right;\">\n",
       "      <th></th>\n",
       "      <th>open</th>\n",
       "      <th>high</th>\n",
       "      <th>low</th>\n",
       "      <th>close</th>\n",
       "      <th>volume</th>\n",
       "      <th>symbol</th>\n",
       "      <th>time_delta</th>\n",
       "      <th>open_ema_2m</th>\n",
       "      <th>open_sma_2m</th>\n",
       "      <th>high_ema_2m</th>\n",
       "      <th>...</th>\n",
       "      <th>local_max_30</th>\n",
       "      <th>local_min_30</th>\n",
       "      <th>cumulative_local_max_30</th>\n",
       "      <th>cumulative_local_min_30</th>\n",
       "      <th>time_since_prev_max_30</th>\n",
       "      <th>time_since_prev_min_30</th>\n",
       "      <th>max_today</th>\n",
       "      <th>min_today</th>\n",
       "      <th>max_today_session</th>\n",
       "      <th>min_today_session</th>\n",
       "    </tr>\n",
       "    <tr>\n",
       "      <th>us_eastern_timestamp</th>\n",
       "      <th></th>\n",
       "      <th></th>\n",
       "      <th></th>\n",
       "      <th></th>\n",
       "      <th></th>\n",
       "      <th></th>\n",
       "      <th></th>\n",
       "      <th></th>\n",
       "      <th></th>\n",
       "      <th></th>\n",
       "      <th></th>\n",
       "      <th></th>\n",
       "      <th></th>\n",
       "      <th></th>\n",
       "      <th></th>\n",
       "      <th></th>\n",
       "      <th></th>\n",
       "      <th></th>\n",
       "      <th></th>\n",
       "      <th></th>\n",
       "      <th></th>\n",
       "    </tr>\n",
       "  </thead>\n",
       "  <tbody>\n",
       "    <tr>\n",
       "      <th>2024-01-02 04:00:00</th>\n",
       "      <td>476.25</td>\n",
       "      <td>476.36</td>\n",
       "      <td>476.00</td>\n",
       "      <td>476.31</td>\n",
       "      <td>20460.0</td>\n",
       "      <td>SPY</td>\n",
       "      <td>NaN</td>\n",
       "      <td>476.250000</td>\n",
       "      <td>NaN</td>\n",
       "      <td>476.360000</td>\n",
       "      <td>...</td>\n",
       "      <td>False</td>\n",
       "      <td>False</td>\n",
       "      <td>0</td>\n",
       "      <td>0</td>\n",
       "      <td>0</td>\n",
       "      <td>0</td>\n",
       "      <td>476.36</td>\n",
       "      <td>476.0</td>\n",
       "      <td>476.36</td>\n",
       "      <td>476.0</td>\n",
       "    </tr>\n",
       "    <tr>\n",
       "      <th>2024-01-02 04:01:00</th>\n",
       "      <td>476.34</td>\n",
       "      <td>476.34</td>\n",
       "      <td>476.29</td>\n",
       "      <td>476.29</td>\n",
       "      <td>6369.0</td>\n",
       "      <td>SPY</td>\n",
       "      <td>NaN</td>\n",
       "      <td>476.310000</td>\n",
       "      <td>476.295</td>\n",
       "      <td>476.346667</td>\n",
       "      <td>...</td>\n",
       "      <td>False</td>\n",
       "      <td>False</td>\n",
       "      <td>0</td>\n",
       "      <td>0</td>\n",
       "      <td>1</td>\n",
       "      <td>1</td>\n",
       "      <td>476.36</td>\n",
       "      <td>476.0</td>\n",
       "      <td>476.36</td>\n",
       "      <td>476.0</td>\n",
       "    </tr>\n",
       "    <tr>\n",
       "      <th>2024-01-02 04:02:00</th>\n",
       "      <td>476.29</td>\n",
       "      <td>476.29</td>\n",
       "      <td>476.28</td>\n",
       "      <td>476.28</td>\n",
       "      <td>6152.0</td>\n",
       "      <td>SPY</td>\n",
       "      <td>NaN</td>\n",
       "      <td>476.296667</td>\n",
       "      <td>476.315</td>\n",
       "      <td>476.308889</td>\n",
       "      <td>...</td>\n",
       "      <td>False</td>\n",
       "      <td>False</td>\n",
       "      <td>0</td>\n",
       "      <td>0</td>\n",
       "      <td>2</td>\n",
       "      <td>2</td>\n",
       "      <td>476.36</td>\n",
       "      <td>476.0</td>\n",
       "      <td>476.36</td>\n",
       "      <td>476.0</td>\n",
       "    </tr>\n",
       "    <tr>\n",
       "      <th>2024-01-02 04:03:00</th>\n",
       "      <td>476.27</td>\n",
       "      <td>476.27</td>\n",
       "      <td>476.27</td>\n",
       "      <td>476.27</td>\n",
       "      <td>369.0</td>\n",
       "      <td>SPY</td>\n",
       "      <td>NaN</td>\n",
       "      <td>476.278889</td>\n",
       "      <td>476.280</td>\n",
       "      <td>476.282963</td>\n",
       "      <td>...</td>\n",
       "      <td>False</td>\n",
       "      <td>False</td>\n",
       "      <td>0</td>\n",
       "      <td>0</td>\n",
       "      <td>3</td>\n",
       "      <td>3</td>\n",
       "      <td>476.36</td>\n",
       "      <td>476.0</td>\n",
       "      <td>476.36</td>\n",
       "      <td>476.0</td>\n",
       "    </tr>\n",
       "    <tr>\n",
       "      <th>2024-01-02 04:04:00</th>\n",
       "      <td>476.27</td>\n",
       "      <td>476.27</td>\n",
       "      <td>476.27</td>\n",
       "      <td>476.27</td>\n",
       "      <td>369.0</td>\n",
       "      <td>SPY</td>\n",
       "      <td>NaN</td>\n",
       "      <td>476.272963</td>\n",
       "      <td>476.270</td>\n",
       "      <td>476.274321</td>\n",
       "      <td>...</td>\n",
       "      <td>False</td>\n",
       "      <td>False</td>\n",
       "      <td>0</td>\n",
       "      <td>0</td>\n",
       "      <td>4</td>\n",
       "      <td>4</td>\n",
       "      <td>476.36</td>\n",
       "      <td>476.0</td>\n",
       "      <td>476.36</td>\n",
       "      <td>476.0</td>\n",
       "    </tr>\n",
       "  </tbody>\n",
       "</table>\n",
       "<p>5 rows × 205 columns</p>\n",
       "</div>"
      ],
      "text/plain": [
       "                        open    high     low   close   volume symbol  \\\n",
       "us_eastern_timestamp                                                   \n",
       "2024-01-02 04:00:00   476.25  476.36  476.00  476.31  20460.0    SPY   \n",
       "2024-01-02 04:01:00   476.34  476.34  476.29  476.29   6369.0    SPY   \n",
       "2024-01-02 04:02:00   476.29  476.29  476.28  476.28   6152.0    SPY   \n",
       "2024-01-02 04:03:00   476.27  476.27  476.27  476.27    369.0    SPY   \n",
       "2024-01-02 04:04:00   476.27  476.27  476.27  476.27    369.0    SPY   \n",
       "\n",
       "                      time_delta  open_ema_2m  open_sma_2m  high_ema_2m  ...  \\\n",
       "us_eastern_timestamp                                                     ...   \n",
       "2024-01-02 04:00:00          NaN   476.250000          NaN   476.360000  ...   \n",
       "2024-01-02 04:01:00          NaN   476.310000      476.295   476.346667  ...   \n",
       "2024-01-02 04:02:00          NaN   476.296667      476.315   476.308889  ...   \n",
       "2024-01-02 04:03:00          NaN   476.278889      476.280   476.282963  ...   \n",
       "2024-01-02 04:04:00          NaN   476.272963      476.270   476.274321  ...   \n",
       "\n",
       "                      local_max_30  local_min_30  cumulative_local_max_30  \\\n",
       "us_eastern_timestamp                                                        \n",
       "2024-01-02 04:00:00          False         False                        0   \n",
       "2024-01-02 04:01:00          False         False                        0   \n",
       "2024-01-02 04:02:00          False         False                        0   \n",
       "2024-01-02 04:03:00          False         False                        0   \n",
       "2024-01-02 04:04:00          False         False                        0   \n",
       "\n",
       "                      cumulative_local_min_30  time_since_prev_max_30  \\\n",
       "us_eastern_timestamp                                                    \n",
       "2024-01-02 04:00:00                         0                       0   \n",
       "2024-01-02 04:01:00                         0                       1   \n",
       "2024-01-02 04:02:00                         0                       2   \n",
       "2024-01-02 04:03:00                         0                       3   \n",
       "2024-01-02 04:04:00                         0                       4   \n",
       "\n",
       "                      time_since_prev_min_30  max_today  min_today  \\\n",
       "us_eastern_timestamp                                                 \n",
       "2024-01-02 04:00:00                        0     476.36      476.0   \n",
       "2024-01-02 04:01:00                        1     476.36      476.0   \n",
       "2024-01-02 04:02:00                        2     476.36      476.0   \n",
       "2024-01-02 04:03:00                        3     476.36      476.0   \n",
       "2024-01-02 04:04:00                        4     476.36      476.0   \n",
       "\n",
       "                      max_today_session  min_today_session  \n",
       "us_eastern_timestamp                                        \n",
       "2024-01-02 04:00:00              476.36              476.0  \n",
       "2024-01-02 04:01:00              476.36              476.0  \n",
       "2024-01-02 04:02:00              476.36              476.0  \n",
       "2024-01-02 04:03:00              476.36              476.0  \n",
       "2024-01-02 04:04:00              476.36              476.0  \n",
       "\n",
       "[5 rows x 205 columns]"
      ]
     },
     "execution_count": 29,
     "metadata": {},
     "output_type": "execute_result"
    }
   ],
   "source": [
    "one_min_df.head()"
   ]
  },
  {
   "cell_type": "markdown",
   "id": "341a9977-28e2-4e84-a493-d0462538f2f6",
   "metadata": {
    "tags": []
   },
   "source": [
    "### dependent_variable"
   ]
  },
  {
   "cell_type": "code",
   "execution_count": 30,
   "id": "01fa26e9-84fc-417f-8f87-d2d4b550b385",
   "metadata": {
    "tags": []
   },
   "outputs": [
    {
     "data": {
      "text/plain": [
       "('s3://sisyphus-general-bucket/AthenaInsights/latest_data/dependent_variable/stock_bars_1min.parquet',\n",
       " 9,\n",
       " ['open',\n",
       "  'high',\n",
       "  'low',\n",
       "  'close',\n",
       "  'close_sma_5m',\n",
       "  'category',\n",
       "  'future_highs',\n",
       "  'future_lows',\n",
       "  'slopes'])"
      ]
     },
     "execution_count": 30,
     "metadata": {},
     "output_type": "execute_result"
    }
   ],
   "source": [
    "try:\n",
    "    cols = eval(all_paths_config['dependent_variable']['1min']['stock_bars_1min']['cols'])\n",
    "except:\n",
    "    cols = all_paths_config['dependent_variable']['1min']['stock_bars_1min']['cols']\n",
    "path = all_paths_config['dependent_variable']['1min']['stock_bars_1min']['path']\n",
    "path, len(cols), cols"
   ]
  },
  {
   "cell_type": "code",
   "execution_count": 31,
   "id": "5895a0c2-8fd5-494f-8c20-b928584caf6b",
   "metadata": {
    "tags": []
   },
   "outputs": [
    {
     "data": {
      "text/html": [
       "<div>\n",
       "<style scoped>\n",
       "    .dataframe tbody tr th:only-of-type {\n",
       "        vertical-align: middle;\n",
       "    }\n",
       "\n",
       "    .dataframe tbody tr th {\n",
       "        vertical-align: top;\n",
       "    }\n",
       "\n",
       "    .dataframe thead th {\n",
       "        text-align: right;\n",
       "    }\n",
       "</style>\n",
       "<table border=\"1\" class=\"dataframe\">\n",
       "  <thead>\n",
       "    <tr style=\"text-align: right;\">\n",
       "      <th></th>\n",
       "      <th>category</th>\n",
       "    </tr>\n",
       "    <tr>\n",
       "      <th>us_eastern_timestamp</th>\n",
       "      <th></th>\n",
       "    </tr>\n",
       "  </thead>\n",
       "  <tbody>\n",
       "    <tr>\n",
       "      <th>2024-01-02 04:00:00</th>\n",
       "      <td>C</td>\n",
       "    </tr>\n",
       "    <tr>\n",
       "      <th>2024-01-02 04:01:00</th>\n",
       "      <td>C</td>\n",
       "    </tr>\n",
       "    <tr>\n",
       "      <th>2024-01-02 04:02:00</th>\n",
       "      <td>C</td>\n",
       "    </tr>\n",
       "    <tr>\n",
       "      <th>2024-01-02 04:03:00</th>\n",
       "      <td>C</td>\n",
       "    </tr>\n",
       "    <tr>\n",
       "      <th>2024-01-02 04:04:00</th>\n",
       "      <td>C</td>\n",
       "    </tr>\n",
       "  </tbody>\n",
       "</table>\n",
       "</div>"
      ],
      "text/plain": [
       "                     category\n",
       "us_eastern_timestamp         \n",
       "2024-01-02 04:00:00         C\n",
       "2024-01-02 04:01:00         C\n",
       "2024-01-02 04:02:00         C\n",
       "2024-01-02 04:03:00         C\n",
       "2024-01-02 04:04:00         C"
      ]
     },
     "execution_count": 31,
     "metadata": {},
     "output_type": "execute_result"
    }
   ],
   "source": [
    "dependent_var_df = pq.read_pandas(path, columns=['category']).to_pandas() # pq.read_pandas('example.parquet', columns=['two']).to_pandas()\n",
    "dependent_var_df.head()"
   ]
  },
  {
   "cell_type": "code",
   "execution_count": 32,
   "id": "d23c2539-0b4e-4e07-8c2b-d89888440f1b",
   "metadata": {
    "tags": []
   },
   "outputs": [
    {
     "data": {
      "text/plain": [
       "category\n",
       "C    161282\n",
       "A     10399\n",
       "B      8554\n",
       "Name: count, dtype: int64"
      ]
     },
     "execution_count": 32,
     "metadata": {},
     "output_type": "execute_result"
    }
   ],
   "source": [
    "dependent_var_df.loc[:'2024-09-30'].category.value_counts()"
   ]
  },
  {
   "cell_type": "code",
   "execution_count": 33,
   "id": "08f7903c-acd5-4255-889a-a80af72bd642",
   "metadata": {
    "tags": []
   },
   "outputs": [
    {
     "data": {
      "text/plain": [
       "category\n",
       "C    31241\n",
       "A     1962\n",
       "B     1356\n",
       "Name: count, dtype: int64"
      ]
     },
     "execution_count": 33,
     "metadata": {},
     "output_type": "execute_result"
    }
   ],
   "source": [
    "dependent_var_df.loc['2024-10-01':].category.value_counts()"
   ]
  },
  {
   "cell_type": "code",
   "execution_count": 34,
   "id": "fd66c082-012a-47c1-aee7-e99a52507289",
   "metadata": {
    "tags": []
   },
   "outputs": [
    {
     "data": {
      "text/plain": [
       "True"
      ]
     },
     "execution_count": 34,
     "metadata": {},
     "output_type": "execute_result"
    }
   ],
   "source": [
    "one_min_df.shape[0]==dependent_var_df.shape[0]"
   ]
  },
  {
   "cell_type": "markdown",
   "id": "d28ded45-55b1-4870-9daf-36ee7388aaeb",
   "metadata": {
    "tags": []
   },
   "source": [
    "### final dataset"
   ]
  },
  {
   "cell_type": "code",
   "execution_count": null,
   "id": "c271d705-365a-4e3e-ab2b-ec46636b0886",
   "metadata": {
    "tags": []
   },
   "outputs": [],
   "source": []
  },
  {
   "cell_type": "code",
   "execution_count": 35,
   "id": "32ebb416-2008-4b27-a735-720a9af1635b",
   "metadata": {
    "tags": []
   },
   "outputs": [
    {
     "data": {
      "text/html": [
       "<div>\n",
       "<style scoped>\n",
       "    .dataframe tbody tr th:only-of-type {\n",
       "        vertical-align: middle;\n",
       "    }\n",
       "\n",
       "    .dataframe tbody tr th {\n",
       "        vertical-align: top;\n",
       "    }\n",
       "\n",
       "    .dataframe thead th {\n",
       "        text-align: right;\n",
       "    }\n",
       "</style>\n",
       "<table border=\"1\" class=\"dataframe\">\n",
       "  <thead>\n",
       "    <tr style=\"text-align: right;\">\n",
       "      <th></th>\n",
       "      <th>open</th>\n",
       "      <th>high</th>\n",
       "      <th>low</th>\n",
       "      <th>close</th>\n",
       "      <th>volume</th>\n",
       "      <th>time_delta</th>\n",
       "      <th>open_ema_2m</th>\n",
       "      <th>open_sma_2m</th>\n",
       "      <th>high_ema_2m</th>\n",
       "      <th>high_sma_2m</th>\n",
       "      <th>...</th>\n",
       "      <th>local_min_30</th>\n",
       "      <th>cumulative_local_max_30</th>\n",
       "      <th>cumulative_local_min_30</th>\n",
       "      <th>time_since_prev_max_30</th>\n",
       "      <th>time_since_prev_min_30</th>\n",
       "      <th>max_today</th>\n",
       "      <th>min_today</th>\n",
       "      <th>max_today_session</th>\n",
       "      <th>min_today_session</th>\n",
       "      <th>category</th>\n",
       "    </tr>\n",
       "    <tr>\n",
       "      <th>us_eastern_timestamp</th>\n",
       "      <th></th>\n",
       "      <th></th>\n",
       "      <th></th>\n",
       "      <th></th>\n",
       "      <th></th>\n",
       "      <th></th>\n",
       "      <th></th>\n",
       "      <th></th>\n",
       "      <th></th>\n",
       "      <th></th>\n",
       "      <th></th>\n",
       "      <th></th>\n",
       "      <th></th>\n",
       "      <th></th>\n",
       "      <th></th>\n",
       "      <th></th>\n",
       "      <th></th>\n",
       "      <th></th>\n",
       "      <th></th>\n",
       "      <th></th>\n",
       "      <th></th>\n",
       "    </tr>\n",
       "  </thead>\n",
       "  <tbody>\n",
       "    <tr>\n",
       "      <th>2024-01-02 04:00:00</th>\n",
       "      <td>476.25</td>\n",
       "      <td>476.36</td>\n",
       "      <td>476.00</td>\n",
       "      <td>476.31</td>\n",
       "      <td>20460.0</td>\n",
       "      <td>NaN</td>\n",
       "      <td>476.250000</td>\n",
       "      <td>NaN</td>\n",
       "      <td>476.360000</td>\n",
       "      <td>NaN</td>\n",
       "      <td>...</td>\n",
       "      <td>False</td>\n",
       "      <td>0</td>\n",
       "      <td>0</td>\n",
       "      <td>0</td>\n",
       "      <td>0</td>\n",
       "      <td>476.36</td>\n",
       "      <td>476.0</td>\n",
       "      <td>476.36</td>\n",
       "      <td>476.0</td>\n",
       "      <td>C</td>\n",
       "    </tr>\n",
       "    <tr>\n",
       "      <th>2024-01-02 04:01:00</th>\n",
       "      <td>476.34</td>\n",
       "      <td>476.34</td>\n",
       "      <td>476.29</td>\n",
       "      <td>476.29</td>\n",
       "      <td>6369.0</td>\n",
       "      <td>NaN</td>\n",
       "      <td>476.310000</td>\n",
       "      <td>476.295</td>\n",
       "      <td>476.346667</td>\n",
       "      <td>476.350</td>\n",
       "      <td>...</td>\n",
       "      <td>False</td>\n",
       "      <td>0</td>\n",
       "      <td>0</td>\n",
       "      <td>1</td>\n",
       "      <td>1</td>\n",
       "      <td>476.36</td>\n",
       "      <td>476.0</td>\n",
       "      <td>476.36</td>\n",
       "      <td>476.0</td>\n",
       "      <td>C</td>\n",
       "    </tr>\n",
       "    <tr>\n",
       "      <th>2024-01-02 04:02:00</th>\n",
       "      <td>476.29</td>\n",
       "      <td>476.29</td>\n",
       "      <td>476.28</td>\n",
       "      <td>476.28</td>\n",
       "      <td>6152.0</td>\n",
       "      <td>NaN</td>\n",
       "      <td>476.296667</td>\n",
       "      <td>476.315</td>\n",
       "      <td>476.308889</td>\n",
       "      <td>476.315</td>\n",
       "      <td>...</td>\n",
       "      <td>False</td>\n",
       "      <td>0</td>\n",
       "      <td>0</td>\n",
       "      <td>2</td>\n",
       "      <td>2</td>\n",
       "      <td>476.36</td>\n",
       "      <td>476.0</td>\n",
       "      <td>476.36</td>\n",
       "      <td>476.0</td>\n",
       "      <td>C</td>\n",
       "    </tr>\n",
       "    <tr>\n",
       "      <th>2024-01-02 04:03:00</th>\n",
       "      <td>476.27</td>\n",
       "      <td>476.27</td>\n",
       "      <td>476.27</td>\n",
       "      <td>476.27</td>\n",
       "      <td>369.0</td>\n",
       "      <td>NaN</td>\n",
       "      <td>476.278889</td>\n",
       "      <td>476.280</td>\n",
       "      <td>476.282963</td>\n",
       "      <td>476.280</td>\n",
       "      <td>...</td>\n",
       "      <td>False</td>\n",
       "      <td>0</td>\n",
       "      <td>0</td>\n",
       "      <td>3</td>\n",
       "      <td>3</td>\n",
       "      <td>476.36</td>\n",
       "      <td>476.0</td>\n",
       "      <td>476.36</td>\n",
       "      <td>476.0</td>\n",
       "      <td>C</td>\n",
       "    </tr>\n",
       "    <tr>\n",
       "      <th>2024-01-02 04:04:00</th>\n",
       "      <td>476.27</td>\n",
       "      <td>476.27</td>\n",
       "      <td>476.27</td>\n",
       "      <td>476.27</td>\n",
       "      <td>369.0</td>\n",
       "      <td>NaN</td>\n",
       "      <td>476.272963</td>\n",
       "      <td>476.270</td>\n",
       "      <td>476.274321</td>\n",
       "      <td>476.270</td>\n",
       "      <td>...</td>\n",
       "      <td>False</td>\n",
       "      <td>0</td>\n",
       "      <td>0</td>\n",
       "      <td>4</td>\n",
       "      <td>4</td>\n",
       "      <td>476.36</td>\n",
       "      <td>476.0</td>\n",
       "      <td>476.36</td>\n",
       "      <td>476.0</td>\n",
       "      <td>C</td>\n",
       "    </tr>\n",
       "  </tbody>\n",
       "</table>\n",
       "<p>5 rows × 205 columns</p>\n",
       "</div>"
      ],
      "text/plain": [
       "                        open    high     low   close   volume  time_delta  \\\n",
       "us_eastern_timestamp                                                        \n",
       "2024-01-02 04:00:00   476.25  476.36  476.00  476.31  20460.0         NaN   \n",
       "2024-01-02 04:01:00   476.34  476.34  476.29  476.29   6369.0         NaN   \n",
       "2024-01-02 04:02:00   476.29  476.29  476.28  476.28   6152.0         NaN   \n",
       "2024-01-02 04:03:00   476.27  476.27  476.27  476.27    369.0         NaN   \n",
       "2024-01-02 04:04:00   476.27  476.27  476.27  476.27    369.0         NaN   \n",
       "\n",
       "                      open_ema_2m  open_sma_2m  high_ema_2m  high_sma_2m  ...  \\\n",
       "us_eastern_timestamp                                                      ...   \n",
       "2024-01-02 04:00:00    476.250000          NaN   476.360000          NaN  ...   \n",
       "2024-01-02 04:01:00    476.310000      476.295   476.346667      476.350  ...   \n",
       "2024-01-02 04:02:00    476.296667      476.315   476.308889      476.315  ...   \n",
       "2024-01-02 04:03:00    476.278889      476.280   476.282963      476.280  ...   \n",
       "2024-01-02 04:04:00    476.272963      476.270   476.274321      476.270  ...   \n",
       "\n",
       "                      local_min_30  cumulative_local_max_30  \\\n",
       "us_eastern_timestamp                                          \n",
       "2024-01-02 04:00:00          False                        0   \n",
       "2024-01-02 04:01:00          False                        0   \n",
       "2024-01-02 04:02:00          False                        0   \n",
       "2024-01-02 04:03:00          False                        0   \n",
       "2024-01-02 04:04:00          False                        0   \n",
       "\n",
       "                      cumulative_local_min_30  time_since_prev_max_30  \\\n",
       "us_eastern_timestamp                                                    \n",
       "2024-01-02 04:00:00                         0                       0   \n",
       "2024-01-02 04:01:00                         0                       1   \n",
       "2024-01-02 04:02:00                         0                       2   \n",
       "2024-01-02 04:03:00                         0                       3   \n",
       "2024-01-02 04:04:00                         0                       4   \n",
       "\n",
       "                      time_since_prev_min_30  max_today  min_today  \\\n",
       "us_eastern_timestamp                                                 \n",
       "2024-01-02 04:00:00                        0     476.36      476.0   \n",
       "2024-01-02 04:01:00                        1     476.36      476.0   \n",
       "2024-01-02 04:02:00                        2     476.36      476.0   \n",
       "2024-01-02 04:03:00                        3     476.36      476.0   \n",
       "2024-01-02 04:04:00                        4     476.36      476.0   \n",
       "\n",
       "                      max_today_session  min_today_session  category  \n",
       "us_eastern_timestamp                                                  \n",
       "2024-01-02 04:00:00              476.36              476.0         C  \n",
       "2024-01-02 04:01:00              476.36              476.0         C  \n",
       "2024-01-02 04:02:00              476.36              476.0         C  \n",
       "2024-01-02 04:03:00              476.36              476.0         C  \n",
       "2024-01-02 04:04:00              476.36              476.0         C  \n",
       "\n",
       "[5 rows x 205 columns]"
      ]
     },
     "execution_count": 35,
     "metadata": {},
     "output_type": "execute_result"
    }
   ],
   "source": [
    "one_min_df = pd.concat([one_min_df, dependent_var_df['category']], axis=1).drop(columns=['symbol'])\n",
    "one_min_df.head()"
   ]
  },
  {
   "cell_type": "code",
   "execution_count": 36,
   "id": "aed04173-089c-48ad-871d-d504d7482304",
   "metadata": {
    "tags": []
   },
   "outputs": [],
   "source": [
    "# one_min_df['category'] = dependent_var_df['category']\n",
    "# one_min_df = one_min_df.drop(columns=['us_eastern_timestamp', 'symbol'])\n",
    "# one_min_df"
   ]
  },
  {
   "cell_type": "code",
   "execution_count": 37,
   "id": "fb08c7db-e0a9-4f96-a440-9759aaf93f02",
   "metadata": {
    "tags": []
   },
   "outputs": [
    {
     "data": {
      "text/plain": [
       "'open, high, low, close, volume, time_delta, open_ema_2m, open_sma_2m, high_ema_2m, high_sma_2m, low_ema_2m, low_sma_2m, close_ema_2m, close_sma_2m, volume_ema_2m, volume_sma_2m, open_ema_3m, open_sma_3m, high_ema_3m, high_sma_3m, low_ema_3m, low_sma_3m, close_ema_3m, close_sma_3m, volume_ema_3m, volume_sma_3m, open_ema_5m, open_sma_5m, high_ema_5m, high_sma_5m, low_ema_5m, low_sma_5m, close_ema_5m, close_sma_5m, volume_ema_5m, volume_sma_5m, open_ema_8m, open_sma_8m, high_ema_8m, high_sma_8m, low_ema_8m, low_sma_8m, close_ema_8m, close_sma_8m, volume_ema_8m, volume_sma_8m, open_ema_12m, open_sma_12m, high_ema_12m, high_sma_12m, low_ema_12m, low_sma_12m, close_ema_12m, close_sma_12m, volume_ema_12m, volume_sma_12m, open_ema_10m, open_sma_10m, high_ema_10m, high_sma_10m, low_ema_10m, low_sma_10m, close_ema_10m, close_sma_10m, volume_ema_10m, volume_sma_10m, open_ema_20m, open_sma_20m, high_ema_20m, high_sma_20m, low_ema_20m, low_sma_20m, close_ema_20m, close_sma_20m, volume_ema_20m, volume_sma_20m, open_ema_26m, open_sma_26m, high_ema_26m, high_sma_26m, low_ema_26m, low_sma_26m, close_ema_26m, close_sma_26m, volume_ema_26m, volume_sma_26m, close_7window_rsi, close_9window_rsi, close_11window_rsi, close_14window_rsi, close_17window_rsi, close_21window_rsi, close_ema_2m_7window_rsi, close_ema_2m_9window_rsi, close_ema_2m_11window_rsi, close_ema_2m_14window_rsi, close_ema_2m_17window_rsi, close_ema_2m_21window_rsi, close_sma_2m_7window_rsi, close_sma_2m_9window_rsi, close_sma_2m_11window_rsi, close_sma_2m_14window_rsi, close_sma_2m_17window_rsi, close_sma_2m_21window_rsi, open_lag_1, high_lag_1, low_lag_1, close_lag_1, open_lag_2, high_lag_2, low_lag_2, close_lag_2, open_lag_3, high_lag_3, low_lag_3, close_lag_3, open_lag_4, high_lag_4, low_lag_4, close_lag_4, open_lag_5, high_lag_5, low_lag_5, close_lag_5, open_lag_6, high_lag_6, low_lag_6, close_lag_6, open_lag_7, high_lag_7, low_lag_7, close_lag_7, open_lag_8, high_lag_8, low_lag_8, close_lag_8, open_lag_9, high_lag_9, low_lag_9, close_lag_9, open_lag_10, high_lag_10, low_lag_10, close_lag_10, open_lag_11, high_lag_11, low_lag_11, close_lag_11, open_lag_12, high_lag_12, low_lag_12, close_lag_12, open_lag_13, high_lag_13, low_lag_13, close_lag_13, open_lag_14, high_lag_14, low_lag_14, close_lag_14, open_lag_15, high_lag_15, low_lag_15, close_lag_15, market_open, price_change, direction, cumulative_ups, cumulative_downs, direction_change_up_to_down, direction_change_down_to_up, prev_cumulative_ups, prev_cumulative_downs, hour, minute, day_of_year, local_max_5, local_min_5, cumulative_local_max_5, cumulative_local_min_5, time_since_prev_max_5, time_since_prev_min_5, local_max_10, local_min_10, cumulative_local_max_10, cumulative_local_min_10, time_since_prev_max_10, time_since_prev_min_10, local_max_15, local_min_15, cumulative_local_max_15, cumulative_local_min_15, time_since_prev_max_15, time_since_prev_min_15, local_max_30, local_min_30, cumulative_local_max_30, cumulative_local_min_30, time_since_prev_max_30, time_since_prev_min_30, max_today, min_today, max_today_session, min_today_session, category'"
      ]
     },
     "execution_count": 37,
     "metadata": {},
     "output_type": "execute_result"
    }
   ],
   "source": [
    "', '.join(one_min_df.columns)"
   ]
  },
  {
   "cell_type": "code",
   "execution_count": 38,
   "id": "40b3cffb",
   "metadata": {
    "tags": []
   },
   "outputs": [
    {
     "data": {
      "text/plain": [
       "Index(['direction', 'category'], dtype='object')"
      ]
     },
     "execution_count": 38,
     "metadata": {},
     "output_type": "execute_result"
    }
   ],
   "source": [
    "one_min_df.select_dtypes(include='object').columns"
   ]
  },
  {
   "cell_type": "code",
   "execution_count": 39,
   "id": "7b8b07fa",
   "metadata": {
    "tags": []
   },
   "outputs": [],
   "source": [
    "one_min_df = pd.concat([one_min_df.drop(columns='direction'), pd.get_dummies(one_min_df['direction'], drop_first=True)], axis=1)"
   ]
  },
  {
   "cell_type": "code",
   "execution_count": 42,
   "id": "07749999-bd66-4cf7-9cc6-c01f9a4d1da8",
   "metadata": {
    "tags": []
   },
   "outputs": [],
   "source": [
    "one_min_df.to_parquet('s3://sisyphus-general-bucket/AthenaInsights/latest_data/model/data/stock_bars_1min_rsi.parquet' )"
   ]
  },
  {
   "cell_type": "code",
   "execution_count": null,
   "id": "aa7d4472-9fca-4825-ba59-3d6e1892880c",
   "metadata": {},
   "outputs": [],
   "source": []
  }
 ],
 "metadata": {
  "kernelspec": {
   "display_name": "conda_fools_gold",
   "language": "python",
   "name": "conda_fools_gold"
  },
  "language_info": {
   "codemirror_mode": {
    "name": "ipython",
    "version": 3
   },
   "file_extension": ".py",
   "mimetype": "text/x-python",
   "name": "python",
   "nbconvert_exporter": "python",
   "pygments_lexer": "ipython3",
   "version": "3.9.19"
  }
 },
 "nbformat": 4,
 "nbformat_minor": 5
}
