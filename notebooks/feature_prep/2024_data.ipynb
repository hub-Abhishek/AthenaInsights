{
 "cells": [
  {
   "cell_type": "code",
   "execution_count": 1,
   "id": "3f3a17e5-d982-4979-a9c8-7271dd8c1e55",
   "metadata": {},
   "outputs": [],
   "source": [
    "import boto3\n",
    "import pandas as pd\n",
    "import numpy as np\n",
    "import warnings\n",
    "from tqdm import tqdm\n",
    "warnings.filterwarnings(\"ignore\")"
   ]
  },
  {
   "cell_type": "markdown",
   "id": "9a12150d-0424-446a-8d9e-193f96f14401",
   "metadata": {},
   "source": [
    "### data"
   ]
  },
  {
   "cell_type": "code",
   "execution_count": 2,
   "id": "52e4b205-2699-4c3c-a85e-794a3b99b324",
   "metadata": {},
   "outputs": [],
   "source": [
    "client = boto3.client('s3')"
   ]
  },
  {
   "cell_type": "code",
   "execution_count": 3,
   "id": "0c2180cd-d010-4f3c-9468-61663b8862c7",
   "metadata": {},
   "outputs": [],
   "source": [
    "s3_prefix = 's3://'\n",
    "bucket = 'sisyphus-general-bucket'\n",
    "primary_folder = 'AthenaInsights'"
   ]
  },
  {
   "cell_type": "code",
   "execution_count": 4,
   "id": "3cf67b35-99a5-46ee-9f20-8986b1223415",
   "metadata": {},
   "outputs": [],
   "source": [
    "response = client.list_objects_v2(\n",
    "    Bucket=bucket,\n",
    "    Prefix=f'{primary_folder}/data/')"
   ]
  },
  {
   "cell_type": "code",
   "execution_count": 5,
   "id": "4f2b1146-1f3e-43fb-89f1-a439bb0755ef",
   "metadata": {},
   "outputs": [],
   "source": [
    "files = []\n",
    "all_symbols = set()"
   ]
  },
  {
   "cell_type": "code",
   "execution_count": 6,
   "id": "e72e9acd-70e3-44b9-8fa5-923359392ba5",
   "metadata": {},
   "outputs": [],
   "source": [
    "paths = []\n",
    "for content in response.get('Contents', []):\n",
    "    # print(f\"{s3_prefix}{bucket}/{content['Key']}\")\n",
    "    paths.append(f\"{s3_prefix}{bucket}/{content['Key']}\")"
   ]
  },
  {
   "cell_type": "code",
   "execution_count": 7,
   "id": "5b41e70b-2f6e-46c4-8f98-7908e6b6fa01",
   "metadata": {},
   "outputs": [
    {
     "data": {
      "text/plain": [
       "{'s3://sisyphus-general-bucket/AthenaInsights/data/csv',\n",
       " 's3://sisyphus-general-bucket/AthenaInsights/data/data_prep',\n",
       " 's3://sisyphus-general-bucket/AthenaInsights/data/dependent_variable',\n",
       " 's3://sisyphus-general-bucket/AthenaInsights/data/feature_prep',\n",
       " 's3://sisyphus-general-bucket/AthenaInsights/data/model-artifacts/sagemaker-xgboost-2024-11-19-07-47-20-826/debug-output',\n",
       " 's3://sisyphus-general-bucket/AthenaInsights/data/model-artifacts/sagemaker-xgboost-2024-11-19-07-47-20-826/profiler-output/framework',\n",
       " 's3://sisyphus-general-bucket/AthenaInsights/data/model-artifacts/sagemaker-xgboost-2024-11-19-07-47-20-826/profiler-output/system',\n",
       " 's3://sisyphus-general-bucket/AthenaInsights/data/model-artifacts/sagemaker-xgboost-2024-11-19-07-47-20-826/profiler-output/system/incremental/2024111907',\n",
       " 's3://sisyphus-general-bucket/AthenaInsights/data/model-artifacts/sagemaker-xgboost-2024-11-19-07-54-12-710/debug-output',\n",
       " 's3://sisyphus-general-bucket/AthenaInsights/data/model-artifacts/sagemaker-xgboost-2024-11-19-07-54-12-710/profiler-output/framework',\n",
       " 's3://sisyphus-general-bucket/AthenaInsights/data/model-artifacts/sagemaker-xgboost-2024-11-19-07-54-12-710/profiler-output/system',\n",
       " 's3://sisyphus-general-bucket/AthenaInsights/data/model-artifacts/sagemaker-xgboost-2024-11-19-07-54-12-710/profiler-output/system/incremental/2024111907',\n",
       " 's3://sisyphus-general-bucket/AthenaInsights/data/model/train',\n",
       " 's3://sisyphus-general-bucket/AthenaInsights/data/parquet'}"
      ]
     },
     "execution_count": 7,
     "metadata": {},
     "output_type": "execute_result"
    }
   ],
   "source": [
    "set(['/'.join(x.split('/')[:-1]) for x in paths])"
   ]
  },
  {
   "cell_type": "code",
   "execution_count": 8,
   "id": "89762c41-bd6f-4422-aeb7-ff16e7e3ce22",
   "metadata": {},
   "outputs": [
    {
     "data": {
      "text/plain": [
       "['s3://sisyphus-general-bucket/AthenaInsights/data/model/train/train_features.parquet',\n",
       " 's3://sisyphus-general-bucket/AthenaInsights/data/model/train/train_labels.parquet']"
      ]
     },
     "execution_count": 8,
     "metadata": {},
     "output_type": "execute_result"
    }
   ],
   "source": [
    "[x for x in paths if not('data/csv' in x or 'data/data_prep/' in x or 'data/feature_prep' in x or 'data/dependent_variable/' in x or 'data/parquet' in x or 'data/model-artifacts/' in x)]"
   ]
  },
  {
   "cell_type": "code",
   "execution_count": 9,
   "id": "cd224dab-8cd4-40c8-8358-00494f46cffe",
   "metadata": {},
   "outputs": [],
   "source": [
    "def filter_df(df):\n",
    "    df = df.reset_index()\n",
    "    df = df[df['us_eastern_timestamp']>='2024-01-01']\n",
    "    df.set_index('us_eastern_timestamp')\n",
    "    return df"
   ]
  },
  {
   "cell_type": "code",
   "execution_count": 12,
   "id": "1fec0e58-bf6a-4e90-b4e1-f61e20c904a7",
   "metadata": {},
   "outputs": [],
   "source": [
    "new_paths = {}\n",
    "for file_loc in paths:\n",
    "    if 'data/csv/' in file_loc:\n",
    "        new_paths[file_loc] = file_loc.replace('/data/', '/latest_data/')\n",
    "        continue\n",
    "        df = pd.read_csv(file_loc)\n",
    "        df.to_parquet(new_paths[file_loc])\n",
    "        del df\n",
    "\n",
    "    elif 'data/data_prep/' in file_loc:\n",
    "        new_paths[file_loc] = file_loc.replace('/data/', '/latest_data/')\n",
    "        continue\n",
    "        df = pd.read_parquet(file_loc)\n",
    "        df = filter_df(df)\n",
    "        df.to_parquet(new_paths[file_loc])\n",
    "        del df\n",
    "\n",
    "    elif 'data/feature_prep' in file_loc:\n",
    "        new_paths[file_loc] = file_loc.replace('/data/', '/latest_data/')\n",
    "        continue\n",
    "        df = pd.read_parquet(file_loc)\n",
    "        df = filter_df(df)\n",
    "        df.to_parquet(new_paths[file_loc])\n",
    "        del df\n",
    "\n",
    "    elif 'data/dependent_variable/' in file_loc:\n",
    "        new_paths[file_loc] = file_loc.replace('/data/', '/latest_data/')\n",
    "        continue\n",
    "        df = pd.read_parquet(file_loc)\n",
    "        df = filter_df(df)\n",
    "        df.to_parquet(new_paths[file_loc])\n",
    "        del df\n",
    "\n",
    "    elif 'data/parquet' in file_loc:\n",
    "        new_paths[file_loc] = file_loc.replace('/data/', '/latest_data/')\n",
    "        df = pd.read_parquet(file_loc)\n",
    "        df = df[df.timestamp>='2024-01-01']\n",
    "        df.to_parquet(new_paths[file_loc])\n",
    "        del df"
   ]
  },
  {
   "cell_type": "code",
   "execution_count": 13,
   "id": "4d11c69e-9f60-4b55-96b8-490cca588d23",
   "metadata": {},
   "outputs": [
    {
     "data": {
      "text/plain": [
       "{'s3://sisyphus-general-bucket/AthenaInsights/data/model-artifacts/sagemaker-xgboost-2024-11-19-07-47-20-826/debug-output/training_job_end.ts',\n",
       " 's3://sisyphus-general-bucket/AthenaInsights/data/model-artifacts/sagemaker-xgboost-2024-11-19-07-47-20-826/profiler-output/framework/training_job_end.ts',\n",
       " 's3://sisyphus-general-bucket/AthenaInsights/data/model-artifacts/sagemaker-xgboost-2024-11-19-07-47-20-826/profiler-output/system/incremental/2024111907/1732002480.algo-1.json',\n",
       " 's3://sisyphus-general-bucket/AthenaInsights/data/model-artifacts/sagemaker-xgboost-2024-11-19-07-47-20-826/profiler-output/system/incremental/2024111907/1732002540.algo-1.json',\n",
       " 's3://sisyphus-general-bucket/AthenaInsights/data/model-artifacts/sagemaker-xgboost-2024-11-19-07-47-20-826/profiler-output/system/training_job_end.ts',\n",
       " 's3://sisyphus-general-bucket/AthenaInsights/data/model-artifacts/sagemaker-xgboost-2024-11-19-07-54-12-710/debug-output/training_job_end.ts',\n",
       " 's3://sisyphus-general-bucket/AthenaInsights/data/model-artifacts/sagemaker-xgboost-2024-11-19-07-54-12-710/profiler-output/framework/training_job_end.ts',\n",
       " 's3://sisyphus-general-bucket/AthenaInsights/data/model-artifacts/sagemaker-xgboost-2024-11-19-07-54-12-710/profiler-output/system/incremental/2024111907/1732002900.algo-1.json',\n",
       " 's3://sisyphus-general-bucket/AthenaInsights/data/model-artifacts/sagemaker-xgboost-2024-11-19-07-54-12-710/profiler-output/system/incremental/2024111907/1732002960.algo-1.json',\n",
       " 's3://sisyphus-general-bucket/AthenaInsights/data/model-artifacts/sagemaker-xgboost-2024-11-19-07-54-12-710/profiler-output/system/training_job_end.ts',\n",
       " 's3://sisyphus-general-bucket/AthenaInsights/data/model/train/train_features.parquet',\n",
       " 's3://sisyphus-general-bucket/AthenaInsights/data/model/train/train_labels.parquet'}"
      ]
     },
     "execution_count": 13,
     "metadata": {},
     "output_type": "execute_result"
    }
   ],
   "source": [
    "# [file_loc for file_loc in paths if 'data/parquet' in file_loc]\n",
    "set(paths)-set(new_paths.keys())"
   ]
  },
  {
   "cell_type": "code",
   "execution_count": null,
   "id": "a175cb0d-2d7b-4799-b449-930dded41b05",
   "metadata": {},
   "outputs": [],
   "source": []
  },
  {
   "cell_type": "code",
   "execution_count": null,
   "id": "b3217d5f-d97f-4286-b149-9c916fa6fc3e",
   "metadata": {},
   "outputs": [],
   "source": []
  }
 ],
 "metadata": {
  "kernelspec": {
   "display_name": "conda_python3",
   "language": "python",
   "name": "conda_python3"
  },
  "language_info": {
   "codemirror_mode": {
    "name": "ipython",
    "version": 3
   },
   "file_extension": ".py",
   "mimetype": "text/x-python",
   "name": "python",
   "nbconvert_exporter": "python",
   "pygments_lexer": "ipython3",
   "version": "3.10.15"
  }
 },
 "nbformat": 4,
 "nbformat_minor": 5
}
