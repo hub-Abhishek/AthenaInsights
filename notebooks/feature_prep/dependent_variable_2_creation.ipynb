{
 "cells": [
  {
   "cell_type": "code",
   "execution_count": 1,
   "metadata": {},
   "outputs": [],
   "source": [
    "import boto3\n",
    "import pandas as pd\n",
    "import numpy as np\n",
    "import warnings\n",
    "from tqdm import tqdm\n",
    "warnings.filterwarnings(\"ignore\")"
   ]
  },
  {
   "cell_type": "markdown",
   "metadata": {},
   "source": [
    "### data"
   ]
  },
  {
   "cell_type": "code",
   "execution_count": 2,
   "metadata": {},
   "outputs": [],
   "source": [
    "client = boto3.client('s3')"
   ]
  },
  {
   "cell_type": "code",
   "execution_count": 3,
   "metadata": {},
   "outputs": [],
   "source": [
    "s3_prefix = 's3://'\n",
    "bucket = 'sisyphus-general-bucket'\n",
    "primary_folder = 'AthenaInsights'"
   ]
  },
  {
   "cell_type": "code",
   "execution_count": 4,
   "metadata": {},
   "outputs": [],
   "source": [
    "# spy_1m_df_loc = f'{s3_prefix}{bucket}/{primary_folder}/data/data_prep/stock_bars_1min.parquet'\n",
    "spy_1m_df_loc = 's3://sisyphus-general-bucket/AthenaInsights/data/feature_prep/stock_bars_1min.parquet'\n",
    "spy_1m_df = pd.read_parquet(spy_1m_df_loc)\n",
    "spy_1m_df = spy_1m_df[spy_1m_df.symbol=='SPY']"
   ]
  },
  {
   "cell_type": "code",
   "execution_count": 5,
   "metadata": {},
   "outputs": [
    {
     "name": "stdout",
     "output_type": "stream",
     "text": [
      "The index is sorted.\n"
     ]
    }
   ],
   "source": [
    "# Check if the Datetime index is sorted\n",
    "if spy_1m_df.index.is_monotonic_increasing:\n",
    "    print(\"The index is sorted.\")\n",
    "else:\n",
    "    print(\"The index is not sorted. Sorting now.\")\n",
    "    spy_1m_df.sort_index(inplace=True)\n"
   ]
  },
  {
   "cell_type": "markdown",
   "metadata": {},
   "source": [
    "### Variable creation"
   ]
  },
  {
   "cell_type": "code",
   "execution_count": 6,
   "metadata": {},
   "outputs": [],
   "source": [
    "import pandas as pd\n",
    "import numpy as np\n",
    "from sklearn.linear_model import LinearRegression\n",
    "import matplotlib.pyplot as plt\n",
    "\n",
    "def calculate_trend_slope(df, window=20, field='close'):\n",
    "    \"\"\" Calculate the slope of the linear regression line for the last 'window' minutes based on a specified field \"\"\"\n",
    "    reg = LinearRegression()\n",
    "    # Indices for X, specified field values for Y\n",
    "    x = np.array(range(window)).reshape(-1, 1)\n",
    "    y = df[field].values.reshape(-1, 1)\n",
    "    reg.fit(x, y)\n",
    "    # Slope of the regression line\n",
    "    return reg.coef_[0][0]\n",
    "\n",
    "def categorize_points(df, field='close', prev_data_points=20, positive_slope_threshold=0.0, negative_slope_threshold=0.0, positive_rise_threshold=0.0003, negative_drop_threshold=0.0003, positive_future_window=30, negative_future_window=30):\n",
    "    \"\"\" Categorize each minute data point into A, B, or C with dynamic thresholds and fields \"\"\"\n",
    "    categories = []\n",
    "    future_highs = []\n",
    "    future_lows = []\n",
    "\n",
    "    for i in range(len(df)):\n",
    "        if i < prev_data_points or i > len(df) - max(positive_future_window, negative_future_window):  # Not enough data to categorize\n",
    "            categories.append('C')  # Consider as undecided for now\n",
    "            future_highs.append(np.nan)\n",
    "            future_lows.append(np.nan)\n",
    "            continue\n",
    "        \n",
    "        # Calculate the trend over the past 20 minutes using the specified field\n",
    "        past_trend_slope = calculate_trend_slope(df.iloc[i-prev_data_points:i], window=prev_data_points,field=field)\n",
    "        \n",
    "        # Get the current price and future high/low based on the specified field\n",
    "        current_price = df.iloc[i][field]\n",
    "        future_high = df.iloc[i+1:i+1+positive_future_window][field].max()\n",
    "        future_low = df.iloc[i+1:i+1+negative_future_window][field].min()\n",
    "        future_highs.append(future_high)\n",
    "        future_lows.append(future_low)\n",
    "        \n",
    "        # Calculate thresholds based on current price\n",
    "        high_threshold = current_price * (1 + positive_rise_threshold)\n",
    "        low_threshold = current_price * (1 - negative_drop_threshold)\n",
    "        \n",
    "        # Determine the category based on the criteria and trend\n",
    "        if past_trend_slope < negative_slope_threshold and future_high > high_threshold:\n",
    "            categories.append('A')\n",
    "        elif past_trend_slope > positive_slope_threshold and future_low < low_threshold:\n",
    "            categories.append('B')\n",
    "        else:\n",
    "            categories.append('C')\n",
    "    \n",
    "    return categories, future_highs, future_lows\n",
    "\n",
    "def plot_categorization(df, date, field='close', ):\n",
    "    \"\"\" Plot categorization for a given day with dynamic field selection \"\"\"\n",
    "    df_day = df.loc[date]\n",
    "    # categories, future_highs, future_lows = categorize_points(df_day, field=field, **kwargs)\n",
    "    # df_day['category'] = categories\n",
    "    # df_day['future_highs'] = future_highs\n",
    "    # df_day['future_lows'] = future_lows\n",
    "\n",
    "    \n",
    "    plt.figure(figsize=(14, 7))\n",
    "    plt.plot(df_day.index, df_day[field], label=f'{field.capitalize()} Price', color='gray', linewidth=2)\n",
    "    # plt.plot(df_day.index, df_day['close'], label=f'{field.capitalize()} Price', color='blue', linewidth=1)\n",
    "    for cat, color in zip(['A', 'B', 'C'], ['green', 'red', 'gray']):\n",
    "        plt.scatter(df_day[df_day['category'] == cat].index, df_day[df_day['category'] == cat][field], color=color, label=f'Category {cat}', s=20 if cat!='C' else 0)\n",
    "    plt.legend()\n",
    "    plt.title(f'Price Categorization on {date}')\n",
    "    plt.xlabel('Timestamp')\n",
    "    plt.ylabel(f'{field.capitalize()} Price')\n",
    "    plt.show()"
   ]
  },
  {
   "cell_type": "code",
   "execution_count": 7,
   "metadata": {},
   "outputs": [],
   "source": [
    "dates = spy_1m_df.us_eastern_date.unique()"
   ]
  },
  {
   "cell_type": "code",
   "execution_count": 8,
   "metadata": {},
   "outputs": [],
   "source": [
    "spy_1m_df['category'] = ''\n",
    "spy_1m_df['future_highs'] = np.nan\n",
    "spy_1m_df['future_lows'] = np.nan\n",
    "for date in dates:\n",
    "    df_day = spy_1m_df[spy_1m_df.us_eastern_date==date]\n",
    "    categories, future_highs, future_lows = categorize_points(df_day, field='close_sma_5m', prev_data_points=11,\n",
    "                                                              positive_slope_threshold=0.013, negative_slope_threshold=-0.026, \n",
    "                                                              positive_rise_threshold=0.0009, negative_drop_threshold=0.0018, \n",
    "                                                              positive_future_window=30, negative_future_window=30)\n",
    "                                                              \n",
    "    spy_1m_df.loc[spy_1m_df.us_eastern_date==date, 'category'] = categories\n",
    "    spy_1m_df.loc[spy_1m_df.us_eastern_date==date, 'future_highs'] = future_highs\n",
    "    spy_1m_df.loc[spy_1m_df.us_eastern_date==date, 'future_lows'] = future_lows\n",
    "    del categories, future_highs, future_lows, df_day\n"
   ]
  },
  {
   "cell_type": "code",
   "execution_count": 9,
   "metadata": {},
   "outputs": [],
   "source": [
    "spy_1m_df[['open', 'high', 'low', 'close', 'us_eastern_date', 'close_sma_5m', 'category', 'future_highs', 'future_lows']].to_parquet('s3://sisyphus-general-bucket/AthenaInsights/data/dependent_variable/stock_bars_1min.parquet')"
   ]
  },
  {
   "cell_type": "code",
   "execution_count": 10,
   "metadata": {},
   "outputs": [],
   "source": [
    "\n",
    "\n",
    "def plot_categorization(df, date, field='close', ):\n",
    "    \"\"\" Plot categorization for a given day with dynamic field selection \"\"\"\n",
    "    df_day = df.loc[date]\n",
    "    # categories, future_highs, future_lows = categorize_points(df_day, field=field, **kwargs)\n",
    "    # df_day['category'] = categories\n",
    "    # df_day['future_highs'] = future_highs\n",
    "    # df_day['future_lows'] = future_lows\n",
    "\n",
    "    \n",
    "    plt.figure(figsize=(14, 7))\n",
    "    plt.plot(df_day.index, df_day[field], label=f'{field.capitalize()} Price', color='gray', linewidth=2)\n",
    "    # plt.plot(df_day.index, df_day['close'], label=f'{field.capitalize()} Price', color='blue', linewidth=1)\n",
    "    for cat, color in zip(['A', 'B', 'C'], ['green', 'red', 'gray']):\n",
    "        plt.scatter(df_day[df_day['category'] == cat].index, df_day[df_day['category'] == cat][field], color=color, label=f'Category {cat}', s=20 if cat!='C' else 0)\n",
    "    plt.legend()\n",
    "    plt.title(f'Price Categorization on {date}')\n",
    "    plt.xlabel('Timestamp')\n",
    "    plt.ylabel(f'{field.capitalize()} Price')\n",
    "    plt.show()"
   ]
  }
 ],
 "metadata": {
  "kernelspec": {
   "display_name": "fools_gold",
   "language": "python",
   "name": "python3"
  },
  "language_info": {
   "codemirror_mode": {
    "name": "ipython",
    "version": 3
   },
   "file_extension": ".py",
   "mimetype": "text/x-python",
   "name": "python",
   "nbconvert_exporter": "python",
   "pygments_lexer": "ipython3",
   "version": "3.9.19"
  }
 },
 "nbformat": 4,
 "nbformat_minor": 2
}
