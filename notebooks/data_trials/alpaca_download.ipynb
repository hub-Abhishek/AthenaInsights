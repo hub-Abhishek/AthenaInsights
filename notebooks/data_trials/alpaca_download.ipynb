{
 "cells": [
  {
   "cell_type": "code",
   "execution_count": 1,
   "metadata": {
    "tags": []
   },
   "outputs": [],
   "source": [
    "key = 'AKRNJ8AI69F0O8ZNAYD1'\n",
    "secret = 'eXPvWljK7FlfZQVQeVb6kUhQTOllJUagUUQa5QB2'"
   ]
  },
  {
   "cell_type": "code",
   "execution_count": 2,
   "metadata": {
    "tags": []
   },
   "outputs": [
    {
     "name": "stderr",
     "output_type": "stream",
     "text": [
      "WARNING: pip is being invoked by an old script wrapper. This will fail in a future version of pip.\n",
      "Please see https://github.com/pypa/pip/issues/5599 for advice on fixing the underlying issue.\n",
      "To avoid this problem you can invoke Python with '-m pip' instead of running pip directly.\n"
     ]
    },
    {
     "data": {
      "text/html": [
       "<pre style=\"white-space:pre;overflow-x:auto;line-height:normal;font-family:Menlo,'DejaVu Sans Mono',consolas,'Courier New',monospace\">Collecting alpaca_trade_api\n",
       "</pre>\n"
      ],
      "text/plain": [
       "Collecting alpaca_trade_api\n"
      ]
     },
     "metadata": {},
     "output_type": "display_data"
    },
    {
     "data": {
      "text/html": [
       "<pre style=\"white-space:pre;overflow-x:auto;line-height:normal;font-family:Menlo,'DejaVu Sans Mono',consolas,'Courier New',monospace\">  Using cached alpaca_trade_api-3.2.0-py3-none-any.whl.metadata (29 kB)\n",
       "</pre>\n"
      ],
      "text/plain": [
       "  Using cached alpaca_trade_api-3.2.0-py3-none-any.whl.metadata (29 kB)\n"
      ]
     },
     "metadata": {},
     "output_type": "display_data"
    },
    {
     "data": {
      "text/html": [
       "<pre style=\"white-space:pre;overflow-x:auto;line-height:normal;font-family:Menlo,'DejaVu Sans Mono',consolas,'Courier New',monospace\">Requirement already satisfied: pandas&gt;=0.18.1 in /home/ec2-user/anaconda3/envs/fools_gold/lib/python3.9/site-packages (from alpaca_trade_api) (2.2.3)\n",
       "</pre>\n"
      ],
      "text/plain": [
       "Requirement already satisfied: pandas>=0.18.1 in /home/ec2-user/anaconda3/envs/fools_gold/lib/python3.9/site-packages (from alpaca_trade_api) (2.2.3)\n"
      ]
     },
     "metadata": {},
     "output_type": "display_data"
    },
    {
     "data": {
      "text/html": [
       "<pre style=\"white-space:pre;overflow-x:auto;line-height:normal;font-family:Menlo,'DejaVu Sans Mono',consolas,'Courier New',monospace\">Requirement already satisfied: numpy&gt;=1.11.1 in /home/ec2-user/anaconda3/envs/fools_gold/lib/python3.9/site-packages (from alpaca_trade_api) (2.0.2)\n",
       "</pre>\n"
      ],
      "text/plain": [
       "Requirement already satisfied: numpy>=1.11.1 in /home/ec2-user/anaconda3/envs/fools_gold/lib/python3.9/site-packages (from alpaca_trade_api) (2.0.2)\n"
      ]
     },
     "metadata": {},
     "output_type": "display_data"
    },
    {
     "data": {
      "text/html": [
       "<pre style=\"white-space:pre;overflow-x:auto;line-height:normal;font-family:Menlo,'DejaVu Sans Mono',consolas,'Courier New',monospace\">Requirement already satisfied: requests&lt;3,&gt;2 in /home/ec2-user/anaconda3/envs/fools_gold/lib/python3.9/site-packages (from alpaca_trade_api) (2.32.3)\n",
       "</pre>\n"
      ],
      "text/plain": [
       "Requirement already satisfied: requests<3,>2 in /home/ec2-user/anaconda3/envs/fools_gold/lib/python3.9/site-packages (from alpaca_trade_api) (2.32.3)\n"
      ]
     },
     "metadata": {},
     "output_type": "display_data"
    },
    {
     "data": {
      "text/html": [
       "<pre style=\"white-space:pre;overflow-x:auto;line-height:normal;font-family:Menlo,'DejaVu Sans Mono',consolas,'Courier New',monospace\">Requirement already satisfied: urllib3&lt;2,&gt;1.24 in /home/ec2-user/anaconda3/envs/fools_gold/lib/python3.9/site-packages (from alpaca_trade_api) (1.26.19)\n",
       "</pre>\n"
      ],
      "text/plain": [
       "Requirement already satisfied: urllib3<2,>1.24 in /home/ec2-user/anaconda3/envs/fools_gold/lib/python3.9/site-packages (from alpaca_trade_api) (1.26.19)\n"
      ]
     },
     "metadata": {},
     "output_type": "display_data"
    },
    {
     "data": {
      "text/html": [
       "<pre style=\"white-space:pre;overflow-x:auto;line-height:normal;font-family:Menlo,'DejaVu Sans Mono',consolas,'Courier New',monospace\">Requirement already satisfied: websocket-client&lt;2,&gt;=0.56.0 in /home/ec2-user/anaconda3/envs/fools_gold/lib/python3.9/site-packages (from alpaca_trade_api) (1.8.0)\n",
       "</pre>\n"
      ],
      "text/plain": [
       "Requirement already satisfied: websocket-client<2,>=0.56.0 in /home/ec2-user/anaconda3/envs/fools_gold/lib/python3.9/site-packages (from alpaca_trade_api) (1.8.0)\n"
      ]
     },
     "metadata": {},
     "output_type": "display_data"
    },
    {
     "data": {
      "text/html": [
       "<pre style=\"white-space:pre;overflow-x:auto;line-height:normal;font-family:Menlo,'DejaVu Sans Mono',consolas,'Courier New',monospace\">Requirement already satisfied: websockets&lt;11,&gt;=9.0 in /home/ec2-user/anaconda3/envs/fools_gold/lib/python3.9/site-packages (from alpaca_trade_api) (10.4)\n",
       "</pre>\n"
      ],
      "text/plain": [
       "Requirement already satisfied: websockets<11,>=9.0 in /home/ec2-user/anaconda3/envs/fools_gold/lib/python3.9/site-packages (from alpaca_trade_api) (10.4)\n"
      ]
     },
     "metadata": {},
     "output_type": "display_data"
    },
    {
     "data": {
      "text/html": [
       "<pre style=\"white-space:pre;overflow-x:auto;line-height:normal;font-family:Menlo,'DejaVu Sans Mono',consolas,'Courier New',monospace\">Requirement already satisfied: msgpack==1.0.3 in /home/ec2-user/anaconda3/envs/fools_gold/lib/python3.9/site-packages (from alpaca_trade_api) (1.0.3)\n",
       "</pre>\n"
      ],
      "text/plain": [
       "Requirement already satisfied: msgpack==1.0.3 in /home/ec2-user/anaconda3/envs/fools_gold/lib/python3.9/site-packages (from alpaca_trade_api) (1.0.3)\n"
      ]
     },
     "metadata": {},
     "output_type": "display_data"
    },
    {
     "data": {
      "text/html": [
       "<pre style=\"white-space:pre;overflow-x:auto;line-height:normal;font-family:Menlo,'DejaVu Sans Mono',consolas,'Courier New',monospace\">Requirement already satisfied: aiohttp&lt;4,&gt;=3.8.3 in /home/ec2-user/anaconda3/envs/fools_gold/lib/python3.9/site-packages (from alpaca_trade_api) (3.11.8)\n",
       "</pre>\n"
      ],
      "text/plain": [
       "Requirement already satisfied: aiohttp<4,>=3.8.3 in /home/ec2-user/anaconda3/envs/fools_gold/lib/python3.9/site-packages (from alpaca_trade_api) (3.11.8)\n"
      ]
     },
     "metadata": {},
     "output_type": "display_data"
    },
    {
     "data": {
      "text/html": [
       "<pre style=\"white-space:pre;overflow-x:auto;line-height:normal;font-family:Menlo,'DejaVu Sans Mono',consolas,'Courier New',monospace\">Requirement already satisfied: PyYAML==6.0.1 in /home/ec2-user/anaconda3/envs/fools_gold/lib/python3.9/site-packages (from alpaca_trade_api) (6.0.1)\n",
       "</pre>\n"
      ],
      "text/plain": [
       "Requirement already satisfied: PyYAML==6.0.1 in /home/ec2-user/anaconda3/envs/fools_gold/lib/python3.9/site-packages (from alpaca_trade_api) (6.0.1)\n"
      ]
     },
     "metadata": {},
     "output_type": "display_data"
    },
    {
     "data": {
      "text/html": [
       "<pre style=\"white-space:pre;overflow-x:auto;line-height:normal;font-family:Menlo,'DejaVu Sans Mono',consolas,'Courier New',monospace\">Requirement already satisfied: deprecation==2.1.0 in /home/ec2-user/anaconda3/envs/fools_gold/lib/python3.9/site-packages (from alpaca_trade_api) (2.1.0)\n",
       "</pre>\n"
      ],
      "text/plain": [
       "Requirement already satisfied: deprecation==2.1.0 in /home/ec2-user/anaconda3/envs/fools_gold/lib/python3.9/site-packages (from alpaca_trade_api) (2.1.0)\n"
      ]
     },
     "metadata": {},
     "output_type": "display_data"
    },
    {
     "data": {
      "text/html": [
       "<pre style=\"white-space:pre;overflow-x:auto;line-height:normal;font-family:Menlo,'DejaVu Sans Mono',consolas,'Courier New',monospace\">Requirement already satisfied: packaging in /home/ec2-user/anaconda3/envs/fools_gold/lib/python3.9/site-packages (from deprecation==2.1.0-&gt;alpaca_trade_api) (24.2)\n",
       "</pre>\n"
      ],
      "text/plain": [
       "Requirement already satisfied: packaging in /home/ec2-user/anaconda3/envs/fools_gold/lib/python3.9/site-packages (from deprecation==2.1.0->alpaca_trade_api) (24.2)\n"
      ]
     },
     "metadata": {},
     "output_type": "display_data"
    },
    {
     "data": {
      "text/html": [
       "<pre style=\"white-space:pre;overflow-x:auto;line-height:normal;font-family:Menlo,'DejaVu Sans Mono',consolas,'Courier New',monospace\">Requirement already satisfied: aiohappyeyeballs&gt;=2.3.0 in /home/ec2-user/anaconda3/envs/fools_gold/lib/python3.9/site-packages (from aiohttp&lt;4,&gt;=3.8.3-&gt;alpaca_trade_api) (2.4.3)\n",
       "</pre>\n"
      ],
      "text/plain": [
       "Requirement already satisfied: aiohappyeyeballs>=2.3.0 in /home/ec2-user/anaconda3/envs/fools_gold/lib/python3.9/site-packages (from aiohttp<4,>=3.8.3->alpaca_trade_api) (2.4.3)\n"
      ]
     },
     "metadata": {},
     "output_type": "display_data"
    },
    {
     "data": {
      "text/html": [
       "<pre style=\"white-space:pre;overflow-x:auto;line-height:normal;font-family:Menlo,'DejaVu Sans Mono',consolas,'Courier New',monospace\">Requirement already satisfied: aiosignal&gt;=1.1.2 in /home/ec2-user/anaconda3/envs/fools_gold/lib/python3.9/site-packages (from aiohttp&lt;4,&gt;=3.8.3-&gt;alpaca_trade_api) (1.3.1)\n",
       "</pre>\n"
      ],
      "text/plain": [
       "Requirement already satisfied: aiosignal>=1.1.2 in /home/ec2-user/anaconda3/envs/fools_gold/lib/python3.9/site-packages (from aiohttp<4,>=3.8.3->alpaca_trade_api) (1.3.1)\n"
      ]
     },
     "metadata": {},
     "output_type": "display_data"
    },
    {
     "data": {
      "text/html": [
       "<pre style=\"white-space:pre;overflow-x:auto;line-height:normal;font-family:Menlo,'DejaVu Sans Mono',consolas,'Courier New',monospace\">Requirement already satisfied: async-timeout&lt;6.0,&gt;=4.0 in /home/ec2-user/anaconda3/envs/fools_gold/lib/python3.9/site-packages (from aiohttp&lt;4,&gt;=3.8.3-&gt;alpaca_trade_api) (5.0.1)\n",
       "</pre>\n"
      ],
      "text/plain": [
       "Requirement already satisfied: async-timeout<6.0,>=4.0 in /home/ec2-user/anaconda3/envs/fools_gold/lib/python3.9/site-packages (from aiohttp<4,>=3.8.3->alpaca_trade_api) (5.0.1)\n"
      ]
     },
     "metadata": {},
     "output_type": "display_data"
    },
    {
     "data": {
      "text/html": [
       "<pre style=\"white-space:pre;overflow-x:auto;line-height:normal;font-family:Menlo,'DejaVu Sans Mono',consolas,'Courier New',monospace\">Requirement already satisfied: attrs&gt;=17.3.0 in /home/ec2-user/anaconda3/envs/fools_gold/lib/python3.9/site-packages (from aiohttp&lt;4,&gt;=3.8.3-&gt;alpaca_trade_api) (24.2.0)\n",
       "</pre>\n"
      ],
      "text/plain": [
       "Requirement already satisfied: attrs>=17.3.0 in /home/ec2-user/anaconda3/envs/fools_gold/lib/python3.9/site-packages (from aiohttp<4,>=3.8.3->alpaca_trade_api) (24.2.0)\n"
      ]
     },
     "metadata": {},
     "output_type": "display_data"
    },
    {
     "data": {
      "text/html": [
       "<pre style=\"white-space:pre;overflow-x:auto;line-height:normal;font-family:Menlo,'DejaVu Sans Mono',consolas,'Courier New',monospace\">Requirement already satisfied: frozenlist&gt;=1.1.1 in /home/ec2-user/anaconda3/envs/fools_gold/lib/python3.9/site-packages (from aiohttp&lt;4,&gt;=3.8.3-&gt;alpaca_trade_api) (1.5.0)\n",
       "</pre>\n"
      ],
      "text/plain": [
       "Requirement already satisfied: frozenlist>=1.1.1 in /home/ec2-user/anaconda3/envs/fools_gold/lib/python3.9/site-packages (from aiohttp<4,>=3.8.3->alpaca_trade_api) (1.5.0)\n"
      ]
     },
     "metadata": {},
     "output_type": "display_data"
    },
    {
     "data": {
      "text/html": [
       "<pre style=\"white-space:pre;overflow-x:auto;line-height:normal;font-family:Menlo,'DejaVu Sans Mono',consolas,'Courier New',monospace\">Requirement already satisfied: multidict&lt;7.0,&gt;=4.5 in /home/ec2-user/anaconda3/envs/fools_gold/lib/python3.9/site-packages (from aiohttp&lt;4,&gt;=3.8.3-&gt;alpaca_trade_api) (6.1.0)\n",
       "</pre>\n"
      ],
      "text/plain": [
       "Requirement already satisfied: multidict<7.0,>=4.5 in /home/ec2-user/anaconda3/envs/fools_gold/lib/python3.9/site-packages (from aiohttp<4,>=3.8.3->alpaca_trade_api) (6.1.0)\n"
      ]
     },
     "metadata": {},
     "output_type": "display_data"
    },
    {
     "data": {
      "text/html": [
       "<pre style=\"white-space:pre;overflow-x:auto;line-height:normal;font-family:Menlo,'DejaVu Sans Mono',consolas,'Courier New',monospace\">Requirement already satisfied: propcache&gt;=0.2.0 in /home/ec2-user/anaconda3/envs/fools_gold/lib/python3.9/site-packages (from aiohttp&lt;4,&gt;=3.8.3-&gt;alpaca_trade_api) (0.2.0)\n",
       "</pre>\n"
      ],
      "text/plain": [
       "Requirement already satisfied: propcache>=0.2.0 in /home/ec2-user/anaconda3/envs/fools_gold/lib/python3.9/site-packages (from aiohttp<4,>=3.8.3->alpaca_trade_api) (0.2.0)\n"
      ]
     },
     "metadata": {},
     "output_type": "display_data"
    },
    {
     "data": {
      "text/html": [
       "<pre style=\"white-space:pre;overflow-x:auto;line-height:normal;font-family:Menlo,'DejaVu Sans Mono',consolas,'Courier New',monospace\">Requirement already satisfied: yarl&lt;2.0,&gt;=1.17.0 in /home/ec2-user/anaconda3/envs/fools_gold/lib/python3.9/site-packages (from aiohttp&lt;4,&gt;=3.8.3-&gt;alpaca_trade_api) (1.18.0)\n",
       "</pre>\n"
      ],
      "text/plain": [
       "Requirement already satisfied: yarl<2.0,>=1.17.0 in /home/ec2-user/anaconda3/envs/fools_gold/lib/python3.9/site-packages (from aiohttp<4,>=3.8.3->alpaca_trade_api) (1.18.0)\n"
      ]
     },
     "metadata": {},
     "output_type": "display_data"
    },
    {
     "data": {
      "text/html": [
       "<pre style=\"white-space:pre;overflow-x:auto;line-height:normal;font-family:Menlo,'DejaVu Sans Mono',consolas,'Courier New',monospace\">Requirement already satisfied: python-dateutil&gt;=2.8.2 in /home/ec2-user/anaconda3/envs/fools_gold/lib/python3.9/site-packages (from pandas&gt;=0.18.1-&gt;alpaca_trade_api) (2.9.0.post0)\n",
       "</pre>\n"
      ],
      "text/plain": [
       "Requirement already satisfied: python-dateutil>=2.8.2 in /home/ec2-user/anaconda3/envs/fools_gold/lib/python3.9/site-packages (from pandas>=0.18.1->alpaca_trade_api) (2.9.0.post0)\n"
      ]
     },
     "metadata": {},
     "output_type": "display_data"
    },
    {
     "data": {
      "text/html": [
       "<pre style=\"white-space:pre;overflow-x:auto;line-height:normal;font-family:Menlo,'DejaVu Sans Mono',consolas,'Courier New',monospace\">Requirement already satisfied: pytz&gt;=2020.1 in /home/ec2-user/anaconda3/envs/fools_gold/lib/python3.9/site-packages (from pandas&gt;=0.18.1-&gt;alpaca_trade_api) (2024.1)\n",
       "</pre>\n"
      ],
      "text/plain": [
       "Requirement already satisfied: pytz>=2020.1 in /home/ec2-user/anaconda3/envs/fools_gold/lib/python3.9/site-packages (from pandas>=0.18.1->alpaca_trade_api) (2024.1)\n"
      ]
     },
     "metadata": {},
     "output_type": "display_data"
    },
    {
     "data": {
      "text/html": [
       "<pre style=\"white-space:pre;overflow-x:auto;line-height:normal;font-family:Menlo,'DejaVu Sans Mono',consolas,'Courier New',monospace\">Requirement already satisfied: tzdata&gt;=2022.7 in /home/ec2-user/anaconda3/envs/fools_gold/lib/python3.9/site-packages (from pandas&gt;=0.18.1-&gt;alpaca_trade_api) (2024.2)\n",
       "</pre>\n"
      ],
      "text/plain": [
       "Requirement already satisfied: tzdata>=2022.7 in /home/ec2-user/anaconda3/envs/fools_gold/lib/python3.9/site-packages (from pandas>=0.18.1->alpaca_trade_api) (2024.2)\n"
      ]
     },
     "metadata": {},
     "output_type": "display_data"
    },
    {
     "data": {
      "text/html": [
       "<pre style=\"white-space:pre;overflow-x:auto;line-height:normal;font-family:Menlo,'DejaVu Sans Mono',consolas,'Courier New',monospace\">Requirement already satisfied: charset-normalizer&lt;4,&gt;=2 in /home/ec2-user/anaconda3/envs/fools_gold/lib/python3.9/site-packages (from requests&lt;3,&gt;2-&gt;alpaca_trade_api) (3.4.0)\n",
       "</pre>\n"
      ],
      "text/plain": [
       "Requirement already satisfied: charset-normalizer<4,>=2 in /home/ec2-user/anaconda3/envs/fools_gold/lib/python3.9/site-packages (from requests<3,>2->alpaca_trade_api) (3.4.0)\n"
      ]
     },
     "metadata": {},
     "output_type": "display_data"
    },
    {
     "data": {
      "text/html": [
       "<pre style=\"white-space:pre;overflow-x:auto;line-height:normal;font-family:Menlo,'DejaVu Sans Mono',consolas,'Courier New',monospace\">Requirement already satisfied: idna&lt;4,&gt;=2.5 in /home/ec2-user/anaconda3/envs/fools_gold/lib/python3.9/site-packages (from requests&lt;3,&gt;2-&gt;alpaca_trade_api) (3.10)\n",
       "</pre>\n"
      ],
      "text/plain": [
       "Requirement already satisfied: idna<4,>=2.5 in /home/ec2-user/anaconda3/envs/fools_gold/lib/python3.9/site-packages (from requests<3,>2->alpaca_trade_api) (3.10)\n"
      ]
     },
     "metadata": {},
     "output_type": "display_data"
    },
    {
     "data": {
      "text/html": [
       "<pre style=\"white-space:pre;overflow-x:auto;line-height:normal;font-family:Menlo,'DejaVu Sans Mono',consolas,'Courier New',monospace\">Requirement already satisfied: certifi&gt;=2017.4.17 in /home/ec2-user/anaconda3/envs/fools_gold/lib/python3.9/site-packages (from requests&lt;3,&gt;2-&gt;alpaca_trade_api) (2024.8.30)\n",
       "</pre>\n"
      ],
      "text/plain": [
       "Requirement already satisfied: certifi>=2017.4.17 in /home/ec2-user/anaconda3/envs/fools_gold/lib/python3.9/site-packages (from requests<3,>2->alpaca_trade_api) (2024.8.30)\n"
      ]
     },
     "metadata": {},
     "output_type": "display_data"
    },
    {
     "data": {
      "text/html": [
       "<pre style=\"white-space:pre;overflow-x:auto;line-height:normal;font-family:Menlo,'DejaVu Sans Mono',consolas,'Courier New',monospace\">Requirement already satisfied: typing-extensions&gt;=4.1.0 in /home/ec2-user/anaconda3/envs/fools_gold/lib/python3.9/site-packages (from multidict&lt;7.0,&gt;=4.5-&gt;aiohttp&lt;4,&gt;=3.8.3-&gt;alpaca_trade_api) (4.12.2)\n",
       "</pre>\n"
      ],
      "text/plain": [
       "Requirement already satisfied: typing-extensions>=4.1.0 in /home/ec2-user/anaconda3/envs/fools_gold/lib/python3.9/site-packages (from multidict<7.0,>=4.5->aiohttp<4,>=3.8.3->alpaca_trade_api) (4.12.2)\n"
      ]
     },
     "metadata": {},
     "output_type": "display_data"
    },
    {
     "data": {
      "text/html": [
       "<pre style=\"white-space:pre;overflow-x:auto;line-height:normal;font-family:Menlo,'DejaVu Sans Mono',consolas,'Courier New',monospace\">Requirement already satisfied: six&gt;=1.5 in /home/ec2-user/anaconda3/envs/fools_gold/lib/python3.9/site-packages (from python-dateutil&gt;=2.8.2-&gt;pandas&gt;=0.18.1-&gt;alpaca_trade_api) (1.16.0)\n",
       "</pre>\n"
      ],
      "text/plain": [
       "Requirement already satisfied: six>=1.5 in /home/ec2-user/anaconda3/envs/fools_gold/lib/python3.9/site-packages (from python-dateutil>=2.8.2->pandas>=0.18.1->alpaca_trade_api) (1.16.0)\n"
      ]
     },
     "metadata": {},
     "output_type": "display_data"
    },
    {
     "data": {
      "text/html": [
       "<pre style=\"white-space:pre;overflow-x:auto;line-height:normal;font-family:Menlo,'DejaVu Sans Mono',consolas,'Courier New',monospace\">Using cached alpaca_trade_api-3.2.0-py3-none-any.whl (34 kB)\n",
       "</pre>\n"
      ],
      "text/plain": [
       "Using cached alpaca_trade_api-3.2.0-py3-none-any.whl (34 kB)\n"
      ]
     },
     "metadata": {},
     "output_type": "display_data"
    },
    {
     "data": {
      "text/html": [
       "<pre style=\"white-space:pre;overflow-x:auto;line-height:normal;font-family:Menlo,'DejaVu Sans Mono',consolas,'Courier New',monospace\">Installing collected packages: alpaca_trade_api\n",
       "</pre>\n"
      ],
      "text/plain": [
       "Installing collected packages: alpaca_trade_api\n"
      ]
     },
     "metadata": {},
     "output_type": "display_data"
    },
    {
     "data": {
      "text/html": [
       "<pre style=\"white-space:pre;overflow-x:auto;line-height:normal;font-family:Menlo,'DejaVu Sans Mono',consolas,'Courier New',monospace\">Successfully installed alpaca_trade_api-3.2.0\n",
       "</pre>\n"
      ],
      "text/plain": [
       "Successfully installed alpaca_trade_api-3.2.0\n"
      ]
     },
     "metadata": {},
     "output_type": "display_data"
    }
   ],
   "source": []
  },
  {
   "cell_type": "code",
   "execution_count": 4,
   "metadata": {
    "tags": []
   },
   "outputs": [
    {
     "data": {
      "text/plain": [
       "alpaca_trade_api.rest.REST"
      ]
     },
     "execution_count": 4,
     "metadata": {},
     "output_type": "execute_result"
    }
   ],
   "source": [
    "import alpaca_trade_api as tradeapi\n",
    "tradeapi.REST"
   ]
  },
  {
   "cell_type": "code",
   "execution_count": 1,
   "metadata": {
    "tags": []
   },
   "outputs": [
    {
     "ename": "ModuleNotFoundError",
     "evalue": "No module named 'alpaca_trade_api'",
     "output_type": "error",
     "traceback": [
      "\u001b[0;31m---------------------------------------------------------------------------\u001b[0m",
      "\u001b[0;31mModuleNotFoundError\u001b[0m                       Traceback (most recent call last)",
      "Cell \u001b[0;32mIn[1], line 2\u001b[0m\n\u001b[1;32m      1\u001b[0m \u001b[38;5;28;01mimport\u001b[39;00m \u001b[38;5;21;01mpandas\u001b[39;00m \u001b[38;5;28;01mas\u001b[39;00m \u001b[38;5;21;01mpd\u001b[39;00m\n\u001b[0;32m----> 2\u001b[0m \u001b[38;5;28;01mimport\u001b[39;00m \u001b[38;5;21;01malpaca_trade_api\u001b[39;00m \u001b[38;5;28;01mas\u001b[39;00m \u001b[38;5;21;01mtradeapi\u001b[39;00m\n\u001b[1;32m      3\u001b[0m \u001b[38;5;28;01mfrom\u001b[39;00m \u001b[38;5;21;01malpaca\u001b[39;00m\u001b[38;5;21;01m.\u001b[39;00m\u001b[38;5;21;01mdata\u001b[39;00m\u001b[38;5;21;01m.\u001b[39;00m\u001b[38;5;21;01mhistorical\u001b[39;00m \u001b[38;5;28;01mimport\u001b[39;00m StockHistoricalDataClient\n\u001b[1;32m      4\u001b[0m \u001b[38;5;66;03m# from alpaca.data.requests import StockLatestQuoteRequest, StockBarsRequest, StockTradesRequest, StockQuotesRequest\u001b[39;00m\n",
      "\u001b[0;31mModuleNotFoundError\u001b[0m: No module named 'alpaca_trade_api'"
     ]
    }
   ],
   "source": [
    "import pandas as pd\n",
    "import alpaca_trade_api as tradeapi\n",
    "from alpaca.data.historical import StockHistoricalDataClient\n",
    "# from alpaca.data.requests import StockLatestQuoteRequest, StockBarsRequest, StockTradesRequest, StockQuotesRequest\n",
    "from alpaca.data.requests import StockBarsRequest # StockLatestQuoteRequest, StockBarsRequest, StockTradesRequest, StockQuotesRequest\n",
    "from alpaca.data.timeframe import TimeFrame\n",
    "from datetime import datetime\n",
    "# keys required for stock historical data client"
   ]
  },
  {
   "cell_type": "code",
   "execution_count": 3,
   "metadata": {
    "tags": []
   },
   "outputs": [],
   "source": [
    "# !pip install alpaca-trade-api\n",
    "# !pip install alpaca-py==0.3.0"
   ]
  },
  {
   "cell_type": "code",
   "execution_count": 4,
   "metadata": {
    "tags": []
   },
   "outputs": [],
   "source": [
    "bucket_loc = 's3://sisyphus-general-bucket/AthenaInsights'"
   ]
  },
  {
   "cell_type": "code",
   "execution_count": 5,
   "metadata": {
    "tags": []
   },
   "outputs": [],
   "source": [
    "import pandas as pd\n",
    "import numpy as np\n"
   ]
  },
  {
   "cell_type": "code",
   "execution_count": 6,
   "metadata": {
    "tags": []
   },
   "outputs": [],
   "source": [
    "api = tradeapi.REST(key, secret)\n",
    "\n",
    "start_date = '2020-01-01'\n",
    "end_date = '2024-11-19'\n",
    "calendar = api.get_calendar(start=start_date, end=end_date)\n",
    "cal = pd.DataFrame(columns=['close', 'date', 'open', 'session_close', 'session_open', 'settlement_date'])\n",
    "\n",
    "for row in calendar:\n",
    "    cal.loc[cal.shape[0]] = [row.close, row.date, row.open, row.session_close, row.session_open, row.settlement_date]\n",
    "\n",
    "cal.to_csv(f'{bucket_loc}/latest_data/csv/calender.csv', index=False)"
   ]
  },
  {
   "cell_type": "code",
   "execution_count": 7,
   "metadata": {
    "tags": []
   },
   "outputs": [],
   "source": [
    "symbols = [\n",
    "    'SPY', 'QQQ', 'VIXM', 'DJIA', 'DAX',\n",
    "    # 'IXIC', 'RUT', 'UKX', 'NTETF', 'HSXUF', 'CAC 40', 'GBP'\n",
    "]"
   ]
  },
  {
   "cell_type": "code",
   "execution_count": 12,
   "metadata": {
    "tags": []
   },
   "outputs": [],
   "source": [
    "stock_historical_data_client = StockHistoricalDataClient(key, secret)\n",
    "req = StockBarsRequest(\n",
    "    symbol_or_symbols = symbols,\n",
    "    timeframe=TimeFrame.Minute,                          # specify timeframe\n",
    "    start = datetime(2024, 1, 1),                        # specify start datetime, default=the beginning of the current day.\n",
    "    # end_date=None,                                     # specify end datetime, default=now\n",
    "    # limit = 2,                                         # specify limit\n",
    ")"
   ]
  },
  {
   "cell_type": "code",
   "execution_count": 13,
   "metadata": {
    "tags": []
   },
   "outputs": [
    {
     "data": {
      "text/html": [
       "<div>\n",
       "<style scoped>\n",
       "    .dataframe tbody tr th:only-of-type {\n",
       "        vertical-align: middle;\n",
       "    }\n",
       "\n",
       "    .dataframe tbody tr th {\n",
       "        vertical-align: top;\n",
       "    }\n",
       "\n",
       "    .dataframe thead th {\n",
       "        text-align: right;\n",
       "    }\n",
       "</style>\n",
       "<table border=\"1\" class=\"dataframe\">\n",
       "  <thead>\n",
       "    <tr style=\"text-align: right;\">\n",
       "      <th></th>\n",
       "      <th>symbol</th>\n",
       "      <th>timestamp</th>\n",
       "      <th>open</th>\n",
       "      <th>high</th>\n",
       "      <th>low</th>\n",
       "      <th>close</th>\n",
       "      <th>volume</th>\n",
       "      <th>trade_count</th>\n",
       "      <th>vwap</th>\n",
       "    </tr>\n",
       "  </thead>\n",
       "  <tbody>\n",
       "    <tr>\n",
       "      <th>0</th>\n",
       "      <td>DAX</td>\n",
       "      <td>2024-01-02 12:06:00+00:00</td>\n",
       "      <td>30.800</td>\n",
       "      <td>30.80</td>\n",
       "      <td>30.800</td>\n",
       "      <td>30.80</td>\n",
       "      <td>100.0</td>\n",
       "      <td>1.0</td>\n",
       "      <td>30.800000</td>\n",
       "    </tr>\n",
       "    <tr>\n",
       "      <th>1</th>\n",
       "      <td>DAX</td>\n",
       "      <td>2024-01-02 14:30:00+00:00</td>\n",
       "      <td>30.650</td>\n",
       "      <td>30.65</td>\n",
       "      <td>30.650</td>\n",
       "      <td>30.65</td>\n",
       "      <td>389.0</td>\n",
       "      <td>10.0</td>\n",
       "      <td>30.650000</td>\n",
       "    </tr>\n",
       "    <tr>\n",
       "      <th>2</th>\n",
       "      <td>DAX</td>\n",
       "      <td>2024-01-02 14:32:00+00:00</td>\n",
       "      <td>30.541</td>\n",
       "      <td>30.58</td>\n",
       "      <td>30.541</td>\n",
       "      <td>30.56</td>\n",
       "      <td>2478.0</td>\n",
       "      <td>16.0</td>\n",
       "      <td>30.554801</td>\n",
       "    </tr>\n",
       "    <tr>\n",
       "      <th>3</th>\n",
       "      <td>DAX</td>\n",
       "      <td>2024-01-02 14:37:00+00:00</td>\n",
       "      <td>30.660</td>\n",
       "      <td>30.66</td>\n",
       "      <td>30.660</td>\n",
       "      <td>30.66</td>\n",
       "      <td>120.0</td>\n",
       "      <td>2.0</td>\n",
       "      <td>30.660000</td>\n",
       "    </tr>\n",
       "    <tr>\n",
       "      <th>4</th>\n",
       "      <td>DAX</td>\n",
       "      <td>2024-01-02 14:40:00+00:00</td>\n",
       "      <td>30.585</td>\n",
       "      <td>30.64</td>\n",
       "      <td>30.585</td>\n",
       "      <td>30.64</td>\n",
       "      <td>738.0</td>\n",
       "      <td>3.0</td>\n",
       "      <td>30.599925</td>\n",
       "    </tr>\n",
       "    <tr>\n",
       "      <th>...</th>\n",
       "      <td>...</td>\n",
       "      <td>...</td>\n",
       "      <td>...</td>\n",
       "      <td>...</td>\n",
       "      <td>...</td>\n",
       "      <td>...</td>\n",
       "      <td>...</td>\n",
       "      <td>...</td>\n",
       "      <td>...</td>\n",
       "    </tr>\n",
       "    <tr>\n",
       "      <th>392412</th>\n",
       "      <td>VIXM</td>\n",
       "      <td>2024-11-19 21:00:00+00:00</td>\n",
       "      <td>14.150</td>\n",
       "      <td>14.15</td>\n",
       "      <td>14.150</td>\n",
       "      <td>14.15</td>\n",
       "      <td>632.0</td>\n",
       "      <td>1.0</td>\n",
       "      <td>14.150000</td>\n",
       "    </tr>\n",
       "    <tr>\n",
       "      <th>392413</th>\n",
       "      <td>VIXM</td>\n",
       "      <td>2024-11-19 21:01:00+00:00</td>\n",
       "      <td>14.140</td>\n",
       "      <td>14.14</td>\n",
       "      <td>14.140</td>\n",
       "      <td>14.14</td>\n",
       "      <td>200.0</td>\n",
       "      <td>2.0</td>\n",
       "      <td>14.140000</td>\n",
       "    </tr>\n",
       "    <tr>\n",
       "      <th>392414</th>\n",
       "      <td>VIXM</td>\n",
       "      <td>2024-11-19 21:05:00+00:00</td>\n",
       "      <td>14.130</td>\n",
       "      <td>14.13</td>\n",
       "      <td>14.130</td>\n",
       "      <td>14.13</td>\n",
       "      <td>100.0</td>\n",
       "      <td>1.0</td>\n",
       "      <td>14.130000</td>\n",
       "    </tr>\n",
       "    <tr>\n",
       "      <th>392415</th>\n",
       "      <td>VIXM</td>\n",
       "      <td>2024-11-19 21:57:00+00:00</td>\n",
       "      <td>14.170</td>\n",
       "      <td>14.17</td>\n",
       "      <td>14.170</td>\n",
       "      <td>14.17</td>\n",
       "      <td>300.0</td>\n",
       "      <td>3.0</td>\n",
       "      <td>14.170000</td>\n",
       "    </tr>\n",
       "    <tr>\n",
       "      <th>392416</th>\n",
       "      <td>VIXM</td>\n",
       "      <td>2024-11-19 21:58:00+00:00</td>\n",
       "      <td>14.170</td>\n",
       "      <td>14.17</td>\n",
       "      <td>14.170</td>\n",
       "      <td>14.17</td>\n",
       "      <td>100.0</td>\n",
       "      <td>1.0</td>\n",
       "      <td>14.170000</td>\n",
       "    </tr>\n",
       "  </tbody>\n",
       "</table>\n",
       "<p>392417 rows × 9 columns</p>\n",
       "</div>"
      ],
      "text/plain": [
       "       symbol                 timestamp    open   high     low  close  volume  \\\n",
       "0         DAX 2024-01-02 12:06:00+00:00  30.800  30.80  30.800  30.80   100.0   \n",
       "1         DAX 2024-01-02 14:30:00+00:00  30.650  30.65  30.650  30.65   389.0   \n",
       "2         DAX 2024-01-02 14:32:00+00:00  30.541  30.58  30.541  30.56  2478.0   \n",
       "3         DAX 2024-01-02 14:37:00+00:00  30.660  30.66  30.660  30.66   120.0   \n",
       "4         DAX 2024-01-02 14:40:00+00:00  30.585  30.64  30.585  30.64   738.0   \n",
       "...       ...                       ...     ...    ...     ...    ...     ...   \n",
       "392412   VIXM 2024-11-19 21:00:00+00:00  14.150  14.15  14.150  14.15   632.0   \n",
       "392413   VIXM 2024-11-19 21:01:00+00:00  14.140  14.14  14.140  14.14   200.0   \n",
       "392414   VIXM 2024-11-19 21:05:00+00:00  14.130  14.13  14.130  14.13   100.0   \n",
       "392415   VIXM 2024-11-19 21:57:00+00:00  14.170  14.17  14.170  14.17   300.0   \n",
       "392416   VIXM 2024-11-19 21:58:00+00:00  14.170  14.17  14.170  14.17   100.0   \n",
       "\n",
       "        trade_count       vwap  \n",
       "0               1.0  30.800000  \n",
       "1              10.0  30.650000  \n",
       "2              16.0  30.554801  \n",
       "3               2.0  30.660000  \n",
       "4               3.0  30.599925  \n",
       "...             ...        ...  \n",
       "392412          1.0  14.150000  \n",
       "392413          2.0  14.140000  \n",
       "392414          1.0  14.130000  \n",
       "392415          3.0  14.170000  \n",
       "392416          1.0  14.170000  \n",
       "\n",
       "[392417 rows x 9 columns]"
      ]
     },
     "execution_count": 13,
     "metadata": {},
     "output_type": "execute_result"
    }
   ],
   "source": [
    "df1 = stock_historical_data_client.get_stock_bars(req).df\n",
    "df1 = df1.reset_index()\n",
    "df1"
   ]
  },
  {
   "cell_type": "code",
   "execution_count": 14,
   "metadata": {
    "tags": []
   },
   "outputs": [],
   "source": [
    "df1.to_parquet(f'{bucket_loc}/latest_data/parquet/stock_bars_minute.parquet', index=False)"
   ]
  },
  {
   "cell_type": "code",
   "execution_count": 15,
   "metadata": {
    "tags": []
   },
   "outputs": [],
   "source": [
    "stock_historical_data_client = StockHistoricalDataClient(key, secret)\n",
    "req = StockBarsRequest(\n",
    "    symbol_or_symbols = symbols,\n",
    "    timeframe=TimeFrame.Hour,                            # specify timeframe\n",
    "    start = datetime(2024, 1, 1),                        # specify start datetime, default=the beginning of the current day.\n",
    "    # end_date=None,                                     # specify end datetime, default=now\n",
    "    # limit = 2,                                         # specify limit\n",
    ")\n",
    "\n",
    "df2 = stock_historical_data_client.get_stock_bars(req).df\n",
    "df2 = df2.reset_index()\n",
    "df2\n",
    "\n",
    "df2.to_parquet(f'{bucket_loc}/latest_data/parquet/stock_bars_hour.parquet', index=False)"
   ]
  },
  {
   "cell_type": "code",
   "execution_count": 16,
   "metadata": {
    "tags": []
   },
   "outputs": [],
   "source": [
    "stock_historical_data_client = StockHistoricalDataClient(key, secret)\n",
    "req = StockBarsRequest(\n",
    "    symbol_or_symbols = symbols,\n",
    "    timeframe=TimeFrame.Day,                              # specify timeframe\n",
    "    start = datetime(2024, 1, 1),                        # specify start datetime, default=the beginning of the current day.\n",
    "    # end_date=None,                                      # specify end datetime, default=now\n",
    "    # limit = 2,                                          # specify limit\n",
    ")\n",
    "\n",
    "df3 = stock_historical_data_client.get_stock_bars(req).df\n",
    "df3 = df3.reset_index()\n",
    "df3\n",
    "\n",
    "df3.to_parquet(f'{bucket_loc}/latest_data/parquet/stock_bars_day.parquet', index=False)"
   ]
  },
  {
   "cell_type": "code",
   "execution_count": 17,
   "metadata": {},
   "outputs": [],
   "source": [
    "# !pip uninstall misc -y\n",
    "# !pip install ..\\src\\scripts\\lib\\dist\\misc-0.1.0-py3-none-any.whl --force-reinstall\n",
    "# AthenaInsights"
   ]
  }
 ],
 "metadata": {
  "kernelspec": {
   "display_name": "conda_fools_gold",
   "language": "python",
   "name": "conda_fools_gold"
  },
  "language_info": {
   "codemirror_mode": {
    "name": "ipython",
    "version": 3
   },
   "file_extension": ".py",
   "mimetype": "text/x-python",
   "name": "python",
   "nbconvert_exporter": "python",
   "pygments_lexer": "ipython3",
   "version": "3.9.19"
  }
 },
 "nbformat": 4,
 "nbformat_minor": 4
}
