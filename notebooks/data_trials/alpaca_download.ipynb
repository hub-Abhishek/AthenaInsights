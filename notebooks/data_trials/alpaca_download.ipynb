{
 "cells": [
  {
   "cell_type": "code",
   "execution_count": 1,
   "metadata": {
    "tags": []
   },
   "outputs": [],
   "source": [
    "key = 'AKRNJ8AI69F0O8ZNAYD1'\n",
    "secret = 'eXPvWljK7FlfZQVQeVb6kUhQTOllJUagUUQa5QB2'"
   ]
  },
  {
   "cell_type": "code",
   "execution_count": 2,
   "metadata": {
    "tags": []
   },
   "outputs": [],
   "source": [
    "import pandas as pd\n",
    "import alpaca_trade_api as tradeapi\n",
    "from alpaca.data.historical import StockHistoricalDataClient\n",
    "# from alpaca.data.requests import StockLatestQuoteRequest, StockBarsRequest, StockTradesRequest, StockQuotesRequest\n",
    "from alpaca.data.requests import StockBarsRequest # StockLatestQuoteRequest, StockBarsRequest, StockTradesRequest, StockQuotesRequest\n",
    "from alpaca.data.timeframe import TimeFrame\n",
    "from datetime import datetime\n",
    "# keys required for stock historical data client"
   ]
  },
  {
   "cell_type": "code",
   "execution_count": 3,
   "metadata": {
    "tags": []
   },
   "outputs": [],
   "source": [
    "# !pip install alpaca-trade-api\n",
    "# !pip install alpaca-py==0.3.0"
   ]
  },
  {
   "cell_type": "code",
   "execution_count": 4,
   "metadata": {
    "tags": []
   },
   "outputs": [],
   "source": [
    "bucket_loc = 's3://sisyphus-general-bucket/AthenaInsights'"
   ]
  },
  {
   "cell_type": "code",
   "execution_count": 5,
   "metadata": {
    "tags": []
   },
   "outputs": [],
   "source": [
    "import pandas as pd\n",
    "import numpy as np\n"
   ]
  },
  {
   "cell_type": "code",
   "execution_count": 6,
   "metadata": {
    "tags": []
   },
   "outputs": [],
   "source": [
    "api = tradeapi.REST(key, secret)\n",
    "\n",
    "start_date = '2020-01-01'\n",
    "end_date = '2024-11-19'\n",
    "calendar = api.get_calendar(start=start_date, end=end_date)\n",
    "cal = pd.DataFrame(columns=['close', 'date', 'open', 'session_close', 'session_open', 'settlement_date'])\n",
    "\n",
    "for row in calendar:\n",
    "    cal.loc[cal.shape[0]] = [row.close, row.date, row.open, row.session_close, row.session_open, row.settlement_date]\n",
    "\n",
    "cal.to_csv(f'{bucket_loc}/latest_data/csv/calender.csv', index=False)"
   ]
  },
  {
   "cell_type": "code",
   "execution_count": 7,
   "metadata": {
    "tags": []
   },
   "outputs": [],
   "source": [
    "symbols = [\n",
    "    'SPY', 'QQQ', 'VIXM', 'DJIA', 'DAX',\n",
    "    # 'IXIC', 'RUT', 'UKX', 'NTETF', 'HSXUF', 'CAC 40', 'GBP'\n",
    "]"
   ]
  },
  {
   "cell_type": "code",
   "execution_count": 12,
   "metadata": {
    "tags": []
   },
   "outputs": [],
   "source": [
    "stock_historical_data_client = StockHistoricalDataClient(key, secret)\n",
    "req = StockBarsRequest(\n",
    "    symbol_or_symbols = symbols,\n",
    "    timeframe=TimeFrame.Minute,                          # specify timeframe\n",
    "    start = datetime(2024, 1, 1),                        # specify start datetime, default=the beginning of the current day.\n",
    "    # end_date=None,                                     # specify end datetime, default=now\n",
    "    # limit = 2,                                         # specify limit\n",
    ")"
   ]
  },
  {
   "cell_type": "code",
   "execution_count": 13,
   "metadata": {
    "tags": []
   },
   "outputs": [
    {
     "data": {
      "text/html": [
       "<div>\n",
       "<style scoped>\n",
       "    .dataframe tbody tr th:only-of-type {\n",
       "        vertical-align: middle;\n",
       "    }\n",
       "\n",
       "    .dataframe tbody tr th {\n",
       "        vertical-align: top;\n",
       "    }\n",
       "\n",
       "    .dataframe thead th {\n",
       "        text-align: right;\n",
       "    }\n",
       "</style>\n",
       "<table border=\"1\" class=\"dataframe\">\n",
       "  <thead>\n",
       "    <tr style=\"text-align: right;\">\n",
       "      <th></th>\n",
       "      <th>symbol</th>\n",
       "      <th>timestamp</th>\n",
       "      <th>open</th>\n",
       "      <th>high</th>\n",
       "      <th>low</th>\n",
       "      <th>close</th>\n",
       "      <th>volume</th>\n",
       "      <th>trade_count</th>\n",
       "      <th>vwap</th>\n",
       "    </tr>\n",
       "  </thead>\n",
       "  <tbody>\n",
       "    <tr>\n",
       "      <th>0</th>\n",
       "      <td>DAX</td>\n",
       "      <td>2024-01-02 12:06:00+00:00</td>\n",
       "      <td>30.800</td>\n",
       "      <td>30.80</td>\n",
       "      <td>30.800</td>\n",
       "      <td>30.80</td>\n",
       "      <td>100.0</td>\n",
       "      <td>1.0</td>\n",
       "      <td>30.800000</td>\n",
       "    </tr>\n",
       "    <tr>\n",
       "      <th>1</th>\n",
       "      <td>DAX</td>\n",
       "      <td>2024-01-02 14:30:00+00:00</td>\n",
       "      <td>30.650</td>\n",
       "      <td>30.65</td>\n",
       "      <td>30.650</td>\n",
       "      <td>30.65</td>\n",
       "      <td>389.0</td>\n",
       "      <td>10.0</td>\n",
       "      <td>30.650000</td>\n",
       "    </tr>\n",
       "    <tr>\n",
       "      <th>2</th>\n",
       "      <td>DAX</td>\n",
       "      <td>2024-01-02 14:32:00+00:00</td>\n",
       "      <td>30.541</td>\n",
       "      <td>30.58</td>\n",
       "      <td>30.541</td>\n",
       "      <td>30.56</td>\n",
       "      <td>2478.0</td>\n",
       "      <td>16.0</td>\n",
       "      <td>30.554801</td>\n",
       "    </tr>\n",
       "    <tr>\n",
       "      <th>3</th>\n",
       "      <td>DAX</td>\n",
       "      <td>2024-01-02 14:37:00+00:00</td>\n",
       "      <td>30.660</td>\n",
       "      <td>30.66</td>\n",
       "      <td>30.660</td>\n",
       "      <td>30.66</td>\n",
       "      <td>120.0</td>\n",
       "      <td>2.0</td>\n",
       "      <td>30.660000</td>\n",
       "    </tr>\n",
       "    <tr>\n",
       "      <th>4</th>\n",
       "      <td>DAX</td>\n",
       "      <td>2024-01-02 14:40:00+00:00</td>\n",
       "      <td>30.585</td>\n",
       "      <td>30.64</td>\n",
       "      <td>30.585</td>\n",
       "      <td>30.64</td>\n",
       "      <td>738.0</td>\n",
       "      <td>3.0</td>\n",
       "      <td>30.599925</td>\n",
       "    </tr>\n",
       "    <tr>\n",
       "      <th>...</th>\n",
       "      <td>...</td>\n",
       "      <td>...</td>\n",
       "      <td>...</td>\n",
       "      <td>...</td>\n",
       "      <td>...</td>\n",
       "      <td>...</td>\n",
       "      <td>...</td>\n",
       "      <td>...</td>\n",
       "      <td>...</td>\n",
       "    </tr>\n",
       "    <tr>\n",
       "      <th>392412</th>\n",
       "      <td>VIXM</td>\n",
       "      <td>2024-11-19 21:00:00+00:00</td>\n",
       "      <td>14.150</td>\n",
       "      <td>14.15</td>\n",
       "      <td>14.150</td>\n",
       "      <td>14.15</td>\n",
       "      <td>632.0</td>\n",
       "      <td>1.0</td>\n",
       "      <td>14.150000</td>\n",
       "    </tr>\n",
       "    <tr>\n",
       "      <th>392413</th>\n",
       "      <td>VIXM</td>\n",
       "      <td>2024-11-19 21:01:00+00:00</td>\n",
       "      <td>14.140</td>\n",
       "      <td>14.14</td>\n",
       "      <td>14.140</td>\n",
       "      <td>14.14</td>\n",
       "      <td>200.0</td>\n",
       "      <td>2.0</td>\n",
       "      <td>14.140000</td>\n",
       "    </tr>\n",
       "    <tr>\n",
       "      <th>392414</th>\n",
       "      <td>VIXM</td>\n",
       "      <td>2024-11-19 21:05:00+00:00</td>\n",
       "      <td>14.130</td>\n",
       "      <td>14.13</td>\n",
       "      <td>14.130</td>\n",
       "      <td>14.13</td>\n",
       "      <td>100.0</td>\n",
       "      <td>1.0</td>\n",
       "      <td>14.130000</td>\n",
       "    </tr>\n",
       "    <tr>\n",
       "      <th>392415</th>\n",
       "      <td>VIXM</td>\n",
       "      <td>2024-11-19 21:57:00+00:00</td>\n",
       "      <td>14.170</td>\n",
       "      <td>14.17</td>\n",
       "      <td>14.170</td>\n",
       "      <td>14.17</td>\n",
       "      <td>300.0</td>\n",
       "      <td>3.0</td>\n",
       "      <td>14.170000</td>\n",
       "    </tr>\n",
       "    <tr>\n",
       "      <th>392416</th>\n",
       "      <td>VIXM</td>\n",
       "      <td>2024-11-19 21:58:00+00:00</td>\n",
       "      <td>14.170</td>\n",
       "      <td>14.17</td>\n",
       "      <td>14.170</td>\n",
       "      <td>14.17</td>\n",
       "      <td>100.0</td>\n",
       "      <td>1.0</td>\n",
       "      <td>14.170000</td>\n",
       "    </tr>\n",
       "  </tbody>\n",
       "</table>\n",
       "<p>392417 rows × 9 columns</p>\n",
       "</div>"
      ],
      "text/plain": [
       "       symbol                 timestamp    open   high     low  close  volume  \\\n",
       "0         DAX 2024-01-02 12:06:00+00:00  30.800  30.80  30.800  30.80   100.0   \n",
       "1         DAX 2024-01-02 14:30:00+00:00  30.650  30.65  30.650  30.65   389.0   \n",
       "2         DAX 2024-01-02 14:32:00+00:00  30.541  30.58  30.541  30.56  2478.0   \n",
       "3         DAX 2024-01-02 14:37:00+00:00  30.660  30.66  30.660  30.66   120.0   \n",
       "4         DAX 2024-01-02 14:40:00+00:00  30.585  30.64  30.585  30.64   738.0   \n",
       "...       ...                       ...     ...    ...     ...    ...     ...   \n",
       "392412   VIXM 2024-11-19 21:00:00+00:00  14.150  14.15  14.150  14.15   632.0   \n",
       "392413   VIXM 2024-11-19 21:01:00+00:00  14.140  14.14  14.140  14.14   200.0   \n",
       "392414   VIXM 2024-11-19 21:05:00+00:00  14.130  14.13  14.130  14.13   100.0   \n",
       "392415   VIXM 2024-11-19 21:57:00+00:00  14.170  14.17  14.170  14.17   300.0   \n",
       "392416   VIXM 2024-11-19 21:58:00+00:00  14.170  14.17  14.170  14.17   100.0   \n",
       "\n",
       "        trade_count       vwap  \n",
       "0               1.0  30.800000  \n",
       "1              10.0  30.650000  \n",
       "2              16.0  30.554801  \n",
       "3               2.0  30.660000  \n",
       "4               3.0  30.599925  \n",
       "...             ...        ...  \n",
       "392412          1.0  14.150000  \n",
       "392413          2.0  14.140000  \n",
       "392414          1.0  14.130000  \n",
       "392415          3.0  14.170000  \n",
       "392416          1.0  14.170000  \n",
       "\n",
       "[392417 rows x 9 columns]"
      ]
     },
     "execution_count": 13,
     "metadata": {},
     "output_type": "execute_result"
    }
   ],
   "source": [
    "df1 = stock_historical_data_client.get_stock_bars(req).df\n",
    "df1 = df1.reset_index()\n",
    "df1"
   ]
  },
  {
   "cell_type": "code",
   "execution_count": 14,
   "metadata": {
    "tags": []
   },
   "outputs": [],
   "source": [
    "df1.to_parquet(f'{bucket_loc}/latest_data/parquet/stock_bars_minute.parquet', index=False)"
   ]
  },
  {
   "cell_type": "code",
   "execution_count": 15,
   "metadata": {
    "tags": []
   },
   "outputs": [],
   "source": [
    "stock_historical_data_client = StockHistoricalDataClient(key, secret)\n",
    "req = StockBarsRequest(\n",
    "    symbol_or_symbols = symbols,\n",
    "    timeframe=TimeFrame.Hour,                            # specify timeframe\n",
    "    start = datetime(2024, 1, 1),                        # specify start datetime, default=the beginning of the current day.\n",
    "    # end_date=None,                                     # specify end datetime, default=now\n",
    "    # limit = 2,                                         # specify limit\n",
    ")\n",
    "\n",
    "df2 = stock_historical_data_client.get_stock_bars(req).df\n",
    "df2 = df2.reset_index()\n",
    "df2\n",
    "\n",
    "df2.to_parquet(f'{bucket_loc}/latest_data/parquet/stock_bars_hour.parquet', index=False)"
   ]
  },
  {
   "cell_type": "code",
   "execution_count": 16,
   "metadata": {
    "tags": []
   },
   "outputs": [],
   "source": [
    "stock_historical_data_client = StockHistoricalDataClient(key, secret)\n",
    "req = StockBarsRequest(\n",
    "    symbol_or_symbols = symbols,\n",
    "    timeframe=TimeFrame.Day,                              # specify timeframe\n",
    "    start = datetime(2024, 1, 1),                        # specify start datetime, default=the beginning of the current day.\n",
    "    # end_date=None,                                      # specify end datetime, default=now\n",
    "    # limit = 2,                                          # specify limit\n",
    ")\n",
    "\n",
    "df3 = stock_historical_data_client.get_stock_bars(req).df\n",
    "df3 = df3.reset_index()\n",
    "df3\n",
    "\n",
    "df3.to_parquet(f'{bucket_loc}/latest_data/parquet/stock_bars_day.parquet', index=False)"
   ]
  },
  {
   "cell_type": "code",
   "execution_count": 17,
   "metadata": {},
   "outputs": [],
   "source": [
    "# !pip uninstall misc -y\n",
    "# !pip install ..\\src\\scripts\\lib\\dist\\misc-0.1.0-py3-none-any.whl --force-reinstall\n",
    "# AthenaInsights"
   ]
  }
 ],
 "metadata": {
  "kernelspec": {
   "display_name": "fools_gold",
   "language": "python",
   "name": "python3"
  },
  "language_info": {
   "codemirror_mode": {
    "name": "ipython",
    "version": 3
   },
   "file_extension": ".py",
   "mimetype": "text/x-python",
   "name": "python",
   "nbconvert_exporter": "python",
   "pygments_lexer": "ipython3",
   "version": "3.9.19"
  }
 },
 "nbformat": 4,
 "nbformat_minor": 4
}
