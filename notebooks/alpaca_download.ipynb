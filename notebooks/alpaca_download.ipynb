{
 "cells": [
  {
   "cell_type": "code",
   "execution_count": 1,
   "metadata": {
    "tags": []
   },
   "outputs": [],
   "source": [
    "key = 'AKRNJ8AI69F0O8ZNAYD1'\n",
    "secret = 'eXPvWljK7FlfZQVQeVb6kUhQTOllJUagUUQa5QB2'"
   ]
  },
  {
   "cell_type": "code",
   "execution_count": 2,
   "metadata": {
    "tags": []
   },
   "outputs": [],
   "source": [
    "import pandas as pd\n",
    "import alpaca_trade_api as tradeapi\n",
    "from alpaca.data.historical import StockHistoricalDataClient\n",
    "# from alpaca.data.requests import StockLatestQuoteRequest, StockBarsRequest, StockTradesRequest, StockQuotesRequest\n",
    "from alpaca.data.requests import StockBarsRequest # StockLatestQuoteRequest, StockBarsRequest, StockTradesRequest, StockQuotesRequest\n",
    "from alpaca.data.timeframe import TimeFrame\n",
    "from datetime import datetime\n",
    "# keys required for stock historical data client"
   ]
  },
  {
   "cell_type": "code",
   "execution_count": 3,
   "metadata": {
    "tags": []
   },
   "outputs": [],
   "source": [
    "# !pip install alpaca-trade-api\n",
    "# !pip install alpaca-py==0.3.0"
   ]
  },
  {
   "cell_type": "code",
   "execution_count": 9,
   "metadata": {
    "tags": []
   },
   "outputs": [],
   "source": [
    "bucket_loc = 's3://sisyphus-general-bucket/AthenaInsights'"
   ]
  },
  {
   "cell_type": "code",
   "execution_count": 5,
   "metadata": {
    "tags": []
   },
   "outputs": [],
   "source": [
    "import pandas as pd\n",
    "import numpy as np\n"
   ]
  },
  {
   "cell_type": "code",
   "execution_count": 10,
   "metadata": {
    "tags": []
   },
   "outputs": [],
   "source": [
    "api = tradeapi.REST(key, secret)\n",
    "\n",
    "start_date = '2007-01-01'\n",
    "end_date = '2024-11-09'\n",
    "calendar = api.get_calendar(start=start_date, end=end_date)\n",
    "cal = pd.DataFrame(columns=['close', 'date', 'open', 'session_close', 'session_open', 'settlement_date'])\n",
    "\n",
    "for row in calendar:\n",
    "    cal.loc[cal.shape[0]] = [row.close, row.date, row.open, row.session_close, row.session_open, row.settlement_date]\n",
    "\n",
    "cal.to_csv(f'{bucket_loc}/data/csv/calender.csv', index=False)"
   ]
  },
  {
   "cell_type": "code",
   "execution_count": 11,
   "metadata": {
    "tags": []
   },
   "outputs": [],
   "source": [
    "symbols = [\n",
    "    'SPY', 'QQQ', 'VIXM', 'DJIA', 'DAX',\n",
    "    # 'IXIC', 'RUT', 'UKX', 'NTETF', 'HSXUF', 'CAC 40', 'GBP'\n",
    "]"
   ]
  },
  {
   "cell_type": "code",
   "execution_count": 12,
   "metadata": {
    "tags": []
   },
   "outputs": [],
   "source": [
    "stock_historical_data_client = StockHistoricalDataClient(key, secret)\n",
    "req = StockBarsRequest(\n",
    "    symbol_or_symbols = symbols,\n",
    "    timeframe=TimeFrame.Minute,                          # specify timeframe\n",
    "    start = datetime(2020, 1, 1),                        # specify start datetime, default=the beginning of the current day.\n",
    "    # end_date=None,                                     # specify end datetime, default=now\n",
    "    # limit = 2,                                         # specify limit\n",
    ")"
   ]
  },
  {
   "cell_type": "code",
   "execution_count": null,
   "metadata": {
    "tags": []
   },
   "outputs": [],
   "source": [
    "df1 = stock_historical_data_client.get_stock_bars(req).df\n",
    "df1 = df1.reset_index()\n",
    "df1"
   ]
  },
  {
   "cell_type": "code",
   "execution_count": null,
   "metadata": {
    "tags": []
   },
   "outputs": [],
   "source": [
    "df1.to_parquet(f'{bucket_loc}/data/parquet/stock_bars_minute.parquet', index=False)"
   ]
  },
  {
   "cell_type": "code",
   "execution_count": null,
   "metadata": {
    "tags": []
   },
   "outputs": [],
   "source": [
    "stock_historical_data_client = StockHistoricalDataClient(key, secret)\n",
    "req = StockBarsRequest(\n",
    "    symbol_or_symbols = symbols,\n",
    "    timeframe=TimeFrame.Hour,                            # specify timeframe\n",
    "    start = datetime(2020, 1, 1),                        # specify start datetime, default=the beginning of the current day.\n",
    "    # end_date=None,                                     # specify end datetime, default=now\n",
    "    # limit = 2,                                         # specify limit\n",
    ")\n",
    "\n",
    "df2 = stock_historical_data_client.get_stock_bars(req).df\n",
    "df2 = df2.reset_index()\n",
    "df2\n",
    "\n",
    "df2.to_parquet(f'{bucket_loc}/data/parquet/stock_bars_hour.parquet', index=False)"
   ]
  },
  {
   "cell_type": "code",
   "execution_count": null,
   "metadata": {
    "tags": []
   },
   "outputs": [],
   "source": [
    "stock_historical_data_client = StockHistoricalDataClient(key, secret)\n",
    "req = StockBarsRequest(\n",
    "    symbol_or_symbols = symbols,\n",
    "    timeframe=TimeFrame.Day,                              # specify timeframe\n",
    "    start = datetime(2020, 1, 1),                         # specify start datetime, default=the beginning of the current day.\n",
    "    # end_date=None,                                      # specify end datetime, default=now\n",
    "    # limit = 2,                                          # specify limit\n",
    ")\n",
    "\n",
    "df3 = stock_historical_data_client.get_stock_bars(req).df\n",
    "df3 = df3.reset_index()\n",
    "df3\n",
    "\n",
    "df3.to_parquet(f'{bucket_loc}/data/parquet/stock_bars_day.parquet', index=False)"
   ]
  },
  {
   "cell_type": "code",
   "execution_count": 36,
   "metadata": {},
   "outputs": [
    {
     "name": "stdout",
     "output_type": "stream",
     "text": [
      "Processing d:\\project\\sisyphus\\athenainsights\\src\\scripts\\lib\\dist\\misc-0.1.0-py3-none-any.whl\n",
      "Installing collected packages: misc\n",
      "Successfully installed misc-0.1.0\n"
     ]
    }
   ],
   "source": [
    "# !pip uninstall misc -y\n",
    "# !pip install ..\\src\\scripts\\lib\\dist\\misc-0.1.0-py3-none-any.whl --force-reinstall\n",
    "# AthenaInsights"
   ]
  }
 ],
 "metadata": {
  "kernelspec": {
   "display_name": "conda_fools_gold",
   "language": "python",
   "name": "conda_fools_gold"
  },
  "language_info": {
   "codemirror_mode": {
    "name": "ipython",
    "version": 3
   },
   "file_extension": ".py",
   "mimetype": "text/x-python",
   "name": "python",
   "nbconvert_exporter": "python",
   "pygments_lexer": "ipython3",
   "version": "3.9.19"
  }
 },
 "nbformat": 4,
 "nbformat_minor": 4
}
