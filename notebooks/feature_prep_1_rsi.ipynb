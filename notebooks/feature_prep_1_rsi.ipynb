{
 "cells": [
  {
   "cell_type": "code",
   "execution_count": 1,
   "id": "772c7907-1461-420b-9b47-318d5fc05d1e",
   "metadata": {
    "tags": []
   },
   "outputs": [],
   "source": [
    "import pandas as pd\n",
    "import numpy as np\n",
    "import warnings\n",
    "import boto3\n",
    "from tqdm import tqdm\n",
    "warnings.filterwarnings(\"ignore\")"
   ]
  },
  {
   "cell_type": "markdown",
   "id": "8937e751-fa0c-4a9d-8ff3-39df5d0586c8",
   "metadata": {},
   "source": [
    "### data"
   ]
  },
  {
   "cell_type": "code",
   "execution_count": 2,
   "id": "cd5d93d7-3f09-4e56-a507-6593b48b648d",
   "metadata": {
    "tags": []
   },
   "outputs": [],
   "source": [
    "client = boto3.client('s3')"
   ]
  },
  {
   "cell_type": "code",
   "execution_count": 3,
   "id": "c642adbb-e807-41a0-82a6-8e292f932a4a",
   "metadata": {
    "tags": []
   },
   "outputs": [],
   "source": [
    "s3_prefix = 's3://'\n",
    "bucket = 'sisyphus-general-bucket'\n",
    "primary_folder = 'AthenaInsights'"
   ]
  },
  {
   "cell_type": "code",
   "execution_count": 4,
   "id": "66e986e9-7758-43d2-8463-9f825e6bce8c",
   "metadata": {
    "tags": []
   },
   "outputs": [],
   "source": [
    "response = client.list_objects_v2(\n",
    "    Bucket=bucket,\n",
    "    Prefix=f'{primary_folder}/data/feature_prep/')"
   ]
  },
  {
   "cell_type": "code",
   "execution_count": 5,
   "id": "44774a9b-c2d0-4281-afbc-db3637832641",
   "metadata": {
    "tags": []
   },
   "outputs": [],
   "source": [
    "paths = []\n",
    "for content in response.get('Contents', []):\n",
    "    # print(f\"{s3_prefix}{bucket}/{content['Key']}\")\n",
    "    paths.append(f\"{s3_prefix}{bucket}/{content['Key']}\")"
   ]
  },
  {
   "cell_type": "code",
   "execution_count": 6,
   "id": "749428bf-b50a-43f7-9f92-e93c3da26c0e",
   "metadata": {
    "tags": []
   },
   "outputs": [
    {
     "data": {
      "text/plain": [
       "['s3://sisyphus-general-bucket/AthenaInsights/data/feature_prep/stock_bars_100D.parquet',\n",
       " 's3://sisyphus-general-bucket/AthenaInsights/data/feature_prep/stock_bars_10D.parquet',\n",
       " 's3://sisyphus-general-bucket/AthenaInsights/data/feature_prep/stock_bars_10min.parquet',\n",
       " 's3://sisyphus-general-bucket/AthenaInsights/data/feature_prep/stock_bars_10min_rsi.parquet',\n",
       " 's3://sisyphus-general-bucket/AthenaInsights/data/feature_prep/stock_bars_120min.parquet',\n",
       " 's3://sisyphus-general-bucket/AthenaInsights/data/feature_prep/stock_bars_120min_rsi.parquet',\n",
       " 's3://sisyphus-general-bucket/AthenaInsights/data/feature_prep/stock_bars_150D.parquet',\n",
       " 's3://sisyphus-general-bucket/AthenaInsights/data/feature_prep/stock_bars_15D.parquet',\n",
       " 's3://sisyphus-general-bucket/AthenaInsights/data/feature_prep/stock_bars_15min.parquet',\n",
       " 's3://sisyphus-general-bucket/AthenaInsights/data/feature_prep/stock_bars_15min_rsi.parquet',\n",
       " 's3://sisyphus-general-bucket/AthenaInsights/data/feature_prep/stock_bars_180min.parquet',\n",
       " 's3://sisyphus-general-bucket/AthenaInsights/data/feature_prep/stock_bars_180min_rsi.parquet',\n",
       " 's3://sisyphus-general-bucket/AthenaInsights/data/feature_prep/stock_bars_1D.parquet',\n",
       " 's3://sisyphus-general-bucket/AthenaInsights/data/feature_prep/stock_bars_1min.parquet',\n",
       " 's3://sisyphus-general-bucket/AthenaInsights/data/feature_prep/stock_bars_200D.parquet',\n",
       " 's3://sisyphus-general-bucket/AthenaInsights/data/feature_prep/stock_bars_20D.parquet',\n",
       " 's3://sisyphus-general-bucket/AthenaInsights/data/feature_prep/stock_bars_20min.parquet',\n",
       " 's3://sisyphus-general-bucket/AthenaInsights/data/feature_prep/stock_bars_20min_rsi.parquet',\n",
       " 's3://sisyphus-general-bucket/AthenaInsights/data/feature_prep/stock_bars_240min.parquet',\n",
       " 's3://sisyphus-general-bucket/AthenaInsights/data/feature_prep/stock_bars_240min_rsi.parquet',\n",
       " 's3://sisyphus-general-bucket/AthenaInsights/data/feature_prep/stock_bars_25min.parquet',\n",
       " 's3://sisyphus-general-bucket/AthenaInsights/data/feature_prep/stock_bars_25min_rsi.parquet',\n",
       " 's3://sisyphus-general-bucket/AthenaInsights/data/feature_prep/stock_bars_2D.parquet',\n",
       " 's3://sisyphus-general-bucket/AthenaInsights/data/feature_prep/stock_bars_2min.parquet',\n",
       " 's3://sisyphus-general-bucket/AthenaInsights/data/feature_prep/stock_bars_30D.parquet',\n",
       " 's3://sisyphus-general-bucket/AthenaInsights/data/feature_prep/stock_bars_30min.parquet',\n",
       " 's3://sisyphus-general-bucket/AthenaInsights/data/feature_prep/stock_bars_30min_rsi.parquet',\n",
       " 's3://sisyphus-general-bucket/AthenaInsights/data/feature_prep/stock_bars_3D.parquet',\n",
       " 's3://sisyphus-general-bucket/AthenaInsights/data/feature_prep/stock_bars_3min.parquet',\n",
       " 's3://sisyphus-general-bucket/AthenaInsights/data/feature_prep/stock_bars_50D.parquet',\n",
       " 's3://sisyphus-general-bucket/AthenaInsights/data/feature_prep/stock_bars_5D.parquet',\n",
       " 's3://sisyphus-general-bucket/AthenaInsights/data/feature_prep/stock_bars_5min.parquet',\n",
       " 's3://sisyphus-general-bucket/AthenaInsights/data/feature_prep/stock_bars_60min.parquet',\n",
       " 's3://sisyphus-general-bucket/AthenaInsights/data/feature_prep/stock_bars_60min_rsi.parquet']"
      ]
     },
     "execution_count": 6,
     "metadata": {},
     "output_type": "execute_result"
    }
   ],
   "source": [
    "paths"
   ]
  },
  {
   "cell_type": "code",
   "execution_count": null,
   "id": "df135ec3-5187-4113-8b89-24588d5760f4",
   "metadata": {},
   "outputs": [
    {
     "name": "stderr",
     "output_type": "stream",
     "text": [
      "  0%|          | 0/34 [00:00<?, ?it/s]"
     ]
    },
    {
     "name": "stdout",
     "output_type": "stream",
     "text": [
      "Reading from s3://sisyphus-general-bucket/AthenaInsights/data/feature_prep/stock_bars_100D.parquet\n",
      "Saving to s3://sisyphus-general-bucket/AthenaInsights/data/feature_prep/stock_bars_100D_rsi.parquet\n"
     ]
    },
    {
     "name": "stderr",
     "output_type": "stream",
     "text": [
      "  3%|▎         | 1/34 [00:01<00:45,  1.39s/it]"
     ]
    },
    {
     "name": "stdout",
     "output_type": "stream",
     "text": [
      "Reading from s3://sisyphus-general-bucket/AthenaInsights/data/feature_prep/stock_bars_10D.parquet\n",
      "Saving to s3://sisyphus-general-bucket/AthenaInsights/data/feature_prep/stock_bars_10D_rsi.parquet\n"
     ]
    },
    {
     "name": "stderr",
     "output_type": "stream",
     "text": [
      "  6%|▌         | 2/34 [00:02<00:46,  1.46s/it]"
     ]
    },
    {
     "name": "stdout",
     "output_type": "stream",
     "text": [
      "Reading from s3://sisyphus-general-bucket/AthenaInsights/data/feature_prep/stock_bars_150D.parquet\n",
      "Saving to s3://sisyphus-general-bucket/AthenaInsights/data/feature_prep/stock_bars_150D_rsi.parquet\n"
     ]
    },
    {
     "name": "stderr",
     "output_type": "stream",
     "text": [
      " 21%|██        | 7/34 [00:04<00:12,  2.16it/s]"
     ]
    },
    {
     "name": "stdout",
     "output_type": "stream",
     "text": [
      "Reading from s3://sisyphus-general-bucket/AthenaInsights/data/feature_prep/stock_bars_15D.parquet\n",
      "Saving to s3://sisyphus-general-bucket/AthenaInsights/data/feature_prep/stock_bars_15D_rsi.parquet\n"
     ]
    },
    {
     "name": "stderr",
     "output_type": "stream",
     "text": [
      " 24%|██▎       | 8/34 [00:05<00:16,  1.57it/s]"
     ]
    },
    {
     "name": "stdout",
     "output_type": "stream",
     "text": [
      "Reading from s3://sisyphus-general-bucket/AthenaInsights/data/feature_prep/stock_bars_1D.parquet\n",
      "Saving to s3://sisyphus-general-bucket/AthenaInsights/data/feature_prep/stock_bars_1D_rsi.parquet\n"
     ]
    },
    {
     "name": "stderr",
     "output_type": "stream",
     "text": [
      " 38%|███▊      | 13/34 [00:07<00:10,  2.05it/s]"
     ]
    },
    {
     "name": "stdout",
     "output_type": "stream",
     "text": [
      "Reading from s3://sisyphus-general-bucket/AthenaInsights/data/feature_prep/stock_bars_200D.parquet\n",
      "Saving to s3://sisyphus-general-bucket/AthenaInsights/data/feature_prep/stock_bars_200D_rsi.parquet\n"
     ]
    },
    {
     "name": "stderr",
     "output_type": "stream",
     "text": [
      " 44%|████▍     | 15/34 [00:08<00:09,  1.98it/s]"
     ]
    },
    {
     "name": "stdout",
     "output_type": "stream",
     "text": [
      "Reading from s3://sisyphus-general-bucket/AthenaInsights/data/feature_prep/stock_bars_20D.parquet\n",
      "Saving to s3://sisyphus-general-bucket/AthenaInsights/data/feature_prep/stock_bars_20D_rsi.parquet\n"
     ]
    },
    {
     "name": "stderr",
     "output_type": "stream",
     "text": [
      " 47%|████▋     | 16/34 [00:09<00:11,  1.55it/s]"
     ]
    },
    {
     "name": "stdout",
     "output_type": "stream",
     "text": [
      "Reading from s3://sisyphus-general-bucket/AthenaInsights/data/feature_prep/stock_bars_2D.parquet\n",
      "Saving to s3://sisyphus-general-bucket/AthenaInsights/data/feature_prep/stock_bars_2D_rsi.parquet\n"
     ]
    },
    {
     "name": "stderr",
     "output_type": "stream",
     "text": [
      " 68%|██████▊   | 23/34 [00:11<00:04,  2.61it/s]"
     ]
    },
    {
     "name": "stdout",
     "output_type": "stream",
     "text": [
      "Reading from s3://sisyphus-general-bucket/AthenaInsights/data/feature_prep/stock_bars_30D.parquet\n",
      "Saving to s3://sisyphus-general-bucket/AthenaInsights/data/feature_prep/stock_bars_30D_rsi.parquet\n"
     ]
    },
    {
     "name": "stderr",
     "output_type": "stream",
     "text": [
      " 74%|███████▎  | 25/34 [00:12<00:03,  2.29it/s]"
     ]
    },
    {
     "name": "stdout",
     "output_type": "stream",
     "text": [
      "Reading from s3://sisyphus-general-bucket/AthenaInsights/data/feature_prep/stock_bars_3D.parquet\n",
      "Saving to s3://sisyphus-general-bucket/AthenaInsights/data/feature_prep/stock_bars_3D_rsi.parquet\n"
     ]
    },
    {
     "name": "stderr",
     "output_type": "stream",
     "text": [
      " 82%|████████▏ | 28/34 [00:14<00:02,  2.25it/s]"
     ]
    },
    {
     "name": "stdout",
     "output_type": "stream",
     "text": [
      "Reading from s3://sisyphus-general-bucket/AthenaInsights/data/feature_prep/stock_bars_50D.parquet\n",
      "Saving to s3://sisyphus-general-bucket/AthenaInsights/data/feature_prep/stock_bars_50D_rsi.parquet\n"
     ]
    },
    {
     "name": "stderr",
     "output_type": "stream",
     "text": [
      " 88%|████████▊ | 30/34 [00:15<00:02,  1.97it/s]"
     ]
    },
    {
     "name": "stdout",
     "output_type": "stream",
     "text": [
      "Reading from s3://sisyphus-general-bucket/AthenaInsights/data/feature_prep/stock_bars_5D.parquet\n",
      "Saving to s3://sisyphus-general-bucket/AthenaInsights/data/feature_prep/stock_bars_5D_rsi.parquet\n"
     ]
    },
    {
     "name": "stderr",
     "output_type": "stream",
     "text": [
      "100%|██████████| 34/34 [00:16<00:00,  2.00it/s]\n"
     ]
    }
   ],
   "source": [
    "def calculate_rsi(data, window=14):\n",
    "    # Calculate price differences\n",
    "    delta = data.diff()\n",
    "    # Make two series: one for gains and one for losses\n",
    "    gain = (delta.where(delta > 0, 0)).fillna(0)\n",
    "    loss = (-delta.where(delta < 0, 0)).fillna(0)\n",
    "\n",
    "    # Calculate the Exponential Moving Average of gains and losses\n",
    "    avg_gain = gain.ewm(alpha=1/window, min_periods=window, adjust=False).mean()\n",
    "    avg_loss = loss.ewm(alpha=1/window, min_periods=window, adjust=False).mean()\n",
    "\n",
    "    # Calculate the RSI\n",
    "    rs = avg_gain / avg_loss\n",
    "    rsi = 100 - (100 / (1 + rs))\n",
    "    return rsi\n",
    "\n",
    "def read_and_calculate_rsi(path, windows, fields):\n",
    "    print(f'Reading from {path}')\n",
    "    df = pd.read_parquet(path)[fields + ['symbol']]\n",
    "    grouped = df.groupby('symbol')\n",
    "    results = []\n",
    "    for symbol, group in grouped:\n",
    "        calculated_fields = []\n",
    "        for col in fields:\n",
    "            for window in windows:\n",
    "                rsi_values = calculate_rsi(group[col], window)\n",
    "                group[f'{col}_{window}window_rsi'] = rsi_values\n",
    "                calculated_fields.append(f'{col}_{window}window_rsi')\n",
    "        results.append(group[fields + calculated_fields])\n",
    "        # Concatenate all the grouped results back into a single DataFrame\n",
    "    df_concat = pd.concat(results)\n",
    "    loc = path.replace('.parquet', '_rsi.parquet')\n",
    "    print(f'Saving to {loc}')\n",
    "    df_concat.to_parquet(loc)\n",
    "    del df, grouped, group, rsi_values, results, df_concat\n",
    "\n",
    "for path in tqdm(paths):\n",
    "    name = path.split('/')[-1].split('.')[0].split('_')[-1]\n",
    "    # if 'min' in name and int(name.replace('min', '')) < 100:  # Process files for <100 min\n",
    "    if 'min' in name:\n",
    "        if int(name.replace('min', ''))<=10:\n",
    "            windows = [7, 9, 11, 14, 17, 21]\n",
    "            fields=['close', 'close_ema_2m', 'close_sma_2m']\n",
    "        elif int(name.replace('min', ''))<=30:\n",
    "            windows = [7, 9, 11, 14, 17, 21]\n",
    "            fields=['close', 'close_ema_2m', 'close_sma_2m', 'close_ema_3m', 'close_sma_3m', 'close_ema_5m', 'close_sma_5m']\n",
    "        else:\n",
    "            windows = [7, 9, 11, 14, 17, 21]\n",
    "            fields=['close', 'close_ema_5m', 'close_sma_5m', 'close_ema_10m', 'close_sma_10m', 'close_ema_20m', 'close_sma_20m', 'close_ema_50m', 'close_sma_50m']\n",
    "    elif 'D' in name:\n",
    "        if int(name.replace('D', '')) < 100:\n",
    "            windows = [5, 7, 9, 11, 14, 17, 21]\n",
    "            fields=['close', 'close_ema_5m', 'close_sma_5m', 'close_ema_10m', 'close_sma_10m', 'close_ema_20m', 'close_sma_20m', 'close_ema_50m', 'close_sma_50m']\n",
    "        else: \n",
    "            windows = [5, 7, 9, 11, 14, 17, 21]\n",
    "            fields=['close', 'close_ema_5m', 'close_sma_5m', 'close_ema_10m', 'close_sma_10m', 'close_ema_20m', 'close_sma_20m', 'close_ema_50m', 'close_sma_50m']\n",
    "    read_and_calculate_rsi(path, windows, fields)"
   ]
  },
  {
   "cell_type": "code",
   "execution_count": null,
   "id": "80e5f4b1",
   "metadata": {},
   "outputs": [],
   "source": []
  }
 ],
 "metadata": {
  "kernelspec": {
   "display_name": "fools_gold",
   "language": "python",
   "name": "python3"
  },
  "language_info": {
   "codemirror_mode": {
    "name": "ipython",
    "version": 3
   },
   "file_extension": ".py",
   "mimetype": "text/x-python",
   "name": "python",
   "nbconvert_exporter": "python",
   "pygments_lexer": "ipython3",
   "version": "3.9.19"
  }
 },
 "nbformat": 4,
 "nbformat_minor": 5
}
