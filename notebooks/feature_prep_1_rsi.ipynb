{
 "cells": [
  {
   "cell_type": "code",
   "execution_count": 1,
   "id": "772c7907-1461-420b-9b47-318d5fc05d1e",
   "metadata": {
    "tags": []
   },
   "outputs": [],
   "source": [
    "import pandas as pd\n",
    "import numpy as np\n",
    "import warnings\n",
    "import boto3\n",
    "from tqdm import tqdm\n",
    "warnings.filterwarnings(\"ignore\")"
   ]
  },
  {
   "cell_type": "markdown",
   "id": "8937e751-fa0c-4a9d-8ff3-39df5d0586c8",
   "metadata": {},
   "source": [
    "### data"
   ]
  },
  {
   "cell_type": "code",
   "execution_count": 2,
   "id": "cd5d93d7-3f09-4e56-a507-6593b48b648d",
   "metadata": {
    "tags": []
   },
   "outputs": [],
   "source": [
    "client = boto3.client('s3')"
   ]
  },
  {
   "cell_type": "code",
   "execution_count": 3,
   "id": "c642adbb-e807-41a0-82a6-8e292f932a4a",
   "metadata": {
    "tags": []
   },
   "outputs": [],
   "source": [
    "s3_prefix = 's3://'\n",
    "bucket = 'sisyphus-general-bucket'\n",
    "primary_folder = 'AthenaInsights'"
   ]
  },
  {
   "cell_type": "code",
   "execution_count": 4,
   "id": "66e986e9-7758-43d2-8463-9f825e6bce8c",
   "metadata": {
    "tags": []
   },
   "outputs": [],
   "source": [
    "response = client.list_objects_v2(\n",
    "    Bucket=bucket,\n",
    "    Prefix=f'{primary_folder}/data/feature_prep/')"
   ]
  },
  {
   "cell_type": "code",
   "execution_count": 5,
   "id": "44774a9b-c2d0-4281-afbc-db3637832641",
   "metadata": {
    "tags": []
   },
   "outputs": [],
   "source": [
    "paths = []\n",
    "for content in response.get('Contents', []):\n",
    "    # print(f\"{s3_prefix}{bucket}/{content['Key']}\")\n",
    "    paths.append(f\"{s3_prefix}{bucket}/{content['Key']}\")"
   ]
  },
  {
   "cell_type": "code",
   "execution_count": 6,
   "id": "749428bf-b50a-43f7-9f92-e93c3da26c0e",
   "metadata": {
    "tags": []
   },
   "outputs": [
    {
     "data": {
      "text/plain": [
       "['s3://sisyphus-general-bucket/AthenaInsights/data/feature_prep/stock_bars_100D.parquet',\n",
       " 's3://sisyphus-general-bucket/AthenaInsights/data/feature_prep/stock_bars_10D.parquet',\n",
       " 's3://sisyphus-general-bucket/AthenaInsights/data/feature_prep/stock_bars_10min.parquet',\n",
       " 's3://sisyphus-general-bucket/AthenaInsights/data/feature_prep/stock_bars_10min_rsi.parquet',\n",
       " 's3://sisyphus-general-bucket/AthenaInsights/data/feature_prep/stock_bars_120min.parquet',\n",
       " 's3://sisyphus-general-bucket/AthenaInsights/data/feature_prep/stock_bars_150D.parquet',\n",
       " 's3://sisyphus-general-bucket/AthenaInsights/data/feature_prep/stock_bars_15D.parquet',\n",
       " 's3://sisyphus-general-bucket/AthenaInsights/data/feature_prep/stock_bars_15min.parquet',\n",
       " 's3://sisyphus-general-bucket/AthenaInsights/data/feature_prep/stock_bars_15min_rsi.parquet',\n",
       " 's3://sisyphus-general-bucket/AthenaInsights/data/feature_prep/stock_bars_180min.parquet',\n",
       " 's3://sisyphus-general-bucket/AthenaInsights/data/feature_prep/stock_bars_1D.parquet',\n",
       " 's3://sisyphus-general-bucket/AthenaInsights/data/feature_prep/stock_bars_1min.parquet',\n",
       " 's3://sisyphus-general-bucket/AthenaInsights/data/feature_prep/stock_bars_200D.parquet',\n",
       " 's3://sisyphus-general-bucket/AthenaInsights/data/feature_prep/stock_bars_20D.parquet',\n",
       " 's3://sisyphus-general-bucket/AthenaInsights/data/feature_prep/stock_bars_20min.parquet',\n",
       " 's3://sisyphus-general-bucket/AthenaInsights/data/feature_prep/stock_bars_240min.parquet',\n",
       " 's3://sisyphus-general-bucket/AthenaInsights/data/feature_prep/stock_bars_25min.parquet',\n",
       " 's3://sisyphus-general-bucket/AthenaInsights/data/feature_prep/stock_bars_2D.parquet',\n",
       " 's3://sisyphus-general-bucket/AthenaInsights/data/feature_prep/stock_bars_2min.parquet',\n",
       " 's3://sisyphus-general-bucket/AthenaInsights/data/feature_prep/stock_bars_30D.parquet',\n",
       " 's3://sisyphus-general-bucket/AthenaInsights/data/feature_prep/stock_bars_30min.parquet',\n",
       " 's3://sisyphus-general-bucket/AthenaInsights/data/feature_prep/stock_bars_3D.parquet',\n",
       " 's3://sisyphus-general-bucket/AthenaInsights/data/feature_prep/stock_bars_3min.parquet',\n",
       " 's3://sisyphus-general-bucket/AthenaInsights/data/feature_prep/stock_bars_50D.parquet',\n",
       " 's3://sisyphus-general-bucket/AthenaInsights/data/feature_prep/stock_bars_5D.parquet',\n",
       " 's3://sisyphus-general-bucket/AthenaInsights/data/feature_prep/stock_bars_5min.parquet',\n",
       " 's3://sisyphus-general-bucket/AthenaInsights/data/feature_prep/stock_bars_60min.parquet']"
      ]
     },
     "execution_count": 6,
     "metadata": {},
     "output_type": "execute_result"
    }
   ],
   "source": [
    "paths"
   ]
  },
  {
   "cell_type": "code",
   "execution_count": null,
   "id": "df135ec3-5187-4113-8b89-24588d5760f4",
   "metadata": {},
   "outputs": [],
   "source": [
    "def read_and_calculate_rsi(path, window, fields):\n",
    "    df = pd.read_parquet(path)\n",
    "    grouped = df.groupby('symbol')\n",
    "    results = []\n",
    "    for symbol, group in grouped:\n",
    "                calculated_fields = []\n",
    "                for col in eligible_close_fields:\n",
    "                    for window in [7, 9, 11, 14, 17, 21]:\n",
    "                        rsi_values = calculate_rsi(group[col], window)\n",
    "                        group[f'{col}_{window}window_rsi'] = rsi_values\n",
    "                        calculated_fields.append(f'{col}_{window}window_rsi')\n",
    "                results.append(group[eligible_close_fields + calculated_fields])\n",
    "            # Concatenate all the grouped results back into a single DataFrame\n",
    "            df_concat = pd.concat(results)\n",
    "            loc = path.replace('.parquet', '_rsi.parquet')\n",
    "            print(f'Saving to {loc}')\n",
    "            df_concat.to_parquet(loc)\n",
    "    \n",
    "    \n",
    "for path in paths:\n",
    "    name = path.split('/')[-1].split('.')[0].split('_')[-1]\n",
    "    # if 'min' in name and int(name.replace('min', '')) < 100:  # Process files for <100 min\n",
    "    if 'min' in name:\n",
    "        if int(name.replace('min', ''))<=10:\n",
    "            pass\n",
    "        elif int(name.replace('min', ''))<=30:\n",
    "            pass\n",
    "        else:\n",
    "            pass\n",
    "    elif 'D' in name:\n",
    "        if int(name.replace('D', '')) < 100:\n",
    "            pass\n",
    "        else: \n",
    "            pass"
   ]
  },
  {
   "cell_type": "code",
   "execution_count": 8,
   "id": "8b2b2e10-7140-4c5b-a0a2-ae7662a99734",
   "metadata": {
    "tags": []
   },
   "outputs": [
    {
     "name": "stdout",
     "output_type": "stream",
     "text": [
      "Saving to s3://sisyphus-general-bucket/AthenaInsights/data/feature_prep/stock_bars_20min_rsi.parquet\n",
      "Saving to s3://sisyphus-general-bucket/AthenaInsights/data/feature_prep/stock_bars_25min_rsi.parquet\n",
      "Saving to s3://sisyphus-general-bucket/AthenaInsights/data/feature_prep/stock_bars_30min_rsi.parquet\n"
     ]
    },
    {
     "ename": "KeyError",
     "evalue": "'close_ema_2m'",
     "output_type": "error",
     "traceback": [
      "\u001b[0;31m---------------------------------------------------------------------------\u001b[0m",
      "\u001b[0;31mKeyError\u001b[0m                                  Traceback (most recent call last)",
      "File \u001b[0;32m~/anaconda3/envs/python3/lib/python3.10/site-packages/pandas/core/indexes/base.py:3802\u001b[0m, in \u001b[0;36mIndex.get_loc\u001b[0;34m(self, key, method, tolerance)\u001b[0m\n\u001b[1;32m   3801\u001b[0m \u001b[38;5;28;01mtry\u001b[39;00m:\n\u001b[0;32m-> 3802\u001b[0m     \u001b[38;5;28;01mreturn\u001b[39;00m \u001b[38;5;28;43mself\u001b[39;49m\u001b[38;5;241;43m.\u001b[39;49m\u001b[43m_engine\u001b[49m\u001b[38;5;241;43m.\u001b[39;49m\u001b[43mget_loc\u001b[49m\u001b[43m(\u001b[49m\u001b[43mcasted_key\u001b[49m\u001b[43m)\u001b[49m\n\u001b[1;32m   3803\u001b[0m \u001b[38;5;28;01mexcept\u001b[39;00m \u001b[38;5;167;01mKeyError\u001b[39;00m \u001b[38;5;28;01mas\u001b[39;00m err:\n",
      "File \u001b[0;32m~/anaconda3/envs/python3/lib/python3.10/site-packages/pandas/_libs/index.pyx:138\u001b[0m, in \u001b[0;36mpandas._libs.index.IndexEngine.get_loc\u001b[0;34m()\u001b[0m\n",
      "File \u001b[0;32m~/anaconda3/envs/python3/lib/python3.10/site-packages/pandas/_libs/index.pyx:165\u001b[0m, in \u001b[0;36mpandas._libs.index.IndexEngine.get_loc\u001b[0;34m()\u001b[0m\n",
      "File \u001b[0;32mpandas/_libs/hashtable_class_helper.pxi:5745\u001b[0m, in \u001b[0;36mpandas._libs.hashtable.PyObjectHashTable.get_item\u001b[0;34m()\u001b[0m\n",
      "File \u001b[0;32mpandas/_libs/hashtable_class_helper.pxi:5753\u001b[0m, in \u001b[0;36mpandas._libs.hashtable.PyObjectHashTable.get_item\u001b[0;34m()\u001b[0m\n",
      "\u001b[0;31mKeyError\u001b[0m: 'close_ema_2m'",
      "\nThe above exception was the direct cause of the following exception:\n",
      "\u001b[0;31mKeyError\u001b[0m                                  Traceback (most recent call last)",
      "Cell \u001b[0;32mIn[8], line 34\u001b[0m\n\u001b[1;32m     32\u001b[0m \u001b[38;5;28;01mfor\u001b[39;00m col \u001b[38;5;129;01min\u001b[39;00m eligible_close_fields:\n\u001b[1;32m     33\u001b[0m     \u001b[38;5;28;01mfor\u001b[39;00m window \u001b[38;5;129;01min\u001b[39;00m [\u001b[38;5;241m7\u001b[39m, \u001b[38;5;241m9\u001b[39m, \u001b[38;5;241m11\u001b[39m, \u001b[38;5;241m14\u001b[39m, \u001b[38;5;241m17\u001b[39m, \u001b[38;5;241m21\u001b[39m]:\n\u001b[0;32m---> 34\u001b[0m         rsi_values \u001b[38;5;241m=\u001b[39m calculate_rsi(\u001b[43mgroup\u001b[49m\u001b[43m[\u001b[49m\u001b[43mcol\u001b[49m\u001b[43m]\u001b[49m, window)\n\u001b[1;32m     35\u001b[0m         group[\u001b[38;5;124mf\u001b[39m\u001b[38;5;124m'\u001b[39m\u001b[38;5;132;01m{\u001b[39;00mcol\u001b[38;5;132;01m}\u001b[39;00m\u001b[38;5;124m_\u001b[39m\u001b[38;5;132;01m{\u001b[39;00mwindow\u001b[38;5;132;01m}\u001b[39;00m\u001b[38;5;124mwindow_rsi\u001b[39m\u001b[38;5;124m'\u001b[39m] \u001b[38;5;241m=\u001b[39m rsi_values\n\u001b[1;32m     36\u001b[0m         calculated_fields\u001b[38;5;241m.\u001b[39mappend(\u001b[38;5;124mf\u001b[39m\u001b[38;5;124m'\u001b[39m\u001b[38;5;132;01m{\u001b[39;00mcol\u001b[38;5;132;01m}\u001b[39;00m\u001b[38;5;124m_\u001b[39m\u001b[38;5;132;01m{\u001b[39;00mwindow\u001b[38;5;132;01m}\u001b[39;00m\u001b[38;5;124mwindow_rsi\u001b[39m\u001b[38;5;124m'\u001b[39m)\n",
      "File \u001b[0;32m~/anaconda3/envs/python3/lib/python3.10/site-packages/pandas/core/frame.py:3807\u001b[0m, in \u001b[0;36mDataFrame.__getitem__\u001b[0;34m(self, key)\u001b[0m\n\u001b[1;32m   3805\u001b[0m \u001b[38;5;28;01mif\u001b[39;00m \u001b[38;5;28mself\u001b[39m\u001b[38;5;241m.\u001b[39mcolumns\u001b[38;5;241m.\u001b[39mnlevels \u001b[38;5;241m>\u001b[39m \u001b[38;5;241m1\u001b[39m:\n\u001b[1;32m   3806\u001b[0m     \u001b[38;5;28;01mreturn\u001b[39;00m \u001b[38;5;28mself\u001b[39m\u001b[38;5;241m.\u001b[39m_getitem_multilevel(key)\n\u001b[0;32m-> 3807\u001b[0m indexer \u001b[38;5;241m=\u001b[39m \u001b[38;5;28;43mself\u001b[39;49m\u001b[38;5;241;43m.\u001b[39;49m\u001b[43mcolumns\u001b[49m\u001b[38;5;241;43m.\u001b[39;49m\u001b[43mget_loc\u001b[49m\u001b[43m(\u001b[49m\u001b[43mkey\u001b[49m\u001b[43m)\u001b[49m\n\u001b[1;32m   3808\u001b[0m \u001b[38;5;28;01mif\u001b[39;00m is_integer(indexer):\n\u001b[1;32m   3809\u001b[0m     indexer \u001b[38;5;241m=\u001b[39m [indexer]\n",
      "File \u001b[0;32m~/anaconda3/envs/python3/lib/python3.10/site-packages/pandas/core/indexes/base.py:3804\u001b[0m, in \u001b[0;36mIndex.get_loc\u001b[0;34m(self, key, method, tolerance)\u001b[0m\n\u001b[1;32m   3802\u001b[0m     \u001b[38;5;28;01mreturn\u001b[39;00m \u001b[38;5;28mself\u001b[39m\u001b[38;5;241m.\u001b[39m_engine\u001b[38;5;241m.\u001b[39mget_loc(casted_key)\n\u001b[1;32m   3803\u001b[0m \u001b[38;5;28;01mexcept\u001b[39;00m \u001b[38;5;167;01mKeyError\u001b[39;00m \u001b[38;5;28;01mas\u001b[39;00m err:\n\u001b[0;32m-> 3804\u001b[0m     \u001b[38;5;28;01mraise\u001b[39;00m \u001b[38;5;167;01mKeyError\u001b[39;00m(key) \u001b[38;5;28;01mfrom\u001b[39;00m \u001b[38;5;21;01merr\u001b[39;00m\n\u001b[1;32m   3805\u001b[0m \u001b[38;5;28;01mexcept\u001b[39;00m \u001b[38;5;167;01mTypeError\u001b[39;00m:\n\u001b[1;32m   3806\u001b[0m     \u001b[38;5;66;03m# If we have a listlike key, _check_indexing_error will raise\u001b[39;00m\n\u001b[1;32m   3807\u001b[0m     \u001b[38;5;66;03m#  InvalidIndexError. Otherwise we fall through and re-raise\u001b[39;00m\n\u001b[1;32m   3808\u001b[0m     \u001b[38;5;66;03m#  the TypeError.\u001b[39;00m\n\u001b[1;32m   3809\u001b[0m     \u001b[38;5;28mself\u001b[39m\u001b[38;5;241m.\u001b[39m_check_indexing_error(key)\n",
      "\u001b[0;31mKeyError\u001b[0m: 'close_ema_2m'"
     ]
    }
   ],
   "source": [
    "import pandas as pd\n",
    "from tqdm import tqdm\n",
    "\n",
    "def calculate_rsi(data, window=14):\n",
    "    # Calculate price differences\n",
    "    delta = data.diff()\n",
    "    # Make two series: one for gains and one for losses\n",
    "    gain = (delta.where(delta > 0, 0)).fillna(0)\n",
    "    loss = (-delta.where(delta < 0, 0)).fillna(0)\n",
    "\n",
    "    # Calculate the Exponential Moving Average of gains and losses\n",
    "    avg_gain = gain.ewm(alpha=1/window, min_periods=window, adjust=False).mean()\n",
    "    avg_loss = loss.ewm(alpha=1/window, min_periods=window, adjust=False).mean()\n",
    "\n",
    "    # Calculate the RSI\n",
    "    rs = avg_gain / avg_loss\n",
    "    rsi = 100 - (100 / (1 + rs))\n",
    "    return rsi\n",
    "\n",
    "for path in paths:\n",
    "    name = path.split('/')[-1].split('.')[0].split('_')[-1]\n",
    "    # if 'min' in name and int(name.replace('min', '')) < 100:  # Process files for <100 min\n",
    "    if 'min' in name and int(name.replace('min', '')) in [20, 25, 30, 60]:  # Process files for <100 min 10, 15, 1 20 25 2 30 3 5 60\n",
    "        df = pd.read_parquet(path)\n",
    "        if 'symbol' in df.columns:\n",
    "            # Process each symbol separately\n",
    "            grouped = df.groupby('symbol')\n",
    "            results = []\n",
    "            eligible_close_fields = ['close', 'close_ema_2m', 'close_sma_2m']\n",
    "            for symbol, group in grouped:\n",
    "                calculated_fields = []\n",
    "                for col in eligible_close_fields:\n",
    "                    for window in [7, 9, 11, 14, 17, 21]:\n",
    "                        rsi_values = calculate_rsi(group[col], window)\n",
    "                        group[f'{col}_{window}window_rsi'] = rsi_values\n",
    "                        calculated_fields.append(f'{col}_{window}window_rsi')\n",
    "                results.append(group[eligible_close_fields + calculated_fields])\n",
    "            # Concatenate all the grouped results back into a single DataFrame\n",
    "            df_concat = pd.concat(results)\n",
    "            loc = path.replace('.parquet', '_rsi.parquet')\n",
    "            print(f'Saving to {loc}')\n",
    "            df_concat.to_parquet(loc)\n",
    "        else:\n",
    "            print(f\"No 'symbol' column in {path}\")\n",
    "    elif '1D' in name:\n",
    "        # Ignore daily data as specified\n",
    "        pass\n"
   ]
  },
  {
   "cell_type": "code",
   "execution_count": null,
   "id": "37895e22-0e41-488a-80ba-acedc60f736a",
   "metadata": {
    "tags": []
   },
   "outputs": [],
   "source": [
    "# def calculate_rsi(data, window=14):\n",
    "#     # Calculate price differences\n",
    "#     delta = data.diff()\n",
    "#     # Make two series: one for gains and one for losses\n",
    "#     gain = (delta.where(delta > 0, 0)).fillna(0)\n",
    "#     loss = (-delta.where(delta < 0, 0)).fillna(0)\n",
    "\n",
    "#     # Calculate the Exponential Moving Average of gains and losses\n",
    "#     avg_gain = gain.ewm(alpha=1/window, min_periods=window, adjust=False).mean()\n",
    "#     avg_loss = loss.ewm(alpha=1/window, min_periods=window, adjust=False).mean()\n",
    "\n",
    "#     # Calculate the RSI\n",
    "#     rs = avg_gain / avg_loss\n",
    "#     rsi = 100 - (100 / (1 + rs))\n",
    "#     return rsi\n",
    "\n",
    "# for path in paths:\n",
    "#     name = path.split('/')[-1].split('.')[0].split('_')[-1]\n",
    "#     if 'min' in name:\n",
    "#         if int(name.replace('min', '')) < 100:\n",
    "#             # calculating only for one hour oe lesser time windows\n",
    "#             print(name)\n",
    "#             df = pd.read_parquet(path)\n",
    "#             eligible_close_fields = ['close', 'close_ema_2m' , 'close_sma_2m']\n",
    "#             calculated_fields = []\n",
    "#             for col in tqdm(eligible_close_fields):\n",
    "#                 for window in [7, 9, 11, 14, 17, 21]:\n",
    "#                     df[f'{col}_{window}window_rsi'] = calculate_rsi(df[col], window)\n",
    "#                     calculated_fields.append(f'{col}_{window}window_rsi')\n",
    "#             loc = path.replace('.parquet', '_rsi.parquet')\n",
    "#             print(f'saving to {loc}')\n",
    "#             df[eligible_close_fields + calculated_fields].to_parquet(loc)\n",
    "#     elif '1D' in name:\n",
    "#         pass"
   ]
  },
  {
   "cell_type": "code",
   "execution_count": null,
   "id": "8b0caeec-7563-4716-83c3-9435116782b4",
   "metadata": {},
   "outputs": [],
   "source": []
  },
  {
   "cell_type": "code",
   "execution_count": null,
   "id": "697384a1-27ed-470a-924c-a5ed1be8bf68",
   "metadata": {},
   "outputs": [],
   "source": []
  },
  {
   "cell_type": "markdown",
   "id": "3750df5d-f51a-4730-8ea6-126174791215",
   "metadata": {},
   "source": [
    "### testing"
   ]
  },
  {
   "cell_type": "code",
   "execution_count": 3,
   "id": "321e7fa1-41ef-4add-99a9-c67da6cf2912",
   "metadata": {
    "tags": []
   },
   "outputs": [],
   "source": [
    "df1 = pd.read_parquet(f'{s3_prefix}{bucket}/{primary_folder}/data/feature_prep/stock_bars_1min.parquet')\n",
    "df2 = pd.read_parquet(f'{s3_prefix}{bucket}/{primary_folder}/data/feature_prep/stock_bars_10min.parquet')\n",
    "# df3 = pd.read_parquet(f'{s3_prefix}{bucket}/{primary_folder}/data/feature_prep/stock_bars_60min.parquet')\n",
    "# df4 = pd.read_parquet(f'{s3_prefix}{bucket}/{primary_folder}/data/feature_prep/stock_bars_1D.parquet')\n",
    "# df5 = pd.read_parquet(f'{s3_prefix}{bucket}/{primary_folder}/data/feature_prep/stock_bars_5D.parquet')\n",
    "# base_df = pd.read_parquet(f'{s3_prefix}{bucket}/{primary_folder}/data/processed/stock_bars_15min.parquet')"
   ]
  },
  {
   "cell_type": "code",
   "execution_count": 4,
   "id": "5c183f8d-8621-4bd5-afac-b22e07cd1b7c",
   "metadata": {
    "tags": []
   },
   "outputs": [],
   "source": [
    "x = df1[df1.symbol=='SPY']\n",
    "y = df2[df2.symbol=='SPY']"
   ]
  },
  {
   "cell_type": "markdown",
   "id": "c332452e-f446-4f78-8374-b9c4300cdfef",
   "metadata": {},
   "source": [
    "### rsi"
   ]
  },
  {
   "cell_type": "code",
   "execution_count": 8,
   "id": "502608ab-0840-41d1-85e4-dbca3dbb4a9a",
   "metadata": {
    "tags": []
   },
   "outputs": [
    {
     "data": {
      "text/html": [
       "<div>\n",
       "<style scoped>\n",
       "    .dataframe tbody tr th:only-of-type {\n",
       "        vertical-align: middle;\n",
       "    }\n",
       "\n",
       "    .dataframe tbody tr th {\n",
       "        vertical-align: top;\n",
       "    }\n",
       "\n",
       "    .dataframe thead th {\n",
       "        text-align: right;\n",
       "    }\n",
       "</style>\n",
       "<table border=\"1\" class=\"dataframe\">\n",
       "  <thead>\n",
       "    <tr style=\"text-align: right;\">\n",
       "      <th></th>\n",
       "      <th>symbol</th>\n",
       "      <th>timestamp</th>\n",
       "      <th>open</th>\n",
       "      <th>high</th>\n",
       "      <th>low</th>\n",
       "      <th>close</th>\n",
       "      <th>volume</th>\n",
       "      <th>trade_count</th>\n",
       "      <th>vwap</th>\n",
       "      <th>us_eastern_date</th>\n",
       "      <th>...</th>\n",
       "      <th>open_ema_20m</th>\n",
       "      <th>open_sma_20m</th>\n",
       "      <th>high_ema_20m</th>\n",
       "      <th>high_sma_20m</th>\n",
       "      <th>low_ema_20m</th>\n",
       "      <th>low_sma_20m</th>\n",
       "      <th>close_ema_20m</th>\n",
       "      <th>close_sma_20m</th>\n",
       "      <th>volume_ema_20m</th>\n",
       "      <th>volume_sma_20m</th>\n",
       "    </tr>\n",
       "    <tr>\n",
       "      <th>us_eastern_timestamp</th>\n",
       "      <th></th>\n",
       "      <th></th>\n",
       "      <th></th>\n",
       "      <th></th>\n",
       "      <th></th>\n",
       "      <th></th>\n",
       "      <th></th>\n",
       "      <th></th>\n",
       "      <th></th>\n",
       "      <th></th>\n",
       "      <th></th>\n",
       "      <th></th>\n",
       "      <th></th>\n",
       "      <th></th>\n",
       "      <th></th>\n",
       "      <th></th>\n",
       "      <th></th>\n",
       "      <th></th>\n",
       "      <th></th>\n",
       "      <th></th>\n",
       "      <th></th>\n",
       "    </tr>\n",
       "  </thead>\n",
       "  <tbody>\n",
       "    <tr>\n",
       "      <th>2019-12-31 19:01:00</th>\n",
       "      <td>SPY</td>\n",
       "      <td>2020-01-01 00:01:00+00:00</td>\n",
       "      <td>322.36</td>\n",
       "      <td>322.36</td>\n",
       "      <td>322.36</td>\n",
       "      <td>322.36</td>\n",
       "      <td>1073.0</td>\n",
       "      <td>23.0</td>\n",
       "      <td>322.36</td>\n",
       "      <td>2019-12-31</td>\n",
       "      <td>...</td>\n",
       "      <td>322.360000</td>\n",
       "      <td>NaN</td>\n",
       "      <td>322.360000</td>\n",
       "      <td>NaN</td>\n",
       "      <td>322.360000</td>\n",
       "      <td>NaN</td>\n",
       "      <td>322.360000</td>\n",
       "      <td>NaN</td>\n",
       "      <td>1073.000000</td>\n",
       "      <td>NaN</td>\n",
       "    </tr>\n",
       "    <tr>\n",
       "      <th>2019-12-31 19:11:00</th>\n",
       "      <td>SPY</td>\n",
       "      <td>2020-01-01 00:11:00+00:00</td>\n",
       "      <td>322.38</td>\n",
       "      <td>322.38</td>\n",
       "      <td>322.38</td>\n",
       "      <td>322.38</td>\n",
       "      <td>300.0</td>\n",
       "      <td>6.0</td>\n",
       "      <td>322.38</td>\n",
       "      <td>2019-12-31</td>\n",
       "      <td>...</td>\n",
       "      <td>322.361905</td>\n",
       "      <td>NaN</td>\n",
       "      <td>322.361905</td>\n",
       "      <td>NaN</td>\n",
       "      <td>322.361905</td>\n",
       "      <td>NaN</td>\n",
       "      <td>322.361905</td>\n",
       "      <td>NaN</td>\n",
       "      <td>999.380952</td>\n",
       "      <td>NaN</td>\n",
       "    </tr>\n",
       "    <tr>\n",
       "      <th>2019-12-31 19:12:00</th>\n",
       "      <td>SPY</td>\n",
       "      <td>2020-01-01 00:12:00+00:00</td>\n",
       "      <td>322.38</td>\n",
       "      <td>322.38</td>\n",
       "      <td>322.38</td>\n",
       "      <td>322.38</td>\n",
       "      <td>2400.0</td>\n",
       "      <td>16.0</td>\n",
       "      <td>322.38</td>\n",
       "      <td>2019-12-31</td>\n",
       "      <td>...</td>\n",
       "      <td>322.363628</td>\n",
       "      <td>NaN</td>\n",
       "      <td>322.363628</td>\n",
       "      <td>NaN</td>\n",
       "      <td>322.363628</td>\n",
       "      <td>NaN</td>\n",
       "      <td>322.363628</td>\n",
       "      <td>NaN</td>\n",
       "      <td>1132.773243</td>\n",
       "      <td>NaN</td>\n",
       "    </tr>\n",
       "    <tr>\n",
       "      <th>2019-12-31 19:14:00</th>\n",
       "      <td>SPY</td>\n",
       "      <td>2020-01-01 00:14:00+00:00</td>\n",
       "      <td>322.35</td>\n",
       "      <td>322.35</td>\n",
       "      <td>322.35</td>\n",
       "      <td>322.35</td>\n",
       "      <td>200.0</td>\n",
       "      <td>1.0</td>\n",
       "      <td>322.35</td>\n",
       "      <td>2019-12-31</td>\n",
       "      <td>...</td>\n",
       "      <td>322.362330</td>\n",
       "      <td>NaN</td>\n",
       "      <td>322.362330</td>\n",
       "      <td>NaN</td>\n",
       "      <td>322.362330</td>\n",
       "      <td>NaN</td>\n",
       "      <td>322.362330</td>\n",
       "      <td>NaN</td>\n",
       "      <td>1043.937696</td>\n",
       "      <td>NaN</td>\n",
       "    </tr>\n",
       "    <tr>\n",
       "      <th>2019-12-31 19:18:00</th>\n",
       "      <td>SPY</td>\n",
       "      <td>2020-01-01 00:18:00+00:00</td>\n",
       "      <td>322.38</td>\n",
       "      <td>322.38</td>\n",
       "      <td>322.38</td>\n",
       "      <td>322.38</td>\n",
       "      <td>1910.0</td>\n",
       "      <td>28.0</td>\n",
       "      <td>322.38</td>\n",
       "      <td>2019-12-31</td>\n",
       "      <td>...</td>\n",
       "      <td>322.364013</td>\n",
       "      <td>NaN</td>\n",
       "      <td>322.364013</td>\n",
       "      <td>NaN</td>\n",
       "      <td>322.364013</td>\n",
       "      <td>NaN</td>\n",
       "      <td>322.364013</td>\n",
       "      <td>NaN</td>\n",
       "      <td>1126.419820</td>\n",
       "      <td>NaN</td>\n",
       "    </tr>\n",
       "  </tbody>\n",
       "</table>\n",
       "<p>5 rows × 61 columns</p>\n",
       "</div>"
      ],
      "text/plain": [
       "                     symbol                 timestamp    open    high     low  \\\n",
       "us_eastern_timestamp                                                            \n",
       "2019-12-31 19:01:00     SPY 2020-01-01 00:01:00+00:00  322.36  322.36  322.36   \n",
       "2019-12-31 19:11:00     SPY 2020-01-01 00:11:00+00:00  322.38  322.38  322.38   \n",
       "2019-12-31 19:12:00     SPY 2020-01-01 00:12:00+00:00  322.38  322.38  322.38   \n",
       "2019-12-31 19:14:00     SPY 2020-01-01 00:14:00+00:00  322.35  322.35  322.35   \n",
       "2019-12-31 19:18:00     SPY 2020-01-01 00:18:00+00:00  322.38  322.38  322.38   \n",
       "\n",
       "                       close  volume  trade_count    vwap us_eastern_date  \\\n",
       "us_eastern_timestamp                                                        \n",
       "2019-12-31 19:01:00   322.36  1073.0         23.0  322.36      2019-12-31   \n",
       "2019-12-31 19:11:00   322.38   300.0          6.0  322.38      2019-12-31   \n",
       "2019-12-31 19:12:00   322.38  2400.0         16.0  322.38      2019-12-31   \n",
       "2019-12-31 19:14:00   322.35   200.0          1.0  322.35      2019-12-31   \n",
       "2019-12-31 19:18:00   322.38  1910.0         28.0  322.38      2019-12-31   \n",
       "\n",
       "                      ...  open_ema_20m  open_sma_20m  high_ema_20m  \\\n",
       "us_eastern_timestamp  ...                                             \n",
       "2019-12-31 19:01:00   ...    322.360000           NaN    322.360000   \n",
       "2019-12-31 19:11:00   ...    322.361905           NaN    322.361905   \n",
       "2019-12-31 19:12:00   ...    322.363628           NaN    322.363628   \n",
       "2019-12-31 19:14:00   ...    322.362330           NaN    322.362330   \n",
       "2019-12-31 19:18:00   ...    322.364013           NaN    322.364013   \n",
       "\n",
       "                      high_sma_20m  low_ema_20m  low_sma_20m  close_ema_20m  \\\n",
       "us_eastern_timestamp                                                          \n",
       "2019-12-31 19:01:00            NaN   322.360000          NaN     322.360000   \n",
       "2019-12-31 19:11:00            NaN   322.361905          NaN     322.361905   \n",
       "2019-12-31 19:12:00            NaN   322.363628          NaN     322.363628   \n",
       "2019-12-31 19:14:00            NaN   322.362330          NaN     322.362330   \n",
       "2019-12-31 19:18:00            NaN   322.364013          NaN     322.364013   \n",
       "\n",
       "                      close_sma_20m  volume_ema_20m  volume_sma_20m  \n",
       "us_eastern_timestamp                                                 \n",
       "2019-12-31 19:01:00             NaN     1073.000000             NaN  \n",
       "2019-12-31 19:11:00             NaN      999.380952             NaN  \n",
       "2019-12-31 19:12:00             NaN     1132.773243             NaN  \n",
       "2019-12-31 19:14:00             NaN     1043.937696             NaN  \n",
       "2019-12-31 19:18:00             NaN     1126.419820             NaN  \n",
       "\n",
       "[5 rows x 61 columns]"
      ]
     },
     "execution_count": 8,
     "metadata": {},
     "output_type": "execute_result"
    }
   ],
   "source": [
    "x.head()"
   ]
  },
  {
   "cell_type": "code",
   "execution_count": 24,
   "id": "f42f0dec-07ec-4b7b-b48d-36c27e0f20d3",
   "metadata": {
    "tags": []
   },
   "outputs": [
    {
     "data": {
      "text/plain": [
       "['close',\n",
       " 'close_ema_2m',\n",
       " 'close_sma_2m',\n",
       " 'close_ema_3m',\n",
       " 'close_sma_3m',\n",
       " 'close_ema_5m',\n",
       " 'close_sma_5m',\n",
       " 'close_ema_10m',\n",
       " 'close_sma_10m',\n",
       " 'close_ema_20m',\n",
       " 'close_sma_20m']"
      ]
     },
     "execution_count": 24,
     "metadata": {},
     "output_type": "execute_result"
    }
   ],
   "source": [
    "[z for z in x.columns if 'close' in z]"
   ]
  },
  {
   "cell_type": "code",
   "execution_count": 6,
   "id": "abd3e30d-3acc-4740-8597-39a3c6470872",
   "metadata": {
    "tags": []
   },
   "outputs": [],
   "source": []
  },
  {
   "cell_type": "code",
   "execution_count": null,
   "id": "b3406f5b-db13-4c31-adb2-2a34dfe80541",
   "metadata": {},
   "outputs": [],
   "source": []
  },
  {
   "cell_type": "code",
   "execution_count": null,
   "id": "23b04349-8104-4712-a3c2-269d0e0cafaa",
   "metadata": {},
   "outputs": [],
   "source": []
  },
  {
   "cell_type": "code",
   "execution_count": null,
   "id": "c6c583bc-bda9-4605-822b-39376662803d",
   "metadata": {},
   "outputs": [],
   "source": []
  },
  {
   "cell_type": "code",
   "execution_count": null,
   "id": "e109223a-e2e0-4e78-9fb9-30ca0cd15938",
   "metadata": {},
   "outputs": [],
   "source": []
  },
  {
   "cell_type": "code",
   "execution_count": null,
   "id": "88169d1f-67ea-4159-8d7d-2339068cb693",
   "metadata": {},
   "outputs": [],
   "source": []
  },
  {
   "cell_type": "code",
   "execution_count": null,
   "id": "f969040d-f919-4a97-a386-a3fe14520697",
   "metadata": {},
   "outputs": [],
   "source": []
  },
  {
   "cell_type": "code",
   "execution_count": null,
   "id": "1e3fdc3c-465a-48cc-af2a-6689711ba475",
   "metadata": {},
   "outputs": [],
   "source": []
  }
 ],
 "metadata": {
  "kernelspec": {
   "display_name": "conda_python3",
   "language": "python",
   "name": "conda_python3"
  },
  "language_info": {
   "codemirror_mode": {
    "name": "ipython",
    "version": 3
   },
   "file_extension": ".py",
   "mimetype": "text/x-python",
   "name": "python",
   "nbconvert_exporter": "python",
   "pygments_lexer": "ipython3",
   "version": "3.10.15"
  }
 },
 "nbformat": 4,
 "nbformat_minor": 5
}
