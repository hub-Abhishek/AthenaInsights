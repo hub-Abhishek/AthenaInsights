{
 "cells": [
  {
   "cell_type": "code",
   "execution_count": 1,
   "id": "772c7907-1461-420b-9b47-318d5fc05d1e",
   "metadata": {
    "tags": []
   },
   "outputs": [],
   "source": [
    "import pandas as pd\n",
    "import numpy as np\n",
    "import warnings\n",
    "import boto3\n",
    "import re\n",
    "from tqdm import tqdm\n",
    "warnings.filterwarnings(\"ignore\")"
   ]
  },
  {
   "cell_type": "markdown",
   "id": "8937e751-fa0c-4a9d-8ff3-39df5d0586c8",
   "metadata": {},
   "source": [
    "### data"
   ]
  },
  {
   "cell_type": "code",
   "execution_count": 2,
   "id": "cd5d93d7-3f09-4e56-a507-6593b48b648d",
   "metadata": {
    "tags": []
   },
   "outputs": [],
   "source": [
    "client = boto3.client('s3')"
   ]
  },
  {
   "cell_type": "code",
   "execution_count": 3,
   "id": "c642adbb-e807-41a0-82a6-8e292f932a4a",
   "metadata": {
    "tags": []
   },
   "outputs": [],
   "source": [
    "s3_prefix = 's3://'\n",
    "bucket = 'sisyphus-general-bucket'\n",
    "primary_folder = 'AthenaInsights'"
   ]
  },
  {
   "cell_type": "code",
   "execution_count": 4,
   "id": "66e986e9-7758-43d2-8463-9f825e6bce8c",
   "metadata": {
    "tags": []
   },
   "outputs": [],
   "source": [
    "response = client.list_objects_v2(\n",
    "    Bucket=bucket,\n",
    "    Prefix=f'{primary_folder}/data/feature_prep/')"
   ]
  },
  {
   "cell_type": "code",
   "execution_count": 5,
   "id": "44774a9b-c2d0-4281-afbc-db3637832641",
   "metadata": {
    "tags": []
   },
   "outputs": [],
   "source": [
    "paths = []\n",
    "for content in response.get('Contents', []):\n",
    "    # print(f\"{s3_prefix}{bucket}/{content['Key']}\")\n",
    "    paths.append(f\"{s3_prefix}{bucket}/{content['Key']}\")"
   ]
  },
  {
   "cell_type": "code",
   "execution_count": 6,
   "id": "749428bf-b50a-43f7-9f92-e93c3da26c0e",
   "metadata": {
    "tags": []
   },
   "outputs": [
    {
     "data": {
      "text/plain": [
       "['s3://sisyphus-general-bucket/AthenaInsights/data/feature_prep/stock_bars_100D.parquet',\n",
       " 's3://sisyphus-general-bucket/AthenaInsights/data/feature_prep/stock_bars_100D_rsi.parquet',\n",
       " 's3://sisyphus-general-bucket/AthenaInsights/data/feature_prep/stock_bars_10D.parquet',\n",
       " 's3://sisyphus-general-bucket/AthenaInsights/data/feature_prep/stock_bars_10D_rsi.parquet',\n",
       " 's3://sisyphus-general-bucket/AthenaInsights/data/feature_prep/stock_bars_10min.parquet',\n",
       " 's3://sisyphus-general-bucket/AthenaInsights/data/feature_prep/stock_bars_10min_rsi.parquet',\n",
       " 's3://sisyphus-general-bucket/AthenaInsights/data/feature_prep/stock_bars_120min.parquet',\n",
       " 's3://sisyphus-general-bucket/AthenaInsights/data/feature_prep/stock_bars_120min_rsi.parquet',\n",
       " 's3://sisyphus-general-bucket/AthenaInsights/data/feature_prep/stock_bars_150D.parquet',\n",
       " 's3://sisyphus-general-bucket/AthenaInsights/data/feature_prep/stock_bars_150D_rsi.parquet',\n",
       " 's3://sisyphus-general-bucket/AthenaInsights/data/feature_prep/stock_bars_15D.parquet',\n",
       " 's3://sisyphus-general-bucket/AthenaInsights/data/feature_prep/stock_bars_15D_rsi.parquet',\n",
       " 's3://sisyphus-general-bucket/AthenaInsights/data/feature_prep/stock_bars_15min.parquet',\n",
       " 's3://sisyphus-general-bucket/AthenaInsights/data/feature_prep/stock_bars_15min_rsi.parquet',\n",
       " 's3://sisyphus-general-bucket/AthenaInsights/data/feature_prep/stock_bars_180min.parquet',\n",
       " 's3://sisyphus-general-bucket/AthenaInsights/data/feature_prep/stock_bars_180min_rsi.parquet',\n",
       " 's3://sisyphus-general-bucket/AthenaInsights/data/feature_prep/stock_bars_1D.parquet',\n",
       " 's3://sisyphus-general-bucket/AthenaInsights/data/feature_prep/stock_bars_1D_rsi.parquet',\n",
       " 's3://sisyphus-general-bucket/AthenaInsights/data/feature_prep/stock_bars_1min.parquet',\n",
       " 's3://sisyphus-general-bucket/AthenaInsights/data/feature_prep/stock_bars_1min_rsi.parquet',\n",
       " 's3://sisyphus-general-bucket/AthenaInsights/data/feature_prep/stock_bars_200D.parquet',\n",
       " 's3://sisyphus-general-bucket/AthenaInsights/data/feature_prep/stock_bars_200D_rsi.parquet',\n",
       " 's3://sisyphus-general-bucket/AthenaInsights/data/feature_prep/stock_bars_20D.parquet',\n",
       " 's3://sisyphus-general-bucket/AthenaInsights/data/feature_prep/stock_bars_20D_rsi.parquet',\n",
       " 's3://sisyphus-general-bucket/AthenaInsights/data/feature_prep/stock_bars_20min.parquet',\n",
       " 's3://sisyphus-general-bucket/AthenaInsights/data/feature_prep/stock_bars_20min_rsi.parquet',\n",
       " 's3://sisyphus-general-bucket/AthenaInsights/data/feature_prep/stock_bars_240min.parquet',\n",
       " 's3://sisyphus-general-bucket/AthenaInsights/data/feature_prep/stock_bars_240min_rsi.parquet',\n",
       " 's3://sisyphus-general-bucket/AthenaInsights/data/feature_prep/stock_bars_25min.parquet',\n",
       " 's3://sisyphus-general-bucket/AthenaInsights/data/feature_prep/stock_bars_25min_rsi.parquet',\n",
       " 's3://sisyphus-general-bucket/AthenaInsights/data/feature_prep/stock_bars_2D.parquet',\n",
       " 's3://sisyphus-general-bucket/AthenaInsights/data/feature_prep/stock_bars_2D_rsi.parquet',\n",
       " 's3://sisyphus-general-bucket/AthenaInsights/data/feature_prep/stock_bars_2min.parquet',\n",
       " 's3://sisyphus-general-bucket/AthenaInsights/data/feature_prep/stock_bars_2min_rsi.parquet',\n",
       " 's3://sisyphus-general-bucket/AthenaInsights/data/feature_prep/stock_bars_30D.parquet',\n",
       " 's3://sisyphus-general-bucket/AthenaInsights/data/feature_prep/stock_bars_30D_rsi.parquet',\n",
       " 's3://sisyphus-general-bucket/AthenaInsights/data/feature_prep/stock_bars_30min.parquet',\n",
       " 's3://sisyphus-general-bucket/AthenaInsights/data/feature_prep/stock_bars_30min_rsi.parquet',\n",
       " 's3://sisyphus-general-bucket/AthenaInsights/data/feature_prep/stock_bars_3D.parquet',\n",
       " 's3://sisyphus-general-bucket/AthenaInsights/data/feature_prep/stock_bars_3D_rsi.parquet',\n",
       " 's3://sisyphus-general-bucket/AthenaInsights/data/feature_prep/stock_bars_3min.parquet',\n",
       " 's3://sisyphus-general-bucket/AthenaInsights/data/feature_prep/stock_bars_3min_rsi.parquet',\n",
       " 's3://sisyphus-general-bucket/AthenaInsights/data/feature_prep/stock_bars_50D.parquet',\n",
       " 's3://sisyphus-general-bucket/AthenaInsights/data/feature_prep/stock_bars_50D_rsi.parquet',\n",
       " 's3://sisyphus-general-bucket/AthenaInsights/data/feature_prep/stock_bars_5D.parquet',\n",
       " 's3://sisyphus-general-bucket/AthenaInsights/data/feature_prep/stock_bars_5D_rsi.parquet',\n",
       " 's3://sisyphus-general-bucket/AthenaInsights/data/feature_prep/stock_bars_5min.parquet',\n",
       " 's3://sisyphus-general-bucket/AthenaInsights/data/feature_prep/stock_bars_5min_rsi.parquet',\n",
       " 's3://sisyphus-general-bucket/AthenaInsights/data/feature_prep/stock_bars_60min.parquet',\n",
       " 's3://sisyphus-general-bucket/AthenaInsights/data/feature_prep/stock_bars_60min_rsi.parquet']"
      ]
     },
     "execution_count": 6,
     "metadata": {},
     "output_type": "execute_result"
    }
   ],
   "source": [
    "paths"
   ]
  },
  {
   "cell_type": "code",
   "execution_count": null,
   "id": "df135ec3-5187-4113-8b89-24588d5760f4",
   "metadata": {},
   "outputs": [
    {
     "name": "stderr",
     "output_type": "stream",
     "text": [
      "  0%|          | 0/50 [00:00<?, ?it/s]"
     ]
    },
    {
     "name": "stdout",
     "output_type": "stream",
     "text": [
      "Reading from s3://sisyphus-general-bucket/AthenaInsights/data/feature_prep/stock_bars_100D.parquet\n",
      "here\n",
      "(18, 8)\n",
      "here\n",
      "(18, 71)\n",
      "here\n",
      "(18, 7295)\n"
     ]
    }
   ],
   "source": [
    "def calculate_macd(df, signal=14, ema_columns=[]):\n",
    "    for i in range(len(ema_columns)):\n",
    "        for j in range(i + 1, len(ema_columns)):\n",
    "            fast_ema = ema_columns[i]\n",
    "            slow_ema = ema_columns[j]\n",
    "\n",
    "            # Calculate MACD\n",
    "            # macd_col_name = f'MACD_{fast_ema}_{slow_ema}'\n",
    "            # df[macd_col_name] = df[fast_ema] - df[slow_ema]\n",
    "\n",
    "            # Calculate Signal line\n",
    "            signal_col_name = f'Signal_{fast_ema}_{slow_ema}_signal{signal}'\n",
    "            # df[signal_col_name] = df[macd_col_name].ewm(span=signal, adjust=False).mean()\n",
    "            df[signal_col_name] = (df[fast_ema] - df[slow_ema]).ewm(span=signal, adjust=False).mean()\n",
    "            \n",
    "\n",
    "            # # Calculate Histogram\n",
    "            # histogram_col_name = f'Histogram_{fast_ema}_{slow_ema}_signal{signal}'\n",
    "            # df[histogram_col_name] = df[macd_col_name] - df[signal_col_name]\n",
    "    return df\n",
    "\n",
    "\n",
    "def read_and_calculate_macd(path, signals):\n",
    "    print(f'Reading from {path}')\n",
    "    df = pd.read_parquet(path)\n",
    "    fields = [z for z in df.columns if 'close_ema' in z]\n",
    "    df = df[['symbol'] + fields]\n",
    "    grouped = df.groupby('symbol')\n",
    "    results = []\n",
    "\n",
    "    for symbol, group in grouped:\n",
    "        ema_columns = [z for z in group.columns if z!='symbol']\n",
    "        ema_columns = sorted(ema_columns, key=lambda x: int(re.search(r'\\d+', x).group()))\n",
    "        for signal in signals:\n",
    "            print(f'for signal = {signal}')\n",
    "            group = calculate_macd(group, signal, ema_columns)\n",
    "        results.append(group)\n",
    "\n",
    "    # Concatenate all the grouped results back into a single DataFrame\n",
    "    df = pd.concat(results)\n",
    "    loc = path.replace('.parquet', '_macd.parquet')\n",
    "    print(f'Saving to {loc}')\n",
    "    df.to_parquet(loc)\n",
    "    del df, group, results\n",
    "\n",
    "\n",
    "for path in tqdm(paths):\n",
    "    name = path.split('/')[-1].split('.')[0].split('_')[-1]\n",
    "    if 'rsi' in name or 'macd' in name:\n",
    "        continue\n",
    "    # if 'min' in name and int(name.replace('min', '')) < 100:  # Process files for <100 min\n",
    "    if 'min' in name:\n",
    "        if int(name.replace('min', ''))<=10:\n",
    "            signal = [11, 13, 17, 20, 26]\n",
    "        elif int(name.replace('min', ''))<=30:\n",
    "            signal = [11, 13, 17, 20, 26]\n",
    "        else:\n",
    "            signal = [11, 13, 17, 20, 26, 30, 50]\n",
    "    elif 'D' in name:\n",
    "        if int(name.replace('D', '')) < 100:\n",
    "            signal = [11, 13, 17, 20, 26]\n",
    "        else: \n",
    "            signal = [11, 13, 17, 20, 26, 30, 50]\n",
    "    read_and_calculate_macd(path, signal)"
   ]
  },
  {
   "cell_type": "code",
   "execution_count": null,
   "id": "16a69ee9-0ca0-417d-a55d-2eb8d72f98c3",
   "metadata": {},
   "outputs": [],
   "source": []
  }
 ],
 "metadata": {
  "kernelspec": {
   "display_name": "conda_python3",
   "language": "python",
   "name": "conda_python3"
  },
  "language_info": {
   "codemirror_mode": {
    "name": "ipython",
    "version": 3
   },
   "file_extension": ".py",
   "mimetype": "text/x-python",
   "name": "python",
   "nbconvert_exporter": "python",
   "pygments_lexer": "ipython3",
   "version": "3.10.15"
  }
 },
 "nbformat": 4,
 "nbformat_minor": 5
}
