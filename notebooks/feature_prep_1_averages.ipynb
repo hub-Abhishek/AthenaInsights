{
 "cells": [
  {
   "cell_type": "code",
   "execution_count": 1,
   "metadata": {
    "tags": []
   },
   "outputs": [],
   "source": [
    "import boto3\n",
    "import pandas as pd\n",
    "import numpy as np\n",
    "import warnings\n",
    "from tqdm import tqdm\n",
    "warnings.filterwarnings(\"ignore\")"
   ]
  },
  {
   "cell_type": "markdown",
   "metadata": {},
   "source": [
    "### data"
   ]
  },
  {
   "cell_type": "code",
   "execution_count": 2,
   "metadata": {
    "tags": []
   },
   "outputs": [],
   "source": [
    "client = boto3.client('s3')"
   ]
  },
  {
   "cell_type": "code",
   "execution_count": 3,
   "metadata": {
    "tags": []
   },
   "outputs": [],
   "source": [
    "s3_prefix = 's3://'\n",
    "bucket = 'sisyphus-general-bucket'\n",
    "primary_folder = 'AthenaInsights'"
   ]
  },
  {
   "cell_type": "code",
   "execution_count": 4,
   "metadata": {
    "tags": []
   },
   "outputs": [],
   "source": [
    "response = client.list_objects_v2(\n",
    "    Bucket=bucket,\n",
    "    Prefix=f'{primary_folder}/data/data_prep/')"
   ]
  },
  {
   "cell_type": "code",
   "execution_count": 5,
   "metadata": {
    "tags": []
   },
   "outputs": [],
   "source": [
    "files = []\n",
    "all_symbols = set()"
   ]
  },
  {
   "cell_type": "code",
   "execution_count": 6,
   "metadata": {
    "tags": []
   },
   "outputs": [],
   "source": [
    "paths = []\n",
    "for content in response.get('Contents', []):\n",
    "    # print(f\"{s3_prefix}{bucket}/{content['Key']}\")\n",
    "    paths.append(f\"{s3_prefix}{bucket}/{content['Key']}\")"
   ]
  },
  {
   "cell_type": "code",
   "execution_count": 7,
   "metadata": {
    "tags": []
   },
   "outputs": [],
   "source": [
    "def calculate_ma(df, ema=True, sma=True, calc_windows=[]):\n",
    "    # Function to apply moving averages\n",
    "    def apply_moving_averages(group):\n",
    "        for window in tqdm(calc_windows):\n",
    "            for price in ['open', 'high', 'low', 'close', 'volume']:\n",
    "                if ema:\n",
    "                    group[f'{price}_ema_{window}m'] = group[price].ewm(span=window, adjust=False).mean()\n",
    "                if sma:\n",
    "                    group[f'{price}_sma_{window}m'] = group[price].rolling(window=window).mean()\n",
    "        return group\n",
    "\n",
    "    # Apply function by group\n",
    "    return df.groupby('symbol').apply(apply_moving_averages)"
   ]
  },
  {
   "cell_type": "code",
   "execution_count": null,
   "metadata": {
    "tags": []
   },
   "outputs": [
    {
     "name": "stdout",
     "output_type": "stream",
     "text": [
      "s3://sisyphus-general-bucket/AthenaInsights/data/data_prep/stock_bars_100D.parquet\n"
     ]
    },
    {
     "name": "stderr",
     "output_type": "stream",
     "text": [
      "100%|██████████| 4/4 [00:00<00:00, 61.93it/s]\n",
      "100%|██████████| 4/4 [00:00<00:00, 88.27it/s]\n",
      "100%|██████████| 4/4 [00:00<00:00, 136.12it/s]\n",
      "100%|██████████| 4/4 [00:00<00:00, 109.62it/s]\n",
      "100%|██████████| 4/4 [00:00<00:00, 127.91it/s]\n"
     ]
    },
    {
     "name": "stdout",
     "output_type": "stream",
     "text": [
      "written to s3://sisyphus-general-bucket/AthenaInsights/data/feature_prep/stock_bars_100D.parquet\n",
      "s3://sisyphus-general-bucket/AthenaInsights/data/data_prep/stock_bars_10D.parquet\n"
     ]
    },
    {
     "name": "stderr",
     "output_type": "stream",
     "text": [
      "100%|██████████| 9/9 [00:00<00:00, 83.80it/s]\n",
      "100%|██████████| 9/9 [00:00<00:00, 138.47it/s]\n",
      "100%|██████████| 9/9 [00:00<00:00, 104.49it/s]\n",
      "100%|██████████| 9/9 [00:00<00:00, 134.02it/s]\n",
      "100%|██████████| 9/9 [00:00<00:00, 137.97it/s]\n"
     ]
    },
    {
     "name": "stdout",
     "output_type": "stream",
     "text": [
      "written to s3://sisyphus-general-bucket/AthenaInsights/data/feature_prep/stock_bars_10D.parquet\n",
      "s3://sisyphus-general-bucket/AthenaInsights/data/data_prep/stock_bars_10min.parquet\n"
     ]
    },
    {
     "name": "stderr",
     "output_type": "stream",
     "text": [
      "100%|██████████| 5/5 [00:00<00:00, 13.80it/s]\n",
      "100%|██████████| 5/5 [00:00<00:00, 22.05it/s]\n",
      "100%|██████████| 5/5 [00:00<00:00, 14.25it/s]\n",
      "100%|██████████| 5/5 [00:00<00:00, 13.93it/s]\n",
      "100%|██████████| 5/5 [00:00<00:00, 13.41it/s]\n"
     ]
    }
   ],
   "source": [
    "for path in paths:\n",
    "    name = path.split('/')[-1].split('.')[0].split('_')[-1]\n",
    "    if 'min' in name:\n",
    "        window = int(name.replace('min', ''))\n",
    "        period = 'min'\n",
    "    elif 'D' in name:\n",
    "        window = int(name.replace('D', ''))\n",
    "        period = 'D'\n",
    "    if period=='D':\n",
    "        if window < 100:\n",
    "            calc_windows = [2, 3, 5, 10, 15, 20, 50, 100, 200]\n",
    "        else: \n",
    "            calc_windows = [5, 10, 20, 50]\n",
    "    else:\n",
    "        if window <= 30:\n",
    "            calc_windows = [2, 3, 5, 10, 20]\n",
    "        else:\n",
    "            calc_windows = [5, 10, 20, 50, 100, 200]\n",
    "    print(path)\n",
    "    df = pd.read_parquet(path)\n",
    "    df = calculate_ma(df, calc_windows=calc_windows).droplevel(0)\n",
    "    df.to_parquet(path.replace('data_prep', 'feature_prep'))\n",
    "    print(f\"written to {path.replace('data_prep', 'feature_prep')}\")    "
   ]
  }
 ],
 "metadata": {
  "kernelspec": {
   "display_name": "conda_python3",
   "language": "python",
   "name": "conda_python3"
  },
  "language_info": {
   "codemirror_mode": {
    "name": "ipython",
    "version": 3
   },
   "file_extension": ".py",
   "mimetype": "text/x-python",
   "name": "python",
   "nbconvert_exporter": "python",
   "pygments_lexer": "ipython3",
   "version": "3.10.15"
  }
 },
 "nbformat": 4,
 "nbformat_minor": 4
}
